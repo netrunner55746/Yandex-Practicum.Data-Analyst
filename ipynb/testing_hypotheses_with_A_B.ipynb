{
 "cells": [
  {
   "cell_type": "markdown",
   "metadata": {},
   "source": [
    "# Проверка гипотез с помощью A/B-тестирования"
   ]
  },
  {
   "cell_type": "markdown",
   "metadata": {},
   "source": [
    "# Введение"
   ]
  },
  {
   "cell_type": "markdown",
   "metadata": {},
   "source": [
    "**Проект направлен** на подтверждение/опровержение гипотез по увеличению выручки интернет-магазина."
   ]
  },
  {
   "cell_type": "markdown",
   "metadata": {},
   "source": [
    "**Цель исследования**:\n",
    "\n",
    "* Провести приоритизацию гипотез с использованием фреймворков ICE и RICE;\n",
    "* Проанализировать результаты инициированного A/B-тестирования;\n",
    "* Сделать выводы по исследуемым параметрам и принять решение по продолжению/остановке тестирования."
   ]
  },
  {
   "cell_type": "markdown",
   "metadata": {},
   "source": [
    "**Описание исходных данных:**\n",
    "\n",
    "В файле /datasets/hypothesis.csv 9 гипотез по увеличению выручки интернет-магазина, результаты проведенного A/B-теста описаны в файлах /datasets/orders.csv и /datasets/visitors.csv\n",
    "\n",
    "Структура hypothesis.csv:\n",
    "* *Hypothesis* — краткое описание гипотезы;\n",
    "* *Reach* — охват пользователей по 10-балльной шкале;\n",
    "* *Impact* — влияние на пользователей по 10-балльной шкале;\n",
    "* *Confidence* — уверенность в гипотезе по 10-балльной шкале;\n",
    "* *Efforts* — затраты ресурсов на проверку гипотезы по 10-балльной шкале.\n",
    "\n",
    "Структура orders.csv:\n",
    "* *transactionId* — идентификатор заказа;\n",
    "* *visitorId* — идентификатор пользователя, совершившего заказ;\n",
    "* *date* — дата, когда был совершён заказ;\n",
    "* *revenue* — выручка заказа;\n",
    "* *group* — группа A/B-теста, в которую попал заказ.\n",
    "\n",
    "Структура visitors.csv:\n",
    "* *date* — дата;\n",
    "* *group* — группа A/B-теста;\n",
    "* *visitors* — количество пользователей в указанную дату в указанной группе A/B-теста."
   ]
  },
  {
   "cell_type": "markdown",
   "metadata": {},
   "source": [
    "**Исследование пройдет в 4 основных этапа:**\n",
    "\n",
    " * Обзор исходных данных;\n",
    " * Предобработка исходных данных;\n",
    " * Приоритизация гипотез;\n",
    " * Анализ A/B теста."
   ]
  },
  {
   "cell_type": "markdown",
   "metadata": {},
   "source": [
    "# Содержание <a id=\"Содержание\"></a>"
   ]
  },
  {
   "cell_type": "markdown",
   "metadata": {},
   "source": [
    "1. [Обзор исходных данных](#Обзор-исходных-данных)\n",
    "2. [Предобработка данных](#Предобработка-данных)\n",
    "3. [Приоритизация гипотез](#Приоритизация-гипотез)\n",
    "    * [Применение фреймворка ICE](#Фреймворк-ICE)\n",
    "    * [Применение фреймворка RICE](#Фреймворк-RICE)\n",
    "    * [Разница в приоритизации](#Разница-в-приоритизации)\n",
    "4. [Анализ A/B-теста](#Анализ-теста)\n",
    "    * [График кумулятивной выручки по группам](#График-кумулятивной-выручки-по-группам)\n",
    "    * [График кумулятивного среднего чека по группам](#График-кумулятивного-среднего-чека-по-группам)\n",
    "    * [График кумулятивного среднего чека группы B к группе A](#График-кумулятивного-среднего-чека-группы-B-к-группе-A)\n",
    "    * [График кумулятивного среднего количества заказов на посетителя](#График-кумулятивного-среднего-количества-заказов-на-посетителя)\n",
    "    * [График относительного изменения кумулятивного среднего количества заказов на посетителя группы B к группе A](#График-относительного-изменения-кумулятивного-среднего-количества-заказов-на-посетителя-группы-B-к-группе-A)\n",
    "    * [Точечный график количества заказов по пользователям](#Точечный-график-количества-заказов-по-пользователям)\n",
    "    * [Перцентили количества заказов на пользователя](#Перцентили-количества-заказов-на-пользователя)\n",
    "    * [Точечный график стоимостей заказов](#Точечный-график-стоимостей-заказов)\n",
    "    * [Перцентили стоимости заказов](#Перцентили-стоимости-заказов)\n",
    "    * [Статистическая значимость различий в среднем количестве заказов на посетителя между группами по «сырым» данным](#Статистическая-значимость-различий-в-среднем-количестве-заказов-на-посетителя-между-группами-по-«сырым»-данным)\n",
    "    * [Статистическая значимость различий в среднем чеке заказа между группами по «сырым» данным](#Статистическая-значимость-различий-в-среднем-чеке-заказа-между-группами-по-«сырым»-данным)\n",
    "    * [Статистическая значимость различий в среднем количестве заказов на посетителя между группами по «очищенным» данным](#Статистическая-значимость-различий-в-среднем-количестве-заказов-на-посетителя-между-группами-по-«очищенным»-данным)\n",
    "    * [Статистическая значимость различий в среднем чеке заказа между группами по «очищенным» данным](#Статистическая-значимость-различий-в-среднем-чеке-заказа-между-группами-по-«очищенным»-данным)\n",
    "    * [Необходимость продолжения тестирования](#Необходимость-продолжения-тестирования)\n",
    "5. [Общий вывод](#Общий-вывод)"
   ]
  },
  {
   "cell_type": "markdown",
   "metadata": {},
   "source": [
    "<a id='Обзор-исходных-данных'></a>\n",
    "## Обзор исходных данных"
   ]
  },
  {
   "cell_type": "code",
   "execution_count": 1,
   "metadata": {},
   "outputs": [],
   "source": [
    "#импортируем необходимые для проекта библиотеки\n",
    "import pandas as pd\n",
    "import numpy as np\n",
    "import matplotlib.pyplot as plt\n",
    "from scipy import stats as st\n",
    "import datetime as dt\n",
    "import math\n",
    "\n",
    "#для полного отображения гипотез в таблицах снимем ограничения по длине отображаемых значений\n",
    "pd.set_option('display.max_colwidth', 500)"
   ]
  },
  {
   "cell_type": "code",
   "execution_count": 2,
   "metadata": {},
   "outputs": [],
   "source": [
    "#сохраним датасеты в дф\n",
    "hypothesis, orders, visitors = (pd.read_csv('/datasets/hypothesis.csv'),\n",
    "                                pd.read_csv('/datasets/orders.csv'),\n",
    "                                pd.read_csv('/datasets/visitors.csv'))"
   ]
  },
  {
   "cell_type": "markdown",
   "metadata": {},
   "source": [
    "Проверим предложенные данные:"
   ]
  },
  {
   "cell_type": "code",
   "execution_count": 3,
   "metadata": {},
   "outputs": [],
   "source": [
    "#поскольку у нас 3 дф определим функцию для оптимизации\n",
    "#(откажемся от цикла, чтобы была возможность текстово описать каждый отдельный результат вывода)\n",
    "def data_info(data):\n",
    "    '''\n",
    "    Аргумент функции - название датасета.\n",
    "    Функция выводит первые 5 строк датасета, информацию по нему и гистограммы по числовым столбцам.\n",
    "    '''\n",
    "    display(data.head(9))\n",
    "    data.info()\n",
    "    data.hist(figsize=(15, 5))\n",
    "    plt.show()"
   ]
  },
  {
   "cell_type": "code",
   "execution_count": 4,
   "metadata": {},
   "outputs": [
    {
     "data": {
      "text/html": [
       "<div>\n",
       "<style scoped>\n",
       "    .dataframe tbody tr th:only-of-type {\n",
       "        vertical-align: middle;\n",
       "    }\n",
       "\n",
       "    .dataframe tbody tr th {\n",
       "        vertical-align: top;\n",
       "    }\n",
       "\n",
       "    .dataframe thead th {\n",
       "        text-align: right;\n",
       "    }\n",
       "</style>\n",
       "<table border=\"1\" class=\"dataframe\">\n",
       "  <thead>\n",
       "    <tr style=\"text-align: right;\">\n",
       "      <th></th>\n",
       "      <th>Hypothesis</th>\n",
       "      <th>Reach</th>\n",
       "      <th>Impact</th>\n",
       "      <th>Confidence</th>\n",
       "      <th>Efforts</th>\n",
       "    </tr>\n",
       "  </thead>\n",
       "  <tbody>\n",
       "    <tr>\n",
       "      <th>0</th>\n",
       "      <td>Добавить два новых канала привлечения трафика, что позволит привлекать на 30% больше пользователей</td>\n",
       "      <td>3</td>\n",
       "      <td>10</td>\n",
       "      <td>8</td>\n",
       "      <td>6</td>\n",
       "    </tr>\n",
       "    <tr>\n",
       "      <th>1</th>\n",
       "      <td>Запустить собственную службу доставки, что сократит срок доставки заказов</td>\n",
       "      <td>2</td>\n",
       "      <td>5</td>\n",
       "      <td>4</td>\n",
       "      <td>10</td>\n",
       "    </tr>\n",
       "    <tr>\n",
       "      <th>2</th>\n",
       "      <td>Добавить блоки рекомендаций товаров на сайт интернет магазина, чтобы повысить конверсию и средний чек заказа</td>\n",
       "      <td>8</td>\n",
       "      <td>3</td>\n",
       "      <td>7</td>\n",
       "      <td>3</td>\n",
       "    </tr>\n",
       "    <tr>\n",
       "      <th>3</th>\n",
       "      <td>Изменить структура категорий, что увеличит конверсию, т.к. пользователи быстрее найдут нужный товар</td>\n",
       "      <td>8</td>\n",
       "      <td>3</td>\n",
       "      <td>3</td>\n",
       "      <td>8</td>\n",
       "    </tr>\n",
       "    <tr>\n",
       "      <th>4</th>\n",
       "      <td>Изменить цвет фона главной страницы, чтобы увеличить вовлеченность пользователей</td>\n",
       "      <td>3</td>\n",
       "      <td>1</td>\n",
       "      <td>1</td>\n",
       "      <td>1</td>\n",
       "    </tr>\n",
       "    <tr>\n",
       "      <th>5</th>\n",
       "      <td>Добавить страницу отзывов клиентов о магазине, что позволит увеличить количество заказов</td>\n",
       "      <td>3</td>\n",
       "      <td>2</td>\n",
       "      <td>2</td>\n",
       "      <td>3</td>\n",
       "    </tr>\n",
       "    <tr>\n",
       "      <th>6</th>\n",
       "      <td>Показать на главной странице баннеры с актуальными акциями и распродажами, чтобы увеличить конверсию</td>\n",
       "      <td>5</td>\n",
       "      <td>3</td>\n",
       "      <td>8</td>\n",
       "      <td>3</td>\n",
       "    </tr>\n",
       "    <tr>\n",
       "      <th>7</th>\n",
       "      <td>Добавить форму подписки на все основные страницы, чтобы собрать базу клиентов для email-рассылок</td>\n",
       "      <td>10</td>\n",
       "      <td>7</td>\n",
       "      <td>8</td>\n",
       "      <td>5</td>\n",
       "    </tr>\n",
       "    <tr>\n",
       "      <th>8</th>\n",
       "      <td>Запустить акцию, дающую скидку на товар в день рождения</td>\n",
       "      <td>1</td>\n",
       "      <td>9</td>\n",
       "      <td>9</td>\n",
       "      <td>5</td>\n",
       "    </tr>\n",
       "  </tbody>\n",
       "</table>\n",
       "</div>"
      ],
      "text/plain": [
       "                                                                                                     Hypothesis  \\\n",
       "0            Добавить два новых канала привлечения трафика, что позволит привлекать на 30% больше пользователей   \n",
       "1                                     Запустить собственную службу доставки, что сократит срок доставки заказов   \n",
       "2  Добавить блоки рекомендаций товаров на сайт интернет магазина, чтобы повысить конверсию и средний чек заказа   \n",
       "3           Изменить структура категорий, что увеличит конверсию, т.к. пользователи быстрее найдут нужный товар   \n",
       "4                              Изменить цвет фона главной страницы, чтобы увеличить вовлеченность пользователей   \n",
       "5                      Добавить страницу отзывов клиентов о магазине, что позволит увеличить количество заказов   \n",
       "6          Показать на главной странице баннеры с актуальными акциями и распродажами, чтобы увеличить конверсию   \n",
       "7              Добавить форму подписки на все основные страницы, чтобы собрать базу клиентов для email-рассылок   \n",
       "8                                                       Запустить акцию, дающую скидку на товар в день рождения   \n",
       "\n",
       "   Reach  Impact  Confidence  Efforts  \n",
       "0      3      10           8        6  \n",
       "1      2       5           4       10  \n",
       "2      8       3           7        3  \n",
       "3      8       3           3        8  \n",
       "4      3       1           1        1  \n",
       "5      3       2           2        3  \n",
       "6      5       3           8        3  \n",
       "7     10       7           8        5  \n",
       "8      1       9           9        5  "
      ]
     },
     "metadata": {},
     "output_type": "display_data"
    },
    {
     "name": "stdout",
     "output_type": "stream",
     "text": [
      "<class 'pandas.core.frame.DataFrame'>\n",
      "RangeIndex: 9 entries, 0 to 8\n",
      "Data columns (total 5 columns):\n",
      " #   Column      Non-Null Count  Dtype \n",
      "---  ------      --------------  ----- \n",
      " 0   Hypothesis  9 non-null      object\n",
      " 1   Reach       9 non-null      int64 \n",
      " 2   Impact      9 non-null      int64 \n",
      " 3   Confidence  9 non-null      int64 \n",
      " 4   Efforts     9 non-null      int64 \n",
      "dtypes: int64(4), object(1)\n",
      "memory usage: 488.0+ bytes\n"
     ]
    },
    {
     "data": {
      "image/png": "[encoded data removed]",
      "text/plain": [
       "<Figure size 1080x360 with 4 Axes>"
      ]
     },
     "metadata": {
      "needs_background": "light"
     },
     "output_type": "display_data"
    }
   ],
   "source": [
    "data_info(hypothesis)"
   ]
  },
  {
   "cell_type": "markdown",
   "metadata": {},
   "source": [
    "Тип данных в порядке, пропусков нет, аномальных значений тоже, необходимо привести названия столбцов к нижнему регистру (также выявлено отсутствие неявных дубликатов). "
   ]
  },
  {
   "cell_type": "code",
   "execution_count": 5,
   "metadata": {},
   "outputs": [
    {
     "data": {
      "text/html": [
       "<div>\n",
       "<style scoped>\n",
       "    .dataframe tbody tr th:only-of-type {\n",
       "        vertical-align: middle;\n",
       "    }\n",
       "\n",
       "    .dataframe tbody tr th {\n",
       "        vertical-align: top;\n",
       "    }\n",
       "\n",
       "    .dataframe thead th {\n",
       "        text-align: right;\n",
       "    }\n",
       "</style>\n",
       "<table border=\"1\" class=\"dataframe\">\n",
       "  <thead>\n",
       "    <tr style=\"text-align: right;\">\n",
       "      <th></th>\n",
       "      <th>transactionId</th>\n",
       "      <th>visitorId</th>\n",
       "      <th>date</th>\n",
       "      <th>revenue</th>\n",
       "      <th>group</th>\n",
       "    </tr>\n",
       "  </thead>\n",
       "  <tbody>\n",
       "    <tr>\n",
       "      <th>0</th>\n",
       "      <td>3667963787</td>\n",
       "      <td>3312258926</td>\n",
       "      <td>2019-08-15</td>\n",
       "      <td>1650</td>\n",
       "      <td>B</td>\n",
       "    </tr>\n",
       "    <tr>\n",
       "      <th>1</th>\n",
       "      <td>2804400009</td>\n",
       "      <td>3642806036</td>\n",
       "      <td>2019-08-15</td>\n",
       "      <td>730</td>\n",
       "      <td>B</td>\n",
       "    </tr>\n",
       "    <tr>\n",
       "      <th>2</th>\n",
       "      <td>2961555356</td>\n",
       "      <td>4069496402</td>\n",
       "      <td>2019-08-15</td>\n",
       "      <td>400</td>\n",
       "      <td>A</td>\n",
       "    </tr>\n",
       "    <tr>\n",
       "      <th>3</th>\n",
       "      <td>3797467345</td>\n",
       "      <td>1196621759</td>\n",
       "      <td>2019-08-15</td>\n",
       "      <td>9759</td>\n",
       "      <td>B</td>\n",
       "    </tr>\n",
       "    <tr>\n",
       "      <th>4</th>\n",
       "      <td>2282983706</td>\n",
       "      <td>2322279887</td>\n",
       "      <td>2019-08-15</td>\n",
       "      <td>2308</td>\n",
       "      <td>B</td>\n",
       "    </tr>\n",
       "    <tr>\n",
       "      <th>5</th>\n",
       "      <td>182168103</td>\n",
       "      <td>935554773</td>\n",
       "      <td>2019-08-15</td>\n",
       "      <td>2210</td>\n",
       "      <td>B</td>\n",
       "    </tr>\n",
       "    <tr>\n",
       "      <th>6</th>\n",
       "      <td>398296753</td>\n",
       "      <td>2900797465</td>\n",
       "      <td>2019-08-15</td>\n",
       "      <td>1860</td>\n",
       "      <td>B</td>\n",
       "    </tr>\n",
       "    <tr>\n",
       "      <th>7</th>\n",
       "      <td>2626614568</td>\n",
       "      <td>78758296</td>\n",
       "      <td>2019-08-15</td>\n",
       "      <td>1044</td>\n",
       "      <td>A</td>\n",
       "    </tr>\n",
       "    <tr>\n",
       "      <th>8</th>\n",
       "      <td>1576988021</td>\n",
       "      <td>295230930</td>\n",
       "      <td>2019-08-15</td>\n",
       "      <td>13710</td>\n",
       "      <td>A</td>\n",
       "    </tr>\n",
       "  </tbody>\n",
       "</table>\n",
       "</div>"
      ],
      "text/plain": [
       "   transactionId   visitorId        date  revenue group\n",
       "0     3667963787  3312258926  2019-08-15     1650     B\n",
       "1     2804400009  3642806036  2019-08-15      730     B\n",
       "2     2961555356  4069496402  2019-08-15      400     A\n",
       "3     3797467345  1196621759  2019-08-15     9759     B\n",
       "4     2282983706  2322279887  2019-08-15     2308     B\n",
       "5      182168103   935554773  2019-08-15     2210     B\n",
       "6      398296753  2900797465  2019-08-15     1860     B\n",
       "7     2626614568    78758296  2019-08-15     1044     A\n",
       "8     1576988021   295230930  2019-08-15    13710     A"
      ]
     },
     "metadata": {},
     "output_type": "display_data"
    },
    {
     "name": "stdout",
     "output_type": "stream",
     "text": [
      "<class 'pandas.core.frame.DataFrame'>\n",
      "RangeIndex: 1197 entries, 0 to 1196\n",
      "Data columns (total 5 columns):\n",
      " #   Column         Non-Null Count  Dtype \n",
      "---  ------         --------------  ----- \n",
      " 0   transactionId  1197 non-null   int64 \n",
      " 1   visitorId      1197 non-null   int64 \n",
      " 2   date           1197 non-null   object\n",
      " 3   revenue        1197 non-null   int64 \n",
      " 4   group          1197 non-null   object\n",
      "dtypes: int64(3), object(2)\n",
      "memory usage: 46.9+ KB\n"
     ]
    },
    {
     "data": {
      "image/png": "[encoded data removed]",
      "text/plain": [
       "<Figure size 1080x360 with 4 Axes>"
      ]
     },
     "metadata": {
      "needs_background": "light"
     },
     "output_type": "display_data"
    }
   ],
   "source": [
    "data_info(orders)"
   ]
  },
  {
   "cell_type": "markdown",
   "metadata": {},
   "source": [
    "Пропусков нет, аномальных значений не замечено, необходимо привестипу колонку date к типу datetime. "
   ]
  },
  {
   "cell_type": "code",
   "execution_count": 6,
   "metadata": {},
   "outputs": [
    {
     "data": {
      "text/html": [
       "<div>\n",
       "<style scoped>\n",
       "    .dataframe tbody tr th:only-of-type {\n",
       "        vertical-align: middle;\n",
       "    }\n",
       "\n",
       "    .dataframe tbody tr th {\n",
       "        vertical-align: top;\n",
       "    }\n",
       "\n",
       "    .dataframe thead th {\n",
       "        text-align: right;\n",
       "    }\n",
       "</style>\n",
       "<table border=\"1\" class=\"dataframe\">\n",
       "  <thead>\n",
       "    <tr style=\"text-align: right;\">\n",
       "      <th></th>\n",
       "      <th>date</th>\n",
       "      <th>group</th>\n",
       "      <th>visitors</th>\n",
       "    </tr>\n",
       "  </thead>\n",
       "  <tbody>\n",
       "    <tr>\n",
       "      <th>0</th>\n",
       "      <td>2019-08-01</td>\n",
       "      <td>A</td>\n",
       "      <td>719</td>\n",
       "    </tr>\n",
       "    <tr>\n",
       "      <th>1</th>\n",
       "      <td>2019-08-02</td>\n",
       "      <td>A</td>\n",
       "      <td>619</td>\n",
       "    </tr>\n",
       "    <tr>\n",
       "      <th>2</th>\n",
       "      <td>2019-08-03</td>\n",
       "      <td>A</td>\n",
       "      <td>507</td>\n",
       "    </tr>\n",
       "    <tr>\n",
       "      <th>3</th>\n",
       "      <td>2019-08-04</td>\n",
       "      <td>A</td>\n",
       "      <td>717</td>\n",
       "    </tr>\n",
       "    <tr>\n",
       "      <th>4</th>\n",
       "      <td>2019-08-05</td>\n",
       "      <td>A</td>\n",
       "      <td>756</td>\n",
       "    </tr>\n",
       "    <tr>\n",
       "      <th>5</th>\n",
       "      <td>2019-08-06</td>\n",
       "      <td>A</td>\n",
       "      <td>667</td>\n",
       "    </tr>\n",
       "    <tr>\n",
       "      <th>6</th>\n",
       "      <td>2019-08-07</td>\n",
       "      <td>A</td>\n",
       "      <td>644</td>\n",
       "    </tr>\n",
       "    <tr>\n",
       "      <th>7</th>\n",
       "      <td>2019-08-08</td>\n",
       "      <td>A</td>\n",
       "      <td>610</td>\n",
       "    </tr>\n",
       "    <tr>\n",
       "      <th>8</th>\n",
       "      <td>2019-08-09</td>\n",
       "      <td>A</td>\n",
       "      <td>617</td>\n",
       "    </tr>\n",
       "  </tbody>\n",
       "</table>\n",
       "</div>"
      ],
      "text/plain": [
       "         date group  visitors\n",
       "0  2019-08-01     A       719\n",
       "1  2019-08-02     A       619\n",
       "2  2019-08-03     A       507\n",
       "3  2019-08-04     A       717\n",
       "4  2019-08-05     A       756\n",
       "5  2019-08-06     A       667\n",
       "6  2019-08-07     A       644\n",
       "7  2019-08-08     A       610\n",
       "8  2019-08-09     A       617"
      ]
     },
     "metadata": {},
     "output_type": "display_data"
    },
    {
     "name": "stdout",
     "output_type": "stream",
     "text": [
      "<class 'pandas.core.frame.DataFrame'>\n",
      "RangeIndex: 62 entries, 0 to 61\n",
      "Data columns (total 3 columns):\n",
      " #   Column    Non-Null Count  Dtype \n",
      "---  ------    --------------  ----- \n",
      " 0   date      62 non-null     object\n",
      " 1   group     62 non-null     object\n",
      " 2   visitors  62 non-null     int64 \n",
      "dtypes: int64(1), object(2)\n",
      "memory usage: 1.6+ KB\n"
     ]
    },
    {
     "data": {
      "image/png": "[encoded data removed]",
      "text/plain": [
       "<Figure size 1080x360 with 1 Axes>"
      ]
     },
     "metadata": {
      "needs_background": "light"
     },
     "output_type": "display_data"
    }
   ],
   "source": [
    "data_info(visitors)"
   ]
  },
  {
   "cell_type": "markdown",
   "metadata": {},
   "source": [
    "Пропусков нет, аномальных значений не замечено, необходимо привестипу колонку date к типу datetime. "
   ]
  },
  {
   "cell_type": "markdown",
   "metadata": {},
   "source": [
    "В связи с проведением A/B-теста убедимся в отсутствии пересечений по пользователям в сформированных группах для точности исследования:"
   ]
  },
  {
   "cell_type": "code",
   "execution_count": 7,
   "metadata": {},
   "outputs": [
    {
     "name": "stdout",
     "output_type": "stream",
     "text": [
      "Количество пересекающихся пользователей: 58\n"
     ]
    }
   ],
   "source": [
    "#создадим таблицу со сгруппированными пользователями и агрегированными показателями, \n",
    "#включая количество групп, в которых он находится\n",
    "overlap = orders.groupby(['visitorId']).agg({'group' : 'nunique', 'transactionId' : 'count', 'revenue' : 'sum'}).reset_index()\n",
    "print(f'Количество пересекающихся пользователей: {overlap[overlap[\"group\"] != 1][\"visitorId\"].count()}')"
   ]
  },
  {
   "cell_type": "markdown",
   "metadata": {},
   "source": [
    "Видим, что есть пользователи, находящиеся сразу в двух группах. "
   ]
  },
  {
   "cell_type": "markdown",
   "metadata": {},
   "source": [
    "**Вывод:**\n",
    "\n",
    "Мы провели первичный обзор данных, не было выявлено пропусков, необходимо изменить тип данных в столбцах с датами, исправить наименования столбцов и убрать пересекающихся пользователей по группам из выборки. \n",
    "\n",
    "[Вернуться к содержанию](#Содержание)"
   ]
  },
  {
   "cell_type": "markdown",
   "metadata": {},
   "source": [
    "<a id=\"Предобработка-данных\"></a>\n",
    "## Предобработка данных"
   ]
  },
  {
   "cell_type": "markdown",
   "metadata": {},
   "source": [
    "Сначала решим проблему с наименованиями столбцов:"
   ]
  },
  {
   "cell_type": "code",
   "execution_count": 8,
   "metadata": {},
   "outputs": [],
   "source": [
    "for i in [hypothesis, orders]:\n",
    "    i.columns = (j.lower() for j in i.columns)"
   ]
  },
  {
   "cell_type": "markdown",
   "metadata": {},
   "source": [
    "Изменим тип данных в столбцах с датами:"
   ]
  },
  {
   "cell_type": "code",
   "execution_count": 9,
   "metadata": {},
   "outputs": [],
   "source": [
    "orders['date'] = pd.to_datetime(orders['date'])\n",
    "visitors['date'] = pd.to_datetime(visitors['date'])"
   ]
  },
  {
   "cell_type": "markdown",
   "metadata": {},
   "source": [
    "Проверим изменения:"
   ]
  },
  {
   "cell_type": "code",
   "execution_count": 10,
   "metadata": {},
   "outputs": [
    {
     "data": {
      "text/html": [
       "<div>\n",
       "<style scoped>\n",
       "    .dataframe tbody tr th:only-of-type {\n",
       "        vertical-align: middle;\n",
       "    }\n",
       "\n",
       "    .dataframe tbody tr th {\n",
       "        vertical-align: top;\n",
       "    }\n",
       "\n",
       "    .dataframe thead th {\n",
       "        text-align: right;\n",
       "    }\n",
       "</style>\n",
       "<table border=\"1\" class=\"dataframe\">\n",
       "  <thead>\n",
       "    <tr style=\"text-align: right;\">\n",
       "      <th></th>\n",
       "      <th>hypothesis</th>\n",
       "      <th>reach</th>\n",
       "      <th>impact</th>\n",
       "      <th>confidence</th>\n",
       "      <th>efforts</th>\n",
       "    </tr>\n",
       "  </thead>\n",
       "  <tbody>\n",
       "    <tr>\n",
       "      <th>0</th>\n",
       "      <td>Добавить два новых канала привлечения трафика, что позволит привлекать на 30% больше пользователей</td>\n",
       "      <td>3</td>\n",
       "      <td>10</td>\n",
       "      <td>8</td>\n",
       "      <td>6</td>\n",
       "    </tr>\n",
       "    <tr>\n",
       "      <th>1</th>\n",
       "      <td>Запустить собственную службу доставки, что сократит срок доставки заказов</td>\n",
       "      <td>2</td>\n",
       "      <td>5</td>\n",
       "      <td>4</td>\n",
       "      <td>10</td>\n",
       "    </tr>\n",
       "    <tr>\n",
       "      <th>2</th>\n",
       "      <td>Добавить блоки рекомендаций товаров на сайт интернет магазина, чтобы повысить конверсию и средний чек заказа</td>\n",
       "      <td>8</td>\n",
       "      <td>3</td>\n",
       "      <td>7</td>\n",
       "      <td>3</td>\n",
       "    </tr>\n",
       "  </tbody>\n",
       "</table>\n",
       "</div>"
      ],
      "text/plain": [
       "                                                                                                     hypothesis  \\\n",
       "0            Добавить два новых канала привлечения трафика, что позволит привлекать на 30% больше пользователей   \n",
       "1                                     Запустить собственную службу доставки, что сократит срок доставки заказов   \n",
       "2  Добавить блоки рекомендаций товаров на сайт интернет магазина, чтобы повысить конверсию и средний чек заказа   \n",
       "\n",
       "   reach  impact  confidence  efforts  \n",
       "0      3      10           8        6  \n",
       "1      2       5           4       10  \n",
       "2      8       3           7        3  "
      ]
     },
     "metadata": {},
     "output_type": "display_data"
    },
    {
     "name": "stdout",
     "output_type": "stream",
     "text": [
      "<class 'pandas.core.frame.DataFrame'>\n",
      "RangeIndex: 9 entries, 0 to 8\n",
      "Data columns (total 5 columns):\n",
      " #   Column      Non-Null Count  Dtype \n",
      "---  ------      --------------  ----- \n",
      " 0   hypothesis  9 non-null      object\n",
      " 1   reach       9 non-null      int64 \n",
      " 2   impact      9 non-null      int64 \n",
      " 3   confidence  9 non-null      int64 \n",
      " 4   efforts     9 non-null      int64 \n",
      "dtypes: int64(4), object(1)\n",
      "memory usage: 488.0+ bytes\n",
      "None\n",
      "\n"
     ]
    },
    {
     "data": {
      "text/html": [
       "<div>\n",
       "<style scoped>\n",
       "    .dataframe tbody tr th:only-of-type {\n",
       "        vertical-align: middle;\n",
       "    }\n",
       "\n",
       "    .dataframe tbody tr th {\n",
       "        vertical-align: top;\n",
       "    }\n",
       "\n",
       "    .dataframe thead th {\n",
       "        text-align: right;\n",
       "    }\n",
       "</style>\n",
       "<table border=\"1\" class=\"dataframe\">\n",
       "  <thead>\n",
       "    <tr style=\"text-align: right;\">\n",
       "      <th></th>\n",
       "      <th>transactionid</th>\n",
       "      <th>visitorid</th>\n",
       "      <th>date</th>\n",
       "      <th>revenue</th>\n",
       "      <th>group</th>\n",
       "    </tr>\n",
       "  </thead>\n",
       "  <tbody>\n",
       "    <tr>\n",
       "      <th>0</th>\n",
       "      <td>3667963787</td>\n",
       "      <td>3312258926</td>\n",
       "      <td>2019-08-15</td>\n",
       "      <td>1650</td>\n",
       "      <td>B</td>\n",
       "    </tr>\n",
       "    <tr>\n",
       "      <th>1</th>\n",
       "      <td>2804400009</td>\n",
       "      <td>3642806036</td>\n",
       "      <td>2019-08-15</td>\n",
       "      <td>730</td>\n",
       "      <td>B</td>\n",
       "    </tr>\n",
       "    <tr>\n",
       "      <th>2</th>\n",
       "      <td>2961555356</td>\n",
       "      <td>4069496402</td>\n",
       "      <td>2019-08-15</td>\n",
       "      <td>400</td>\n",
       "      <td>A</td>\n",
       "    </tr>\n",
       "  </tbody>\n",
       "</table>\n",
       "</div>"
      ],
      "text/plain": [
       "   transactionid   visitorid       date  revenue group\n",
       "0     3667963787  3312258926 2019-08-15     1650     B\n",
       "1     2804400009  3642806036 2019-08-15      730     B\n",
       "2     2961555356  4069496402 2019-08-15      400     A"
      ]
     },
     "metadata": {},
     "output_type": "display_data"
    },
    {
     "name": "stdout",
     "output_type": "stream",
     "text": [
      "<class 'pandas.core.frame.DataFrame'>\n",
      "RangeIndex: 1197 entries, 0 to 1196\n",
      "Data columns (total 5 columns):\n",
      " #   Column         Non-Null Count  Dtype         \n",
      "---  ------         --------------  -----         \n",
      " 0   transactionid  1197 non-null   int64         \n",
      " 1   visitorid      1197 non-null   int64         \n",
      " 2   date           1197 non-null   datetime64[ns]\n",
      " 3   revenue        1197 non-null   int64         \n",
      " 4   group          1197 non-null   object        \n",
      "dtypes: datetime64[ns](1), int64(3), object(1)\n",
      "memory usage: 46.9+ KB\n",
      "None\n",
      "\n"
     ]
    },
    {
     "data": {
      "text/html": [
       "<div>\n",
       "<style scoped>\n",
       "    .dataframe tbody tr th:only-of-type {\n",
       "        vertical-align: middle;\n",
       "    }\n",
       "\n",
       "    .dataframe tbody tr th {\n",
       "        vertical-align: top;\n",
       "    }\n",
       "\n",
       "    .dataframe thead th {\n",
       "        text-align: right;\n",
       "    }\n",
       "</style>\n",
       "<table border=\"1\" class=\"dataframe\">\n",
       "  <thead>\n",
       "    <tr style=\"text-align: right;\">\n",
       "      <th></th>\n",
       "      <th>date</th>\n",
       "      <th>group</th>\n",
       "      <th>visitors</th>\n",
       "    </tr>\n",
       "  </thead>\n",
       "  <tbody>\n",
       "    <tr>\n",
       "      <th>0</th>\n",
       "      <td>2019-08-01</td>\n",
       "      <td>A</td>\n",
       "      <td>719</td>\n",
       "    </tr>\n",
       "    <tr>\n",
       "      <th>1</th>\n",
       "      <td>2019-08-02</td>\n",
       "      <td>A</td>\n",
       "      <td>619</td>\n",
       "    </tr>\n",
       "    <tr>\n",
       "      <th>2</th>\n",
       "      <td>2019-08-03</td>\n",
       "      <td>A</td>\n",
       "      <td>507</td>\n",
       "    </tr>\n",
       "  </tbody>\n",
       "</table>\n",
       "</div>"
      ],
      "text/plain": [
       "        date group  visitors\n",
       "0 2019-08-01     A       719\n",
       "1 2019-08-02     A       619\n",
       "2 2019-08-03     A       507"
      ]
     },
     "metadata": {},
     "output_type": "display_data"
    },
    {
     "name": "stdout",
     "output_type": "stream",
     "text": [
      "<class 'pandas.core.frame.DataFrame'>\n",
      "RangeIndex: 62 entries, 0 to 61\n",
      "Data columns (total 3 columns):\n",
      " #   Column    Non-Null Count  Dtype         \n",
      "---  ------    --------------  -----         \n",
      " 0   date      62 non-null     datetime64[ns]\n",
      " 1   group     62 non-null     object        \n",
      " 2   visitors  62 non-null     int64         \n",
      "dtypes: datetime64[ns](1), int64(1), object(1)\n",
      "memory usage: 1.6+ KB\n",
      "None\n",
      "\n"
     ]
    }
   ],
   "source": [
    "for i in [hypothesis, orders, visitors]:\n",
    "    display(i.head(3))\n",
    "    print(i.info())\n",
    "    print()"
   ]
  },
  {
   "cell_type": "markdown",
   "metadata": {},
   "source": [
    "Названия и тип данных корректны. \n",
    "\n",
    "Проверим наши данные на наличие дубликатов. Начнем с явных:"
   ]
  },
  {
   "cell_type": "code",
   "execution_count": 11,
   "metadata": {},
   "outputs": [
    {
     "name": "stdout",
     "output_type": "stream",
     "text": [
      "Количество дубликатов в hypothesis: 0\n",
      "Количество дубликатов в hypothesis после обработки: 0\n",
      "\n",
      "Количество дубликатов в orders: 0\n",
      "Количество дубликатов в orders после обработки: 0\n",
      "\n",
      "Количество дубликатов в visitors: 0\n",
      "Количество дубликатов в visitors после обработки: 0\n",
      "\n"
     ]
    }
   ],
   "source": [
    "data_list = {'hypothesis':hypothesis, 'orders':orders, 'visitors':visitors}\n",
    "\n",
    "for name, df in data_list.items():\n",
    "    print(f'Количество дубликатов в {name}:', df.duplicated().sum())\n",
    "    df = df.drop_duplicates() \n",
    "    if name == 'visits':\n",
    "        visits = df\n",
    "    elif name == 'orders':\n",
    "        orders = df\n",
    "    elif name == 'costs':\n",
    "        costs = df\n",
    "    print(f'Количество дубликатов в {name} после обработки:', df.duplicated().sum())\n",
    "    print()"
   ]
  },
  {
   "cell_type": "markdown",
   "metadata": {},
   "source": [
    "Явных дубликатов не выявлено, поищем неявные - они могут быть в столбцах с обозначением групп и :"
   ]
  },
  {
   "cell_type": "code",
   "execution_count": 12,
   "metadata": {},
   "outputs": [
    {
     "name": "stdout",
     "output_type": "stream",
     "text": [
      "Количество уникальных значений group: 2 \n",
      " ['A' 'B']\n",
      "\n",
      "Количество уникальных значений group: 2 \n",
      " ['A' 'B']\n",
      "\n"
     ]
    }
   ],
   "source": [
    "#проверим уникальные значения в обозначенных столбцах\n",
    "for i in [orders['group'], visitors['group']]:\n",
    "    print(f'Количество уникальных значений {i.name}:', i.nunique(), '\\n',\n",
    "          i.sort_values().unique())\n",
    "    print()"
   ]
  },
  {
   "cell_type": "markdown",
   "metadata": {},
   "source": [
    "Неявных дубликатов не выявлено."
   ]
  },
  {
   "cell_type": "markdown",
   "metadata": {},
   "source": [
    "Исправим ситуацию с пересекающимися по группам пользователями:"
   ]
  },
  {
   "cell_type": "code",
   "execution_count": 13,
   "metadata": {},
   "outputs": [
    {
     "name": "stdout",
     "output_type": "stream",
     "text": [
      "Количество пересекающихся пользователей:0\n"
     ]
    }
   ],
   "source": [
    "#для удобства также приведем к нижнему регистру названия столбцов в пограничной таблице с пользваотелями \n",
    "overlap.columns = (j.lower() for j in overlap.columns)\n",
    "#создаем список пересекающихся пользователей\n",
    "overlap_users = overlap[overlap['group'] != 1]['visitorid']\n",
    "#создаем новый дф orders без пользователей из списка\n",
    "orders_no_overlap = orders[~orders['visitorid'].isin(overlap_users)].reset_index(drop=True)\n",
    "#проверим отсутствие пересекающихся пользователей\n",
    "orders_no_overlap_check = orders_no_overlap.groupby(['visitorid'])\\\n",
    ".agg({'group':'nunique', 'transactionid':'count', 'revenue':'sum'}).reset_index()\n",
    "\n",
    "print(f'Количество пересекающихся пользователей:\\\n",
    "{orders_no_overlap_check[orders_no_overlap_check[\"group\"] != 1][\"visitorid\"].count()}')"
   ]
  },
  {
   "cell_type": "markdown",
   "metadata": {},
   "source": [
    "**Вывод:**\n",
    "\n",
    "Мы провели предобработку данных:\n",
    "\n",
    "* Названия столбцов и типы их данных приведены стандарту;\n",
    "* Дубликаты в датафреймах не выявлены;\n",
    "* Записан новый датафрейм с пользователями без пересечения по группам. \n",
    "\n",
    "[Вернуться к содержанию](#Содержание)"
   ]
  },
  {
   "cell_type": "markdown",
   "metadata": {},
   "source": [
    "<a id='Приоритизация-гипотез'></a>\n",
    "## Приоритизация гипотез"
   ]
  },
  {
   "cell_type": "markdown",
   "metadata": {},
   "source": [
    "У нас есть список из 9 гипотез для повышения выручки интернет-магазина."
   ]
  },
  {
   "cell_type": "markdown",
   "metadata": {},
   "source": [
    "<a id='Фреймворк-ICE'></a>\n",
    "Применим фреймворк ICE для приоритизации гипотез:"
   ]
  },
  {
   "cell_type": "code",
   "execution_count": 14,
   "metadata": {},
   "outputs": [
    {
     "data": {
      "text/html": [
       "<div>\n",
       "<style scoped>\n",
       "    .dataframe tbody tr th:only-of-type {\n",
       "        vertical-align: middle;\n",
       "    }\n",
       "\n",
       "    .dataframe tbody tr th {\n",
       "        vertical-align: top;\n",
       "    }\n",
       "\n",
       "    .dataframe thead th {\n",
       "        text-align: right;\n",
       "    }\n",
       "</style>\n",
       "<table border=\"1\" class=\"dataframe\">\n",
       "  <thead>\n",
       "    <tr style=\"text-align: right;\">\n",
       "      <th></th>\n",
       "      <th>hypothesis</th>\n",
       "      <th>ice</th>\n",
       "    </tr>\n",
       "  </thead>\n",
       "  <tbody>\n",
       "    <tr>\n",
       "      <th>8</th>\n",
       "      <td>Запустить акцию, дающую скидку на товар в день рождения</td>\n",
       "      <td>16.200000</td>\n",
       "    </tr>\n",
       "    <tr>\n",
       "      <th>0</th>\n",
       "      <td>Добавить два новых канала привлечения трафика, что позволит привлекать на 30% больше пользователей</td>\n",
       "      <td>13.333333</td>\n",
       "    </tr>\n",
       "    <tr>\n",
       "      <th>7</th>\n",
       "      <td>Добавить форму подписки на все основные страницы, чтобы собрать базу клиентов для email-рассылок</td>\n",
       "      <td>11.200000</td>\n",
       "    </tr>\n",
       "    <tr>\n",
       "      <th>6</th>\n",
       "      <td>Показать на главной странице баннеры с актуальными акциями и распродажами, чтобы увеличить конверсию</td>\n",
       "      <td>8.000000</td>\n",
       "    </tr>\n",
       "    <tr>\n",
       "      <th>2</th>\n",
       "      <td>Добавить блоки рекомендаций товаров на сайт интернет магазина, чтобы повысить конверсию и средний чек заказа</td>\n",
       "      <td>7.000000</td>\n",
       "    </tr>\n",
       "    <tr>\n",
       "      <th>1</th>\n",
       "      <td>Запустить собственную службу доставки, что сократит срок доставки заказов</td>\n",
       "      <td>2.000000</td>\n",
       "    </tr>\n",
       "    <tr>\n",
       "      <th>5</th>\n",
       "      <td>Добавить страницу отзывов клиентов о магазине, что позволит увеличить количество заказов</td>\n",
       "      <td>1.333333</td>\n",
       "    </tr>\n",
       "    <tr>\n",
       "      <th>3</th>\n",
       "      <td>Изменить структура категорий, что увеличит конверсию, т.к. пользователи быстрее найдут нужный товар</td>\n",
       "      <td>1.125000</td>\n",
       "    </tr>\n",
       "    <tr>\n",
       "      <th>4</th>\n",
       "      <td>Изменить цвет фона главной страницы, чтобы увеличить вовлеченность пользователей</td>\n",
       "      <td>1.000000</td>\n",
       "    </tr>\n",
       "  </tbody>\n",
       "</table>\n",
       "</div>"
      ],
      "text/plain": [
       "                                                                                                     hypothesis  \\\n",
       "8                                                       Запустить акцию, дающую скидку на товар в день рождения   \n",
       "0            Добавить два новых канала привлечения трафика, что позволит привлекать на 30% больше пользователей   \n",
       "7              Добавить форму подписки на все основные страницы, чтобы собрать базу клиентов для email-рассылок   \n",
       "6          Показать на главной странице баннеры с актуальными акциями и распродажами, чтобы увеличить конверсию   \n",
       "2  Добавить блоки рекомендаций товаров на сайт интернет магазина, чтобы повысить конверсию и средний чек заказа   \n",
       "1                                     Запустить собственную службу доставки, что сократит срок доставки заказов   \n",
       "5                      Добавить страницу отзывов клиентов о магазине, что позволит увеличить количество заказов   \n",
       "3           Изменить структура категорий, что увеличит конверсию, т.к. пользователи быстрее найдут нужный товар   \n",
       "4                              Изменить цвет фона главной страницы, чтобы увеличить вовлеченность пользователей   \n",
       "\n",
       "         ice  \n",
       "8  16.200000  \n",
       "0  13.333333  \n",
       "7  11.200000  \n",
       "6   8.000000  \n",
       "2   7.000000  \n",
       "1   2.000000  \n",
       "5   1.333333  \n",
       "3   1.125000  \n",
       "4   1.000000  "
      ]
     },
     "execution_count": 14,
     "metadata": {},
     "output_type": "execute_result"
    }
   ],
   "source": [
    "#Рассчитаем рейтинг гипотез по формуле для ICE \n",
    "hypothesis['ice'] = hypothesis['impact'] * hypothesis['confidence'] / hypothesis['efforts']\n",
    "#Выведем таблицу рейтинга\n",
    "hypothesis[['hypothesis', 'ice']].sort_values(by='ice', ascending=False)"
   ]
  },
  {
   "cell_type": "markdown",
   "metadata": {},
   "source": [
    "Согласно ICE наиболее приоритетной гипотезой стала 8-я: запустить акцию, дающую скидку на товар в день рождения."
   ]
  },
  {
   "cell_type": "markdown",
   "metadata": {},
   "source": [
    "<a id='Фреймворк-RICE'></a>\n",
    "Посмотрим, как распределятся гипотезы по рейтингу при применении фреймворка RICE:"
   ]
  },
  {
   "cell_type": "code",
   "execution_count": 15,
   "metadata": {},
   "outputs": [
    {
     "data": {
      "text/html": [
       "<div>\n",
       "<style scoped>\n",
       "    .dataframe tbody tr th:only-of-type {\n",
       "        vertical-align: middle;\n",
       "    }\n",
       "\n",
       "    .dataframe tbody tr th {\n",
       "        vertical-align: top;\n",
       "    }\n",
       "\n",
       "    .dataframe thead th {\n",
       "        text-align: right;\n",
       "    }\n",
       "</style>\n",
       "<table border=\"1\" class=\"dataframe\">\n",
       "  <thead>\n",
       "    <tr style=\"text-align: right;\">\n",
       "      <th></th>\n",
       "      <th>hypothesis</th>\n",
       "      <th>rice</th>\n",
       "    </tr>\n",
       "  </thead>\n",
       "  <tbody>\n",
       "    <tr>\n",
       "      <th>7</th>\n",
       "      <td>Добавить форму подписки на все основные страницы, чтобы собрать базу клиентов для email-рассылок</td>\n",
       "      <td>112.0</td>\n",
       "    </tr>\n",
       "    <tr>\n",
       "      <th>2</th>\n",
       "      <td>Добавить блоки рекомендаций товаров на сайт интернет магазина, чтобы повысить конверсию и средний чек заказа</td>\n",
       "      <td>56.0</td>\n",
       "    </tr>\n",
       "    <tr>\n",
       "      <th>0</th>\n",
       "      <td>Добавить два новых канала привлечения трафика, что позволит привлекать на 30% больше пользователей</td>\n",
       "      <td>40.0</td>\n",
       "    </tr>\n",
       "    <tr>\n",
       "      <th>6</th>\n",
       "      <td>Показать на главной странице баннеры с актуальными акциями и распродажами, чтобы увеличить конверсию</td>\n",
       "      <td>40.0</td>\n",
       "    </tr>\n",
       "    <tr>\n",
       "      <th>8</th>\n",
       "      <td>Запустить акцию, дающую скидку на товар в день рождения</td>\n",
       "      <td>16.2</td>\n",
       "    </tr>\n",
       "    <tr>\n",
       "      <th>3</th>\n",
       "      <td>Изменить структура категорий, что увеличит конверсию, т.к. пользователи быстрее найдут нужный товар</td>\n",
       "      <td>9.0</td>\n",
       "    </tr>\n",
       "    <tr>\n",
       "      <th>1</th>\n",
       "      <td>Запустить собственную службу доставки, что сократит срок доставки заказов</td>\n",
       "      <td>4.0</td>\n",
       "    </tr>\n",
       "    <tr>\n",
       "      <th>5</th>\n",
       "      <td>Добавить страницу отзывов клиентов о магазине, что позволит увеличить количество заказов</td>\n",
       "      <td>4.0</td>\n",
       "    </tr>\n",
       "    <tr>\n",
       "      <th>4</th>\n",
       "      <td>Изменить цвет фона главной страницы, чтобы увеличить вовлеченность пользователей</td>\n",
       "      <td>3.0</td>\n",
       "    </tr>\n",
       "  </tbody>\n",
       "</table>\n",
       "</div>"
      ],
      "text/plain": [
       "                                                                                                     hypothesis  \\\n",
       "7              Добавить форму подписки на все основные страницы, чтобы собрать базу клиентов для email-рассылок   \n",
       "2  Добавить блоки рекомендаций товаров на сайт интернет магазина, чтобы повысить конверсию и средний чек заказа   \n",
       "0            Добавить два новых канала привлечения трафика, что позволит привлекать на 30% больше пользователей   \n",
       "6          Показать на главной странице баннеры с актуальными акциями и распродажами, чтобы увеличить конверсию   \n",
       "8                                                       Запустить акцию, дающую скидку на товар в день рождения   \n",
       "3           Изменить структура категорий, что увеличит конверсию, т.к. пользователи быстрее найдут нужный товар   \n",
       "1                                     Запустить собственную службу доставки, что сократит срок доставки заказов   \n",
       "5                      Добавить страницу отзывов клиентов о магазине, что позволит увеличить количество заказов   \n",
       "4                              Изменить цвет фона главной страницы, чтобы увеличить вовлеченность пользователей   \n",
       "\n",
       "    rice  \n",
       "7  112.0  \n",
       "2   56.0  \n",
       "0   40.0  \n",
       "6   40.0  \n",
       "8   16.2  \n",
       "3    9.0  \n",
       "1    4.0  \n",
       "5    4.0  \n",
       "4    3.0  "
      ]
     },
     "execution_count": 15,
     "metadata": {},
     "output_type": "execute_result"
    }
   ],
   "source": [
    "#Рассчитаем рейтинг гипотез по формуле для RICE \n",
    "hypothesis['rice'] = hypothesis['reach'] * hypothesis['impact'] * hypothesis['confidence'] / hypothesis['efforts']\n",
    "#Выведем таблицу рейтинга\n",
    "hypothesis[['hypothesis', 'rice']].sort_values(by='rice', ascending=False)"
   ]
  },
  {
   "cell_type": "markdown",
   "metadata": {},
   "source": [
    "Согласно RICE наиболее приоритетной гипотезой с отрывом по количеству очков в 2 раза (56 очков) от 2-го места стала 7-я: добавить форму подписки на все основные страницы, чтобы собрать базу клиентов для email-рассылок."
   ]
  },
  {
   "cell_type": "markdown",
   "metadata": {},
   "source": [
    "<a id='Разница-в-приоритизации'></a>\n",
    "Сравним результаты после расчета рейтинга приоритета гипотез по ICE и RICE:"
   ]
  },
  {
   "cell_type": "code",
   "execution_count": 16,
   "metadata": {},
   "outputs": [
    {
     "data": {
      "text/html": [
       "<div>\n",
       "<style scoped>\n",
       "    .dataframe tbody tr th:only-of-type {\n",
       "        vertical-align: middle;\n",
       "    }\n",
       "\n",
       "    .dataframe tbody tr th {\n",
       "        vertical-align: top;\n",
       "    }\n",
       "\n",
       "    .dataframe thead th {\n",
       "        text-align: right;\n",
       "    }\n",
       "</style>\n",
       "<table border=\"1\" class=\"dataframe\">\n",
       "  <thead>\n",
       "    <tr style=\"text-align: right;\">\n",
       "      <th></th>\n",
       "      <th>hypothesis</th>\n",
       "      <th>ice</th>\n",
       "      <th>rice</th>\n",
       "      <th>rank_diff</th>\n",
       "    </tr>\n",
       "  </thead>\n",
       "  <tbody>\n",
       "    <tr>\n",
       "      <th>8</th>\n",
       "      <td>Запустить акцию, дающую скидку на товар в день рождения</td>\n",
       "      <td>1</td>\n",
       "      <td>5</td>\n",
       "      <td>-4</td>\n",
       "    </tr>\n",
       "    <tr>\n",
       "      <th>0</th>\n",
       "      <td>Добавить два новых канала привлечения трафика, что позволит привлекать на 30% больше пользователей</td>\n",
       "      <td>2</td>\n",
       "      <td>3</td>\n",
       "      <td>-1</td>\n",
       "    </tr>\n",
       "    <tr>\n",
       "      <th>7</th>\n",
       "      <td>Добавить форму подписки на все основные страницы, чтобы собрать базу клиентов для email-рассылок</td>\n",
       "      <td>3</td>\n",
       "      <td>1</td>\n",
       "      <td>2</td>\n",
       "    </tr>\n",
       "    <tr>\n",
       "      <th>6</th>\n",
       "      <td>Показать на главной странице баннеры с актуальными акциями и распродажами, чтобы увеличить конверсию</td>\n",
       "      <td>4</td>\n",
       "      <td>3</td>\n",
       "      <td>1</td>\n",
       "    </tr>\n",
       "    <tr>\n",
       "      <th>2</th>\n",
       "      <td>Добавить блоки рекомендаций товаров на сайт интернет магазина, чтобы повысить конверсию и средний чек заказа</td>\n",
       "      <td>5</td>\n",
       "      <td>2</td>\n",
       "      <td>3</td>\n",
       "    </tr>\n",
       "    <tr>\n",
       "      <th>1</th>\n",
       "      <td>Запустить собственную службу доставки, что сократит срок доставки заказов</td>\n",
       "      <td>6</td>\n",
       "      <td>7</td>\n",
       "      <td>-1</td>\n",
       "    </tr>\n",
       "    <tr>\n",
       "      <th>5</th>\n",
       "      <td>Добавить страницу отзывов клиентов о магазине, что позволит увеличить количество заказов</td>\n",
       "      <td>7</td>\n",
       "      <td>7</td>\n",
       "      <td>0</td>\n",
       "    </tr>\n",
       "    <tr>\n",
       "      <th>3</th>\n",
       "      <td>Изменить структура категорий, что увеличит конверсию, т.к. пользователи быстрее найдут нужный товар</td>\n",
       "      <td>8</td>\n",
       "      <td>6</td>\n",
       "      <td>2</td>\n",
       "    </tr>\n",
       "    <tr>\n",
       "      <th>4</th>\n",
       "      <td>Изменить цвет фона главной страницы, чтобы увеличить вовлеченность пользователей</td>\n",
       "      <td>9</td>\n",
       "      <td>9</td>\n",
       "      <td>0</td>\n",
       "    </tr>\n",
       "  </tbody>\n",
       "</table>\n",
       "</div>"
      ],
      "text/plain": [
       "                                                                                                     hypothesis  \\\n",
       "8                                                       Запустить акцию, дающую скидку на товар в день рождения   \n",
       "0            Добавить два новых канала привлечения трафика, что позволит привлекать на 30% больше пользователей   \n",
       "7              Добавить форму подписки на все основные страницы, чтобы собрать базу клиентов для email-рассылок   \n",
       "6          Показать на главной странице баннеры с актуальными акциями и распродажами, чтобы увеличить конверсию   \n",
       "2  Добавить блоки рекомендаций товаров на сайт интернет магазина, чтобы повысить конверсию и средний чек заказа   \n",
       "1                                     Запустить собственную службу доставки, что сократит срок доставки заказов   \n",
       "5                      Добавить страницу отзывов клиентов о магазине, что позволит увеличить количество заказов   \n",
       "3           Изменить структура категорий, что увеличит конверсию, т.к. пользователи быстрее найдут нужный товар   \n",
       "4                              Изменить цвет фона главной страницы, чтобы увеличить вовлеченность пользователей   \n",
       "\n",
       "   ice  rice  rank_diff  \n",
       "8    1     5         -4  \n",
       "0    2     3         -1  \n",
       "7    3     1          2  \n",
       "6    4     3          1  \n",
       "2    5     2          3  \n",
       "1    6     7         -1  \n",
       "5    7     7          0  \n",
       "3    8     6          2  \n",
       "4    9     9          0  "
      ]
     },
     "execution_count": 16,
     "metadata": {},
     "output_type": "execute_result"
    }
   ],
   "source": [
    "#сформируем сравнительную таблицу с рангами\n",
    "hypothesis_rating = hypothesis[['hypothesis']].copy()\n",
    "hypothesis_rating['ice'] = hypothesis['ice'].rank(ascending=False).astype(int)\n",
    "hypothesis_rating['rice'] = hypothesis['rice'].rank(ascending=False).astype(int)\n",
    "hypothesis_rating = hypothesis_rating.sort_values(by=['ice', 'rice'], ascending=True)\n",
    "#добавим столбец с разницей в рангах\n",
    "hypothesis_rating['rank_diff'] = hypothesis_rating['ice'] - hypothesis_rating['rice']\n",
    "hypothesis_rating"
   ]
  },
  {
   "cell_type": "markdown",
   "metadata": {},
   "source": [
    "Видим изменения в рейтингах гипотез при разных подходах к их приоритизации. Так произошло в связи с тем, что при RICE учитывается Reach в расчетах, который обозначает аудиторию проводимых изменений. "
   ]
  },
  {
   "cell_type": "markdown",
   "metadata": {},
   "source": [
    "**Вывод:**\n",
    "\n",
    "Мы провели приоритизацию гипотез:\n",
    "\n",
    "* При ICE первое место заняла 8-я гипотеза;\n",
    "* При RICE первое место заняла 7-я гипотеза;\n",
    "* Если учитывать совокупный рейтинг, наиболее приоритетными гипотезами стали 0-я и 7-я гипотезы, которые в обоих рейтингах являются топ-3. \n",
    "\n",
    "[Вернуться к содержанию](#Содержание)"
   ]
  },
  {
   "cell_type": "markdown",
   "metadata": {},
   "source": [
    "<a id='Анализ-теста'></a>\n",
    "## Анализ A/B-теста"
   ]
  },
  {
   "cell_type": "markdown",
   "metadata": {},
   "source": [
    "В нашем распоряжении результаты A/B-тестирования, которые необходимо проанализировать и интерпретировать. "
   ]
  },
  {
   "cell_type": "markdown",
   "metadata": {},
   "source": [
    "Датафреймы orders_no_overlap и visitors содержат информацию о заказах и посетителях интернет-магазина, полученные в рамках A/B-тестирования. Получим новый датасет, содержащий кумулятивные данные:"
   ]
  },
  {
   "cell_type": "code",
   "execution_count": 17,
   "metadata": {},
   "outputs": [
    {
     "data": {
      "text/html": [
       "<div>\n",
       "<style scoped>\n",
       "    .dataframe tbody tr th:only-of-type {\n",
       "        vertical-align: middle;\n",
       "    }\n",
       "\n",
       "    .dataframe tbody tr th {\n",
       "        vertical-align: top;\n",
       "    }\n",
       "\n",
       "    .dataframe thead th {\n",
       "        text-align: right;\n",
       "    }\n",
       "</style>\n",
       "<table border=\"1\" class=\"dataframe\">\n",
       "  <thead>\n",
       "    <tr style=\"text-align: right;\">\n",
       "      <th></th>\n",
       "      <th>date</th>\n",
       "      <th>group</th>\n",
       "      <th>orders</th>\n",
       "      <th>buyers</th>\n",
       "      <th>revenue</th>\n",
       "      <th>visitors</th>\n",
       "    </tr>\n",
       "  </thead>\n",
       "  <tbody>\n",
       "    <tr>\n",
       "      <th>0</th>\n",
       "      <td>2019-08-01</td>\n",
       "      <td>A</td>\n",
       "      <td>23</td>\n",
       "      <td>19</td>\n",
       "      <td>142779</td>\n",
       "      <td>719</td>\n",
       "    </tr>\n",
       "    <tr>\n",
       "      <th>1</th>\n",
       "      <td>2019-08-01</td>\n",
       "      <td>B</td>\n",
       "      <td>17</td>\n",
       "      <td>17</td>\n",
       "      <td>59758</td>\n",
       "      <td>713</td>\n",
       "    </tr>\n",
       "    <tr>\n",
       "      <th>2</th>\n",
       "      <td>2019-08-02</td>\n",
       "      <td>A</td>\n",
       "      <td>42</td>\n",
       "      <td>36</td>\n",
       "      <td>234381</td>\n",
       "      <td>1338</td>\n",
       "    </tr>\n",
       "    <tr>\n",
       "      <th>3</th>\n",
       "      <td>2019-08-02</td>\n",
       "      <td>B</td>\n",
       "      <td>40</td>\n",
       "      <td>39</td>\n",
       "      <td>221801</td>\n",
       "      <td>1294</td>\n",
       "    </tr>\n",
       "    <tr>\n",
       "      <th>4</th>\n",
       "      <td>2019-08-03</td>\n",
       "      <td>A</td>\n",
       "      <td>66</td>\n",
       "      <td>60</td>\n",
       "      <td>346854</td>\n",
       "      <td>1845</td>\n",
       "    </tr>\n",
       "  </tbody>\n",
       "</table>\n",
       "</div>"
      ],
      "text/plain": [
       "        date group  orders  buyers  revenue  visitors\n",
       "0 2019-08-01     A      23      19   142779       719\n",
       "1 2019-08-01     B      17      17    59758       713\n",
       "2 2019-08-02     A      42      36   234381      1338\n",
       "3 2019-08-02     B      40      39   221801      1294\n",
       "4 2019-08-03     A      66      60   346854      1845"
      ]
     },
     "execution_count": 17,
     "metadata": {},
     "output_type": "execute_result"
    }
   ],
   "source": [
    "# создаем массив уникальных пар значений дат и групп теста\n",
    "dates_groups = orders_no_overlap[['date','group']].drop_duplicates() \n",
    "\n",
    "# получаем агрегированные кумулятивные по дням данные о заказах\n",
    "orders_agg = dates_groups.apply(lambda x: orders_no_overlap[np.logical_and(orders_no_overlap['date'] <= x['date'],\\\n",
    "orders_no_overlap['group'] == x['group'])]\\\n",
    ".agg({'date' : 'max', 'group' : 'max', 'transactionid' : 'nunique', 'visitorid' : 'nunique',\\\n",
    "'revenue' : 'sum'}), axis=1).sort_values(by=['date','group']) \n",
    "\n",
    "# получаем агрегированные кумулятивные по дням данные о посетителях интернет-магазина\n",
    "visitors_agg = dates_groups.apply(lambda x: visitors[np.logical_and(visitors['date'] <= x['date'],\\\n",
    "visitors['group'] == x['group'])].agg({'date' : 'max', 'group' : 'max', 'visitors' : 'sum'}), axis=1)\\\n",
    ".sort_values(by=['date','group'])\n",
    "\n",
    "# объединяем кумулятивные данные в одной таблице и присваиваем ее столбцам понятные названия\n",
    "data_c = orders_agg.merge(visitors_agg, left_on=['date', 'group'], right_on=['date', 'group'])\n",
    "data_c.columns = ['date', 'group', 'orders', 'buyers', 'revenue', 'visitors']\n",
    "\n",
    "data_c.head()"
   ]
  },
  {
   "cell_type": "markdown",
   "metadata": {},
   "source": [
    "<a id='График-кумулятивной-выручки-по-группам'></a>\n",
    "Построим **график кумулятивной выручки** по группам:"
   ]
  },
  {
   "cell_type": "code",
   "execution_count": 18,
   "metadata": {},
   "outputs": [
    {
     "data": {
      "image/png": "[encoded data removed]",
      "text/plain": [
       "<Figure size 1080x504 with 1 Axes>"
      ]
     },
     "metadata": {
      "needs_background": "light"
     },
     "output_type": "display_data"
    }
   ],
   "source": [
    "# датафрейм с кумулятивным количеством заказов и кумулятивной выручкой по дням в группе А\n",
    "revenue_a_c = data_c[data_c['group']=='A'][['date','revenue', 'orders']]\n",
    "\n",
    "# датафрейм с кумулятивным количеством заказов и кумулятивной выручкой по дням в группе B\n",
    "revenue_b_c = data_c[data_c['group']=='B'][['date','revenue', 'orders']]\n",
    "\n",
    "#зададим размер графика для сабплотов\n",
    "plt.figure(figsize=(15, 7))\n",
    "\n",
    "# Строим график выручки группы А\n",
    "plt.plot(revenue_a_c['date'], revenue_a_c['revenue'], label='A')\n",
    "\n",
    "# Строим график выручки группы B\n",
    "plt.plot(revenue_b_c['date'], revenue_b_c['revenue'], label='B')\n",
    "\n",
    "plt.title('График кумулятивной выручки по группам')\n",
    "plt.ylabel(\"Выручка\")\n",
    "plt.xlabel(\"День тестирования\")\n",
    "plt.xticks(rotation=45)\n",
    "plt.legend()\n",
    "plt.show()"
   ]
  },
  {
   "cell_type": "markdown",
   "metadata": {},
   "source": [
    "Мы видим, что выручка в обеих группах увеличивается в течение всего теста. 18.08.2019 в группе B происходит скачок показателя вверх, что может сигнализировать о всплесках числа заказов, либо о появлении очень дорогих заказов в выборке. "
   ]
  },
  {
   "cell_type": "markdown",
   "metadata": {},
   "source": [
    "<a id='График-кумулятивного-среднего-чека-по-группам'></a>\n",
    "Построим **график кумулятивного среднего чека** по группам:"
   ]
  },
  {
   "cell_type": "code",
   "execution_count": 19,
   "metadata": {},
   "outputs": [
    {
     "data": {
      "image/png": "[encoded data removed]",
      "text/plain": [
       "<Figure size 1080x504 with 1 Axes>"
      ]
     },
     "metadata": {
      "needs_background": "light"
     },
     "output_type": "display_data"
    }
   ],
   "source": [
    "plt.figure(figsize=(15, 7))\n",
    "\n",
    "#разделим кумулятивную выручку на кумулятивное число заказов\n",
    "plt.plot(revenue_a_c['date'], revenue_a_c['revenue']/revenue_a_c['orders'], label='A')\n",
    "plt.plot(revenue_b_c['date'], revenue_b_c['revenue']/revenue_b_c['orders'], label='B')\n",
    "\n",
    "plt.title('График кумулятивного среднего чека по группам')\n",
    "plt.ylabel(\"Средний чек\")\n",
    "plt.xlabel(\"День тестирования\")\n",
    "plt.xticks(rotation=45)\n",
    "plt.legend()\n",
    "plt.show()"
   ]
  },
  {
   "cell_type": "markdown",
   "metadata": {},
   "source": [
    "Средний чек по группе A стабилизируется, начиная с 14.08.2019, по группе B мы наблюдаем тот же скачок, что и по выручке - значит, скорее всего, дело в 1 дорогостоящем заказе. "
   ]
  },
  {
   "cell_type": "markdown",
   "metadata": {},
   "source": [
    "<a id='График-кумулятивного-среднего-чека-группы-B-к-группе-A'></a>\n",
    "Построим **график относительного изменения кумулятивного среднего чека группы B к группе A**:"
   ]
  },
  {
   "cell_type": "code",
   "execution_count": 20,
   "metadata": {},
   "outputs": [
    {
     "data": {
      "image/png": "[encoded data removed]",
      "text/plain": [
       "<Figure size 1080x504 with 1 Axes>"
      ]
     },
     "metadata": {
      "needs_background": "light"
     },
     "output_type": "display_data"
    }
   ],
   "source": [
    "# собираем данные в одном датафрейме\n",
    "merged_revenue_c = revenue_a_c.merge(revenue_b_c, left_on='date', right_on='date', how='left', suffixes=['A', 'B'])\n",
    "\n",
    "plt.figure(figsize=(15, 7))\n",
    "\n",
    "# cтроим отношение средних чеков\n",
    "plt.plot(merged_revenue_c['date'], (merged_revenue_c['revenueB'] / merged_revenue_c['ordersB'])\\\n",
    "/ (merged_revenue_c['revenueA'] / merged_revenue_c['ordersA']) - 1)\n",
    "\n",
    "# добавляем ось X\n",
    "plt.axhline(y=0, color='black', linestyle='--')\n",
    "plt.title('График относительного изменения кумулятивного среднего чека группы B к группе A')\n",
    "plt.ylabel(\"Средний чек\")\n",
    "plt.xlabel(\"День тестирования\")\n",
    "plt.xticks(rotation=45)\n",
    "plt.show()"
   ]
  },
  {
   "cell_type": "markdown",
   "metadata": {},
   "source": [
    "В нескольких точках график различия между сегментами резко «скачет», что тоже может обозначать выбросы. 18.08.2019 наблюдаем знакомый скачок вверх. "
   ]
  },
  {
   "cell_type": "markdown",
   "metadata": {},
   "source": [
    "<a id='График-кумулятивного-среднего-количества-заказов-на-посетителя'></a>\n",
    "Построим **график кумулятивного среднего количества заказов на посетителя** по группам:"
   ]
  },
  {
   "cell_type": "code",
   "execution_count": 21,
   "metadata": {},
   "outputs": [
    {
     "data": {
      "image/png": "[encoded data removed]",
      "text/plain": [
       "<Figure size 1080x504 with 1 Axes>"
      ]
     },
     "metadata": {
      "needs_background": "light"
     },
     "output_type": "display_data"
    }
   ],
   "source": [
    "# считаем среднее количество заказов на посетителя\n",
    "data_c['conversion'] = data_c['orders']/data_c['visitors']\n",
    "\n",
    "# отделяем данные по группе A\n",
    "data_a_c = data_c[data_c['group']=='A']\n",
    "\n",
    "# отделяем данные по группе B\n",
    "data_b_c = data_c[data_c['group']=='B']\n",
    "\n",
    "plt.figure(figsize=(15, 7))\n",
    "\n",
    "# строим графики\n",
    "plt.plot(data_a_c['date'], data_a_c['conversion'], label='A')\n",
    "plt.plot(data_b_c['date'], data_b_c['conversion'], label='B')\n",
    "plt.legend()\n",
    "plt.title('Кумулятивная конверсия по группам')\n",
    "plt.xlabel('День тестирования')\n",
    "plt.ylabel('Конверсия')\n",
    "plt.xticks(rotation=45)\n",
    "plt.show()"
   ]
  },
  {
   "cell_type": "markdown",
   "metadata": {},
   "source": [
    "Групповые кумулятивные показатели средего количества заказов на посетителя стартовали с разных значений и выравниваются примерно с 10 дня тестирования, где конверсия группы B стабильно выше конверсии группы A. "
   ]
  },
  {
   "cell_type": "markdown",
   "metadata": {},
   "source": [
    "<a id='График-относительного-изменения-кумулятивного-среднего-количества-заказов-на-посетителя-группы-B-к-группе-A'></a>\n",
    "Постройте **график относительного изменения кумулятивного среднего количества заказов на посетителя группы B к группе A**:"
   ]
  },
  {
   "cell_type": "code",
   "execution_count": 22,
   "metadata": {},
   "outputs": [
    {
     "data": {
      "image/png": "[encoded data removed]",
      "text/plain": [
       "<Figure size 1080x504 with 1 Axes>"
      ]
     },
     "metadata": {
      "needs_background": "light"
     },
     "output_type": "display_data"
    }
   ],
   "source": [
    "merged_conversions_c = data_a_c[['date','conversion']].merge(data_b_c[['date','conversion']],\\\n",
    "left_on='date', right_on='date', how='left', suffixes=['A', 'B'])\n",
    "\n",
    "plt.figure(figsize=(15, 7))\n",
    "plt.plot(merged_conversions_c['date'], merged_conversions_c['conversionB']/merged_conversions_c['conversionA']-1)\n",
    "plt.title('Относительный прирост кумулятивного среднего количества заказов на посетителя группы B относительно группы A')\n",
    "plt.xlabel('День тестирования')\n",
    "plt.ylabel('Конверсия')\n",
    "plt.xticks(rotation=45)\n",
    "plt.axhline(y=0, color='black', linestyle='--')\n",
    "plt.axhline(y=0.16, color='grey', linestyle='--')\n",
    "plt.show()"
   ]
  },
  {
   "cell_type": "markdown",
   "metadata": {},
   "source": [
    "Мы видим, что в первые 6 дней группа B проигрывала группе A по среднему количеству заказов на посетителя, благодаря росту, начиная с 3-го дня тестирования, группа В вышла вперед 06.08.2019. Стабилизация кумулятивного показателя произошла около 10 дня тестирования, что мы и видели на предыдущем графике по группам. "
   ]
  },
  {
   "cell_type": "markdown",
   "metadata": {},
   "source": [
    "<a id='Точечный-график-количества-заказов-по-пользователям'></a>\n",
    "Построим **точечный график количества заказов по пользователям**:"
   ]
  },
  {
   "cell_type": "code",
   "execution_count": 23,
   "metadata": {},
   "outputs": [
    {
     "data": {
      "text/html": [
       "<div>\n",
       "<style scoped>\n",
       "    .dataframe tbody tr th:only-of-type {\n",
       "        vertical-align: middle;\n",
       "    }\n",
       "\n",
       "    .dataframe tbody tr th {\n",
       "        vertical-align: top;\n",
       "    }\n",
       "\n",
       "    .dataframe thead th {\n",
       "        text-align: right;\n",
       "    }\n",
       "</style>\n",
       "<table border=\"1\" class=\"dataframe\">\n",
       "  <thead>\n",
       "    <tr style=\"text-align: right;\">\n",
       "      <th></th>\n",
       "      <th>visitorid</th>\n",
       "      <th>transactionid</th>\n",
       "    </tr>\n",
       "  </thead>\n",
       "  <tbody>\n",
       "    <tr>\n",
       "      <th>0</th>\n",
       "      <td>5114589</td>\n",
       "      <td>1</td>\n",
       "    </tr>\n",
       "    <tr>\n",
       "      <th>1</th>\n",
       "      <td>6958315</td>\n",
       "      <td>1</td>\n",
       "    </tr>\n",
       "    <tr>\n",
       "      <th>2</th>\n",
       "      <td>11685486</td>\n",
       "      <td>1</td>\n",
       "    </tr>\n",
       "    <tr>\n",
       "      <th>3</th>\n",
       "      <td>39475350</td>\n",
       "      <td>1</td>\n",
       "    </tr>\n",
       "    <tr>\n",
       "      <th>4</th>\n",
       "      <td>47206413</td>\n",
       "      <td>1</td>\n",
       "    </tr>\n",
       "  </tbody>\n",
       "</table>\n",
       "</div>"
      ],
      "text/plain": [
       "   visitorid  transactionid\n",
       "0    5114589              1\n",
       "1    6958315              1\n",
       "2   11685486              1\n",
       "3   39475350              1\n",
       "4   47206413              1"
      ]
     },
     "execution_count": 23,
     "metadata": {},
     "output_type": "execute_result"
    }
   ],
   "source": [
    "#сформируем таблицу с количеством заказов на пользователя \n",
    "orders_by_users = (orders_no_overlap.groupby('visitorid', as_index=False).agg({'transactionid': 'nunique'}))\n",
    "orders_by_users.columns = ['visitorid', 'transactionid']\n",
    "\n",
    "orders_by_users.head()"
   ]
  },
  {
   "cell_type": "code",
   "execution_count": 24,
   "metadata": {},
   "outputs": [
    {
     "data": {
      "image/png": "[encoded data removed]",
      "text/plain": [
       "<Figure size 1080x504 with 1 Axes>"
      ]
     },
     "metadata": {
      "needs_background": "light"
     },
     "output_type": "display_data"
    }
   ],
   "source": [
    "x_values = pd.Series(range(0,len(orders_by_users)))\n",
    "\n",
    "plt.figure(figsize=(15, 7))\n",
    "plt.scatter(x_values, orders_by_users['transactionid'])\n",
    "plt.title('Число заказов на пользователя')\n",
    "plt.xlabel('Пользователь')\n",
    "plt.ylabel('Количество заказов')\n",
    "plt.show()"
   ]
  },
  {
   "cell_type": "markdown",
   "metadata": {},
   "source": [
    "В основном пользователи делали по 1 заказу, есть пользователи, сделавшие по 2-3 заказа - эти точки выбиваются из общей массы, ранее мы уже отмечали вероятное наличие выбросов/аномальных значений в данных по тестированию."
   ]
  },
  {
   "cell_type": "markdown",
   "metadata": {},
   "source": [
    "<a id='Перцентили-количества-заказов-на-пользователя'></a>\n",
    "Посчитаем **95-й и 99-й перцентили количества заказов на пользователя**:"
   ]
  },
  {
   "cell_type": "code",
   "execution_count": 25,
   "metadata": {},
   "outputs": [
    {
     "name": "stdout",
     "output_type": "stream",
     "text": [
      "[1. 2.]\n"
     ]
    }
   ],
   "source": [
    "print(np.percentile(orders_by_users['transactionid'], [95, 99]))"
   ]
  },
  {
   "cell_type": "markdown",
   "metadata": {},
   "source": [
    "Не более 1% пользователей оформляли 2 и более заказа.\n",
    "Разумно выбрать 1 заказ на одного пользователя за верхнюю границу числа заказов - выше аномальные значения."
   ]
  },
  {
   "cell_type": "markdown",
   "metadata": {},
   "source": [
    "<a id='Точечный-график-стоимостей-заказов'></a>\n",
    "Построим **точечный график стоимостей заказов**:"
   ]
  },
  {
   "cell_type": "code",
   "execution_count": 26,
   "metadata": {},
   "outputs": [
    {
     "data": {
      "image/png": "[encoded data removed]",
      "text/plain": [
       "<Figure size 1080x504 with 1 Axes>"
      ]
     },
     "metadata": {
      "needs_background": "light"
     },
     "output_type": "display_data"
    }
   ],
   "source": [
    "x_values = pd.Series(range(0,len(orders_no_overlap['revenue'])))\n",
    "\n",
    "plt.figure(figsize=(15, 7))\n",
    "plt.ticklabel_format(style='plain')\n",
    "plt.scatter(x_values, orders_no_overlap['revenue'])\n",
    "plt.title('Точечный график стоимости заказов')\n",
    "plt.xlabel('Заказ')\n",
    "plt.ylabel('Стоимость заказа')\n",
    "plt.show()"
   ]
  },
  {
   "cell_type": "markdown",
   "metadata": {},
   "source": [
    "Видим 2 отчетливых выброса: один на 1200000, другой на 20000. Ранее мы фиксировали значительный скачок в кумулятивной выручке группы В с 18.08.2019 по 19.08.2019, теперь мы отчетливо видим причину. "
   ]
  },
  {
   "cell_type": "markdown",
   "metadata": {},
   "source": [
    "<a id='Перцентили-стоимости-заказов'></a>\n",
    "Посчитаем **95-й и 99-й перцентили стоимости заказов**:"
   ]
  },
  {
   "cell_type": "code",
   "execution_count": 27,
   "metadata": {},
   "outputs": [
    {
     "name": "stdout",
     "output_type": "stream",
     "text": [
      "[26785. 53904.]\n"
     ]
    }
   ],
   "source": [
    "print(np.percentile(orders_no_overlap['revenue'], [95, 99]))"
   ]
  },
  {
   "cell_type": "markdown",
   "metadata": {},
   "source": [
    "Не более 1 процента заказов имеют сумму более 53904 - под эту планку попадают 2 найденных ярко выраженных выброса. "
   ]
  },
  {
   "cell_type": "markdown",
   "metadata": {},
   "source": [
    "<a id='Статистическая-значимость-различий-в-среднем-количестве-заказов-на-посетителя-между-группами-по-«сырым»-данным'></a>\n",
    "Посчитаем **статистическую значимость различий в среднем количестве заказов на посетителя между группами по «сырым» данным**:"
   ]
  },
  {
   "cell_type": "code",
   "execution_count": 28,
   "metadata": {},
   "outputs": [
    {
     "data": {
      "text/html": [
       "<div>\n",
       "<style scoped>\n",
       "    .dataframe tbody tr th:only-of-type {\n",
       "        vertical-align: middle;\n",
       "    }\n",
       "\n",
       "    .dataframe tbody tr th {\n",
       "        vertical-align: top;\n",
       "    }\n",
       "\n",
       "    .dataframe thead th {\n",
       "        text-align: right;\n",
       "    }\n",
       "</style>\n",
       "<table border=\"1\" class=\"dataframe\">\n",
       "  <thead>\n",
       "    <tr style=\"text-align: right;\">\n",
       "      <th></th>\n",
       "      <th>group</th>\n",
       "      <th>transactionid</th>\n",
       "      <th>visitors</th>\n",
       "      <th>conversion</th>\n",
       "    </tr>\n",
       "  </thead>\n",
       "  <tbody>\n",
       "    <tr>\n",
       "      <th>0</th>\n",
       "      <td>A</td>\n",
       "      <td>468</td>\n",
       "      <td>18736</td>\n",
       "      <td>0.024979</td>\n",
       "    </tr>\n",
       "    <tr>\n",
       "      <th>1</th>\n",
       "      <td>B</td>\n",
       "      <td>548</td>\n",
       "      <td>18916</td>\n",
       "      <td>0.028970</td>\n",
       "    </tr>\n",
       "  </tbody>\n",
       "</table>\n",
       "</div>"
      ],
      "text/plain": [
       "  group  transactionid  visitors  conversion\n",
       "0     A            468     18736    0.024979\n",
       "1     B            548     18916    0.028970"
      ]
     },
     "execution_count": 28,
     "metadata": {},
     "output_type": "execute_result"
    }
   ],
   "source": [
    "#выясним общую конверсию по группам\n",
    "conversion_raw = orders_no_overlap.groupby('group').agg({'transactionid':'count'}).join(visitors.groupby('group')\\\n",
    ".agg({'visitors':'sum'})).reset_index()\n",
    "              \n",
    "conversion_raw['conversion'] = conversion_raw['transactionid'] / conversion_raw['visitors']\n",
    "conversion_raw"
   ]
  },
  {
   "cell_type": "markdown",
   "metadata": {},
   "source": [
    "У нас есть значение конверсий для неочищенных выборрок (групп), выясним, можем ли мы доверять результату и судить по нему о генеральной совокупности.\n",
    "\n",
    "Сформулируем гипотезы:\n",
    "\n",
    "H0: Конверсия по двум группам равна;\n",
    "\n",
    "H1: Конверсия по двум группам не равна. "
   ]
  },
  {
   "cell_type": "code",
   "execution_count": 29,
   "metadata": {},
   "outputs": [
    {
     "name": "stdout",
     "output_type": "stream",
     "text": [
      "p-значение:  0.016851380434703023\n",
      "Отвергаем нулевую гипотезу: между долями есть значимая разница\n"
     ]
    }
   ],
   "source": [
    "#поскольку конверсия - это коэффициент, процентная доля, будем использовать критерий Z для оценки стат. значимости\n",
    "alpha = .05 # критический уровень статистической значимости\n",
    "successes = conversion_raw['transactionid']\n",
    "trials = conversion_raw['visitors']\n",
    "# пропорция успехов в первой группе:\n",
    "p1 = successes[0]/trials[0]\n",
    "# пропорция успехов во второй группе:\n",
    "p2 = successes[1]/trials[1]\n",
    "# пропорция успехов в комбинированном датасете:\n",
    "p_combined = (successes[0] + successes[1]) / (trials[0] + trials[1])\n",
    "#разница пропорций в датасетах\n",
    "difference = p1 - p2\n",
    "#считаем статистику в ст.отклонениях стандартного нормального распределения\n",
    "z_value = difference / math.sqrt(p_combined * (1 - p_combined) * (1/trials[0] + 1/trials[1]))\n",
    "#задаем стандартное нормальное распределение (среднее 0, ст.отклонение 1)\n",
    "distr = st.norm(0, 1)\n",
    "#считаем статистику в ст.отклонениях стандартного нормального распределения\n",
    "z_value = difference / math.sqrt(p_combined * (1 - p_combined) * (1/trials[0] + 1/trials[1]))\n",
    "#задаем стандартное нормальное распределение (среднее 0, ст.отклонение 1)\n",
    "distr = st.norm(0, 1)\n",
    "p_value = (1 - distr.cdf(abs(z_value))) * 2\n",
    "print('p-значение: ', p_value)\n",
    "if (p_value < alpha):\n",
    "    print(\"Отвергаем нулевую гипотезу: между долями есть значимая разница\")\n",
    "else:\n",
    "    print(\"Не получилось отвергнуть нулевую гипотезу, нет оснований считать доли разными\")"
   ]
  },
  {
   "cell_type": "markdown",
   "metadata": {},
   "source": [
    "Таким образом, по неочищенным данным конверсия группы B выше конверсии группы А на 0.4%, разница статистически значима. "
   ]
  },
  {
   "cell_type": "markdown",
   "metadata": {},
   "source": [
    "<a id='Статистическая-значимость-различий-в-среднем-чеке-заказа-между-группами-по-«сырым»-данным'></a>\n",
    "Посчитаем **статистическую значимость различий в среднем чеке заказа между группами по «сырым» данным**:"
   ]
  },
  {
   "cell_type": "markdown",
   "metadata": {},
   "source": [
    "Ранее мы уже формировали график со средним чеком и наблюдали выброс (18-го числа), проверим, является ли различие в среднем чеке между группами статистически значимым:"
   ]
  },
  {
   "cell_type": "code",
   "execution_count": 30,
   "metadata": {
    "scrolled": true
   },
   "outputs": [
    {
     "name": "stdout",
     "output_type": "stream",
     "text": [
      "Средний чек по группе А: 7189.4358974358975\n",
      "Средний чек по группе В: 9249.94890510949\n"
     ]
    }
   ],
   "source": [
    "#выведем средний чек по всем данным\n",
    "print('Средний чек по группе А:', orders_no_overlap[orders_no_overlap['group']=='A']['revenue'].mean())\n",
    "print('Средний чек по группе В:', orders_no_overlap[orders_no_overlap['group']=='B']['revenue'].mean())"
   ]
  },
  {
   "cell_type": "markdown",
   "metadata": {},
   "source": [
    "Видим разницу, определим, можем ли мы считать ее статистически значимой.\n",
    "\n",
    "Сформулируем гипотезы:\n",
    "\n",
    "H0: Средний чек заказа по двум группам не различается;\n",
    "\n",
    "H1: Средний чек заказа по двум группам различается. "
   ]
  },
  {
   "cell_type": "code",
   "execution_count": 31,
   "metadata": {},
   "outputs": [
    {
     "name": "stdout",
     "output_type": "stream",
     "text": [
      "p-значение:  0.8294908998149533\n",
      "Не получилось отвергнуть нулевую гипотезу, вывод о различии сделать нельзя\n"
     ]
    }
   ],
   "source": [
    "#поскольку это сырые данные с аномальными значениями и не доли, как в прошлом показателе, \n",
    "#будем использовать критерий Манна-Уитни, передадим тесту сами данные, а не агрегированные значения среднего чека,\n",
    "#т.к. тест рассчитан на сравнение ранговых данных между выборками\n",
    "alpha = .05 # критический уровень статистической значимости\n",
    "results = st.mannwhitneyu(orders_no_overlap[orders_no_overlap['group']=='A']['revenue'],\\\n",
    "                          orders_no_overlap[orders_no_overlap['group']=='B']['revenue'])\n",
    "print('p-значение: ', results.pvalue)\n",
    "if (results.pvalue < alpha):\n",
    "    print(\"Отвергаем нулевую гипотезу: разница статистически значима\")\n",
    "else:\n",
    "    print(\"Не получилось отвергнуть нулевую гипотезу, вывод о различии сделать нельзя\")"
   ]
  },
  {
   "cell_type": "markdown",
   "metadata": {},
   "source": [
    "Таким образом, по различиям в среднем чеке двух групп теста нельзя утверждать того же о данных генеральной совокупности, так как вероятность случайно наблюдать такую разницу при условии, что средние чеки на самом деле равны, достаточно высока - 73%. Это значительно выше уровня значимости в 5%, поэтому нельзя отвергнуть нулевую гипотезу — разница в среднем чеке не является статистически значимой."
   ]
  },
  {
   "cell_type": "markdown",
   "metadata": {},
   "source": [
    "<a id='Статистическая-значимость-различий-в-среднем-количестве-заказов-на-посетителя-между-группами-по-«очищенным»-данным'></a>\n",
    "Посчитаем **статистическую значимость различий в среднем количестве заказов на посетителя между группами по «очищенным» данным**:"
   ]
  },
  {
   "cell_type": "code",
   "execution_count": 32,
   "metadata": {},
   "outputs": [
    {
     "data": {
      "text/html": [
       "<div>\n",
       "<style scoped>\n",
       "    .dataframe tbody tr th:only-of-type {\n",
       "        vertical-align: middle;\n",
       "    }\n",
       "\n",
       "    .dataframe tbody tr th {\n",
       "        vertical-align: top;\n",
       "    }\n",
       "\n",
       "    .dataframe thead th {\n",
       "        text-align: right;\n",
       "    }\n",
       "</style>\n",
       "<table border=\"1\" class=\"dataframe\">\n",
       "  <thead>\n",
       "    <tr style=\"text-align: right;\">\n",
       "      <th></th>\n",
       "      <th>group</th>\n",
       "      <th>transactionid</th>\n",
       "      <th>visitors</th>\n",
       "      <th>conversion</th>\n",
       "    </tr>\n",
       "  </thead>\n",
       "  <tbody>\n",
       "    <tr>\n",
       "      <th>0</th>\n",
       "      <td>A</td>\n",
       "      <td>422</td>\n",
       "      <td>18736</td>\n",
       "      <td>0.022523</td>\n",
       "    </tr>\n",
       "    <tr>\n",
       "      <th>1</th>\n",
       "      <td>B</td>\n",
       "      <td>506</td>\n",
       "      <td>18916</td>\n",
       "      <td>0.026750</td>\n",
       "    </tr>\n",
       "  </tbody>\n",
       "</table>\n",
       "</div>"
      ],
      "text/plain": [
       "  group  transactionid  visitors  conversion\n",
       "0     A            422     18736    0.022523\n",
       "1     B            506     18916    0.026750"
      ]
     },
     "execution_count": 32,
     "metadata": {},
     "output_type": "execute_result"
    }
   ],
   "source": [
    "#сначала отфильтруем данные от ранее найденных выбросов: не более 3х заказов на посетителя и стоимость заказа не более 58233\n",
    "orders_filtered = orders_no_overlap[((orders_no_overlap['revenue']<=53904)) & (orders_no_overlap['visitorid']\\\n",
    ".isin(orders_by_users[(orders_by_users['transactionid']<=1)]['visitorid'].to_list()))]\n",
    "\n",
    "conversion_filtered = (orders_filtered.groupby('group').agg({'transactionid':'count'}).join(visitors.groupby('group')\\\n",
    ".agg({'visitors':'sum'})).reset_index())\n",
    "conversion_filtered['conversion'] = conversion_filtered['transactionid'] / conversion_filtered['visitors']\n",
    "conversion_filtered"
   ]
  },
  {
   "cell_type": "markdown",
   "metadata": {},
   "source": [
    "Видим, что по очищенным данным конверсия относительно друг друга не сильно изменилась (вновь разница около 0.4%). \n",
    "Проверим, являются ли эти значения статистически значимыми:\n",
    "\n",
    "H0: Конверсия по двум группа равна;\n",
    "\n",
    "H1: Конверсия по двум группам не равна. "
   ]
  },
  {
   "cell_type": "code",
   "execution_count": 33,
   "metadata": {},
   "outputs": [
    {
     "name": "stdout",
     "output_type": "stream",
     "text": [
      "p-значение:  0.008178114125688918\n",
      "Отвергаем нулевую гипотезу: между долями есть значимая разница\n"
     ]
    }
   ],
   "source": [
    "#поскольку конверсия - это коэффициент, процентная доля, будем использовать критерий Z для оценки стат. значимости\n",
    "alpha = .05 # критический уровень статистической значимости\n",
    "successes = conversion_filtered['transactionid']\n",
    "trials = conversion_filtered['visitors']\n",
    "# пропорция успехов в первой группе:\n",
    "p1 = successes[0]/trials[0]\n",
    "# пропорция успехов во второй группе:\n",
    "p2 = successes[1]/trials[1]\n",
    "# пропорция успехов в комбинированном датасете:\n",
    "p_combined = (successes[0] + successes[1]) / (trials[0] + trials[1])\n",
    "#разница пропорций в датасетах\n",
    "difference = p1 - p2\n",
    "#считаем статистику в ст.отклонениях стандартного нормального распределения\n",
    "z_value = difference / math.sqrt(p_combined * (1 - p_combined) * (1/trials[0] + 1/trials[1]))\n",
    "#задаем стандартное нормальное распределение (среднее 0, ст.отклонение 1)\n",
    "distr = st.norm(0, 1)\n",
    "#считаем статистику в ст.отклонениях стандартного нормального распределения\n",
    "z_value = difference / math.sqrt(p_combined * (1 - p_combined) * (1/trials[0] + 1/trials[1]))\n",
    "#задаем стандартное нормальное распределение (среднее 0, ст.отклонение 1)\n",
    "distr = st.norm(0, 1)\n",
    "p_value = (1 - distr.cdf(abs(z_value))) * 2\n",
    "print('p-значение: ', p_value)\n",
    "if (p_value < alpha):\n",
    "    print(\"Отвергаем нулевую гипотезу: между долями есть значимая разница\")\n",
    "else:\n",
    "    print(\"Не получилось отвергнуть нулевую гипотезу, нет оснований считать доли разными\")"
   ]
  },
  {
   "cell_type": "markdown",
   "metadata": {},
   "source": [
    "Различия в среднем количестве заказов на поситителя вновь стат. значимы."
   ]
  },
  {
   "cell_type": "markdown",
   "metadata": {},
   "source": [
    "<a id='Статистическая-значимость-различий-в-среднем-чеке-заказа-между-группами-по-«очищенным»-данным'></a>\n",
    "Посчитаем **статистическую значимость различий в среднем чеке заказа между группами по «очищенным» данным**:"
   ]
  },
  {
   "cell_type": "code",
   "execution_count": 34,
   "metadata": {},
   "outputs": [
    {
     "name": "stdout",
     "output_type": "stream",
     "text": [
      "Средний чек по группе А: 6371.995260663507\n",
      "Средний чек по группе В: 6387.217391304348\n"
     ]
    }
   ],
   "source": [
    "#выведем значения среднего чека по очищенным данным \n",
    "print('Средний чек по группе А:', orders_filtered[orders_filtered['group']=='A']['revenue'].mean())\n",
    "print('Средний чек по группе В:', orders_filtered[orders_filtered['group']=='B']['revenue'].mean())"
   ]
  },
  {
   "cell_type": "markdown",
   "metadata": {},
   "source": [
    "Видим, что, убрав выбросы, значения среднего чека по группам приблизились друг к другу.\n",
    "Проверим, можем ли мы считать этот результат статистически значимым:\n",
    "\n",
    "H0: Средний чек заказа по двум группам не различается;\n",
    "\n",
    "H1: Средний чек заказа по двум группам различается."
   ]
  },
  {
   "cell_type": "code",
   "execution_count": 35,
   "metadata": {},
   "outputs": [
    {
     "name": "stdout",
     "output_type": "stream",
     "text": [
      "p-значение:  0.9694915845343968\n",
      "Не получилось отвергнуть нулевую гипотезу, вывод о различии сделать нельзя\n"
     ]
    }
   ],
   "source": [
    "alpha = .05\n",
    "results = st.mannwhitneyu(orders_filtered[orders_filtered['group']=='A']['revenue'],\n",
    "                          orders_filtered[orders_filtered['group']=='B']['revenue'])\n",
    "print('p-значение: ', results.pvalue)\n",
    "if (results.pvalue < alpha):\n",
    "    print(\"Отвергаем нулевую гипотезу: разница статистически значима\")\n",
    "else:\n",
    "    print(\"Не получилось отвергнуть нулевую гипотезу, вывод о различии сделать нельзя\")"
   ]
  },
  {
   "cell_type": "markdown",
   "metadata": {},
   "source": [
    "Исход аналогичен расчетам по сырым данным."
   ]
  },
  {
   "cell_type": "markdown",
   "metadata": {},
   "source": [
    "<a id='Необходимость-продолжения-тестирования'></a>\n",
    "Выясним, **есть ли необходимость в продлении тестирования**:"
   ]
  },
  {
   "cell_type": "markdown",
   "metadata": {},
   "source": [
    "Исходя из вычислений выше: рекомендуется остановить тестирование и признать победу группы B, так как среднее количество заказов на посетителя(конверсия) у этой группы стабилизировалась и располагается выше, чем у группы А, аналогично и с другими показателями (в случае со средним чеком показатель группы В без выбросов ниже, однако разница не стат. значима).\n",
    "\n",
    "При варианте продолжения тестирования есть риск впустую потраченных средств, когда кривые стабилизируются без выбросов и превосходство группы В будет очевидно по всем ключевым параметрам. "
   ]
  },
  {
   "cell_type": "markdown",
   "metadata": {},
   "source": [
    "**Вывод:**\n",
    "\n",
    "Мы провели анализ A/B-теста:\n",
    "\n",
    "* Группа В обогнала группу А по всем показателям;\n",
    "* Показатели стоимости заказа свыше 53904 и количество заказов более 1 на посетителя признаны аномальными;\n",
    "* Группа В незначительно уступает группе А по всем показателям, кроме конверсии, если учитывать очищенные данные;\n",
    "* Разница в конверсии между группами является стат значимой;\n",
    "* Разница в среднем чеке не является стат. значимой;\n",
    "* Рекомендовано остановить тестирование и признать победу группы В.\n",
    "\n",
    "[Вернуться к содержанию](#Содержание)"
   ]
  },
  {
   "cell_type": "markdown",
   "metadata": {},
   "source": [
    "<a id=\"Общий-вывод\"></a>\n",
    "## Общий вывод"
   ]
  },
  {
   "cell_type": "markdown",
   "metadata": {},
   "source": [
    "**Приоритизация гипотез:**\n",
    "\n",
    "* При ICE первое место заняла 8-я гипотеза;\n",
    "* При RICE первое место заняла 7-я гипотеза;\n",
    "* Если учитывать совокупный рейтинг, наиболее приоритетными гипотезами стали 0-я и 7-я гипотезы, которые в обоих рейтингах являются топ-3.\n",
    "\n",
    "\n",
    "**A/B-тестирование:**\n",
    "\n",
    "* Группа В обогнала группу А по всем показателям;\n",
    "* Группа В незначительно уступает группе А по показателю среднего чека (А: 6371.9, В: 6387.2), если учитывать очищенные данные;\n",
    "* Разница в конверсии между группами является стат значимой;\n",
    "* Разница в среднем чеке не является стат. значимой;\n",
    "* Рекомендовано остановить тестирование и признать победу группы В.\n",
    "\n",
    "[Вернуться к содержанию](#Содержание)"
   ]
  }
 ],
 "metadata": {
  "ExecuteTimeLog": [
   {
    "duration": 1179,
    "start_time": "2024-09-07T10:07:11.230Z"
   },
   {
    "duration": 205,
    "start_time": "2024-09-07T10:09:33.976Z"
   },
   {
    "duration": 3,
    "start_time": "2024-09-07T10:30:48.928Z"
   },
   {
    "duration": 340,
    "start_time": "2024-09-07T10:31:52.489Z"
   },
   {
    "duration": 268,
    "start_time": "2024-09-07T10:36:11.451Z"
   },
   {
    "duration": 139,
    "start_time": "2024-09-07T11:03:43.149Z"
   },
   {
    "duration": 90,
    "start_time": "2024-09-07T12:24:10.096Z"
   },
   {
    "duration": 66,
    "start_time": "2024-09-07T12:25:02.052Z"
   },
   {
    "duration": 3,
    "start_time": "2024-09-07T12:25:15.687Z"
   },
   {
    "duration": 5,
    "start_time": "2024-09-07T12:31:37.190Z"
   },
   {
    "duration": 35,
    "start_time": "2024-09-07T12:34:28.362Z"
   },
   {
    "duration": 13,
    "start_time": "2024-09-07T12:37:13.268Z"
   },
   {
    "duration": 43,
    "start_time": "2024-09-07T12:44:06.400Z"
   },
   {
    "duration": 39,
    "start_time": "2024-09-07T12:44:10.172Z"
   },
   {
    "duration": 43,
    "start_time": "2024-09-07T12:44:28.875Z"
   },
   {
    "duration": 42,
    "start_time": "2024-09-07T12:44:35.453Z"
   },
   {
    "duration": 608,
    "start_time": "2024-09-07T12:46:38.751Z"
   },
   {
    "duration": 5,
    "start_time": "2024-09-07T12:46:52.637Z"
   },
   {
    "duration": 5,
    "start_time": "2024-09-07T12:47:08.477Z"
   },
   {
    "duration": 39,
    "start_time": "2024-09-07T12:48:32.085Z"
   },
   {
    "duration": 992,
    "start_time": "2024-09-07T13:01:34.686Z"
   },
   {
    "duration": 70,
    "start_time": "2024-09-07T13:01:35.680Z"
   },
   {
    "duration": 3,
    "start_time": "2024-09-07T13:01:35.751Z"
   },
   {
    "duration": 422,
    "start_time": "2024-09-07T13:01:35.756Z"
   },
   {
    "duration": 283,
    "start_time": "2024-09-07T13:01:36.179Z"
   },
   {
    "duration": 148,
    "start_time": "2024-09-07T13:01:36.464Z"
   },
   {
    "duration": 3,
    "start_time": "2024-09-07T13:01:36.613Z"
   },
   {
    "duration": 8,
    "start_time": "2024-09-07T13:01:36.617Z"
   },
   {
    "duration": 48,
    "start_time": "2024-09-07T13:01:36.626Z"
   },
   {
    "duration": 14,
    "start_time": "2024-09-07T13:01:36.675Z"
   },
   {
    "duration": 5,
    "start_time": "2024-09-07T13:01:36.691Z"
   },
   {
    "duration": 88,
    "start_time": "2024-09-07T13:06:30.991Z"
   },
   {
    "duration": 9,
    "start_time": "2024-09-07T13:08:16.217Z"
   },
   {
    "duration": 3,
    "start_time": "2024-09-07T13:08:22.154Z"
   },
   {
    "duration": 1041,
    "start_time": "2024-09-07T13:08:28.833Z"
   },
   {
    "duration": 70,
    "start_time": "2024-09-07T13:08:29.875Z"
   },
   {
    "duration": 3,
    "start_time": "2024-09-07T13:08:29.947Z"
   },
   {
    "duration": 324,
    "start_time": "2024-09-07T13:08:29.951Z"
   },
   {
    "duration": 275,
    "start_time": "2024-09-07T13:08:30.277Z"
   },
   {
    "duration": 141,
    "start_time": "2024-09-07T13:08:30.554Z"
   },
   {
    "duration": 3,
    "start_time": "2024-09-07T13:08:30.696Z"
   },
   {
    "duration": 23,
    "start_time": "2024-09-07T13:08:30.700Z"
   },
   {
    "duration": 71,
    "start_time": "2024-09-07T13:08:30.724Z"
   },
   {
    "duration": 13,
    "start_time": "2024-09-07T13:08:30.796Z"
   },
   {
    "duration": 5,
    "start_time": "2024-09-07T13:08:30.810Z"
   },
   {
    "duration": 763,
    "start_time": "2024-09-07T14:01:46.433Z"
   },
   {
    "duration": 8,
    "start_time": "2024-09-07T14:01:55.628Z"
   },
   {
    "duration": 8,
    "start_time": "2024-09-07T14:02:35.288Z"
   },
   {
    "duration": 8,
    "start_time": "2024-09-07T14:02:52.559Z"
   },
   {
    "duration": 8,
    "start_time": "2024-09-07T14:15:55.491Z"
   },
   {
    "duration": 9,
    "start_time": "2024-09-07T14:18:20.936Z"
   },
   {
    "duration": 9,
    "start_time": "2024-09-07T14:36:13.113Z"
   },
   {
    "duration": 11,
    "start_time": "2024-09-07T14:43:50.148Z"
   },
   {
    "duration": 18,
    "start_time": "2024-09-07T14:46:48.300Z"
   },
   {
    "duration": 13,
    "start_time": "2024-09-07T14:47:34.294Z"
   },
   {
    "duration": 12,
    "start_time": "2024-09-07T14:50:28.443Z"
   },
   {
    "duration": 12,
    "start_time": "2024-09-07T14:50:45.645Z"
   },
   {
    "duration": 11,
    "start_time": "2024-09-07T14:51:35.530Z"
   },
   {
    "duration": 11,
    "start_time": "2024-09-07T14:52:13.893Z"
   },
   {
    "duration": 11,
    "start_time": "2024-09-07T14:52:23.747Z"
   },
   {
    "duration": 11,
    "start_time": "2024-09-07T14:52:39.512Z"
   },
   {
    "duration": 10,
    "start_time": "2024-09-07T14:53:36.297Z"
   },
   {
    "duration": 8,
    "start_time": "2024-09-07T14:56:25.998Z"
   },
   {
    "duration": 11,
    "start_time": "2024-09-07T14:56:32.746Z"
   },
   {
    "duration": 11,
    "start_time": "2024-09-07T14:56:55.956Z"
   },
   {
    "duration": 11,
    "start_time": "2024-09-07T14:57:02.380Z"
   },
   {
    "duration": 1024,
    "start_time": "2024-09-07T14:57:08.652Z"
   },
   {
    "duration": 73,
    "start_time": "2024-09-07T14:57:09.678Z"
   },
   {
    "duration": 3,
    "start_time": "2024-09-07T14:57:09.752Z"
   },
   {
    "duration": 327,
    "start_time": "2024-09-07T14:57:09.756Z"
   },
   {
    "duration": 271,
    "start_time": "2024-09-07T14:57:10.085Z"
   },
   {
    "duration": 141,
    "start_time": "2024-09-07T14:57:10.357Z"
   },
   {
    "duration": 2,
    "start_time": "2024-09-07T14:57:10.500Z"
   },
   {
    "duration": 7,
    "start_time": "2024-09-07T14:57:10.503Z"
   },
   {
    "duration": 55,
    "start_time": "2024-09-07T14:57:10.511Z"
   },
   {
    "duration": 14,
    "start_time": "2024-09-07T14:57:10.567Z"
   },
   {
    "duration": 6,
    "start_time": "2024-09-07T14:57:10.583Z"
   },
   {
    "duration": 9,
    "start_time": "2024-09-07T14:57:10.591Z"
   },
   {
    "duration": 9,
    "start_time": "2024-09-07T14:57:10.601Z"
   },
   {
    "duration": 41,
    "start_time": "2024-09-07T14:57:10.612Z"
   },
   {
    "duration": 87,
    "start_time": "2024-09-07T15:43:26.482Z"
   },
   {
    "duration": 25,
    "start_time": "2024-09-07T15:49:48.913Z"
   },
   {
    "duration": 23,
    "start_time": "2024-09-07T15:51:11.446Z"
   },
   {
    "duration": 985,
    "start_time": "2024-09-07T15:51:21.939Z"
   },
   {
    "duration": 70,
    "start_time": "2024-09-07T15:51:22.925Z"
   },
   {
    "duration": 3,
    "start_time": "2024-09-07T15:51:22.996Z"
   },
   {
    "duration": 319,
    "start_time": "2024-09-07T15:51:23.000Z"
   },
   {
    "duration": 268,
    "start_time": "2024-09-07T15:51:23.321Z"
   },
   {
    "duration": 135,
    "start_time": "2024-09-07T15:51:23.590Z"
   },
   {
    "duration": 3,
    "start_time": "2024-09-07T15:51:23.726Z"
   },
   {
    "duration": 9,
    "start_time": "2024-09-07T15:51:23.730Z"
   },
   {
    "duration": 33,
    "start_time": "2024-09-07T15:51:23.740Z"
   },
   {
    "duration": 13,
    "start_time": "2024-09-07T15:51:23.774Z"
   },
   {
    "duration": 5,
    "start_time": "2024-09-07T15:51:23.788Z"
   },
   {
    "duration": 9,
    "start_time": "2024-09-07T15:51:23.794Z"
   },
   {
    "duration": 8,
    "start_time": "2024-09-07T15:51:23.804Z"
   },
   {
    "duration": 46,
    "start_time": "2024-09-07T15:51:23.814Z"
   },
   {
    "duration": 104,
    "start_time": "2024-09-07T15:51:23.861Z"
   },
   {
    "duration": 21,
    "start_time": "2024-09-07T15:54:04.526Z"
   },
   {
    "duration": 6,
    "start_time": "2024-09-07T15:54:23.909Z"
   },
   {
    "duration": 921,
    "start_time": "2024-09-07T15:55:56.177Z"
   },
   {
    "duration": 70,
    "start_time": "2024-09-07T15:55:57.099Z"
   },
   {
    "duration": 3,
    "start_time": "2024-09-07T15:55:57.170Z"
   },
   {
    "duration": 319,
    "start_time": "2024-09-07T15:55:57.174Z"
   },
   {
    "duration": 268,
    "start_time": "2024-09-07T15:55:57.495Z"
   },
   {
    "duration": 140,
    "start_time": "2024-09-07T15:55:57.764Z"
   },
   {
    "duration": 3,
    "start_time": "2024-09-07T15:55:57.905Z"
   },
   {
    "duration": 17,
    "start_time": "2024-09-07T15:55:57.909Z"
   },
   {
    "duration": 32,
    "start_time": "2024-09-07T15:55:57.927Z"
   },
   {
    "duration": 13,
    "start_time": "2024-09-07T15:55:57.960Z"
   },
   {
    "duration": 5,
    "start_time": "2024-09-07T15:55:57.975Z"
   },
   {
    "duration": 9,
    "start_time": "2024-09-07T15:55:57.981Z"
   },
   {
    "duration": 9,
    "start_time": "2024-09-07T15:55:57.991Z"
   },
   {
    "duration": 11,
    "start_time": "2024-09-07T15:55:58.002Z"
   },
   {
    "duration": 6,
    "start_time": "2024-09-07T15:55:58.014Z"
   },
   {
    "duration": 131,
    "start_time": "2024-09-07T15:55:58.021Z"
   },
   {
    "duration": 3,
    "start_time": "2024-09-07T15:57:03.756Z"
   },
   {
    "duration": 31,
    "start_time": "2024-09-07T15:57:08.705Z"
   },
   {
    "duration": 31,
    "start_time": "2024-09-07T15:57:12.368Z"
   },
   {
    "duration": 30,
    "start_time": "2024-09-07T15:57:20.233Z"
   },
   {
    "duration": 3,
    "start_time": "2024-09-07T15:57:21.953Z"
   },
   {
    "duration": 34,
    "start_time": "2024-09-07T15:57:23.235Z"
   },
   {
    "duration": 1001,
    "start_time": "2024-09-07T15:57:26.684Z"
   },
   {
    "duration": 69,
    "start_time": "2024-09-07T15:57:27.687Z"
   },
   {
    "duration": 3,
    "start_time": "2024-09-07T15:57:27.757Z"
   },
   {
    "duration": 334,
    "start_time": "2024-09-07T15:57:27.761Z"
   },
   {
    "duration": 286,
    "start_time": "2024-09-07T15:57:28.097Z"
   },
   {
    "duration": 143,
    "start_time": "2024-09-07T15:57:28.384Z"
   },
   {
    "duration": 2,
    "start_time": "2024-09-07T15:57:28.529Z"
   },
   {
    "duration": 5,
    "start_time": "2024-09-07T15:57:28.533Z"
   },
   {
    "duration": 38,
    "start_time": "2024-09-07T15:57:28.539Z"
   },
   {
    "duration": 13,
    "start_time": "2024-09-07T15:57:28.578Z"
   },
   {
    "duration": 18,
    "start_time": "2024-09-07T15:57:28.592Z"
   },
   {
    "duration": 21,
    "start_time": "2024-09-07T15:57:28.611Z"
   },
   {
    "duration": 9,
    "start_time": "2024-09-07T15:57:28.633Z"
   },
   {
    "duration": 10,
    "start_time": "2024-09-07T15:57:28.651Z"
   },
   {
    "duration": 7,
    "start_time": "2024-09-07T15:57:28.662Z"
   },
   {
    "duration": 111,
    "start_time": "2024-09-07T15:57:28.670Z"
   },
   {
    "duration": 169,
    "start_time": "2024-09-07T15:59:38.641Z"
   },
   {
    "duration": 2,
    "start_time": "2024-09-07T16:00:26.810Z"
   },
   {
    "duration": 33,
    "start_time": "2024-09-07T16:00:31.789Z"
   },
   {
    "duration": 7,
    "start_time": "2024-09-07T16:01:32.174Z"
   },
   {
    "duration": 56,
    "start_time": "2024-09-07T16:02:12.283Z"
   },
   {
    "duration": 2,
    "start_time": "2024-09-07T16:02:19.848Z"
   },
   {
    "duration": 34,
    "start_time": "2024-09-07T16:02:22.150Z"
   },
   {
    "duration": 998,
    "start_time": "2024-09-07T16:02:58.084Z"
   },
   {
    "duration": 69,
    "start_time": "2024-09-07T16:02:59.083Z"
   },
   {
    "duration": 3,
    "start_time": "2024-09-07T16:02:59.154Z"
   },
   {
    "duration": 326,
    "start_time": "2024-09-07T16:02:59.158Z"
   },
   {
    "duration": 285,
    "start_time": "2024-09-07T16:02:59.485Z"
   },
   {
    "duration": 133,
    "start_time": "2024-09-07T16:02:59.771Z"
   },
   {
    "duration": 3,
    "start_time": "2024-09-07T16:02:59.905Z"
   },
   {
    "duration": 7,
    "start_time": "2024-09-07T16:02:59.909Z"
   },
   {
    "duration": 45,
    "start_time": "2024-09-07T16:02:59.917Z"
   },
   {
    "duration": 14,
    "start_time": "2024-09-07T16:02:59.963Z"
   },
   {
    "duration": 6,
    "start_time": "2024-09-07T16:02:59.978Z"
   },
   {
    "duration": 785,
    "start_time": "2024-09-07T16:02:59.985Z"
   },
   {
    "duration": 0,
    "start_time": "2024-09-07T16:03:00.771Z"
   },
   {
    "duration": 0,
    "start_time": "2024-09-07T16:03:00.772Z"
   },
   {
    "duration": 0,
    "start_time": "2024-09-07T16:03:00.773Z"
   },
   {
    "duration": 0,
    "start_time": "2024-09-07T16:03:00.773Z"
   },
   {
    "duration": 3,
    "start_time": "2024-09-07T16:03:40.080Z"
   },
   {
    "duration": 31,
    "start_time": "2024-09-07T16:03:41.842Z"
   },
   {
    "duration": 957,
    "start_time": "2024-09-07T16:03:50.441Z"
   },
   {
    "duration": 69,
    "start_time": "2024-09-07T16:03:51.400Z"
   },
   {
    "duration": 3,
    "start_time": "2024-09-07T16:03:51.470Z"
   },
   {
    "duration": 329,
    "start_time": "2024-09-07T16:03:51.475Z"
   },
   {
    "duration": 273,
    "start_time": "2024-09-07T16:03:51.806Z"
   },
   {
    "duration": 140,
    "start_time": "2024-09-07T16:03:52.080Z"
   },
   {
    "duration": 2,
    "start_time": "2024-09-07T16:03:52.222Z"
   },
   {
    "duration": 6,
    "start_time": "2024-09-07T16:03:52.225Z"
   },
   {
    "duration": 43,
    "start_time": "2024-09-07T16:03:52.232Z"
   },
   {
    "duration": 13,
    "start_time": "2024-09-07T16:03:52.276Z"
   },
   {
    "duration": 6,
    "start_time": "2024-09-07T16:03:52.290Z"
   },
   {
    "duration": 57,
    "start_time": "2024-09-07T16:03:52.297Z"
   },
   {
    "duration": 9,
    "start_time": "2024-09-07T16:03:52.355Z"
   },
   {
    "duration": 12,
    "start_time": "2024-09-07T16:03:52.366Z"
   },
   {
    "duration": 6,
    "start_time": "2024-09-07T16:03:52.380Z"
   },
   {
    "duration": 245,
    "start_time": "2024-09-07T16:03:52.388Z"
   },
   {
    "duration": 223,
    "start_time": "2024-09-07T16:08:21.392Z"
   },
   {
    "duration": 225,
    "start_time": "2024-09-07T16:08:30.767Z"
   },
   {
    "duration": 224,
    "start_time": "2024-09-07T16:08:36.867Z"
   },
   {
    "duration": 232,
    "start_time": "2024-09-07T16:10:01.353Z"
   },
   {
    "duration": 221,
    "start_time": "2024-09-07T16:17:39.901Z"
   },
   {
    "duration": 269,
    "start_time": "2024-09-07T16:20:53.712Z"
   },
   {
    "duration": 147,
    "start_time": "2024-09-07T16:22:08.823Z"
   },
   {
    "duration": 153,
    "start_time": "2024-09-07T16:24:19.446Z"
   },
   {
    "duration": 235,
    "start_time": "2024-09-07T16:26:13.322Z"
   },
   {
    "duration": 271,
    "start_time": "2024-09-07T16:27:05.448Z"
   },
   {
    "duration": 195,
    "start_time": "2024-09-07T16:27:11.844Z"
   },
   {
    "duration": 191,
    "start_time": "2024-09-07T16:27:21.339Z"
   },
   {
    "duration": 200,
    "start_time": "2024-09-07T16:27:28.262Z"
   },
   {
    "duration": 180,
    "start_time": "2024-09-07T16:27:34.817Z"
   },
   {
    "duration": 217,
    "start_time": "2024-09-07T16:38:05.490Z"
   },
   {
    "duration": 132,
    "start_time": "2024-09-07T16:38:27.277Z"
   },
   {
    "duration": 178,
    "start_time": "2024-09-07T16:38:49.244Z"
   },
   {
    "duration": 265,
    "start_time": "2024-09-07T17:33:38.241Z"
   },
   {
    "duration": 233,
    "start_time": "2024-09-07T17:34:26.984Z"
   },
   {
    "duration": 278,
    "start_time": "2024-09-07T17:34:51.712Z"
   },
   {
    "duration": 295,
    "start_time": "2024-09-07T17:35:54.621Z"
   },
   {
    "duration": 270,
    "start_time": "2024-09-07T17:36:09.982Z"
   },
   {
    "duration": 1061,
    "start_time": "2024-09-07T17:36:24.821Z"
   },
   {
    "duration": 70,
    "start_time": "2024-09-07T17:36:25.884Z"
   },
   {
    "duration": 3,
    "start_time": "2024-09-07T17:36:25.955Z"
   },
   {
    "duration": 339,
    "start_time": "2024-09-07T17:36:25.959Z"
   },
   {
    "duration": 295,
    "start_time": "2024-09-07T17:36:26.301Z"
   },
   {
    "duration": 142,
    "start_time": "2024-09-07T17:36:26.597Z"
   },
   {
    "duration": 10,
    "start_time": "2024-09-07T17:36:26.740Z"
   },
   {
    "duration": 6,
    "start_time": "2024-09-07T17:36:26.752Z"
   },
   {
    "duration": 32,
    "start_time": "2024-09-07T17:36:26.759Z"
   },
   {
    "duration": 51,
    "start_time": "2024-09-07T17:36:26.792Z"
   },
   {
    "duration": 6,
    "start_time": "2024-09-07T17:36:26.844Z"
   },
   {
    "duration": 14,
    "start_time": "2024-09-07T17:36:26.851Z"
   },
   {
    "duration": 12,
    "start_time": "2024-09-07T17:36:26.867Z"
   },
   {
    "duration": 11,
    "start_time": "2024-09-07T17:36:26.881Z"
   },
   {
    "duration": 336,
    "start_time": "2024-09-07T17:36:26.893Z"
   },
   {
    "duration": 0,
    "start_time": "2024-09-07T17:36:27.231Z"
   },
   {
    "duration": 0,
    "start_time": "2024-09-07T17:36:27.232Z"
   },
   {
    "duration": 0,
    "start_time": "2024-09-07T17:36:27.233Z"
   },
   {
    "duration": 242,
    "start_time": "2024-09-07T17:38:32.287Z"
   },
   {
    "duration": 993,
    "start_time": "2024-09-07T17:38:40.695Z"
   },
   {
    "duration": 71,
    "start_time": "2024-09-07T17:38:41.689Z"
   },
   {
    "duration": 3,
    "start_time": "2024-09-07T17:38:41.761Z"
   },
   {
    "duration": 334,
    "start_time": "2024-09-07T17:38:41.766Z"
   },
   {
    "duration": 273,
    "start_time": "2024-09-07T17:38:42.101Z"
   },
   {
    "duration": 146,
    "start_time": "2024-09-07T17:38:42.375Z"
   },
   {
    "duration": 3,
    "start_time": "2024-09-07T17:38:42.523Z"
   },
   {
    "duration": 6,
    "start_time": "2024-09-07T17:38:42.527Z"
   },
   {
    "duration": 45,
    "start_time": "2024-09-07T17:38:42.534Z"
   },
   {
    "duration": 14,
    "start_time": "2024-09-07T17:38:42.581Z"
   },
   {
    "duration": 30,
    "start_time": "2024-09-07T17:38:42.596Z"
   },
   {
    "duration": 10,
    "start_time": "2024-09-07T17:38:42.627Z"
   },
   {
    "duration": 12,
    "start_time": "2024-09-07T17:38:42.639Z"
   },
   {
    "duration": 14,
    "start_time": "2024-09-07T17:38:42.652Z"
   },
   {
    "duration": 234,
    "start_time": "2024-09-07T17:38:42.667Z"
   },
   {
    "duration": 262,
    "start_time": "2024-09-07T17:38:42.903Z"
   },
   {
    "duration": 195,
    "start_time": "2024-09-07T17:38:43.166Z"
   },
   {
    "duration": 400,
    "start_time": "2024-09-07T17:38:43.363Z"
   },
   {
    "duration": 146,
    "start_time": "2024-09-07T17:46:32.768Z"
   },
   {
    "duration": 168,
    "start_time": "2024-09-07T17:47:34.230Z"
   },
   {
    "duration": 203,
    "start_time": "2024-09-07T17:47:51.710Z"
   },
   {
    "duration": 274,
    "start_time": "2024-09-07T18:05:48.560Z"
   },
   {
    "duration": 307,
    "start_time": "2024-09-07T18:14:24.351Z"
   },
   {
    "duration": 292,
    "start_time": "2024-09-07T18:14:31.861Z"
   },
   {
    "duration": 281,
    "start_time": "2024-09-07T18:15:40.806Z"
   },
   {
    "duration": 83,
    "start_time": "2024-09-07T18:26:44.887Z"
   },
   {
    "duration": 9,
    "start_time": "2024-09-07T18:27:47.249Z"
   },
   {
    "duration": 9,
    "start_time": "2024-09-07T18:27:58.869Z"
   },
   {
    "duration": 617,
    "start_time": "2024-09-07T18:31:01.553Z"
   },
   {
    "duration": 90,
    "start_time": "2024-09-07T18:31:13.308Z"
   },
   {
    "duration": 209,
    "start_time": "2024-09-07T18:32:41.907Z"
   },
   {
    "duration": 137,
    "start_time": "2024-09-07T18:33:48.324Z"
   },
   {
    "duration": 593,
    "start_time": "2024-09-07T18:50:33.489Z"
   },
   {
    "duration": 627,
    "start_time": "2024-09-07T18:50:45.753Z"
   },
   {
    "duration": 4,
    "start_time": "2024-09-07T18:50:48.095Z"
   },
   {
    "duration": 4,
    "start_time": "2024-09-07T18:51:00.934Z"
   },
   {
    "duration": 198,
    "start_time": "2024-09-07T19:06:08.972Z"
   },
   {
    "duration": 4,
    "start_time": "2024-09-07T19:14:56.342Z"
   },
   {
    "duration": 202,
    "start_time": "2024-09-07T19:17:20.200Z"
   },
   {
    "duration": 134,
    "start_time": "2024-09-07T19:17:32.883Z"
   },
   {
    "duration": 64,
    "start_time": "2024-09-08T11:43:31.514Z"
   },
   {
    "duration": 42,
    "start_time": "2024-09-08T11:44:00.216Z"
   },
   {
    "duration": 1378,
    "start_time": "2024-09-08T11:45:34.741Z"
   },
   {
    "duration": 237,
    "start_time": "2024-09-08T11:45:36.121Z"
   },
   {
    "duration": 4,
    "start_time": "2024-09-08T11:45:36.360Z"
   },
   {
    "duration": 415,
    "start_time": "2024-09-08T11:45:36.365Z"
   },
   {
    "duration": 334,
    "start_time": "2024-09-08T11:45:36.782Z"
   },
   {
    "duration": 168,
    "start_time": "2024-09-08T11:45:37.118Z"
   },
   {
    "duration": 4,
    "start_time": "2024-09-08T11:45:37.287Z"
   },
   {
    "duration": 16,
    "start_time": "2024-09-08T11:45:37.292Z"
   },
   {
    "duration": 51,
    "start_time": "2024-09-08T11:45:37.309Z"
   },
   {
    "duration": 17,
    "start_time": "2024-09-08T11:45:37.361Z"
   },
   {
    "duration": 7,
    "start_time": "2024-09-08T11:45:37.380Z"
   },
   {
    "duration": 19,
    "start_time": "2024-09-08T11:45:37.388Z"
   },
   {
    "duration": 11,
    "start_time": "2024-09-08T11:45:37.408Z"
   },
   {
    "duration": 41,
    "start_time": "2024-09-08T11:45:37.421Z"
   },
   {
    "duration": 279,
    "start_time": "2024-09-08T11:45:37.464Z"
   },
   {
    "duration": 311,
    "start_time": "2024-09-08T11:45:37.744Z"
   },
   {
    "duration": 235,
    "start_time": "2024-09-08T11:45:38.057Z"
   },
   {
    "duration": 445,
    "start_time": "2024-09-08T11:45:38.293Z"
   },
   {
    "duration": 243,
    "start_time": "2024-09-08T11:45:38.739Z"
   },
   {
    "duration": 323,
    "start_time": "2024-09-08T11:45:38.983Z"
   },
   {
    "duration": 10,
    "start_time": "2024-09-08T11:45:39.308Z"
   },
   {
    "duration": 165,
    "start_time": "2024-09-08T11:45:39.320Z"
   },
   {
    "duration": 4,
    "start_time": "2024-09-08T11:45:39.486Z"
   },
   {
    "duration": 177,
    "start_time": "2024-09-08T11:45:39.492Z"
   },
   {
    "duration": 4,
    "start_time": "2024-09-08T11:45:39.671Z"
   },
   {
    "duration": 52,
    "start_time": "2024-09-08T11:45:39.676Z"
   },
   {
    "duration": 49,
    "start_time": "2024-09-08T11:51:38.360Z"
   },
   {
    "duration": 43,
    "start_time": "2024-09-08T11:51:47.515Z"
   },
   {
    "duration": 57,
    "start_time": "2024-09-08T11:52:03.261Z"
   },
   {
    "duration": 56,
    "start_time": "2024-09-08T11:52:57.925Z"
   },
   {
    "duration": 9,
    "start_time": "2024-09-08T11:54:08.890Z"
   },
   {
    "duration": 9,
    "start_time": "2024-09-08T11:54:29.941Z"
   },
   {
    "duration": 14,
    "start_time": "2024-09-08T11:54:35.575Z"
   },
   {
    "duration": 53,
    "start_time": "2024-09-08T12:19:56.133Z"
   },
   {
    "duration": 1205,
    "start_time": "2024-09-08T12:21:01.794Z"
   },
   {
    "duration": 82,
    "start_time": "2024-09-08T12:21:03.001Z"
   },
   {
    "duration": 4,
    "start_time": "2024-09-08T12:21:03.085Z"
   },
   {
    "duration": 455,
    "start_time": "2024-09-08T12:21:03.091Z"
   },
   {
    "duration": 381,
    "start_time": "2024-09-08T12:21:03.551Z"
   },
   {
    "duration": 197,
    "start_time": "2024-09-08T12:21:03.934Z"
   },
   {
    "duration": 4,
    "start_time": "2024-09-08T12:21:04.132Z"
   },
   {
    "duration": 51,
    "start_time": "2024-09-08T12:21:04.137Z"
   },
   {
    "duration": 37,
    "start_time": "2024-09-08T12:21:04.189Z"
   },
   {
    "duration": 16,
    "start_time": "2024-09-08T12:21:04.228Z"
   },
   {
    "duration": 7,
    "start_time": "2024-09-08T12:21:04.245Z"
   },
   {
    "duration": 11,
    "start_time": "2024-09-08T12:21:04.254Z"
   },
   {
    "duration": 24,
    "start_time": "2024-09-08T12:21:04.267Z"
   },
   {
    "duration": 15,
    "start_time": "2024-09-08T12:21:04.292Z"
   },
   {
    "duration": 293,
    "start_time": "2024-09-08T12:21:04.308Z"
   },
   {
    "duration": 326,
    "start_time": "2024-09-08T12:21:04.603Z"
   },
   {
    "duration": 231,
    "start_time": "2024-09-08T12:21:04.930Z"
   },
   {
    "duration": 432,
    "start_time": "2024-09-08T12:21:05.163Z"
   },
   {
    "duration": 246,
    "start_time": "2024-09-08T12:21:05.597Z"
   },
   {
    "duration": 345,
    "start_time": "2024-09-08T12:21:05.844Z"
   },
   {
    "duration": 10,
    "start_time": "2024-09-08T12:21:06.191Z"
   },
   {
    "duration": 164,
    "start_time": "2024-09-08T12:21:06.202Z"
   },
   {
    "duration": 4,
    "start_time": "2024-09-08T12:21:06.368Z"
   },
   {
    "duration": 178,
    "start_time": "2024-09-08T12:21:06.374Z"
   },
   {
    "duration": 4,
    "start_time": "2024-09-08T12:21:06.553Z"
   },
   {
    "duration": 125,
    "start_time": "2024-09-08T12:21:06.559Z"
   },
   {
    "duration": 0,
    "start_time": "2024-09-08T12:21:06.686Z"
   },
   {
    "duration": 15,
    "start_time": "2024-09-08T12:21:32.704Z"
   },
   {
    "duration": 45,
    "start_time": "2024-09-08T12:21:34.197Z"
   },
   {
    "duration": 46,
    "start_time": "2024-09-08T12:22:01.466Z"
   },
   {
    "duration": 47,
    "start_time": "2024-09-08T12:22:07.191Z"
   },
   {
    "duration": 4,
    "start_time": "2024-09-08T12:22:44.750Z"
   },
   {
    "duration": 1221,
    "start_time": "2024-09-08T12:22:51.133Z"
   },
   {
    "duration": 83,
    "start_time": "2024-09-08T12:22:52.356Z"
   },
   {
    "duration": 4,
    "start_time": "2024-09-08T12:22:52.440Z"
   },
   {
    "duration": 426,
    "start_time": "2024-09-08T12:22:52.446Z"
   },
   {
    "duration": 345,
    "start_time": "2024-09-08T12:22:52.873Z"
   },
   {
    "duration": 183,
    "start_time": "2024-09-08T12:22:53.220Z"
   },
   {
    "duration": 4,
    "start_time": "2024-09-08T12:22:53.404Z"
   },
   {
    "duration": 8,
    "start_time": "2024-09-08T12:22:53.409Z"
   },
   {
    "duration": 52,
    "start_time": "2024-09-08T12:22:53.419Z"
   },
   {
    "duration": 17,
    "start_time": "2024-09-08T12:22:53.473Z"
   },
   {
    "duration": 6,
    "start_time": "2024-09-08T12:22:53.491Z"
   },
   {
    "duration": 14,
    "start_time": "2024-09-08T12:22:53.499Z"
   },
   {
    "duration": 43,
    "start_time": "2024-09-08T12:22:53.514Z"
   },
   {
    "duration": 21,
    "start_time": "2024-09-08T12:22:53.559Z"
   },
   {
    "duration": 304,
    "start_time": "2024-09-08T12:22:53.581Z"
   },
   {
    "duration": 342,
    "start_time": "2024-09-08T12:22:53.888Z"
   },
   {
    "duration": 241,
    "start_time": "2024-09-08T12:22:54.232Z"
   },
   {
    "duration": 415,
    "start_time": "2024-09-08T12:22:54.475Z"
   },
   {
    "duration": 241,
    "start_time": "2024-09-08T12:22:54.892Z"
   },
   {
    "duration": 354,
    "start_time": "2024-09-08T12:22:55.135Z"
   },
   {
    "duration": 10,
    "start_time": "2024-09-08T12:22:55.491Z"
   },
   {
    "duration": 169,
    "start_time": "2024-09-08T12:22:55.503Z"
   },
   {
    "duration": 3,
    "start_time": "2024-09-08T12:22:55.674Z"
   },
   {
    "duration": 183,
    "start_time": "2024-09-08T12:22:55.679Z"
   },
   {
    "duration": 4,
    "start_time": "2024-09-08T12:22:55.867Z"
   },
   {
    "duration": 19,
    "start_time": "2024-09-08T12:22:55.872Z"
   },
   {
    "duration": 48,
    "start_time": "2024-09-08T12:22:55.893Z"
   },
   {
    "duration": 50,
    "start_time": "2024-09-08T12:22:58.203Z"
   },
   {
    "duration": 116,
    "start_time": "2024-09-08T12:23:49.204Z"
   },
   {
    "duration": 9,
    "start_time": "2024-09-08T12:23:57.036Z"
   },
   {
    "duration": 9,
    "start_time": "2024-09-08T16:03:04.358Z"
   },
   {
    "duration": 8,
    "start_time": "2024-09-08T16:03:13.559Z"
   },
   {
    "duration": 361,
    "start_time": "2024-09-08T16:04:07.313Z"
   },
   {
    "duration": 6,
    "start_time": "2024-09-08T16:04:38.147Z"
   },
   {
    "duration": 58,
    "start_time": "2024-09-08T16:20:04.608Z"
   },
   {
    "duration": 9,
    "start_time": "2024-09-08T16:20:25.185Z"
   },
   {
    "duration": 9,
    "start_time": "2024-09-08T16:23:11.670Z"
   },
   {
    "duration": 46,
    "start_time": "2024-09-08T16:54:59.216Z"
   },
   {
    "duration": 46,
    "start_time": "2024-09-08T16:58:06.907Z"
   },
   {
    "duration": 49,
    "start_time": "2024-09-08T16:58:44.824Z"
   },
   {
    "duration": 358,
    "start_time": "2024-09-08T17:00:00.036Z"
   },
   {
    "duration": 52,
    "start_time": "2024-09-08T17:01:07.290Z"
   },
   {
    "duration": 48,
    "start_time": "2024-09-08T17:02:17.278Z"
   },
   {
    "duration": 667,
    "start_time": "2024-09-08T17:03:08.679Z"
   },
   {
    "duration": 12,
    "start_time": "2024-09-08T17:04:54.239Z"
   },
   {
    "duration": 8,
    "start_time": "2024-09-08T17:32:16.579Z"
   },
   {
    "duration": 13,
    "start_time": "2024-09-08T17:32:26.125Z"
   },
   {
    "duration": 680,
    "start_time": "2024-09-08T17:34:46.772Z"
   },
   {
    "duration": 7,
    "start_time": "2024-09-08T17:36:57.886Z"
   },
   {
    "duration": 6,
    "start_time": "2024-09-08T17:40:07.863Z"
   },
   {
    "duration": 11,
    "start_time": "2024-09-08T17:40:18.286Z"
   },
   {
    "duration": 13,
    "start_time": "2024-09-08T17:40:30.252Z"
   },
   {
    "duration": 7,
    "start_time": "2024-09-08T17:46:41.451Z"
   },
   {
    "duration": 18,
    "start_time": "2024-09-08T17:47:31.621Z"
   },
   {
    "duration": 9,
    "start_time": "2024-09-08T17:50:39.363Z"
   },
   {
    "duration": 8,
    "start_time": "2024-09-08T18:01:35.349Z"
   },
   {
    "duration": 11,
    "start_time": "2024-09-08T18:09:11.030Z"
   },
   {
    "duration": 1190,
    "start_time": "2024-09-08T18:35:12.974Z"
   },
   {
    "duration": 82,
    "start_time": "2024-09-08T18:35:14.166Z"
   },
   {
    "duration": 3,
    "start_time": "2024-09-08T18:35:14.250Z"
   },
   {
    "duration": 422,
    "start_time": "2024-09-08T18:35:14.255Z"
   },
   {
    "duration": 359,
    "start_time": "2024-09-08T18:35:14.679Z"
   },
   {
    "duration": 183,
    "start_time": "2024-09-08T18:35:15.039Z"
   },
   {
    "duration": 3,
    "start_time": "2024-09-08T18:35:15.224Z"
   },
   {
    "duration": 47,
    "start_time": "2024-09-08T18:35:15.228Z"
   },
   {
    "duration": 114,
    "start_time": "2024-09-08T18:35:15.276Z"
   },
   {
    "duration": 18,
    "start_time": "2024-09-08T18:35:15.392Z"
   },
   {
    "duration": 7,
    "start_time": "2024-09-08T18:35:15.411Z"
   },
   {
    "duration": 41,
    "start_time": "2024-09-08T18:35:15.420Z"
   },
   {
    "duration": 13,
    "start_time": "2024-09-08T18:35:15.463Z"
   },
   {
    "duration": 21,
    "start_time": "2024-09-08T18:35:15.479Z"
   },
   {
    "duration": 295,
    "start_time": "2024-09-08T18:35:15.501Z"
   },
   {
    "duration": 331,
    "start_time": "2024-09-08T18:35:15.799Z"
   },
   {
    "duration": 234,
    "start_time": "2024-09-08T18:35:16.132Z"
   },
   {
    "duration": 422,
    "start_time": "2024-09-08T18:35:16.368Z"
   },
   {
    "duration": 255,
    "start_time": "2024-09-08T18:35:16.792Z"
   },
   {
    "duration": 337,
    "start_time": "2024-09-08T18:35:17.052Z"
   },
   {
    "duration": 11,
    "start_time": "2024-09-08T18:35:17.391Z"
   },
   {
    "duration": 171,
    "start_time": "2024-09-08T18:35:17.404Z"
   },
   {
    "duration": 5,
    "start_time": "2024-09-08T18:35:17.577Z"
   },
   {
    "duration": 184,
    "start_time": "2024-09-08T18:35:17.584Z"
   },
   {
    "duration": 5,
    "start_time": "2024-09-08T18:35:17.770Z"
   },
   {
    "duration": 16,
    "start_time": "2024-09-08T18:35:17.776Z"
   },
   {
    "duration": 16,
    "start_time": "2024-09-08T18:35:17.794Z"
   },
   {
    "duration": 8,
    "start_time": "2024-09-08T18:35:17.812Z"
   },
   {
    "duration": 35,
    "start_time": "2024-09-08T18:35:17.822Z"
   },
   {
    "duration": 17,
    "start_time": "2024-09-08T18:35:17.859Z"
   },
   {
    "duration": 9,
    "start_time": "2024-09-08T18:35:17.878Z"
   },
   {
    "duration": 16,
    "start_time": "2024-09-08T18:35:17.889Z"
   },
   {
    "duration": 9,
    "start_time": "2024-09-08T18:35:17.906Z"
   },
   {
    "duration": 1122,
    "start_time": "2024-09-08T21:34:44.231Z"
   },
   {
    "duration": 268,
    "start_time": "2024-09-08T21:34:45.355Z"
   },
   {
    "duration": 5,
    "start_time": "2024-09-08T21:34:45.624Z"
   },
   {
    "duration": 433,
    "start_time": "2024-09-08T21:34:45.631Z"
   },
   {
    "duration": 351,
    "start_time": "2024-09-08T21:34:46.066Z"
   },
   {
    "duration": 182,
    "start_time": "2024-09-08T21:34:46.419Z"
   },
   {
    "duration": 3,
    "start_time": "2024-09-08T21:34:46.603Z"
   },
   {
    "duration": 22,
    "start_time": "2024-09-08T21:34:46.608Z"
   },
   {
    "duration": 41,
    "start_time": "2024-09-08T21:34:46.632Z"
   },
   {
    "duration": 30,
    "start_time": "2024-09-08T21:34:46.676Z"
   },
   {
    "duration": 6,
    "start_time": "2024-09-08T21:34:46.707Z"
   },
   {
    "duration": 11,
    "start_time": "2024-09-08T21:34:46.715Z"
   },
   {
    "duration": 10,
    "start_time": "2024-09-08T21:34:46.727Z"
   },
   {
    "duration": 96,
    "start_time": "2024-09-08T21:34:46.739Z"
   },
   {
    "duration": 288,
    "start_time": "2024-09-08T21:34:46.837Z"
   },
   {
    "duration": 312,
    "start_time": "2024-09-08T21:34:47.126Z"
   },
   {
    "duration": 249,
    "start_time": "2024-09-08T21:34:47.440Z"
   },
   {
    "duration": 355,
    "start_time": "2024-09-08T21:34:47.691Z"
   },
   {
    "duration": 353,
    "start_time": "2024-09-08T21:34:48.047Z"
   },
   {
    "duration": 356,
    "start_time": "2024-09-08T21:34:48.401Z"
   },
   {
    "duration": 10,
    "start_time": "2024-09-08T21:34:48.759Z"
   },
   {
    "duration": 227,
    "start_time": "2024-09-08T21:34:48.770Z"
   },
   {
    "duration": 4,
    "start_time": "2024-09-08T21:34:48.999Z"
   },
   {
    "duration": 190,
    "start_time": "2024-09-08T21:34:49.005Z"
   },
   {
    "duration": 4,
    "start_time": "2024-09-08T21:34:49.197Z"
   },
   {
    "duration": 17,
    "start_time": "2024-09-08T21:34:49.203Z"
   },
   {
    "duration": 10,
    "start_time": "2024-09-08T21:34:49.222Z"
   },
   {
    "duration": 11,
    "start_time": "2024-09-08T21:34:49.236Z"
   },
   {
    "duration": 16,
    "start_time": "2024-09-08T21:34:49.249Z"
   },
   {
    "duration": 44,
    "start_time": "2024-09-08T21:34:49.267Z"
   },
   {
    "duration": 8,
    "start_time": "2024-09-08T21:34:49.313Z"
   },
   {
    "duration": 21,
    "start_time": "2024-09-08T21:34:49.323Z"
   },
   {
    "duration": 24,
    "start_time": "2024-09-08T21:34:49.345Z"
   },
   {
    "duration": 1143,
    "start_time": "2024-09-08T22:16:51.634Z"
   },
   {
    "duration": 92,
    "start_time": "2024-09-08T22:16:52.778Z"
   },
   {
    "duration": 4,
    "start_time": "2024-09-08T22:16:52.872Z"
   },
   {
    "duration": 420,
    "start_time": "2024-09-08T22:16:52.878Z"
   },
   {
    "duration": 345,
    "start_time": "2024-09-08T22:16:53.300Z"
   },
   {
    "duration": 178,
    "start_time": "2024-09-08T22:16:53.647Z"
   },
   {
    "duration": 3,
    "start_time": "2024-09-08T22:16:53.827Z"
   },
   {
    "duration": 7,
    "start_time": "2024-09-08T22:16:53.832Z"
   },
   {
    "duration": 59,
    "start_time": "2024-09-08T22:16:53.840Z"
   },
   {
    "duration": 18,
    "start_time": "2024-09-08T22:16:53.902Z"
   },
   {
    "duration": 7,
    "start_time": "2024-09-08T22:16:53.921Z"
   },
   {
    "duration": 12,
    "start_time": "2024-09-08T22:16:53.929Z"
   },
   {
    "duration": 11,
    "start_time": "2024-09-08T22:16:53.942Z"
   },
   {
    "duration": 48,
    "start_time": "2024-09-08T22:16:53.954Z"
   },
   {
    "duration": 295,
    "start_time": "2024-09-08T22:16:54.003Z"
   },
   {
    "duration": 317,
    "start_time": "2024-09-08T22:16:54.300Z"
   },
   {
    "duration": 233,
    "start_time": "2024-09-08T22:16:54.619Z"
   },
   {
    "duration": 324,
    "start_time": "2024-09-08T22:16:54.853Z"
   },
   {
    "duration": 335,
    "start_time": "2024-09-08T22:16:55.178Z"
   },
   {
    "duration": 341,
    "start_time": "2024-09-08T22:16:55.515Z"
   },
   {
    "duration": 11,
    "start_time": "2024-09-08T22:16:55.858Z"
   },
   {
    "duration": 174,
    "start_time": "2024-09-08T22:16:55.870Z"
   },
   {
    "duration": 4,
    "start_time": "2024-09-08T22:16:56.045Z"
   },
   {
    "duration": 185,
    "start_time": "2024-09-08T22:16:56.051Z"
   },
   {
    "duration": 4,
    "start_time": "2024-09-08T22:16:56.238Z"
   },
   {
    "duration": 40,
    "start_time": "2024-09-08T22:16:56.244Z"
   },
   {
    "duration": 13,
    "start_time": "2024-09-08T22:16:56.286Z"
   },
   {
    "duration": 26,
    "start_time": "2024-09-08T22:16:56.302Z"
   },
   {
    "duration": 19,
    "start_time": "2024-09-08T22:16:56.330Z"
   },
   {
    "duration": 34,
    "start_time": "2024-09-08T22:16:56.351Z"
   },
   {
    "duration": 21,
    "start_time": "2024-09-08T22:16:56.387Z"
   },
   {
    "duration": 85,
    "start_time": "2024-09-08T22:16:56.410Z"
   },
   {
    "duration": 9,
    "start_time": "2024-09-08T22:16:56.496Z"
   },
   {
    "duration": 87,
    "start_time": "2024-09-09T08:50:36.986Z"
   },
   {
    "duration": 66,
    "start_time": "2024-09-09T08:54:35.918Z"
   },
   {
    "duration": 62,
    "start_time": "2024-09-09T08:55:31.791Z"
   },
   {
    "duration": 1427,
    "start_time": "2024-09-09T08:55:40.840Z"
   },
   {
    "duration": 231,
    "start_time": "2024-09-09T08:55:42.268Z"
   },
   {
    "duration": 5,
    "start_time": "2024-09-09T08:55:42.500Z"
   },
   {
    "duration": 490,
    "start_time": "2024-09-09T08:55:42.508Z"
   },
   {
    "duration": 379,
    "start_time": "2024-09-09T08:55:43.004Z"
   },
   {
    "duration": 201,
    "start_time": "2024-09-09T08:55:43.384Z"
   },
   {
    "duration": 30,
    "start_time": "2024-09-09T08:55:43.587Z"
   },
   {
    "duration": 6,
    "start_time": "2024-09-09T08:55:43.619Z"
   },
   {
    "duration": 10,
    "start_time": "2024-09-09T08:55:43.626Z"
   },
   {
    "duration": 78,
    "start_time": "2024-09-09T08:55:43.637Z"
   },
   {
    "duration": 17,
    "start_time": "2024-09-09T08:55:43.718Z"
   },
   {
    "duration": 7,
    "start_time": "2024-09-09T08:55:43.737Z"
   },
   {
    "duration": 18,
    "start_time": "2024-09-09T08:55:43.745Z"
   },
   {
    "duration": 52,
    "start_time": "2024-09-09T08:55:43.766Z"
   },
   {
    "duration": 15,
    "start_time": "2024-09-09T08:55:43.820Z"
   },
   {
    "duration": 312,
    "start_time": "2024-09-09T08:55:43.837Z"
   },
   {
    "duration": 345,
    "start_time": "2024-09-09T08:55:44.151Z"
   },
   {
    "duration": 257,
    "start_time": "2024-09-09T08:55:44.497Z"
   },
   {
    "duration": 446,
    "start_time": "2024-09-09T08:55:44.756Z"
   },
   {
    "duration": 418,
    "start_time": "2024-09-09T08:55:45.203Z"
   },
   {
    "duration": 348,
    "start_time": "2024-09-09T08:55:45.623Z"
   },
   {
    "duration": 11,
    "start_time": "2024-09-09T08:55:45.972Z"
   },
   {
    "duration": 193,
    "start_time": "2024-09-09T08:55:45.984Z"
   },
   {
    "duration": 4,
    "start_time": "2024-09-09T08:55:46.179Z"
   },
   {
    "duration": 187,
    "start_time": "2024-09-09T08:55:46.184Z"
   },
   {
    "duration": 5,
    "start_time": "2024-09-09T08:55:46.373Z"
   },
   {
    "duration": 31,
    "start_time": "2024-09-09T08:55:46.379Z"
   },
   {
    "duration": 17,
    "start_time": "2024-09-09T08:55:46.411Z"
   },
   {
    "duration": 19,
    "start_time": "2024-09-09T08:55:46.429Z"
   },
   {
    "duration": 40,
    "start_time": "2024-09-09T08:55:46.450Z"
   },
   {
    "duration": 20,
    "start_time": "2024-09-09T08:55:46.492Z"
   },
   {
    "duration": 15,
    "start_time": "2024-09-09T08:55:46.515Z"
   },
   {
    "duration": 37,
    "start_time": "2024-09-09T08:55:46.533Z"
   },
   {
    "duration": 52,
    "start_time": "2024-09-09T08:55:46.572Z"
   },
   {
    "duration": 87,
    "start_time": "2024-09-09T09:12:16.043Z"
   },
   {
    "duration": 74,
    "start_time": "2024-09-09T09:13:33.915Z"
   },
   {
    "duration": 79,
    "start_time": "2024-09-09T09:13:45.022Z"
   },
   {
    "duration": 104,
    "start_time": "2024-09-09T09:14:23.533Z"
   },
   {
    "duration": 1155,
    "start_time": "2024-09-09T09:17:55.430Z"
   },
   {
    "duration": 76,
    "start_time": "2024-09-09T09:17:56.587Z"
   },
   {
    "duration": 5,
    "start_time": "2024-09-09T09:17:56.665Z"
   },
   {
    "duration": 435,
    "start_time": "2024-09-09T09:17:56.672Z"
   },
   {
    "duration": 360,
    "start_time": "2024-09-09T09:17:57.109Z"
   },
   {
    "duration": 193,
    "start_time": "2024-09-09T09:17:57.471Z"
   },
   {
    "duration": 13,
    "start_time": "2024-09-09T09:17:57.666Z"
   },
   {
    "duration": 16,
    "start_time": "2024-09-09T09:21:02.401Z"
   },
   {
    "duration": 10,
    "start_time": "2024-09-09T09:23:12.089Z"
   },
   {
    "duration": 84,
    "start_time": "2024-09-09T09:28:39.638Z"
   },
   {
    "duration": 76,
    "start_time": "2024-09-09T09:28:43.575Z"
   },
   {
    "duration": 69,
    "start_time": "2024-09-09T09:29:05.443Z"
   },
   {
    "duration": 78,
    "start_time": "2024-09-09T09:29:09.681Z"
   },
   {
    "duration": 14,
    "start_time": "2024-09-09T09:29:16.062Z"
   },
   {
    "duration": 107,
    "start_time": "2024-09-09T09:35:02.180Z"
   },
   {
    "duration": 87,
    "start_time": "2024-09-09T09:37:36.602Z"
   },
   {
    "duration": 1196,
    "start_time": "2024-09-09T09:54:15.112Z"
   },
   {
    "duration": 81,
    "start_time": "2024-09-09T09:54:16.310Z"
   },
   {
    "duration": 5,
    "start_time": "2024-09-09T09:54:16.393Z"
   },
   {
    "duration": 486,
    "start_time": "2024-09-09T09:54:16.400Z"
   },
   {
    "duration": 388,
    "start_time": "2024-09-09T09:54:16.888Z"
   },
   {
    "duration": 177,
    "start_time": "2024-09-09T09:54:17.278Z"
   },
   {
    "duration": 10,
    "start_time": "2024-09-09T09:54:17.457Z"
   },
   {
    "duration": 32,
    "start_time": "2024-09-09T09:54:17.468Z"
   },
   {
    "duration": 10,
    "start_time": "2024-09-09T09:54:17.502Z"
   },
   {
    "duration": 52,
    "start_time": "2024-09-09T09:54:17.513Z"
   },
   {
    "duration": 16,
    "start_time": "2024-09-09T09:54:17.567Z"
   },
   {
    "duration": 7,
    "start_time": "2024-09-09T09:54:17.605Z"
   },
   {
    "duration": 1243,
    "start_time": "2024-09-09T09:54:17.614Z"
   },
   {
    "duration": 0,
    "start_time": "2024-09-09T09:54:18.860Z"
   },
   {
    "duration": 0,
    "start_time": "2024-09-09T09:54:18.861Z"
   },
   {
    "duration": 0,
    "start_time": "2024-09-09T09:54:18.862Z"
   },
   {
    "duration": 0,
    "start_time": "2024-09-09T09:54:18.863Z"
   },
   {
    "duration": 0,
    "start_time": "2024-09-09T09:54:18.864Z"
   },
   {
    "duration": 0,
    "start_time": "2024-09-09T09:54:18.865Z"
   },
   {
    "duration": 0,
    "start_time": "2024-09-09T09:54:18.867Z"
   },
   {
    "duration": 0,
    "start_time": "2024-09-09T09:54:18.868Z"
   },
   {
    "duration": 0,
    "start_time": "2024-09-09T09:54:18.869Z"
   },
   {
    "duration": 0,
    "start_time": "2024-09-09T09:54:18.870Z"
   },
   {
    "duration": 0,
    "start_time": "2024-09-09T09:54:18.871Z"
   },
   {
    "duration": 0,
    "start_time": "2024-09-09T09:54:18.873Z"
   },
   {
    "duration": 0,
    "start_time": "2024-09-09T09:54:18.874Z"
   },
   {
    "duration": 0,
    "start_time": "2024-09-09T09:54:18.876Z"
   },
   {
    "duration": 0,
    "start_time": "2024-09-09T09:54:18.877Z"
   },
   {
    "duration": 0,
    "start_time": "2024-09-09T09:54:18.879Z"
   },
   {
    "duration": 0,
    "start_time": "2024-09-09T09:54:18.881Z"
   },
   {
    "duration": 0,
    "start_time": "2024-09-09T09:54:18.882Z"
   },
   {
    "duration": 0,
    "start_time": "2024-09-09T09:54:18.884Z"
   },
   {
    "duration": 0,
    "start_time": "2024-09-09T09:54:18.886Z"
   },
   {
    "duration": 0,
    "start_time": "2024-09-09T09:54:18.888Z"
   },
   {
    "duration": 0,
    "start_time": "2024-09-09T09:54:18.890Z"
   },
   {
    "duration": 1130,
    "start_time": "2024-09-09T09:59:30.763Z"
   },
   {
    "duration": 77,
    "start_time": "2024-09-09T09:59:31.894Z"
   },
   {
    "duration": 5,
    "start_time": "2024-09-09T09:59:31.972Z"
   },
   {
    "duration": 412,
    "start_time": "2024-09-09T09:59:31.979Z"
   },
   {
    "duration": 370,
    "start_time": "2024-09-09T09:59:32.393Z"
   },
   {
    "duration": 216,
    "start_time": "2024-09-09T09:59:32.765Z"
   },
   {
    "duration": 28,
    "start_time": "2024-09-09T09:59:32.984Z"
   },
   {
    "duration": 15,
    "start_time": "2024-09-09T09:59:33.014Z"
   },
   {
    "duration": 24,
    "start_time": "2024-09-09T09:59:33.030Z"
   },
   {
    "duration": 56,
    "start_time": "2024-09-09T09:59:33.056Z"
   },
   {
    "duration": 69,
    "start_time": "2024-09-09T09:59:33.114Z"
   },
   {
    "duration": 7,
    "start_time": "2024-09-09T09:59:33.185Z"
   },
   {
    "duration": 1139,
    "start_time": "2024-09-09T09:59:33.194Z"
   },
   {
    "duration": 0,
    "start_time": "2024-09-09T09:59:34.336Z"
   },
   {
    "duration": 0,
    "start_time": "2024-09-09T09:59:34.337Z"
   },
   {
    "duration": 0,
    "start_time": "2024-09-09T09:59:34.338Z"
   },
   {
    "duration": 0,
    "start_time": "2024-09-09T09:59:34.339Z"
   },
   {
    "duration": 0,
    "start_time": "2024-09-09T09:59:34.341Z"
   },
   {
    "duration": 0,
    "start_time": "2024-09-09T09:59:34.342Z"
   },
   {
    "duration": 0,
    "start_time": "2024-09-09T09:59:34.343Z"
   },
   {
    "duration": 0,
    "start_time": "2024-09-09T09:59:34.344Z"
   },
   {
    "duration": 0,
    "start_time": "2024-09-09T09:59:34.345Z"
   },
   {
    "duration": 0,
    "start_time": "2024-09-09T09:59:34.346Z"
   },
   {
    "duration": 0,
    "start_time": "2024-09-09T09:59:34.347Z"
   },
   {
    "duration": 0,
    "start_time": "2024-09-09T09:59:34.348Z"
   },
   {
    "duration": 0,
    "start_time": "2024-09-09T09:59:34.349Z"
   },
   {
    "duration": 0,
    "start_time": "2024-09-09T09:59:34.350Z"
   },
   {
    "duration": 0,
    "start_time": "2024-09-09T09:59:34.351Z"
   },
   {
    "duration": 0,
    "start_time": "2024-09-09T09:59:34.352Z"
   },
   {
    "duration": 0,
    "start_time": "2024-09-09T09:59:34.353Z"
   },
   {
    "duration": 0,
    "start_time": "2024-09-09T09:59:34.354Z"
   },
   {
    "duration": 0,
    "start_time": "2024-09-09T09:59:34.355Z"
   },
   {
    "duration": 0,
    "start_time": "2024-09-09T09:59:34.356Z"
   },
   {
    "duration": 0,
    "start_time": "2024-09-09T09:59:34.357Z"
   },
   {
    "duration": 0,
    "start_time": "2024-09-09T09:59:34.358Z"
   },
   {
    "duration": 13,
    "start_time": "2024-09-09T10:09:05.832Z"
   },
   {
    "duration": 13,
    "start_time": "2024-09-09T10:09:28.043Z"
   },
   {
    "duration": 15,
    "start_time": "2024-09-09T10:09:52.615Z"
   },
   {
    "duration": 14,
    "start_time": "2024-09-09T10:10:01.888Z"
   },
   {
    "duration": 12,
    "start_time": "2024-09-09T10:10:41.919Z"
   },
   {
    "duration": 12,
    "start_time": "2024-09-09T10:10:46.574Z"
   },
   {
    "duration": 13,
    "start_time": "2024-09-09T10:11:55.374Z"
   },
   {
    "duration": 14,
    "start_time": "2024-09-09T10:11:56.350Z"
   },
   {
    "duration": 12,
    "start_time": "2024-09-09T10:12:25.238Z"
   },
   {
    "duration": 12,
    "start_time": "2024-09-09T10:12:26.230Z"
   },
   {
    "duration": 12,
    "start_time": "2024-09-09T10:13:22.431Z"
   },
   {
    "duration": 12,
    "start_time": "2024-09-09T10:13:23.347Z"
   },
   {
    "duration": 12,
    "start_time": "2024-09-09T10:15:37.411Z"
   },
   {
    "duration": 1172,
    "start_time": "2024-09-09T10:29:20.710Z"
   },
   {
    "duration": 77,
    "start_time": "2024-09-09T10:29:21.884Z"
   },
   {
    "duration": 5,
    "start_time": "2024-09-09T10:29:21.963Z"
   },
   {
    "duration": 431,
    "start_time": "2024-09-09T10:29:21.970Z"
   },
   {
    "duration": 403,
    "start_time": "2024-09-09T10:29:22.404Z"
   },
   {
    "duration": 202,
    "start_time": "2024-09-09T10:29:22.808Z"
   },
   {
    "duration": 12,
    "start_time": "2024-09-09T10:29:23.012Z"
   },
   {
    "duration": 4,
    "start_time": "2024-09-09T10:29:23.026Z"
   },
   {
    "duration": 10,
    "start_time": "2024-09-09T10:29:23.031Z"
   },
   {
    "duration": 76,
    "start_time": "2024-09-09T10:29:23.044Z"
   },
   {
    "duration": 18,
    "start_time": "2024-09-09T10:29:23.122Z"
   },
   {
    "duration": 7,
    "start_time": "2024-09-09T10:29:23.142Z"
   },
   {
    "duration": 13,
    "start_time": "2024-09-09T10:29:23.151Z"
   },
   {
    "duration": 12,
    "start_time": "2024-09-09T10:29:23.206Z"
   },
   {
    "duration": 26,
    "start_time": "2024-09-09T10:29:23.220Z"
   },
   {
    "duration": 15,
    "start_time": "2024-09-09T10:29:23.248Z"
   },
   {
    "duration": 338,
    "start_time": "2024-09-09T10:29:23.265Z"
   },
   {
    "duration": 325,
    "start_time": "2024-09-09T10:29:23.605Z"
   },
   {
    "duration": 265,
    "start_time": "2024-09-09T10:29:23.932Z"
   },
   {
    "duration": 355,
    "start_time": "2024-09-09T10:29:24.199Z"
   },
   {
    "duration": 342,
    "start_time": "2024-09-09T10:29:24.556Z"
   },
   {
    "duration": 333,
    "start_time": "2024-09-09T10:29:24.904Z"
   },
   {
    "duration": 11,
    "start_time": "2024-09-09T10:29:25.238Z"
   },
   {
    "duration": 200,
    "start_time": "2024-09-09T10:29:25.251Z"
   },
   {
    "duration": 4,
    "start_time": "2024-09-09T10:29:25.453Z"
   },
   {
    "duration": 267,
    "start_time": "2024-09-09T10:29:25.459Z"
   },
   {
    "duration": 0,
    "start_time": "2024-09-09T10:29:25.728Z"
   },
   {
    "duration": 0,
    "start_time": "2024-09-09T10:29:25.729Z"
   },
   {
    "duration": 0,
    "start_time": "2024-09-09T10:29:25.731Z"
   },
   {
    "duration": 0,
    "start_time": "2024-09-09T10:29:25.732Z"
   },
   {
    "duration": 0,
    "start_time": "2024-09-09T10:29:25.733Z"
   },
   {
    "duration": 0,
    "start_time": "2024-09-09T10:29:25.734Z"
   },
   {
    "duration": 0,
    "start_time": "2024-09-09T10:29:25.736Z"
   },
   {
    "duration": 0,
    "start_time": "2024-09-09T10:29:25.736Z"
   },
   {
    "duration": 0,
    "start_time": "2024-09-09T10:29:25.737Z"
   },
   {
    "duration": 1204,
    "start_time": "2024-09-09T10:30:18.487Z"
   },
   {
    "duration": 77,
    "start_time": "2024-09-09T10:30:19.693Z"
   },
   {
    "duration": 6,
    "start_time": "2024-09-09T10:30:19.771Z"
   },
   {
    "duration": 482,
    "start_time": "2024-09-09T10:30:19.780Z"
   },
   {
    "duration": 366,
    "start_time": "2024-09-09T10:30:20.264Z"
   },
   {
    "duration": 191,
    "start_time": "2024-09-09T10:30:20.631Z"
   },
   {
    "duration": 11,
    "start_time": "2024-09-09T10:30:20.824Z"
   },
   {
    "duration": 6,
    "start_time": "2024-09-09T10:30:20.836Z"
   },
   {
    "duration": 13,
    "start_time": "2024-09-09T10:30:20.843Z"
   },
   {
    "duration": 90,
    "start_time": "2024-09-09T10:30:20.860Z"
   },
   {
    "duration": 19,
    "start_time": "2024-09-09T10:30:20.952Z"
   },
   {
    "duration": 33,
    "start_time": "2024-09-09T10:30:20.973Z"
   },
   {
    "duration": 14,
    "start_time": "2024-09-09T10:30:21.008Z"
   },
   {
    "duration": 32,
    "start_time": "2024-09-09T10:30:21.024Z"
   },
   {
    "duration": 19,
    "start_time": "2024-09-09T10:30:21.057Z"
   },
   {
    "duration": 28,
    "start_time": "2024-09-09T10:30:21.078Z"
   },
   {
    "duration": 308,
    "start_time": "2024-09-09T10:30:21.108Z"
   },
   {
    "duration": 352,
    "start_time": "2024-09-09T10:30:21.418Z"
   },
   {
    "duration": 263,
    "start_time": "2024-09-09T10:30:21.772Z"
   },
   {
    "duration": 330,
    "start_time": "2024-09-09T10:30:22.037Z"
   },
   {
    "duration": 320,
    "start_time": "2024-09-09T10:30:22.369Z"
   },
   {
    "duration": 363,
    "start_time": "2024-09-09T10:30:22.691Z"
   },
   {
    "duration": 11,
    "start_time": "2024-09-09T10:30:23.056Z"
   },
   {
    "duration": 205,
    "start_time": "2024-09-09T10:30:23.069Z"
   },
   {
    "duration": 5,
    "start_time": "2024-09-09T10:30:23.276Z"
   },
   {
    "duration": 199,
    "start_time": "2024-09-09T10:30:23.282Z"
   },
   {
    "duration": 4,
    "start_time": "2024-09-09T10:30:23.483Z"
   },
   {
    "duration": 31,
    "start_time": "2024-09-09T10:30:23.490Z"
   },
   {
    "duration": 26,
    "start_time": "2024-09-09T10:30:23.523Z"
   },
   {
    "duration": 27,
    "start_time": "2024-09-09T10:30:23.551Z"
   },
   {
    "duration": 38,
    "start_time": "2024-09-09T10:30:23.580Z"
   },
   {
    "duration": 35,
    "start_time": "2024-09-09T10:30:23.620Z"
   },
   {
    "duration": 11,
    "start_time": "2024-09-09T10:30:23.656Z"
   },
   {
    "duration": 30,
    "start_time": "2024-09-09T10:30:23.668Z"
   },
   {
    "duration": 14,
    "start_time": "2024-09-09T10:30:23.699Z"
   },
   {
    "duration": 340,
    "start_time": "2024-09-09T10:40:02.215Z"
   },
   {
    "duration": 342,
    "start_time": "2024-09-09T10:40:08.360Z"
   },
   {
    "duration": 1168,
    "start_time": "2024-09-09T10:48:16.803Z"
   },
   {
    "duration": 77,
    "start_time": "2024-09-09T10:48:17.973Z"
   },
   {
    "duration": 35,
    "start_time": "2024-09-09T10:48:18.052Z"
   },
   {
    "duration": 484,
    "start_time": "2024-09-09T10:48:18.089Z"
   },
   {
    "duration": 378,
    "start_time": "2024-09-09T10:48:18.575Z"
   },
   {
    "duration": 181,
    "start_time": "2024-09-09T10:48:18.955Z"
   },
   {
    "duration": 9,
    "start_time": "2024-09-09T10:48:19.138Z"
   },
   {
    "duration": 4,
    "start_time": "2024-09-09T10:48:19.149Z"
   },
   {
    "duration": 8,
    "start_time": "2024-09-09T10:48:19.155Z"
   },
   {
    "duration": 67,
    "start_time": "2024-09-09T10:48:19.165Z"
   },
   {
    "duration": 17,
    "start_time": "2024-09-09T10:48:19.233Z"
   },
   {
    "duration": 86,
    "start_time": "2024-09-09T10:48:19.251Z"
   },
   {
    "duration": 28,
    "start_time": "2024-09-09T10:48:19.338Z"
   },
   {
    "duration": 10,
    "start_time": "2024-09-09T10:48:19.369Z"
   },
   {
    "duration": 28,
    "start_time": "2024-09-09T10:48:19.381Z"
   },
   {
    "duration": 25,
    "start_time": "2024-09-09T10:48:19.411Z"
   },
   {
    "duration": 287,
    "start_time": "2024-09-09T10:48:19.438Z"
   },
   {
    "duration": 313,
    "start_time": "2024-09-09T10:48:19.726Z"
   },
   {
    "duration": 268,
    "start_time": "2024-09-09T10:48:20.041Z"
   },
   {
    "duration": 327,
    "start_time": "2024-09-09T10:48:20.311Z"
   },
   {
    "duration": 346,
    "start_time": "2024-09-09T10:48:20.640Z"
   },
   {
    "duration": 347,
    "start_time": "2024-09-09T10:48:20.988Z"
   },
   {
    "duration": 11,
    "start_time": "2024-09-09T10:48:21.337Z"
   },
   {
    "duration": 196,
    "start_time": "2024-09-09T10:48:21.349Z"
   },
   {
    "duration": 4,
    "start_time": "2024-09-09T10:48:21.547Z"
   },
   {
    "duration": 206,
    "start_time": "2024-09-09T10:48:21.552Z"
   },
   {
    "duration": 5,
    "start_time": "2024-09-09T10:48:21.759Z"
   },
   {
    "duration": 17,
    "start_time": "2024-09-09T10:48:21.766Z"
   },
   {
    "duration": 11,
    "start_time": "2024-09-09T10:48:21.810Z"
   },
   {
    "duration": 9,
    "start_time": "2024-09-09T10:48:21.823Z"
   },
   {
    "duration": 10,
    "start_time": "2024-09-09T10:48:21.834Z"
   },
   {
    "duration": 59,
    "start_time": "2024-09-09T10:48:21.846Z"
   },
   {
    "duration": 11,
    "start_time": "2024-09-09T10:48:21.908Z"
   },
   {
    "duration": 8,
    "start_time": "2024-09-09T10:48:21.920Z"
   },
   {
    "duration": 14,
    "start_time": "2024-09-09T10:48:21.929Z"
   },
   {
    "duration": 1126,
    "start_time": "2024-09-09T22:32:45.735Z"
   },
   {
    "duration": 239,
    "start_time": "2024-09-09T22:32:46.863Z"
   },
   {
    "duration": 4,
    "start_time": "2024-09-09T22:32:47.103Z"
   },
   {
    "duration": 445,
    "start_time": "2024-09-09T22:32:47.108Z"
   },
   {
    "duration": 359,
    "start_time": "2024-09-09T22:32:47.556Z"
   },
   {
    "duration": 180,
    "start_time": "2024-09-09T22:32:47.916Z"
   },
   {
    "duration": 12,
    "start_time": "2024-09-09T22:32:48.098Z"
   },
   {
    "duration": 4,
    "start_time": "2024-09-09T22:32:48.112Z"
   },
   {
    "duration": 7,
    "start_time": "2024-09-09T22:32:48.117Z"
   },
   {
    "duration": 72,
    "start_time": "2024-09-09T22:32:48.126Z"
   },
   {
    "duration": 16,
    "start_time": "2024-09-09T22:32:48.200Z"
   },
   {
    "duration": 21,
    "start_time": "2024-09-09T22:32:48.218Z"
   },
   {
    "duration": 12,
    "start_time": "2024-09-09T22:32:48.240Z"
   },
   {
    "duration": 11,
    "start_time": "2024-09-09T22:32:48.254Z"
   },
   {
    "duration": 31,
    "start_time": "2024-09-09T22:32:48.266Z"
   },
   {
    "duration": 15,
    "start_time": "2024-09-09T22:32:48.299Z"
   },
   {
    "duration": 351,
    "start_time": "2024-09-09T22:32:48.315Z"
   },
   {
    "duration": 321,
    "start_time": "2024-09-09T22:32:48.667Z"
   },
   {
    "duration": 253,
    "start_time": "2024-09-09T22:32:48.997Z"
   },
   {
    "duration": 316,
    "start_time": "2024-09-09T22:32:49.251Z"
   },
   {
    "duration": 312,
    "start_time": "2024-09-09T22:32:49.569Z"
   },
   {
    "duration": 340,
    "start_time": "2024-09-09T22:32:49.883Z"
   },
   {
    "duration": 11,
    "start_time": "2024-09-09T22:32:50.225Z"
   },
   {
    "duration": 179,
    "start_time": "2024-09-09T22:32:50.237Z"
   },
   {
    "duration": 5,
    "start_time": "2024-09-09T22:32:50.417Z"
   },
   {
    "duration": 183,
    "start_time": "2024-09-09T22:32:50.423Z"
   },
   {
    "duration": 4,
    "start_time": "2024-09-09T22:32:50.607Z"
   },
   {
    "duration": 47,
    "start_time": "2024-09-09T22:32:50.613Z"
   },
   {
    "duration": 9,
    "start_time": "2024-09-09T22:32:50.662Z"
   },
   {
    "duration": 42,
    "start_time": "2024-09-09T22:32:50.673Z"
   },
   {
    "duration": 16,
    "start_time": "2024-09-09T22:32:50.717Z"
   },
   {
    "duration": 15,
    "start_time": "2024-09-09T22:32:50.734Z"
   },
   {
    "duration": 8,
    "start_time": "2024-09-09T22:32:50.751Z"
   },
   {
    "duration": 12,
    "start_time": "2024-09-09T22:32:50.761Z"
   },
   {
    "duration": 30,
    "start_time": "2024-09-09T22:32:50.774Z"
   },
   {
    "duration": 1098,
    "start_time": "2024-09-09T22:47:11.969Z"
   },
   {
    "duration": 82,
    "start_time": "2024-09-09T22:47:13.068Z"
   },
   {
    "duration": 5,
    "start_time": "2024-09-09T22:47:13.151Z"
   },
   {
    "duration": 428,
    "start_time": "2024-09-09T22:47:13.157Z"
   },
   {
    "duration": 344,
    "start_time": "2024-09-09T22:47:13.587Z"
   },
   {
    "duration": 178,
    "start_time": "2024-09-09T22:47:13.933Z"
   },
   {
    "duration": 10,
    "start_time": "2024-09-09T22:47:14.113Z"
   },
   {
    "duration": 9,
    "start_time": "2024-09-09T22:47:14.125Z"
   },
   {
    "duration": 14,
    "start_time": "2024-09-09T22:47:14.135Z"
   },
   {
    "duration": 56,
    "start_time": "2024-09-09T22:47:14.150Z"
   },
   {
    "duration": 16,
    "start_time": "2024-09-09T22:47:14.207Z"
   },
   {
    "duration": 87,
    "start_time": "2024-09-09T22:47:14.224Z"
   },
   {
    "duration": 13,
    "start_time": "2024-09-09T22:47:14.313Z"
   },
   {
    "duration": 10,
    "start_time": "2024-09-09T22:47:14.329Z"
   },
   {
    "duration": 14,
    "start_time": "2024-09-09T22:47:14.340Z"
   },
   {
    "duration": 15,
    "start_time": "2024-09-09T22:47:14.355Z"
   },
   {
    "duration": 315,
    "start_time": "2024-09-09T22:47:14.371Z"
   },
   {
    "duration": 311,
    "start_time": "2024-09-09T22:47:14.688Z"
   },
   {
    "duration": 239,
    "start_time": "2024-09-09T22:47:15.001Z"
   },
   {
    "duration": 319,
    "start_time": "2024-09-09T22:47:15.241Z"
   },
   {
    "duration": 315,
    "start_time": "2024-09-09T22:47:15.561Z"
   },
   {
    "duration": 359,
    "start_time": "2024-09-09T22:47:15.877Z"
   },
   {
    "duration": 12,
    "start_time": "2024-09-09T22:47:16.238Z"
   },
   {
    "duration": 222,
    "start_time": "2024-09-09T22:47:16.252Z"
   },
   {
    "duration": 6,
    "start_time": "2024-09-09T22:47:16.476Z"
   },
   {
    "duration": 185,
    "start_time": "2024-09-09T22:47:16.484Z"
   },
   {
    "duration": 5,
    "start_time": "2024-09-09T22:47:16.671Z"
   },
   {
    "duration": 34,
    "start_time": "2024-09-09T22:47:16.677Z"
   },
   {
    "duration": 10,
    "start_time": "2024-09-09T22:47:16.713Z"
   },
   {
    "duration": 10,
    "start_time": "2024-09-09T22:47:16.725Z"
   },
   {
    "duration": 22,
    "start_time": "2024-09-09T22:47:16.737Z"
   },
   {
    "duration": 17,
    "start_time": "2024-09-09T22:47:16.761Z"
   },
   {
    "duration": 19,
    "start_time": "2024-09-09T22:47:16.780Z"
   },
   {
    "duration": 37,
    "start_time": "2024-09-09T22:47:16.801Z"
   },
   {
    "duration": 10,
    "start_time": "2024-09-09T22:47:16.840Z"
   }
  ],
  "kernelspec": {
   "display_name": "Python 3 (ipykernel)",
   "language": "python",
   "name": "python3"
  },
  "language_info": {
   "codemirror_mode": {
    "name": "ipython",
    "version": 3
   },
   "file_extension": ".py",
   "mimetype": "text/x-python",
   "name": "python",
   "nbconvert_exporter": "python",
   "pygments_lexer": "ipython3",
   "version": "3.11.7"
  },
  "toc": {
   "base_numbering": 1,
   "nav_menu": {},
   "number_sections": true,
   "sideBar": true,
   "skip_h1_title": true,
   "title_cell": "Table of Contents",
   "title_sidebar": "Contents",
   "toc_cell": false,
   "toc_position": {},
   "toc_section_display": true,
   "toc_window_display": false
  }
 },
 "nbformat": 4,
 "nbformat_minor": 4
}
