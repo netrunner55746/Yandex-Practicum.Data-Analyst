{
 "cells": [
  {
   "cell_type": "markdown",
   "id": "c2fa7b17",
   "metadata": {},
   "source": [
    "# Статистический анализ данных сервиса аренды самокатов GoFast"
   ]
  },
  {
   "cell_type": "markdown",
   "id": "9ba91086",
   "metadata": {},
   "source": [
    "В нашем распоряжении данные о некоторых пользователях из нескольких городов, а также об их поездках. Проанализируем данные и проверим некоторые гипотезы, которые могут помочь бизнесу вырасти.\n",
    "\n",
    "Чтобы совершать поездки по городу, пользователи сервиса GoFast пользуются мобильным приложением. Сервисом можно пользоваться:\n",
    "* без подписки (Free):\n",
    "    * абонентская плата отсутствует;\n",
    "    * стоимость одной минуты поездки — 8 рублей;\n",
    "    * стоимость старта (начала поездки) — 50 рублей;\n",
    "* с подпиской (Ultra):\n",
    "    * абонентская плата — 199 рублей в месяц;\n",
    "    * стоимость одной минуты поездки — 6 рублей;\n",
    "    * стоимость старта — бесплатно."
   ]
  },
  {
   "cell_type": "markdown",
   "id": "43bb20e3",
   "metadata": {},
   "source": [
    "# Введение"
   ]
  },
  {
   "cell_type": "markdown",
   "id": "e53bb615",
   "metadata": {},
   "source": [
    "**Проект направлен** на анализ данных организации и проверку сформулированных гипотез для помощи бизнесу."
   ]
  },
  {
   "cell_type": "markdown",
   "id": "af68800c",
   "metadata": {},
   "source": [
    "**Цель исследования** - проверить 3 гипотезы:\n",
    "\n",
    "* Пользователи с подпиской тратят больше времени на поездки;\n",
    "* Среднее расстояние, которое проезжают пользователи с подпиской за одну поездку, не превышает 3130 метров;\n",
    "* Помесячная выручка от пользователей с подпиской по месяцам выше, чем выручка от пользователей без подписки."
   ]
  },
  {
   "cell_type": "markdown",
   "id": "8705bb61",
   "metadata": {},
   "source": [
    "**Описание исходных данных:**\n",
    "\n",
    "Пользователи — users_go.csv:\n",
    "    \n",
    " * *user_id* — уникальный идентификатор пользователя\n",
    " * *name* — имя пользователя\n",
    " * *age* — возраст\n",
    " * *city* — город\n",
    " * *subscription_type* — тип подписки (free, ultra)\n",
    "\n",
    "Поездки — rides_go.csv:\n",
    " \n",
    " * *user_id* — уникальный идентификатор пользователя\n",
    " * *distance* — расстояние, которое пользователь проехал в текущей сессии (в метрах)\n",
    " * *duration* — продолжительность сессии (в минутах) — время с того момента, как пользователь нажал кнопку «Начать поездку» до момента, как он нажал кнопку «Завершить поездку»\n",
    " * *date* — дата совершения поездки\n",
    " \n",
    "Подписки — subscriptions_go.csv:\n",
    " \n",
    " * *subscription_type* — тип подписки\n",
    " * *minute_price* — стоимость одной минуты поездки по данной подписке\n",
    " * *start_ride_price* — стоимость начала поездки\n",
    " * *subscription_fee* — стоимость ежемесячного платежа"
   ]
  },
  {
   "cell_type": "markdown",
   "id": "7f396b60",
   "metadata": {},
   "source": [
    "**Исследование пройдет в 4 основных этапа:**\n",
    "\n",
    " * Обзор исходных данных;\n",
    " * Предобработка исходных данных;\n",
    " * Исследовательский анализ данных;\n",
    " * Проверка гипотез."
   ]
  },
  {
   "cell_type": "markdown",
   "id": "dc909e41",
   "metadata": {},
   "source": [
    "# Содержание <a id=\"Содержание\"></a>"
   ]
  },
  {
   "cell_type": "markdown",
   "id": "4c2d5efd",
   "metadata": {},
   "source": [
    "1. [Обзор исходных данных](#Обзор-исходных-данных)\n",
    "2. [Предобработка данных](#Предобработка-данных)\n",
    "    * [Изменение типа данных, добавление столбцов](#Изменение-типа)\n",
    "    * [Устранение неявных дубликатов](#Устранение-неявных)\n",
    "    * [Устранение явных дубликатов](#Устранение-явных)\n",
    "3. [Исследовательский анализ данных](#Исследовательский-анализ)\n",
    "    * [Частота встречаемости городов](#Частота-городов)\n",
    "    * [Соотношение пользователей с подпиской и без подписки](#Соотношение-подписок)\n",
    "    * [Возраст пользователей](#Возраст-пользователей)\n",
    "    * [Расстояние, которое пользователь преодолел за одну поездку](#Расстояние-поездки)\n",
    "    * [Продолжительность поездок](#Продолжительность-поездки)\n",
    "4. [Объединение данных](#Объединение-данных)\n",
    "    * [Соединение таблиц](#Соединение-таблиц)\n",
    "    * [Сравнение расстояния и времени поездок пользователей с подпиской и без](#Сравнение)\n",
    "5. [Подсчет выручки](#Подсчет-выручки)\n",
    "6. [Проверка гипотез](#Проверка-гипотез)\n",
    "    * [Время на поездку у пользователей с подпиской](#Время-на-поездку)\n",
    "    * [Среднее расстояние поездки у пользователей с подпиской](#Среднее-расстояние-поездки)\n",
    "    * [Сравнение помесячной выручки от пользователей с подпиской и без](#Сравнение-выручки)\n",
    "7. [Распределения](#Распределения)\n",
    "8. [Общий вывод](#Общий-вывод)"
   ]
  },
  {
   "cell_type": "markdown",
   "id": "21840cab",
   "metadata": {},
   "source": [
    "<a id='Обзор-исходных-данных'></a>\n",
    "## Обзор исходных данных"
   ]
  },
  {
   "cell_type": "code",
   "execution_count": 1,
   "id": "0bcc0995",
   "metadata": {},
   "outputs": [],
   "source": [
    "#импортируем необходимые для проекта библиотеки\n",
    "import pandas as pd\n",
    "import matplotlib.pyplot as plt\n",
    "import numpy as np\n",
    "from scipy import stats as st\n",
    "from scipy.stats import binom, norm"
   ]
  },
  {
   "cell_type": "code",
   "execution_count": 2,
   "id": "ea94f061",
   "metadata": {},
   "outputs": [],
   "source": [
    "#сохраним датасеты в дф\n",
    "data_users = pd.read_csv('/datasets/users_go.csv')\n",
    "data_rides = pd.read_csv('/datasets/rides_go.csv')\n",
    "data_subs = pd.read_csv('/datasets/subscriptions_go.csv')"
   ]
  },
  {
   "cell_type": "markdown",
   "id": "df61ffce",
   "metadata": {},
   "source": [
    "Сначала проверим предложенные данные:"
   ]
  },
  {
   "cell_type": "code",
   "execution_count": 3,
   "id": "1fcbe072",
   "metadata": {},
   "outputs": [],
   "source": [
    "#поскольку у нас 3 дф определим функцию для оптимизации\n",
    "#(откажемся от цикла, чтобы была возможность текстово описать каждый отдельный результат вывода)\n",
    "def data_info(data):\n",
    "    '''\n",
    "    Аргумент функции - название датасета.\n",
    "    Функция выводит первые 5 строк датасета, информацию по нему и гистограммы по числовым столбцам.\n",
    "    '''\n",
    "    display(data.head())\n",
    "    data.info()\n",
    "    data.hist(figsize=(15, 5))\n",
    "    plt.show()"
   ]
  },
  {
   "cell_type": "code",
   "execution_count": 4,
   "id": "62ab23d5",
   "metadata": {},
   "outputs": [
    {
     "data": {
      "text/html": [
       "<div>\n",
       "<style scoped>\n",
       "    .dataframe tbody tr th:only-of-type {\n",
       "        vertical-align: middle;\n",
       "    }\n",
       "\n",
       "    .dataframe tbody tr th {\n",
       "        vertical-align: top;\n",
       "    }\n",
       "\n",
       "    .dataframe thead th {\n",
       "        text-align: right;\n",
       "    }\n",
       "</style>\n",
       "<table border=\"1\" class=\"dataframe\">\n",
       "  <thead>\n",
       "    <tr style=\"text-align: right;\">\n",
       "      <th></th>\n",
       "      <th>user_id</th>\n",
       "      <th>name</th>\n",
       "      <th>age</th>\n",
       "      <th>city</th>\n",
       "      <th>subscription_type</th>\n",
       "    </tr>\n",
       "  </thead>\n",
       "  <tbody>\n",
       "    <tr>\n",
       "      <th>0</th>\n",
       "      <td>1</td>\n",
       "      <td>Кира</td>\n",
       "      <td>22</td>\n",
       "      <td>Тюмень</td>\n",
       "      <td>ultra</td>\n",
       "    </tr>\n",
       "    <tr>\n",
       "      <th>1</th>\n",
       "      <td>2</td>\n",
       "      <td>Станислав</td>\n",
       "      <td>31</td>\n",
       "      <td>Омск</td>\n",
       "      <td>ultra</td>\n",
       "    </tr>\n",
       "    <tr>\n",
       "      <th>2</th>\n",
       "      <td>3</td>\n",
       "      <td>Алексей</td>\n",
       "      <td>20</td>\n",
       "      <td>Москва</td>\n",
       "      <td>ultra</td>\n",
       "    </tr>\n",
       "    <tr>\n",
       "      <th>3</th>\n",
       "      <td>4</td>\n",
       "      <td>Константин</td>\n",
       "      <td>26</td>\n",
       "      <td>Ростов-на-Дону</td>\n",
       "      <td>ultra</td>\n",
       "    </tr>\n",
       "    <tr>\n",
       "      <th>4</th>\n",
       "      <td>5</td>\n",
       "      <td>Адель</td>\n",
       "      <td>28</td>\n",
       "      <td>Омск</td>\n",
       "      <td>ultra</td>\n",
       "    </tr>\n",
       "  </tbody>\n",
       "</table>\n",
       "</div>"
      ],
      "text/plain": [
       "   user_id        name  age            city subscription_type\n",
       "0        1        Кира   22          Тюмень             ultra\n",
       "1        2   Станислав   31            Омск             ultra\n",
       "2        3     Алексей   20          Москва             ultra\n",
       "3        4  Константин   26  Ростов-на-Дону             ultra\n",
       "4        5       Адель   28            Омск             ultra"
      ]
     },
     "metadata": {},
     "output_type": "display_data"
    },
    {
     "name": "stdout",
     "output_type": "stream",
     "text": [
      "<class 'pandas.core.frame.DataFrame'>\n",
      "RangeIndex: 1565 entries, 0 to 1564\n",
      "Data columns (total 5 columns):\n",
      " #   Column             Non-Null Count  Dtype \n",
      "---  ------             --------------  ----- \n",
      " 0   user_id            1565 non-null   int64 \n",
      " 1   name               1565 non-null   object\n",
      " 2   age                1565 non-null   int64 \n",
      " 3   city               1565 non-null   object\n",
      " 4   subscription_type  1565 non-null   object\n",
      "dtypes: int64(2), object(3)\n",
      "memory usage: 61.3+ KB\n"
     ]
    },
    {
     "data": {
      "image/png": "[encoded data removed]",
      "text/plain": [
       "<Figure size 1080x360 with 2 Axes>"
      ]
     },
     "metadata": {
      "needs_background": "light"
     },
     "output_type": "display_data"
    }
   ],
   "source": [
    "data_info(data_users)"
   ]
  },
  {
   "cell_type": "markdown",
   "id": "5c8e50bd",
   "metadata": {},
   "source": [
    "В датасете с пользователями нет пропусков, типы данных в порядке, распределение значений адекватное (равномерное в id, нормальное в age)."
   ]
  },
  {
   "cell_type": "code",
   "execution_count": 5,
   "id": "b2685103",
   "metadata": {},
   "outputs": [
    {
     "data": {
      "text/html": [
       "<div>\n",
       "<style scoped>\n",
       "    .dataframe tbody tr th:only-of-type {\n",
       "        vertical-align: middle;\n",
       "    }\n",
       "\n",
       "    .dataframe tbody tr th {\n",
       "        vertical-align: top;\n",
       "    }\n",
       "\n",
       "    .dataframe thead th {\n",
       "        text-align: right;\n",
       "    }\n",
       "</style>\n",
       "<table border=\"1\" class=\"dataframe\">\n",
       "  <thead>\n",
       "    <tr style=\"text-align: right;\">\n",
       "      <th></th>\n",
       "      <th>user_id</th>\n",
       "      <th>distance</th>\n",
       "      <th>duration</th>\n",
       "      <th>date</th>\n",
       "    </tr>\n",
       "  </thead>\n",
       "  <tbody>\n",
       "    <tr>\n",
       "      <th>0</th>\n",
       "      <td>1</td>\n",
       "      <td>4409.919140</td>\n",
       "      <td>25.599769</td>\n",
       "      <td>2021-01-01</td>\n",
       "    </tr>\n",
       "    <tr>\n",
       "      <th>1</th>\n",
       "      <td>1</td>\n",
       "      <td>2617.592153</td>\n",
       "      <td>15.816871</td>\n",
       "      <td>2021-01-18</td>\n",
       "    </tr>\n",
       "    <tr>\n",
       "      <th>2</th>\n",
       "      <td>1</td>\n",
       "      <td>754.159807</td>\n",
       "      <td>6.232113</td>\n",
       "      <td>2021-04-20</td>\n",
       "    </tr>\n",
       "    <tr>\n",
       "      <th>3</th>\n",
       "      <td>1</td>\n",
       "      <td>2694.783254</td>\n",
       "      <td>18.511000</td>\n",
       "      <td>2021-08-11</td>\n",
       "    </tr>\n",
       "    <tr>\n",
       "      <th>4</th>\n",
       "      <td>1</td>\n",
       "      <td>4028.687306</td>\n",
       "      <td>26.265803</td>\n",
       "      <td>2021-08-28</td>\n",
       "    </tr>\n",
       "  </tbody>\n",
       "</table>\n",
       "</div>"
      ],
      "text/plain": [
       "   user_id     distance   duration        date\n",
       "0        1  4409.919140  25.599769  2021-01-01\n",
       "1        1  2617.592153  15.816871  2021-01-18\n",
       "2        1   754.159807   6.232113  2021-04-20\n",
       "3        1  2694.783254  18.511000  2021-08-11\n",
       "4        1  4028.687306  26.265803  2021-08-28"
      ]
     },
     "metadata": {},
     "output_type": "display_data"
    },
    {
     "name": "stdout",
     "output_type": "stream",
     "text": [
      "<class 'pandas.core.frame.DataFrame'>\n",
      "RangeIndex: 18068 entries, 0 to 18067\n",
      "Data columns (total 4 columns):\n",
      " #   Column    Non-Null Count  Dtype  \n",
      "---  ------    --------------  -----  \n",
      " 0   user_id   18068 non-null  int64  \n",
      " 1   distance  18068 non-null  float64\n",
      " 2   duration  18068 non-null  float64\n",
      " 3   date      18068 non-null  object \n",
      "dtypes: float64(2), int64(1), object(1)\n",
      "memory usage: 564.8+ KB\n"
     ]
    },
    {
     "data": {
      "image/png": "[encoded data removed]",
      "text/plain": [
       "<Figure size 1080x360 with 4 Axes>"
      ]
     },
     "metadata": {
      "needs_background": "light"
     },
     "output_type": "display_data"
    }
   ],
   "source": [
    "data_info(data_rides)"
   ]
  },
  {
   "cell_type": "markdown",
   "id": "b8fd86f7",
   "metadata": {},
   "source": [
    "В датасете с поездками нет пропусков, значения распределены адекватно, необходимо привести данные в колонке с датами к стандартному типу."
   ]
  },
  {
   "cell_type": "code",
   "execution_count": 6,
   "id": "5560a30c",
   "metadata": {},
   "outputs": [
    {
     "data": {
      "text/html": [
       "<div>\n",
       "<style scoped>\n",
       "    .dataframe tbody tr th:only-of-type {\n",
       "        vertical-align: middle;\n",
       "    }\n",
       "\n",
       "    .dataframe tbody tr th {\n",
       "        vertical-align: top;\n",
       "    }\n",
       "\n",
       "    .dataframe thead th {\n",
       "        text-align: right;\n",
       "    }\n",
       "</style>\n",
       "<table border=\"1\" class=\"dataframe\">\n",
       "  <thead>\n",
       "    <tr style=\"text-align: right;\">\n",
       "      <th></th>\n",
       "      <th>subscription_type</th>\n",
       "      <th>minute_price</th>\n",
       "      <th>start_ride_price</th>\n",
       "      <th>subscription_fee</th>\n",
       "    </tr>\n",
       "  </thead>\n",
       "  <tbody>\n",
       "    <tr>\n",
       "      <th>0</th>\n",
       "      <td>free</td>\n",
       "      <td>8</td>\n",
       "      <td>50</td>\n",
       "      <td>0</td>\n",
       "    </tr>\n",
       "    <tr>\n",
       "      <th>1</th>\n",
       "      <td>ultra</td>\n",
       "      <td>6</td>\n",
       "      <td>0</td>\n",
       "      <td>199</td>\n",
       "    </tr>\n",
       "  </tbody>\n",
       "</table>\n",
       "</div>"
      ],
      "text/plain": [
       "  subscription_type  minute_price  start_ride_price  subscription_fee\n",
       "0              free             8                50                 0\n",
       "1             ultra             6                 0               199"
      ]
     },
     "metadata": {},
     "output_type": "display_data"
    },
    {
     "name": "stdout",
     "output_type": "stream",
     "text": [
      "<class 'pandas.core.frame.DataFrame'>\n",
      "RangeIndex: 2 entries, 0 to 1\n",
      "Data columns (total 4 columns):\n",
      " #   Column             Non-Null Count  Dtype \n",
      "---  ------             --------------  ----- \n",
      " 0   subscription_type  2 non-null      object\n",
      " 1   minute_price       2 non-null      int64 \n",
      " 2   start_ride_price   2 non-null      int64 \n",
      " 3   subscription_fee   2 non-null      int64 \n",
      "dtypes: int64(3), object(1)\n",
      "memory usage: 192.0+ bytes\n"
     ]
    },
    {
     "data": {
      "image/png": "[encoded data removed]",
      "text/plain": [
       "<Figure size 1080x360 with 4 Axes>"
      ]
     },
     "metadata": {
      "needs_background": "light"
     },
     "output_type": "display_data"
    }
   ],
   "source": [
    "data_info(data_subs)"
   ]
  },
  {
   "cell_type": "markdown",
   "id": "d2df7c5e",
   "metadata": {},
   "source": [
    "В датасете с информацией по тарифам пропусков, аномальных значений и нарушений типа данных не набдюдается."
   ]
  },
  {
   "cell_type": "markdown",
   "id": "f8a1281e",
   "metadata": {},
   "source": [
    "**Вывод:**\n",
    "\n",
    "Мы провели первичный обзор данных, не было выявлено пропусков и аномальных значений, необходимо изменить тип данных в столбце с датами в датасете с поездками.\n",
    "\n",
    "[Вернуться к содержанию](#Содержание)"
   ]
  },
  {
   "cell_type": "markdown",
   "id": "0299a668",
   "metadata": {},
   "source": [
    "<a id=\"Предобработка-данных\"></a>\n",
    "## Предобработка данных"
   ]
  },
  {
   "cell_type": "markdown",
   "id": "dc39559f",
   "metadata": {},
   "source": [
    "<a id=\"Изменение-типа\"></a>\n",
    "Для корректности изменим тип данных с object на date в аналогичном столбце датафрейма с информацией по поездкам и создадим отдельный с месяцами:"
   ]
  },
  {
   "cell_type": "code",
   "execution_count": 7,
   "id": "413aa6a4",
   "metadata": {},
   "outputs": [
    {
     "name": "stderr",
     "output_type": "stream",
     "text": [
      "/tmp/ipykernel_778/37923842.py:4: FutureWarning: Treating datetime data as categorical rather than numeric in `.describe` is deprecated and will be removed in a future version of pandas. Specify `datetime_is_numeric=True` to silence this warning and adopt the future behavior now.\n",
      "  data_rides['date'].describe()\n"
     ]
    },
    {
     "data": {
      "text/plain": [
       "count                   18068\n",
       "unique                    364\n",
       "top       2021-12-22 00:00:00\n",
       "freq                       72\n",
       "first     2021-01-01 00:00:00\n",
       "last      2021-12-30 00:00:00\n",
       "Name: date, dtype: object"
      ]
     },
     "execution_count": 7,
     "metadata": {},
     "output_type": "execute_result"
    }
   ],
   "source": [
    "#меняем формат\n",
    "data_rides['date'] = pd.to_datetime(data_rides['date'], format='%Y-%m-%d')\n",
    "#проверим, за какой период данные у нас в наличии\n",
    "data_rides['date'].describe()"
   ]
  },
  {
   "cell_type": "markdown",
   "id": "e1794528",
   "metadata": {},
   "source": [
    "В нашем распоряжении данные за 1 год - 2021. Можем добавить столбец с месяцами:"
   ]
  },
  {
   "cell_type": "code",
   "execution_count": 8,
   "id": "e9989337",
   "metadata": {},
   "outputs": [
    {
     "name": "stdout",
     "output_type": "stream",
     "text": [
      "<class 'pandas.core.frame.DataFrame'>\n",
      "RangeIndex: 18068 entries, 0 to 18067\n",
      "Data columns (total 5 columns):\n",
      " #   Column    Non-Null Count  Dtype         \n",
      "---  ------    --------------  -----         \n",
      " 0   user_id   18068 non-null  int64         \n",
      " 1   distance  18068 non-null  float64       \n",
      " 2   duration  18068 non-null  float64       \n",
      " 3   date      18068 non-null  datetime64[ns]\n",
      " 4   month     18068 non-null  int64         \n",
      "dtypes: datetime64[ns](1), float64(2), int64(2)\n",
      "memory usage: 705.9 KB\n"
     ]
    },
    {
     "data": {
      "text/html": [
       "<div>\n",
       "<style scoped>\n",
       "    .dataframe tbody tr th:only-of-type {\n",
       "        vertical-align: middle;\n",
       "    }\n",
       "\n",
       "    .dataframe tbody tr th {\n",
       "        vertical-align: top;\n",
       "    }\n",
       "\n",
       "    .dataframe thead th {\n",
       "        text-align: right;\n",
       "    }\n",
       "</style>\n",
       "<table border=\"1\" class=\"dataframe\">\n",
       "  <thead>\n",
       "    <tr style=\"text-align: right;\">\n",
       "      <th></th>\n",
       "      <th>user_id</th>\n",
       "      <th>distance</th>\n",
       "      <th>duration</th>\n",
       "      <th>date</th>\n",
       "      <th>month</th>\n",
       "    </tr>\n",
       "  </thead>\n",
       "  <tbody>\n",
       "    <tr>\n",
       "      <th>0</th>\n",
       "      <td>1</td>\n",
       "      <td>4409.919140</td>\n",
       "      <td>25.599769</td>\n",
       "      <td>2021-01-01</td>\n",
       "      <td>1</td>\n",
       "    </tr>\n",
       "    <tr>\n",
       "      <th>1</th>\n",
       "      <td>1</td>\n",
       "      <td>2617.592153</td>\n",
       "      <td>15.816871</td>\n",
       "      <td>2021-01-18</td>\n",
       "      <td>1</td>\n",
       "    </tr>\n",
       "    <tr>\n",
       "      <th>2</th>\n",
       "      <td>1</td>\n",
       "      <td>754.159807</td>\n",
       "      <td>6.232113</td>\n",
       "      <td>2021-04-20</td>\n",
       "      <td>4</td>\n",
       "    </tr>\n",
       "    <tr>\n",
       "      <th>3</th>\n",
       "      <td>1</td>\n",
       "      <td>2694.783254</td>\n",
       "      <td>18.511000</td>\n",
       "      <td>2021-08-11</td>\n",
       "      <td>8</td>\n",
       "    </tr>\n",
       "    <tr>\n",
       "      <th>4</th>\n",
       "      <td>1</td>\n",
       "      <td>4028.687306</td>\n",
       "      <td>26.265803</td>\n",
       "      <td>2021-08-28</td>\n",
       "      <td>8</td>\n",
       "    </tr>\n",
       "  </tbody>\n",
       "</table>\n",
       "</div>"
      ],
      "text/plain": [
       "   user_id     distance   duration       date  month\n",
       "0        1  4409.919140  25.599769 2021-01-01      1\n",
       "1        1  2617.592153  15.816871 2021-01-18      1\n",
       "2        1   754.159807   6.232113 2021-04-20      4\n",
       "3        1  2694.783254  18.511000 2021-08-11      8\n",
       "4        1  4028.687306  26.265803 2021-08-28      8"
      ]
     },
     "execution_count": 8,
     "metadata": {},
     "output_type": "execute_result"
    }
   ],
   "source": [
    "data_rides['month'] = data_rides['date'].dt.month\n",
    "#проверим изменения\n",
    "data_rides.info()\n",
    "data_rides.head()"
   ]
  },
  {
   "cell_type": "markdown",
   "id": "5790f163",
   "metadata": {},
   "source": [
    "<a id=\"Устранение-неявных\"></a>\n",
    "Ранее мы выявили, что в наших данных нет пропусков, теперь проверим на дубликаты:"
   ]
  },
  {
   "cell_type": "markdown",
   "id": "a2c8d495",
   "metadata": {},
   "source": [
    "Исходя из природы данных, неявные дубликаты могут быть только в категориальных значениях типа object, сначала сфокусируемся на них."
   ]
  },
  {
   "cell_type": "markdown",
   "id": "bdbc0d91",
   "metadata": {},
   "source": [
    "Датафрейм \"Пользователи\":\n",
    "\n",
    "*name*, *city* и *subscription_type*"
   ]
  },
  {
   "cell_type": "code",
   "execution_count": 9,
   "id": "a4a38d90",
   "metadata": {},
   "outputs": [
    {
     "name": "stdout",
     "output_type": "stream",
     "text": [
      "Количество уникальных имен: 194\n"
     ]
    },
    {
     "data": {
      "text/plain": [
       "array(['Агата', 'Аделина', 'Адель', 'Айдар', 'Александр', 'Александра',\n",
       "       'Алексей', 'Алина', 'Алиса', 'Алия', 'Алла', 'Альберт', 'Альбина',\n",
       "       'Алёна', 'Амалия', 'Амина', 'Амир', 'Анастасия', 'Анатолий',\n",
       "       'Ангелина', 'Андрей', 'Анжелика', 'Анна', 'Антон', 'Антонина',\n",
       "       'Ариана', 'Арина', 'Арсен', 'Арсений', 'Артемий', 'Артур', 'Артём',\n",
       "       'Богдан', 'Борис', 'Вадим', 'Валентина', 'Валерий', 'Валерия',\n",
       "       'Варвара', 'Василий', 'Василина', 'Василиса', 'Вера', 'Вероника',\n",
       "       'Виктор', 'Виктория', 'Виолетта', 'Виталий', 'Виталина', 'Влад',\n",
       "       'Влада', 'Владимир', 'Владислав', 'Владислава', 'Всеволод',\n",
       "       'Вячеслав', 'Галина', 'Георгий', 'Герман', 'Глеб', 'Гордей',\n",
       "       'Григорий', 'Давид', 'Дамир', 'Даниил', 'Данил', 'Данила',\n",
       "       'Даниэль', 'Дарина', 'Дарья', 'Демид', 'Денис', 'Диана', 'Дмитрий',\n",
       "       'Ева', 'Евгений', 'Евгения', 'Егор', 'Екатерина', 'Елена',\n",
       "       'Елизавета', 'Елисей', 'Есения', 'Жанна', 'Зарина', 'Захар',\n",
       "       'Злата', 'Иван', 'Игнат', 'Игорь', 'Ильдар', 'Илья', 'Инна',\n",
       "       'Ирина', 'Камилла', 'Карина', 'Каролина', 'Кира', 'Кирилл',\n",
       "       'Константин', 'Кристина', 'Ксения', 'Лариса', 'Лев', 'Леонид',\n",
       "       'Лиана', 'Лидия', 'Лилия', 'Любовь', 'Людмила', 'Мадина', 'Майя',\n",
       "       'Макар', 'Максим', 'Марат', 'Маргарита', 'Марина', 'Мария', 'Марк',\n",
       "       'Марсель', 'Матвей', 'Мелания', 'Милана', 'Милена', 'Мирон',\n",
       "       'Мирослав', 'Мирослава', 'Михаил', 'Назар', 'Наталия', 'Наталья',\n",
       "       'Наташа', 'Нелли', 'Ника', 'Никита', 'Николай', 'Нина', 'Одиссей',\n",
       "       'Оксана', 'Олег', 'Олеся', 'Ольга', 'Павел', 'Петр', 'Платон',\n",
       "       'Полина', 'Радмир', 'Рамиль', 'Регина', 'Роберт', 'Родион',\n",
       "       'Роман', 'Ростислав', 'Руслан', 'Рустам', 'Савелий', 'Самир',\n",
       "       'Самира', 'Светлана', 'Святогор', 'Святослав', 'Семен', 'Сергей',\n",
       "       'Снежана', 'София', 'Софья', 'Станислав', 'Степан', 'Стефания',\n",
       "       'Таисия', 'Тамара', 'Тамерлан', 'Татьяна', 'Тимофей', 'Тимур',\n",
       "       'Тихон', 'Ульяна', 'Федор', 'Эвелина', 'Эдуард', 'Элина',\n",
       "       'Эльвира', 'Эльмира', 'Эмилия', 'Эмиль', 'Юлиана', 'Юлия', 'Юрий',\n",
       "       'Ян', 'Яна', 'Яромир', 'Ярослав', 'Ярослава', 'Ясмина'],\n",
       "      dtype=object)"
      ]
     },
     "execution_count": 9,
     "metadata": {},
     "output_type": "execute_result"
    }
   ],
   "source": [
    "#проверим уникальные значения имен\n",
    "print('Количество уникальных имен:', data_users['name'].nunique())\n",
    "data_users['name'].sort_values().unique()"
   ]
  },
  {
   "cell_type": "markdown",
   "id": "24a13cac",
   "metadata": {},
   "source": [
    "Видим неявные дубликаты в именах Влад, Влада, Владислав, Владислава, что само по себе может не влиять на исследование, но для качества данных исправим:"
   ]
  },
  {
   "cell_type": "code",
   "execution_count": 10,
   "id": "18cd6cb9",
   "metadata": {},
   "outputs": [
    {
     "name": "stdout",
     "output_type": "stream",
     "text": [
      "Количество уникальных имен: 192\n"
     ]
    }
   ],
   "source": [
    "#Заменяем имена на полные\n",
    "data_users.loc[data_users['name'] == 'Влад', 'name'] = 'Владислав'\n",
    "data_users.loc[data_users['name'] == 'Влада', 'name'] = 'Владислава'\n",
    "print('Количество уникальных имен:', data_users['name'].nunique())"
   ]
  },
  {
   "cell_type": "code",
   "execution_count": 11,
   "id": "afccf291",
   "metadata": {},
   "outputs": [
    {
     "name": "stdout",
     "output_type": "stream",
     "text": [
      "Количество уникальных названий: 8\n"
     ]
    },
    {
     "data": {
      "text/plain": [
       "array(['Екатеринбург', 'Краснодар', 'Москва', 'Омск', 'Пятигорск',\n",
       "       'Ростов-на-Дону', 'Сочи', 'Тюмень'], dtype=object)"
      ]
     },
     "execution_count": 11,
     "metadata": {},
     "output_type": "execute_result"
    }
   ],
   "source": [
    "#проверим уникальные значения городов\n",
    "print('Количество уникальных названий:', data_users['city'].nunique())\n",
    "data_users['city'].sort_values().unique()"
   ]
  },
  {
   "cell_type": "code",
   "execution_count": 12,
   "id": "6fd57c4c",
   "metadata": {},
   "outputs": [
    {
     "name": "stdout",
     "output_type": "stream",
     "text": [
      "Количество уникальных названий типов подписки: 2\n"
     ]
    },
    {
     "data": {
      "text/plain": [
       "array(['free', 'ultra'], dtype=object)"
      ]
     },
     "execution_count": 12,
     "metadata": {},
     "output_type": "execute_result"
    }
   ],
   "source": [
    "#проверим уникальные значения типа подписки\n",
    "print('Количество уникальных названий типов подписки:', data_users['subscription_type'].nunique())\n",
    "data_users['subscription_type'].sort_values().unique()"
   ]
  },
  {
   "cell_type": "markdown",
   "id": "b8fcf971",
   "metadata": {},
   "source": [
    "Среди городов и типов подписки дубликатов нет, в именах дубликаты удалили. "
   ]
  },
  {
   "cell_type": "markdown",
   "id": "d8e0f698",
   "metadata": {},
   "source": [
    "В датафрейме \"Поездки\" неявные дубликаты исключены в силу типов данных и значений.  "
   ]
  },
  {
   "cell_type": "markdown",
   "id": "8416ac09",
   "metadata": {},
   "source": [
    "Датафрейм \"Подписки\":\n",
    "\n",
    "*subscription_type*"
   ]
  },
  {
   "cell_type": "code",
   "execution_count": 13,
   "id": "e3d0b106",
   "metadata": {},
   "outputs": [
    {
     "name": "stdout",
     "output_type": "stream",
     "text": [
      "Количество уникальных названий типов подписки: 2\n"
     ]
    },
    {
     "data": {
      "text/plain": [
       "array(['free', 'ultra'], dtype=object)"
      ]
     },
     "execution_count": 13,
     "metadata": {},
     "output_type": "execute_result"
    }
   ],
   "source": [
    "#проверим уникальные значения типа подписки\n",
    "print('Количество уникальных названий типов подписки:', data_subs['subscription_type'].nunique())\n",
    "data_subs['subscription_type'].sort_values().unique()"
   ]
  },
  {
   "cell_type": "markdown",
   "id": "26137e16",
   "metadata": {},
   "source": [
    "Неявные дубликаты в датафрейме \"Подписки\" отстуствуют."
   ]
  },
  {
   "cell_type": "markdown",
   "id": "d823a42e",
   "metadata": {},
   "source": [
    "<a id=\"Устранение-явных\"></a>\n",
    "Теперь устраним явные дубликаты."
   ]
  },
  {
   "cell_type": "code",
   "execution_count": 14,
   "id": "631450ee",
   "metadata": {},
   "outputs": [
    {
     "name": "stdout",
     "output_type": "stream",
     "text": [
      "Количество дубликатов в data_users: 31\n",
      "Количество дубликатов в data_users после обработки: 0\n",
      "\n",
      "Количество дубликатов в data_rides: 0\n",
      "Количество дубликатов в data_rides после обработки: 0\n",
      "\n",
      "Количество дубликатов в data_subs: 0\n",
      "Количество дубликатов в data_subs после обработки: 0\n",
      "\n"
     ]
    }
   ],
   "source": [
    "data_list = {'data_users':data_users, 'data_rides':data_rides, 'data_subs':data_subs}\n",
    "\n",
    "for name, df in data_list.items():\n",
    "    print(f'Количество дубликатов в {name}:', df.duplicated().sum())\n",
    "    df = df.drop_duplicates() \n",
    "    if name == 'data_users':\n",
    "        data_users = df\n",
    "    elif name == 'data_rides':\n",
    "        data_rides = df\n",
    "    elif name == 'data_subs':\n",
    "        data_subs = df\n",
    "    print(f'Количество дубликатов в {name} после обработки:', df.duplicated().sum())\n",
    "    print()"
   ]
  },
  {
   "cell_type": "markdown",
   "id": "c2e2596b",
   "metadata": {},
   "source": [
    "**Вывод:**\n",
    "\n",
    "Мы провели предобработку данных:\n",
    "\n",
    "* Даты датафрейма \"Поездки\" приведены к стандартному типу данных *datetime*, создан новый столбец с числовым отображением месяца поездки - *month*;\n",
    "* Удалены явные и неявные дубликаты в наших данных.\n",
    "\n",
    "[Вернуться к содержанию](#Содержание)"
   ]
  },
  {
   "cell_type": "markdown",
   "id": "2d337dca",
   "metadata": {},
   "source": [
    "<a id='Исследовательский-анализ'></a>\n",
    "## Исследовательский анализ данных"
   ]
  },
  {
   "cell_type": "markdown",
   "id": "d9e0f3ac",
   "metadata": {},
   "source": [
    "Опишем и визуализируем общую информацию о пользователях и поездках."
   ]
  },
  {
   "cell_type": "markdown",
   "id": "e5a9a8fd",
   "metadata": {},
   "source": [
    "<a id='Частота-городов'></a>\n",
    "Частота встречаемости городов:"
   ]
  },
  {
   "cell_type": "code",
   "execution_count": 15,
   "id": "fa663d31",
   "metadata": {},
   "outputs": [
    {
     "data": {
      "text/html": [
       "<div>\n",
       "<style scoped>\n",
       "    .dataframe tbody tr th:only-of-type {\n",
       "        vertical-align: middle;\n",
       "    }\n",
       "\n",
       "    .dataframe tbody tr th {\n",
       "        vertical-align: top;\n",
       "    }\n",
       "\n",
       "    .dataframe thead th {\n",
       "        text-align: right;\n",
       "    }\n",
       "</style>\n",
       "<table border=\"1\" class=\"dataframe\">\n",
       "  <thead>\n",
       "    <tr style=\"text-align: right;\">\n",
       "      <th></th>\n",
       "      <th>user_id</th>\n",
       "      <th>total_users</th>\n",
       "      <th>users_part</th>\n",
       "    </tr>\n",
       "    <tr>\n",
       "      <th>city</th>\n",
       "      <th></th>\n",
       "      <th></th>\n",
       "      <th></th>\n",
       "    </tr>\n",
       "  </thead>\n",
       "  <tbody>\n",
       "    <tr>\n",
       "      <th>Пятигорск</th>\n",
       "      <td>219</td>\n",
       "      <td>1534</td>\n",
       "      <td>14.276402</td>\n",
       "    </tr>\n",
       "    <tr>\n",
       "      <th>Екатеринбург</th>\n",
       "      <td>204</td>\n",
       "      <td>1534</td>\n",
       "      <td>13.298566</td>\n",
       "    </tr>\n",
       "    <tr>\n",
       "      <th>Ростов-на-Дону</th>\n",
       "      <td>198</td>\n",
       "      <td>1534</td>\n",
       "      <td>12.907432</td>\n",
       "    </tr>\n",
       "    <tr>\n",
       "      <th>Краснодар</th>\n",
       "      <td>193</td>\n",
       "      <td>1534</td>\n",
       "      <td>12.581486</td>\n",
       "    </tr>\n",
       "    <tr>\n",
       "      <th>Сочи</th>\n",
       "      <td>189</td>\n",
       "      <td>1534</td>\n",
       "      <td>12.320730</td>\n",
       "    </tr>\n",
       "    <tr>\n",
       "      <th>Омск</th>\n",
       "      <td>183</td>\n",
       "      <td>1534</td>\n",
       "      <td>11.929596</td>\n",
       "    </tr>\n",
       "    <tr>\n",
       "      <th>Тюмень</th>\n",
       "      <td>180</td>\n",
       "      <td>1534</td>\n",
       "      <td>11.734029</td>\n",
       "    </tr>\n",
       "    <tr>\n",
       "      <th>Москва</th>\n",
       "      <td>168</td>\n",
       "      <td>1534</td>\n",
       "      <td>10.951760</td>\n",
       "    </tr>\n",
       "  </tbody>\n",
       "</table>\n",
       "</div>"
      ],
      "text/plain": [
       "                user_id  total_users  users_part\n",
       "city                                            \n",
       "Пятигорск           219         1534   14.276402\n",
       "Екатеринбург        204         1534   13.298566\n",
       "Ростов-на-Дону      198         1534   12.907432\n",
       "Краснодар           193         1534   12.581486\n",
       "Сочи                189         1534   12.320730\n",
       "Омск                183         1534   11.929596\n",
       "Тюмень              180         1534   11.734029\n",
       "Москва              168         1534   10.951760"
      ]
     },
     "execution_count": 15,
     "metadata": {},
     "output_type": "execute_result"
    }
   ],
   "source": [
    "data_users_cities = data_users.pivot_table(index='city', values='user_id', aggfunc='count')\\\n",
    ".sort_values(by='user_id', ascending=False)\n",
    "data_users_cities['total_users'] = data_users_cities['user_id'].sum()\n",
    "data_users_cities['users_part'] = data_users_cities['user_id']/data_users_cities['total_users']*100\n",
    "data_users_cities"
   ]
  },
  {
   "cell_type": "code",
   "execution_count": 16,
   "id": "cc0c3cb9",
   "metadata": {},
   "outputs": [
    {
     "data": {
      "image/png": "[encoded data removed]",
      "text/plain": [
       "<Figure size 432x288 with 1 Axes>"
      ]
     },
     "metadata": {
      "needs_background": "light"
     },
     "output_type": "display_data"
    }
   ],
   "source": [
    "data_users_cities['user_id'].sort_values(ascending=True).plot(kind='barh', grid=True)\n",
    "plt.title('Частота встречаемости городов')\n",
    "plt.ylabel('Города')\n",
    "plt.xlabel('Количество пользователей сервиса')\n",
    "plt.show()"
   ]
  },
  {
   "cell_type": "markdown",
   "id": "d6441d1c",
   "metadata": {},
   "source": [
    "Видим, что большинство пользователей из Пятигорска (14% всех пользователей), меньше всего - в Москве (11%). Предположительно связано с основным городом базирования предприятия и количеством точек/самокатов в аренду. "
   ]
  },
  {
   "cell_type": "markdown",
   "id": "39b53247",
   "metadata": {},
   "source": [
    "<a id='Соотношение-подписок'></a>\n",
    "Найдем соотношение пользователей с подпиской и без:"
   ]
  },
  {
   "cell_type": "code",
   "execution_count": 17,
   "id": "4d40a6dd",
   "metadata": {},
   "outputs": [
    {
     "data": {
      "text/html": [
       "<div>\n",
       "<style scoped>\n",
       "    .dataframe tbody tr th:only-of-type {\n",
       "        vertical-align: middle;\n",
       "    }\n",
       "\n",
       "    .dataframe tbody tr th {\n",
       "        vertical-align: top;\n",
       "    }\n",
       "\n",
       "    .dataframe thead th {\n",
       "        text-align: right;\n",
       "    }\n",
       "</style>\n",
       "<table border=\"1\" class=\"dataframe\">\n",
       "  <thead>\n",
       "    <tr style=\"text-align: right;\">\n",
       "      <th></th>\n",
       "      <th>user_id</th>\n",
       "      <th>total_users</th>\n",
       "      <th>part_subs</th>\n",
       "    </tr>\n",
       "    <tr>\n",
       "      <th>subscription_type</th>\n",
       "      <th></th>\n",
       "      <th></th>\n",
       "      <th></th>\n",
       "    </tr>\n",
       "  </thead>\n",
       "  <tbody>\n",
       "    <tr>\n",
       "      <th>free</th>\n",
       "      <td>835</td>\n",
       "      <td>1534</td>\n",
       "      <td>54.432855</td>\n",
       "    </tr>\n",
       "    <tr>\n",
       "      <th>ultra</th>\n",
       "      <td>699</td>\n",
       "      <td>1534</td>\n",
       "      <td>45.567145</td>\n",
       "    </tr>\n",
       "  </tbody>\n",
       "</table>\n",
       "</div>"
      ],
      "text/plain": [
       "                   user_id  total_users  part_subs\n",
       "subscription_type                                 \n",
       "free                   835         1534  54.432855\n",
       "ultra                  699         1534  45.567145"
      ]
     },
     "execution_count": 17,
     "metadata": {},
     "output_type": "execute_result"
    }
   ],
   "source": [
    "data_users_subs = data_users.pivot_table(index='subscription_type', values='user_id', aggfunc='count')\\\n",
    ".sort_values(by='user_id', ascending=False)\n",
    "data_users_subs['total_users'] = data_users_subs['user_id'].sum()\n",
    "data_users_subs['part_subs'] = data_users_subs['user_id']/data_users_subs['total_users']*100\n",
    "data_users_subs"
   ]
  },
  {
   "cell_type": "code",
   "execution_count": 18,
   "id": "b71efaca",
   "metadata": {},
   "outputs": [
    {
     "data": {
      "image/png": "[encoded data removed]",
      "text/plain": [
       "<Figure size 432x288 with 1 Axes>"
      ]
     },
     "metadata": {
      "needs_background": "light"
     },
     "output_type": "display_data"
    }
   ],
   "source": [
    "data_users_subs['user_id'].sort_values(ascending=True).plot(kind='bar', grid=True)\n",
    "plt.title('Соотношение пользователей с подпиской и без')\n",
    "plt.xlabel('Тип подписки')\n",
    "plt.ylabel('Количество пользователей сервиса')\n",
    "plt.show()"
   ]
  },
  {
   "cell_type": "markdown",
   "id": "720259ab",
   "metadata": {},
   "source": [
    "Для наглядности представим в виде круговой диаграммы:"
   ]
  },
  {
   "cell_type": "code",
   "execution_count": 19,
   "id": "2564a9c5",
   "metadata": {},
   "outputs": [
    {
     "data": {
      "image/png": "[encoded data removed]",
      "text/plain": [
       "<Figure size 432x288 with 1 Axes>"
      ]
     },
     "metadata": {},
     "output_type": "display_data"
    }
   ],
   "source": [
    "plt.pie(data_users_subs['user_id'], labels=['free', 'ultra'], autopct='%1.1f%%')\n",
    "plt.title('Соотношение пользователей с подпиской и без')\n",
    "plt.show()"
   ]
  },
  {
   "cell_type": "markdown",
   "id": "390c7d83",
   "metadata": {},
   "source": [
    "Количество пользователей сервиса без подписки больше почти на 10% от общего количества. Однако 45% пользователей с подпиской, предварительно, - хороший результат."
   ]
  },
  {
   "cell_type": "markdown",
   "id": "923902ec",
   "metadata": {},
   "source": [
    "<a id='Возраст-пользователей'></a>\n",
    "Посмотрим на возраст пользователей:"
   ]
  },
  {
   "cell_type": "code",
   "execution_count": 20,
   "id": "12a8d721",
   "metadata": {},
   "outputs": [
    {
     "data": {
      "image/png": "[encoded data removed]",
      "text/plain": [
       "<Figure size 432x288 with 1 Axes>"
      ]
     },
     "metadata": {
      "needs_background": "light"
     },
     "output_type": "display_data"
    }
   ],
   "source": [
    "data_users['age'].hist(bins=30)\n",
    "plt.title('Количество пользователей по возрасту')\n",
    "plt.ylabel('Количество пользователей')\n",
    "plt.xlabel('Возрастные группы')\n",
    "plt.show()"
   ]
  },
  {
   "cell_type": "markdown",
   "id": "862696a5",
   "metadata": {},
   "source": [
    "При обзоре датасетов мы уже видели нормальное распределение значений по возрасту со средним 25 лет и небольшим количеством пользователей в возрасте около 42-43 лет.\n",
    "\n",
    "Взглянем на рассчитаное среднее и медиану для точности:"
   ]
  },
  {
   "cell_type": "code",
   "execution_count": 21,
   "id": "2408e16f",
   "metadata": {},
   "outputs": [
    {
     "data": {
      "text/plain": [
       "count    1534.000000\n",
       "mean       24.903520\n",
       "std         4.572367\n",
       "min        12.000000\n",
       "25%        22.000000\n",
       "50%        25.000000\n",
       "75%        28.000000\n",
       "max        43.000000\n",
       "Name: age, dtype: float64"
      ]
     },
     "execution_count": 21,
     "metadata": {},
     "output_type": "execute_result"
    }
   ],
   "source": [
    "data_users['age'].describe()"
   ]
  },
  {
   "cell_type": "markdown",
   "id": "8eab7154",
   "metadata": {},
   "source": [
    "Медиана и среднее практически равны - данные однородны. "
   ]
  },
  {
   "cell_type": "markdown",
   "id": "69f7fdb7",
   "metadata": {},
   "source": [
    "<a id='Расстояние-поездки'></a>\n",
    "Аналогично рассмотрим расстояние, преодолеваемое пользователем за 1 поездку:"
   ]
  },
  {
   "cell_type": "code",
   "execution_count": 22,
   "id": "3d14a23f",
   "metadata": {},
   "outputs": [
    {
     "data": {
      "image/png": "[encoded data removed]",
      "text/plain": [
       "<Figure size 432x288 with 1 Axes>"
      ]
     },
     "metadata": {
      "needs_background": "light"
     },
     "output_type": "display_data"
    }
   ],
   "source": [
    "data_rides['distance'].hist(bins=50)\n",
    "plt.title('Количество поездок по расстоянию')\n",
    "plt.ylabel('Количество поездок')\n",
    "plt.xlabel('Расстояние')\n",
    "plt.show()"
   ]
  },
  {
   "cell_type": "markdown",
   "id": "672f92a8",
   "metadata": {},
   "source": [
    "У гистограммы есть 2 пика: небольшой в 650м и основной в 3100м, определим среднее и медиану значений:"
   ]
  },
  {
   "cell_type": "code",
   "execution_count": 23,
   "id": "224aa6db",
   "metadata": {},
   "outputs": [
    {
     "data": {
      "text/plain": [
       "count    18068.000000\n",
       "mean      3070.659976\n",
       "std       1116.831209\n",
       "min          0.855683\n",
       "25%       2543.226360\n",
       "50%       3133.609994\n",
       "75%       3776.222735\n",
       "max       7211.007745\n",
       "Name: distance, dtype: float64"
      ]
     },
     "execution_count": 23,
     "metadata": {},
     "output_type": "execute_result"
    }
   ],
   "source": [
    "data_rides['distance'].describe()"
   ]
  },
  {
   "cell_type": "markdown",
   "id": "be00cafb",
   "metadata": {},
   "source": [
    "Среднее расстояние поездки равно 3133м, выглядит правдоподобно, как и, приблизительно, 300 поездок около 650м - не все используют электросамокаты для передвижения на сравнительно далекие расстояния, иногда необходимо быстро добраться до близкой точки интереса.\n",
    "\n",
    "Также мы видим минимальное расстояние равное 0.85 метра - возможно, это случаи, когда пользователи брали самокат в аренду и сразу же отменяли, таких значений в датасете около 100, что не сильно влияет на качество данных. "
   ]
  },
  {
   "cell_type": "markdown",
   "id": "a4361848",
   "metadata": {},
   "source": [
    "<a id='Продолжительность-поездки'></a>\n",
    "Уделим внимание и длительности поездок:"
   ]
  },
  {
   "cell_type": "code",
   "execution_count": 24,
   "id": "61925fe2",
   "metadata": {},
   "outputs": [
    {
     "data": {
      "image/png": "[encoded data removed]",
      "text/plain": [
       "<Figure size 432x288 with 1 Axes>"
      ]
     },
     "metadata": {
      "needs_background": "light"
     },
     "output_type": "display_data"
    }
   ],
   "source": [
    "data_rides['duration'].hist(bins=50)\n",
    "plt.title('Количество поездок по времени')\n",
    "plt.ylabel('Количество поездок')\n",
    "plt.xlabel('Время')\n",
    "plt.show()"
   ]
  },
  {
   "cell_type": "markdown",
   "id": "23761172",
   "metadata": {},
   "source": [
    "Значения нормально распределены вокруг 18 минут, что и является примерным средним временем поездки. Еще заметны значения поездки около 1 минуты - возможно, это те же поездки на расстояние около 1 метра. \n",
    "\n",
    "Рассмотрим такие поездки более детально:"
   ]
  },
  {
   "cell_type": "code",
   "execution_count": 25,
   "id": "164b28c7",
   "metadata": {},
   "outputs": [
    {
     "data": {
      "text/html": [
       "<div>\n",
       "<style scoped>\n",
       "    .dataframe tbody tr th:only-of-type {\n",
       "        vertical-align: middle;\n",
       "    }\n",
       "\n",
       "    .dataframe tbody tr th {\n",
       "        vertical-align: top;\n",
       "    }\n",
       "\n",
       "    .dataframe thead th {\n",
       "        text-align: right;\n",
       "    }\n",
       "</style>\n",
       "<table border=\"1\" class=\"dataframe\">\n",
       "  <thead>\n",
       "    <tr style=\"text-align: right;\">\n",
       "      <th></th>\n",
       "      <th>user_id</th>\n",
       "      <th>distance</th>\n",
       "      <th>duration</th>\n",
       "      <th>month</th>\n",
       "    </tr>\n",
       "  </thead>\n",
       "  <tbody>\n",
       "    <tr>\n",
       "      <th>count</th>\n",
       "      <td>95.000000</td>\n",
       "      <td>95.000000</td>\n",
       "      <td>95.0</td>\n",
       "      <td>95.000000</td>\n",
       "    </tr>\n",
       "    <tr>\n",
       "      <th>mean</th>\n",
       "      <td>1092.210526</td>\n",
       "      <td>5113.176549</td>\n",
       "      <td>0.5</td>\n",
       "      <td>6.484211</td>\n",
       "    </tr>\n",
       "    <tr>\n",
       "      <th>std</th>\n",
       "      <td>244.028551</td>\n",
       "      <td>658.254104</td>\n",
       "      <td>0.0</td>\n",
       "      <td>3.709858</td>\n",
       "    </tr>\n",
       "    <tr>\n",
       "      <th>min</th>\n",
       "      <td>701.000000</td>\n",
       "      <td>4030.308008</td>\n",
       "      <td>0.5</td>\n",
       "      <td>1.000000</td>\n",
       "    </tr>\n",
       "    <tr>\n",
       "      <th>25%</th>\n",
       "      <td>901.000000</td>\n",
       "      <td>4611.510820</td>\n",
       "      <td>0.5</td>\n",
       "      <td>3.000000</td>\n",
       "    </tr>\n",
       "    <tr>\n",
       "      <th>50%</th>\n",
       "      <td>1069.000000</td>\n",
       "      <td>5052.769411</td>\n",
       "      <td>0.5</td>\n",
       "      <td>6.000000</td>\n",
       "    </tr>\n",
       "    <tr>\n",
       "      <th>75%</th>\n",
       "      <td>1310.500000</td>\n",
       "      <td>5488.459099</td>\n",
       "      <td>0.5</td>\n",
       "      <td>10.000000</td>\n",
       "    </tr>\n",
       "    <tr>\n",
       "      <th>max</th>\n",
       "      <td>1524.000000</td>\n",
       "      <td>7211.007745</td>\n",
       "      <td>0.5</td>\n",
       "      <td>12.000000</td>\n",
       "    </tr>\n",
       "  </tbody>\n",
       "</table>\n",
       "</div>"
      ],
      "text/plain": [
       "           user_id     distance  duration      month\n",
       "count    95.000000    95.000000      95.0  95.000000\n",
       "mean   1092.210526  5113.176549       0.5   6.484211\n",
       "std     244.028551   658.254104       0.0   3.709858\n",
       "min     701.000000  4030.308008       0.5   1.000000\n",
       "25%     901.000000  4611.510820       0.5   3.000000\n",
       "50%    1069.000000  5052.769411       0.5   6.000000\n",
       "75%    1310.500000  5488.459099       0.5  10.000000\n",
       "max    1524.000000  7211.007745       0.5  12.000000"
      ]
     },
     "execution_count": 25,
     "metadata": {},
     "output_type": "execute_result"
    }
   ],
   "source": [
    "data_rides[data_rides['duration']<2].describe()"
   ]
  },
  {
   "cell_type": "markdown",
   "id": "58e7c5f8",
   "metadata": {},
   "source": [
    "Видим, что минимальная дистанция для поездок в диапазоне 0-2 минуты составляет 4км. Предположение оказалось неверным: без отдельных расчетов понятно, что скорость самоката в данных случаях превышает максимальную - эти значения примем, как аномальные, которые на данном этапе мы не можем скорректировать или удалить - неизвестно в чем ошибка в данных: во времени или расстоянии, а строки необходимы нам для учета пользователей."
   ]
  },
  {
   "cell_type": "markdown",
   "id": "7ce560bf",
   "metadata": {},
   "source": [
    "Определим среднее и медиану более точно:"
   ]
  },
  {
   "cell_type": "code",
   "execution_count": 26,
   "id": "5078ea39",
   "metadata": {},
   "outputs": [
    {
     "data": {
      "text/plain": [
       "count    18068.000000\n",
       "mean        17.805011\n",
       "std          6.091051\n",
       "min          0.500000\n",
       "25%         13.597563\n",
       "50%         17.678395\n",
       "75%         21.724800\n",
       "max         40.823963\n",
       "Name: duration, dtype: float64"
      ]
     },
     "execution_count": 26,
     "metadata": {},
     "output_type": "execute_result"
    }
   ],
   "source": [
    "data_rides['duration'].describe()"
   ]
  },
  {
   "cell_type": "markdown",
   "id": "886b237b",
   "metadata": {},
   "source": [
    "Среднее время составляет 17 минут 48 секунд - вполне стандартная длительность поездки. "
   ]
  },
  {
   "cell_type": "markdown",
   "id": "a9128f04",
   "metadata": {},
   "source": [
    "**Вывод:**\n",
    "\n",
    "Мы более подробно исследовали данные:\n",
    "\n",
    "* Больше всего пользователей сервиса в Пятигорске (14%), меньше всего - в Москве(11%);\n",
    "* Бользователей с подпиской - 699(45%), без подписки - 835;\n",
    "* Возраст пользователей нормально распределен вокруг среднего - 25 лет;\n",
    "* Расстояние, преодолеваемое пользователями сервиса, собрано, в основном, вокруг 3100м, второй пик в 650м представлен 300 поездками, вокруг которого так же собраны значения, подобные нормальному распределению отностиельно пика. Существуют поездки на расстояние около 1м, связанные, скорее всего, со скорой отменой аренды;\n",
    "* Время поездки нормально распределено вокруг среднего 17 минут 48 секунд, есть аномальные поездки - около 1 минуты. \n",
    "\n",
    "[Вернуться к содержанию](#Содержание)"
   ]
  },
  {
   "cell_type": "markdown",
   "id": "9aafb0ce",
   "metadata": {},
   "source": [
    "<a id='Объединение-данных'></a>\n",
    "## Объединение данных"
   ]
  },
  {
   "cell_type": "markdown",
   "id": "7cdc7605",
   "metadata": {},
   "source": [
    "<a id='Соединение-таблиц'></a>\n",
    "Объединим данные о пользователях, поездках и подписках в один датафрейм:"
   ]
  },
  {
   "cell_type": "code",
   "execution_count": 27,
   "id": "82901c4d",
   "metadata": {},
   "outputs": [
    {
     "name": "stdout",
     "output_type": "stream",
     "text": [
      "Количество строк в \"Пользователи\": 1534\n",
      "Количество строк в \"Поездки\": 18068\n",
      "Количество строк в \"Подписки\": 2\n"
     ]
    }
   ],
   "source": [
    "#выделим изначальное количество строк для последующей проверки\n",
    "print('Количество строк в \"Пользователи\":', len(data_users['user_id']))\n",
    "print('Количество строк в \"Поездки\":', len(data_rides['user_id']))\n",
    "print('Количество строк в \"Подписки\":', len(data_subs['subscription_type']))"
   ]
  },
  {
   "cell_type": "code",
   "execution_count": 28,
   "id": "e0f53bf2",
   "metadata": {
    "scrolled": true
   },
   "outputs": [
    {
     "name": "stdout",
     "output_type": "stream",
     "text": [
      "Количество строк в общем датафрейме: 18068\n"
     ]
    },
    {
     "data": {
      "text/html": [
       "<div>\n",
       "<style scoped>\n",
       "    .dataframe tbody tr th:only-of-type {\n",
       "        vertical-align: middle;\n",
       "    }\n",
       "\n",
       "    .dataframe tbody tr th {\n",
       "        vertical-align: top;\n",
       "    }\n",
       "\n",
       "    .dataframe thead th {\n",
       "        text-align: right;\n",
       "    }\n",
       "</style>\n",
       "<table border=\"1\" class=\"dataframe\">\n",
       "  <thead>\n",
       "    <tr style=\"text-align: right;\">\n",
       "      <th></th>\n",
       "      <th>user_id</th>\n",
       "      <th>name</th>\n",
       "      <th>age</th>\n",
       "      <th>city</th>\n",
       "      <th>subscription_type</th>\n",
       "      <th>distance</th>\n",
       "      <th>duration</th>\n",
       "      <th>date</th>\n",
       "      <th>month</th>\n",
       "    </tr>\n",
       "  </thead>\n",
       "  <tbody>\n",
       "    <tr>\n",
       "      <th>0</th>\n",
       "      <td>1</td>\n",
       "      <td>Кира</td>\n",
       "      <td>22</td>\n",
       "      <td>Тюмень</td>\n",
       "      <td>ultra</td>\n",
       "      <td>4409.919140</td>\n",
       "      <td>25.599769</td>\n",
       "      <td>2021-01-01</td>\n",
       "      <td>1</td>\n",
       "    </tr>\n",
       "    <tr>\n",
       "      <th>1</th>\n",
       "      <td>1</td>\n",
       "      <td>Кира</td>\n",
       "      <td>22</td>\n",
       "      <td>Тюмень</td>\n",
       "      <td>ultra</td>\n",
       "      <td>2617.592153</td>\n",
       "      <td>15.816871</td>\n",
       "      <td>2021-01-18</td>\n",
       "      <td>1</td>\n",
       "    </tr>\n",
       "    <tr>\n",
       "      <th>2</th>\n",
       "      <td>1</td>\n",
       "      <td>Кира</td>\n",
       "      <td>22</td>\n",
       "      <td>Тюмень</td>\n",
       "      <td>ultra</td>\n",
       "      <td>754.159807</td>\n",
       "      <td>6.232113</td>\n",
       "      <td>2021-04-20</td>\n",
       "      <td>4</td>\n",
       "    </tr>\n",
       "  </tbody>\n",
       "</table>\n",
       "</div>"
      ],
      "text/plain": [
       "   user_id  name  age    city subscription_type     distance   duration  \\\n",
       "0        1  Кира   22  Тюмень             ultra  4409.919140  25.599769   \n",
       "1        1  Кира   22  Тюмень             ultra  2617.592153  15.816871   \n",
       "2        1  Кира   22  Тюмень             ultra   754.159807   6.232113   \n",
       "\n",
       "        date  month  \n",
       "0 2021-01-01      1  \n",
       "1 2021-01-18      1  \n",
       "2 2021-04-20      4  "
      ]
     },
     "execution_count": 28,
     "metadata": {},
     "output_type": "execute_result"
    }
   ],
   "source": [
    "data_total = pd.merge(data_users, data_rides, on='user_id')\n",
    "#проверяем, как прошло слияние\n",
    "print('Количество строк в общем датафрейме:', len(data_total['user_id']))\n",
    "data_total.head(3)"
   ]
  },
  {
   "cell_type": "code",
   "execution_count": 29,
   "id": "c6eaf020",
   "metadata": {},
   "outputs": [
    {
     "name": "stdout",
     "output_type": "stream",
     "text": [
      "Количество строк в общем датафрейме: 18068\n"
     ]
    },
    {
     "data": {
      "text/html": [
       "<div>\n",
       "<style scoped>\n",
       "    .dataframe tbody tr th:only-of-type {\n",
       "        vertical-align: middle;\n",
       "    }\n",
       "\n",
       "    .dataframe tbody tr th {\n",
       "        vertical-align: top;\n",
       "    }\n",
       "\n",
       "    .dataframe thead th {\n",
       "        text-align: right;\n",
       "    }\n",
       "</style>\n",
       "<table border=\"1\" class=\"dataframe\">\n",
       "  <thead>\n",
       "    <tr style=\"text-align: right;\">\n",
       "      <th></th>\n",
       "      <th>user_id</th>\n",
       "      <th>name</th>\n",
       "      <th>age</th>\n",
       "      <th>city</th>\n",
       "      <th>subscription_type</th>\n",
       "      <th>distance</th>\n",
       "      <th>duration</th>\n",
       "      <th>date</th>\n",
       "      <th>month</th>\n",
       "      <th>minute_price</th>\n",
       "      <th>start_ride_price</th>\n",
       "      <th>subscription_fee</th>\n",
       "    </tr>\n",
       "  </thead>\n",
       "  <tbody>\n",
       "    <tr>\n",
       "      <th>0</th>\n",
       "      <td>1</td>\n",
       "      <td>Кира</td>\n",
       "      <td>22</td>\n",
       "      <td>Тюмень</td>\n",
       "      <td>ultra</td>\n",
       "      <td>4409.919140</td>\n",
       "      <td>25.599769</td>\n",
       "      <td>2021-01-01</td>\n",
       "      <td>1</td>\n",
       "      <td>6</td>\n",
       "      <td>0</td>\n",
       "      <td>199</td>\n",
       "    </tr>\n",
       "    <tr>\n",
       "      <th>1</th>\n",
       "      <td>1</td>\n",
       "      <td>Кира</td>\n",
       "      <td>22</td>\n",
       "      <td>Тюмень</td>\n",
       "      <td>ultra</td>\n",
       "      <td>2617.592153</td>\n",
       "      <td>15.816871</td>\n",
       "      <td>2021-01-18</td>\n",
       "      <td>1</td>\n",
       "      <td>6</td>\n",
       "      <td>0</td>\n",
       "      <td>199</td>\n",
       "    </tr>\n",
       "    <tr>\n",
       "      <th>2</th>\n",
       "      <td>1</td>\n",
       "      <td>Кира</td>\n",
       "      <td>22</td>\n",
       "      <td>Тюмень</td>\n",
       "      <td>ultra</td>\n",
       "      <td>754.159807</td>\n",
       "      <td>6.232113</td>\n",
       "      <td>2021-04-20</td>\n",
       "      <td>4</td>\n",
       "      <td>6</td>\n",
       "      <td>0</td>\n",
       "      <td>199</td>\n",
       "    </tr>\n",
       "  </tbody>\n",
       "</table>\n",
       "</div>"
      ],
      "text/plain": [
       "   user_id  name  age    city subscription_type     distance   duration  \\\n",
       "0        1  Кира   22  Тюмень             ultra  4409.919140  25.599769   \n",
       "1        1  Кира   22  Тюмень             ultra  2617.592153  15.816871   \n",
       "2        1  Кира   22  Тюмень             ultra   754.159807   6.232113   \n",
       "\n",
       "        date  month  minute_price  start_ride_price  subscription_fee  \n",
       "0 2021-01-01      1             6                 0               199  \n",
       "1 2021-01-18      1             6                 0               199  \n",
       "2 2021-04-20      4             6                 0               199  "
      ]
     },
     "execution_count": 29,
     "metadata": {},
     "output_type": "execute_result"
    }
   ],
   "source": [
    "data_total = data_total.merge(data_subs, on='subscription_type')\n",
    "print('Количество строк в общем датафрейме:', len(data_total['user_id']))\n",
    "data_total.head(3)"
   ]
  },
  {
   "cell_type": "markdown",
   "id": "de066b2f",
   "metadata": {},
   "source": [
    "Теперь у нас есть общий датафрейм *data_total*, создадим на его основе 2 датафрейма: пользователи с подпиской и без нее:"
   ]
  },
  {
   "cell_type": "code",
   "execution_count": 30,
   "id": "b68ee832",
   "metadata": {},
   "outputs": [
    {
     "data": {
      "text/html": [
       "<div>\n",
       "<style scoped>\n",
       "    .dataframe tbody tr th:only-of-type {\n",
       "        vertical-align: middle;\n",
       "    }\n",
       "\n",
       "    .dataframe tbody tr th {\n",
       "        vertical-align: top;\n",
       "    }\n",
       "\n",
       "    .dataframe thead th {\n",
       "        text-align: right;\n",
       "    }\n",
       "</style>\n",
       "<table border=\"1\" class=\"dataframe\">\n",
       "  <thead>\n",
       "    <tr style=\"text-align: right;\">\n",
       "      <th></th>\n",
       "      <th>user_id</th>\n",
       "      <th>name</th>\n",
       "      <th>age</th>\n",
       "      <th>city</th>\n",
       "      <th>subscription_type</th>\n",
       "      <th>distance</th>\n",
       "      <th>duration</th>\n",
       "      <th>date</th>\n",
       "      <th>month</th>\n",
       "      <th>minute_price</th>\n",
       "      <th>start_ride_price</th>\n",
       "      <th>subscription_fee</th>\n",
       "    </tr>\n",
       "  </thead>\n",
       "  <tbody>\n",
       "    <tr>\n",
       "      <th>4465</th>\n",
       "      <td>481</td>\n",
       "      <td>Наташа</td>\n",
       "      <td>24</td>\n",
       "      <td>Тюмень</td>\n",
       "      <td>ultra</td>\n",
       "      <td>3586.006072</td>\n",
       "      <td>27.560033</td>\n",
       "      <td>2021-07-15</td>\n",
       "      <td>7</td>\n",
       "      <td>6</td>\n",
       "      <td>0</td>\n",
       "      <td>199</td>\n",
       "    </tr>\n",
       "    <tr>\n",
       "      <th>4527</th>\n",
       "      <td>488</td>\n",
       "      <td>Владимир</td>\n",
       "      <td>31</td>\n",
       "      <td>Пятигорск</td>\n",
       "      <td>ultra</td>\n",
       "      <td>2922.605790</td>\n",
       "      <td>14.315079</td>\n",
       "      <td>2021-04-24</td>\n",
       "      <td>4</td>\n",
       "      <td>6</td>\n",
       "      <td>0</td>\n",
       "      <td>199</td>\n",
       "    </tr>\n",
       "    <tr>\n",
       "      <th>6088</th>\n",
       "      <td>653</td>\n",
       "      <td>Вадим</td>\n",
       "      <td>28</td>\n",
       "      <td>Пятигорск</td>\n",
       "      <td>ultra</td>\n",
       "      <td>2785.071244</td>\n",
       "      <td>20.355214</td>\n",
       "      <td>2021-01-12</td>\n",
       "      <td>1</td>\n",
       "      <td>6</td>\n",
       "      <td>0</td>\n",
       "      <td>199</td>\n",
       "    </tr>\n",
       "    <tr>\n",
       "      <th>3537</th>\n",
       "      <td>380</td>\n",
       "      <td>Валерий</td>\n",
       "      <td>33</td>\n",
       "      <td>Сочи</td>\n",
       "      <td>ultra</td>\n",
       "      <td>3353.354068</td>\n",
       "      <td>20.738509</td>\n",
       "      <td>2021-04-17</td>\n",
       "      <td>4</td>\n",
       "      <td>6</td>\n",
       "      <td>0</td>\n",
       "      <td>199</td>\n",
       "    </tr>\n",
       "    <tr>\n",
       "      <th>3524</th>\n",
       "      <td>379</td>\n",
       "      <td>Айдар</td>\n",
       "      <td>27</td>\n",
       "      <td>Ростов-на-Дону</td>\n",
       "      <td>ultra</td>\n",
       "      <td>3667.984433</td>\n",
       "      <td>13.169961</td>\n",
       "      <td>2021-03-11</td>\n",
       "      <td>3</td>\n",
       "      <td>6</td>\n",
       "      <td>0</td>\n",
       "      <td>199</td>\n",
       "    </tr>\n",
       "    <tr>\n",
       "      <th>868</th>\n",
       "      <td>93</td>\n",
       "      <td>Вадим</td>\n",
       "      <td>25</td>\n",
       "      <td>Пятигорск</td>\n",
       "      <td>ultra</td>\n",
       "      <td>4868.553325</td>\n",
       "      <td>25.605660</td>\n",
       "      <td>2021-06-24</td>\n",
       "      <td>6</td>\n",
       "      <td>6</td>\n",
       "      <td>0</td>\n",
       "      <td>199</td>\n",
       "    </tr>\n",
       "    <tr>\n",
       "      <th>2559</th>\n",
       "      <td>271</td>\n",
       "      <td>Эмилия</td>\n",
       "      <td>22</td>\n",
       "      <td>Пятигорск</td>\n",
       "      <td>ultra</td>\n",
       "      <td>3382.370811</td>\n",
       "      <td>18.683891</td>\n",
       "      <td>2021-02-21</td>\n",
       "      <td>2</td>\n",
       "      <td>6</td>\n",
       "      <td>0</td>\n",
       "      <td>199</td>\n",
       "    </tr>\n",
       "    <tr>\n",
       "      <th>2826</th>\n",
       "      <td>302</td>\n",
       "      <td>Наталия</td>\n",
       "      <td>27</td>\n",
       "      <td>Ростов-на-Дону</td>\n",
       "      <td>ultra</td>\n",
       "      <td>1004.882613</td>\n",
       "      <td>13.546645</td>\n",
       "      <td>2021-07-21</td>\n",
       "      <td>7</td>\n",
       "      <td>6</td>\n",
       "      <td>0</td>\n",
       "      <td>199</td>\n",
       "    </tr>\n",
       "    <tr>\n",
       "      <th>4083</th>\n",
       "      <td>440</td>\n",
       "      <td>Амалия</td>\n",
       "      <td>20</td>\n",
       "      <td>Тюмень</td>\n",
       "      <td>ultra</td>\n",
       "      <td>2875.313112</td>\n",
       "      <td>22.584377</td>\n",
       "      <td>2021-01-02</td>\n",
       "      <td>1</td>\n",
       "      <td>6</td>\n",
       "      <td>0</td>\n",
       "      <td>199</td>\n",
       "    </tr>\n",
       "    <tr>\n",
       "      <th>4244</th>\n",
       "      <td>458</td>\n",
       "      <td>Самир</td>\n",
       "      <td>21</td>\n",
       "      <td>Екатеринбург</td>\n",
       "      <td>ultra</td>\n",
       "      <td>3021.328791</td>\n",
       "      <td>14.474276</td>\n",
       "      <td>2021-03-16</td>\n",
       "      <td>3</td>\n",
       "      <td>6</td>\n",
       "      <td>0</td>\n",
       "      <td>199</td>\n",
       "    </tr>\n",
       "  </tbody>\n",
       "</table>\n",
       "</div>"
      ],
      "text/plain": [
       "      user_id      name  age            city subscription_type     distance  \\\n",
       "4465      481    Наташа   24          Тюмень             ultra  3586.006072   \n",
       "4527      488  Владимир   31       Пятигорск             ultra  2922.605790   \n",
       "6088      653     Вадим   28       Пятигорск             ultra  2785.071244   \n",
       "3537      380   Валерий   33            Сочи             ultra  3353.354068   \n",
       "3524      379     Айдар   27  Ростов-на-Дону             ultra  3667.984433   \n",
       "868        93     Вадим   25       Пятигорск             ultra  4868.553325   \n",
       "2559      271    Эмилия   22       Пятигорск             ultra  3382.370811   \n",
       "2826      302   Наталия   27  Ростов-на-Дону             ultra  1004.882613   \n",
       "4083      440    Амалия   20          Тюмень             ultra  2875.313112   \n",
       "4244      458     Самир   21    Екатеринбург             ultra  3021.328791   \n",
       "\n",
       "       duration       date  month  minute_price  start_ride_price  \\\n",
       "4465  27.560033 2021-07-15      7             6                 0   \n",
       "4527  14.315079 2021-04-24      4             6                 0   \n",
       "6088  20.355214 2021-01-12      1             6                 0   \n",
       "3537  20.738509 2021-04-17      4             6                 0   \n",
       "3524  13.169961 2021-03-11      3             6                 0   \n",
       "868   25.605660 2021-06-24      6             6                 0   \n",
       "2559  18.683891 2021-02-21      2             6                 0   \n",
       "2826  13.546645 2021-07-21      7             6                 0   \n",
       "4083  22.584377 2021-01-02      1             6                 0   \n",
       "4244  14.474276 2021-03-16      3             6                 0   \n",
       "\n",
       "      subscription_fee  \n",
       "4465               199  \n",
       "4527               199  \n",
       "6088               199  \n",
       "3537               199  \n",
       "3524               199  \n",
       "868                199  \n",
       "2559               199  \n",
       "2826               199  \n",
       "4083               199  \n",
       "4244               199  "
      ]
     },
     "execution_count": 30,
     "metadata": {},
     "output_type": "execute_result"
    }
   ],
   "source": [
    "data_total_ultra = data_total[data_total['subscription_type']=='ultra']\n",
    "data_total_ultra.sample(10)"
   ]
  },
  {
   "cell_type": "code",
   "execution_count": 31,
   "id": "eabde687",
   "metadata": {},
   "outputs": [
    {
     "data": {
      "text/html": [
       "<div>\n",
       "<style scoped>\n",
       "    .dataframe tbody tr th:only-of-type {\n",
       "        vertical-align: middle;\n",
       "    }\n",
       "\n",
       "    .dataframe tbody tr th {\n",
       "        vertical-align: top;\n",
       "    }\n",
       "\n",
       "    .dataframe thead th {\n",
       "        text-align: right;\n",
       "    }\n",
       "</style>\n",
       "<table border=\"1\" class=\"dataframe\">\n",
       "  <thead>\n",
       "    <tr style=\"text-align: right;\">\n",
       "      <th></th>\n",
       "      <th>user_id</th>\n",
       "      <th>name</th>\n",
       "      <th>age</th>\n",
       "      <th>city</th>\n",
       "      <th>subscription_type</th>\n",
       "      <th>distance</th>\n",
       "      <th>duration</th>\n",
       "      <th>date</th>\n",
       "      <th>month</th>\n",
       "      <th>minute_price</th>\n",
       "      <th>start_ride_price</th>\n",
       "      <th>subscription_fee</th>\n",
       "    </tr>\n",
       "  </thead>\n",
       "  <tbody>\n",
       "    <tr>\n",
       "      <th>18065</th>\n",
       "      <td>1534</td>\n",
       "      <td>Альберт</td>\n",
       "      <td>25</td>\n",
       "      <td>Краснодар</td>\n",
       "      <td>free</td>\n",
       "      <td>3826.185507</td>\n",
       "      <td>18.435051</td>\n",
       "      <td>2021-11-18</td>\n",
       "      <td>11</td>\n",
       "      <td>8</td>\n",
       "      <td>50</td>\n",
       "      <td>0</td>\n",
       "    </tr>\n",
       "    <tr>\n",
       "      <th>17808</th>\n",
       "      <td>1517</td>\n",
       "      <td>Давид</td>\n",
       "      <td>25</td>\n",
       "      <td>Тюмень</td>\n",
       "      <td>free</td>\n",
       "      <td>180.812768</td>\n",
       "      <td>11.493126</td>\n",
       "      <td>2021-01-10</td>\n",
       "      <td>1</td>\n",
       "      <td>8</td>\n",
       "      <td>50</td>\n",
       "      <td>0</td>\n",
       "    </tr>\n",
       "    <tr>\n",
       "      <th>16098</th>\n",
       "      <td>1396</td>\n",
       "      <td>Георгий</td>\n",
       "      <td>24</td>\n",
       "      <td>Краснодар</td>\n",
       "      <td>free</td>\n",
       "      <td>4968.694281</td>\n",
       "      <td>23.647202</td>\n",
       "      <td>2021-05-10</td>\n",
       "      <td>5</td>\n",
       "      <td>8</td>\n",
       "      <td>50</td>\n",
       "      <td>0</td>\n",
       "    </tr>\n",
       "    <tr>\n",
       "      <th>7126</th>\n",
       "      <td>743</td>\n",
       "      <td>Арсен</td>\n",
       "      <td>18</td>\n",
       "      <td>Тюмень</td>\n",
       "      <td>free</td>\n",
       "      <td>2767.321806</td>\n",
       "      <td>11.929975</td>\n",
       "      <td>2021-03-12</td>\n",
       "      <td>3</td>\n",
       "      <td>8</td>\n",
       "      <td>50</td>\n",
       "      <td>0</td>\n",
       "    </tr>\n",
       "    <tr>\n",
       "      <th>16366</th>\n",
       "      <td>1414</td>\n",
       "      <td>Лариса</td>\n",
       "      <td>25</td>\n",
       "      <td>Краснодар</td>\n",
       "      <td>free</td>\n",
       "      <td>1167.769243</td>\n",
       "      <td>14.336484</td>\n",
       "      <td>2021-08-21</td>\n",
       "      <td>8</td>\n",
       "      <td>8</td>\n",
       "      <td>50</td>\n",
       "      <td>0</td>\n",
       "    </tr>\n",
       "    <tr>\n",
       "      <th>9958</th>\n",
       "      <td>955</td>\n",
       "      <td>Амир</td>\n",
       "      <td>18</td>\n",
       "      <td>Сочи</td>\n",
       "      <td>free</td>\n",
       "      <td>380.419209</td>\n",
       "      <td>16.075014</td>\n",
       "      <td>2021-01-01</td>\n",
       "      <td>1</td>\n",
       "      <td>8</td>\n",
       "      <td>50</td>\n",
       "      <td>0</td>\n",
       "    </tr>\n",
       "    <tr>\n",
       "      <th>10667</th>\n",
       "      <td>1004</td>\n",
       "      <td>Амина</td>\n",
       "      <td>21</td>\n",
       "      <td>Сочи</td>\n",
       "      <td>free</td>\n",
       "      <td>2958.869600</td>\n",
       "      <td>23.095761</td>\n",
       "      <td>2021-08-23</td>\n",
       "      <td>8</td>\n",
       "      <td>8</td>\n",
       "      <td>50</td>\n",
       "      <td>0</td>\n",
       "    </tr>\n",
       "    <tr>\n",
       "      <th>15597</th>\n",
       "      <td>1362</td>\n",
       "      <td>Владимир</td>\n",
       "      <td>24</td>\n",
       "      <td>Екатеринбург</td>\n",
       "      <td>free</td>\n",
       "      <td>886.720795</td>\n",
       "      <td>15.660162</td>\n",
       "      <td>2021-01-14</td>\n",
       "      <td>1</td>\n",
       "      <td>8</td>\n",
       "      <td>50</td>\n",
       "      <td>0</td>\n",
       "    </tr>\n",
       "    <tr>\n",
       "      <th>7584</th>\n",
       "      <td>778</td>\n",
       "      <td>Эдуард</td>\n",
       "      <td>22</td>\n",
       "      <td>Ростов-на-Дону</td>\n",
       "      <td>free</td>\n",
       "      <td>4090.365647</td>\n",
       "      <td>25.451828</td>\n",
       "      <td>2021-11-06</td>\n",
       "      <td>11</td>\n",
       "      <td>8</td>\n",
       "      <td>50</td>\n",
       "      <td>0</td>\n",
       "    </tr>\n",
       "    <tr>\n",
       "      <th>10979</th>\n",
       "      <td>1026</td>\n",
       "      <td>Савелий</td>\n",
       "      <td>26</td>\n",
       "      <td>Тюмень</td>\n",
       "      <td>free</td>\n",
       "      <td>2344.036818</td>\n",
       "      <td>19.022936</td>\n",
       "      <td>2021-07-12</td>\n",
       "      <td>7</td>\n",
       "      <td>8</td>\n",
       "      <td>50</td>\n",
       "      <td>0</td>\n",
       "    </tr>\n",
       "  </tbody>\n",
       "</table>\n",
       "</div>"
      ],
      "text/plain": [
       "       user_id      name  age            city subscription_type     distance  \\\n",
       "18065     1534   Альберт   25       Краснодар              free  3826.185507   \n",
       "17808     1517     Давид   25          Тюмень              free   180.812768   \n",
       "16098     1396   Георгий   24       Краснодар              free  4968.694281   \n",
       "7126       743     Арсен   18          Тюмень              free  2767.321806   \n",
       "16366     1414    Лариса   25       Краснодар              free  1167.769243   \n",
       "9958       955      Амир   18            Сочи              free   380.419209   \n",
       "10667     1004     Амина   21            Сочи              free  2958.869600   \n",
       "15597     1362  Владимир   24    Екатеринбург              free   886.720795   \n",
       "7584       778    Эдуард   22  Ростов-на-Дону              free  4090.365647   \n",
       "10979     1026   Савелий   26          Тюмень              free  2344.036818   \n",
       "\n",
       "        duration       date  month  minute_price  start_ride_price  \\\n",
       "18065  18.435051 2021-11-18     11             8                50   \n",
       "17808  11.493126 2021-01-10      1             8                50   \n",
       "16098  23.647202 2021-05-10      5             8                50   \n",
       "7126   11.929975 2021-03-12      3             8                50   \n",
       "16366  14.336484 2021-08-21      8             8                50   \n",
       "9958   16.075014 2021-01-01      1             8                50   \n",
       "10667  23.095761 2021-08-23      8             8                50   \n",
       "15597  15.660162 2021-01-14      1             8                50   \n",
       "7584   25.451828 2021-11-06     11             8                50   \n",
       "10979  19.022936 2021-07-12      7             8                50   \n",
       "\n",
       "       subscription_fee  \n",
       "18065                 0  \n",
       "17808                 0  \n",
       "16098                 0  \n",
       "7126                  0  \n",
       "16366                 0  \n",
       "9958                  0  \n",
       "10667                 0  \n",
       "15597                 0  \n",
       "7584                  0  \n",
       "10979                 0  "
      ]
     },
     "execution_count": 31,
     "metadata": {},
     "output_type": "execute_result"
    }
   ],
   "source": [
    "data_total_free = data_total[data_total['subscription_type']=='free']\n",
    "data_total_free.sample(10)"
   ]
  },
  {
   "cell_type": "markdown",
   "id": "981d89a2",
   "metadata": {},
   "source": [
    "<a id='Сравнение'></a>\n",
    "Сравним расстояние и время поездок для обеих категорий пользователей:"
   ]
  },
  {
   "cell_type": "code",
   "execution_count": 32,
   "id": "917e1943",
   "metadata": {},
   "outputs": [
    {
     "data": {
      "image/png": "[encoded data removed]",
      "text/plain": [
       "<Figure size 432x288 with 1 Axes>"
      ]
     },
     "metadata": {
      "needs_background": "light"
     },
     "output_type": "display_data"
    }
   ],
   "source": [
    "#построим объединенную гистограмму по расстоянию поездок\n",
    "ax = data_total_free['distance'].hist(bins=50, grid=True, label='free', alpha=0.8)\n",
    "ax = data_total_ultra['distance'].hist(bins=50, grid=True, label='ultra', alpha=0.6)\n",
    "ax.legend(loc='upper right')\n",
    "plt.title('Распределение поездок по расстоянию у пользователей с подпиской и без')\n",
    "plt.xlabel('Расстояние')\n",
    "plt.ylabel('Количество поездок')\n",
    "plt.show()"
   ]
  },
  {
   "cell_type": "markdown",
   "id": "b9d78ae3",
   "metadata": {},
   "source": [
    "Согласно гистограмме расстояния поездок обе категории пользователей имеют примерно равное распределение значений. Отметим: меньшее количество поездок у пользователей с подпиской (таких пользователей меньше на 10%), 2 пика распределения поездок пользователей с подпиской (аналогично free) имеют положительное среднее отклонение по расстоянию в, примерно, 300 метров. Также расстояние близ нуля наблюдается только у пользователей без подписки."
   ]
  },
  {
   "cell_type": "code",
   "execution_count": 33,
   "id": "49f43110",
   "metadata": {},
   "outputs": [
    {
     "data": {
      "image/png": "[encoded data removed]",
      "text/plain": [
       "<Figure size 432x288 with 1 Axes>"
      ]
     },
     "metadata": {
      "needs_background": "light"
     },
     "output_type": "display_data"
    }
   ],
   "source": [
    "#построим объединенную гистограмму по времени\n",
    "ax = data_total_free['duration'].hist(bins=50, grid=True, label='free', alpha=0.8)\n",
    "ax = data_total_ultra['duration'].hist(bins=50, grid=True, label='ultra', alpha=0.6)\n",
    "ax.legend(loc='upper right')\n",
    "plt.title('Распределение поездок по длительности у пользователей с подпиской и без')\n",
    "plt.xlabel('Длительность')\n",
    "plt.ylabel('Количество поездок')\n",
    "plt.show()"
   ]
  },
  {
   "cell_type": "markdown",
   "id": "76f5dcf3",
   "metadata": {},
   "source": [
    "По гистограмме сравнительного распределения времени на поездки видим, что 2 категории равны, за исключением количества и длительности возле нуля у пользователей без подписки, что согласуется, соответственно, и с расстоянием поездок. "
   ]
  },
  {
   "cell_type": "markdown",
   "id": "8ff7daf5",
   "metadata": {},
   "source": [
    "**Вывод:**\n",
    "\n",
    "Мы провели объединение данных 3 датасетов:\n",
    "\n",
    "* Соединили \"Пользователей\", \"Поездки\" и \"Подписки\" без потери строк;\n",
    "* Сравнили расстояние и длительность поездок пользователей с подписками и без: распределения примерно одинаковые, у пользователей без подписок наблюдаются поездки длительностью около 1 минуты и с расстоянием около 1 метра, что, возможно, связано с ошибочной арендой/попыткой протестировать работу сервиса.\n",
    "\n",
    "\n",
    "[Вернуться к содержанию](#Содержание)"
   ]
  },
  {
   "cell_type": "markdown",
   "id": "157ae305",
   "metadata": {},
   "source": [
    "<a id='Подсчет-выручки'></a>\n",
    "## Подсчёт выручки"
   ]
  },
  {
   "cell_type": "markdown",
   "id": "0cc07016",
   "metadata": {},
   "source": [
    "Посчитаем помесячную выручку сервиса с каждого пользователя.\n",
    "\n",
    "Для этого создадим новый агрегированный датафрейм на основе общего:"
   ]
  },
  {
   "cell_type": "code",
   "execution_count": 34,
   "id": "e3c5a818",
   "metadata": {},
   "outputs": [
    {
     "data": {
      "text/html": [
       "<div>\n",
       "<style scoped>\n",
       "    .dataframe tbody tr th:only-of-type {\n",
       "        vertical-align: middle;\n",
       "    }\n",
       "\n",
       "    .dataframe tbody tr th {\n",
       "        vertical-align: top;\n",
       "    }\n",
       "\n",
       "    .dataframe thead th {\n",
       "        text-align: right;\n",
       "    }\n",
       "</style>\n",
       "<table border=\"1\" class=\"dataframe\">\n",
       "  <thead>\n",
       "    <tr style=\"text-align: right;\">\n",
       "      <th></th>\n",
       "      <th></th>\n",
       "      <th>count_rides</th>\n",
       "      <th>sum_distance</th>\n",
       "      <th>sum_duration</th>\n",
       "    </tr>\n",
       "    <tr>\n",
       "      <th>user_id</th>\n",
       "      <th>month</th>\n",
       "      <th></th>\n",
       "      <th></th>\n",
       "      <th></th>\n",
       "    </tr>\n",
       "  </thead>\n",
       "  <tbody>\n",
       "    <tr>\n",
       "      <th rowspan=\"6\" valign=\"top\">1</th>\n",
       "      <th>1</th>\n",
       "      <td>2</td>\n",
       "      <td>7027.511294</td>\n",
       "      <td>42.0</td>\n",
       "    </tr>\n",
       "    <tr>\n",
       "      <th>4</th>\n",
       "      <td>1</td>\n",
       "      <td>754.159807</td>\n",
       "      <td>7.0</td>\n",
       "    </tr>\n",
       "    <tr>\n",
       "      <th>8</th>\n",
       "      <td>2</td>\n",
       "      <td>6723.470560</td>\n",
       "      <td>46.0</td>\n",
       "    </tr>\n",
       "    <tr>\n",
       "      <th>10</th>\n",
       "      <td>2</td>\n",
       "      <td>5809.911100</td>\n",
       "      <td>32.0</td>\n",
       "    </tr>\n",
       "    <tr>\n",
       "      <th>11</th>\n",
       "      <td>3</td>\n",
       "      <td>7003.499363</td>\n",
       "      <td>56.0</td>\n",
       "    </tr>\n",
       "    <tr>\n",
       "      <th>12</th>\n",
       "      <td>2</td>\n",
       "      <td>6751.629942</td>\n",
       "      <td>28.0</td>\n",
       "    </tr>\n",
       "    <tr>\n",
       "      <th rowspan=\"4\" valign=\"top\">2</th>\n",
       "      <th>3</th>\n",
       "      <td>3</td>\n",
       "      <td>10187.723006</td>\n",
       "      <td>63.0</td>\n",
       "    </tr>\n",
       "    <tr>\n",
       "      <th>4</th>\n",
       "      <td>2</td>\n",
       "      <td>6164.381824</td>\n",
       "      <td>40.0</td>\n",
       "    </tr>\n",
       "    <tr>\n",
       "      <th>6</th>\n",
       "      <td>1</td>\n",
       "      <td>3255.338202</td>\n",
       "      <td>14.0</td>\n",
       "    </tr>\n",
       "    <tr>\n",
       "      <th>7</th>\n",
       "      <td>2</td>\n",
       "      <td>6780.722964</td>\n",
       "      <td>48.0</td>\n",
       "    </tr>\n",
       "  </tbody>\n",
       "</table>\n",
       "</div>"
      ],
      "text/plain": [
       "               count_rides  sum_distance  sum_duration\n",
       "user_id month                                         \n",
       "1       1                2   7027.511294          42.0\n",
       "        4                1    754.159807           7.0\n",
       "        8                2   6723.470560          46.0\n",
       "        10               2   5809.911100          32.0\n",
       "        11               3   7003.499363          56.0\n",
       "        12               2   6751.629942          28.0\n",
       "2       3                3  10187.723006          63.0\n",
       "        4                2   6164.381824          40.0\n",
       "        6                1   3255.338202          14.0\n",
       "        7                2   6780.722964          48.0"
      ]
     },
     "execution_count": 34,
     "metadata": {},
     "output_type": "execute_result"
    }
   ],
   "source": [
    "#сначала округлим значения продолжительности для корректности рассчетов\n",
    "data_total['duration'] = np.ceil(data_total['duration'])\n",
    "#создаем сводную таблицу - новый дф\n",
    "data_total_agg = data_total.pivot_table(index=['user_id', 'month'], values =['distance', 'duration'], aggfunc=['count', 'sum'])\n",
    "#избавляемся от мультииндексации \n",
    "data_total_agg.columns = ['count_rides', 'count_duration', 'sum_distance', 'sum_duration']\n",
    "#удаляем лишний столбец\n",
    "data_total_agg = data_total_agg.drop(columns='count_duration')\n",
    "data_total_agg.head(10)"
   ]
  },
  {
   "cell_type": "markdown",
   "id": "7105fb52",
   "metadata": {},
   "source": [
    "Описание таблицы:\n",
    "\n",
    " * *user_id* — уникальный идентификатор пользователя\n",
    " * *month* — месяц, за который идет посчет значений\n",
    " * *count_rides* — количество поездок\n",
    " * *sum_distance* — общее расстояние поездок в метрах\n",
    " * *sum_duration* — общая продолжительность поездок в минутах"
   ]
  },
  {
   "cell_type": "markdown",
   "id": "c57fc73e",
   "metadata": {},
   "source": [
    "Добавим к новой таблице столбец с помесячной выручкой от каждого пользователя, для этого также добавим столбцы с данными о подписке и ценовых условиях:"
   ]
  },
  {
   "cell_type": "code",
   "execution_count": 35,
   "id": "79228c84",
   "metadata": {},
   "outputs": [
    {
     "data": {
      "text/html": [
       "<div>\n",
       "<style scoped>\n",
       "    .dataframe tbody tr th:only-of-type {\n",
       "        vertical-align: middle;\n",
       "    }\n",
       "\n",
       "    .dataframe tbody tr th {\n",
       "        vertical-align: top;\n",
       "    }\n",
       "\n",
       "    .dataframe thead th {\n",
       "        text-align: right;\n",
       "    }\n",
       "</style>\n",
       "<table border=\"1\" class=\"dataframe\">\n",
       "  <thead>\n",
       "    <tr style=\"text-align: right;\">\n",
       "      <th></th>\n",
       "      <th>user_id</th>\n",
       "      <th>month</th>\n",
       "      <th>count_rides</th>\n",
       "      <th>sum_distance</th>\n",
       "      <th>sum_duration</th>\n",
       "      <th>name</th>\n",
       "      <th>age</th>\n",
       "      <th>city</th>\n",
       "      <th>subscription_type</th>\n",
       "      <th>minute_price</th>\n",
       "      <th>start_ride_price</th>\n",
       "      <th>subscription_fee</th>\n",
       "    </tr>\n",
       "  </thead>\n",
       "  <tbody>\n",
       "    <tr>\n",
       "      <th>0</th>\n",
       "      <td>1</td>\n",
       "      <td>1</td>\n",
       "      <td>2</td>\n",
       "      <td>7027.511294</td>\n",
       "      <td>42.0</td>\n",
       "      <td>Кира</td>\n",
       "      <td>22</td>\n",
       "      <td>Тюмень</td>\n",
       "      <td>ultra</td>\n",
       "      <td>6</td>\n",
       "      <td>0</td>\n",
       "      <td>199</td>\n",
       "    </tr>\n",
       "    <tr>\n",
       "      <th>1</th>\n",
       "      <td>1</td>\n",
       "      <td>4</td>\n",
       "      <td>1</td>\n",
       "      <td>754.159807</td>\n",
       "      <td>7.0</td>\n",
       "      <td>Кира</td>\n",
       "      <td>22</td>\n",
       "      <td>Тюмень</td>\n",
       "      <td>ultra</td>\n",
       "      <td>6</td>\n",
       "      <td>0</td>\n",
       "      <td>199</td>\n",
       "    </tr>\n",
       "    <tr>\n",
       "      <th>2</th>\n",
       "      <td>1</td>\n",
       "      <td>8</td>\n",
       "      <td>2</td>\n",
       "      <td>6723.470560</td>\n",
       "      <td>46.0</td>\n",
       "      <td>Кира</td>\n",
       "      <td>22</td>\n",
       "      <td>Тюмень</td>\n",
       "      <td>ultra</td>\n",
       "      <td>6</td>\n",
       "      <td>0</td>\n",
       "      <td>199</td>\n",
       "    </tr>\n",
       "    <tr>\n",
       "      <th>3</th>\n",
       "      <td>1</td>\n",
       "      <td>10</td>\n",
       "      <td>2</td>\n",
       "      <td>5809.911100</td>\n",
       "      <td>32.0</td>\n",
       "      <td>Кира</td>\n",
       "      <td>22</td>\n",
       "      <td>Тюмень</td>\n",
       "      <td>ultra</td>\n",
       "      <td>6</td>\n",
       "      <td>0</td>\n",
       "      <td>199</td>\n",
       "    </tr>\n",
       "    <tr>\n",
       "      <th>4</th>\n",
       "      <td>1</td>\n",
       "      <td>11</td>\n",
       "      <td>3</td>\n",
       "      <td>7003.499363</td>\n",
       "      <td>56.0</td>\n",
       "      <td>Кира</td>\n",
       "      <td>22</td>\n",
       "      <td>Тюмень</td>\n",
       "      <td>ultra</td>\n",
       "      <td>6</td>\n",
       "      <td>0</td>\n",
       "      <td>199</td>\n",
       "    </tr>\n",
       "    <tr>\n",
       "      <th>5</th>\n",
       "      <td>1</td>\n",
       "      <td>12</td>\n",
       "      <td>2</td>\n",
       "      <td>6751.629942</td>\n",
       "      <td>28.0</td>\n",
       "      <td>Кира</td>\n",
       "      <td>22</td>\n",
       "      <td>Тюмень</td>\n",
       "      <td>ultra</td>\n",
       "      <td>6</td>\n",
       "      <td>0</td>\n",
       "      <td>199</td>\n",
       "    </tr>\n",
       "    <tr>\n",
       "      <th>6</th>\n",
       "      <td>2</td>\n",
       "      <td>3</td>\n",
       "      <td>3</td>\n",
       "      <td>10187.723006</td>\n",
       "      <td>63.0</td>\n",
       "      <td>Станислав</td>\n",
       "      <td>31</td>\n",
       "      <td>Омск</td>\n",
       "      <td>ultra</td>\n",
       "      <td>6</td>\n",
       "      <td>0</td>\n",
       "      <td>199</td>\n",
       "    </tr>\n",
       "    <tr>\n",
       "      <th>7</th>\n",
       "      <td>2</td>\n",
       "      <td>4</td>\n",
       "      <td>2</td>\n",
       "      <td>6164.381824</td>\n",
       "      <td>40.0</td>\n",
       "      <td>Станислав</td>\n",
       "      <td>31</td>\n",
       "      <td>Омск</td>\n",
       "      <td>ultra</td>\n",
       "      <td>6</td>\n",
       "      <td>0</td>\n",
       "      <td>199</td>\n",
       "    </tr>\n",
       "    <tr>\n",
       "      <th>8</th>\n",
       "      <td>2</td>\n",
       "      <td>6</td>\n",
       "      <td>1</td>\n",
       "      <td>3255.338202</td>\n",
       "      <td>14.0</td>\n",
       "      <td>Станислав</td>\n",
       "      <td>31</td>\n",
       "      <td>Омск</td>\n",
       "      <td>ultra</td>\n",
       "      <td>6</td>\n",
       "      <td>0</td>\n",
       "      <td>199</td>\n",
       "    </tr>\n",
       "    <tr>\n",
       "      <th>9</th>\n",
       "      <td>2</td>\n",
       "      <td>7</td>\n",
       "      <td>2</td>\n",
       "      <td>6780.722964</td>\n",
       "      <td>48.0</td>\n",
       "      <td>Станислав</td>\n",
       "      <td>31</td>\n",
       "      <td>Омск</td>\n",
       "      <td>ultra</td>\n",
       "      <td>6</td>\n",
       "      <td>0</td>\n",
       "      <td>199</td>\n",
       "    </tr>\n",
       "  </tbody>\n",
       "</table>\n",
       "</div>"
      ],
      "text/plain": [
       "   user_id  month  count_rides  sum_distance  sum_duration       name  age  \\\n",
       "0        1      1            2   7027.511294          42.0       Кира   22   \n",
       "1        1      4            1    754.159807           7.0       Кира   22   \n",
       "2        1      8            2   6723.470560          46.0       Кира   22   \n",
       "3        1     10            2   5809.911100          32.0       Кира   22   \n",
       "4        1     11            3   7003.499363          56.0       Кира   22   \n",
       "5        1     12            2   6751.629942          28.0       Кира   22   \n",
       "6        2      3            3  10187.723006          63.0  Станислав   31   \n",
       "7        2      4            2   6164.381824          40.0  Станислав   31   \n",
       "8        2      6            1   3255.338202          14.0  Станислав   31   \n",
       "9        2      7            2   6780.722964          48.0  Станислав   31   \n",
       "\n",
       "     city subscription_type  minute_price  start_ride_price  subscription_fee  \n",
       "0  Тюмень             ultra             6                 0               199  \n",
       "1  Тюмень             ultra             6                 0               199  \n",
       "2  Тюмень             ultra             6                 0               199  \n",
       "3  Тюмень             ultra             6                 0               199  \n",
       "4  Тюмень             ultra             6                 0               199  \n",
       "5  Тюмень             ultra             6                 0               199  \n",
       "6    Омск             ultra             6                 0               199  \n",
       "7    Омск             ultra             6                 0               199  \n",
       "8    Омск             ultra             6                 0               199  \n",
       "9    Омск             ultra             6                 0               199  "
      ]
     },
     "execution_count": 35,
     "metadata": {},
     "output_type": "execute_result"
    }
   ],
   "source": [
    " #соединим с таблицами по пользователям и тарифам\n",
    "data_total_agg.reset_index(inplace=True)\n",
    "data_total_agg = data_total_agg.merge(data_users, on='user_id')\n",
    "data_total_agg = data_total_agg.merge(data_subs, on='subscription_type')\n",
    "data_total_agg.head(10)"
   ]
  },
  {
   "cell_type": "code",
   "execution_count": 36,
   "id": "bcaf808d",
   "metadata": {},
   "outputs": [
    {
     "data": {
      "text/html": [
       "<div>\n",
       "<style scoped>\n",
       "    .dataframe tbody tr th:only-of-type {\n",
       "        vertical-align: middle;\n",
       "    }\n",
       "\n",
       "    .dataframe tbody tr th {\n",
       "        vertical-align: top;\n",
       "    }\n",
       "\n",
       "    .dataframe thead th {\n",
       "        text-align: right;\n",
       "    }\n",
       "</style>\n",
       "<table border=\"1\" class=\"dataframe\">\n",
       "  <thead>\n",
       "    <tr style=\"text-align: right;\">\n",
       "      <th></th>\n",
       "      <th>user_id</th>\n",
       "      <th>month</th>\n",
       "      <th>count_rides</th>\n",
       "      <th>sum_distance</th>\n",
       "      <th>sum_duration</th>\n",
       "      <th>name</th>\n",
       "      <th>age</th>\n",
       "      <th>city</th>\n",
       "      <th>subscription_type</th>\n",
       "      <th>minute_price</th>\n",
       "      <th>start_ride_price</th>\n",
       "      <th>subscription_fee</th>\n",
       "      <th>month_rev</th>\n",
       "    </tr>\n",
       "  </thead>\n",
       "  <tbody>\n",
       "    <tr>\n",
       "      <th>0</th>\n",
       "      <td>1</td>\n",
       "      <td>1</td>\n",
       "      <td>2</td>\n",
       "      <td>7027.511294</td>\n",
       "      <td>42.0</td>\n",
       "      <td>Кира</td>\n",
       "      <td>22</td>\n",
       "      <td>Тюмень</td>\n",
       "      <td>ultra</td>\n",
       "      <td>6</td>\n",
       "      <td>0</td>\n",
       "      <td>199</td>\n",
       "      <td>451.0</td>\n",
       "    </tr>\n",
       "    <tr>\n",
       "      <th>1</th>\n",
       "      <td>1</td>\n",
       "      <td>4</td>\n",
       "      <td>1</td>\n",
       "      <td>754.159807</td>\n",
       "      <td>7.0</td>\n",
       "      <td>Кира</td>\n",
       "      <td>22</td>\n",
       "      <td>Тюмень</td>\n",
       "      <td>ultra</td>\n",
       "      <td>6</td>\n",
       "      <td>0</td>\n",
       "      <td>199</td>\n",
       "      <td>241.0</td>\n",
       "    </tr>\n",
       "    <tr>\n",
       "      <th>2</th>\n",
       "      <td>1</td>\n",
       "      <td>8</td>\n",
       "      <td>2</td>\n",
       "      <td>6723.470560</td>\n",
       "      <td>46.0</td>\n",
       "      <td>Кира</td>\n",
       "      <td>22</td>\n",
       "      <td>Тюмень</td>\n",
       "      <td>ultra</td>\n",
       "      <td>6</td>\n",
       "      <td>0</td>\n",
       "      <td>199</td>\n",
       "      <td>475.0</td>\n",
       "    </tr>\n",
       "    <tr>\n",
       "      <th>3</th>\n",
       "      <td>1</td>\n",
       "      <td>10</td>\n",
       "      <td>2</td>\n",
       "      <td>5809.911100</td>\n",
       "      <td>32.0</td>\n",
       "      <td>Кира</td>\n",
       "      <td>22</td>\n",
       "      <td>Тюмень</td>\n",
       "      <td>ultra</td>\n",
       "      <td>6</td>\n",
       "      <td>0</td>\n",
       "      <td>199</td>\n",
       "      <td>391.0</td>\n",
       "    </tr>\n",
       "    <tr>\n",
       "      <th>4</th>\n",
       "      <td>1</td>\n",
       "      <td>11</td>\n",
       "      <td>3</td>\n",
       "      <td>7003.499363</td>\n",
       "      <td>56.0</td>\n",
       "      <td>Кира</td>\n",
       "      <td>22</td>\n",
       "      <td>Тюмень</td>\n",
       "      <td>ultra</td>\n",
       "      <td>6</td>\n",
       "      <td>0</td>\n",
       "      <td>199</td>\n",
       "      <td>535.0</td>\n",
       "    </tr>\n",
       "    <tr>\n",
       "      <th>5</th>\n",
       "      <td>1</td>\n",
       "      <td>12</td>\n",
       "      <td>2</td>\n",
       "      <td>6751.629942</td>\n",
       "      <td>28.0</td>\n",
       "      <td>Кира</td>\n",
       "      <td>22</td>\n",
       "      <td>Тюмень</td>\n",
       "      <td>ultra</td>\n",
       "      <td>6</td>\n",
       "      <td>0</td>\n",
       "      <td>199</td>\n",
       "      <td>367.0</td>\n",
       "    </tr>\n",
       "    <tr>\n",
       "      <th>6</th>\n",
       "      <td>2</td>\n",
       "      <td>3</td>\n",
       "      <td>3</td>\n",
       "      <td>10187.723006</td>\n",
       "      <td>63.0</td>\n",
       "      <td>Станислав</td>\n",
       "      <td>31</td>\n",
       "      <td>Омск</td>\n",
       "      <td>ultra</td>\n",
       "      <td>6</td>\n",
       "      <td>0</td>\n",
       "      <td>199</td>\n",
       "      <td>577.0</td>\n",
       "    </tr>\n",
       "    <tr>\n",
       "      <th>7</th>\n",
       "      <td>2</td>\n",
       "      <td>4</td>\n",
       "      <td>2</td>\n",
       "      <td>6164.381824</td>\n",
       "      <td>40.0</td>\n",
       "      <td>Станислав</td>\n",
       "      <td>31</td>\n",
       "      <td>Омск</td>\n",
       "      <td>ultra</td>\n",
       "      <td>6</td>\n",
       "      <td>0</td>\n",
       "      <td>199</td>\n",
       "      <td>439.0</td>\n",
       "    </tr>\n",
       "    <tr>\n",
       "      <th>8</th>\n",
       "      <td>2</td>\n",
       "      <td>6</td>\n",
       "      <td>1</td>\n",
       "      <td>3255.338202</td>\n",
       "      <td>14.0</td>\n",
       "      <td>Станислав</td>\n",
       "      <td>31</td>\n",
       "      <td>Омск</td>\n",
       "      <td>ultra</td>\n",
       "      <td>6</td>\n",
       "      <td>0</td>\n",
       "      <td>199</td>\n",
       "      <td>283.0</td>\n",
       "    </tr>\n",
       "    <tr>\n",
       "      <th>9</th>\n",
       "      <td>2</td>\n",
       "      <td>7</td>\n",
       "      <td>2</td>\n",
       "      <td>6780.722964</td>\n",
       "      <td>48.0</td>\n",
       "      <td>Станислав</td>\n",
       "      <td>31</td>\n",
       "      <td>Омск</td>\n",
       "      <td>ultra</td>\n",
       "      <td>6</td>\n",
       "      <td>0</td>\n",
       "      <td>199</td>\n",
       "      <td>487.0</td>\n",
       "    </tr>\n",
       "  </tbody>\n",
       "</table>\n",
       "</div>"
      ],
      "text/plain": [
       "   user_id  month  count_rides  sum_distance  sum_duration       name  age  \\\n",
       "0        1      1            2   7027.511294          42.0       Кира   22   \n",
       "1        1      4            1    754.159807           7.0       Кира   22   \n",
       "2        1      8            2   6723.470560          46.0       Кира   22   \n",
       "3        1     10            2   5809.911100          32.0       Кира   22   \n",
       "4        1     11            3   7003.499363          56.0       Кира   22   \n",
       "5        1     12            2   6751.629942          28.0       Кира   22   \n",
       "6        2      3            3  10187.723006          63.0  Станислав   31   \n",
       "7        2      4            2   6164.381824          40.0  Станислав   31   \n",
       "8        2      6            1   3255.338202          14.0  Станислав   31   \n",
       "9        2      7            2   6780.722964          48.0  Станислав   31   \n",
       "\n",
       "     city subscription_type  minute_price  start_ride_price  subscription_fee  \\\n",
       "0  Тюмень             ultra             6                 0               199   \n",
       "1  Тюмень             ultra             6                 0               199   \n",
       "2  Тюмень             ultra             6                 0               199   \n",
       "3  Тюмень             ultra             6                 0               199   \n",
       "4  Тюмень             ultra             6                 0               199   \n",
       "5  Тюмень             ultra             6                 0               199   \n",
       "6    Омск             ultra             6                 0               199   \n",
       "7    Омск             ultra             6                 0               199   \n",
       "8    Омск             ultra             6                 0               199   \n",
       "9    Омск             ultra             6                 0               199   \n",
       "\n",
       "   month_rev  \n",
       "0      451.0  \n",
       "1      241.0  \n",
       "2      475.0  \n",
       "3      391.0  \n",
       "4      535.0  \n",
       "5      367.0  \n",
       "6      577.0  \n",
       "7      439.0  \n",
       "8      283.0  \n",
       "9      487.0  "
      ]
     },
     "execution_count": 36,
     "metadata": {},
     "output_type": "execute_result"
    }
   ],
   "source": [
    "#добавим столбец с помесячной выручкой от клиента\n",
    "data_total_agg['month_rev'] = data_total_agg['start_ride_price'] * data_total_agg['count_rides'] +\\\n",
    "                              data_total_agg['minute_price'] * data_total_agg['sum_duration'] +\\\n",
    "                              data_total_agg['subscription_fee']\n",
    "data_total_agg.head(10)"
   ]
  },
  {
   "cell_type": "markdown",
   "id": "56e72ac9",
   "metadata": {},
   "source": [
    "Теперь у нас есть помесячные значения выручки по каждому клиенту, которые пригодятся нам при проверке гипотез."
   ]
  },
  {
   "cell_type": "markdown",
   "id": "660f7ac2",
   "metadata": {},
   "source": [
    "**Вывод:**\n",
    "\n",
    "* Был создан новый датафрейм с агрегированными значениями: сумма продолжительности и расстояния поездок;\n",
    "* Рассчитана помесячная выручка от каждого клиента - соответствующий столбец добавлен в новый датафрейм.\n",
    "\n",
    "[Вернуться к содержанию](#Содержание)"
   ]
  },
  {
   "cell_type": "markdown",
   "id": "318bce4b",
   "metadata": {},
   "source": [
    "<a id='Проверка-гипотез'></a>\n",
    "## Проверка гипотез"
   ]
  },
  {
   "cell_type": "markdown",
   "id": "0d83f9d8",
   "metadata": {},
   "source": [
    "Продакт-менеджеры сервиса хотят увеличить количество пользователей с подпиской. Для этого они хотят провести различные акции, но сначала нужно выяснить несколько важных моментов. \n",
    "\n",
    "При исследовательском анализе данных мы уже могли сформировать ответы на вопросы исследования, но необходимо более комплексное и точное решение.\n",
    "\n",
    "Поэтому будем проверять гипотезы. "
   ]
  },
  {
   "cell_type": "markdown",
   "id": "b7fc18e8",
   "metadata": {},
   "source": [
    "<a id='Время-на-поездку'></a>\n",
    "Важно понять, тратят ли пользователи с подпиской больше времени на поездки? Если да, то пользователи с подпиской могут быть «выгоднее» для компании."
   ]
  },
  {
   "cell_type": "markdown",
   "id": "391c2d8a",
   "metadata": {},
   "source": [
    "Сформируем гипотезы:\n",
    "\n",
    "H0: Пользователи с подпиской тратят столько же времени на поездки, сколько пользователи без подписки.\n",
    "\n",
    "H1: Пользователи с подпиской тратят больше времени на поездки, чем пользователи без подписки."
   ]
  },
  {
   "cell_type": "code",
   "execution_count": 37,
   "id": "183af7d6",
   "metadata": {},
   "outputs": [
    {
     "name": "stdout",
     "output_type": "stream",
     "text": [
      "p-значение: 1.2804098316645618e-34\n",
      "Отвергаем нулевую гипотезу: время поездки значимо больше у пользователей с подпиской\n"
     ]
    }
   ],
   "source": [
    "#для проверки гипотезы будем использовать односторонний двухвыборочный Т-тест для независимых выборок\n",
    "\n",
    "alpha = 0.05\n",
    "\n",
    "results = st.ttest_ind(data_total_ultra['duration'], data_total_free['duration'], alternative='greater')\n",
    "\n",
    "print('p-значение:', results.pvalue)\n",
    "\n",
    "if results.pvalue < alpha:\n",
    "    print('Отвергаем нулевую гипотезу: время поездки значимо больше у пользователей с подпиской')\n",
    "else:\n",
    "    print('Не получилось отвергнуть нулевую гипотезу: время поездок достигает запланированных показателей')"
   ]
  },
  {
   "cell_type": "markdown",
   "id": "863e797a",
   "metadata": {},
   "source": [
    "При исследовании данных, мы строили сравнительную гистограмму длительности поездок, проверим средние значения двух распределений:"
   ]
  },
  {
   "cell_type": "code",
   "execution_count": 38,
   "id": "20630003",
   "metadata": {},
   "outputs": [
    {
     "name": "stdout",
     "output_type": "stream",
     "text": [
      "Среднее время поездки у пользователей с подпиской: 18.54198516280583\n",
      "Среднее время поездки у пользователей без подписки: 17.39090929866399\n"
     ]
    }
   ],
   "source": [
    "print('Среднее время поездки у пользователей с подпиской:', data_total_ultra['duration'].mean())\n",
    "print('Среднее время поездки у пользователей без подписки:', data_total_free['duration'].mean())"
   ]
  },
  {
   "cell_type": "markdown",
   "id": "83076fb4",
   "metadata": {},
   "source": [
    "Таким образом, пользователи с подпиской тратят больше времени на поездку - H1 правдоподобна.\n",
    "Поэтому, если учитывать этот фактор в отдельности от других, то пользователи с подпиской приоритетнее для компании. "
   ]
  },
  {
   "cell_type": "markdown",
   "id": "d598b4a1",
   "metadata": {},
   "source": [
    "<a id='Среднее-расстояние-поездки'></a>\n",
    "Расстояние одной поездки в 3130 метров — оптимальное с точки зрения износа самоката. Можно ли сказать, что среднее расстояние, которое проезжают пользователи с подпиской за одну поездку, не превышает 3130 метров? "
   ]
  },
  {
   "cell_type": "markdown",
   "id": "ff0660b8",
   "metadata": {},
   "source": [
    "Сформируем гипотезы:\n",
    "\n",
    "H0: Пользователи с подпиской в среднем проезжают за 1 поездку 3130 м.\n",
    "\n",
    "H1: Пользователи с подпиской в среднем за поездку проезжают более 3130 м."
   ]
  },
  {
   "cell_type": "code",
   "execution_count": 39,
   "id": "1d745efb",
   "metadata": {},
   "outputs": [
    {
     "name": "stdout",
     "output_type": "stream",
     "text": [
      "p-значение: 0.9195368847849785\n",
      "Не получилось отвергнуть нулевую гипотезу: дистанция достигает запланированных показателей\n"
     ]
    }
   ],
   "source": [
    "#для проверки гипотезы будем использовать односторонний одновыборочный Т-тест\n",
    "value = 3130\n",
    "\n",
    "alpha = 0.05\n",
    "\n",
    "results = st.ttest_1samp(data_total_ultra['distance'], value, alternative='greater')\n",
    "\n",
    "print('p-значение:', results.pvalue)\n",
    "\n",
    "if results.pvalue < alpha:\n",
    "    print('Отвергаем нулевую гипотезу: дистанция поездки значимо больше у пользователей с подпиской')\n",
    "else:\n",
    "    print('Не получилось отвергнуть нулевую гипотезу: дистанция достигает запланированных показателей')"
   ]
  },
  {
   "cell_type": "markdown",
   "id": "520a13d5",
   "metadata": {},
   "source": [
    "Судя по Т-тесту, среднее значение расстояния поездок у пользователей с подпиской распределено вокруг нашего показателя в 3130 м (p-value 9% - вероятность случайно получить 3130 при условии, что средняя дистанция действительно равна 3130м у пользователей с подпиской), примерно это мы уже видели на гистограмме про исследовании данных. \n",
    "\n",
    "Таким образом наша нулевая гипотеза не отвергается. Теперь вычислим конкретное значение: "
   ]
  },
  {
   "cell_type": "code",
   "execution_count": 40,
   "id": "ddd045e5",
   "metadata": {},
   "outputs": [
    {
     "name": "stdout",
     "output_type": "stream",
     "text": [
      "Средняя дистанция поездки у пользователей с подпиской: 3115.4453880370247\n"
     ]
    }
   ],
   "source": [
    "print('Средняя дистанция поездки у пользователей с подпиской:', data_total_ultra['distance'].mean())"
   ]
  },
  {
   "cell_type": "markdown",
   "id": "011817fc",
   "metadata": {},
   "source": [
    "Значение близко к 3130 по левую сторону - поскольку нулевая гипотеза отсекает правую часть, она выглядит более правдоподобной.\n",
    "\n",
    "Средняя дистанция поездок пользователей с подписками равна или меньше оптимальной по износу самокатов. "
   ]
  },
  {
   "cell_type": "markdown",
   "id": "b44a02ce",
   "metadata": {},
   "source": [
    "<a id='Сравнение-выручки'></a>\n",
    "Будет ли помесячная выручка от пользователей с подпиской по месяцам выше, чем выручка от пользователей без подписки?"
   ]
  },
  {
   "cell_type": "markdown",
   "id": "fc2b998f",
   "metadata": {},
   "source": [
    "H0: Помесячная выручка от пользователей с подпиской по месяцам равна выручке от пользователей без подписки.\n",
    "\n",
    "H1: Помесячная выручка от пользователей с подпиской по месяцам выше, чем выручка от пользователей без подписки."
   ]
  },
  {
   "cell_type": "code",
   "execution_count": 41,
   "id": "115f73d8",
   "metadata": {},
   "outputs": [
    {
     "name": "stdout",
     "output_type": "stream",
     "text": [
      "p-значение: 1.8850394384715216e-31\n",
      "Отвергаем нулевую гипотезу: выручка по месяцам от пользователей с подпиской значимо больше, чем от пользователей без нее\n"
     ]
    }
   ],
   "source": [
    "#для проверки гипотезы будем использовать односторонний двухвыборочный Т-тест для независимых выборок\n",
    "\n",
    "alpha = 0.05\n",
    "\n",
    "results = st.ttest_ind(data_total_agg[data_total_agg['subscription_type']=='ultra']['month_rev'],\\\n",
    "          data_total_agg[data_total_agg['subscription_type']=='free']['month_rev'], alternative='greater')\n",
    "\n",
    "print('p-значение:', results.pvalue)\n",
    "\n",
    "if results.pvalue < alpha:\n",
    "    print('Отвергаем нулевую гипотезу: выручка по месяцам от пользователей с подпиской значимо больше, \\\n",
    "чем от пользователей без нее')\n",
    "else:\n",
    "    print('Не получилось отвергнуть нулевую гипотезу: помесячная выручка достигает запланированных показателей')"
   ]
  },
  {
   "cell_type": "markdown",
   "id": "5bfe8a96",
   "metadata": {},
   "source": [
    "Таким образом, помесячная выручка от клиентов с подпиской, вероятно, выше, чем от клиентов без нее.\n",
    "\n",
    "Выясним на конкретных значениях:"
   ]
  },
  {
   "cell_type": "code",
   "execution_count": 42,
   "id": "0d40df52",
   "metadata": {
    "scrolled": true
   },
   "outputs": [
    {
     "name": "stdout",
     "output_type": "stream",
     "text": [
      "Средняя помесячная выручка от пользователей с подпиской: 362.7921906022502\n",
      "Средняя помесячная выручка от пользователей без подписки: 328.6413651073845\n"
     ]
    }
   ],
   "source": [
    "print('Средняя помесячная выручка от пользователей с подпиской:', \n",
    "      data_total_agg[data_total_agg['subscription_type']=='ultra']['month_rev'].mean())\n",
    "print('Средняя помесячная выручка от пользователей без подписки:', \n",
    "      data_total_agg[data_total_agg['subscription_type']=='free']['month_rev'].mean())"
   ]
  },
  {
   "cell_type": "markdown",
   "id": "5eedba05",
   "metadata": {},
   "source": [
    "Видим, что выручка от пользователей с подпиской действительно выше. "
   ]
  },
  {
   "cell_type": "markdown",
   "id": "cfe1ac54",
   "metadata": {},
   "source": [
    "**Вывод:**\n",
    "\n",
    "Проверили и подтвердили относительно высокую вероятность следующих гипотез:\n",
    "* Пользователи с подпиской тратят больше времени на поездку - более вероятно, чем H0;\n",
    "* Среднее расстояние, которое проезжают пользователи с подпиской за одну поездку, не превышает 3130 метров - подтверждена;\n",
    "* Помесячная выручка от пользователей с подпиской по месяцам выше, чем выручка от пользователей без подписки - подтверждена. \n",
    "\n",
    "[Вернуться к содержанию](#Содержание)"
   ]
  },
  {
   "cell_type": "markdown",
   "id": "f9c5aced",
   "metadata": {},
   "source": [
    "**Вопрос:** Представьте такую ситуацию: техническая команда сервиса обновила сервера, с которыми взаимодействует мобильное приложение. Она надеется, что из-за этого количество обращений в техподдержку значимо снизилось. Некоторый файл содержит для каждого пользователя данные о количестве обращений до обновления и после него. Какой тест вам понадобился бы для проверки этой гипотезы?\n",
    "\n",
    "**Ответ:** понадобился бы односторонний Т-тест для зависимых выборок: scipy.stats.ttest_rel. "
   ]
  },
  {
   "cell_type": "markdown",
   "id": "daeee7c0",
   "metadata": {},
   "source": [
    "<a id='Распределения'></a>\n",
    "## Распределения"
   ]
  },
  {
   "cell_type": "markdown",
   "id": "07135dde",
   "metadata": {},
   "source": [
    "Отделу маркетинга GoFast поставили задачу: нужно провести акцию с раздачей промокодов на один бесплатный месяц подписки, в рамках которой как минимум 100 существующих клиентов должны продлить эту подписку. То есть по завершении периода действия подписки пользователь может либо отказаться от неё, либо продлить, совершив соответствующий платёж. \n",
    "\n",
    "Эта акция уже проводилась ранее и по итогу выяснилось, что после бесплатного пробного периода подписку продлевают 10 % пользователей. Выясните, какое минимальное количество промокодов нужно разослать, чтобы вероятность не выполнить план была примерно 5 %. Подберите параметры распределения, описывающего эту ситуацию, постройте график распределения и сформулируйте ответ на вопрос о количестве промокодов:"
   ]
  },
  {
   "cell_type": "markdown",
   "id": "49ec5331",
   "metadata": {},
   "source": [
    "Поскольку продление подписки после пробного периода - это эксперимент Бернулли (2 исхода: удача (продление) или неудача (без продления)), а таких экспериментов множество, то правильным распределением будет биномиальное, построим его: "
   ]
  },
  {
   "cell_type": "code",
   "execution_count": 43,
   "id": "66a658a6",
   "metadata": {},
   "outputs": [
    {
     "name": "stderr",
     "output_type": "stream",
     "text": [
      "/opt/conda/lib/python3.9/site-packages/scipy/stats/_discrete_distns.py:78: RuntimeWarning: divide by zero encountered in _binom_pdf\n",
      "  return _boost._binom_pdf(x, n, p)\n"
     ]
    },
    {
     "data": {
      "image/png": "[encoded data removed]",
      "text/plain": [
       "<Figure size 432x288 with 1 Axes>"
      ]
     },
     "metadata": {
      "needs_background": "light"
     },
     "output_type": "display_data"
    }
   ],
   "source": [
    "n = 1000 # количество попыток примерное на основе 100 минимальных случаев успеха и 10% вероятности \n",
    "p = 0.1 # вероятность успеха на основе предыдущей акции\n",
    "\n",
    "distr = []\n",
    "\n",
    "for k in range(0, n + 1):\n",
    "    current_value = binom.pmf(k, n, p)\n",
    "    distr.append(current_value)\n",
    "    \n",
    "plt.bar(range(0, n + 1), distr)\n",
    "plt.title('Биномиальное распределение')\n",
    "plt.xlabel('Количество продленных подписок')\n",
    "plt.ylabel('Вероятность')\n",
    "plt.show()"
   ]
  },
  {
   "cell_type": "code",
   "execution_count": 44,
   "id": "5ccdbbae",
   "metadata": {},
   "outputs": [
    {
     "data": {
      "text/plain": [
       "1172"
      ]
     },
     "execution_count": 44,
     "metadata": {},
     "output_type": "execute_result"
    }
   ],
   "source": [
    "#найдем минимальное количество промокодов (n), чтобы эксперимент бернулли оказался успехом минимум 100 раз с 95% вероятностью,\n",
    "#будем использовать cdf с такой логикой: создадим цикл, в каждой итерации будет рассчитываться куммулятивная вероятность\n",
    "#для числа в цикле, при котором получение 100 подписок будет возможно с 95% вероятностью\n",
    "p = 0.1 #вероятность успеха на основе предыдущей акции\n",
    "k = 100 #минимальное количество успехов\n",
    "a = 0.05 #порог вероятности не достичь k успехов\n",
    "min_n = 1000  #с этого числа начнется цикл, берем 1000, т.к. на основе 100 успехов и 10% вероятности получается именно оно \n",
    "\n",
    "while True:\n",
    "    prob = 1 - binom.cdf(k, min_n, p)\n",
    "    \n",
    "    if prob >= 1 - a: #если вероятность получить 100 успехов при найденном min_n больше или равна 95%, то останавливаем цикл\n",
    "        break\n",
    "    min_n = min_n + 1 #если при текущем числе необходимой вероятности не найдено, то переходим к следующему числу по порядку\n",
    "min_n"
   ]
  },
  {
   "cell_type": "markdown",
   "id": "9585469a",
   "metadata": {},
   "source": [
    "Необходимо 1172 промокода, чтобы достичь минимума в 100 подписок с 95% вероятностью при текущей конверсии. "
   ]
  },
  {
   "cell_type": "markdown",
   "id": "ea8c787e",
   "metadata": {},
   "source": [
    "Отдел маркетинга рассылает клиентам push-уведомления в мобильном приложении. Клиенты могут открыть его или не открывать. Известно, что уведомления открывают около 40 % получивших клиентов. Отдел планирует разослать 1 млн уведомлений. С помощью аппроксимации постройте примерный график распределения и оцените вероятность того, что уведомление откроют не более 399,5 тыс. пользователей."
   ]
  },
  {
   "cell_type": "code",
   "execution_count": 45,
   "id": "1f7d85e8",
   "metadata": {},
   "outputs": [
    {
     "data": {
      "text/plain": [
       "0.15371708296369768"
      ]
     },
     "execution_count": 45,
     "metadata": {},
     "output_type": "execute_result"
    }
   ],
   "source": [
    "#воспользуемся нормальной аппроксимацией биномиального распределения\n",
    "n = 1000000\n",
    "p = 0.4\n",
    "\n",
    "mu = n * p #мат ожидание \n",
    "sigma = (n * p * (1 - p))**0.5 #ст отклонение\n",
    "\n",
    "distr = st.norm(mu, sigma) #задаем нормальное распределение\n",
    "\n",
    "result = distr.cdf(399500) #вероятность получить указанное значение или меньше с помощью куммулятивной функции\n",
    "result"
   ]
  },
  {
   "cell_type": "markdown",
   "id": "43075c83",
   "metadata": {},
   "source": [
    "Вероятность того, что уведомление откроют не более 399,5 тыс. пользователей равна 15%."
   ]
  },
  {
   "cell_type": "markdown",
   "id": "d8890ee0",
   "metadata": {},
   "source": [
    "<a id=\"Общий-вывод\"></a>\n",
    "## Общий вывод"
   ]
  },
  {
   "cell_type": "markdown",
   "id": "f907fcb8",
   "metadata": {},
   "source": [
    "На основе предоставленных данных было исследовано:\n",
    "\n",
    "* Большинство пользователей из Пятигорска (14% всех пользователей), меньше всего - в Москве (11%). Предположительно связано с основным городом базирования предприятия и количеством точек/самокатов в аренду;\n",
    "* Количество пользователей сервиса без подписки больше почти на 10% от общего количества (С подпиской: 699, Без подписки: 835);\n",
    "* Средний возраст пользователей, вокруг которого распределены другие возрастные группы, равен 25;\n",
    "* Среднее расстояние поездки равно 3133м, существует 300 поездок около 650м - не все используют электросамокаты для передвижения на сравнительно далекие расстояния, минимальное расстояние у них равно 0.85 метра - возможно, это случаи, когда пользователи брали самокат в аренду и сразу же отменяли;\n",
    "* Время поездки распределено вокруг среднего 17 минут 48 секунд.\n",
    "\n",
    "Также проверены 3 гипотезы, у которых высокая вероятность:\n",
    "\n",
    "* Пользователи с подпиской тратят больше времени на поездку. Поэтому, если учитывать этот фактор в отдельности от других, то пользователи с подпиской приоритетнее для компании;\n",
    "* Средняя дистанция поездок пользователей с подписками близка к оптимальной по износу самокатов (3130м) и составляет 3115,5м;\n",
    "* Помесячная выручка от пользователей с подпиской выше, чем от пользователей без подписки, на 4% от общей помесячной выручки (с подпиской: 362, без подписки: 328).\n",
    "\n",
    "По всем рассмотренным гипотезам клиенты с подпиской выгоднее для компании. \n",
    "\n",
    "[Вернуться к содержанию](#Содержание)"
   ]
  }
 ],
 "metadata": {
  "ExecuteTimeLog": [
   {
    "duration": 3,
    "start_time": "2024-06-19T09:49:25.774Z"
   },
   {
    "duration": 2,
    "start_time": "2024-06-19T11:40:11.570Z"
   },
   {
    "duration": 4654,
    "start_time": "2024-06-19T11:41:46.519Z"
   },
   {
    "duration": 2755,
    "start_time": "2024-06-19T11:44:34.474Z"
   },
   {
    "duration": 2473,
    "start_time": "2024-06-19T11:44:39.799Z"
   },
   {
    "duration": 4,
    "start_time": "2024-06-19T11:44:52.109Z"
   },
   {
    "duration": 4,
    "start_time": "2024-06-19T11:44:56.609Z"
   },
   {
    "duration": 6,
    "start_time": "2024-06-19T11:48:46.191Z"
   },
   {
    "duration": 7,
    "start_time": "2024-06-19T11:49:03.993Z"
   },
   {
    "duration": 4,
    "start_time": "2024-06-19T11:49:12.204Z"
   },
   {
    "duration": 2486,
    "start_time": "2024-06-19T11:49:24.675Z"
   },
   {
    "duration": 2466,
    "start_time": "2024-06-19T11:49:31.697Z"
   },
   {
    "duration": 2468,
    "start_time": "2024-06-19T11:50:52.936Z"
   },
   {
    "duration": 65,
    "start_time": "2024-06-19T11:51:10.841Z"
   },
   {
    "duration": 0,
    "start_time": "2024-06-19T11:51:10.908Z"
   },
   {
    "duration": 0,
    "start_time": "2024-06-19T11:51:10.909Z"
   },
   {
    "duration": 3435,
    "start_time": "2024-06-19T11:51:34.081Z"
   },
   {
    "duration": 288,
    "start_time": "2024-06-19T11:51:37.518Z"
   },
   {
    "duration": 9,
    "start_time": "2024-06-19T11:57:46.143Z"
   },
   {
    "duration": 10,
    "start_time": "2024-06-19T11:58:02.766Z"
   },
   {
    "duration": 11,
    "start_time": "2024-06-19T11:59:27.405Z"
   },
   {
    "duration": 11,
    "start_time": "2024-06-19T11:59:57.154Z"
   },
   {
    "duration": 67,
    "start_time": "2024-06-19T12:00:09.098Z"
   },
   {
    "duration": 23,
    "start_time": "2024-06-19T12:00:10.978Z"
   },
   {
    "duration": 7,
    "start_time": "2024-06-19T12:00:24.315Z"
   },
   {
    "duration": 9,
    "start_time": "2024-06-19T12:00:54.796Z"
   },
   {
    "duration": 8,
    "start_time": "2024-06-19T12:01:04.442Z"
   },
   {
    "duration": 10,
    "start_time": "2024-06-19T12:07:47.763Z"
   },
   {
    "duration": 20,
    "start_time": "2024-06-19T12:09:43.897Z"
   },
   {
    "duration": 8,
    "start_time": "2024-06-19T12:10:03.356Z"
   },
   {
    "duration": 348,
    "start_time": "2024-06-19T12:15:36.910Z"
   },
   {
    "duration": 218,
    "start_time": "2024-06-19T12:16:39.709Z"
   },
   {
    "duration": 235,
    "start_time": "2024-06-19T12:16:53.911Z"
   },
   {
    "duration": 235,
    "start_time": "2024-06-19T12:17:02.289Z"
   },
   {
    "duration": 320,
    "start_time": "2024-06-19T12:17:55.757Z"
   },
   {
    "duration": 234,
    "start_time": "2024-06-19T12:18:00.500Z"
   },
   {
    "duration": 232,
    "start_time": "2024-06-19T12:18:11.865Z"
   },
   {
    "duration": 103,
    "start_time": "2024-06-19T12:19:37.559Z"
   },
   {
    "duration": 355,
    "start_time": "2024-06-19T12:19:52.807Z"
   },
   {
    "duration": 13,
    "start_time": "2024-06-19T12:21:23.391Z"
   },
   {
    "duration": 370,
    "start_time": "2024-06-19T12:21:29.950Z"
   },
   {
    "duration": 990,
    "start_time": "2024-06-19T12:28:48.404Z"
   },
   {
    "duration": 60,
    "start_time": "2024-06-19T12:28:49.402Z"
   },
   {
    "duration": 10,
    "start_time": "2024-06-19T12:28:49.463Z"
   },
   {
    "duration": 8,
    "start_time": "2024-06-19T12:28:49.474Z"
   },
   {
    "duration": 260,
    "start_time": "2024-06-19T12:28:49.485Z"
   },
   {
    "duration": 7,
    "start_time": "2024-06-19T12:28:49.746Z"
   },
   {
    "duration": 13,
    "start_time": "2024-06-19T12:28:49.754Z"
   },
   {
    "duration": 351,
    "start_time": "2024-06-19T12:28:49.768Z"
   },
   {
    "duration": 6,
    "start_time": "2024-06-19T12:28:50.120Z"
   },
   {
    "duration": 18,
    "start_time": "2024-06-19T12:28:50.127Z"
   },
   {
    "duration": 324,
    "start_time": "2024-06-19T12:28:50.147Z"
   },
   {
    "duration": 29,
    "start_time": "2024-06-19T12:41:48.780Z"
   },
   {
    "duration": 17,
    "start_time": "2024-06-19T12:44:53.538Z"
   },
   {
    "duration": 3,
    "start_time": "2024-06-19T12:47:59.027Z"
   },
   {
    "duration": 3,
    "start_time": "2024-06-19T12:48:32.648Z"
   },
   {
    "duration": 237,
    "start_time": "2024-06-19T12:48:46.112Z"
   },
   {
    "duration": 10,
    "start_time": "2024-06-19T12:49:06.990Z"
   },
   {
    "duration": 255,
    "start_time": "2024-06-19T12:49:08.174Z"
   },
   {
    "duration": 3,
    "start_time": "2024-06-19T12:49:25.241Z"
   },
   {
    "duration": 111,
    "start_time": "2024-06-19T12:49:26.887Z"
   },
   {
    "duration": 3,
    "start_time": "2024-06-19T12:51:19.890Z"
   },
   {
    "duration": 312,
    "start_time": "2024-06-19T12:51:24.597Z"
   },
   {
    "duration": 76,
    "start_time": "2024-06-19T12:56:05.786Z"
   },
   {
    "duration": 56,
    "start_time": "2024-06-19T12:56:31.614Z"
   },
   {
    "duration": 49,
    "start_time": "2024-06-19T12:56:57.487Z"
   },
   {
    "duration": 57,
    "start_time": "2024-06-19T12:57:07.196Z"
   },
   {
    "duration": 3,
    "start_time": "2024-06-19T12:58:05.680Z"
   },
   {
    "duration": 527,
    "start_time": "2024-06-19T12:59:19.152Z"
   },
   {
    "duration": 989,
    "start_time": "2024-06-19T13:00:07.205Z"
   },
   {
    "duration": 62,
    "start_time": "2024-06-19T13:00:08.196Z"
   },
   {
    "duration": 4,
    "start_time": "2024-06-19T13:00:08.260Z"
   },
   {
    "duration": 272,
    "start_time": "2024-06-19T13:00:08.265Z"
   },
   {
    "duration": 315,
    "start_time": "2024-06-19T13:00:08.539Z"
   },
   {
    "duration": 9,
    "start_time": "2024-06-19T13:00:08.856Z"
   },
   {
    "duration": 314,
    "start_time": "2024-06-19T13:00:08.866Z"
   },
   {
    "duration": 7,
    "start_time": "2024-06-19T13:00:09.184Z"
   },
   {
    "duration": 10,
    "start_time": "2024-06-19T13:00:09.192Z"
   },
   {
    "duration": 303,
    "start_time": "2024-06-19T13:00:09.203Z"
   },
   {
    "duration": 14,
    "start_time": "2024-06-19T13:00:09.507Z"
   },
   {
    "duration": 322,
    "start_time": "2024-06-19T13:00:42.188Z"
   },
   {
    "duration": 1053,
    "start_time": "2024-06-19T13:01:41.767Z"
   },
   {
    "duration": 71,
    "start_time": "2024-06-19T13:01:42.822Z"
   },
   {
    "duration": 4,
    "start_time": "2024-06-19T13:01:42.894Z"
   },
   {
    "duration": 268,
    "start_time": "2024-06-19T13:01:42.900Z"
   },
   {
    "duration": 319,
    "start_time": "2024-06-19T13:01:43.170Z"
   },
   {
    "duration": 321,
    "start_time": "2024-06-19T13:01:43.490Z"
   },
   {
    "duration": 13,
    "start_time": "2024-06-19T13:01:43.812Z"
   },
   {
    "duration": 7,
    "start_time": "2024-06-19T13:02:23.070Z"
   },
   {
    "duration": 26,
    "start_time": "2024-06-19T13:03:00.688Z"
   },
   {
    "duration": 5,
    "start_time": "2024-06-19T13:12:11.749Z"
   },
   {
    "duration": 10,
    "start_time": "2024-06-19T13:14:12.020Z"
   },
   {
    "duration": 18,
    "start_time": "2024-06-19T13:20:26.267Z"
   },
   {
    "duration": 107,
    "start_time": "2024-06-19T13:24:21.403Z"
   },
   {
    "duration": 10,
    "start_time": "2024-06-19T13:25:33.967Z"
   },
   {
    "duration": 24,
    "start_time": "2024-06-19T13:26:06.970Z"
   },
   {
    "duration": 25,
    "start_time": "2024-06-19T13:26:38.115Z"
   },
   {
    "duration": 28,
    "start_time": "2024-06-19T13:27:31.898Z"
   },
   {
    "duration": 20,
    "start_time": "2024-06-19T13:28:39.062Z"
   },
   {
    "duration": 1025,
    "start_time": "2024-06-19T13:31:02.371Z"
   },
   {
    "duration": 62,
    "start_time": "2024-06-19T13:31:03.404Z"
   },
   {
    "duration": 3,
    "start_time": "2024-06-19T13:31:03.468Z"
   },
   {
    "duration": 272,
    "start_time": "2024-06-19T13:31:03.472Z"
   },
   {
    "duration": 331,
    "start_time": "2024-06-19T13:31:03.746Z"
   },
   {
    "duration": 359,
    "start_time": "2024-06-19T13:31:04.078Z"
   },
   {
    "duration": 17,
    "start_time": "2024-06-19T13:31:04.439Z"
   },
   {
    "duration": 38,
    "start_time": "2024-06-19T13:31:04.457Z"
   },
   {
    "duration": 6,
    "start_time": "2024-06-19T13:31:04.496Z"
   },
   {
    "duration": 55,
    "start_time": "2024-06-19T13:31:04.503Z"
   },
   {
    "duration": 6,
    "start_time": "2024-06-19T13:35:46.054Z"
   },
   {
    "duration": 6,
    "start_time": "2024-06-19T13:36:12.241Z"
   },
   {
    "duration": 1025,
    "start_time": "2024-06-19T13:36:49.267Z"
   },
   {
    "duration": 62,
    "start_time": "2024-06-19T13:36:50.294Z"
   },
   {
    "duration": 5,
    "start_time": "2024-06-19T13:36:50.357Z"
   },
   {
    "duration": 267,
    "start_time": "2024-06-19T13:36:50.363Z"
   },
   {
    "duration": 339,
    "start_time": "2024-06-19T13:36:50.632Z"
   },
   {
    "duration": 339,
    "start_time": "2024-06-19T13:36:50.973Z"
   },
   {
    "duration": 20,
    "start_time": "2024-06-19T13:36:51.313Z"
   },
   {
    "duration": 21,
    "start_time": "2024-06-19T13:36:51.334Z"
   },
   {
    "duration": 5,
    "start_time": "2024-06-19T13:36:51.356Z"
   },
   {
    "duration": 33,
    "start_time": "2024-06-19T13:36:51.363Z"
   },
   {
    "duration": 7,
    "start_time": "2024-06-19T13:36:51.398Z"
   },
   {
    "duration": 974,
    "start_time": "2024-06-19T13:37:27.961Z"
   },
   {
    "duration": 72,
    "start_time": "2024-06-19T13:37:28.937Z"
   },
   {
    "duration": 6,
    "start_time": "2024-06-19T13:37:29.011Z"
   },
   {
    "duration": 258,
    "start_time": "2024-06-19T13:37:29.018Z"
   },
   {
    "duration": 328,
    "start_time": "2024-06-19T13:37:29.278Z"
   },
   {
    "duration": 312,
    "start_time": "2024-06-19T13:37:29.608Z"
   },
   {
    "duration": 18,
    "start_time": "2024-06-19T13:37:29.921Z"
   },
   {
    "duration": 28,
    "start_time": "2024-06-19T13:37:29.941Z"
   },
   {
    "duration": 22,
    "start_time": "2024-06-19T13:37:29.971Z"
   },
   {
    "duration": 5,
    "start_time": "2024-06-19T13:37:29.994Z"
   },
   {
    "duration": 51,
    "start_time": "2024-06-19T13:37:30.002Z"
   },
   {
    "duration": 52,
    "start_time": "2024-06-19T13:37:30.055Z"
   },
   {
    "duration": 53,
    "start_time": "2024-06-19T13:40:09.508Z"
   },
   {
    "duration": 8,
    "start_time": "2024-06-19T13:41:41.893Z"
   },
   {
    "duration": 5,
    "start_time": "2024-06-19T13:41:48.224Z"
   },
   {
    "duration": 6,
    "start_time": "2024-06-19T13:42:11.375Z"
   },
   {
    "duration": 8,
    "start_time": "2024-06-19T13:42:35.854Z"
   },
   {
    "duration": 6,
    "start_time": "2024-06-19T13:43:26.020Z"
   },
   {
    "duration": 857,
    "start_time": "2024-06-19T13:43:55.523Z"
   },
   {
    "duration": 71,
    "start_time": "2024-06-19T13:43:56.382Z"
   },
   {
    "duration": 3,
    "start_time": "2024-06-19T13:43:56.454Z"
   },
   {
    "duration": 260,
    "start_time": "2024-06-19T13:43:56.459Z"
   },
   {
    "duration": 321,
    "start_time": "2024-06-19T13:43:56.721Z"
   },
   {
    "duration": 319,
    "start_time": "2024-06-19T13:43:57.043Z"
   },
   {
    "duration": 31,
    "start_time": "2024-06-19T13:43:57.363Z"
   },
   {
    "duration": 7,
    "start_time": "2024-06-19T13:43:57.395Z"
   },
   {
    "duration": 20,
    "start_time": "2024-06-19T13:43:57.403Z"
   },
   {
    "duration": 21,
    "start_time": "2024-06-19T13:43:57.424Z"
   },
   {
    "duration": 5,
    "start_time": "2024-06-19T13:43:57.447Z"
   },
   {
    "duration": 28,
    "start_time": "2024-06-19T13:47:25.868Z"
   },
   {
    "duration": 5,
    "start_time": "2024-06-19T13:47:27.764Z"
   },
   {
    "duration": 95,
    "start_time": "2024-06-19T13:47:34.382Z"
   },
   {
    "duration": 22,
    "start_time": "2024-06-19T13:48:31.957Z"
   },
   {
    "duration": 20,
    "start_time": "2024-06-19T13:48:37.533Z"
   },
   {
    "duration": 62,
    "start_time": "2024-06-19T13:53:51.591Z"
   },
   {
    "duration": 29,
    "start_time": "2024-06-19T13:54:08.689Z"
   },
   {
    "duration": 16,
    "start_time": "2024-06-19T13:54:10.885Z"
   },
   {
    "duration": 8,
    "start_time": "2024-06-19T13:54:38.610Z"
   },
   {
    "duration": 953,
    "start_time": "2024-06-19T13:54:44.647Z"
   },
   {
    "duration": 63,
    "start_time": "2024-06-19T13:54:45.602Z"
   },
   {
    "duration": 4,
    "start_time": "2024-06-19T13:54:45.666Z"
   },
   {
    "duration": 306,
    "start_time": "2024-06-19T13:54:45.672Z"
   },
   {
    "duration": 337,
    "start_time": "2024-06-19T13:54:45.979Z"
   },
   {
    "duration": 334,
    "start_time": "2024-06-19T13:54:46.317Z"
   },
   {
    "duration": 20,
    "start_time": "2024-06-19T13:54:46.653Z"
   },
   {
    "duration": 14,
    "start_time": "2024-06-19T13:54:46.690Z"
   },
   {
    "duration": 8,
    "start_time": "2024-06-19T13:54:46.706Z"
   },
   {
    "duration": 30,
    "start_time": "2024-06-19T13:54:46.715Z"
   },
   {
    "duration": 6,
    "start_time": "2024-06-19T13:54:46.746Z"
   },
   {
    "duration": 5,
    "start_time": "2024-06-19T14:00:55.033Z"
   },
   {
    "duration": 10,
    "start_time": "2024-06-19T14:01:59.741Z"
   },
   {
    "duration": 6,
    "start_time": "2024-06-19T14:03:49.198Z"
   },
   {
    "duration": 7,
    "start_time": "2024-06-19T14:03:51.758Z"
   },
   {
    "duration": 6,
    "start_time": "2024-06-19T14:03:56.065Z"
   },
   {
    "duration": 9,
    "start_time": "2024-06-19T14:04:01.197Z"
   },
   {
    "duration": 5,
    "start_time": "2024-06-19T14:04:03.361Z"
   },
   {
    "duration": 925,
    "start_time": "2024-06-19T14:04:28.525Z"
   },
   {
    "duration": 71,
    "start_time": "2024-06-19T14:04:29.452Z"
   },
   {
    "duration": 3,
    "start_time": "2024-06-19T14:04:29.524Z"
   },
   {
    "duration": 279,
    "start_time": "2024-06-19T14:04:29.529Z"
   },
   {
    "duration": 338,
    "start_time": "2024-06-19T14:04:29.810Z"
   },
   {
    "duration": 318,
    "start_time": "2024-06-19T14:04:30.150Z"
   },
   {
    "duration": 27,
    "start_time": "2024-06-19T14:04:30.469Z"
   },
   {
    "duration": 73,
    "start_time": "2024-06-19T14:04:30.497Z"
   },
   {
    "duration": 274,
    "start_time": "2024-06-19T14:04:30.572Z"
   },
   {
    "duration": 179,
    "start_time": "2024-06-19T14:04:30.847Z"
   },
   {
    "duration": 214,
    "start_time": "2024-06-19T14:04:31.028Z"
   },
   {
    "duration": 8,
    "start_time": "2024-06-19T14:05:23.418Z"
   },
   {
    "duration": 9,
    "start_time": "2024-06-19T14:12:34.819Z"
   },
   {
    "duration": 1014,
    "start_time": "2024-06-19T14:12:41.882Z"
   },
   {
    "duration": 62,
    "start_time": "2024-06-19T14:12:42.898Z"
   },
   {
    "duration": 4,
    "start_time": "2024-06-19T14:12:42.961Z"
   },
   {
    "duration": 266,
    "start_time": "2024-06-19T14:12:42.967Z"
   },
   {
    "duration": 322,
    "start_time": "2024-06-19T14:12:43.235Z"
   },
   {
    "duration": 319,
    "start_time": "2024-06-19T14:12:43.558Z"
   },
   {
    "duration": 24,
    "start_time": "2024-06-19T14:12:43.879Z"
   },
   {
    "duration": 7,
    "start_time": "2024-06-19T14:12:43.905Z"
   },
   {
    "duration": 11,
    "start_time": "2024-06-19T14:12:43.913Z"
   },
   {
    "duration": 6,
    "start_time": "2024-06-19T14:12:43.930Z"
   },
   {
    "duration": 36,
    "start_time": "2024-06-19T14:12:43.937Z"
   },
   {
    "duration": 6,
    "start_time": "2024-06-19T14:21:40.350Z"
   },
   {
    "duration": 5,
    "start_time": "2024-06-19T14:23:21.827Z"
   },
   {
    "duration": 54,
    "start_time": "2024-06-19T14:24:40.607Z"
   },
   {
    "duration": 90,
    "start_time": "2024-06-19T15:19:17.309Z"
   },
   {
    "duration": 7,
    "start_time": "2024-06-19T15:19:30.410Z"
   },
   {
    "duration": 12,
    "start_time": "2024-06-19T15:19:46.369Z"
   },
   {
    "duration": 10,
    "start_time": "2024-06-19T15:19:52.297Z"
   },
   {
    "duration": 13,
    "start_time": "2024-06-19T15:20:22.133Z"
   },
   {
    "duration": 13,
    "start_time": "2024-06-19T15:20:54.109Z"
   },
   {
    "duration": 10,
    "start_time": "2024-06-19T15:21:15.113Z"
   },
   {
    "duration": 12,
    "start_time": "2024-06-19T15:22:25.953Z"
   },
   {
    "duration": 12,
    "start_time": "2024-06-19T15:22:32.233Z"
   },
   {
    "duration": 13,
    "start_time": "2024-06-19T15:22:34.691Z"
   },
   {
    "duration": 85,
    "start_time": "2024-06-19T15:23:42.382Z"
   },
   {
    "duration": 11,
    "start_time": "2024-06-19T15:23:47.953Z"
   },
   {
    "duration": 54,
    "start_time": "2024-06-19T15:24:41.451Z"
   },
   {
    "duration": 117,
    "start_time": "2024-06-19T15:25:47.876Z"
   },
   {
    "duration": 114,
    "start_time": "2024-06-19T15:26:26.972Z"
   },
   {
    "duration": 118,
    "start_time": "2024-06-19T15:26:52.947Z"
   },
   {
    "duration": 124,
    "start_time": "2024-06-19T15:27:46.665Z"
   },
   {
    "duration": 10,
    "start_time": "2024-06-19T15:31:23.453Z"
   },
   {
    "duration": 12,
    "start_time": "2024-06-19T15:38:01.564Z"
   },
   {
    "duration": 12,
    "start_time": "2024-06-19T15:38:22.107Z"
   },
   {
    "duration": 17,
    "start_time": "2024-06-19T15:38:40.241Z"
   },
   {
    "duration": 12,
    "start_time": "2024-06-19T15:41:06.929Z"
   },
   {
    "duration": 10,
    "start_time": "2024-06-19T15:44:45.639Z"
   },
   {
    "duration": 65,
    "start_time": "2024-06-19T15:44:58.450Z"
   },
   {
    "duration": 12,
    "start_time": "2024-06-19T15:46:34.230Z"
   },
   {
    "duration": 117,
    "start_time": "2024-06-19T15:47:40.120Z"
   },
   {
    "duration": 7,
    "start_time": "2024-06-19T15:48:00.049Z"
   },
   {
    "duration": 96,
    "start_time": "2024-06-19T15:48:08.027Z"
   },
   {
    "duration": 105,
    "start_time": "2024-06-19T15:48:46.781Z"
   },
   {
    "duration": 101,
    "start_time": "2024-06-19T15:51:28.499Z"
   },
   {
    "duration": 100,
    "start_time": "2024-06-19T15:51:42.173Z"
   },
   {
    "duration": 95,
    "start_time": "2024-06-19T15:52:00.316Z"
   },
   {
    "duration": 95,
    "start_time": "2024-06-19T15:52:43.278Z"
   },
   {
    "duration": 8,
    "start_time": "2024-06-19T15:53:46.748Z"
   },
   {
    "duration": 98,
    "start_time": "2024-06-19T15:54:00.390Z"
   },
   {
    "duration": 111,
    "start_time": "2024-06-19T15:55:09.187Z"
   },
   {
    "duration": 97,
    "start_time": "2024-06-19T15:56:07.287Z"
   },
   {
    "duration": 13,
    "start_time": "2024-06-19T16:02:01.306Z"
   },
   {
    "duration": 17,
    "start_time": "2024-06-19T16:02:18.059Z"
   },
   {
    "duration": 56,
    "start_time": "2024-06-19T16:04:32.086Z"
   },
   {
    "duration": 146,
    "start_time": "2024-06-19T16:04:52.169Z"
   },
   {
    "duration": 210,
    "start_time": "2024-06-19T16:05:51.561Z"
   },
   {
    "duration": 159,
    "start_time": "2024-06-19T16:06:01.635Z"
   },
   {
    "duration": 189,
    "start_time": "2024-06-19T16:06:23.036Z"
   },
   {
    "duration": 147,
    "start_time": "2024-06-19T16:06:28.021Z"
   },
   {
    "duration": 134,
    "start_time": "2024-06-19T16:07:13.441Z"
   },
   {
    "duration": 139,
    "start_time": "2024-06-19T16:07:20.568Z"
   },
   {
    "duration": 162,
    "start_time": "2024-06-19T16:07:25.972Z"
   },
   {
    "duration": 126,
    "start_time": "2024-06-19T16:07:37.949Z"
   },
   {
    "duration": 128,
    "start_time": "2024-06-19T16:07:52.391Z"
   },
   {
    "duration": 4,
    "start_time": "2024-06-19T16:09:29.874Z"
   },
   {
    "duration": 160,
    "start_time": "2024-06-19T16:11:52.085Z"
   },
   {
    "duration": 143,
    "start_time": "2024-06-19T16:12:00.127Z"
   },
   {
    "duration": 206,
    "start_time": "2024-06-19T16:12:12.078Z"
   },
   {
    "duration": 9,
    "start_time": "2024-06-19T16:13:14.210Z"
   },
   {
    "duration": 62,
    "start_time": "2024-06-19T16:14:05.361Z"
   },
   {
    "duration": 141,
    "start_time": "2024-06-19T16:17:13.934Z"
   },
   {
    "duration": 130,
    "start_time": "2024-06-19T16:17:48.394Z"
   },
   {
    "duration": 136,
    "start_time": "2024-06-19T16:17:56.461Z"
   },
   {
    "duration": 149,
    "start_time": "2024-06-19T16:18:02.355Z"
   },
   {
    "duration": 152,
    "start_time": "2024-06-19T16:18:09.133Z"
   },
   {
    "duration": 172,
    "start_time": "2024-06-19T16:18:15.972Z"
   },
   {
    "duration": 179,
    "start_time": "2024-06-19T16:18:22.599Z"
   },
   {
    "duration": 218,
    "start_time": "2024-06-19T16:18:26.368Z"
   },
   {
    "duration": 9,
    "start_time": "2024-06-19T16:22:12.212Z"
   },
   {
    "duration": 142,
    "start_time": "2024-06-19T16:34:13.074Z"
   },
   {
    "duration": 167,
    "start_time": "2024-06-19T16:34:29.381Z"
   },
   {
    "duration": 159,
    "start_time": "2024-06-19T16:34:33.299Z"
   },
   {
    "duration": 138,
    "start_time": "2024-06-19T16:34:48.294Z"
   },
   {
    "duration": 8,
    "start_time": "2024-06-19T16:38:35.745Z"
   },
   {
    "duration": 71,
    "start_time": "2024-06-19T17:17:19.811Z"
   },
   {
    "duration": 3,
    "start_time": "2024-06-19T17:17:27.923Z"
   },
   {
    "duration": 3,
    "start_time": "2024-06-19T17:18:02.715Z"
   },
   {
    "duration": 4,
    "start_time": "2024-06-19T17:29:33.729Z"
   },
   {
    "duration": 7,
    "start_time": "2024-06-19T17:31:30.311Z"
   },
   {
    "duration": 8,
    "start_time": "2024-06-19T17:31:34.147Z"
   },
   {
    "duration": 4,
    "start_time": "2024-06-19T17:31:36.420Z"
   },
   {
    "duration": 10,
    "start_time": "2024-06-19T17:33:22.639Z"
   },
   {
    "duration": 16,
    "start_time": "2024-06-19T17:33:42.779Z"
   },
   {
    "duration": 14,
    "start_time": "2024-06-19T17:37:42.067Z"
   },
   {
    "duration": 7,
    "start_time": "2024-06-19T17:41:03.052Z"
   },
   {
    "duration": 5,
    "start_time": "2024-06-19T17:41:05.567Z"
   },
   {
    "duration": 11,
    "start_time": "2024-06-19T17:41:21.078Z"
   },
   {
    "duration": 16,
    "start_time": "2024-06-19T17:41:31.093Z"
   },
   {
    "duration": 17,
    "start_time": "2024-06-19T17:41:41.827Z"
   },
   {
    "duration": 16,
    "start_time": "2024-06-19T17:41:47.039Z"
   },
   {
    "duration": 16,
    "start_time": "2024-06-19T17:41:50.340Z"
   },
   {
    "duration": 18,
    "start_time": "2024-06-19T17:41:55.259Z"
   },
   {
    "duration": 15,
    "start_time": "2024-06-19T17:41:56.540Z"
   },
   {
    "duration": 15,
    "start_time": "2024-06-19T17:41:57.569Z"
   },
   {
    "duration": 16,
    "start_time": "2024-06-19T17:42:00.050Z"
   },
   {
    "duration": 12,
    "start_time": "2024-06-19T17:42:21.972Z"
   },
   {
    "duration": 25,
    "start_time": "2024-06-19T17:42:34.952Z"
   },
   {
    "duration": 15,
    "start_time": "2024-06-19T17:42:38.812Z"
   },
   {
    "duration": 13,
    "start_time": "2024-06-19T17:43:25.842Z"
   },
   {
    "duration": 15,
    "start_time": "2024-06-19T17:43:52.656Z"
   },
   {
    "duration": 179,
    "start_time": "2024-06-19T17:53:18.357Z"
   },
   {
    "duration": 239,
    "start_time": "2024-06-19T17:53:40.686Z"
   },
   {
    "duration": 57,
    "start_time": "2024-06-19T17:53:57.267Z"
   },
   {
    "duration": 178,
    "start_time": "2024-06-19T17:54:04.261Z"
   },
   {
    "duration": 182,
    "start_time": "2024-06-19T17:54:15.327Z"
   },
   {
    "duration": 177,
    "start_time": "2024-06-19T17:54:52.892Z"
   },
   {
    "duration": 176,
    "start_time": "2024-06-19T17:56:38.448Z"
   },
   {
    "duration": 235,
    "start_time": "2024-06-19T17:59:39.326Z"
   },
   {
    "duration": 205,
    "start_time": "2024-06-19T18:00:22.490Z"
   },
   {
    "duration": 226,
    "start_time": "2024-06-19T18:00:36.473Z"
   },
   {
    "duration": 205,
    "start_time": "2024-06-19T18:02:17.832Z"
   },
   {
    "duration": 201,
    "start_time": "2024-06-19T18:02:49.797Z"
   },
   {
    "duration": 207,
    "start_time": "2024-06-19T19:47:21.679Z"
   },
   {
    "duration": 7,
    "start_time": "2024-06-19T20:13:23.198Z"
   },
   {
    "duration": 17,
    "start_time": "2024-06-19T20:14:14.974Z"
   },
   {
    "duration": 22,
    "start_time": "2024-06-19T20:14:28.771Z"
   },
   {
    "duration": 24,
    "start_time": "2024-06-19T20:16:32.938Z"
   },
   {
    "duration": 92,
    "start_time": "2024-06-19T20:16:46.791Z"
   },
   {
    "duration": 24,
    "start_time": "2024-06-19T20:17:01.685Z"
   },
   {
    "duration": 20,
    "start_time": "2024-06-19T20:18:17.448Z"
   },
   {
    "duration": 20,
    "start_time": "2024-06-19T20:19:14.812Z"
   },
   {
    "duration": 17,
    "start_time": "2024-06-19T20:23:01.891Z"
   },
   {
    "duration": 15,
    "start_time": "2024-06-19T20:24:26.344Z"
   },
   {
    "duration": 21,
    "start_time": "2024-06-19T20:25:18.492Z"
   },
   {
    "duration": 20,
    "start_time": "2024-06-19T20:25:35.639Z"
   },
   {
    "duration": 16,
    "start_time": "2024-06-19T20:25:39.358Z"
   },
   {
    "duration": 22,
    "start_time": "2024-06-19T20:25:53.205Z"
   },
   {
    "duration": 4,
    "start_time": "2024-06-19T20:42:42.504Z"
   },
   {
    "duration": 9,
    "start_time": "2024-06-19T20:46:25.203Z"
   },
   {
    "duration": 9,
    "start_time": "2024-06-19T20:49:12.717Z"
   },
   {
    "duration": 26,
    "start_time": "2024-06-19T20:49:19.985Z"
   },
   {
    "duration": 26,
    "start_time": "2024-06-19T20:50:31.877Z"
   },
   {
    "duration": 42,
    "start_time": "2024-06-19T20:50:45.657Z"
   },
   {
    "duration": 44,
    "start_time": "2024-06-19T20:51:10.485Z"
   },
   {
    "duration": 10,
    "start_time": "2024-06-19T20:51:15.265Z"
   },
   {
    "duration": 13,
    "start_time": "2024-06-19T20:51:16.693Z"
   },
   {
    "duration": 10,
    "start_time": "2024-06-19T20:51:26.009Z"
   },
   {
    "duration": 982,
    "start_time": "2024-06-19T20:51:35.375Z"
   },
   {
    "duration": 59,
    "start_time": "2024-06-19T20:51:36.359Z"
   },
   {
    "duration": 4,
    "start_time": "2024-06-19T20:51:36.419Z"
   },
   {
    "duration": 265,
    "start_time": "2024-06-19T20:51:36.424Z"
   },
   {
    "duration": 319,
    "start_time": "2024-06-19T20:51:36.692Z"
   },
   {
    "duration": 303,
    "start_time": "2024-06-19T20:51:37.012Z"
   },
   {
    "duration": 18,
    "start_time": "2024-06-19T20:51:37.316Z"
   },
   {
    "duration": 6,
    "start_time": "2024-06-19T20:51:37.335Z"
   },
   {
    "duration": 5,
    "start_time": "2024-06-19T20:51:37.342Z"
   },
   {
    "duration": 7,
    "start_time": "2024-06-19T20:51:37.348Z"
   },
   {
    "duration": 29,
    "start_time": "2024-06-19T20:51:37.356Z"
   },
   {
    "duration": 6,
    "start_time": "2024-06-19T20:51:37.386Z"
   },
   {
    "duration": 6,
    "start_time": "2024-06-19T20:51:37.393Z"
   },
   {
    "duration": 20,
    "start_time": "2024-06-19T20:51:37.401Z"
   },
   {
    "duration": 13,
    "start_time": "2024-06-19T20:51:37.422Z"
   },
   {
    "duration": 136,
    "start_time": "2024-06-19T20:51:37.436Z"
   },
   {
    "duration": 18,
    "start_time": "2024-06-19T20:51:37.573Z"
   },
   {
    "duration": 105,
    "start_time": "2024-06-19T20:51:37.592Z"
   },
   {
    "duration": 123,
    "start_time": "2024-06-19T20:51:37.698Z"
   },
   {
    "duration": 6,
    "start_time": "2024-06-19T20:51:37.822Z"
   },
   {
    "duration": 148,
    "start_time": "2024-06-19T20:51:37.829Z"
   },
   {
    "duration": 11,
    "start_time": "2024-06-19T20:51:37.978Z"
   },
   {
    "duration": 216,
    "start_time": "2024-06-19T20:51:37.990Z"
   },
   {
    "duration": 7,
    "start_time": "2024-06-19T20:51:38.207Z"
   },
   {
    "duration": 4,
    "start_time": "2024-06-19T20:51:38.215Z"
   },
   {
    "duration": 15,
    "start_time": "2024-06-19T20:51:38.220Z"
   },
   {
    "duration": 13,
    "start_time": "2024-06-19T20:51:38.236Z"
   },
   {
    "duration": 36,
    "start_time": "2024-06-19T20:51:38.250Z"
   },
   {
    "duration": 12,
    "start_time": "2024-06-19T20:51:38.287Z"
   },
   {
    "duration": 210,
    "start_time": "2024-06-19T20:51:38.301Z"
   },
   {
    "duration": 208,
    "start_time": "2024-06-19T20:51:38.513Z"
   },
   {
    "duration": 21,
    "start_time": "2024-06-19T20:51:38.723Z"
   },
   {
    "duration": 10,
    "start_time": "2024-06-19T20:51:38.746Z"
   },
   {
    "duration": 18,
    "start_time": "2024-06-19T20:52:03.888Z"
   },
   {
    "duration": 23,
    "start_time": "2024-06-19T20:55:29.750Z"
   },
   {
    "duration": 935,
    "start_time": "2024-06-19T20:55:49.951Z"
   },
   {
    "duration": 59,
    "start_time": "2024-06-19T20:55:50.888Z"
   },
   {
    "duration": 3,
    "start_time": "2024-06-19T20:55:50.948Z"
   },
   {
    "duration": 238,
    "start_time": "2024-06-19T20:55:50.953Z"
   },
   {
    "duration": 309,
    "start_time": "2024-06-19T20:55:51.193Z"
   },
   {
    "duration": 298,
    "start_time": "2024-06-19T20:55:51.503Z"
   },
   {
    "duration": 17,
    "start_time": "2024-06-19T20:55:51.803Z"
   },
   {
    "duration": 5,
    "start_time": "2024-06-19T20:55:51.821Z"
   },
   {
    "duration": 18,
    "start_time": "2024-06-19T20:55:51.827Z"
   },
   {
    "duration": 6,
    "start_time": "2024-06-19T20:55:51.847Z"
   },
   {
    "duration": 25,
    "start_time": "2024-06-19T20:55:51.854Z"
   },
   {
    "duration": 7,
    "start_time": "2024-06-19T20:55:51.880Z"
   },
   {
    "duration": 5,
    "start_time": "2024-06-19T20:55:51.888Z"
   },
   {
    "duration": 20,
    "start_time": "2024-06-19T20:55:51.895Z"
   },
   {
    "duration": 13,
    "start_time": "2024-06-19T20:55:51.917Z"
   },
   {
    "duration": 127,
    "start_time": "2024-06-19T20:55:51.930Z"
   },
   {
    "duration": 12,
    "start_time": "2024-06-19T20:55:52.058Z"
   },
   {
    "duration": 119,
    "start_time": "2024-06-19T20:55:52.071Z"
   },
   {
    "duration": 141,
    "start_time": "2024-06-19T20:55:52.192Z"
   },
   {
    "duration": 7,
    "start_time": "2024-06-19T20:55:52.335Z"
   },
   {
    "duration": 166,
    "start_time": "2024-06-19T20:55:52.344Z"
   },
   {
    "duration": 8,
    "start_time": "2024-06-19T20:55:52.512Z"
   },
   {
    "duration": 235,
    "start_time": "2024-06-19T20:55:52.521Z"
   },
   {
    "duration": 8,
    "start_time": "2024-06-19T20:55:52.757Z"
   },
   {
    "duration": 3,
    "start_time": "2024-06-19T20:55:52.766Z"
   },
   {
    "duration": 27,
    "start_time": "2024-06-19T20:55:52.771Z"
   },
   {
    "duration": 15,
    "start_time": "2024-06-19T20:55:52.799Z"
   },
   {
    "duration": 13,
    "start_time": "2024-06-19T20:55:52.815Z"
   },
   {
    "duration": 13,
    "start_time": "2024-06-19T20:55:52.830Z"
   },
   {
    "duration": 243,
    "start_time": "2024-06-19T20:55:52.844Z"
   },
   {
    "duration": 211,
    "start_time": "2024-06-19T20:55:53.088Z"
   },
   {
    "duration": 22,
    "start_time": "2024-06-19T20:55:53.300Z"
   },
   {
    "duration": 101,
    "start_time": "2024-06-19T20:55:53.323Z"
   },
   {
    "duration": 12,
    "start_time": "2024-06-19T20:56:17.140Z"
   },
   {
    "duration": 11,
    "start_time": "2024-06-19T20:56:24.416Z"
   },
   {
    "duration": 12,
    "start_time": "2024-06-19T20:56:44.370Z"
   },
   {
    "duration": 966,
    "start_time": "2024-06-19T20:56:57.598Z"
   },
   {
    "duration": 67,
    "start_time": "2024-06-19T20:56:58.567Z"
   },
   {
    "duration": 3,
    "start_time": "2024-06-19T20:56:58.635Z"
   },
   {
    "duration": 256,
    "start_time": "2024-06-19T20:56:58.639Z"
   },
   {
    "duration": 299,
    "start_time": "2024-06-19T20:56:58.897Z"
   },
   {
    "duration": 301,
    "start_time": "2024-06-19T20:56:59.198Z"
   },
   {
    "duration": 17,
    "start_time": "2024-06-19T20:56:59.500Z"
   },
   {
    "duration": 6,
    "start_time": "2024-06-19T20:56:59.518Z"
   },
   {
    "duration": 4,
    "start_time": "2024-06-19T20:56:59.525Z"
   },
   {
    "duration": 7,
    "start_time": "2024-06-19T20:56:59.530Z"
   },
   {
    "duration": 6,
    "start_time": "2024-06-19T20:56:59.538Z"
   },
   {
    "duration": 7,
    "start_time": "2024-06-19T20:56:59.545Z"
   },
   {
    "duration": 35,
    "start_time": "2024-06-19T20:56:59.553Z"
   },
   {
    "duration": 20,
    "start_time": "2024-06-19T20:56:59.590Z"
   },
   {
    "duration": 12,
    "start_time": "2024-06-19T20:56:59.611Z"
   },
   {
    "duration": 122,
    "start_time": "2024-06-19T20:56:59.624Z"
   },
   {
    "duration": 12,
    "start_time": "2024-06-19T20:56:59.747Z"
   },
   {
    "duration": 119,
    "start_time": "2024-06-19T20:56:59.760Z"
   },
   {
    "duration": 130,
    "start_time": "2024-06-19T20:56:59.881Z"
   },
   {
    "duration": 7,
    "start_time": "2024-06-19T20:57:00.012Z"
   },
   {
    "duration": 176,
    "start_time": "2024-06-19T20:57:00.020Z"
   },
   {
    "duration": 6,
    "start_time": "2024-06-19T20:57:00.197Z"
   },
   {
    "duration": 239,
    "start_time": "2024-06-19T20:57:00.204Z"
   },
   {
    "duration": 6,
    "start_time": "2024-06-19T20:57:00.444Z"
   },
   {
    "duration": 73,
    "start_time": "2024-06-19T20:57:00.452Z"
   },
   {
    "duration": 78,
    "start_time": "2024-06-19T20:57:00.526Z"
   },
   {
    "duration": 85,
    "start_time": "2024-06-19T20:57:00.605Z"
   },
   {
    "duration": 212,
    "start_time": "2024-06-19T20:57:00.691Z"
   },
   {
    "duration": 149,
    "start_time": "2024-06-19T20:57:00.905Z"
   },
   {
    "duration": 222,
    "start_time": "2024-06-19T20:57:01.055Z"
   },
   {
    "duration": 216,
    "start_time": "2024-06-19T20:57:01.278Z"
   },
   {
    "duration": 22,
    "start_time": "2024-06-19T20:57:01.495Z"
   },
   {
    "duration": 25,
    "start_time": "2024-06-19T20:57:01.519Z"
   },
   {
    "duration": 1005,
    "start_time": "2024-06-19T20:57:29.169Z"
   },
   {
    "duration": 62,
    "start_time": "2024-06-19T20:57:30.175Z"
   },
   {
    "duration": 3,
    "start_time": "2024-06-19T20:57:30.238Z"
   },
   {
    "duration": 307,
    "start_time": "2024-06-19T20:57:30.242Z"
   },
   {
    "duration": 318,
    "start_time": "2024-06-19T20:57:30.551Z"
   },
   {
    "duration": 315,
    "start_time": "2024-06-19T20:57:30.871Z"
   },
   {
    "duration": 18,
    "start_time": "2024-06-19T20:57:31.187Z"
   },
   {
    "duration": 18,
    "start_time": "2024-06-19T20:57:31.207Z"
   },
   {
    "duration": 32,
    "start_time": "2024-06-19T20:57:31.226Z"
   },
   {
    "duration": 46,
    "start_time": "2024-06-19T20:57:31.259Z"
   },
   {
    "duration": 19,
    "start_time": "2024-06-19T20:57:31.306Z"
   },
   {
    "duration": 31,
    "start_time": "2024-06-19T20:57:31.326Z"
   },
   {
    "duration": 30,
    "start_time": "2024-06-19T20:57:31.359Z"
   },
   {
    "duration": 50,
    "start_time": "2024-06-19T20:57:31.392Z"
   },
   {
    "duration": 63,
    "start_time": "2024-06-19T20:57:31.444Z"
   },
   {
    "duration": 137,
    "start_time": "2024-06-19T20:57:31.508Z"
   },
   {
    "duration": 12,
    "start_time": "2024-06-19T20:57:31.646Z"
   },
   {
    "duration": 149,
    "start_time": "2024-06-19T20:57:31.659Z"
   },
   {
    "duration": 131,
    "start_time": "2024-06-19T20:57:31.810Z"
   },
   {
    "duration": 7,
    "start_time": "2024-06-19T20:57:31.943Z"
   },
   {
    "duration": 164,
    "start_time": "2024-06-19T20:57:31.951Z"
   },
   {
    "duration": 7,
    "start_time": "2024-06-19T20:57:32.117Z"
   },
   {
    "duration": 240,
    "start_time": "2024-06-19T20:57:32.126Z"
   },
   {
    "duration": 7,
    "start_time": "2024-06-19T20:57:32.367Z"
   },
   {
    "duration": 11,
    "start_time": "2024-06-19T20:57:32.375Z"
   },
   {
    "duration": 17,
    "start_time": "2024-06-19T20:57:32.387Z"
   },
   {
    "duration": 13,
    "start_time": "2024-06-19T20:57:32.406Z"
   },
   {
    "duration": 12,
    "start_time": "2024-06-19T20:57:32.420Z"
   },
   {
    "duration": 11,
    "start_time": "2024-06-19T20:57:32.434Z"
   },
   {
    "duration": 241,
    "start_time": "2024-06-19T20:57:32.446Z"
   },
   {
    "duration": 235,
    "start_time": "2024-06-19T20:57:32.688Z"
   },
   {
    "duration": 22,
    "start_time": "2024-06-19T20:57:32.924Z"
   },
   {
    "duration": 17,
    "start_time": "2024-06-19T20:57:32.947Z"
   },
   {
    "duration": 21,
    "start_time": "2024-06-19T20:57:44.100Z"
   },
   {
    "duration": 952,
    "start_time": "2024-06-19T20:57:49.111Z"
   },
   {
    "duration": 60,
    "start_time": "2024-06-19T20:57:50.064Z"
   },
   {
    "duration": 4,
    "start_time": "2024-06-19T20:57:50.126Z"
   },
   {
    "duration": 244,
    "start_time": "2024-06-19T20:57:50.132Z"
   },
   {
    "duration": 305,
    "start_time": "2024-06-19T20:57:50.384Z"
   },
   {
    "duration": 309,
    "start_time": "2024-06-19T20:57:50.691Z"
   },
   {
    "duration": 17,
    "start_time": "2024-06-19T20:57:51.001Z"
   },
   {
    "duration": 6,
    "start_time": "2024-06-19T20:57:51.019Z"
   },
   {
    "duration": 5,
    "start_time": "2024-06-19T20:57:51.027Z"
   },
   {
    "duration": 7,
    "start_time": "2024-06-19T20:57:51.035Z"
   },
   {
    "duration": 5,
    "start_time": "2024-06-19T20:57:51.043Z"
   },
   {
    "duration": 36,
    "start_time": "2024-06-19T20:57:51.049Z"
   },
   {
    "duration": 4,
    "start_time": "2024-06-19T20:57:51.087Z"
   },
   {
    "duration": 21,
    "start_time": "2024-06-19T20:57:51.092Z"
   },
   {
    "duration": 13,
    "start_time": "2024-06-19T20:57:51.114Z"
   },
   {
    "duration": 132,
    "start_time": "2024-06-19T20:57:51.128Z"
   },
   {
    "duration": 11,
    "start_time": "2024-06-19T20:57:51.262Z"
   },
   {
    "duration": 103,
    "start_time": "2024-06-19T20:57:51.274Z"
   },
   {
    "duration": 121,
    "start_time": "2024-06-19T20:57:51.384Z"
   },
   {
    "duration": 7,
    "start_time": "2024-06-19T20:57:51.506Z"
   },
   {
    "duration": 162,
    "start_time": "2024-06-19T20:57:51.514Z"
   },
   {
    "duration": 10,
    "start_time": "2024-06-19T20:57:51.678Z"
   },
   {
    "duration": 193,
    "start_time": "2024-06-19T20:57:51.689Z"
   },
   {
    "duration": 6,
    "start_time": "2024-06-19T20:57:51.884Z"
   },
   {
    "duration": 3,
    "start_time": "2024-06-19T20:57:51.891Z"
   },
   {
    "duration": 15,
    "start_time": "2024-06-19T20:57:51.895Z"
   },
   {
    "duration": 14,
    "start_time": "2024-06-19T20:57:51.911Z"
   },
   {
    "duration": 13,
    "start_time": "2024-06-19T20:57:51.928Z"
   },
   {
    "duration": 43,
    "start_time": "2024-06-19T20:57:51.942Z"
   },
   {
    "duration": 224,
    "start_time": "2024-06-19T20:57:51.986Z"
   },
   {
    "duration": 219,
    "start_time": "2024-06-19T20:57:52.211Z"
   },
   {
    "duration": 22,
    "start_time": "2024-06-19T20:57:52.432Z"
   },
   {
    "duration": 35,
    "start_time": "2024-06-19T20:57:52.455Z"
   },
   {
    "duration": 93,
    "start_time": "2024-06-19T20:59:40.697Z"
   },
   {
    "duration": 26,
    "start_time": "2024-06-19T21:00:19.313Z"
   },
   {
    "duration": 11,
    "start_time": "2024-06-19T21:01:23.406Z"
   },
   {
    "duration": 10,
    "start_time": "2024-06-19T21:07:41.465Z"
   },
   {
    "duration": 10,
    "start_time": "2024-06-19T21:07:44.628Z"
   },
   {
    "duration": 9,
    "start_time": "2024-06-19T21:08:01.376Z"
   },
   {
    "duration": 917,
    "start_time": "2024-06-19T21:08:17.525Z"
   },
   {
    "duration": 59,
    "start_time": "2024-06-19T21:08:18.443Z"
   },
   {
    "duration": 3,
    "start_time": "2024-06-19T21:08:18.504Z"
   },
   {
    "duration": 240,
    "start_time": "2024-06-19T21:08:18.509Z"
   },
   {
    "duration": 307,
    "start_time": "2024-06-19T21:08:18.750Z"
   },
   {
    "duration": 301,
    "start_time": "2024-06-19T21:08:19.059Z"
   },
   {
    "duration": 24,
    "start_time": "2024-06-19T21:08:19.361Z"
   },
   {
    "duration": 6,
    "start_time": "2024-06-19T21:08:19.386Z"
   },
   {
    "duration": 4,
    "start_time": "2024-06-19T21:08:19.393Z"
   },
   {
    "duration": 5,
    "start_time": "2024-06-19T21:08:19.399Z"
   },
   {
    "duration": 5,
    "start_time": "2024-06-19T21:08:19.405Z"
   },
   {
    "duration": 5,
    "start_time": "2024-06-19T21:08:19.411Z"
   },
   {
    "duration": 4,
    "start_time": "2024-06-19T21:08:19.417Z"
   },
   {
    "duration": 30,
    "start_time": "2024-06-19T21:08:19.422Z"
   },
   {
    "duration": 39,
    "start_time": "2024-06-19T21:08:19.454Z"
   },
   {
    "duration": 120,
    "start_time": "2024-06-19T21:08:19.495Z"
   },
   {
    "duration": 12,
    "start_time": "2024-06-19T21:08:19.616Z"
   },
   {
    "duration": 120,
    "start_time": "2024-06-19T21:08:19.630Z"
   },
   {
    "duration": 130,
    "start_time": "2024-06-19T21:08:19.751Z"
   },
   {
    "duration": 5,
    "start_time": "2024-06-19T21:08:19.884Z"
   },
   {
    "duration": 156,
    "start_time": "2024-06-19T21:08:19.890Z"
   },
   {
    "duration": 6,
    "start_time": "2024-06-19T21:08:20.047Z"
   },
   {
    "duration": 205,
    "start_time": "2024-06-19T21:08:20.054Z"
   },
   {
    "duration": 7,
    "start_time": "2024-06-19T21:08:20.260Z"
   },
   {
    "duration": 16,
    "start_time": "2024-06-19T21:08:20.268Z"
   },
   {
    "duration": 15,
    "start_time": "2024-06-19T21:08:20.286Z"
   },
   {
    "duration": 23,
    "start_time": "2024-06-19T21:08:20.302Z"
   },
   {
    "duration": 14,
    "start_time": "2024-06-19T21:08:20.328Z"
   },
   {
    "duration": 13,
    "start_time": "2024-06-19T21:08:20.343Z"
   },
   {
    "duration": 219,
    "start_time": "2024-06-19T21:08:20.358Z"
   },
   {
    "duration": 217,
    "start_time": "2024-06-19T21:08:20.578Z"
   },
   {
    "duration": 29,
    "start_time": "2024-06-19T21:08:20.797Z"
   },
   {
    "duration": 21,
    "start_time": "2024-06-19T21:08:20.827Z"
   },
   {
    "duration": 61,
    "start_time": "2024-06-19T21:15:11.493Z"
   },
   {
    "duration": 55,
    "start_time": "2024-06-19T21:15:32.007Z"
   },
   {
    "duration": 50,
    "start_time": "2024-06-19T21:15:48.214Z"
   },
   {
    "duration": 57,
    "start_time": "2024-06-19T21:15:51.509Z"
   },
   {
    "duration": 4,
    "start_time": "2024-06-19T21:15:56.994Z"
   },
   {
    "duration": 11,
    "start_time": "2024-06-19T21:16:53.642Z"
   },
   {
    "duration": 14,
    "start_time": "2024-06-19T21:17:23.397Z"
   },
   {
    "duration": 53,
    "start_time": "2024-06-20T14:30:26.563Z"
   },
   {
    "duration": 1420,
    "start_time": "2024-06-20T14:31:40.132Z"
   },
   {
    "duration": 211,
    "start_time": "2024-06-20T14:31:41.555Z"
   },
   {
    "duration": 4,
    "start_time": "2024-06-20T14:31:41.768Z"
   },
   {
    "duration": 358,
    "start_time": "2024-06-20T14:31:41.773Z"
   },
   {
    "duration": 414,
    "start_time": "2024-06-20T14:31:42.134Z"
   },
   {
    "duration": 414,
    "start_time": "2024-06-20T14:31:42.549Z"
   },
   {
    "duration": 26,
    "start_time": "2024-06-20T14:31:42.965Z"
   },
   {
    "duration": 9,
    "start_time": "2024-06-20T14:31:42.993Z"
   },
   {
    "duration": 9,
    "start_time": "2024-06-20T14:31:43.004Z"
   },
   {
    "duration": 16,
    "start_time": "2024-06-20T14:31:43.015Z"
   },
   {
    "duration": 10,
    "start_time": "2024-06-20T14:31:43.061Z"
   },
   {
    "duration": 15,
    "start_time": "2024-06-20T14:31:43.073Z"
   },
   {
    "duration": 19,
    "start_time": "2024-06-20T14:31:43.091Z"
   },
   {
    "duration": 49,
    "start_time": "2024-06-20T14:31:43.114Z"
   },
   {
    "duration": 24,
    "start_time": "2024-06-20T14:31:43.165Z"
   },
   {
    "duration": 171,
    "start_time": "2024-06-20T14:31:43.191Z"
   },
   {
    "duration": 16,
    "start_time": "2024-06-20T14:31:43.365Z"
   },
   {
    "duration": 146,
    "start_time": "2024-06-20T14:31:43.383Z"
   },
   {
    "duration": 185,
    "start_time": "2024-06-20T14:31:43.530Z"
   },
   {
    "duration": 8,
    "start_time": "2024-06-20T14:31:43.717Z"
   },
   {
    "duration": 219,
    "start_time": "2024-06-20T14:31:43.727Z"
   },
   {
    "duration": 17,
    "start_time": "2024-06-20T14:31:43.947Z"
   },
   {
    "duration": 298,
    "start_time": "2024-06-20T14:31:43.965Z"
   },
   {
    "duration": 8,
    "start_time": "2024-06-20T14:31:44.264Z"
   },
   {
    "duration": 11,
    "start_time": "2024-06-20T14:31:44.274Z"
   },
   {
    "duration": 43,
    "start_time": "2024-06-20T14:31:44.286Z"
   },
   {
    "duration": 21,
    "start_time": "2024-06-20T14:31:44.330Z"
   },
   {
    "duration": 18,
    "start_time": "2024-06-20T14:31:44.352Z"
   },
   {
    "duration": 16,
    "start_time": "2024-06-20T14:31:44.372Z"
   },
   {
    "duration": 298,
    "start_time": "2024-06-20T14:31:44.390Z"
   },
   {
    "duration": 308,
    "start_time": "2024-06-20T14:31:44.691Z"
   },
   {
    "duration": 31,
    "start_time": "2024-06-20T14:31:45.001Z"
   },
   {
    "duration": 40,
    "start_time": "2024-06-20T14:31:45.034Z"
   },
   {
    "duration": 17,
    "start_time": "2024-06-20T14:31:45.076Z"
   },
   {
    "duration": 23,
    "start_time": "2024-06-20T14:31:45.095Z"
   },
   {
    "duration": 65,
    "start_time": "2024-06-20T14:31:45.120Z"
   },
   {
    "duration": 6,
    "start_time": "2024-06-20T14:33:19.578Z"
   },
   {
    "duration": 5,
    "start_time": "2024-06-20T14:38:42.793Z"
   },
   {
    "duration": 6,
    "start_time": "2024-06-20T14:39:11.337Z"
   },
   {
    "duration": 102,
    "start_time": "2024-06-20T15:10:34.268Z"
   },
   {
    "duration": 6,
    "start_time": "2024-06-20T15:11:47.849Z"
   },
   {
    "duration": 70,
    "start_time": "2024-06-20T15:12:31.723Z"
   },
   {
    "duration": 4,
    "start_time": "2024-06-20T15:21:34.416Z"
   },
   {
    "duration": 76,
    "start_time": "2024-06-20T15:23:18.356Z"
   },
   {
    "duration": 4,
    "start_time": "2024-06-20T15:27:44.769Z"
   },
   {
    "duration": 80,
    "start_time": "2024-06-20T15:33:51.620Z"
   },
   {
    "duration": 80,
    "start_time": "2024-06-20T15:39:44.350Z"
   },
   {
    "duration": 61,
    "start_time": "2024-06-20T15:44:03.942Z"
   },
   {
    "duration": 14,
    "start_time": "2024-06-20T15:44:21.871Z"
   },
   {
    "duration": 7,
    "start_time": "2024-06-20T15:45:55.072Z"
   },
   {
    "duration": 7,
    "start_time": "2024-06-20T15:46:25.149Z"
   },
   {
    "duration": 10,
    "start_time": "2024-06-20T15:46:49.970Z"
   },
   {
    "duration": 99,
    "start_time": "2024-06-20T15:47:30.067Z"
   },
   {
    "duration": 10,
    "start_time": "2024-06-20T15:47:33.101Z"
   },
   {
    "duration": 1153,
    "start_time": "2024-06-20T15:50:16.220Z"
   },
   {
    "duration": 72,
    "start_time": "2024-06-20T15:50:17.375Z"
   },
   {
    "duration": 5,
    "start_time": "2024-06-20T15:50:17.448Z"
   },
   {
    "duration": 342,
    "start_time": "2024-06-20T15:50:17.455Z"
   },
   {
    "duration": 478,
    "start_time": "2024-06-20T15:50:17.800Z"
   },
   {
    "duration": 445,
    "start_time": "2024-06-20T15:50:18.280Z"
   },
   {
    "duration": 37,
    "start_time": "2024-06-20T15:50:18.727Z"
   },
   {
    "duration": 8,
    "start_time": "2024-06-20T15:50:18.766Z"
   },
   {
    "duration": 14,
    "start_time": "2024-06-20T15:50:18.775Z"
   },
   {
    "duration": 28,
    "start_time": "2024-06-20T15:50:18.791Z"
   },
   {
    "duration": 34,
    "start_time": "2024-06-20T15:50:18.822Z"
   },
   {
    "duration": 30,
    "start_time": "2024-06-20T15:50:18.858Z"
   },
   {
    "duration": 9,
    "start_time": "2024-06-20T15:50:18.890Z"
   },
   {
    "duration": 61,
    "start_time": "2024-06-20T15:50:18.902Z"
   },
   {
    "duration": 18,
    "start_time": "2024-06-20T15:50:18.965Z"
   },
   {
    "duration": 167,
    "start_time": "2024-06-20T15:50:18.985Z"
   },
   {
    "duration": 17,
    "start_time": "2024-06-20T15:50:19.161Z"
   },
   {
    "duration": 147,
    "start_time": "2024-06-20T15:50:19.180Z"
   },
   {
    "duration": 192,
    "start_time": "2024-06-20T15:50:19.328Z"
   },
   {
    "duration": 9,
    "start_time": "2024-06-20T15:50:19.522Z"
   },
   {
    "duration": 228,
    "start_time": "2024-06-20T15:50:19.532Z"
   },
   {
    "duration": 10,
    "start_time": "2024-06-20T15:50:19.761Z"
   },
   {
    "duration": 324,
    "start_time": "2024-06-20T15:50:19.772Z"
   },
   {
    "duration": 14,
    "start_time": "2024-06-20T15:50:20.098Z"
   },
   {
    "duration": 19,
    "start_time": "2024-06-20T15:50:20.114Z"
   },
   {
    "duration": 37,
    "start_time": "2024-06-20T15:50:20.134Z"
   },
   {
    "duration": 22,
    "start_time": "2024-06-20T15:50:20.173Z"
   },
   {
    "duration": 29,
    "start_time": "2024-06-20T15:50:20.197Z"
   },
   {
    "duration": 34,
    "start_time": "2024-06-20T15:50:20.228Z"
   },
   {
    "duration": 297,
    "start_time": "2024-06-20T15:50:20.263Z"
   },
   {
    "duration": 294,
    "start_time": "2024-06-20T15:50:20.562Z"
   },
   {
    "duration": 31,
    "start_time": "2024-06-20T15:50:20.858Z"
   },
   {
    "duration": 43,
    "start_time": "2024-06-20T15:50:20.891Z"
   },
   {
    "duration": 37,
    "start_time": "2024-06-20T15:50:20.936Z"
   },
   {
    "duration": 19,
    "start_time": "2024-06-20T15:50:20.975Z"
   },
   {
    "duration": 38,
    "start_time": "2024-06-20T15:50:20.996Z"
   },
   {
    "duration": 25,
    "start_time": "2024-06-20T15:50:21.036Z"
   },
   {
    "duration": 36,
    "start_time": "2024-06-20T15:50:21.063Z"
   },
   {
    "duration": 39,
    "start_time": "2024-06-20T15:50:21.101Z"
   },
   {
    "duration": 8,
    "start_time": "2024-06-20T15:57:00.073Z"
   },
   {
    "duration": 7,
    "start_time": "2024-06-20T15:57:01.526Z"
   },
   {
    "duration": 7,
    "start_time": "2024-06-20T15:59:55.778Z"
   },
   {
    "duration": 8,
    "start_time": "2024-06-20T16:00:09.015Z"
   },
   {
    "duration": 1725,
    "start_time": "2024-06-20T16:24:37.957Z"
   },
   {
    "duration": 1751,
    "start_time": "2024-06-20T16:35:38.160Z"
   },
   {
    "duration": 104,
    "start_time": "2024-06-20T16:50:39.744Z"
   },
   {
    "duration": 6,
    "start_time": "2024-06-20T16:50:59.057Z"
   },
   {
    "duration": 8,
    "start_time": "2024-06-20T16:54:27.131Z"
   },
   {
    "duration": 5,
    "start_time": "2024-06-20T16:54:35.176Z"
   },
   {
    "duration": 15,
    "start_time": "2024-06-20T16:59:10.061Z"
   },
   {
    "duration": 7,
    "start_time": "2024-06-20T16:59:16.257Z"
   },
   {
    "duration": 6,
    "start_time": "2024-06-20T16:59:20.114Z"
   },
   {
    "duration": 7,
    "start_time": "2024-06-20T17:28:33.241Z"
   },
   {
    "duration": 31,
    "start_time": "2024-06-20T17:28:52.415Z"
   },
   {
    "duration": 29,
    "start_time": "2024-06-20T17:29:41.733Z"
   },
   {
    "duration": 29,
    "start_time": "2024-06-20T17:29:43.552Z"
   },
   {
    "duration": 44,
    "start_time": "2024-06-20T17:30:37.725Z"
   },
   {
    "duration": 27,
    "start_time": "2024-06-20T17:30:51.462Z"
   },
   {
    "duration": 28,
    "start_time": "2024-06-20T17:30:57.329Z"
   },
   {
    "duration": 125397,
    "start_time": "2024-06-20T18:08:27.347Z"
   },
   {
    "duration": 1172,
    "start_time": "2024-06-20T18:10:43.405Z"
   },
   {
    "duration": 72,
    "start_time": "2024-06-20T18:10:44.579Z"
   },
   {
    "duration": 4,
    "start_time": "2024-06-20T18:10:44.653Z"
   },
   {
    "duration": 389,
    "start_time": "2024-06-20T18:10:44.660Z"
   },
   {
    "duration": 473,
    "start_time": "2024-06-20T18:10:45.052Z"
   },
   {
    "duration": 454,
    "start_time": "2024-06-20T18:10:45.527Z"
   },
   {
    "duration": 26,
    "start_time": "2024-06-20T18:10:45.983Z"
   },
   {
    "duration": 9,
    "start_time": "2024-06-20T18:10:46.011Z"
   },
   {
    "duration": 43,
    "start_time": "2024-06-20T18:10:46.021Z"
   },
   {
    "duration": 9,
    "start_time": "2024-06-20T18:10:46.066Z"
   },
   {
    "duration": 13,
    "start_time": "2024-06-20T18:10:46.078Z"
   },
   {
    "duration": 10,
    "start_time": "2024-06-20T18:10:46.094Z"
   },
   {
    "duration": 31,
    "start_time": "2024-06-20T18:10:46.105Z"
   },
   {
    "duration": 54,
    "start_time": "2024-06-20T18:10:46.141Z"
   },
   {
    "duration": 26,
    "start_time": "2024-06-20T18:10:46.197Z"
   },
   {
    "duration": 191,
    "start_time": "2024-06-20T18:10:46.225Z"
   },
   {
    "duration": 19,
    "start_time": "2024-06-20T18:10:46.418Z"
   },
   {
    "duration": 169,
    "start_time": "2024-06-20T18:10:46.439Z"
   },
   {
    "duration": 208,
    "start_time": "2024-06-20T18:10:46.610Z"
   },
   {
    "duration": 11,
    "start_time": "2024-06-20T18:10:46.820Z"
   },
   {
    "duration": 254,
    "start_time": "2024-06-20T18:10:46.833Z"
   },
   {
    "duration": 11,
    "start_time": "2024-06-20T18:10:47.090Z"
   },
   {
    "duration": 330,
    "start_time": "2024-06-20T18:10:47.104Z"
   },
   {
    "duration": 10,
    "start_time": "2024-06-20T18:10:47.435Z"
   },
   {
    "duration": 66,
    "start_time": "2024-06-20T18:10:47.447Z"
   },
   {
    "duration": 37,
    "start_time": "2024-06-20T18:10:47.515Z"
   },
   {
    "duration": 20,
    "start_time": "2024-06-20T18:10:47.554Z"
   },
   {
    "duration": 20,
    "start_time": "2024-06-20T18:10:47.576Z"
   },
   {
    "duration": 24,
    "start_time": "2024-06-20T18:10:47.598Z"
   },
   {
    "duration": 355,
    "start_time": "2024-06-20T18:10:47.624Z"
   },
   {
    "duration": 349,
    "start_time": "2024-06-20T18:10:47.983Z"
   },
   {
    "duration": 47,
    "start_time": "2024-06-20T18:10:48.334Z"
   },
   {
    "duration": 38,
    "start_time": "2024-06-20T18:10:48.384Z"
   },
   {
    "duration": 45,
    "start_time": "2024-06-20T18:10:48.424Z"
   },
   {
    "duration": 8,
    "start_time": "2024-06-20T18:10:48.471Z"
   },
   {
    "duration": 6,
    "start_time": "2024-06-20T18:10:48.482Z"
   },
   {
    "duration": 7,
    "start_time": "2024-06-20T18:10:48.490Z"
   },
   {
    "duration": 20,
    "start_time": "2024-06-20T18:10:48.498Z"
   },
   {
    "duration": 44,
    "start_time": "2024-06-20T18:10:48.520Z"
   },
   {
    "duration": 12,
    "start_time": "2024-06-20T18:10:48.566Z"
   },
   {
    "duration": 1857,
    "start_time": "2024-06-20T18:10:48.582Z"
   },
   {
    "duration": 0,
    "start_time": "2024-06-20T18:15:21.177Z"
   },
   {
    "duration": 0,
    "start_time": "2024-06-20T18:15:21.179Z"
   },
   {
    "duration": 1802,
    "start_time": "2024-06-20T18:15:24.444Z"
   },
   {
    "duration": 1064118,
    "start_time": "2024-06-20T18:16:19.279Z"
   },
   {
    "duration": 0,
    "start_time": "2024-06-20T18:34:03.399Z"
   },
   {
    "duration": 8,
    "start_time": "2024-06-20T18:34:12.414Z"
   },
   {
    "duration": 257148,
    "start_time": "2024-06-20T18:35:08.186Z"
   },
   {
    "duration": 1232,
    "start_time": "2024-06-20T18:41:54.898Z"
   },
   {
    "duration": 73,
    "start_time": "2024-06-20T18:41:56.132Z"
   },
   {
    "duration": 4,
    "start_time": "2024-06-20T18:41:56.206Z"
   },
   {
    "duration": 349,
    "start_time": "2024-06-20T18:41:56.212Z"
   },
   {
    "duration": 436,
    "start_time": "2024-06-20T18:41:56.564Z"
   },
   {
    "duration": 491,
    "start_time": "2024-06-20T18:41:57.001Z"
   },
   {
    "duration": 26,
    "start_time": "2024-06-20T18:41:57.494Z"
   },
   {
    "duration": 10,
    "start_time": "2024-06-20T18:41:57.521Z"
   },
   {
    "duration": 32,
    "start_time": "2024-06-20T18:41:57.533Z"
   },
   {
    "duration": 19,
    "start_time": "2024-06-20T18:41:57.567Z"
   },
   {
    "duration": 10,
    "start_time": "2024-06-20T18:41:57.587Z"
   },
   {
    "duration": 13,
    "start_time": "2024-06-20T18:41:57.598Z"
   },
   {
    "duration": 12,
    "start_time": "2024-06-20T18:41:57.613Z"
   },
   {
    "duration": 51,
    "start_time": "2024-06-20T18:41:57.628Z"
   },
   {
    "duration": 18,
    "start_time": "2024-06-20T18:41:57.680Z"
   },
   {
    "duration": 169,
    "start_time": "2024-06-20T18:41:57.700Z"
   },
   {
    "duration": 23,
    "start_time": "2024-06-20T18:41:57.871Z"
   },
   {
    "duration": 166,
    "start_time": "2024-06-20T18:41:57.896Z"
   },
   {
    "duration": 186,
    "start_time": "2024-06-20T18:41:58.064Z"
   },
   {
    "duration": 12,
    "start_time": "2024-06-20T18:41:58.251Z"
   },
   {
    "duration": 211,
    "start_time": "2024-06-20T18:41:58.265Z"
   },
   {
    "duration": 10,
    "start_time": "2024-06-20T18:41:58.478Z"
   },
   {
    "duration": 311,
    "start_time": "2024-06-20T18:41:58.490Z"
   },
   {
    "duration": 9,
    "start_time": "2024-06-20T18:41:58.803Z"
   },
   {
    "duration": 17,
    "start_time": "2024-06-20T18:41:58.814Z"
   },
   {
    "duration": 34,
    "start_time": "2024-06-20T18:41:58.833Z"
   },
   {
    "duration": 28,
    "start_time": "2024-06-20T18:41:58.869Z"
   },
   {
    "duration": 19,
    "start_time": "2024-06-20T18:41:58.899Z"
   },
   {
    "duration": 51,
    "start_time": "2024-06-20T18:41:58.920Z"
   },
   {
    "duration": 335,
    "start_time": "2024-06-20T18:41:58.973Z"
   },
   {
    "duration": 313,
    "start_time": "2024-06-20T18:41:59.309Z"
   },
   {
    "duration": 39,
    "start_time": "2024-06-20T18:41:59.624Z"
   },
   {
    "duration": 27,
    "start_time": "2024-06-20T18:41:59.664Z"
   },
   {
    "duration": 18,
    "start_time": "2024-06-20T18:41:59.692Z"
   },
   {
    "duration": 6,
    "start_time": "2024-06-20T18:41:59.712Z"
   },
   {
    "duration": 8,
    "start_time": "2024-06-20T18:41:59.720Z"
   },
   {
    "duration": 6,
    "start_time": "2024-06-20T18:41:59.761Z"
   },
   {
    "duration": 11,
    "start_time": "2024-06-20T18:41:59.768Z"
   },
   {
    "duration": 15,
    "start_time": "2024-06-20T18:41:59.780Z"
   },
   {
    "duration": 9,
    "start_time": "2024-06-20T18:41:59.796Z"
   },
   {
    "duration": 1806,
    "start_time": "2024-06-20T18:41:59.810Z"
   },
   {
    "duration": 1045636,
    "start_time": "2024-06-20T18:42:01.618Z"
   },
   {
    "duration": 0,
    "start_time": "2024-06-20T18:59:27.257Z"
   },
   {
    "duration": 6,
    "start_time": "2024-06-20T19:00:20.864Z"
   },
   {
    "duration": 1213,
    "start_time": "2024-06-21T00:51:32.245Z"
   },
   {
    "duration": 75,
    "start_time": "2024-06-21T00:51:33.460Z"
   },
   {
    "duration": 5,
    "start_time": "2024-06-21T00:51:33.537Z"
   },
   {
    "duration": 359,
    "start_time": "2024-06-21T00:51:33.544Z"
   },
   {
    "duration": 425,
    "start_time": "2024-06-21T00:51:33.905Z"
   },
   {
    "duration": 425,
    "start_time": "2024-06-21T00:51:34.332Z"
   },
   {
    "duration": 25,
    "start_time": "2024-06-21T00:51:34.759Z"
   },
   {
    "duration": 9,
    "start_time": "2024-06-21T00:51:34.786Z"
   },
   {
    "duration": 7,
    "start_time": "2024-06-21T00:51:34.796Z"
   },
   {
    "duration": 7,
    "start_time": "2024-06-21T00:51:34.806Z"
   },
   {
    "duration": 45,
    "start_time": "2024-06-21T00:51:34.815Z"
   },
   {
    "duration": 8,
    "start_time": "2024-06-21T00:51:34.861Z"
   },
   {
    "duration": 28,
    "start_time": "2024-06-21T00:51:34.871Z"
   },
   {
    "duration": 38,
    "start_time": "2024-06-21T00:51:34.900Z"
   },
   {
    "duration": 17,
    "start_time": "2024-06-21T00:51:34.940Z"
   },
   {
    "duration": 172,
    "start_time": "2024-06-21T00:51:34.959Z"
   },
   {
    "duration": 29,
    "start_time": "2024-06-21T00:51:35.133Z"
   },
   {
    "duration": 150,
    "start_time": "2024-06-21T00:51:35.164Z"
   },
   {
    "duration": 178,
    "start_time": "2024-06-21T00:51:35.315Z"
   },
   {
    "duration": 8,
    "start_time": "2024-06-21T00:51:35.494Z"
   },
   {
    "duration": 204,
    "start_time": "2024-06-21T00:51:35.504Z"
   },
   {
    "duration": 8,
    "start_time": "2024-06-21T00:51:35.710Z"
   },
   {
    "duration": 293,
    "start_time": "2024-06-21T00:51:35.720Z"
   },
   {
    "duration": 9,
    "start_time": "2024-06-21T00:51:36.015Z"
   },
   {
    "duration": 21,
    "start_time": "2024-06-21T00:51:36.025Z"
   },
   {
    "duration": 20,
    "start_time": "2024-06-21T00:51:36.056Z"
   },
   {
    "duration": 22,
    "start_time": "2024-06-21T00:51:36.077Z"
   },
   {
    "duration": 20,
    "start_time": "2024-06-21T00:51:36.102Z"
   },
   {
    "duration": 53,
    "start_time": "2024-06-21T00:51:36.124Z"
   },
   {
    "duration": 308,
    "start_time": "2024-06-21T00:51:36.178Z"
   },
   {
    "duration": 321,
    "start_time": "2024-06-21T00:51:36.488Z"
   },
   {
    "duration": 45,
    "start_time": "2024-06-21T00:51:36.811Z"
   },
   {
    "duration": 26,
    "start_time": "2024-06-21T00:51:36.858Z"
   },
   {
    "duration": 18,
    "start_time": "2024-06-21T00:51:36.885Z"
   },
   {
    "duration": 24,
    "start_time": "2024-06-21T00:51:36.905Z"
   },
   {
    "duration": 6,
    "start_time": "2024-06-21T00:51:36.931Z"
   },
   {
    "duration": 17,
    "start_time": "2024-06-21T00:51:36.939Z"
   },
   {
    "duration": 6,
    "start_time": "2024-06-21T00:51:36.958Z"
   },
   {
    "duration": 13,
    "start_time": "2024-06-21T00:51:36.966Z"
   },
   {
    "duration": 9,
    "start_time": "2024-06-21T00:51:36.980Z"
   },
   {
    "duration": 1648,
    "start_time": "2024-06-21T00:51:36.990Z"
   },
   {
    "duration": 506407,
    "start_time": "2024-06-21T00:51:38.640Z"
   },
   {
    "duration": 0,
    "start_time": "2024-06-21T01:00:05.049Z"
   },
   {
    "duration": 0,
    "start_time": "2024-06-21T01:00:05.051Z"
   },
   {
    "duration": 0,
    "start_time": "2024-06-21T01:00:05.053Z"
   },
   {
    "duration": 7,
    "start_time": "2024-06-21T01:00:10.273Z"
   },
   {
    "duration": 11210,
    "start_time": "2024-06-21T01:04:30.423Z"
   },
   {
    "duration": 6,
    "start_time": "2024-06-21T01:07:45.587Z"
   },
   {
    "duration": 1185,
    "start_time": "2024-06-21T01:08:26.258Z"
   },
   {
    "duration": 78,
    "start_time": "2024-06-21T01:08:27.445Z"
   },
   {
    "duration": 4,
    "start_time": "2024-06-21T01:08:27.525Z"
   },
   {
    "duration": 325,
    "start_time": "2024-06-21T01:08:27.530Z"
   },
   {
    "duration": 407,
    "start_time": "2024-06-21T01:08:27.857Z"
   },
   {
    "duration": 419,
    "start_time": "2024-06-21T01:08:28.266Z"
   },
   {
    "duration": 27,
    "start_time": "2024-06-21T01:08:28.687Z"
   },
   {
    "duration": 8,
    "start_time": "2024-06-21T01:08:28.715Z"
   },
   {
    "duration": 30,
    "start_time": "2024-06-21T01:08:28.725Z"
   },
   {
    "duration": 7,
    "start_time": "2024-06-21T01:08:28.757Z"
   },
   {
    "duration": 8,
    "start_time": "2024-06-21T01:08:28.766Z"
   },
   {
    "duration": 8,
    "start_time": "2024-06-21T01:08:28.775Z"
   },
   {
    "duration": 7,
    "start_time": "2024-06-21T01:08:28.784Z"
   },
   {
    "duration": 68,
    "start_time": "2024-06-21T01:08:28.796Z"
   },
   {
    "duration": 18,
    "start_time": "2024-06-21T01:08:28.866Z"
   },
   {
    "duration": 170,
    "start_time": "2024-06-21T01:08:28.885Z"
   },
   {
    "duration": 16,
    "start_time": "2024-06-21T01:08:29.057Z"
   },
   {
    "duration": 149,
    "start_time": "2024-06-21T01:08:29.075Z"
   },
   {
    "duration": 176,
    "start_time": "2024-06-21T01:08:29.225Z"
   },
   {
    "duration": 8,
    "start_time": "2024-06-21T01:08:29.403Z"
   },
   {
    "duration": 215,
    "start_time": "2024-06-21T01:08:29.413Z"
   },
   {
    "duration": 9,
    "start_time": "2024-06-21T01:08:29.630Z"
   },
   {
    "duration": 299,
    "start_time": "2024-06-21T01:08:29.640Z"
   },
   {
    "duration": 19,
    "start_time": "2024-06-21T01:08:29.941Z"
   },
   {
    "duration": 5,
    "start_time": "2024-06-21T01:08:29.962Z"
   },
   {
    "duration": 20,
    "start_time": "2024-06-21T01:08:29.968Z"
   },
   {
    "duration": 20,
    "start_time": "2024-06-21T01:08:29.990Z"
   },
   {
    "duration": 55,
    "start_time": "2024-06-21T01:08:30.012Z"
   },
   {
    "duration": 19,
    "start_time": "2024-06-21T01:08:30.069Z"
   },
   {
    "duration": 324,
    "start_time": "2024-06-21T01:08:30.090Z"
   },
   {
    "duration": 306,
    "start_time": "2024-06-21T01:08:30.416Z"
   },
   {
    "duration": 36,
    "start_time": "2024-06-21T01:08:30.723Z"
   },
   {
    "duration": 64,
    "start_time": "2024-06-21T01:08:30.760Z"
   },
   {
    "duration": 31,
    "start_time": "2024-06-21T01:08:30.826Z"
   },
   {
    "duration": 15,
    "start_time": "2024-06-21T01:08:30.859Z"
   },
   {
    "duration": 79,
    "start_time": "2024-06-21T01:08:30.876Z"
   },
   {
    "duration": 50,
    "start_time": "2024-06-21T01:08:30.957Z"
   },
   {
    "duration": 32,
    "start_time": "2024-06-21T01:08:31.009Z"
   },
   {
    "duration": 39,
    "start_time": "2024-06-21T01:08:31.043Z"
   },
   {
    "duration": 69,
    "start_time": "2024-06-21T01:08:31.084Z"
   },
   {
    "duration": 1672,
    "start_time": "2024-06-21T01:08:31.157Z"
   },
   {
    "duration": 6537,
    "start_time": "2024-06-21T01:08:32.831Z"
   },
   {
    "duration": 0,
    "start_time": "2024-06-21T01:08:39.369Z"
   },
   {
    "duration": 62,
    "start_time": "2024-06-21T08:03:31.216Z"
   },
   {
    "duration": 44,
    "start_time": "2024-06-21T08:08:25.308Z"
   },
   {
    "duration": 8,
    "start_time": "2024-06-21T08:10:16.455Z"
   },
   {
    "duration": 7,
    "start_time": "2024-06-21T08:11:06.944Z"
   },
   {
    "duration": 1385,
    "start_time": "2024-06-21T08:11:26.133Z"
   },
   {
    "duration": 321,
    "start_time": "2024-06-21T08:11:27.520Z"
   },
   {
    "duration": 4,
    "start_time": "2024-06-21T08:11:27.843Z"
   },
   {
    "duration": 360,
    "start_time": "2024-06-21T08:11:27.849Z"
   },
   {
    "duration": 507,
    "start_time": "2024-06-21T08:11:28.212Z"
   },
   {
    "duration": 429,
    "start_time": "2024-06-21T08:11:28.721Z"
   },
   {
    "duration": 15,
    "start_time": "2024-06-21T08:11:29.156Z"
   },
   {
    "duration": 21,
    "start_time": "2024-06-21T08:11:29.173Z"
   },
   {
    "duration": 8,
    "start_time": "2024-06-21T08:11:29.196Z"
   },
   {
    "duration": 14,
    "start_time": "2024-06-21T08:11:29.206Z"
   },
   {
    "duration": 34,
    "start_time": "2024-06-21T08:11:29.223Z"
   },
   {
    "duration": 16,
    "start_time": "2024-06-21T08:11:29.260Z"
   },
   {
    "duration": 16,
    "start_time": "2024-06-21T08:11:29.278Z"
   },
   {
    "duration": 7,
    "start_time": "2024-06-21T08:11:29.298Z"
   },
   {
    "duration": 49,
    "start_time": "2024-06-21T08:11:29.307Z"
   },
   {
    "duration": 17,
    "start_time": "2024-06-21T08:11:29.358Z"
   },
   {
    "duration": 174,
    "start_time": "2024-06-21T08:11:29.376Z"
   },
   {
    "duration": 18,
    "start_time": "2024-06-21T08:11:29.554Z"
   },
   {
    "duration": 160,
    "start_time": "2024-06-21T08:11:29.574Z"
   },
   {
    "duration": 200,
    "start_time": "2024-06-21T08:11:29.736Z"
   },
   {
    "duration": 8,
    "start_time": "2024-06-21T08:11:29.956Z"
   },
   {
    "duration": 247,
    "start_time": "2024-06-21T08:11:29.966Z"
   },
   {
    "duration": 9,
    "start_time": "2024-06-21T08:11:30.215Z"
   },
   {
    "duration": 463,
    "start_time": "2024-06-21T08:11:30.225Z"
   },
   {
    "duration": 9,
    "start_time": "2024-06-21T08:11:30.689Z"
   },
   {
    "duration": 45,
    "start_time": "2024-06-21T08:11:30.699Z"
   },
   {
    "duration": 52,
    "start_time": "2024-06-21T08:11:30.746Z"
   },
   {
    "duration": 43,
    "start_time": "2024-06-21T08:11:30.800Z"
   },
   {
    "duration": 62,
    "start_time": "2024-06-21T08:11:30.845Z"
   },
   {
    "duration": 71,
    "start_time": "2024-06-21T08:11:30.909Z"
   },
   {
    "duration": 411,
    "start_time": "2024-06-21T08:11:30.982Z"
   },
   {
    "duration": 291,
    "start_time": "2024-06-21T08:11:31.395Z"
   },
   {
    "duration": 27,
    "start_time": "2024-06-21T08:11:31.688Z"
   },
   {
    "duration": 90,
    "start_time": "2024-06-21T08:11:31.717Z"
   },
   {
    "duration": 17,
    "start_time": "2024-06-21T08:11:31.809Z"
   },
   {
    "duration": 46,
    "start_time": "2024-06-21T08:11:31.827Z"
   },
   {
    "duration": 23,
    "start_time": "2024-06-21T08:11:31.875Z"
   },
   {
    "duration": 6,
    "start_time": "2024-06-21T08:11:31.900Z"
   },
   {
    "duration": 13,
    "start_time": "2024-06-21T08:11:31.908Z"
   },
   {
    "duration": 24,
    "start_time": "2024-06-21T08:11:31.923Z"
   },
   {
    "duration": 39,
    "start_time": "2024-06-21T08:11:31.952Z"
   },
   {
    "duration": 1532,
    "start_time": "2024-06-21T08:11:31.993Z"
   },
   {
    "duration": 8,
    "start_time": "2024-06-21T08:11:33.528Z"
   },
   {
    "duration": 65,
    "start_time": "2024-06-21T08:15:02.228Z"
   },
   {
    "duration": 147,
    "start_time": "2024-06-21T08:23:38.077Z"
   },
   {
    "duration": 129,
    "start_time": "2024-06-21T08:31:21.818Z"
   },
   {
    "duration": 54,
    "start_time": "2024-06-21T08:31:48.368Z"
   },
   {
    "duration": 68,
    "start_time": "2024-06-21T08:34:33.291Z"
   },
   {
    "duration": 76,
    "start_time": "2024-06-21T08:35:23.946Z"
   },
   {
    "duration": 217,
    "start_time": "2024-06-21T08:36:04.188Z"
   },
   {
    "duration": 77,
    "start_time": "2024-06-21T08:36:15.358Z"
   },
   {
    "duration": 206,
    "start_time": "2024-06-21T08:47:19.195Z"
   },
   {
    "duration": 182,
    "start_time": "2024-06-21T08:47:55.944Z"
   },
   {
    "duration": 199,
    "start_time": "2024-06-21T08:49:42.215Z"
   },
   {
    "duration": 317,
    "start_time": "2024-06-21T08:51:44.547Z"
   },
   {
    "duration": 294,
    "start_time": "2024-06-21T08:52:37.547Z"
   },
   {
    "duration": 24,
    "start_time": "2024-06-21T09:19:02.738Z"
   },
   {
    "duration": 8,
    "start_time": "2024-06-21T09:20:23.018Z"
   },
   {
    "duration": 21,
    "start_time": "2024-06-21T09:21:25.091Z"
   },
   {
    "duration": 1199,
    "start_time": "2024-06-21T09:56:32.721Z"
   },
   {
    "duration": 73,
    "start_time": "2024-06-21T09:56:33.922Z"
   },
   {
    "duration": 5,
    "start_time": "2024-06-21T09:56:33.996Z"
   },
   {
    "duration": 331,
    "start_time": "2024-06-21T09:56:34.003Z"
   },
   {
    "duration": 410,
    "start_time": "2024-06-21T09:56:34.336Z"
   },
   {
    "duration": 407,
    "start_time": "2024-06-21T09:56:34.748Z"
   },
   {
    "duration": 17,
    "start_time": "2024-06-21T09:56:35.157Z"
   },
   {
    "duration": 26,
    "start_time": "2024-06-21T09:56:35.176Z"
   },
   {
    "duration": 8,
    "start_time": "2024-06-21T09:56:35.203Z"
   },
   {
    "duration": 20,
    "start_time": "2024-06-21T09:56:35.214Z"
   },
   {
    "duration": 36,
    "start_time": "2024-06-21T09:56:35.236Z"
   },
   {
    "duration": 17,
    "start_time": "2024-06-21T09:56:35.273Z"
   },
   {
    "duration": 35,
    "start_time": "2024-06-21T09:56:35.292Z"
   },
   {
    "duration": 58,
    "start_time": "2024-06-21T09:56:35.329Z"
   },
   {
    "duration": 16,
    "start_time": "2024-06-21T09:56:35.389Z"
   },
   {
    "duration": 171,
    "start_time": "2024-06-21T09:56:35.406Z"
   },
   {
    "duration": 16,
    "start_time": "2024-06-21T09:56:35.579Z"
   },
   {
    "duration": 171,
    "start_time": "2024-06-21T09:56:35.597Z"
   },
   {
    "duration": 85,
    "start_time": "2024-06-21T09:56:35.770Z"
   },
   {
    "duration": 183,
    "start_time": "2024-06-21T09:56:35.857Z"
   },
   {
    "duration": 14,
    "start_time": "2024-06-21T09:56:36.042Z"
   },
   {
    "duration": 311,
    "start_time": "2024-06-21T09:56:36.057Z"
   },
   {
    "duration": 9,
    "start_time": "2024-06-21T09:56:36.369Z"
   },
   {
    "duration": 204,
    "start_time": "2024-06-21T09:56:36.379Z"
   },
   {
    "duration": 22,
    "start_time": "2024-06-21T09:56:36.585Z"
   },
   {
    "duration": 9,
    "start_time": "2024-06-21T09:56:36.609Z"
   },
   {
    "duration": 4,
    "start_time": "2024-06-21T09:56:36.620Z"
   },
   {
    "duration": 19,
    "start_time": "2024-06-21T09:56:36.656Z"
   },
   {
    "duration": 20,
    "start_time": "2024-06-21T09:56:36.677Z"
   },
   {
    "duration": 19,
    "start_time": "2024-06-21T09:56:36.698Z"
   },
   {
    "duration": 46,
    "start_time": "2024-06-21T09:56:36.719Z"
   },
   {
    "duration": 304,
    "start_time": "2024-06-21T09:56:36.767Z"
   },
   {
    "duration": 325,
    "start_time": "2024-06-21T09:56:37.073Z"
   },
   {
    "duration": 30,
    "start_time": "2024-06-21T09:56:37.400Z"
   },
   {
    "duration": 37,
    "start_time": "2024-06-21T09:56:37.431Z"
   },
   {
    "duration": 17,
    "start_time": "2024-06-21T09:56:37.469Z"
   },
   {
    "duration": 13,
    "start_time": "2024-06-21T09:56:37.488Z"
   },
   {
    "duration": 43,
    "start_time": "2024-06-21T09:56:37.503Z"
   },
   {
    "duration": 6,
    "start_time": "2024-06-21T09:56:37.547Z"
   },
   {
    "duration": 7,
    "start_time": "2024-06-21T09:56:37.554Z"
   },
   {
    "duration": 16,
    "start_time": "2024-06-21T09:56:37.562Z"
   },
   {
    "duration": 8,
    "start_time": "2024-06-21T09:56:37.580Z"
   },
   {
    "duration": 1619,
    "start_time": "2024-06-21T09:56:37.590Z"
   },
   {
    "duration": 6,
    "start_time": "2024-06-21T09:56:39.210Z"
   },
   {
    "duration": 6,
    "start_time": "2024-06-21T10:06:05.599Z"
   },
   {
    "duration": 71,
    "start_time": "2024-06-21T10:07:39.980Z"
   },
   {
    "duration": 108,
    "start_time": "2024-06-21T10:20:30.313Z"
   },
   {
    "duration": 6,
    "start_time": "2024-06-21T10:20:49.548Z"
   },
   {
    "duration": 5,
    "start_time": "2024-06-21T10:21:00.800Z"
   },
   {
    "duration": 6,
    "start_time": "2024-06-21T10:21:13.379Z"
   },
   {
    "duration": 54,
    "start_time": "2024-06-21T10:45:49.325Z"
   },
   {
    "duration": 56,
    "start_time": "2024-06-21T11:04:17.189Z"
   },
   {
    "duration": 1694,
    "start_time": "2024-06-21T11:10:03.091Z"
   },
   {
    "duration": 31,
    "start_time": "2024-06-21T11:19:52.025Z"
   },
   {
    "duration": 32,
    "start_time": "2024-06-21T11:20:58.123Z"
   },
   {
    "duration": 1128,
    "start_time": "2024-06-21T15:42:42.101Z"
   },
   {
    "duration": 70,
    "start_time": "2024-06-21T15:42:43.231Z"
   },
   {
    "duration": 5,
    "start_time": "2024-06-21T15:42:43.303Z"
   },
   {
    "duration": 422,
    "start_time": "2024-06-21T15:42:43.310Z"
   },
   {
    "duration": 464,
    "start_time": "2024-06-21T15:42:43.734Z"
   },
   {
    "duration": 420,
    "start_time": "2024-06-21T15:42:44.200Z"
   },
   {
    "duration": 24,
    "start_time": "2024-06-21T15:42:44.622Z"
   },
   {
    "duration": 84,
    "start_time": "2024-06-21T15:42:44.647Z"
   },
   {
    "duration": 24,
    "start_time": "2024-06-21T15:42:44.732Z"
   },
   {
    "duration": 66,
    "start_time": "2024-06-21T15:42:44.759Z"
   },
   {
    "duration": 109,
    "start_time": "2024-06-21T15:42:44.826Z"
   },
   {
    "duration": 14,
    "start_time": "2024-06-21T15:42:44.936Z"
   },
   {
    "duration": 7,
    "start_time": "2024-06-21T15:42:44.951Z"
   },
   {
    "duration": 25,
    "start_time": "2024-06-21T15:42:44.960Z"
   },
   {
    "duration": 16,
    "start_time": "2024-06-21T15:42:44.987Z"
   },
   {
    "duration": 210,
    "start_time": "2024-06-21T15:42:45.005Z"
   },
   {
    "duration": 16,
    "start_time": "2024-06-21T15:42:45.217Z"
   },
   {
    "duration": 185,
    "start_time": "2024-06-21T15:42:45.234Z"
   },
   {
    "duration": 85,
    "start_time": "2024-06-21T15:42:45.420Z"
   },
   {
    "duration": 184,
    "start_time": "2024-06-21T15:42:45.507Z"
   },
   {
    "duration": 8,
    "start_time": "2024-06-21T15:42:45.693Z"
   },
   {
    "duration": 318,
    "start_time": "2024-06-21T15:42:45.703Z"
   },
   {
    "duration": 9,
    "start_time": "2024-06-21T15:42:46.023Z"
   },
   {
    "duration": 205,
    "start_time": "2024-06-21T15:42:46.045Z"
   },
   {
    "duration": 22,
    "start_time": "2024-06-21T15:42:46.251Z"
   },
   {
    "duration": 36,
    "start_time": "2024-06-21T15:42:46.274Z"
   },
   {
    "duration": 32,
    "start_time": "2024-06-21T15:42:46.312Z"
   },
   {
    "duration": 45,
    "start_time": "2024-06-21T15:42:46.348Z"
   },
   {
    "duration": 28,
    "start_time": "2024-06-21T15:42:46.395Z"
   },
   {
    "duration": 56,
    "start_time": "2024-06-21T15:42:46.424Z"
   },
   {
    "duration": 19,
    "start_time": "2024-06-21T15:42:46.482Z"
   },
   {
    "duration": 310,
    "start_time": "2024-06-21T15:42:46.502Z"
   },
   {
    "duration": 310,
    "start_time": "2024-06-21T15:42:46.813Z"
   },
   {
    "duration": 38,
    "start_time": "2024-06-21T15:42:47.124Z"
   },
   {
    "duration": 23,
    "start_time": "2024-06-21T15:42:47.164Z"
   },
   {
    "duration": 22,
    "start_time": "2024-06-21T15:42:47.189Z"
   },
   {
    "duration": 8,
    "start_time": "2024-06-21T15:42:47.213Z"
   },
   {
    "duration": 35,
    "start_time": "2024-06-21T15:42:47.245Z"
   },
   {
    "duration": 18,
    "start_time": "2024-06-21T15:42:47.281Z"
   },
   {
    "duration": 13,
    "start_time": "2024-06-21T15:42:47.301Z"
   },
   {
    "duration": 35,
    "start_time": "2024-06-21T15:42:47.316Z"
   },
   {
    "duration": 45,
    "start_time": "2024-06-21T15:42:47.352Z"
   },
   {
    "duration": 1642,
    "start_time": "2024-06-21T15:42:47.399Z"
   },
   {
    "duration": 33,
    "start_time": "2024-06-21T15:42:49.042Z"
   },
   {
    "duration": 21,
    "start_time": "2024-06-21T15:42:49.077Z"
   },
   {
    "duration": 50,
    "start_time": "2024-06-21T16:11:42.357Z"
   },
   {
    "duration": 7,
    "start_time": "2024-06-21T16:12:02.551Z"
   }
  ],
  "kernelspec": {
   "display_name": "Python 3 (ipykernel)",
   "language": "python",
   "name": "python3"
  },
  "language_info": {
   "codemirror_mode": {
    "name": "ipython",
    "version": 3
   },
   "file_extension": ".py",
   "mimetype": "text/x-python",
   "name": "python",
   "nbconvert_exporter": "python",
   "pygments_lexer": "ipython3",
   "version": "3.11.7"
  },
  "toc": {
   "base_numbering": 1,
   "nav_menu": {},
   "number_sections": true,
   "sideBar": true,
   "skip_h1_title": true,
   "title_cell": "Table of Contents",
   "title_sidebar": "Contents",
   "toc_cell": false,
   "toc_position": {},
   "toc_section_display": true,
   "toc_window_display": false
  }
 },
 "nbformat": 4,
 "nbformat_minor": 5
}
