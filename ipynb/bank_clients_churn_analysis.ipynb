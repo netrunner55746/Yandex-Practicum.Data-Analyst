{
 "cells": [
  {
   "cell_type": "markdown",
   "metadata": {},
   "source": [
    "# Анализ оттока клиентов банка"
   ]
  },
  {
   "cell_type": "markdown",
   "metadata": {},
   "source": [
    "Маркетинговому отделу банка «Метанпром» необходима помощь в определении зон, требующих применения характерной стратегии, относительно клиентов: стратегия на удержание клиента, стратегия для повышения ltv, количества потребляемых продуктов банка и другие."
   ]
  },
  {
   "cell_type": "markdown",
   "metadata": {},
   "source": [
    "## Введение"
   ]
  },
  {
   "cell_type": "markdown",
   "metadata": {},
   "source": [
    "**Проект направлен** на выявление зон-признаков клиентов, склонных к прекращению сотрудничества с банком, и дальнейшую разработку рекомендаций по благоприятному воздействию на представителей каждой конкретной обозначенной зоны. "
   ]
  },
  {
   "cell_type": "markdown",
   "metadata": {},
   "source": [
    "**Задачи исследования**:\n",
    "\n",
    "* Провести исследовательский анализ данных (EDA) для выявления общих закономерностей и проблемных зон;\n",
    "* Проверить статистические гипотезы о влиянии заранее выявленных ключевых факторов на отток;\n",
    "* Провести сегментацию пользователей на основе стратегических показателей;\n",
    "* Сформулировать рекомендации по работе с выделенными сегментами."
   ]
  },
  {
   "cell_type": "markdown",
   "metadata": {},
   "source": [
    "**Описание исходных данных:**\n",
    "\n",
    "Данные о клиентах банка «Метанпром» содержатся в /datasets/bank_scrooge.csv.\n",
    "\n",
    "Структура bank_scrooge.csv:\n",
    "\n",
    "* *USERID* — идентификатор пользователя;\n",
    "* *score* — баллы кредитного скоринга;\n",
    "* *city* — город;\n",
    "* *gender* — пол;\n",
    "* *age* — возраст;\n",
    "* *equity* — количество баллов собственности;\n",
    "* *balance* — баланс на счёте;\n",
    "* *products* — количество продуктов, которыми пользуется клиент;\n",
    "* *credit_card* — есть ли кредитная карта;\n",
    "* *last_activity* — наличие активности за последние 3 месяца;\n",
    "* *EST_SALARY* — оценочный доход клиента;\n",
    "* *сhurn* — признак оттока/наличие желания прекратить сотрудничество с банком."
   ]
  },
  {
   "cell_type": "markdown",
   "metadata": {},
   "source": [
    "**Исследование пройдет в 5 основных этапов:**\n",
    "\n",
    " * Обзор исходных данных;\n",
    " * Предобработка исходных данных;\n",
    " * Исследовательский анализ;\n",
    " * Проверка гипотез;\n",
    " * Сегментация клиентов банка."
   ]
  },
  {
   "cell_type": "markdown",
   "metadata": {},
   "source": [
    "<a id='Содержание'></a>\n",
    "## Содержание"
   ]
  },
  {
   "cell_type": "markdown",
   "metadata": {},
   "source": [
    "1. [Обзор исходных данных](#Обзор-исходных-данных)\n",
    "2. [Предобработка данных](#Предобработка-данных)\n",
    "3. [Исследовательский анализ данных](#Исследовательский-анализ-данных)\n",
    "    * [Формирование портретов клиентов, склонных к прекращению сотрудничества и лояльных, и их сравнение](#Портреты-клиентов)\n",
    "    * [Анализ распределения непрерывных показателей, включая отдельный анализ по разрезу клиентов, склонных к оттоку](#Анализ-непрерывного-распределения)\n",
    "    * [Анализ распределения по категориям/категориальным значениям](#Анализ-категориального-распределения)\n",
    "    * [Корреляционный анализ](#Корреляционный-анализ)\n",
    "4. [Проверка статистических гипотез](#Проверка-статистических-гипотез)\n",
    "    * [Доход клиентов значимо отличается у лояльных клиентов и склонных к прекращению сотрудничества](#Гипотеза-1)\n",
    "    * [Клиенты, пользующиеся 1 продуктом, младше клиентов, использующих 2 и более продуктов банка](#Гипотеза-2)\n",
    "5. [Сегментация пользователей](#Сегментация-пользователей)\n",
    "    * [Разделение клиентов по высокоотточным признакам](#Разделение-клиентов)\n",
    "    * [Приоритизация сегментов](#Приоритизация-сегментов)\n",
    "6. [Общий вывод](#Общий-вывод)\n",
    "7. [Презентация](#Презентация)"
   ]
  },
  {
   "cell_type": "markdown",
   "metadata": {},
   "source": [
    "<a id='Обзор-исходных-данных'></a>\n",
    "## 1 Обзор исходных данных"
   ]
  },
  {
   "cell_type": "code",
   "execution_count": 1,
   "metadata": {},
   "outputs": [],
   "source": [
    "%%capture\n",
    "!pip install missingno\n",
    "!pip install phik\n",
    "\n",
    "#импортируем необходимые для проекта библиотеки\n",
    "#основные либы для исследования и визуализации\n",
    "import pandas as pd\n",
    "import numpy as np\n",
    "import matplotlib.pyplot as plt\n",
    "import seaborn as sns\n",
    "import missingno as msno\n",
    "\n",
    "#для кодирования признаков, выделения взаимосвязей между ними и комплексного заполнения пропусков\n",
    "import phik\n",
    "from phik.report import plot_correlation_matrix #для выявления взаимосвязей между признаками\n",
    "from sklearn.preprocessing import StandardScaler #для нормализации числовых и закодированных признаков по отклонению от среднего\n",
    "from sklearn.experimental import enable_iterative_imputer #для заполнения пропусков\n",
    "from sklearn.impute import IterativeImputer\n",
    "\n",
    "#для проверки гипотез\n",
    "from scipy import stats as st\n",
    "from statsmodels.stats.proportion import proportions_ztest\n",
    "\n",
    "#отключим неинформативные предупреждения для выполняемых блоков тетрадки\n",
    "import warnings\n",
    "warnings.filterwarnings(\"ignore\")"
   ]
  },
  {
   "cell_type": "code",
   "execution_count": 2,
   "metadata": {},
   "outputs": [],
   "source": [
    "#объявим переменную с дф датасета \n",
    "customers_info = pd.read_csv('/datasets/bank_scrooge.csv')"
   ]
  },
  {
   "cell_type": "code",
   "execution_count": 3,
   "metadata": {},
   "outputs": [
    {
     "data": {
      "text/html": [
       "<div>\n",
       "<style scoped>\n",
       "    .dataframe tbody tr th:only-of-type {\n",
       "        vertical-align: middle;\n",
       "    }\n",
       "\n",
       "    .dataframe tbody tr th {\n",
       "        vertical-align: top;\n",
       "    }\n",
       "\n",
       "    .dataframe thead th {\n",
       "        text-align: right;\n",
       "    }\n",
       "</style>\n",
       "<table border=\"1\" class=\"dataframe\">\n",
       "  <thead>\n",
       "    <tr style=\"text-align: right;\">\n",
       "      <th></th>\n",
       "      <th>USERID</th>\n",
       "      <th>score</th>\n",
       "      <th>city</th>\n",
       "      <th>gender</th>\n",
       "      <th>age</th>\n",
       "      <th>equity</th>\n",
       "      <th>balance</th>\n",
       "      <th>products</th>\n",
       "      <th>credit_card</th>\n",
       "      <th>last_activity</th>\n",
       "      <th>EST_SALARY</th>\n",
       "      <th>churn</th>\n",
       "    </tr>\n",
       "  </thead>\n",
       "  <tbody>\n",
       "    <tr>\n",
       "      <th>0</th>\n",
       "      <td>183012</td>\n",
       "      <td>850.0</td>\n",
       "      <td>Рыбинск</td>\n",
       "      <td>Ж</td>\n",
       "      <td>25.0</td>\n",
       "      <td>1</td>\n",
       "      <td>59214.82</td>\n",
       "      <td>2</td>\n",
       "      <td>0</td>\n",
       "      <td>1</td>\n",
       "      <td>75719.14</td>\n",
       "      <td>1</td>\n",
       "    </tr>\n",
       "    <tr>\n",
       "      <th>1</th>\n",
       "      <td>146556</td>\n",
       "      <td>861.0</td>\n",
       "      <td>Рыбинск</td>\n",
       "      <td>Ж</td>\n",
       "      <td>37.0</td>\n",
       "      <td>5</td>\n",
       "      <td>850594.33</td>\n",
       "      <td>3</td>\n",
       "      <td>1</td>\n",
       "      <td>0</td>\n",
       "      <td>86621.77</td>\n",
       "      <td>0</td>\n",
       "    </tr>\n",
       "    <tr>\n",
       "      <th>2</th>\n",
       "      <td>120722</td>\n",
       "      <td>892.0</td>\n",
       "      <td>Рыбинск</td>\n",
       "      <td>Ж</td>\n",
       "      <td>30.0</td>\n",
       "      <td>0</td>\n",
       "      <td>NaN</td>\n",
       "      <td>1</td>\n",
       "      <td>1</td>\n",
       "      <td>1</td>\n",
       "      <td>107683.34</td>\n",
       "      <td>0</td>\n",
       "    </tr>\n",
       "    <tr>\n",
       "      <th>3</th>\n",
       "      <td>225363</td>\n",
       "      <td>866.0</td>\n",
       "      <td>Ярославль</td>\n",
       "      <td>Ж</td>\n",
       "      <td>51.0</td>\n",
       "      <td>5</td>\n",
       "      <td>1524746.26</td>\n",
       "      <td>2</td>\n",
       "      <td>0</td>\n",
       "      <td>1</td>\n",
       "      <td>174423.53</td>\n",
       "      <td>1</td>\n",
       "    </tr>\n",
       "    <tr>\n",
       "      <th>4</th>\n",
       "      <td>157978</td>\n",
       "      <td>730.0</td>\n",
       "      <td>Ярославль</td>\n",
       "      <td>М</td>\n",
       "      <td>34.0</td>\n",
       "      <td>5</td>\n",
       "      <td>174.00</td>\n",
       "      <td>1</td>\n",
       "      <td>1</td>\n",
       "      <td>0</td>\n",
       "      <td>67353.16</td>\n",
       "      <td>1</td>\n",
       "    </tr>\n",
       "  </tbody>\n",
       "</table>\n",
       "</div>"
      ],
      "text/plain": [
       "   USERID  score       city gender   age  equity     balance  products  \\\n",
       "0  183012  850.0    Рыбинск      Ж  25.0       1    59214.82         2   \n",
       "1  146556  861.0    Рыбинск      Ж  37.0       5   850594.33         3   \n",
       "2  120722  892.0    Рыбинск      Ж  30.0       0         NaN         1   \n",
       "3  225363  866.0  Ярославль      Ж  51.0       5  1524746.26         2   \n",
       "4  157978  730.0  Ярославль      М  34.0       5      174.00         1   \n",
       "\n",
       "   credit_card  last_activity  EST_SALARY  churn  \n",
       "0            0              1    75719.14      1  \n",
       "1            1              0    86621.77      0  \n",
       "2            1              1   107683.34      0  \n",
       "3            0              1   174423.53      1  \n",
       "4            1              0    67353.16      1  "
      ]
     },
     "metadata": {},
     "output_type": "display_data"
    },
    {
     "name": "stdout",
     "output_type": "stream",
     "text": [
      "<class 'pandas.core.frame.DataFrame'>\n",
      "RangeIndex: 10000 entries, 0 to 9999\n",
      "Data columns (total 12 columns):\n",
      " #   Column         Non-Null Count  Dtype  \n",
      "---  ------         --------------  -----  \n",
      " 0   USERID         10000 non-null  int64  \n",
      " 1   score          10000 non-null  float64\n",
      " 2   city           10000 non-null  object \n",
      " 3   gender         10000 non-null  object \n",
      " 4   age            9974 non-null   float64\n",
      " 5   equity         10000 non-null  int64  \n",
      " 6   balance        7705 non-null   float64\n",
      " 7   products       10000 non-null  int64  \n",
      " 8   credit_card    10000 non-null  int64  \n",
      " 9   last_activity  10000 non-null  int64  \n",
      " 10  EST_SALARY     10000 non-null  float64\n",
      " 11  churn          10000 non-null  int64  \n",
      "dtypes: float64(4), int64(6), object(2)\n",
      "memory usage: 937.6+ KB\n"
     ]
    },
    {
     "data": {
      "image/png": "[encoded data removed]",
      "text/plain": [
       "<Figure size 1080x360 with 12 Axes>"
      ]
     },
     "metadata": {
      "needs_background": "light"
     },
     "output_type": "display_data"
    }
   ],
   "source": [
    "#выведем информацию по дф \n",
    "display(customers_info.head())\n",
    "customers_info.info()\n",
    "customers_info.hist(figsize=(15, 5))\n",
    "plt.tight_layout()\n",
    "plt.show()"
   ]
  },
  {
   "cell_type": "markdown",
   "metadata": {},
   "source": [
    "Видим, что в наших данных имеются пропуски в столбцах *age* и *balance*, аномально высокие значения в *balance* и *EST_SALARY* (тут также есть аномально низкие значения, однако столбец представляет собой справочные данные, поэтому вмешательство не требуется), а также нулевые значения в *products* (согласно документации в наших данных только клиенты с 1 и более продуктами), кроме этого есть необходимость приведения названий столбцов к нижнему регистру и смены типа данных столбца *age* с float на int.\n",
    "\n",
    "Смена на целочисленный тип может понадобиться и в столбце *score*, проверим, есть ли там дробные значения:"
   ]
  },
  {
   "cell_type": "code",
   "execution_count": 4,
   "metadata": {},
   "outputs": [
    {
     "data": {
      "text/plain": [
       "False"
      ]
     },
     "execution_count": 4,
     "metadata": {},
     "output_type": "execute_result"
    }
   ],
   "source": [
    "#логически индексируем дробные значения в столбце, затем выводим True, если есть хотя бы одно True (хотя бы одно дробное)\n",
    "(customers_info['score'] % 1 != 0).any()"
   ]
  },
  {
   "cell_type": "markdown",
   "metadata": {},
   "source": [
    "Дробных значений в столбце нет, значит так же сменим тип на int. "
   ]
  },
  {
   "cell_type": "markdown",
   "metadata": {},
   "source": [
    "Детальнее взглянем на пропуски:"
   ]
  },
  {
   "cell_type": "code",
   "execution_count": 5,
   "metadata": {},
   "outputs": [
    {
     "data": {
      "image/png": "[encoded data removed]",
      "text/plain": [
       "<Figure size 720x432 with 3 Axes>"
      ]
     },
     "metadata": {
      "needs_background": "light"
     },
     "output_type": "display_data"
    }
   ],
   "source": [
    "#визуализируем пропуски относительно всех данных\n",
    "\n",
    "msno.bar(customers_info, figsize=(10, 6))\n",
    "plt.show()"
   ]
  },
  {
   "cell_type": "code",
   "execution_count": 6,
   "metadata": {},
   "outputs": [
    {
     "data": {
      "text/html": [
       "<div>\n",
       "<style scoped>\n",
       "    .dataframe tbody tr th:only-of-type {\n",
       "        vertical-align: middle;\n",
       "    }\n",
       "\n",
       "    .dataframe tbody tr th {\n",
       "        vertical-align: top;\n",
       "    }\n",
       "\n",
       "    .dataframe thead th {\n",
       "        text-align: right;\n",
       "    }\n",
       "</style>\n",
       "<table border=\"1\" class=\"dataframe\">\n",
       "  <thead>\n",
       "    <tr style=\"text-align: right;\">\n",
       "      <th></th>\n",
       "      <th>Missing Count</th>\n",
       "      <th>Part, %</th>\n",
       "    </tr>\n",
       "  </thead>\n",
       "  <tbody>\n",
       "    <tr>\n",
       "      <th>balance</th>\n",
       "      <td>2295</td>\n",
       "      <td>22.95</td>\n",
       "    </tr>\n",
       "    <tr>\n",
       "      <th>age</th>\n",
       "      <td>26</td>\n",
       "      <td>0.26</td>\n",
       "    </tr>\n",
       "  </tbody>\n",
       "</table>\n",
       "</div>"
      ],
      "text/plain": [
       "         Missing Count  Part, %\n",
       "balance           2295    22.95\n",
       "age                 26     0.26"
      ]
     },
     "execution_count": 6,
     "metadata": {},
     "output_type": "execute_result"
    }
   ],
   "source": [
    "#Выведем абсолютное количество и долю пропусков таблицей\n",
    "pd.DataFrame({\n",
    "    'Missing Count': customers_info[['balance', 'age']].isnull().sum(),\n",
    "    'Part, %': customers_info[['balance', 'age']].isnull().mean() * 100})"
   ]
  },
  {
   "cell_type": "markdown",
   "metadata": {},
   "source": [
    "Попытаемся больше узнать о природе пропусков и определим их тип для дальнейшей обработки:"
   ]
  },
  {
   "cell_type": "code",
   "execution_count": 7,
   "metadata": {},
   "outputs": [
    {
     "data": {
      "image/png": "[encoded data removed]",
      "text/plain": [
       "<Figure size 720x432 with 2 Axes>"
      ]
     },
     "metadata": {
      "needs_background": "light"
     },
     "output_type": "display_data"
    }
   ],
   "source": [
    "msno.heatmap(customers_info, figsize=(10, 6))\n",
    "plt.show()"
   ]
  },
  {
   "cell_type": "markdown",
   "metadata": {},
   "source": [
    "Между собой пропуски предварительно никак не связаны.\n",
    "Поищем связь с другими столбцами датафрейма:"
   ]
  },
  {
   "cell_type": "code",
   "execution_count": 8,
   "metadata": {},
   "outputs": [
    {
     "data": {
      "image/png": "[encoded data removed]",
      "text/plain": [
       "<Figure size 720x432 with 2 Axes>"
      ]
     },
     "metadata": {
      "needs_background": "light"
     },
     "output_type": "display_data"
    }
   ],
   "source": [
    "#считать корреляцию будем с помощью phi_k, т.к. это универсальный способ выявить взаимосвязь с разными типами значений,\n",
    "#который, к тому же, учитывает не только прямую корреляцию\n",
    "\n",
    "#создадим индикаторы пропусков, чтобы считать только их корреляцию \n",
    "customers_info['missing_balance'] = customers_info['balance'].isna().astype(int)\n",
    "customers_info['missing_age'] = customers_info['age'].isna().astype(int)\n",
    "\n",
    "#формирование матрицы ФИк с указанием числовых столбцов \n",
    "phik_missing_matrix = (customers_info[customers_info.columns.difference(['balance', 'age'])]\n",
    "                       .phik_matrix(interval_cols=['score', 'EST_SALARY'])\n",
    "                       .loc[['missing_balance', 'missing_age'], customers_info.columns.difference(['balance', 'age'])])\n",
    "\n",
    "#визуализация с преобразованием матрицы в массив на входе, метки берем с оригинальной матрицы\n",
    "plot_correlation_matrix(phik_missing_matrix.to_numpy(), \n",
    "                        x_labels=phik_missing_matrix.columns.to_list(), \n",
    "                        y_labels=phik_missing_matrix.index.to_list(),\n",
    "                        title='Корреляция пропусков с признаками',\n",
    "                        figsize=(10, 6))"
   ]
  },
  {
   "cell_type": "markdown",
   "metadata": {},
   "source": [
    "Таким образом, пропуски в графе \"возраст\" относятся к группе MCAR и не оказывают влияние на другие показатели и немногочислены - их можно заполнить значениями центральной тенденции без потери качества данных. \n",
    "\n",
    "Сложнее с пропусками в графе \"баланс\" группы MNAR, так как это многочисленная группа значений, которая взаимосвязана с другими данными, необходимо будет использовать более комплексный подход к их заполнению. "
   ]
  },
  {
   "cell_type": "markdown",
   "metadata": {},
   "source": [
    "Проверим уникальные категориальные значения в датафрейме:"
   ]
  },
  {
   "cell_type": "code",
   "execution_count": 9,
   "metadata": {},
   "outputs": [
    {
     "data": {
      "text/plain": [
       "'equity'"
      ]
     },
     "metadata": {},
     "output_type": "display_data"
    },
    {
     "data": {
      "text/plain": [
       "array([1, 5, 0, 4, 3, 2, 6, 7, 8, 9])"
      ]
     },
     "metadata": {},
     "output_type": "display_data"
    },
    {
     "data": {
      "text/plain": [
       "'city'"
      ]
     },
     "metadata": {},
     "output_type": "display_data"
    },
    {
     "data": {
      "text/plain": [
       "array(['Рыбинск', 'Ярославль', 'Ростов'], dtype=object)"
      ]
     },
     "metadata": {},
     "output_type": "display_data"
    },
    {
     "data": {
      "text/plain": [
       "'gender'"
      ]
     },
     "metadata": {},
     "output_type": "display_data"
    },
    {
     "data": {
      "text/plain": [
       "array(['Ж', 'М'], dtype=object)"
      ]
     },
     "metadata": {},
     "output_type": "display_data"
    },
    {
     "data": {
      "text/plain": [
       "'products'"
      ]
     },
     "metadata": {},
     "output_type": "display_data"
    },
    {
     "data": {
      "text/plain": [
       "array([2, 3, 1, 4, 5, 0])"
      ]
     },
     "metadata": {},
     "output_type": "display_data"
    },
    {
     "data": {
      "text/plain": [
       "'credit_card'"
      ]
     },
     "metadata": {},
     "output_type": "display_data"
    },
    {
     "data": {
      "text/plain": [
       "array([0, 1])"
      ]
     },
     "metadata": {},
     "output_type": "display_data"
    },
    {
     "data": {
      "text/plain": [
       "'last_activity'"
      ]
     },
     "metadata": {},
     "output_type": "display_data"
    },
    {
     "data": {
      "text/plain": [
       "array([1, 0])"
      ]
     },
     "metadata": {},
     "output_type": "display_data"
    },
    {
     "data": {
      "text/plain": [
       "'churn'"
      ]
     },
     "metadata": {},
     "output_type": "display_data"
    },
    {
     "data": {
      "text/plain": [
       "array([1, 0])"
      ]
     },
     "metadata": {},
     "output_type": "display_data"
    }
   ],
   "source": [
    "for i in ['equity', 'city', 'gender', 'products', 'credit_card', 'last_activity', 'churn']:\n",
    "    display(i, customers_info[i].unique())"
   ]
  },
  {
   "cell_type": "markdown",
   "metadata": {},
   "source": [
    "Уникальные категориальные значения в норме."
   ]
  },
  {
   "cell_type": "markdown",
   "metadata": {},
   "source": [
    "Проверим данные на дубликаты:"
   ]
  },
  {
   "cell_type": "code",
   "execution_count": 10,
   "metadata": {},
   "outputs": [
    {
     "data": {
      "text/plain": [
       "0"
      ]
     },
     "execution_count": 10,
     "metadata": {},
     "output_type": "execute_result"
    }
   ],
   "source": [
    "customers_info.duplicated(keep=False).sum()"
   ]
  },
  {
   "cell_type": "markdown",
   "metadata": {},
   "source": [
    "Полных дубликатов нет, посмотрим на дубликаты в *USERID*:"
   ]
  },
  {
   "cell_type": "code",
   "execution_count": 11,
   "metadata": {},
   "outputs": [
    {
     "data": {
      "text/html": [
       "<div>\n",
       "<style scoped>\n",
       "    .dataframe tbody tr th:only-of-type {\n",
       "        vertical-align: middle;\n",
       "    }\n",
       "\n",
       "    .dataframe tbody tr th {\n",
       "        vertical-align: top;\n",
       "    }\n",
       "\n",
       "    .dataframe thead th {\n",
       "        text-align: right;\n",
       "    }\n",
       "</style>\n",
       "<table border=\"1\" class=\"dataframe\">\n",
       "  <thead>\n",
       "    <tr style=\"text-align: right;\">\n",
       "      <th></th>\n",
       "      <th>USERID</th>\n",
       "      <th>score</th>\n",
       "      <th>city</th>\n",
       "      <th>gender</th>\n",
       "      <th>age</th>\n",
       "      <th>equity</th>\n",
       "      <th>balance</th>\n",
       "      <th>products</th>\n",
       "      <th>credit_card</th>\n",
       "      <th>last_activity</th>\n",
       "      <th>EST_SALARY</th>\n",
       "      <th>churn</th>\n",
       "      <th>missing_balance</th>\n",
       "      <th>missing_age</th>\n",
       "    </tr>\n",
       "  </thead>\n",
       "  <tbody>\n",
       "    <tr>\n",
       "      <th>1893</th>\n",
       "      <td>116540</td>\n",
       "      <td>883.0</td>\n",
       "      <td>Рыбинск</td>\n",
       "      <td>Ж</td>\n",
       "      <td>55.0</td>\n",
       "      <td>1</td>\n",
       "      <td>362756.49</td>\n",
       "      <td>3</td>\n",
       "      <td>0</td>\n",
       "      <td>1</td>\n",
       "      <td>175920.48</td>\n",
       "      <td>1</td>\n",
       "      <td>0</td>\n",
       "      <td>0</td>\n",
       "    </tr>\n",
       "    <tr>\n",
       "      <th>7694</th>\n",
       "      <td>116540</td>\n",
       "      <td>887.0</td>\n",
       "      <td>Ярославль</td>\n",
       "      <td>Ж</td>\n",
       "      <td>38.0</td>\n",
       "      <td>0</td>\n",
       "      <td>NaN</td>\n",
       "      <td>1</td>\n",
       "      <td>0</td>\n",
       "      <td>1</td>\n",
       "      <td>119247.61</td>\n",
       "      <td>0</td>\n",
       "      <td>1</td>\n",
       "      <td>0</td>\n",
       "    </tr>\n",
       "    <tr>\n",
       "      <th>7542</th>\n",
       "      <td>117943</td>\n",
       "      <td>880.0</td>\n",
       "      <td>Ярославль</td>\n",
       "      <td>Ж</td>\n",
       "      <td>40.0</td>\n",
       "      <td>0</td>\n",
       "      <td>NaN</td>\n",
       "      <td>1</td>\n",
       "      <td>1</td>\n",
       "      <td>0</td>\n",
       "      <td>137718.93</td>\n",
       "      <td>0</td>\n",
       "      <td>1</td>\n",
       "      <td>0</td>\n",
       "    </tr>\n",
       "    <tr>\n",
       "      <th>4866</th>\n",
       "      <td>117943</td>\n",
       "      <td>855.0</td>\n",
       "      <td>Рыбинск</td>\n",
       "      <td>Ж</td>\n",
       "      <td>32.0</td>\n",
       "      <td>6</td>\n",
       "      <td>1036832.93</td>\n",
       "      <td>4</td>\n",
       "      <td>1</td>\n",
       "      <td>1</td>\n",
       "      <td>107792.71</td>\n",
       "      <td>1</td>\n",
       "      <td>0</td>\n",
       "      <td>0</td>\n",
       "    </tr>\n",
       "    <tr>\n",
       "      <th>5896</th>\n",
       "      <td>120258</td>\n",
       "      <td>905.0</td>\n",
       "      <td>Ярославль</td>\n",
       "      <td>М</td>\n",
       "      <td>30.0</td>\n",
       "      <td>0</td>\n",
       "      <td>NaN</td>\n",
       "      <td>1</td>\n",
       "      <td>1</td>\n",
       "      <td>1</td>\n",
       "      <td>146427.96</td>\n",
       "      <td>0</td>\n",
       "      <td>1</td>\n",
       "      <td>0</td>\n",
       "    </tr>\n",
       "    <tr>\n",
       "      <th>...</th>\n",
       "      <td>...</td>\n",
       "      <td>...</td>\n",
       "      <td>...</td>\n",
       "      <td>...</td>\n",
       "      <td>...</td>\n",
       "      <td>...</td>\n",
       "      <td>...</td>\n",
       "      <td>...</td>\n",
       "      <td>...</td>\n",
       "      <td>...</td>\n",
       "      <td>...</td>\n",
       "      <td>...</td>\n",
       "      <td>...</td>\n",
       "      <td>...</td>\n",
       "    </tr>\n",
       "    <tr>\n",
       "      <th>2597</th>\n",
       "      <td>226719</td>\n",
       "      <td>990.0</td>\n",
       "      <td>Ярославль</td>\n",
       "      <td>М</td>\n",
       "      <td>37.0</td>\n",
       "      <td>4</td>\n",
       "      <td>14648692.14</td>\n",
       "      <td>2</td>\n",
       "      <td>0</td>\n",
       "      <td>0</td>\n",
       "      <td>934412.61</td>\n",
       "      <td>1</td>\n",
       "      <td>0</td>\n",
       "      <td>0</td>\n",
       "    </tr>\n",
       "    <tr>\n",
       "      <th>8205</th>\n",
       "      <td>227795</td>\n",
       "      <td>840.0</td>\n",
       "      <td>Рыбинск</td>\n",
       "      <td>М</td>\n",
       "      <td>34.0</td>\n",
       "      <td>2</td>\n",
       "      <td>350768.03</td>\n",
       "      <td>1</td>\n",
       "      <td>1</td>\n",
       "      <td>0</td>\n",
       "      <td>102036.14</td>\n",
       "      <td>1</td>\n",
       "      <td>0</td>\n",
       "      <td>0</td>\n",
       "    </tr>\n",
       "    <tr>\n",
       "      <th>8497</th>\n",
       "      <td>227795</td>\n",
       "      <td>839.0</td>\n",
       "      <td>Ярославль</td>\n",
       "      <td>М</td>\n",
       "      <td>34.0</td>\n",
       "      <td>2</td>\n",
       "      <td>326593.14</td>\n",
       "      <td>2</td>\n",
       "      <td>1</td>\n",
       "      <td>0</td>\n",
       "      <td>103314.92</td>\n",
       "      <td>0</td>\n",
       "      <td>0</td>\n",
       "      <td>0</td>\n",
       "    </tr>\n",
       "    <tr>\n",
       "      <th>6457</th>\n",
       "      <td>228075</td>\n",
       "      <td>839.0</td>\n",
       "      <td>Рыбинск</td>\n",
       "      <td>М</td>\n",
       "      <td>39.0</td>\n",
       "      <td>5</td>\n",
       "      <td>507199.85</td>\n",
       "      <td>3</td>\n",
       "      <td>0</td>\n",
       "      <td>1</td>\n",
       "      <td>85195.80</td>\n",
       "      <td>0</td>\n",
       "      <td>0</td>\n",
       "      <td>0</td>\n",
       "    </tr>\n",
       "    <tr>\n",
       "      <th>1247</th>\n",
       "      <td>228075</td>\n",
       "      <td>932.0</td>\n",
       "      <td>Ярославль</td>\n",
       "      <td>М</td>\n",
       "      <td>NaN</td>\n",
       "      <td>5</td>\n",
       "      <td>7601719.20</td>\n",
       "      <td>2</td>\n",
       "      <td>1</td>\n",
       "      <td>1</td>\n",
       "      <td>408121.16</td>\n",
       "      <td>0</td>\n",
       "      <td>0</td>\n",
       "      <td>1</td>\n",
       "    </tr>\n",
       "  </tbody>\n",
       "</table>\n",
       "<p>146 rows × 14 columns</p>\n",
       "</div>"
      ],
      "text/plain": [
       "      USERID  score       city gender   age  equity      balance  products  \\\n",
       "1893  116540  883.0    Рыбинск      Ж  55.0       1    362756.49         3   \n",
       "7694  116540  887.0  Ярославль      Ж  38.0       0          NaN         1   \n",
       "7542  117943  880.0  Ярославль      Ж  40.0       0          NaN         1   \n",
       "4866  117943  855.0    Рыбинск      Ж  32.0       6   1036832.93         4   \n",
       "5896  120258  905.0  Ярославль      М  30.0       0          NaN         1   \n",
       "...      ...    ...        ...    ...   ...     ...          ...       ...   \n",
       "2597  226719  990.0  Ярославль      М  37.0       4  14648692.14         2   \n",
       "8205  227795  840.0    Рыбинск      М  34.0       2    350768.03         1   \n",
       "8497  227795  839.0  Ярославль      М  34.0       2    326593.14         2   \n",
       "6457  228075  839.0    Рыбинск      М  39.0       5    507199.85         3   \n",
       "1247  228075  932.0  Ярославль      М   NaN       5   7601719.20         2   \n",
       "\n",
       "      credit_card  last_activity  EST_SALARY  churn  missing_balance  \\\n",
       "1893            0              1   175920.48      1                0   \n",
       "7694            0              1   119247.61      0                1   \n",
       "7542            1              0   137718.93      0                1   \n",
       "4866            1              1   107792.71      1                0   \n",
       "5896            1              1   146427.96      0                1   \n",
       "...           ...            ...         ...    ...              ...   \n",
       "2597            0              0   934412.61      1                0   \n",
       "8205            1              0   102036.14      1                0   \n",
       "8497            1              0   103314.92      0                0   \n",
       "6457            0              1    85195.80      0                0   \n",
       "1247            1              1   408121.16      0                0   \n",
       "\n",
       "      missing_age  \n",
       "1893            0  \n",
       "7694            0  \n",
       "7542            0  \n",
       "4866            0  \n",
       "5896            0  \n",
       "...           ...  \n",
       "2597            0  \n",
       "8205            0  \n",
       "8497            0  \n",
       "6457            0  \n",
       "1247            1  \n",
       "\n",
       "[146 rows x 14 columns]"
      ]
     },
     "execution_count": 11,
     "metadata": {},
     "output_type": "execute_result"
    }
   ],
   "source": [
    "customers_info[customers_info.duplicated(subset='USERID', keep=False)].sort_values(by='USERID')"
   ]
  },
  {
   "cell_type": "markdown",
   "metadata": {},
   "source": [
    "Найдено 146 дубликатов по *USERID*."
   ]
  },
  {
   "cell_type": "markdown",
   "metadata": {},
   "source": [
    "**Вывод:**\n",
    "\n",
    "Мы провели первичный обзор данных, наблюдения для дальнейшей обработки:\n",
    "\n",
    "* Имеются пропуски в столбцах *age* (26, 0.26%), которые относятся к группе MCAR и не имеют сильной корреляции с другими показателями - необходимо заполнение центральной тенденцией по столбцу, и *balance* (2295, 22.95%), которые относятся к группе MNAR, многочисленны и имеют взаимосвязь с другими показателями - необходимо комплексное заполнение пропусков;\n",
    "\n",
    "* Присутствуют аномально высокие значения в *balance* (выбивающиеся высокие значения в столбце с банковским балансом - нормальное явление) и *EST_SALARY* (тут также есть аномально низкие значения, однако столбец представляет собой справочные данные, поэтому вмешательство не требуется);\n",
    "\n",
    "* Есть нулевые значения в *products* (согласно документации в наших данных только клиенты с 1 и более продуктами), строки с подобными клиентами должны быть удалены из наших данных;\n",
    "\n",
    "* Необходимо привести названия столбцов к нижнему регистру и сменить тип данных столбцов *age* и *score* с float на int;\n",
    "\n",
    "* Найдено 146 дубликатов в *USERID*.\n",
    "\n",
    "[Вернуться к содержанию](#Содержание)"
   ]
  },
  {
   "cell_type": "markdown",
   "metadata": {},
   "source": [
    "<a id='Предобработка-данных'></a>\n",
    "## 2 Предобработка данных"
   ]
  },
  {
   "cell_type": "markdown",
   "metadata": {},
   "source": [
    "Приведем наименования столбцов к нижнему регистру:"
   ]
  },
  {
   "cell_type": "code",
   "execution_count": 12,
   "metadata": {},
   "outputs": [],
   "source": [
    "#приводим к нижнем регистру\n",
    "customers_info.columns = customers_info.columns.str.lower()\n",
    "#скорректируем название первого столбца\n",
    "customers_info.rename(columns={'userid': 'user_id'}, inplace=True)"
   ]
  },
  {
   "cell_type": "markdown",
   "metadata": {},
   "source": [
    "Ранее мы выявили строки клиентов с 0 количеством продуктов, посмотрим детальнее:"
   ]
  },
  {
   "cell_type": "code",
   "execution_count": 13,
   "metadata": {},
   "outputs": [
    {
     "data": {
      "text/html": [
       "<div>\n",
       "<style scoped>\n",
       "    .dataframe tbody tr th:only-of-type {\n",
       "        vertical-align: middle;\n",
       "    }\n",
       "\n",
       "    .dataframe tbody tr th {\n",
       "        vertical-align: top;\n",
       "    }\n",
       "\n",
       "    .dataframe thead th {\n",
       "        text-align: right;\n",
       "    }\n",
       "</style>\n",
       "<table border=\"1\" class=\"dataframe\">\n",
       "  <thead>\n",
       "    <tr style=\"text-align: right;\">\n",
       "      <th></th>\n",
       "      <th>user_id</th>\n",
       "      <th>score</th>\n",
       "      <th>city</th>\n",
       "      <th>gender</th>\n",
       "      <th>age</th>\n",
       "      <th>equity</th>\n",
       "      <th>balance</th>\n",
       "      <th>products</th>\n",
       "      <th>credit_card</th>\n",
       "      <th>last_activity</th>\n",
       "      <th>est_salary</th>\n",
       "      <th>churn</th>\n",
       "      <th>missing_balance</th>\n",
       "      <th>missing_age</th>\n",
       "    </tr>\n",
       "  </thead>\n",
       "  <tbody>\n",
       "    <tr>\n",
       "      <th>8957</th>\n",
       "      <td>147837</td>\n",
       "      <td>962.0</td>\n",
       "      <td>Рыбинск</td>\n",
       "      <td>Ж</td>\n",
       "      <td>79.0</td>\n",
       "      <td>3</td>\n",
       "      <td>NaN</td>\n",
       "      <td>0</td>\n",
       "      <td>0</td>\n",
       "      <td>0</td>\n",
       "      <td>25063.96</td>\n",
       "      <td>1</td>\n",
       "      <td>1</td>\n",
       "      <td>0</td>\n",
       "    </tr>\n",
       "  </tbody>\n",
       "</table>\n",
       "</div>"
      ],
      "text/plain": [
       "      user_id  score     city gender   age  equity  balance  products  \\\n",
       "8957   147837  962.0  Рыбинск      Ж  79.0       3      NaN         0   \n",
       "\n",
       "      credit_card  last_activity  est_salary  churn  missing_balance  \\\n",
       "8957            0              0    25063.96      1                1   \n",
       "\n",
       "      missing_age  \n",
       "8957            0  "
      ]
     },
     "execution_count": 13,
     "metadata": {},
     "output_type": "execute_result"
    }
   ],
   "source": [
    "customers_info[customers_info['products'] == 0]"
   ]
  },
  {
   "cell_type": "markdown",
   "metadata": {},
   "source": [
    "Найден 1 человек с 0 продуктов, удалим его из нашего датафрейма (рассматриваем только действующих клиентов банка):"
   ]
  },
  {
   "cell_type": "code",
   "execution_count": 14,
   "metadata": {},
   "outputs": [],
   "source": [
    "customers_info = customers_info[customers_info['products'] != 0]"
   ]
  },
  {
   "cell_type": "markdown",
   "metadata": {},
   "source": [
    "Обработаем пропуски в столбце *age*, послкольку распределение значений столбца имеет хвост вправо (смещенный центр), используем для заполнения медиану: "
   ]
  },
  {
   "cell_type": "code",
   "execution_count": 15,
   "metadata": {},
   "outputs": [],
   "source": [
    "customers_info['age'] = customers_info['age'].fillna(customers_info['age'].median())"
   ]
  },
  {
   "cell_type": "markdown",
   "metadata": {},
   "source": [
    "Сменим тип данных столбцов age и score с float на int:"
   ]
  },
  {
   "cell_type": "code",
   "execution_count": 16,
   "metadata": {},
   "outputs": [],
   "source": [
    "customers_info[['age', 'score']] = customers_info[['age', 'score']].astype(int)"
   ]
  },
  {
   "cell_type": "markdown",
   "metadata": {},
   "source": [
    "Ранее мы нашли 146 дубликатов по *user_id*, полных дубликатов нет, также при обзоре id дубликатов данные по ним различаются во всем - возможна техническая ошибка при логировании. Присвоим дубликатам новые id в рамках нашего исследования:"
   ]
  },
  {
   "cell_type": "code",
   "execution_count": 17,
   "metadata": {},
   "outputs": [
    {
     "data": {
      "text/plain": [
       "0"
      ]
     },
     "execution_count": 17,
     "metadata": {},
     "output_type": "execute_result"
    }
   ],
   "source": [
    "#проверим, есть ли значения более 1М в столбце \n",
    "customers_info[customers_info['user_id'] >= 1000000]['user_id'].count()"
   ]
  },
  {
   "cell_type": "code",
   "execution_count": 18,
   "metadata": {},
   "outputs": [
    {
     "data": {
      "text/html": [
       "<div>\n",
       "<style scoped>\n",
       "    .dataframe tbody tr th:only-of-type {\n",
       "        vertical-align: middle;\n",
       "    }\n",
       "\n",
       "    .dataframe tbody tr th {\n",
       "        vertical-align: top;\n",
       "    }\n",
       "\n",
       "    .dataframe thead th {\n",
       "        text-align: right;\n",
       "    }\n",
       "</style>\n",
       "<table border=\"1\" class=\"dataframe\">\n",
       "  <thead>\n",
       "    <tr style=\"text-align: right;\">\n",
       "      <th></th>\n",
       "      <th>user_id</th>\n",
       "      <th>score</th>\n",
       "      <th>city</th>\n",
       "      <th>gender</th>\n",
       "      <th>age</th>\n",
       "      <th>equity</th>\n",
       "      <th>balance</th>\n",
       "      <th>products</th>\n",
       "      <th>credit_card</th>\n",
       "      <th>last_activity</th>\n",
       "      <th>est_salary</th>\n",
       "      <th>churn</th>\n",
       "      <th>missing_balance</th>\n",
       "      <th>missing_age</th>\n",
       "    </tr>\n",
       "  </thead>\n",
       "  <tbody>\n",
       "  </tbody>\n",
       "</table>\n",
       "</div>"
      ],
      "text/plain": [
       "Empty DataFrame\n",
       "Columns: [user_id, score, city, gender, age, equity, balance, products, credit_card, last_activity, est_salary, churn, missing_balance, missing_age]\n",
       "Index: []"
      ]
     },
     "metadata": {},
     "output_type": "display_data"
    },
    {
     "name": "stdout",
     "output_type": "stream",
     "text": [
      "------------------------------\n",
      "Всего новых id: 73\n"
     ]
    },
    {
     "data": {
      "text/html": [
       "<div>\n",
       "<style scoped>\n",
       "    .dataframe tbody tr th:only-of-type {\n",
       "        vertical-align: middle;\n",
       "    }\n",
       "\n",
       "    .dataframe tbody tr th {\n",
       "        vertical-align: top;\n",
       "    }\n",
       "\n",
       "    .dataframe thead th {\n",
       "        text-align: right;\n",
       "    }\n",
       "</style>\n",
       "<table border=\"1\" class=\"dataframe\">\n",
       "  <thead>\n",
       "    <tr style=\"text-align: right;\">\n",
       "      <th></th>\n",
       "      <th>user_id</th>\n",
       "      <th>score</th>\n",
       "      <th>city</th>\n",
       "      <th>gender</th>\n",
       "      <th>age</th>\n",
       "      <th>equity</th>\n",
       "      <th>balance</th>\n",
       "      <th>products</th>\n",
       "      <th>credit_card</th>\n",
       "      <th>last_activity</th>\n",
       "      <th>est_salary</th>\n",
       "      <th>churn</th>\n",
       "      <th>missing_balance</th>\n",
       "      <th>missing_age</th>\n",
       "    </tr>\n",
       "  </thead>\n",
       "  <tbody>\n",
       "    <tr>\n",
       "      <th>1247</th>\n",
       "      <td>1228075</td>\n",
       "      <td>932</td>\n",
       "      <td>Ярославль</td>\n",
       "      <td>М</td>\n",
       "      <td>40</td>\n",
       "      <td>5</td>\n",
       "      <td>7601719.20</td>\n",
       "      <td>2</td>\n",
       "      <td>1</td>\n",
       "      <td>1</td>\n",
       "      <td>408121.16</td>\n",
       "      <td>0</td>\n",
       "      <td>0</td>\n",
       "      <td>1</td>\n",
       "    </tr>\n",
       "    <tr>\n",
       "      <th>1389</th>\n",
       "      <td>1221156</td>\n",
       "      <td>687</td>\n",
       "      <td>Рыбинск</td>\n",
       "      <td>М</td>\n",
       "      <td>61</td>\n",
       "      <td>0</td>\n",
       "      <td>NaN</td>\n",
       "      <td>1</td>\n",
       "      <td>1</td>\n",
       "      <td>1</td>\n",
       "      <td>136361.72</td>\n",
       "      <td>0</td>\n",
       "      <td>1</td>\n",
       "      <td>0</td>\n",
       "    </tr>\n",
       "    <tr>\n",
       "      <th>1740</th>\n",
       "      <td>1220816</td>\n",
       "      <td>840</td>\n",
       "      <td>Ярославль</td>\n",
       "      <td>Ж</td>\n",
       "      <td>41</td>\n",
       "      <td>3</td>\n",
       "      <td>1193287.13</td>\n",
       "      <td>2</td>\n",
       "      <td>1</td>\n",
       "      <td>1</td>\n",
       "      <td>76434.94</td>\n",
       "      <td>1</td>\n",
       "      <td>0</td>\n",
       "      <td>0</td>\n",
       "    </tr>\n",
       "  </tbody>\n",
       "</table>\n",
       "</div>"
      ],
      "text/plain": [
       "      user_id  score       city gender  age  equity     balance  products  \\\n",
       "1247  1228075    932  Ярославль      М   40       5  7601719.20         2   \n",
       "1389  1221156    687    Рыбинск      М   61       0         NaN         1   \n",
       "1740  1220816    840  Ярославль      Ж   41       3  1193287.13         2   \n",
       "\n",
       "      credit_card  last_activity  est_salary  churn  missing_balance  \\\n",
       "1247            1              1   408121.16      0                0   \n",
       "1389            1              1   136361.72      0                1   \n",
       "1740            1              1    76434.94      1                0   \n",
       "\n",
       "      missing_age  \n",
       "1247            1  \n",
       "1389            0  \n",
       "1740            0  "
      ]
     },
     "execution_count": 18,
     "metadata": {},
     "output_type": "execute_result"
    }
   ],
   "source": [
    "#присвоим дубликатам новое значение, которое начинается с миллиона\n",
    "customers_info.loc[customers_info.duplicated(subset='user_id', keep='last'), 'user_id'] += 1000000\n",
    "#проверим остались ли дубликаты\n",
    "display(customers_info[customers_info.duplicated(subset='user_id', keep=False)].sort_values(by='user_id'))\n",
    "print('-'*30)\n",
    "#также проверим исправность присвоения новых значений\n",
    "print('Всего новых id:', customers_info[customers_info['user_id'] >= 1000000]['user_id'].count())\n",
    "customers_info[customers_info['user_id'] >= 1000000].sample(3)"
   ]
  },
  {
   "cell_type": "markdown",
   "metadata": {},
   "source": [
    "Ранее мы заполнили пропуски в *age*, теперь перейдем к более сложному заполнению пропусков в *balance*, для этого будем использовать множественную импутацию, однако сначала закодируем нечисловые категориальные значения.\n",
    "\n",
    "Изменим значения \"М\" и \"Ж\" на 1 и 0 соответственно в *gender*, а значения *city* закодируем с помощью отдельных столбцов с фиктивными бинарными переменными:"
   ]
  },
  {
   "cell_type": "code",
   "execution_count": 19,
   "metadata": {},
   "outputs": [
    {
     "data": {
      "text/html": [
       "<div>\n",
       "<style scoped>\n",
       "    .dataframe tbody tr th:only-of-type {\n",
       "        vertical-align: middle;\n",
       "    }\n",
       "\n",
       "    .dataframe tbody tr th {\n",
       "        vertical-align: top;\n",
       "    }\n",
       "\n",
       "    .dataframe thead th {\n",
       "        text-align: right;\n",
       "    }\n",
       "</style>\n",
       "<table border=\"1\" class=\"dataframe\">\n",
       "  <thead>\n",
       "    <tr style=\"text-align: right;\">\n",
       "      <th></th>\n",
       "      <th>user_id</th>\n",
       "      <th>score</th>\n",
       "      <th>city</th>\n",
       "      <th>gender</th>\n",
       "      <th>age</th>\n",
       "      <th>equity</th>\n",
       "      <th>balance</th>\n",
       "      <th>products</th>\n",
       "      <th>credit_card</th>\n",
       "      <th>last_activity</th>\n",
       "      <th>est_salary</th>\n",
       "      <th>churn</th>\n",
       "      <th>missing_balance</th>\n",
       "      <th>missing_age</th>\n",
       "      <th>city_Ростов</th>\n",
       "      <th>city_Рыбинск</th>\n",
       "      <th>city_Ярославль</th>\n",
       "    </tr>\n",
       "  </thead>\n",
       "  <tbody>\n",
       "    <tr>\n",
       "      <th>8282</th>\n",
       "      <td>165320</td>\n",
       "      <td>853</td>\n",
       "      <td>Рыбинск</td>\n",
       "      <td>0</td>\n",
       "      <td>56</td>\n",
       "      <td>1</td>\n",
       "      <td>334630.55</td>\n",
       "      <td>2</td>\n",
       "      <td>1</td>\n",
       "      <td>1</td>\n",
       "      <td>90653.06</td>\n",
       "      <td>0</td>\n",
       "      <td>0</td>\n",
       "      <td>0</td>\n",
       "      <td>0</td>\n",
       "      <td>1</td>\n",
       "      <td>0</td>\n",
       "    </tr>\n",
       "    <tr>\n",
       "      <th>5624</th>\n",
       "      <td>152399</td>\n",
       "      <td>839</td>\n",
       "      <td>Рыбинск</td>\n",
       "      <td>1</td>\n",
       "      <td>42</td>\n",
       "      <td>5</td>\n",
       "      <td>668731.52</td>\n",
       "      <td>2</td>\n",
       "      <td>1</td>\n",
       "      <td>1</td>\n",
       "      <td>182790.53</td>\n",
       "      <td>1</td>\n",
       "      <td>0</td>\n",
       "      <td>0</td>\n",
       "      <td>0</td>\n",
       "      <td>1</td>\n",
       "      <td>0</td>\n",
       "    </tr>\n",
       "    <tr>\n",
       "      <th>7142</th>\n",
       "      <td>210784</td>\n",
       "      <td>784</td>\n",
       "      <td>Ярославль</td>\n",
       "      <td>1</td>\n",
       "      <td>28</td>\n",
       "      <td>4</td>\n",
       "      <td>690120.16</td>\n",
       "      <td>3</td>\n",
       "      <td>0</td>\n",
       "      <td>1</td>\n",
       "      <td>105686.11</td>\n",
       "      <td>1</td>\n",
       "      <td>0</td>\n",
       "      <td>0</td>\n",
       "      <td>0</td>\n",
       "      <td>0</td>\n",
       "      <td>1</td>\n",
       "    </tr>\n",
       "  </tbody>\n",
       "</table>\n",
       "</div>"
      ],
      "text/plain": [
       "      user_id  score       city  gender  age  equity    balance  products  \\\n",
       "8282   165320    853    Рыбинск       0   56       1  334630.55         2   \n",
       "5624   152399    839    Рыбинск       1   42       5  668731.52         2   \n",
       "7142   210784    784  Ярославль       1   28       4  690120.16         3   \n",
       "\n",
       "      credit_card  last_activity  est_salary  churn  missing_balance  \\\n",
       "8282            1              1    90653.06      0                0   \n",
       "5624            1              1   182790.53      1                0   \n",
       "7142            0              1   105686.11      1                0   \n",
       "\n",
       "      missing_age  city_Ростов  city_Рыбинск  city_Ярославль  \n",
       "8282            0            0             1               0  \n",
       "5624            0            0             1               0  \n",
       "7142            0            0             0               1  "
      ]
     },
     "execution_count": 19,
     "metadata": {},
     "output_type": "execute_result"
    }
   ],
   "source": [
    "#кодируем значения пола\n",
    "customers_info['gender'] = customers_info['gender'].map({'М': 1, 'Ж': 0})\n",
    "\n",
    "#кодируем значения города, создавая отдельные столбцы для каждого города с бинарными значениями\n",
    "#создаем доп столбцы с кодированными значениями на срезе по городам\n",
    "city_encoded = pd.get_dummies(customers_info['city'], prefix='city') \n",
    "#объединяем полученные доп столбцы с основным дф, чтобы остался столбец city\n",
    "customers_info = pd.concat([customers_info, city_encoded], axis=1)\n",
    "\n",
    "#проверяем\n",
    "customers_info.sample(3)"
   ]
  },
  {
   "cell_type": "markdown",
   "metadata": {},
   "source": [
    "Теперь перейдем к заполнению пропусков в *balance*:"
   ]
  },
  {
   "cell_type": "code",
   "execution_count": 20,
   "metadata": {},
   "outputs": [
    {
     "data": {
      "text/plain": [
       "count    7.705000e+03\n",
       "mean     8.277943e+05\n",
       "std      1.980614e+06\n",
       "min      0.000000e+00\n",
       "25%      2.955542e+05\n",
       "50%      5.242722e+05\n",
       "75%      9.807058e+05\n",
       "max      1.191136e+08\n",
       "Name: balance, dtype: float64"
      ]
     },
     "execution_count": 20,
     "metadata": {},
     "output_type": "execute_result"
    }
   ],
   "source": [
    "#для проверки изменений\n",
    "customers_info['balance'].describe()"
   ]
  },
  {
   "cell_type": "code",
   "execution_count": 21,
   "metadata": {},
   "outputs": [
    {
     "data": {
      "text/plain": [
       "count    9.999000e+03\n",
       "mean     8.404327e+05\n",
       "std      1.739433e+06\n",
       "min      0.000000e+00\n",
       "25%      3.572034e+05\n",
       "50%      7.492564e+05\n",
       "75%      9.401228e+05\n",
       "max      1.191136e+08\n",
       "Name: balance, dtype: float64"
      ]
     },
     "execution_count": 21,
     "metadata": {},
     "output_type": "execute_result"
    }
   ],
   "source": [
    "#сначала проведем нормализацию данных, тк у нас значения с разным отклонением в разных столбцах\n",
    "\n",
    "#выделим столбцы с непрерывными значениями для нормализации\n",
    "continuous_cols = ['balance', 'score']\n",
    "\n",
    "#будем заполнять и нормализировать на копии наших данных с взаимосвязанными столбцами\n",
    "customers_scaled = customers_info[['score', 'products', 'missing_balance', 'equity', 'balance']].copy()\n",
    "\n",
    "#нормализация значений с большим масштабом\n",
    "scaler = StandardScaler()\n",
    "customers_scaled[continuous_cols] = scaler.fit_transform(customers_info[continuous_cols])\n",
    "\n",
    "#итеративная импутация\n",
    "imputer = IterativeImputer(min_value=0)\n",
    "customers_imputed = imputer.fit_transform(customers_scaled)\n",
    "\n",
    "#переводим данные в дф\n",
    "customers_scaled = pd.DataFrame(customers_imputed, columns=customers_scaled.columns, index=customers_info.index)\n",
    "\n",
    "#конвертируем нормализованные данные обратно \n",
    "customers_scaled[continuous_cols] = scaler.inverse_transform(customers_scaled[continuous_cols])\n",
    "\n",
    "#проверим изменения\n",
    "customers_scaled['balance'].describe()"
   ]
  },
  {
   "cell_type": "code",
   "execution_count": 22,
   "metadata": {},
   "outputs": [],
   "source": [
    "#перенесем данные в основной фрейм\n",
    "customers_info['balance'] = customers_scaled['balance']"
   ]
  },
  {
   "cell_type": "markdown",
   "metadata": {},
   "source": [
    "Проверим текущие изменения:"
   ]
  },
  {
   "cell_type": "code",
   "execution_count": 23,
   "metadata": {},
   "outputs": [
    {
     "name": "stdout",
     "output_type": "stream",
     "text": [
      "<class 'pandas.core.frame.DataFrame'>\n",
      "Int64Index: 9999 entries, 0 to 9999\n",
      "Data columns (total 17 columns):\n",
      " #   Column           Non-Null Count  Dtype  \n",
      "---  ------           --------------  -----  \n",
      " 0   user_id          9999 non-null   int64  \n",
      " 1   score            9999 non-null   int64  \n",
      " 2   city             9999 non-null   object \n",
      " 3   gender           9999 non-null   int64  \n",
      " 4   age              9999 non-null   int64  \n",
      " 5   equity           9999 non-null   int64  \n",
      " 6   balance          9999 non-null   float64\n",
      " 7   products         9999 non-null   int64  \n",
      " 8   credit_card      9999 non-null   int64  \n",
      " 9   last_activity    9999 non-null   int64  \n",
      " 10  est_salary       9999 non-null   float64\n",
      " 11  churn            9999 non-null   int64  \n",
      " 12  missing_balance  9999 non-null   int64  \n",
      " 13  missing_age      9999 non-null   int64  \n",
      " 14  city_Ростов      9999 non-null   uint8  \n",
      " 15  city_Рыбинск     9999 non-null   uint8  \n",
      " 16  city_Ярославль   9999 non-null   uint8  \n",
      "dtypes: float64(2), int64(11), object(1), uint8(3)\n",
      "memory usage: 1.2+ MB\n"
     ]
    }
   ],
   "source": [
    "customers_info.info()"
   ]
  },
  {
   "cell_type": "markdown",
   "metadata": {},
   "source": [
    "Исправления применены корректно. "
   ]
  },
  {
   "cell_type": "markdown",
   "metadata": {},
   "source": [
    "**Вывод:**\n",
    "\n",
    "Проведена предобработка исходных данных:\n",
    "\n",
    "* Наименования столбцов приведены к нижнему регистру;\n",
    "* Удалена строка с 0 продуктов;\n",
    "* Данные проверены на дубликаты, созданы уникальные id на основе дублированных (строки различны);\n",
    "* Категориальные данные типа object кодированы бинарными числовыми значениями;\n",
    "* Заполнены пропуски: *age* - медианное значение по столбцу, *balance* - итерационное импутирование по взаимосвязанным столбцам с предварительной нормализацией непрерывных значений.\n",
    "\n",
    "[Вернуться к содержанию](#Содержание)"
   ]
  },
  {
   "cell_type": "markdown",
   "metadata": {},
   "source": [
    "<a id='Исследовательский-анализ-данных'></a>\n",
    "## 3 Исследовательский анализ данных"
   ]
  },
  {
   "cell_type": "markdown",
   "metadata": {},
   "source": [
    "<a id='Портреты-клиентов'></a>\n",
    "Сформируем портреты клиентов, склонных к прекращению сотрудничества и лояльных, и сравним их:"
   ]
  },
  {
   "cell_type": "code",
   "execution_count": 24,
   "metadata": {},
   "outputs": [
    {
     "data": {
      "text/html": [
       "<div>\n",
       "<style scoped>\n",
       "    .dataframe tbody tr th:only-of-type {\n",
       "        vertical-align: middle;\n",
       "    }\n",
       "\n",
       "    .dataframe tbody tr th {\n",
       "        vertical-align: top;\n",
       "    }\n",
       "\n",
       "    .dataframe thead th {\n",
       "        text-align: right;\n",
       "    }\n",
       "</style>\n",
       "<table border=\"1\" class=\"dataframe\">\n",
       "  <thead>\n",
       "    <tr style=\"text-align: right;\">\n",
       "      <th></th>\n",
       "      <th>feature</th>\n",
       "      <th>central_tendency</th>\n",
       "      <th>churn_0</th>\n",
       "      <th>relative_difference_%</th>\n",
       "      <th>churn_1</th>\n",
       "    </tr>\n",
       "  </thead>\n",
       "  <tbody>\n",
       "    <tr>\n",
       "      <th>0</th>\n",
       "      <td>balance</td>\n",
       "      <td>mean</td>\n",
       "      <td>775364.3</td>\n",
       "      <td>46.13</td>\n",
       "      <td>1133043.8</td>\n",
       "    </tr>\n",
       "    <tr>\n",
       "      <th>1</th>\n",
       "      <td>balance</td>\n",
       "      <td>median</td>\n",
       "      <td>735863.9</td>\n",
       "      <td>NaN</td>\n",
       "      <td>789300.2</td>\n",
       "    </tr>\n",
       "    <tr>\n",
       "      <th>2</th>\n",
       "      <td>est_salary</td>\n",
       "      <td>mean</td>\n",
       "      <td>147783.2</td>\n",
       "      <td>0.36</td>\n",
       "      <td>148310.7</td>\n",
       "    </tr>\n",
       "    <tr>\n",
       "      <th>3</th>\n",
       "      <td>est_salary</td>\n",
       "      <td>median</td>\n",
       "      <td>118257.7</td>\n",
       "      <td>NaN</td>\n",
       "      <td>125395.2</td>\n",
       "    </tr>\n",
       "    <tr>\n",
       "      <th>4</th>\n",
       "      <td>age</td>\n",
       "      <td>median</td>\n",
       "      <td>40.0</td>\n",
       "      <td>NaN</td>\n",
       "      <td>39.0</td>\n",
       "    </tr>\n",
       "    <tr>\n",
       "      <th>5</th>\n",
       "      <td>equity</td>\n",
       "      <td>median</td>\n",
       "      <td>3.0</td>\n",
       "      <td>NaN</td>\n",
       "      <td>4.0</td>\n",
       "    </tr>\n",
       "    <tr>\n",
       "      <th>6</th>\n",
       "      <td>products</td>\n",
       "      <td>median</td>\n",
       "      <td>2.0</td>\n",
       "      <td>NaN</td>\n",
       "      <td>2.0</td>\n",
       "    </tr>\n",
       "    <tr>\n",
       "      <th>7</th>\n",
       "      <td>score</td>\n",
       "      <td>median</td>\n",
       "      <td>848.0</td>\n",
       "      <td>NaN</td>\n",
       "      <td>866.0</td>\n",
       "    </tr>\n",
       "    <tr>\n",
       "      <th>8</th>\n",
       "      <td>city</td>\n",
       "      <td>mode</td>\n",
       "      <td>Ярославль</td>\n",
       "      <td>NaN</td>\n",
       "      <td>Ярославль</td>\n",
       "    </tr>\n",
       "    <tr>\n",
       "      <th>9</th>\n",
       "      <td>gender</td>\n",
       "      <td>mode</td>\n",
       "      <td>Ж</td>\n",
       "      <td>NaN</td>\n",
       "      <td>М</td>\n",
       "    </tr>\n",
       "    <tr>\n",
       "      <th>10</th>\n",
       "      <td>credit_card</td>\n",
       "      <td>mode</td>\n",
       "      <td>Есть</td>\n",
       "      <td>NaN</td>\n",
       "      <td>Есть</td>\n",
       "    </tr>\n",
       "    <tr>\n",
       "      <th>11</th>\n",
       "      <td>last_activity</td>\n",
       "      <td>mode</td>\n",
       "      <td>Нет</td>\n",
       "      <td>NaN</td>\n",
       "      <td>Есть</td>\n",
       "    </tr>\n",
       "  </tbody>\n",
       "</table>\n",
       "</div>"
      ],
      "text/plain": [
       "          feature central_tendency    churn_0  relative_difference_%  \\\n",
       "0         balance             mean   775364.3                  46.13   \n",
       "1         balance           median   735863.9                    NaN   \n",
       "2      est_salary             mean   147783.2                   0.36   \n",
       "3      est_salary           median   118257.7                    NaN   \n",
       "4             age           median       40.0                    NaN   \n",
       "5          equity           median        3.0                    NaN   \n",
       "6        products           median        2.0                    NaN   \n",
       "7           score           median      848.0                    NaN   \n",
       "8            city             mode  Ярославль                    NaN   \n",
       "9          gender             mode          Ж                    NaN   \n",
       "10    credit_card             mode       Есть                    NaN   \n",
       "11  last_activity             mode        Нет                    NaN   \n",
       "\n",
       "      churn_1  \n",
       "0   1133043.8  \n",
       "1    789300.2  \n",
       "2    148310.7  \n",
       "3    125395.2  \n",
       "4        39.0  \n",
       "5         4.0  \n",
       "6         2.0  \n",
       "7       866.0  \n",
       "8   Ярославль  \n",
       "9           М  \n",
       "10       Есть  \n",
       "11       Есть  "
      ]
     },
     "execution_count": 24,
     "metadata": {},
     "output_type": "execute_result"
    }
   ],
   "source": [
    "#заранее разделим данные на 2 группы отточных и не отточных клиентов, чтобы не делать этого в следующем коде таблицы\n",
    "churn_0 = customers_info[customers_info['churn'] == 0]\n",
    "churn_1 = customers_info[customers_info['churn'] == 1]\n",
    "\n",
    "#аналогично со столбцами, выделим их в отдельные группы для разного использования центральной тенденции\n",
    "continuous_cols = ['balance', 'est_salary']\n",
    "discrete_cols = ['age', 'equity', 'products', 'score']\n",
    "categorical_cols = ['city', 'gender', 'credit_card', 'last_activity']\n",
    "\n",
    "#переменная для сбора массива данных будущей таблицы\n",
    "results = []\n",
    "\n",
    "#обработка столбцов с непрерывными значениями\n",
    "for col in continuous_cols:\n",
    "    mean_0, mean_1 = churn_0[col].mean().round(1), churn_1[col].mean().round(1)\n",
    "    median_0, median_1 = churn_0[col].median().round(1), churn_1[col].median().round(1)\n",
    "    relative_diff = round(((mean_1 - mean_0) / mean_0) * 100, 2)\n",
    "\n",
    "    results.append([col, 'mean', mean_0, relative_diff, mean_1])\n",
    "    results.append([col, 'median', median_0, None, median_1])\n",
    "\n",
    "#обработка столбцов с дискретными значениями\n",
    "for col in discrete_cols:\n",
    "    median_0, median_1 = churn_0[col].median().round(1), churn_1[col].median().round(1)\n",
    "    results.append([col, 'median', median_0, None, median_1])\n",
    "\n",
    "#обработка столбцов с категориальными значениями\n",
    "for col in categorical_cols:\n",
    "    mode_0 = churn_0[col].mode()[0]\n",
    "    mode_1 = churn_1[col].mode()[0]\n",
    "    results.append([col, 'mode', mode_0, None, mode_1])\n",
    "\n",
    "#создаем таблицу\n",
    "customers_portrait = pd\\\n",
    ".DataFrame(results, columns=['feature', 'central_tendency', 'churn_0', 'relative_difference_%', 'churn_1'])\n",
    "\n",
    "#редактируем вывод категориальных значений с числовых в текстовые\n",
    "customers_portrait.loc[customers_portrait['feature'] == 'gender', ['churn_0', 'churn_1']] = customers_portrait\\\n",
    ".loc[customers_portrait['feature'] == 'gender', ['churn_0', 'churn_1']].replace({0: 'Ж', 1: 'М'})\n",
    "\n",
    "customers_portrait.loc[(customers_portrait['feature'] == 'credit_card') | (customers_portrait['feature'] == 'last_activity')\\\n",
    "                       , ['churn_0', 'churn_1']] = customers_portrait.loc[(customers_portrait['feature'] == 'credit_card')\\\n",
    "                    | (customers_portrait['feature'] == 'last_activity'), ['churn_0', 'churn_1']].replace({0: 'Нет', 1: 'Есть'})\n",
    "\n",
    "\n",
    "customers_portrait"
   ]
  },
  {
   "cell_type": "markdown",
   "metadata": {},
   "source": [
    "Таким образом по таблице \n",
    "\n",
    "Портрет лояльного клиента (*churn_0*):\n",
    "\n",
    "* Баланс (медиана *balance*): 735863.9;\n",
    "* Примерный уровень дохода (медиана *est_salary*): 118257.7;\n",
    "* Возраст (медиана *age*): 40;\n",
    "* Количество баллов собственности (медиана *equity*): 2;\n",
    "* Количество пользуемых продуктов банка (медиана *products*): 2;\n",
    "* Количество баллов кредитного скоринга (медиана *score*): 848;\n",
    "* Город (мода *city*): Ярославль;\n",
    "* Пол (мода *gender*): Ж;\n",
    "* Наличие кредитной карты (мода *credit_card*): Есть;\n",
    "* Наличие активности/взаимодействия с банковскими сервисами за последние 3 месяца (мода *last_activity*): Нет.\n",
    "\n",
    "Портрет отточного клиента (*churn_1*):\n",
    "\n",
    "* Баланс (медиана *balance*): 789300.2;\n",
    "* Примерный уровень дохода (медиана *est_salary*): 125395.2;\n",
    "* Возраст (медиана *age*): 39;\n",
    "* Количество баллов собственности (медиана *equity*): 4;\n",
    "* Количество пользуемых продуктов банка (медиана *products*): 2;\n",
    "* Количество баллов кредитного скоринга (медиана *score*): 866;\n",
    "* Город (мода *city*): Ярославль;\n",
    "* Пол (мода *gender*): М;\n",
    "* Наличие кредитной карты (мода *credit_card*): Есть;\n",
    "* Наличие активности/взаимодействия с банковскими сервисами за последние 3 месяца (мода *last_activity*): Есть.\n",
    "\n",
    "Характерные различия между двумя типичными клиентами:\n",
    "\n",
    "* Баланс отточного клиента выше на 357679.5 (46%);\n",
    "* Минимальная разница в примерном уровне дохода, у отточного клиента выше на 7137.5 (6%);\n",
    "* Минимальная разница в возрасте, отточный клиент моложе на 1 год (3%);\n",
    "* У отточного клиента больше баллов собственности на 2 (100%);\n",
    "* У отточного клиента больше баллов скоринга на 18 (2%);\n",
    "* Совпадает город: Ярославль;\n",
    "* Пол лояльного клиента: Ж, отточного клиента: М;\n",
    "* У обоих клиентов есть кредитная карта;\n",
    "* У отточного клиента есть активность за последние 3 месяца, у лояльного - нет. "
   ]
  },
  {
   "cell_type": "markdown",
   "metadata": {},
   "source": [
    "<a id='Анализ-непрерывного-распределения'></a>\n",
    "Проведем анализ распределения непрерывных показателей, включая отдельный анализ по разрезу клиентов, склонных к оттоку:"
   ]
  },
  {
   "cell_type": "markdown",
   "metadata": {},
   "source": [
    "Также для дальнейших расчетов и визуализаций определим средний уровень оттока по банку:"
   ]
  },
  {
   "cell_type": "code",
   "execution_count": 25,
   "metadata": {},
   "outputs": [
    {
     "name": "stdout",
     "output_type": "stream",
     "text": [
      "Доля оттока среди клиентов банка: 18.2%\n"
     ]
    }
   ],
   "source": [
    "churn_part = customers_info['churn'].mean()\n",
    "print(f'Доля оттока среди клиентов банка: {churn_part:.1%}')"
   ]
  },
  {
   "cell_type": "markdown",
   "metadata": {},
   "source": [
    "<a id=''></a>\n",
    "Выделим необходимые показатели, также добавим дискретные показатели с большим количеством значений:\n",
    "\n",
    "*balance*, *est_salary*, *age*, *score*."
   ]
  },
  {
   "cell_type": "markdown",
   "metadata": {},
   "source": [
    "*balance*:"
   ]
  },
  {
   "cell_type": "code",
   "execution_count": 26,
   "metadata": {},
   "outputs": [
    {
     "data": {
      "image/png": "[encoded data removed]",
      "text/plain": [
       "<Figure size 720x432 with 1 Axes>"
      ]
     },
     "metadata": {},
     "output_type": "display_data"
    }
   ],
   "source": [
    "#установим фон для графиков\n",
    "sns.set_theme(style=\"darkgrid\")\n",
    "#задаем размер полотна\n",
    "plt.figure(figsize=(10, 6))\n",
    "#строим гистограмму, т.к. имеем дело с непрерываными/дискретными значениями с большим размахом\n",
    "sns.histplot(data=customers_info, x='balance', hue='churn', stat=\"density\", common_norm=False, kde=True, alpha=0.5)\n",
    "#ограничим значения по X для лучшей читаемости \n",
    "plt.xlim(0, 2000000)\n",
    "#добавим вертикальную линию, которая показывает границу, с которой начинается отток по показателю\n",
    "plt.axvline(x=1140000, color='red', linestyle='--')\n",
    "#добавляем подписи\n",
    "plt.title(\"Распределение баланса в зависимости от показателя оттока\", fontsize=14)\n",
    "plt.xlabel(\"Баланс\", fontsize=12)\n",
    "plt.ylabel(\"Плотность\", fontsize=12)\n",
    "plt.legend(title='Отток', labels=['Да', 'Нет'])\n",
    "plt.show()"
   ]
  },
  {
   "cell_type": "markdown",
   "metadata": {},
   "source": [
    "Согласно гистограмме отток клиентов по показателю *balance* начинается при его значении >1140000."
   ]
  },
  {
   "cell_type": "code",
   "execution_count": 27,
   "metadata": {},
   "outputs": [
    {
     "name": "stdout",
     "output_type": "stream",
     "text": [
      "Доля оттока по выделенному сегменту составляет 39.8 %\n"
     ]
    }
   ],
   "source": [
    "print('Доля оттока по выделенному сегменту составляет',\\\n",
    "      round(customers_info[customers_info['balance']>1140000]['churn'].mean()*100, 1), '%')"
   ]
  },
  {
   "cell_type": "markdown",
   "metadata": {},
   "source": [
    "*est_salary*:"
   ]
  },
  {
   "cell_type": "code",
   "execution_count": 28,
   "metadata": {},
   "outputs": [
    {
     "data": {
      "image/png": "[encoded data removed]",
      "text/plain": [
       "<Figure size 720x432 with 1 Axes>"
      ]
     },
     "metadata": {},
     "output_type": "display_data"
    }
   ],
   "source": [
    "#задаем размер полотна\n",
    "plt.figure(figsize=(10, 6))\n",
    "#строим гистограмму, т.к. имеем дело с непрерываными/дискретными значениями с большим размахом\n",
    "sns.histplot(data=customers_info, x='est_salary', hue='churn', stat=\"density\", common_norm=False, kde=True, alpha=0.5)\n",
    "#ограничим значения по X для лучшей читаемости \n",
    "plt.xlim(0, 300000)\n",
    "#добавим вертикальную линию, которая показывает границу, с которой начинается отток по показателю\n",
    "plt.axvline(x=93000, color='red', linestyle='--')\n",
    "plt.axvline(x=212000, color='red', linestyle='--')\n",
    "#добавляем подписи\n",
    "plt.title(\"Распределение примерного заработка в зависимости от показателя оттока\", fontsize=14)\n",
    "plt.xlabel(\"Примерный заработок\", fontsize=12)\n",
    "plt.ylabel(\"Плотность\", fontsize=12)\n",
    "plt.legend(title='Отток', labels=['Да', 'Нет'])\n",
    "plt.show()"
   ]
  },
  {
   "cell_type": "markdown",
   "metadata": {},
   "source": [
    "Согласно гистограмме отток клиентов по показателю *est_salary* находится в рамках его значения от 93000 до 212000. "
   ]
  },
  {
   "cell_type": "code",
   "execution_count": 29,
   "metadata": {},
   "outputs": [
    {
     "name": "stdout",
     "output_type": "stream",
     "text": [
      "Доля оттока по выделенному сегменту составляет 20.2 %\n"
     ]
    }
   ],
   "source": [
    "print('Доля оттока по выделенному сегменту составляет',\\\n",
    "      round(customers_info[(customers_info['est_salary']>93000) & (customers_info['est_salary']<212000)]['churn']\\\n",
    "            .mean()*100, 1), '%')"
   ]
  },
  {
   "cell_type": "markdown",
   "metadata": {},
   "source": [
    "*age*:"
   ]
  },
  {
   "cell_type": "code",
   "execution_count": 30,
   "metadata": {},
   "outputs": [
    {
     "data": {
      "image/png": "[encoded data removed]",
      "text/plain": [
       "<Figure size 720x432 with 1 Axes>"
      ]
     },
     "metadata": {},
     "output_type": "display_data"
    }
   ],
   "source": [
    "#задаем размер полотна\n",
    "plt.figure(figsize=(10, 6))\n",
    "#строим гистограмму, т.к. имеем дело с непрерываными/дискретными значениями с большим размахом\n",
    "sns.histplot(data=customers_info, x='age', hue='churn', stat=\"density\", common_norm=False, kde=True, alpha=0.5)\n",
    "#добавим вертикальную линию, которая показывает границу, с которой начинается отток по показателю\n",
    "plt.axvline(x=25, color='red', linestyle='--')\n",
    "plt.axvline(x=35, color='red', linestyle='--')\n",
    "plt.axvline(x=50, color='violet', linestyle='--')\n",
    "plt.axvline(x=60, color='violet', linestyle='--')\n",
    "#добавляем подписи\n",
    "plt.title(\"Распределение возраста в зависимости от показателя оттока\", fontsize=14)\n",
    "plt.xlabel(\"Возраст\", fontsize=12)\n",
    "plt.ylabel(\"Плотность\", fontsize=12)\n",
    "plt.legend(title='Отток', labels=['Да', 'Нет'])\n",
    "plt.show()"
   ]
  },
  {
   "cell_type": "markdown",
   "metadata": {},
   "source": [
    "Согласно гистограмме отток клиентов по показателю *age* находится в рамках его значения на отрезках от 25 до 35 и от 50 до 60."
   ]
  },
  {
   "cell_type": "code",
   "execution_count": 31,
   "metadata": {},
   "outputs": [
    {
     "name": "stdout",
     "output_type": "stream",
     "text": [
      "Доля оттока по выделенным сегментам составляет 24.3 %\n"
     ]
    }
   ],
   "source": [
    "print('Доля оттока по выделенным сегментам составляет',\\\n",
    "      round(customers_info[((customers_info['age']>25) & (customers_info['age']<35)) |\\\n",
    "                           ((customers_info['age']>50) & (customers_info['age']<60))]['churn']\\\n",
    "                           .mean()*100, 1), '%')"
   ]
  },
  {
   "cell_type": "markdown",
   "metadata": {},
   "source": [
    "*score*:"
   ]
  },
  {
   "cell_type": "code",
   "execution_count": 32,
   "metadata": {},
   "outputs": [
    {
     "data": {
      "image/png": "[encoded data removed]",
      "text/plain": [
       "<Figure size 720x432 with 1 Axes>"
      ]
     },
     "metadata": {},
     "output_type": "display_data"
    }
   ],
   "source": [
    "#задаем размер полотна\n",
    "plt.figure(figsize=(10, 6))\n",
    "#строим гистограмму, т.к. имеем дело с непрерываными/дискретными значениями с большим размахом\n",
    "sns.histplot(data=customers_info, x='score', hue='churn', stat=\"density\", common_norm=False, kde=True, alpha=0.5)\n",
    "#добавим вертикальную линию, которая показывает границу, с которой начинается отток по показателю\n",
    "plt.axvline(x=821, color='red', linestyle='--')\n",
    "plt.axvline(x=938, color='red', linestyle='--')\n",
    "plt.title(\"Распределение количества баллов кредитного скоринга в зависимости от показателя оттока\", fontsize=14)\n",
    "plt.xlabel(\"Баллы кредитного скоринга\", fontsize=12)\n",
    "plt.ylabel(\"Плотность\", fontsize=12)\n",
    "plt.legend(title='Отток', labels=['Да', 'Нет'])\n",
    "plt.show()"
   ]
  },
  {
   "cell_type": "markdown",
   "metadata": {},
   "source": [
    "Согласно гистограмме отток клиентов по показателю *score* находится в рамках его значения от 821 до 938."
   ]
  },
  {
   "cell_type": "code",
   "execution_count": 33,
   "metadata": {},
   "outputs": [
    {
     "name": "stdout",
     "output_type": "stream",
     "text": [
      "Доля оттока по выделенному сегменту составляет 23.0 %\n"
     ]
    }
   ],
   "source": [
    "print('Доля оттока по выделенному сегменту составляет',\\\n",
    "      round(customers_info[(customers_info['score']>821) & (customers_info['score']<938)]['churn']\\\n",
    "            .mean()*100, 1), '%')"
   ]
  },
  {
   "cell_type": "markdown",
   "metadata": {},
   "source": [
    "<a id='Анализ-категориального-распределения'></a>\n",
    "Проведем анализ распределения категориальных показателей, включая отдельный анализ по разрезу клиентов, склонных к оттоку:\n",
    "\n",
    "*city*,\t*gender*, *equity*, *products*, *credit_card*, *last_activity*."
   ]
  },
  {
   "cell_type": "markdown",
   "metadata": {},
   "source": [
    "*city*:"
   ]
  },
  {
   "cell_type": "code",
   "execution_count": 34,
   "metadata": {},
   "outputs": [
    {
     "data": {
      "text/html": [
       "<div>\n",
       "<style scoped>\n",
       "    .dataframe tbody tr th:only-of-type {\n",
       "        vertical-align: middle;\n",
       "    }\n",
       "\n",
       "    .dataframe tbody tr th {\n",
       "        vertical-align: top;\n",
       "    }\n",
       "\n",
       "    .dataframe thead th {\n",
       "        text-align: right;\n",
       "    }\n",
       "</style>\n",
       "<table border=\"1\" class=\"dataframe\">\n",
       "  <thead>\n",
       "    <tr style=\"text-align: right;\">\n",
       "      <th></th>\n",
       "      <th>city</th>\n",
       "      <th>churn_part_%</th>\n",
       "      <th>users_count_churn</th>\n",
       "      <th>users_count_total</th>\n",
       "    </tr>\n",
       "  </thead>\n",
       "  <tbody>\n",
       "    <tr>\n",
       "      <th>2</th>\n",
       "      <td>Ярославль</td>\n",
       "      <td>19.0</td>\n",
       "      <td>1117</td>\n",
       "      <td>5888</td>\n",
       "    </tr>\n",
       "    <tr>\n",
       "      <th>0</th>\n",
       "      <td>Ростов</td>\n",
       "      <td>18.8</td>\n",
       "      <td>266</td>\n",
       "      <td>1417</td>\n",
       "    </tr>\n",
       "    <tr>\n",
       "      <th>1</th>\n",
       "      <td>Рыбинск</td>\n",
       "      <td>16.2</td>\n",
       "      <td>436</td>\n",
       "      <td>2694</td>\n",
       "    </tr>\n",
       "  </tbody>\n",
       "</table>\n",
       "</div>"
      ],
      "text/plain": [
       "        city  churn_part_%  users_count_churn  users_count_total\n",
       "2  Ярославль          19.0               1117               5888\n",
       "0     Ростов          18.8                266               1417\n",
       "1    Рыбинск          16.2                436               2694"
      ]
     },
     "execution_count": 34,
     "metadata": {},
     "output_type": "execute_result"
    }
   ],
   "source": [
    "#сначала составим таблицу по признаку\n",
    "customers_col_pivot = customers_info.pivot_table(index='city', values='churn', aggfunc=['mean', 'sum', 'count']).reset_index()\n",
    "customers_col_pivot.columns = ['city', 'churn_part_%', 'users_count_churn', 'users_count_total']\n",
    "customers_col_pivot['churn_part_%'] = round(customers_col_pivot['churn_part_%']*100, 1)\n",
    "customers_col_pivot = customers_col_pivot.sort_values(by='churn_part_%', ascending=False)\n",
    "customers_col_pivot"
   ]
  },
  {
   "cell_type": "code",
   "execution_count": 35,
   "metadata": {},
   "outputs": [
    {
     "data": {
      "image/png": "[encoded data removed]",
      "text/plain": [
       "<Figure size 720x432 with 1 Axes>"
      ]
     },
     "metadata": {},
     "output_type": "display_data"
    }
   ],
   "source": [
    "#строим график\n",
    "plt.figure(figsize=(10, 6))\n",
    "sns.barplot(data=customers_col_pivot, x='city', y='churn_part_%')\n",
    "plt.title('Процент оттока клиентов по городам', fontsize=14)\n",
    "plt.xlabel('Город', fontsize=12)\n",
    "plt.ylabel('Процент оттока (%)', fontsize=12)\n",
    "plt.axhline(y=18.2, color='red', linestyle='--')\n",
    "plt.xticks(fontsize=10)\n",
    "plt.tight_layout()\n",
    "plt.show()"
   ]
  },
  {
   "cell_type": "markdown",
   "metadata": {},
   "source": [
    "Менее лояльными являются клиенты из Ростова (18.8% доля оттока) и Ярославля (19%)."
   ]
  },
  {
   "cell_type": "markdown",
   "metadata": {},
   "source": [
    "*gender*:"
   ]
  },
  {
   "cell_type": "code",
   "execution_count": 36,
   "metadata": {},
   "outputs": [
    {
     "data": {
      "text/html": [
       "<div>\n",
       "<style scoped>\n",
       "    .dataframe tbody tr th:only-of-type {\n",
       "        vertical-align: middle;\n",
       "    }\n",
       "\n",
       "    .dataframe tbody tr th {\n",
       "        vertical-align: top;\n",
       "    }\n",
       "\n",
       "    .dataframe thead th {\n",
       "        text-align: right;\n",
       "    }\n",
       "</style>\n",
       "<table border=\"1\" class=\"dataframe\">\n",
       "  <thead>\n",
       "    <tr style=\"text-align: right;\">\n",
       "      <th></th>\n",
       "      <th>gender</th>\n",
       "      <th>churn_part_%</th>\n",
       "      <th>users_count_churn</th>\n",
       "      <th>users_count_total</th>\n",
       "    </tr>\n",
       "  </thead>\n",
       "  <tbody>\n",
       "    <tr>\n",
       "      <th>1</th>\n",
       "      <td>М</td>\n",
       "      <td>23.6</td>\n",
       "      <td>1183</td>\n",
       "      <td>5005</td>\n",
       "    </tr>\n",
       "    <tr>\n",
       "      <th>0</th>\n",
       "      <td>Ж</td>\n",
       "      <td>12.7</td>\n",
       "      <td>636</td>\n",
       "      <td>4994</td>\n",
       "    </tr>\n",
       "  </tbody>\n",
       "</table>\n",
       "</div>"
      ],
      "text/plain": [
       "  gender  churn_part_%  users_count_churn  users_count_total\n",
       "1      М          23.6               1183               5005\n",
       "0      Ж          12.7                636               4994"
      ]
     },
     "execution_count": 36,
     "metadata": {},
     "output_type": "execute_result"
    }
   ],
   "source": [
    "#сначала составим таблицу по признаку\n",
    "customers_col_pivot = customers_info.pivot_table(index='gender', values='churn', aggfunc=['mean', 'sum', 'count']).reset_index()\n",
    "customers_col_pivot.columns = ['gender', 'churn_part_%', 'users_count_churn', 'users_count_total']\n",
    "customers_col_pivot['churn_part_%'] = round(customers_col_pivot['churn_part_%']*100, 1)\n",
    "customers_col_pivot = customers_col_pivot.sort_values(by='churn_part_%', ascending=False).replace({0: 'Ж', 1: 'М'})\n",
    "customers_col_pivot"
   ]
  },
  {
   "cell_type": "code",
   "execution_count": 37,
   "metadata": {},
   "outputs": [
    {
     "data": {
      "image/png": "[encoded data removed]",
      "text/plain": [
       "<Figure size 720x432 with 1 Axes>"
      ]
     },
     "metadata": {},
     "output_type": "display_data"
    }
   ],
   "source": [
    "#строим график\n",
    "plt.figure(figsize=(10, 6))\n",
    "sns.barplot(data=customers_col_pivot, x='gender', y='churn_part_%')\n",
    "plt.title('Процент оттока клиентов по полу', fontsize=14)\n",
    "plt.xlabel('Пол', fontsize=12)\n",
    "plt.ylabel('Процент оттока (%)', fontsize=12)\n",
    "plt.axhline(y=18.2, color='red', linestyle='--')\n",
    "plt.xticks(fontsize=10)\n",
    "plt.tight_layout()\n",
    "plt.show()"
   ]
  },
  {
   "cell_type": "markdown",
   "metadata": {},
   "source": [
    "Менее лояльными являются клиенты мужского пола (23.6% доля оттока)."
   ]
  },
  {
   "cell_type": "markdown",
   "metadata": {},
   "source": [
    "*equity*:"
   ]
  },
  {
   "cell_type": "code",
   "execution_count": 38,
   "metadata": {},
   "outputs": [
    {
     "data": {
      "text/html": [
       "<div>\n",
       "<style scoped>\n",
       "    .dataframe tbody tr th:only-of-type {\n",
       "        vertical-align: middle;\n",
       "    }\n",
       "\n",
       "    .dataframe tbody tr th {\n",
       "        vertical-align: top;\n",
       "    }\n",
       "\n",
       "    .dataframe thead th {\n",
       "        text-align: right;\n",
       "    }\n",
       "</style>\n",
       "<table border=\"1\" class=\"dataframe\">\n",
       "  <thead>\n",
       "    <tr style=\"text-align: right;\">\n",
       "      <th></th>\n",
       "      <th>equity</th>\n",
       "      <th>churn_part_%</th>\n",
       "      <th>users_count_churn</th>\n",
       "      <th>users_count_total</th>\n",
       "    </tr>\n",
       "  </thead>\n",
       "  <tbody>\n",
       "    <tr>\n",
       "      <th>9</th>\n",
       "      <td>9</td>\n",
       "      <td>53.8</td>\n",
       "      <td>7</td>\n",
       "      <td>13</td>\n",
       "    </tr>\n",
       "    <tr>\n",
       "      <th>7</th>\n",
       "      <td>7</td>\n",
       "      <td>46.2</td>\n",
       "      <td>37</td>\n",
       "      <td>80</td>\n",
       "    </tr>\n",
       "    <tr>\n",
       "      <th>6</th>\n",
       "      <td>6</td>\n",
       "      <td>36.0</td>\n",
       "      <td>58</td>\n",
       "      <td>161</td>\n",
       "    </tr>\n",
       "    <tr>\n",
       "      <th>8</th>\n",
       "      <td>8</td>\n",
       "      <td>35.3</td>\n",
       "      <td>6</td>\n",
       "      <td>17</td>\n",
       "    </tr>\n",
       "    <tr>\n",
       "      <th>5</th>\n",
       "      <td>5</td>\n",
       "      <td>30.1</td>\n",
       "      <td>577</td>\n",
       "      <td>1918</td>\n",
       "    </tr>\n",
       "    <tr>\n",
       "      <th>4</th>\n",
       "      <td>4</td>\n",
       "      <td>25.1</td>\n",
       "      <td>464</td>\n",
       "      <td>1850</td>\n",
       "    </tr>\n",
       "    <tr>\n",
       "      <th>3</th>\n",
       "      <td>3</td>\n",
       "      <td>20.8</td>\n",
       "      <td>321</td>\n",
       "      <td>1542</td>\n",
       "    </tr>\n",
       "    <tr>\n",
       "      <th>2</th>\n",
       "      <td>2</td>\n",
       "      <td>15.8</td>\n",
       "      <td>166</td>\n",
       "      <td>1052</td>\n",
       "    </tr>\n",
       "    <tr>\n",
       "      <th>1</th>\n",
       "      <td>1</td>\n",
       "      <td>12.0</td>\n",
       "      <td>93</td>\n",
       "      <td>774</td>\n",
       "    </tr>\n",
       "    <tr>\n",
       "      <th>0</th>\n",
       "      <td>0</td>\n",
       "      <td>3.5</td>\n",
       "      <td>90</td>\n",
       "      <td>2592</td>\n",
       "    </tr>\n",
       "  </tbody>\n",
       "</table>\n",
       "</div>"
      ],
      "text/plain": [
       "   equity  churn_part_%  users_count_churn  users_count_total\n",
       "9       9          53.8                  7                 13\n",
       "7       7          46.2                 37                 80\n",
       "6       6          36.0                 58                161\n",
       "8       8          35.3                  6                 17\n",
       "5       5          30.1                577               1918\n",
       "4       4          25.1                464               1850\n",
       "3       3          20.8                321               1542\n",
       "2       2          15.8                166               1052\n",
       "1       1          12.0                 93                774\n",
       "0       0           3.5                 90               2592"
      ]
     },
     "execution_count": 38,
     "metadata": {},
     "output_type": "execute_result"
    }
   ],
   "source": [
    "#сначала составим таблицу по признаку\n",
    "customers_col_pivot = customers_info.pivot_table(index='equity', values='churn', aggfunc=['mean', 'sum', 'count']).reset_index()\n",
    "customers_col_pivot.columns = ['equity', 'churn_part_%', 'users_count_churn', 'users_count_total']\n",
    "customers_col_pivot['churn_part_%'] = round(customers_col_pivot['churn_part_%']*100, 1)\n",
    "customers_col_pivot = customers_col_pivot.sort_values(by='churn_part_%', ascending=False)\n",
    "customers_col_pivot"
   ]
  },
  {
   "cell_type": "code",
   "execution_count": 39,
   "metadata": {},
   "outputs": [
    {
     "data": {
      "image/png": "[encoded data removed]",
      "text/plain": [
       "<Figure size 720x432 with 1 Axes>"
      ]
     },
     "metadata": {},
     "output_type": "display_data"
    }
   ],
   "source": [
    "#строим график\n",
    "plt.figure(figsize=(10, 6))\n",
    "sns.barplot(data=customers_col_pivot, x='equity', y='churn_part_%')\n",
    "plt.title('Процент оттока клиентов по количеству баллов собственности', fontsize=14)\n",
    "plt.xlabel('Количество баллов собственности', fontsize=12)\n",
    "plt.ylabel('Процент оттока (%)', fontsize=12)\n",
    "plt.axhline(y=18.2, color='red', linestyle='--')\n",
    "plt.xticks(fontsize=10)\n",
    "plt.tight_layout()\n",
    "plt.show()"
   ]
  },
  {
   "cell_type": "markdown",
   "metadata": {},
   "source": [
    "Менее лояльными являются клиенты, у которых от 3 до 9 баллов собственности включительно."
   ]
  },
  {
   "cell_type": "markdown",
   "metadata": {},
   "source": [
    "*products*:"
   ]
  },
  {
   "cell_type": "code",
   "execution_count": 40,
   "metadata": {},
   "outputs": [
    {
     "data": {
      "text/html": [
       "<div>\n",
       "<style scoped>\n",
       "    .dataframe tbody tr th:only-of-type {\n",
       "        vertical-align: middle;\n",
       "    }\n",
       "\n",
       "    .dataframe tbody tr th {\n",
       "        vertical-align: top;\n",
       "    }\n",
       "\n",
       "    .dataframe thead th {\n",
       "        text-align: right;\n",
       "    }\n",
       "</style>\n",
       "<table border=\"1\" class=\"dataframe\">\n",
       "  <thead>\n",
       "    <tr style=\"text-align: right;\">\n",
       "      <th></th>\n",
       "      <th>products</th>\n",
       "      <th>churn_part_%</th>\n",
       "      <th>users_count_churn</th>\n",
       "      <th>users_count_total</th>\n",
       "    </tr>\n",
       "  </thead>\n",
       "  <tbody>\n",
       "    <tr>\n",
       "      <th>3</th>\n",
       "      <td>4</td>\n",
       "      <td>63.3</td>\n",
       "      <td>300</td>\n",
       "      <td>474</td>\n",
       "    </tr>\n",
       "    <tr>\n",
       "      <th>4</th>\n",
       "      <td>5</td>\n",
       "      <td>42.1</td>\n",
       "      <td>8</td>\n",
       "      <td>19</td>\n",
       "    </tr>\n",
       "    <tr>\n",
       "      <th>2</th>\n",
       "      <td>3</td>\n",
       "      <td>28.6</td>\n",
       "      <td>297</td>\n",
       "      <td>1039</td>\n",
       "    </tr>\n",
       "    <tr>\n",
       "      <th>1</th>\n",
       "      <td>2</td>\n",
       "      <td>19.1</td>\n",
       "      <td>979</td>\n",
       "      <td>5126</td>\n",
       "    </tr>\n",
       "    <tr>\n",
       "      <th>0</th>\n",
       "      <td>1</td>\n",
       "      <td>7.0</td>\n",
       "      <td>235</td>\n",
       "      <td>3341</td>\n",
       "    </tr>\n",
       "  </tbody>\n",
       "</table>\n",
       "</div>"
      ],
      "text/plain": [
       "   products  churn_part_%  users_count_churn  users_count_total\n",
       "3         4          63.3                300                474\n",
       "4         5          42.1                  8                 19\n",
       "2         3          28.6                297               1039\n",
       "1         2          19.1                979               5126\n",
       "0         1           7.0                235               3341"
      ]
     },
     "execution_count": 40,
     "metadata": {},
     "output_type": "execute_result"
    }
   ],
   "source": [
    "#сначала составим таблицу по признаку\n",
    "customers_col_pivot = customers_info.pivot_table(index='products', values='churn', aggfunc=['mean','sum','count']).reset_index()\n",
    "customers_col_pivot.columns = ['products', 'churn_part_%', 'users_count_churn', 'users_count_total']\n",
    "customers_col_pivot['churn_part_%'] = round(customers_col_pivot['churn_part_%']*100, 1)\n",
    "customers_col_pivot = customers_col_pivot.sort_values(by='churn_part_%', ascending=False)\n",
    "customers_col_pivot"
   ]
  },
  {
   "cell_type": "code",
   "execution_count": 41,
   "metadata": {},
   "outputs": [
    {
     "data": {
      "image/png": "[encoded data removed]",
      "text/plain": [
       "<Figure size 720x432 with 1 Axes>"
      ]
     },
     "metadata": {},
     "output_type": "display_data"
    }
   ],
   "source": [
    "#строим график\n",
    "plt.figure(figsize=(10, 6))\n",
    "sns.barplot(data=customers_col_pivot, x='products', y='churn_part_%')\n",
    "plt.title('Процент оттока клиентов по количеству используемых продуктов', fontsize=14)\n",
    "plt.xlabel('Количество используемых продуктов', fontsize=12)\n",
    "plt.ylabel('Процент оттока (%)', fontsize=12)\n",
    "plt.axhline(y=18.2, color='red', linestyle='--')\n",
    "plt.xticks(fontsize=10)\n",
    "plt.tight_layout()\n",
    "plt.show()"
   ]
  },
  {
   "cell_type": "markdown",
   "metadata": {},
   "source": [
    "Менее лояльными являются клиенты, у которых от 2 до 5 используемых продуктов банка включительно."
   ]
  },
  {
   "cell_type": "markdown",
   "metadata": {},
   "source": [
    "*credit_card*:"
   ]
  },
  {
   "cell_type": "code",
   "execution_count": 42,
   "metadata": {},
   "outputs": [
    {
     "data": {
      "text/html": [
       "<div>\n",
       "<style scoped>\n",
       "    .dataframe tbody tr th:only-of-type {\n",
       "        vertical-align: middle;\n",
       "    }\n",
       "\n",
       "    .dataframe tbody tr th {\n",
       "        vertical-align: top;\n",
       "    }\n",
       "\n",
       "    .dataframe thead th {\n",
       "        text-align: right;\n",
       "    }\n",
       "</style>\n",
       "<table border=\"1\" class=\"dataframe\">\n",
       "  <thead>\n",
       "    <tr style=\"text-align: right;\">\n",
       "      <th></th>\n",
       "      <th>credit_card</th>\n",
       "      <th>churn_part_%</th>\n",
       "      <th>users_count_churn</th>\n",
       "      <th>users_count_total</th>\n",
       "    </tr>\n",
       "  </thead>\n",
       "  <tbody>\n",
       "    <tr>\n",
       "      <th>0</th>\n",
       "      <td>Нет</td>\n",
       "      <td>25.5</td>\n",
       "      <td>816</td>\n",
       "      <td>3195</td>\n",
       "    </tr>\n",
       "    <tr>\n",
       "      <th>1</th>\n",
       "      <td>Есть</td>\n",
       "      <td>14.7</td>\n",
       "      <td>1003</td>\n",
       "      <td>6804</td>\n",
       "    </tr>\n",
       "  </tbody>\n",
       "</table>\n",
       "</div>"
      ],
      "text/plain": [
       "  credit_card  churn_part_%  users_count_churn  users_count_total\n",
       "0         Нет          25.5                816               3195\n",
       "1        Есть          14.7               1003               6804"
      ]
     },
     "execution_count": 42,
     "metadata": {},
     "output_type": "execute_result"
    }
   ],
   "source": [
    "#сначала составим таблицу по признаку\n",
    "customers_col_pivot = customers_info\\\n",
    ".pivot_table(index='credit_card', values='churn', aggfunc=['mean','sum','count']).reset_index()\n",
    "customers_col_pivot.columns = ['credit_card', 'churn_part_%', 'users_count_churn', 'users_count_total']\n",
    "customers_col_pivot['churn_part_%'] = round(customers_col_pivot['churn_part_%']*100, 1)\n",
    "customers_col_pivot = customers_col_pivot.sort_values(by='churn_part_%', ascending=False).replace({0: 'Нет', 1: 'Есть'})\n",
    "customers_col_pivot"
   ]
  },
  {
   "cell_type": "code",
   "execution_count": 43,
   "metadata": {},
   "outputs": [
    {
     "data": {
      "image/png": "[encoded data removed]",
      "text/plain": [
       "<Figure size 720x432 with 1 Axes>"
      ]
     },
     "metadata": {},
     "output_type": "display_data"
    }
   ],
   "source": [
    "#строим график\n",
    "plt.figure(figsize=(10, 6))\n",
    "sns.barplot(data=customers_col_pivot, x='credit_card', y='churn_part_%')\n",
    "plt.title('Процент оттока клиентов по наличию кредитной карты', fontsize=14)\n",
    "plt.xlabel('Наличие кредитной карты', fontsize=12)\n",
    "plt.ylabel('Процент оттока (%)', fontsize=12)\n",
    "plt.axhline(y=18.2, color='red', linestyle='--')\n",
    "plt.xticks(fontsize=10)\n",
    "plt.tight_layout()\n",
    "plt.show()"
   ]
  },
  {
   "cell_type": "markdown",
   "metadata": {},
   "source": [
    "Менее лояльными являются клиенты, у которых у которых нет кредитной карты банка (25.5% доля оттока)."
   ]
  },
  {
   "cell_type": "markdown",
   "metadata": {},
   "source": [
    "*last_activity*:"
   ]
  },
  {
   "cell_type": "code",
   "execution_count": 44,
   "metadata": {},
   "outputs": [
    {
     "data": {
      "text/html": [
       "<div>\n",
       "<style scoped>\n",
       "    .dataframe tbody tr th:only-of-type {\n",
       "        vertical-align: middle;\n",
       "    }\n",
       "\n",
       "    .dataframe tbody tr th {\n",
       "        vertical-align: top;\n",
       "    }\n",
       "\n",
       "    .dataframe thead th {\n",
       "        text-align: right;\n",
       "    }\n",
       "</style>\n",
       "<table border=\"1\" class=\"dataframe\">\n",
       "  <thead>\n",
       "    <tr style=\"text-align: right;\">\n",
       "      <th></th>\n",
       "      <th>last_activity</th>\n",
       "      <th>churn_part_%</th>\n",
       "      <th>users_count_churn</th>\n",
       "      <th>users_count_total</th>\n",
       "    </tr>\n",
       "  </thead>\n",
       "  <tbody>\n",
       "    <tr>\n",
       "      <th>1</th>\n",
       "      <td>Есть</td>\n",
       "      <td>24.4</td>\n",
       "      <td>1278</td>\n",
       "      <td>5235</td>\n",
       "    </tr>\n",
       "    <tr>\n",
       "      <th>0</th>\n",
       "      <td>Нет</td>\n",
       "      <td>11.4</td>\n",
       "      <td>541</td>\n",
       "      <td>4764</td>\n",
       "    </tr>\n",
       "  </tbody>\n",
       "</table>\n",
       "</div>"
      ],
      "text/plain": [
       "  last_activity  churn_part_%  users_count_churn  users_count_total\n",
       "1          Есть          24.4               1278               5235\n",
       "0           Нет          11.4                541               4764"
      ]
     },
     "execution_count": 44,
     "metadata": {},
     "output_type": "execute_result"
    }
   ],
   "source": [
    "#сначала составим таблицу по признаку\n",
    "customers_col_pivot = customers_info\\\n",
    ".pivot_table(index='last_activity', values='churn', aggfunc=['mean','sum','count']).reset_index()\n",
    "customers_col_pivot.columns = ['last_activity', 'churn_part_%', 'users_count_churn', 'users_count_total']\n",
    "customers_col_pivot['churn_part_%'] = round(customers_col_pivot['churn_part_%']*100, 1)\n",
    "customers_col_pivot = customers_col_pivot.sort_values(by='churn_part_%', ascending=False).replace({0: 'Нет', 1: 'Есть'})\n",
    "customers_col_pivot"
   ]
  },
  {
   "cell_type": "code",
   "execution_count": 45,
   "metadata": {},
   "outputs": [
    {
     "data": {
      "image/png": "[encoded data removed]",
      "text/plain": [
       "<Figure size 720x432 with 1 Axes>"
      ]
     },
     "metadata": {},
     "output_type": "display_data"
    }
   ],
   "source": [
    "#строим график\n",
    "plt.figure(figsize=(10, 6))\n",
    "sns.barplot(data=customers_col_pivot, x='last_activity', y='churn_part_%')\n",
    "plt.title('Процент оттока клиентов по наличию активности в сервисах банка за последние 3 месяца', fontsize=14)\n",
    "plt.xlabel('Наличие активности', fontsize=12)\n",
    "plt.ylabel('Процент оттока (%)', fontsize=12)\n",
    "plt.axhline(y=18.2, color='red', linestyle='--')\n",
    "plt.xticks(fontsize=10)\n",
    "plt.tight_layout()\n",
    "plt.show()"
   ]
  },
  {
   "cell_type": "markdown",
   "metadata": {},
   "source": [
    "Менее лояльными являются клиенты, у которых есть активность в сервисах банка за последние 3 месяца (24.4% доля оттока). Скорее всего это связано с тем, что клиенты без активности соответственно не имели возможности ответить на вопросы о желании прекратить сотрудничество с банком."
   ]
  },
  {
   "cell_type": "markdown",
   "metadata": {},
   "source": [
    "<a id='Корреляционный-анализ'></a>\n",
    "\n",
    "Проведем корреляционный анализ признаков:"
   ]
  },
  {
   "cell_type": "code",
   "execution_count": 46,
   "metadata": {},
   "outputs": [
    {
     "data": {
      "image/png": "[encoded data removed]",
      "text/plain": [
       "<Figure size 720x432 with 2 Axes>"
      ]
     },
     "metadata": {},
     "output_type": "display_data"
    }
   ],
   "source": [
    "#считать корреляцию будем с помощью phi_k, т.к. это универсальный способ выявить взаимосвязь с разными типами значений,\n",
    "#который, к тому же, учитывает не только прямую корреляцию\n",
    "\n",
    "#формирование матрицы ФИк с указанием числовых столбцов \n",
    "phik_corr_matrix = (customers_info[customers_info.columns.difference(['user_id', 'missing_balance', 'missing_age', 'city'])]\n",
    "                    .phik_matrix(interval_cols=['score', 'balance', 'est_salary', 'age']))\n",
    "\n",
    "#визуализация с преобразованием матрицы в массив на входе, метки берем с оригинальной матрицы\n",
    "plot_correlation_matrix(phik_corr_matrix.to_numpy(), \n",
    "                        x_labels=phik_corr_matrix.columns.to_list(), \n",
    "                        y_labels=phik_corr_matrix.index.to_list(),\n",
    "                        title='Корреляция признаков',\n",
    "                        figsize=(10, 6))"
   ]
  },
  {
   "cell_type": "markdown",
   "metadata": {},
   "source": [
    "На текущем этапе нас интересует корреляция признаков с параметром оттока *churn*, выделим ее:"
   ]
  },
  {
   "cell_type": "code",
   "execution_count": 47,
   "metadata": {},
   "outputs": [
    {
     "data": {
      "image/png": "[encoded data removed]",
      "text/plain": [
       "<Figure size 720x432 with 2 Axes>"
      ]
     },
     "metadata": {},
     "output_type": "display_data"
    }
   ],
   "source": [
    "#сделаем столбец корреляции только по churn\n",
    "\n",
    "#запишем отдельную переменную предыдущей матрицы только с churn\n",
    "churn_correlation = phik_corr_matrix['churn'].sort_values(ascending=False).drop('churn').reset_index()\n",
    "#определим столбцы\n",
    "churn_correlation.columns = ['feature', 'correlation']\n",
    "\n",
    "#визуализация с помощью seaborn, тк plot_correlation_matrix поддерживает только двумерный массив (все на все)\n",
    "plt.figure(figsize=(10, 6))\n",
    "sns.heatmap(churn_correlation.set_index('feature'), annot=True, fmt=\".0%\", cmap='YlGn', center=0)\n",
    "plt.title('Корреляция признаков с показателем отточности')\n",
    "plt.show()"
   ]
  },
  {
   "cell_type": "markdown",
   "metadata": {},
   "source": [
    "Для оценки корреляции воспользуемся шкалой Чеддока, согласно которой:\n",
    "\n",
    "0,1 – 0,3: слабая\n",
    "\n",
    "0,3 – 0,5: умеренная\n",
    "\n",
    "0,5 – 0,7: заметная\n",
    "\n",
    "0,7 – 0,9: высокая\n",
    "\n",
    "0,9 – 0,99: весьма высокая."
   ]
  },
  {
   "cell_type": "markdown",
   "metadata": {},
   "source": [
    "Таким образом, все признаки имеют слабую взаимосвязь с *churn*, параметром отточности, за исключением *equity*, количества баллов собственности - умеренная взаимосвязь.\n",
    "\n",
    "(Необходимо иметь в виду, что используется только шкала Чеддока, сам коэффициент рассчитывается с помощью Phi_k) "
   ]
  },
  {
   "cell_type": "markdown",
   "metadata": {},
   "source": [
    "**Вывод:**\n",
    "\n",
    "Проведен исследовательский анализ данных:\n",
    "\n",
    "* Составлены портреты лояльного клиента и клиента, склонного к прекращению сотрудничества, выявленные характерные различия:\n",
    "\n",
    "        * Баланс отточного клиента выше на 357679.5 (+46%);\n",
    "        * Минимальная разница в примерном уровне дохода, у отточного клиента выше на 7137.5 (+6%);\n",
    "        * Минимальная разница в возрасте, отточный клиент моложе на 1 год (-3%);\n",
    "        * У отточного клиента больше баллов собственности на 2 (+100%);\n",
    "        * У отточного клиента больше баллов скоринга на 18 (+2%);\n",
    "        * Совпадает город: Ярославль;\n",
    "        * Пол лояльного клиента: Ж, отточного клиента: М;\n",
    "        * У обоих клиентов есть кредитная карта;\n",
    "        * У отточного клиента есть активность за последние 3 месяца, у лояльного - нет.\n",
    "        \n",
    "* Рассчитаная доля отточных клиентов по банку: 18.2%;\n",
    "        \n",
    "* Проанализированы признаки и их отточные диапазоны/категории: \n",
    "\n",
    "        * score — диапазон: от 821 до 938, доля оттока по выделенному сегменту: 23.0 %;\n",
    "        * city — Ростов (18.8% доля оттока) и Ярославль (19%);\n",
    "        * gender — мужской пол (23.6% доля оттока);\n",
    "        * age — диапазон: от 25 до 35 и от 50 до 60, доля оттока по выделенному сегменту: 24.3 %;\n",
    "        * equity — от 3 до 9 баллов собственности (3 - 20.8%, 4 - 25.1%, 5 - 30.1%, 6 - 36%, 7 - 46.2%, 8 - 35.3%, 9 - 53.8%);\n",
    "        * balance — диапазон: от 1140000, доля оттока по выделенному сегменту: 39.8 %;\n",
    "        * products — от 2 до 5 используемых продуктов банка (2 - 19.1%, 3 - 28.6%, 4 - 63.3%, 5 - 42.1%);\n",
    "        * credit_card — нет кредитной карты банка (25.5% доля оттока);\n",
    "        * last_activity — есть активность в сервисах банка за последние 3 месяца (24.4% доля оттока);\n",
    "        * est_salary — диапазон: от 93000 до 212000, доля оттока по выделенному сегменту: 20.2 %.\n",
    "\n",
    "* Все признаки имеют слабую взаимосвязь (до 0.3 включительно) с churn, параметром отточности, за исключением equity, количества баллов собственности - умеренная взаимосвязь (0.35).\n",
    "\n",
    "[Вернуться к содержанию](#Содержание)"
   ]
  },
  {
   "cell_type": "markdown",
   "metadata": {},
   "source": [
    "<a id='Проверка-статистических-гипотез'></a>\n",
    "## 4 Проверка статистических гипотез"
   ]
  },
  {
   "cell_type": "markdown",
   "metadata": {},
   "source": [
    "Проверим гипотезы по текущему исследованию. \n",
    "<a id='Гипотеза-1'></a>\n",
    "\n",
    "Сформулируем первую гипотезу:\n",
    "\n",
    "H0: Доход клиентов у лояльных клиентов и склонных к прекращению сотрудничества равен;\n",
    "\n",
    "H1: Доход клиентов значимо отличается у лояльных клиентов и склонных к прекращению сотрудничества."
   ]
  },
  {
   "cell_type": "code",
   "execution_count": 48,
   "metadata": {},
   "outputs": [
    {
     "name": "stdout",
     "output_type": "stream",
     "text": [
      "p-значение:  0.00021160652203623057\n",
      "Отвергаем нулевую гипотезу: разница статистически значима\n"
     ]
    }
   ],
   "source": [
    "#для проверки будем использовать критерий Манна-Уитни, тк исследуемый признак имеет правостороннее распределение(ассиметрия)\n",
    "#и выбросы\n",
    "\n",
    "#возьмем стандартную границу в 5%\n",
    "alpha = .05\n",
    "results = st.mannwhitneyu(customers_info[customers_info['churn']==1]['est_salary'],\n",
    "                          customers_info[customers_info['churn']==0]['est_salary'])\n",
    "print('p-значение: ', results.pvalue)\n",
    "if (results.pvalue < alpha):\n",
    "    print(\"Отвергаем нулевую гипотезу: разница статистически значима\")\n",
    "else:\n",
    "    print(\"Не получилось отвергнуть нулевую гипотезу, вывод о различии сделать нельзя\")"
   ]
  },
  {
   "cell_type": "markdown",
   "metadata": {},
   "source": [
    "Таким образом, примерный доход лояльных и не лояльных клиентов, вероятно, различается в генеральной совокупности. \n",
    "\n",
    "Детальнее взглянем на значения соовтетствующих столбцов в нашей выборке: "
   ]
  },
  {
   "cell_type": "code",
   "execution_count": 49,
   "metadata": {},
   "outputs": [
    {
     "name": "stdout",
     "output_type": "stream",
     "text": [
      "Средний доход по лояльным клиентам: 148310.72820230896\n",
      "Средний доход по не лояльным клиентам: 147783.20010757947\n"
     ]
    }
   ],
   "source": [
    "#выведем средний доход по группам\n",
    "print('Средний доход по лояльным клиентам:', customers_info[customers_info['churn']==1]['est_salary'].mean())\n",
    "print('Средний доход по не лояльным клиентам:', customers_info[customers_info['churn']==0]['est_salary'].mean())"
   ]
  },
  {
   "cell_type": "markdown",
   "metadata": {},
   "source": [
    "Видим, что значения слабо различаются, однако вероятность получить эту разницу случайно при условии, что эти значения в генеральной совокупности равны, составляет всего 0.02%, что говорит нам о неслучайности различия. "
   ]
  },
  {
   "cell_type": "markdown",
   "metadata": {},
   "source": [
    "Расширим проверку, добавив тест гипотезы с помощью t-критерия Стьюдента, и сравним результаты с уже выполненной проверкой u-критерием Манна-Уитни:"
   ]
  },
  {
   "cell_type": "code",
   "execution_count": 50,
   "metadata": {},
   "outputs": [
    {
     "name": "stdout",
     "output_type": "stream",
     "text": [
      "Вероятность нормального распределения зарплат отточной группы: p-value = 0.0\n",
      "Вероятность нормального распределения зарплат лояльной группы: p-value = 0.0\n",
      "Вероятность равенства дисперсий двух групп: p-value = 0.009384429599783289\n"
     ]
    }
   ],
   "source": [
    "#ttest подходит только для нормально распределенных данных, в которых нет аномалий, так как сравниваются средние значения\n",
    "\n",
    "#ранее мы посчитали распределение примерных зарплат ассиметричным (хвост вправо), проверим насколько это верно для групп\n",
    "#используем тест Шапиро-Уилка на нормальность распределения\n",
    "print(\"Вероятность нормального распределения зарплат отточной группы: p-value =\", \n",
    "      st.shapiro(customers_info[customers_info['churn']==1]['est_salary']).pvalue)\n",
    "print(\"Вероятность нормального распределения зарплат лояльной группы: p-value =\", \n",
    "      st.shapiro(customers_info[customers_info['churn']==0]['est_salary']).pvalue)\n",
    "\n",
    "#чаще всего выборки имеют схожую дисперсию, однако нам нужно выяснить равны ли дипсперсии групп для выбора конкретного теста\n",
    "#с помощью t критерия: обычный t test или t test Уэлша (дисперсии не равны), для проверки будем использовать тест Левена\n",
    "levene_test = st.levene(customers_info[customers_info['churn']==1]['est_salary'],\n",
    "                        customers_info[customers_info['churn']==0]['est_salary'])\n",
    "print(\"Вероятность равенства дисперсий двух групп: p-value =\", levene_test.pvalue)"
   ]
  },
  {
   "cell_type": "markdown",
   "metadata": {},
   "source": [
    "У лояльной и отточной групп по примерному доходу нет нормального распределения, что делает дальнейшее тестирование с помощью t-критерия ненадежным, проверим его вывод:"
   ]
  },
  {
   "cell_type": "code",
   "execution_count": 51,
   "metadata": {},
   "outputs": [
    {
     "name": "stdout",
     "output_type": "stream",
     "text": [
      "p-значение:  0.8724727072323815\n",
      "Не получилось отвергнуть нулевую гипотезу, вывод о различии сделать нельзя\n"
     ]
    }
   ],
   "source": [
    "#проведем проверку гипотезы с помощью t критерия тестом Уэлша (дисперсии не равны) \n",
    "results = st.ttest_ind(customers_info[customers_info['churn']==1]['est_salary'],\n",
    "                      customers_info[customers_info['churn']==0]['est_salary'],\n",
    "                      equal_var=False)\n",
    "print('p-значение: ', results.pvalue)\n",
    "if (results.pvalue < alpha):\n",
    "    print(\"Отвергаем нулевую гипотезу: разница статистически значима\")\n",
    "else:\n",
    "    print(\"Не получилось отвергнуть нулевую гипотезу, вывод о различии сделать нельзя\")"
   ]
  },
  {
   "cell_type": "markdown",
   "metadata": {},
   "source": [
    "Как и предполагалось, тест с t-критерием показал другой результат, что демонстрирует важность учета распределения.\n",
    "Тест с u-критерием, в свою очередь, сравнивает медианы, поэтому не так зависит от выбросов и нормальности распределения."
   ]
  },
  {
   "cell_type": "markdown",
   "metadata": {},
   "source": [
    "<a id='Гипотеза-2'></a>\n",
    "Ранее мы выявили, что по нашим данным клиенты, которые были активны в течение последних 3 месяцев, более склонны к прекращению пользования сервисов банка, отток среди таких клиентов составляет 24.4% против 11.4% у тех клиентов, кто не был активен за последние 3 месяца. Мы связали это с опросами, на которых строится вывод о готовности к прекращению сотрудничества, неактивные пользователи не могут его пройти. Однако это исходя из природы сбора данных, в то время, как логически - неактивные пользователи чаще прекращают сотрудничество.\n",
    "\n",
    "Выясним, похоже ли предположение об опросах на правду, и так же ли обстоят дела в случае с генеральной совокупностью.\n",
    "\n",
    "Сформулируем вторую гипотезу:\n",
    "\n",
    "H0: Доля отточных клиентов среди активных пользователей равна или меньше, чем аналогичная доля среди неактивных клиентов;\n",
    "\n",
    "H1: Доля отточных клиентов среди активных пользователей больше, чем аналогичная доля среди неактивных клиентов."
   ]
  },
  {
   "cell_type": "code",
   "execution_count": 52,
   "metadata": {},
   "outputs": [
    {
     "name": "stdout",
     "output_type": "stream",
     "text": [
      "p-значение:  2.1436672145735158e-64\n",
      "Отвергаем нулевую гипотезу: доля отточных клиентов среди активных выше, чем среди неактивных\n"
     ]
    }
   ],
   "source": [
    "#Тк мы имеем дело с долями и бинарными данными в столбце с активностью и оттоком(успех или нет),то будем использовать z-критерий\n",
    "#Тест односторонний соответственно сформулированной гипотезе\n",
    "\n",
    "#сохраним количество активнрых и неактивных отточнгых клиентов\n",
    "active_churn_count = customers_info[(customers_info['last_activity']==1) & (customers_info['churn']==1)]['user_id'].count()\n",
    "inactive_churn_count = customers_info[(customers_info['last_activity']==0) & (customers_info['churn']==1)]['user_id'].count()\n",
    "\n",
    "#сохраним общее количество активных и неактивных клиентов\n",
    "active_total = customers_info[customers_info['last_activity']==1]['user_id'].count()\n",
    "inactive_total = customers_info[customers_info['last_activity']==0]['user_id'].count()\n",
    "\n",
    "#обозначим количество попыток и успехов для теста\n",
    "successes = [active_churn_count, inactive_churn_count]\n",
    "totals = [active_total, inactive_total]\n",
    "\n",
    "#проводим односторонний z test\n",
    "stat, p_value = proportions_ztest(successes, totals, alternative='larger')\n",
    "\n",
    "print('p-значение: ', p_value)\n",
    "if p_value < alpha:\n",
    "    print(\"Отвергаем нулевую гипотезу: доля отточных клиентов среди активных выше, чем среди неактивных\")\n",
    "else:\n",
    "    print(\"Не получилось отвергнуть нулевую гипотезу: доля отточных клиентов среди активных не выше, чем среди неактивных\")"
   ]
  },
  {
   "cell_type": "markdown",
   "metadata": {},
   "source": [
    "С крайне большой вероятностью значение количества отточных клиентов среди активных пользователей выше, чем среди неактивных, в генеральной совокупности. Что оставляет в качестве объяснения только один вариант с опросами."
   ]
  },
  {
   "cell_type": "markdown",
   "metadata": {},
   "source": [
    "**Вывод:**\n",
    "\n",
    "Проверены 2 гипотезы, согласно которым выявлено, что:\n",
    "\n",
    "* Доход клиентов значимо отличается у лояльных клиентов и склонных к прекращению сотрудничества;\n",
    "\n",
    "* Доля отточных клиентов среди активных пользователей больше, чем аналогичная доля среди неактивных клиентов.\n",
    "\n",
    "[Вернуться к содержанию](#Содержание)"
   ]
  },
  {
   "cell_type": "markdown",
   "metadata": {},
   "source": [
    "<a id='Сегментация-пользователей'></a>\n",
    "## 5 Сегментация пользователей"
   ]
  },
  {
   "cell_type": "markdown",
   "metadata": {},
   "source": [
    "<a id='Разделение-клиентов'></a>\n",
    "Проведем сегментацию клиентов банка на основе исследованных признаков и их выявленных диапазонов \"оттока\":"
   ]
  },
  {
   "cell_type": "code",
   "execution_count": 53,
   "metadata": {},
   "outputs": [
    {
     "name": "stdout",
     "output_type": "stream",
     "text": [
      "Размер сегмента 1: 1493\n",
      "Доля оттока в сегменте 1 (%): 40.25452109845948\n",
      "------------------------------------------------\n",
      "Размер сегмента 2: 606\n",
      "Доля оттока в сегменте 2 (%): 53.46534653465347\n",
      "------------------------------------------------\n",
      "Размер сегмента 3: 441\n",
      "Доля оттока в сегменте 3 (%): 36.961451247165535\n"
     ]
    }
   ],
   "source": [
    "#выделим 1 сегмент по активности, наличию кредитной карты и количеству используемых продуктов\n",
    "segment_1 = customers_info[(customers_info['last_activity'] == 1) & \n",
    "                           (customers_info['credit_card'] == 0) &\n",
    "                           (customers_info['products'] >= 2) &\n",
    "                           (customers_info['products'] <= 5)]\n",
    "\n",
    "#2 сегмент: по балансу, баллам собственности, примерной зп и баллам скоринга\n",
    "segment_2 = customers_info[(customers_info['balance'] > 1140000) &\n",
    "                           (customers_info['equity'] >= 3) &\n",
    "                           (customers_info['equity'] <= 9) & \n",
    "                           (customers_info['est_salary'] >= 93000) & \n",
    "                           (customers_info['est_salary'] <= 212000) &\n",
    "                           (customers_info['score'] >= 821) &\n",
    "                           (customers_info['score'] <= 938)]\n",
    "\n",
    "#3 сегмент: по городу, полу и возрасту\n",
    "segment_3 = customers_info[((customers_info['city'] == 'Ростов') | (customers_info['city'] == 'Ярославль')) &\n",
    "                           (customers_info['gender'] == 1) & \n",
    "                           (customers_info['age'] > 50) & (customers_info['age'] < 60)]\n",
    "\n",
    "#выведем основную инфомрацию по сегментам\n",
    "print(\"Размер сегмента 1:\", segment_1['user_id'].count())\n",
    "print(\"Доля оттока в сегменте 1 (%):\", segment_1['churn'].mean() * 100)\n",
    "print('-'*48)\n",
    "print(\"Размер сегмента 2:\", segment_2['user_id'].count())\n",
    "print(\"Доля оттока в сегменте 2 (%):\", segment_2['churn'].mean() * 100)\n",
    "print('-'*48)\n",
    "print(\"Размер сегмента 3:\", segment_3['user_id'].count())\n",
    "print(\"Доля оттока в сегменте 3 (%):\", segment_3['churn'].mean() * 100)"
   ]
  },
  {
   "cell_type": "markdown",
   "metadata": {},
   "source": [
    "У нас есть 3 сегмента клиентов, каждый из которых использует несколько ключевых отточных признаков. \n",
    "\n",
    "Сформируем портрет типипчного клиента по каждому сегменту:"
   ]
  },
  {
   "cell_type": "code",
   "execution_count": 54,
   "metadata": {},
   "outputs": [],
   "source": [
    "#у нас 3 сегмента, запишем функцию с созданием таблицы-портрета, практически аналогичной из исследования данных\n",
    "def create_segment_portrait(segment):\n",
    "    \"\"\"\n",
    "    Создает таблицу с портретом типичного клиента по сегменту.\n",
    "\n",
    "    Принимает:\n",
    "    - segment (DataFrame): Данные выделенного сегмента.\n",
    "\n",
    "    Возвращает:\n",
    "    - DataFrame: Таблица с характеристиками сегмента.\n",
    "    \"\"\"\n",
    "    continuous_cols = ['balance', 'est_salary']\n",
    "    discrete_cols = ['age', 'equity', 'products', 'score']\n",
    "    categorical_cols = ['city', 'gender', 'credit_card', 'last_activity']\n",
    "    \n",
    "    results = []\n",
    "    \n",
    "    # Обработка столбцов с непрерывными значениями\n",
    "    for col in continuous_cols:\n",
    "        mean_value = segment[col].mean().round(1)\n",
    "        median_value = segment[col].median().round(1)\n",
    "        results.append([col, 'mean', mean_value])\n",
    "        results.append([col, 'median', median_value])\n",
    "    \n",
    "    # Обработка столбцов с дискретными значениями\n",
    "    for col in discrete_cols:\n",
    "        median_value = segment[col].median().round(1)\n",
    "        results.append([col, 'median', median_value])\n",
    "    \n",
    "    # Обработка столбцов с категориальными значениями\n",
    "    for col in categorical_cols:\n",
    "        mode_value = segment[col].mode()[0]\n",
    "        results.append([col, 'mode', mode_value])\n",
    "    \n",
    "    # Создание таблицы\n",
    "    segment_portrait = pd.DataFrame(\n",
    "        results, \n",
    "        columns=['feature', 'central_tendency', 'value']\n",
    "    )\n",
    "    \n",
    "    # Замена числовых категорий на текстовые\n",
    "    segment_portrait.loc[segment_portrait['feature'] == 'gender', 'value'] = \\\n",
    "        segment_portrait.loc[segment_portrait['feature'] == 'gender', 'value'].replace({0: 'Ж', 1: 'М'})\n",
    "    \n",
    "    segment_portrait.loc[segment_portrait['feature'].isin(['credit_card', 'last_activity']), 'value'] = \\\n",
    "        segment_portrait.loc[segment_portrait['feature'].isin(['credit_card', 'last_activity']), 'value']\\\n",
    "        .replace({0: 'Нет', 1: 'Есть'})\n",
    "    \n",
    "    return segment_portrait"
   ]
  },
  {
   "cell_type": "markdown",
   "metadata": {},
   "source": [
    "Сформируем портрет клиента по 1 сегменту, который основан на отточных диапазонах признаков, относящихся к активности и пользованию продуктов банка:"
   ]
  },
  {
   "cell_type": "code",
   "execution_count": 55,
   "metadata": {},
   "outputs": [
    {
     "data": {
      "text/html": [
       "<div>\n",
       "<style scoped>\n",
       "    .dataframe tbody tr th:only-of-type {\n",
       "        vertical-align: middle;\n",
       "    }\n",
       "\n",
       "    .dataframe tbody tr th {\n",
       "        vertical-align: top;\n",
       "    }\n",
       "\n",
       "    .dataframe thead th {\n",
       "        text-align: right;\n",
       "    }\n",
       "</style>\n",
       "<table border=\"1\" class=\"dataframe\">\n",
       "  <thead>\n",
       "    <tr style=\"text-align: right;\">\n",
       "      <th></th>\n",
       "      <th>feature</th>\n",
       "      <th>central_tendency</th>\n",
       "      <th>value</th>\n",
       "    </tr>\n",
       "  </thead>\n",
       "  <tbody>\n",
       "    <tr>\n",
       "      <th>0</th>\n",
       "      <td>balance</td>\n",
       "      <td>mean</td>\n",
       "      <td>1025770.1</td>\n",
       "    </tr>\n",
       "    <tr>\n",
       "      <th>1</th>\n",
       "      <td>balance</td>\n",
       "      <td>median</td>\n",
       "      <td>675832.8</td>\n",
       "    </tr>\n",
       "    <tr>\n",
       "      <th>2</th>\n",
       "      <td>est_salary</td>\n",
       "      <td>mean</td>\n",
       "      <td>134761.5</td>\n",
       "    </tr>\n",
       "    <tr>\n",
       "      <th>3</th>\n",
       "      <td>est_salary</td>\n",
       "      <td>median</td>\n",
       "      <td>111281.0</td>\n",
       "    </tr>\n",
       "    <tr>\n",
       "      <th>4</th>\n",
       "      <td>age</td>\n",
       "      <td>median</td>\n",
       "      <td>42.0</td>\n",
       "    </tr>\n",
       "    <tr>\n",
       "      <th>5</th>\n",
       "      <td>equity</td>\n",
       "      <td>median</td>\n",
       "      <td>4.0</td>\n",
       "    </tr>\n",
       "    <tr>\n",
       "      <th>6</th>\n",
       "      <td>products</td>\n",
       "      <td>median</td>\n",
       "      <td>2.0</td>\n",
       "    </tr>\n",
       "    <tr>\n",
       "      <th>7</th>\n",
       "      <td>score</td>\n",
       "      <td>median</td>\n",
       "      <td>852.0</td>\n",
       "    </tr>\n",
       "    <tr>\n",
       "      <th>8</th>\n",
       "      <td>city</td>\n",
       "      <td>mode</td>\n",
       "      <td>Ярославль</td>\n",
       "    </tr>\n",
       "    <tr>\n",
       "      <th>9</th>\n",
       "      <td>gender</td>\n",
       "      <td>mode</td>\n",
       "      <td>Ж</td>\n",
       "    </tr>\n",
       "    <tr>\n",
       "      <th>10</th>\n",
       "      <td>credit_card</td>\n",
       "      <td>mode</td>\n",
       "      <td>Нет</td>\n",
       "    </tr>\n",
       "    <tr>\n",
       "      <th>11</th>\n",
       "      <td>last_activity</td>\n",
       "      <td>mode</td>\n",
       "      <td>Есть</td>\n",
       "    </tr>\n",
       "  </tbody>\n",
       "</table>\n",
       "</div>"
      ],
      "text/plain": [
       "          feature central_tendency      value\n",
       "0         balance             mean  1025770.1\n",
       "1         balance           median   675832.8\n",
       "2      est_salary             mean   134761.5\n",
       "3      est_salary           median   111281.0\n",
       "4             age           median       42.0\n",
       "5          equity           median        4.0\n",
       "6        products           median        2.0\n",
       "7           score           median      852.0\n",
       "8            city             mode  Ярославль\n",
       "9          gender             mode          Ж\n",
       "10    credit_card             mode        Нет\n",
       "11  last_activity             mode       Есть"
      ]
     },
     "execution_count": 55,
     "metadata": {},
     "output_type": "execute_result"
    }
   ],
   "source": [
    "create_segment_portrait(segment_1)"
   ]
  },
  {
   "cell_type": "markdown",
   "metadata": {},
   "source": [
    "Судя по портрету, клиенты первого сегмента - активные пользователи с высоким уровнем дохода и финансовым остатком. Они финансово стабильны и активно взаимодействуют с банком, что делает их важной группой для дальнейшего удержания и повышения лояльности."
   ]
  },
  {
   "cell_type": "markdown",
   "metadata": {},
   "source": [
    "Сформируем портрет клиента по 2 сегменту, который основан на отточных диапазонах признаков, относящихся к количественной оценке финансовой стабильности клиента:"
   ]
  },
  {
   "cell_type": "code",
   "execution_count": 56,
   "metadata": {},
   "outputs": [
    {
     "data": {
      "text/html": [
       "<div>\n",
       "<style scoped>\n",
       "    .dataframe tbody tr th:only-of-type {\n",
       "        vertical-align: middle;\n",
       "    }\n",
       "\n",
       "    .dataframe tbody tr th {\n",
       "        vertical-align: top;\n",
       "    }\n",
       "\n",
       "    .dataframe thead th {\n",
       "        text-align: right;\n",
       "    }\n",
       "</style>\n",
       "<table border=\"1\" class=\"dataframe\">\n",
       "  <thead>\n",
       "    <tr style=\"text-align: right;\">\n",
       "      <th></th>\n",
       "      <th>feature</th>\n",
       "      <th>central_tendency</th>\n",
       "      <th>value</th>\n",
       "    </tr>\n",
       "  </thead>\n",
       "  <tbody>\n",
       "    <tr>\n",
       "      <th>0</th>\n",
       "      <td>balance</td>\n",
       "      <td>mean</td>\n",
       "      <td>1896033.7</td>\n",
       "    </tr>\n",
       "    <tr>\n",
       "      <th>1</th>\n",
       "      <td>balance</td>\n",
       "      <td>median</td>\n",
       "      <td>1456263.3</td>\n",
       "    </tr>\n",
       "    <tr>\n",
       "      <th>2</th>\n",
       "      <td>est_salary</td>\n",
       "      <td>mean</td>\n",
       "      <td>149433.8</td>\n",
       "    </tr>\n",
       "    <tr>\n",
       "      <th>3</th>\n",
       "      <td>est_salary</td>\n",
       "      <td>median</td>\n",
       "      <td>147495.4</td>\n",
       "    </tr>\n",
       "    <tr>\n",
       "      <th>4</th>\n",
       "      <td>age</td>\n",
       "      <td>median</td>\n",
       "      <td>42.0</td>\n",
       "    </tr>\n",
       "    <tr>\n",
       "      <th>5</th>\n",
       "      <td>equity</td>\n",
       "      <td>median</td>\n",
       "      <td>4.0</td>\n",
       "    </tr>\n",
       "    <tr>\n",
       "      <th>6</th>\n",
       "      <td>products</td>\n",
       "      <td>median</td>\n",
       "      <td>2.0</td>\n",
       "    </tr>\n",
       "    <tr>\n",
       "      <th>7</th>\n",
       "      <td>score</td>\n",
       "      <td>median</td>\n",
       "      <td>897.0</td>\n",
       "    </tr>\n",
       "    <tr>\n",
       "      <th>8</th>\n",
       "      <td>city</td>\n",
       "      <td>mode</td>\n",
       "      <td>Ярославль</td>\n",
       "    </tr>\n",
       "    <tr>\n",
       "      <th>9</th>\n",
       "      <td>gender</td>\n",
       "      <td>mode</td>\n",
       "      <td>М</td>\n",
       "    </tr>\n",
       "    <tr>\n",
       "      <th>10</th>\n",
       "      <td>credit_card</td>\n",
       "      <td>mode</td>\n",
       "      <td>Нет</td>\n",
       "    </tr>\n",
       "    <tr>\n",
       "      <th>11</th>\n",
       "      <td>last_activity</td>\n",
       "      <td>mode</td>\n",
       "      <td>Есть</td>\n",
       "    </tr>\n",
       "  </tbody>\n",
       "</table>\n",
       "</div>"
      ],
      "text/plain": [
       "          feature central_tendency      value\n",
       "0         balance             mean  1896033.7\n",
       "1         balance           median  1456263.3\n",
       "2      est_salary             mean   149433.8\n",
       "3      est_salary           median   147495.4\n",
       "4             age           median       42.0\n",
       "5          equity           median        4.0\n",
       "6        products           median        2.0\n",
       "7           score           median      897.0\n",
       "8            city             mode  Ярославль\n",
       "9          gender             mode          М\n",
       "10    credit_card             mode        Нет\n",
       "11  last_activity             mode       Есть"
      ]
     },
     "execution_count": 56,
     "metadata": {},
     "output_type": "execute_result"
    }
   ],
   "source": [
    "create_segment_portrait(segment_2)"
   ]
  },
  {
   "cell_type": "markdown",
   "metadata": {},
   "source": [
    "Клиенты второго сегмента демонстрируют высокую финансовую стабильность и имеют значительные активы. Они активно используют банковские услуги, хотя их взаимодействие, скорее всего, сосредоточено на базовых продуктах."
   ]
  },
  {
   "cell_type": "markdown",
   "metadata": {},
   "source": [
    "Сформируем портрет клиента по 3 сегменту, который основан на личных биографичных данных:"
   ]
  },
  {
   "cell_type": "code",
   "execution_count": 57,
   "metadata": {},
   "outputs": [
    {
     "data": {
      "text/html": [
       "<div>\n",
       "<style scoped>\n",
       "    .dataframe tbody tr th:only-of-type {\n",
       "        vertical-align: middle;\n",
       "    }\n",
       "\n",
       "    .dataframe tbody tr th {\n",
       "        vertical-align: top;\n",
       "    }\n",
       "\n",
       "    .dataframe thead th {\n",
       "        text-align: right;\n",
       "    }\n",
       "</style>\n",
       "<table border=\"1\" class=\"dataframe\">\n",
       "  <thead>\n",
       "    <tr style=\"text-align: right;\">\n",
       "      <th></th>\n",
       "      <th>feature</th>\n",
       "      <th>central_tendency</th>\n",
       "      <th>value</th>\n",
       "    </tr>\n",
       "  </thead>\n",
       "  <tbody>\n",
       "    <tr>\n",
       "      <th>0</th>\n",
       "      <td>balance</td>\n",
       "      <td>mean</td>\n",
       "      <td>1305109.9</td>\n",
       "    </tr>\n",
       "    <tr>\n",
       "      <th>1</th>\n",
       "      <td>balance</td>\n",
       "      <td>median</td>\n",
       "      <td>827794.3</td>\n",
       "    </tr>\n",
       "    <tr>\n",
       "      <th>2</th>\n",
       "      <td>est_salary</td>\n",
       "      <td>mean</td>\n",
       "      <td>151439.6</td>\n",
       "    </tr>\n",
       "    <tr>\n",
       "      <th>3</th>\n",
       "      <td>est_salary</td>\n",
       "      <td>median</td>\n",
       "      <td>113790.6</td>\n",
       "    </tr>\n",
       "    <tr>\n",
       "      <th>4</th>\n",
       "      <td>age</td>\n",
       "      <td>median</td>\n",
       "      <td>55.0</td>\n",
       "    </tr>\n",
       "    <tr>\n",
       "      <th>5</th>\n",
       "      <td>equity</td>\n",
       "      <td>median</td>\n",
       "      <td>3.0</td>\n",
       "    </tr>\n",
       "    <tr>\n",
       "      <th>6</th>\n",
       "      <td>products</td>\n",
       "      <td>median</td>\n",
       "      <td>2.0</td>\n",
       "    </tr>\n",
       "    <tr>\n",
       "      <th>7</th>\n",
       "      <td>score</td>\n",
       "      <td>median</td>\n",
       "      <td>859.0</td>\n",
       "    </tr>\n",
       "    <tr>\n",
       "      <th>8</th>\n",
       "      <td>city</td>\n",
       "      <td>mode</td>\n",
       "      <td>Ярославль</td>\n",
       "    </tr>\n",
       "    <tr>\n",
       "      <th>9</th>\n",
       "      <td>gender</td>\n",
       "      <td>mode</td>\n",
       "      <td>М</td>\n",
       "    </tr>\n",
       "    <tr>\n",
       "      <th>10</th>\n",
       "      <td>credit_card</td>\n",
       "      <td>mode</td>\n",
       "      <td>Есть</td>\n",
       "    </tr>\n",
       "    <tr>\n",
       "      <th>11</th>\n",
       "      <td>last_activity</td>\n",
       "      <td>mode</td>\n",
       "      <td>Нет</td>\n",
       "    </tr>\n",
       "  </tbody>\n",
       "</table>\n",
       "</div>"
      ],
      "text/plain": [
       "          feature central_tendency      value\n",
       "0         balance             mean  1305109.9\n",
       "1         balance           median   827794.3\n",
       "2      est_salary             mean   151439.6\n",
       "3      est_salary           median   113790.6\n",
       "4             age           median       55.0\n",
       "5          equity           median        3.0\n",
       "6        products           median        2.0\n",
       "7           score           median      859.0\n",
       "8            city             mode  Ярославль\n",
       "9          gender             mode          М\n",
       "10    credit_card             mode       Есть\n",
       "11  last_activity             mode        Нет"
      ]
     },
     "execution_count": 57,
     "metadata": {},
     "output_type": "execute_result"
    }
   ],
   "source": [
    "create_segment_portrait(segment_3)"
   ]
  },
  {
   "cell_type": "markdown",
   "metadata": {},
   "source": [
    "Клиенты третьего сегмента - это преимущественно мужчины старшего возраста с высоким доходом, но менее активные в использовании банковских сервисов."
   ]
  },
  {
   "cell_type": "markdown",
   "metadata": {},
   "source": [
    "<a id='Приоритизация-сегментов'></a>\n",
    "Приоритизируем сегменты: "
   ]
  },
  {
   "cell_type": "markdown",
   "metadata": {},
   "source": [
    "1. Сегмент 2\n",
    "\n",
    "   * Доля оттока: 53.47%\n",
    "   * Размер сегмента: 606 клиентов\n",
    "\n",
    "2. Сегмент 1\n",
    "\n",
    "   * Доля оттока: 40.25%\n",
    "   * Размер сегмента: 1493 клиента\n",
    "\n",
    "3. Сегмент 3\n",
    "\n",
    "   * Доля оттока: 36.96%\n",
    "   * Размер сегмента: 441 клиента"
   ]
  },
  {
   "cell_type": "markdown",
   "metadata": {},
   "source": [
    "Критерии приоритизации:\n",
    "1. Доля оттока (%): основной показатель, так как сегменты с большей долей оттока требуют срочного внимания для минимизации потерь.\n",
    "2. Размер сегмента: второстепенный критерий, так как он влияет на абсолютное число клиентов, которых можно удержать. Однако в условиях ограниченности ресурсов, первоочередное внимание должно быть направлено на сегменты с самым высоким процентом оттока."
   ]
  },
  {
   "cell_type": "markdown",
   "metadata": {},
   "source": [
    "**Вывод:**\n",
    "\n",
    "Проведена сегментация клиентов и последующая приоритизация:\n",
    "\n",
    "1. Сегмент 2 - основан на отточных диапазонах признаков, относящихся к количественной оценке финансовой стабильности клиента, клиенты - демонстрируют высокую финансовую стабильность и имеют значительные активы\n",
    "\n",
    "* Доля оттока: 53.47%\n",
    "* Размер сегмента: 606 клиентов\n",
    "\n",
    "2. Сегмент 1 - основан на отточных диапазонах признаков, относящихся к активности и пользованию продуктов банка, клиенты - активные пользователи с высоким уровнем дохода и финансовым остатком\n",
    "\n",
    "* Доля оттока: 40.25%\n",
    "* Размер сегмента: 1493 клиента\n",
    "\n",
    "3. Сегмент 3 - основан на личных биографичных данных, клиенты - преимущественно мужчины старшего возраста с высоким доходом, но менее активные в использовании банковских сервисов\n",
    "\n",
    "* Доля оттока: 36.96%\n",
    "* Размер сегмента: 441 клиента\n",
    "\n",
    "[Вернуться к содержанию](#Содержание)"
   ]
  },
  {
   "cell_type": "markdown",
   "metadata": {},
   "source": [
    "<a id='Общий-вывод'></a>\n",
    "## 6 Общий вывод"
   ]
  },
  {
   "cell_type": "markdown",
   "metadata": {},
   "source": [
    "**Исследование данных**:\n",
    "\n",
    "* Составлены портреты лояльного клиента и клиента, склонного к прекращению сотрудничества, выявленные характерные различия:\n",
    "\n",
    "  * Баланс отточного клиента выше на 357679.5 (+46%);\n",
    "  * Минимальная разница в примерном уровне дохода, у отточного клиента выше на 7137.5 (+6%);\n",
    "  * Минимальная разница в возрасте, отточный клиент моложе на 1 год (-3%);\n",
    "  * У отточного клиента больше баллов собственности на 2 (+100%);\n",
    "  * У отточного клиента больше баллов скоринга на 18 (+2%);\n",
    "  * Совпадает город: Ярославль;\n",
    "  * Пол лояльного клиента: Ж, отточного клиента: М;\n",
    "  * У обоих клиентов есть кредитная карта;\n",
    "  * У отточного клиента есть активность за последние 3 месяца, у лояльного - нет.\n",
    "  \n",
    "* Рассчитаная доля отточных клиентов по банку: 18.2%;\n",
    "\n",
    "* Проанализированы признаки и их отточные диапазоны/категории:\n",
    "\n",
    "  * score — диапазон: от 821 до 938, доля оттока по выделенному сегменту: 23.0 %;\n",
    "  * city — Ростов (18.8% доля оттока) и Ярославль (19%);\n",
    "  * gender — мужской пол (23.6% доля оттока);\n",
    "  * age — диапазон: от 25 до 35 и от 50 до 60, доля оттока по выделенному сегменту: 24.3 %;\n",
    "  * equity — от 3 до 9 баллов собственности (3 - 20.8%, 4 - 25.1%, 5 - 30.1%, 6 - 36%, 7 - 46.2%, 8 - 35.3%, 9 - 53.8%);\n",
    "  * balance — диапазон: от 1140000, доля оттока по выделенному сегменту: 39.8 %;\n",
    "  * products — от 2 до 5 используемых продуктов банка (2 - 19.1%, 3 - 28.6%, 4 - 63.3%, 5 - 42.1%);\n",
    "  * credit_card — нет кредитной карты банка (25.5% доля оттока);\n",
    "  * last_activity — есть активность в сервисах банка за последние 3 месяца (24.4% доля оттока);\n",
    "  * est_salary — диапазон: от 93000 до 212000, доля оттока по выделенному сегменту: 20.2 %.\n",
    "  \n",
    "* Все признаки имеют слабую взаимосвязь (до 0.3 включительно) с churn, параметром отточности, за исключением equity, количества баллов собственности - умеренная взаимосвязь (0.35).\n",
    "\n",
    "**Проверка гипотез**:\n",
    "\n",
    "Вероятные выводы о генеральной совокупности после проверки 2 гипотез:\n",
    "\n",
    "* Доход клиентов значимо отличается у лояльных клиентов и склонных к прекращению сотрудничества;\n",
    "\n",
    "* Доля отточных клиентов среди активных пользователей больше, чем аналогичная доля среди неактивных клиентов.\n",
    "\n",
    "**Сегментация пользователей**:\n",
    "\n",
    "Проведена сегментация клиентов и последующая приоритизация:\n",
    "\n",
    "1. Сегмент 2 - основан на отточных диапазонах признаков, относящихся к количественной оценке финансовой стабильности клиента, клиенты - демонстрируют высокую финансовую стабильность и имеют значительные активы\n",
    "\n",
    "* Доля оттока: 53.47%\n",
    "* Размер сегмента: 606 клиентов\n",
    "\n",
    "2. Сегмент 1 - основан на отточных диапазонах признаков, относящихся к активности и пользованию продуктов банка, клиенты - активные пользователи с высоким уровнем дохода и финансовым остатком\n",
    "\n",
    "* Доля оттока: 40.25%\n",
    "* Размер сегмента: 1493 клиента\n",
    "\n",
    "3. Сегмент 3 - основан на личных биографичных данных, клиенты - преимущественно мужчины старшего возраста с высоким доходом, но менее активные в использовании банковских сервисов\n",
    "\n",
    "* Доля оттока: 36.96%\n",
    "* Размер сегмента: 441 клиента\n",
    "\n",
    "**Рекомендация**:\n",
    "\n",
    "Предложения для кампании по удержанию в порядке приоритизации.\n",
    "\n",
    "1. *Сегмент 2*:\n",
    "\n",
    "Сегмент характеризуется высоким балансом, хорошей финансовой стабильностью, но клиенты активно покидают банк. Мужчины преобладают в этом сегменте, и у большинства отсутствует кредитная карта. Это может говорить о недостатке привлекательных предложений или ненужности существующих продуктов.\n",
    "\n",
    "* Эксклюзивная карта для инвестиций:\n",
    "\n",
    "    - Предложить кредитную карту с бесплатным обслуживанием при условии совершения операций через партнерские инвестиционные платформы;\n",
    "    - Возможность получить повышенный кешбэк на инвестиционные операции.\n",
    "\n",
    "* Инвестиционные вебинары и аналитика:\n",
    "\n",
    "    - Организовать серию вебинаров по управлению капиталом для клиентов этого сегмента;\n",
    "    - Бесплатно предоставлять ежемесячные финансовые обзоры (анализ рынков, прогнозы).\n",
    "\n",
    "2. *Сегмент 1*:\n",
    "\n",
    "Клиенты активно взаимодействуют с банковскими сервисами, но, возможно, их ожидания не удовлетворяются. Эти клиенты пользуются несколькими продуктами банка, но лояльность снижается. У них нет кредитной карты, что также может быть возможным фактором неудовлетворенности. В целом сегмент во многом похож на 2ой, но с меньшими финансовыми возможностями.\n",
    "\n",
    "* Кешбэк за активное использование продуктов:\n",
    "\n",
    "    - Внедрить временную программу лояльности: клиенты получают кешбэк 5% на определенные категории покупок при использовании продуктов банка (например, интернет-банкинга или мобильного приложения);\n",
    "    - Условие: кешбэк начисляется при выполнении определенного числа транзакций в течение месяца.\n",
    "    \n",
    "* Промо-кредитные карты:\n",
    "\n",
    "    - Предложить бесплатное оформление кредитной карты с повышенным кешбэком для первых 3 месяцев (например, 10% на категории покупок);\n",
    "    - Упрощенная процедура оформления через мобильное приложение.\n",
    "\n",
    "3. *Сегмент 3*:\n",
    "\n",
    "Эти клиенты старше, имеют средний баланс, но довольно высокий уровень дохода. Большинство из них мужчины, не активные в использовании сервисов банка. У них есть кредитные карты, что может быть связано с традиционным подходом к финансам.\n",
    "\n",
    "* Пакет услуг, предоставляемый комплексно на всю семью:\n",
    "\n",
    "    - Разработать продукт для объединения счетов в рамках семьи;\n",
    "    - Бесплатное обслуживание карт для детей или супругов.\n",
    "\n",
    "* Цифровая вовлеченность:\n",
    "\n",
    "    - Обучающие курсы и инструкции по работе с мобильным приложением;\n",
    "    - Запуск акции для новичков: первые 3 месяца активного использования мобильного банка — 500 рублей на счет.\n"
   ]
  },
  {
   "cell_type": "markdown",
   "metadata": {},
   "source": [
    "<a id='Презентация'></a>\n",
    "## 7 Презентация"
   ]
  },
  {
   "cell_type": "markdown",
   "metadata": {},
   "source": [
    "Ссылка на презентацию: https://drive.google.com/file/d/1KqXP2UvgZ-EGG49VkD1uDw7ulAJvUVQe/view?usp=sharing\n",
    "\n",
    "Резерв: https://github.com/netrunner55746/Yandex-Practicum.Data-Analyst/blob/main/artifacts/bank_clients_churn_analysis_vs.pdf"
   ]
  }
 ],
 "metadata": {
  "ExecuteTimeLog": [
   {
    "duration": 51,
    "start_time": "2024-11-18T18:02:49.128Z"
   },
   {
    "duration": 1623,
    "start_time": "2024-11-18T18:02:51.789Z"
   },
   {
    "duration": 3231,
    "start_time": "2024-11-18T18:03:07.521Z"
   },
   {
    "duration": 162,
    "start_time": "2024-11-18T18:03:12.715Z"
   },
   {
    "duration": 19,
    "start_time": "2024-11-18T18:03:14.151Z"
   },
   {
    "duration": 1473,
    "start_time": "2024-11-18T19:00:33.477Z"
   },
   {
    "duration": 13,
    "start_time": "2024-11-18T19:14:02.806Z"
   },
   {
    "duration": 5123,
    "start_time": "2024-11-19T20:19:44.148Z"
   },
   {
    "duration": 127,
    "start_time": "2024-11-19T20:34:20.690Z"
   },
   {
    "duration": 4078,
    "start_time": "2024-11-19T20:34:28.691Z"
   },
   {
    "duration": 106,
    "start_time": "2024-11-19T20:34:32.771Z"
   },
   {
    "duration": 1442,
    "start_time": "2024-11-19T20:34:32.879Z"
   },
   {
    "duration": 8,
    "start_time": "2024-11-19T20:34:34.323Z"
   },
   {
    "duration": 7,
    "start_time": "2024-11-19T20:36:15.577Z"
   },
   {
    "duration": 8,
    "start_time": "2024-11-19T21:24:03.394Z"
   },
   {
    "duration": 7,
    "start_time": "2024-11-19T21:25:48.716Z"
   },
   {
    "duration": 7,
    "start_time": "2024-11-19T21:26:18.844Z"
   },
   {
    "duration": 107,
    "start_time": "2024-11-19T21:26:22.756Z"
   },
   {
    "duration": 7,
    "start_time": "2024-11-19T21:26:58.303Z"
   },
   {
    "duration": 12,
    "start_time": "2024-11-19T21:32:42.948Z"
   },
   {
    "duration": 11,
    "start_time": "2024-11-19T21:32:54.069Z"
   },
   {
    "duration": 10,
    "start_time": "2024-11-19T21:33:14.870Z"
   },
   {
    "duration": 355,
    "start_time": "2024-11-19T21:43:20.158Z"
   },
   {
    "duration": 28,
    "start_time": "2024-11-19T21:43:44.220Z"
   },
   {
    "duration": 988,
    "start_time": "2024-11-19T21:46:11.135Z"
   },
   {
    "duration": 1007,
    "start_time": "2024-11-19T21:46:57.919Z"
   },
   {
    "duration": 59,
    "start_time": "2024-11-19T21:48:25.420Z"
   },
   {
    "duration": 351,
    "start_time": "2024-11-19T21:48:37.365Z"
   },
   {
    "duration": 2445,
    "start_time": "2024-11-19T23:28:08.471Z"
   },
   {
    "duration": 5436,
    "start_time": "2024-11-19T23:28:31.167Z"
   },
   {
    "duration": 18,
    "start_time": "2024-11-20T00:05:38.920Z"
   },
   {
    "duration": 465,
    "start_time": "2024-11-20T00:07:17.338Z"
   },
   {
    "duration": 4481,
    "start_time": "2024-11-20T00:58:46.608Z"
   },
   {
    "duration": 488,
    "start_time": "2024-11-20T00:59:21.190Z"
   },
   {
    "duration": 484,
    "start_time": "2024-11-20T01:27:44.670Z"
   },
   {
    "duration": 486,
    "start_time": "2024-11-20T01:31:28.667Z"
   },
   {
    "duration": 1639,
    "start_time": "2024-11-20T01:32:16.756Z"
   },
   {
    "duration": 65,
    "start_time": "2024-11-20T01:39:13.275Z"
   },
   {
    "duration": 489,
    "start_time": "2024-11-20T01:39:19.230Z"
   },
   {
    "duration": 846,
    "start_time": "2024-11-20T01:41:46.203Z"
   },
   {
    "duration": 826,
    "start_time": "2024-11-20T01:54:25.356Z"
   },
   {
    "duration": 952,
    "start_time": "2024-11-20T01:55:16.537Z"
   },
   {
    "duration": 821,
    "start_time": "2024-11-20T01:55:57.141Z"
   },
   {
    "duration": 812,
    "start_time": "2024-11-20T01:57:17.069Z"
   },
   {
    "duration": 833,
    "start_time": "2024-11-20T01:57:32.866Z"
   },
   {
    "duration": 15,
    "start_time": "2024-11-20T02:13:58.229Z"
   },
   {
    "duration": 8030,
    "start_time": "2024-11-20T12:17:50.329Z"
   },
   {
    "duration": 164,
    "start_time": "2024-11-20T12:17:58.360Z"
   },
   {
    "duration": 1528,
    "start_time": "2024-11-20T12:17:58.526Z"
   },
   {
    "duration": 7,
    "start_time": "2024-11-20T12:18:00.055Z"
   },
   {
    "duration": 1056,
    "start_time": "2024-11-20T12:18:00.063Z"
   },
   {
    "duration": 11,
    "start_time": "2024-11-20T12:18:01.121Z"
   },
   {
    "duration": 349,
    "start_time": "2024-11-20T12:18:01.134Z"
   },
   {
    "duration": 140,
    "start_time": "2024-11-20T12:18:01.485Z"
   },
   {
    "duration": 17179,
    "start_time": "2024-11-20T16:08:01.597Z"
   },
   {
    "duration": 7709,
    "start_time": "2024-11-20T17:12:50.539Z"
   },
   {
    "duration": 44,
    "start_time": "2024-11-20T17:12:58.251Z"
   },
   {
    "duration": 1940,
    "start_time": "2024-11-20T17:12:58.297Z"
   },
   {
    "duration": 9,
    "start_time": "2024-11-20T17:13:00.240Z"
   },
   {
    "duration": 1277,
    "start_time": "2024-11-20T17:13:00.252Z"
   },
   {
    "duration": 17,
    "start_time": "2024-11-20T17:13:01.532Z"
   },
   {
    "duration": 451,
    "start_time": "2024-11-20T17:13:01.550Z"
   },
   {
    "duration": 18906,
    "start_time": "2024-11-20T17:13:02.003Z"
   },
   {
    "duration": 122,
    "start_time": "2024-11-20T22:25:29.042Z"
   },
   {
    "duration": 68,
    "start_time": "2024-11-20T22:25:35.258Z"
   },
   {
    "duration": 12,
    "start_time": "2024-11-20T22:25:38.439Z"
   },
   {
    "duration": 10,
    "start_time": "2024-11-20T22:26:06.239Z"
   },
   {
    "duration": 10,
    "start_time": "2024-11-20T22:26:33.322Z"
   },
   {
    "duration": 12,
    "start_time": "2024-11-20T22:26:45.141Z"
   },
   {
    "duration": 16,
    "start_time": "2024-11-20T22:27:34.294Z"
   },
   {
    "duration": 6,
    "start_time": "2024-11-21T00:40:28.806Z"
   },
   {
    "duration": 4,
    "start_time": "2024-11-21T00:40:46.213Z"
   },
   {
    "duration": 23,
    "start_time": "2024-11-21T00:40:51.483Z"
   },
   {
    "duration": 1271,
    "start_time": "2024-11-21T00:56:09.232Z"
   },
   {
    "duration": 11,
    "start_time": "2024-11-21T00:56:37.244Z"
   },
   {
    "duration": 16,
    "start_time": "2024-11-21T00:57:45.745Z"
   },
   {
    "duration": 1169,
    "start_time": "2024-11-21T00:58:00.955Z"
   },
   {
    "duration": 20,
    "start_time": "2024-11-21T01:44:56.659Z"
   },
   {
    "duration": 14,
    "start_time": "2024-11-21T01:47:45.585Z"
   },
   {
    "duration": 5,
    "start_time": "2024-11-21T01:49:38.266Z"
   },
   {
    "duration": 9,
    "start_time": "2024-11-21T01:49:42.633Z"
   },
   {
    "duration": 15,
    "start_time": "2024-11-21T02:00:24.606Z"
   },
   {
    "duration": 6,
    "start_time": "2024-11-21T02:00:36.135Z"
   },
   {
    "duration": 5,
    "start_time": "2024-11-21T02:00:44.165Z"
   },
   {
    "duration": 5,
    "start_time": "2024-11-21T02:01:10.834Z"
   },
   {
    "duration": 6303,
    "start_time": "2024-11-21T02:05:40.881Z"
   },
   {
    "duration": 43,
    "start_time": "2024-11-21T02:05:47.186Z"
   },
   {
    "duration": 1416,
    "start_time": "2024-11-21T02:05:47.231Z"
   },
   {
    "duration": 8,
    "start_time": "2024-11-21T02:05:48.649Z"
   },
   {
    "duration": 1029,
    "start_time": "2024-11-21T02:05:48.659Z"
   },
   {
    "duration": 11,
    "start_time": "2024-11-21T02:05:49.690Z"
   },
   {
    "duration": 370,
    "start_time": "2024-11-21T02:05:49.702Z"
   },
   {
    "duration": 15913,
    "start_time": "2024-11-21T02:05:50.074Z"
   },
   {
    "duration": 33,
    "start_time": "2024-11-21T02:06:05.989Z"
   },
   {
    "duration": 3,
    "start_time": "2024-11-21T02:06:06.024Z"
   },
   {
    "duration": 29,
    "start_time": "2024-11-21T02:06:06.028Z"
   },
   {
    "duration": 8,
    "start_time": "2024-11-21T02:06:06.058Z"
   },
   {
    "duration": 33,
    "start_time": "2024-11-21T02:06:06.068Z"
   },
   {
    "duration": 30,
    "start_time": "2024-11-21T02:06:06.103Z"
   },
   {
    "duration": 6,
    "start_time": "2024-11-21T02:07:16.811Z"
   },
   {
    "duration": 16,
    "start_time": "2024-11-21T02:17:33.049Z"
   },
   {
    "duration": 11,
    "start_time": "2024-11-21T02:23:58.870Z"
   },
   {
    "duration": 114,
    "start_time": "2024-11-21T02:24:05.523Z"
   },
   {
    "duration": 11,
    "start_time": "2024-11-21T02:24:08.786Z"
   },
   {
    "duration": 13,
    "start_time": "2024-11-21T02:28:30.647Z"
   },
   {
    "duration": 10,
    "start_time": "2024-11-21T02:28:45.120Z"
   },
   {
    "duration": 12,
    "start_time": "2024-11-21T02:50:22.829Z"
   },
   {
    "duration": 15,
    "start_time": "2024-11-21T03:04:14.315Z"
   },
   {
    "duration": 4,
    "start_time": "2024-11-21T03:07:34.633Z"
   },
   {
    "duration": 6350,
    "start_time": "2024-11-21T03:07:41.057Z"
   },
   {
    "duration": 42,
    "start_time": "2024-11-21T03:07:47.409Z"
   },
   {
    "duration": 1432,
    "start_time": "2024-11-21T03:07:47.453Z"
   },
   {
    "duration": 6,
    "start_time": "2024-11-21T03:07:48.887Z"
   },
   {
    "duration": 981,
    "start_time": "2024-11-21T03:07:48.895Z"
   },
   {
    "duration": 11,
    "start_time": "2024-11-21T03:07:49.877Z"
   },
   {
    "duration": 371,
    "start_time": "2024-11-21T03:07:49.890Z"
   },
   {
    "duration": 16004,
    "start_time": "2024-11-21T03:07:50.262Z"
   },
   {
    "duration": 18,
    "start_time": "2024-11-21T03:08:06.267Z"
   },
   {
    "duration": 36,
    "start_time": "2024-11-21T03:08:06.287Z"
   },
   {
    "duration": 122,
    "start_time": "2024-11-21T03:08:06.325Z"
   },
   {
    "duration": 0,
    "start_time": "2024-11-21T03:08:06.449Z"
   },
   {
    "duration": 0,
    "start_time": "2024-11-21T03:08:06.450Z"
   },
   {
    "duration": 0,
    "start_time": "2024-11-21T03:08:06.450Z"
   },
   {
    "duration": 0,
    "start_time": "2024-11-21T03:08:06.451Z"
   },
   {
    "duration": 0,
    "start_time": "2024-11-21T03:08:06.452Z"
   },
   {
    "duration": 0,
    "start_time": "2024-11-21T03:08:06.453Z"
   },
   {
    "duration": 8,
    "start_time": "2024-11-21T03:08:20.523Z"
   },
   {
    "duration": 6,
    "start_time": "2024-11-21T03:08:34.715Z"
   },
   {
    "duration": 6,
    "start_time": "2024-11-21T03:09:48.108Z"
   },
   {
    "duration": 24,
    "start_time": "2024-11-21T03:10:09.113Z"
   },
   {
    "duration": 24,
    "start_time": "2024-11-21T03:10:44.174Z"
   },
   {
    "duration": 1187,
    "start_time": "2024-11-21T03:42:07.283Z"
   },
   {
    "duration": 6303,
    "start_time": "2024-11-21T03:42:15.001Z"
   },
   {
    "duration": 42,
    "start_time": "2024-11-21T03:42:21.306Z"
   },
   {
    "duration": 1447,
    "start_time": "2024-11-21T03:42:21.350Z"
   },
   {
    "duration": 7,
    "start_time": "2024-11-21T03:42:22.798Z"
   },
   {
    "duration": 1077,
    "start_time": "2024-11-21T03:42:22.819Z"
   },
   {
    "duration": 25,
    "start_time": "2024-11-21T03:42:23.898Z"
   },
   {
    "duration": 338,
    "start_time": "2024-11-21T03:42:23.924Z"
   },
   {
    "duration": 16128,
    "start_time": "2024-11-21T03:42:24.264Z"
   },
   {
    "duration": 34,
    "start_time": "2024-11-21T03:42:40.393Z"
   },
   {
    "duration": 13,
    "start_time": "2024-11-21T03:42:40.429Z"
   },
   {
    "duration": 33,
    "start_time": "2024-11-21T03:42:40.443Z"
   },
   {
    "duration": 4,
    "start_time": "2024-11-21T03:42:40.478Z"
   },
   {
    "duration": 29,
    "start_time": "2024-11-21T03:42:40.483Z"
   },
   {
    "duration": 30,
    "start_time": "2024-11-21T03:42:40.517Z"
   },
   {
    "duration": 33,
    "start_time": "2024-11-21T03:42:40.548Z"
   },
   {
    "duration": 11,
    "start_time": "2024-11-21T03:42:40.583Z"
   },
   {
    "duration": 13,
    "start_time": "2024-11-21T03:42:40.595Z"
   },
   {
    "duration": 23,
    "start_time": "2024-11-21T03:42:40.609Z"
   },
   {
    "duration": 5,
    "start_time": "2024-11-21T03:44:05.064Z"
   },
   {
    "duration": 7,
    "start_time": "2024-11-21T03:47:51.006Z"
   },
   {
    "duration": 116,
    "start_time": "2024-11-21T03:47:53.946Z"
   },
   {
    "duration": 14,
    "start_time": "2024-11-21T03:47:59.053Z"
   },
   {
    "duration": 21,
    "start_time": "2024-11-21T03:48:02.440Z"
   },
   {
    "duration": 78,
    "start_time": "2024-11-21T03:48:52.398Z"
   },
   {
    "duration": 367,
    "start_time": "2024-11-21T03:49:44.930Z"
   },
   {
    "duration": 6381,
    "start_time": "2024-11-21T03:50:07.533Z"
   },
   {
    "duration": 42,
    "start_time": "2024-11-21T03:50:13.915Z"
   },
   {
    "duration": 1424,
    "start_time": "2024-11-21T03:50:13.958Z"
   },
   {
    "duration": 7,
    "start_time": "2024-11-21T03:50:15.385Z"
   },
   {
    "duration": 995,
    "start_time": "2024-11-21T03:50:15.394Z"
   },
   {
    "duration": 10,
    "start_time": "2024-11-21T03:50:16.391Z"
   },
   {
    "duration": 354,
    "start_time": "2024-11-21T03:50:16.403Z"
   },
   {
    "duration": 15989,
    "start_time": "2024-11-21T03:50:16.759Z"
   },
   {
    "duration": 22,
    "start_time": "2024-11-21T03:50:32.749Z"
   },
   {
    "duration": 44,
    "start_time": "2024-11-21T03:50:32.774Z"
   },
   {
    "duration": 31,
    "start_time": "2024-11-21T03:50:32.820Z"
   },
   {
    "duration": 4,
    "start_time": "2024-11-21T03:50:32.852Z"
   },
   {
    "duration": 26,
    "start_time": "2024-11-21T03:50:32.858Z"
   },
   {
    "duration": 19,
    "start_time": "2024-11-21T03:50:32.885Z"
   },
   {
    "duration": 31,
    "start_time": "2024-11-21T03:50:32.906Z"
   },
   {
    "duration": 14,
    "start_time": "2024-11-21T03:50:32.938Z"
   },
   {
    "duration": 11,
    "start_time": "2024-11-21T03:50:32.953Z"
   },
   {
    "duration": 434,
    "start_time": "2024-11-21T03:50:32.966Z"
   },
   {
    "duration": 0,
    "start_time": "2024-11-21T03:50:33.402Z"
   },
   {
    "duration": 0,
    "start_time": "2024-11-21T03:50:33.403Z"
   },
   {
    "duration": 5,
    "start_time": "2024-11-21T03:50:43.746Z"
   },
   {
    "duration": 10,
    "start_time": "2024-11-21T03:50:48.741Z"
   },
   {
    "duration": 27,
    "start_time": "2024-11-21T03:52:38.163Z"
   },
   {
    "duration": 22,
    "start_time": "2024-11-21T03:53:02.886Z"
   },
   {
    "duration": 26,
    "start_time": "2024-11-21T03:53:53.898Z"
   },
   {
    "duration": 22,
    "start_time": "2024-11-21T03:54:13.482Z"
   },
   {
    "duration": 26,
    "start_time": "2024-11-21T03:54:40.970Z"
   },
   {
    "duration": 24,
    "start_time": "2024-11-21T03:54:50.025Z"
   },
   {
    "duration": 22,
    "start_time": "2024-11-21T03:54:55.106Z"
   },
   {
    "duration": 23,
    "start_time": "2024-11-21T03:54:59.973Z"
   },
   {
    "duration": 24,
    "start_time": "2024-11-21T03:55:03.740Z"
   },
   {
    "duration": 23,
    "start_time": "2024-11-21T03:55:07.420Z"
   },
   {
    "duration": 22,
    "start_time": "2024-11-21T03:55:14.885Z"
   },
   {
    "duration": 16,
    "start_time": "2024-11-21T03:58:17.653Z"
   },
   {
    "duration": 18,
    "start_time": "2024-11-21T06:22:30.656Z"
   },
   {
    "duration": 24,
    "start_time": "2024-11-21T06:22:47.449Z"
   },
   {
    "duration": 6786,
    "start_time": "2024-11-21T06:23:11.648Z"
   },
   {
    "duration": 42,
    "start_time": "2024-11-21T06:23:18.437Z"
   },
   {
    "duration": 1530,
    "start_time": "2024-11-21T06:23:18.483Z"
   },
   {
    "duration": 15,
    "start_time": "2024-11-21T06:23:20.018Z"
   },
   {
    "duration": 1098,
    "start_time": "2024-11-21T06:23:20.035Z"
   },
   {
    "duration": 11,
    "start_time": "2024-11-21T06:23:21.135Z"
   },
   {
    "duration": 360,
    "start_time": "2024-11-21T06:23:21.147Z"
   },
   {
    "duration": 17640,
    "start_time": "2024-11-21T06:23:21.509Z"
   },
   {
    "duration": 18,
    "start_time": "2024-11-21T06:23:39.151Z"
   },
   {
    "duration": 18,
    "start_time": "2024-11-21T06:23:39.171Z"
   },
   {
    "duration": 54,
    "start_time": "2024-11-21T06:23:39.190Z"
   },
   {
    "duration": 4,
    "start_time": "2024-11-21T06:23:39.245Z"
   },
   {
    "duration": 24,
    "start_time": "2024-11-21T06:23:39.252Z"
   },
   {
    "duration": 9,
    "start_time": "2024-11-21T06:23:39.278Z"
   },
   {
    "duration": 8,
    "start_time": "2024-11-21T06:23:39.288Z"
   },
   {
    "duration": 11,
    "start_time": "2024-11-21T06:23:39.297Z"
   },
   {
    "duration": 25,
    "start_time": "2024-11-21T06:23:39.310Z"
   },
   {
    "duration": 50,
    "start_time": "2024-11-21T06:23:39.337Z"
   },
   {
    "duration": 12,
    "start_time": "2024-11-21T06:23:39.389Z"
   },
   {
    "duration": 30,
    "start_time": "2024-11-21T06:23:39.403Z"
   },
   {
    "duration": 6730,
    "start_time": "2024-11-21T06:41:22.013Z"
   },
   {
    "duration": 43,
    "start_time": "2024-11-21T06:41:28.745Z"
   },
   {
    "duration": 1504,
    "start_time": "2024-11-21T06:41:28.789Z"
   },
   {
    "duration": 6,
    "start_time": "2024-11-21T06:41:30.295Z"
   },
   {
    "duration": 1229,
    "start_time": "2024-11-21T06:41:30.303Z"
   },
   {
    "duration": 13,
    "start_time": "2024-11-21T06:41:31.534Z"
   },
   {
    "duration": 372,
    "start_time": "2024-11-21T06:41:31.549Z"
   },
   {
    "duration": 17268,
    "start_time": "2024-11-21T06:41:31.923Z"
   },
   {
    "duration": 34,
    "start_time": "2024-11-21T06:41:49.192Z"
   },
   {
    "duration": 47,
    "start_time": "2024-11-21T06:41:49.228Z"
   },
   {
    "duration": 32,
    "start_time": "2024-11-21T06:41:49.277Z"
   },
   {
    "duration": 55,
    "start_time": "2024-11-21T06:41:49.310Z"
   },
   {
    "duration": 52,
    "start_time": "2024-11-21T06:41:49.366Z"
   },
   {
    "duration": 38,
    "start_time": "2024-11-21T06:41:49.419Z"
   },
   {
    "duration": 41,
    "start_time": "2024-11-21T06:41:49.459Z"
   },
   {
    "duration": 39,
    "start_time": "2024-11-21T06:41:49.501Z"
   },
   {
    "duration": 44,
    "start_time": "2024-11-21T06:41:49.542Z"
   },
   {
    "duration": 51,
    "start_time": "2024-11-21T06:41:49.588Z"
   },
   {
    "duration": 26,
    "start_time": "2024-11-21T06:41:49.641Z"
   },
   {
    "duration": 48,
    "start_time": "2024-11-21T06:41:49.669Z"
   },
   {
    "duration": 22,
    "start_time": "2024-11-21T06:42:04.654Z"
   },
   {
    "duration": 7011,
    "start_time": "2024-11-21T06:42:20.288Z"
   },
   {
    "duration": 41,
    "start_time": "2024-11-21T06:42:27.301Z"
   },
   {
    "duration": 1513,
    "start_time": "2024-11-21T06:42:27.343Z"
   },
   {
    "duration": 8,
    "start_time": "2024-11-21T06:42:28.858Z"
   },
   {
    "duration": 1209,
    "start_time": "2024-11-21T06:42:28.869Z"
   },
   {
    "duration": 12,
    "start_time": "2024-11-21T06:42:30.080Z"
   },
   {
    "duration": 377,
    "start_time": "2024-11-21T06:42:30.093Z"
   },
   {
    "duration": 17116,
    "start_time": "2024-11-21T06:42:30.471Z"
   },
   {
    "duration": 40,
    "start_time": "2024-11-21T06:42:47.589Z"
   },
   {
    "duration": 12,
    "start_time": "2024-11-21T06:42:47.631Z"
   },
   {
    "duration": 34,
    "start_time": "2024-11-21T06:42:47.646Z"
   },
   {
    "duration": 40,
    "start_time": "2024-11-21T06:42:47.682Z"
   },
   {
    "duration": 29,
    "start_time": "2024-11-21T06:42:47.724Z"
   },
   {
    "duration": 6,
    "start_time": "2024-11-21T06:42:47.757Z"
   },
   {
    "duration": 9,
    "start_time": "2024-11-21T06:42:47.764Z"
   },
   {
    "duration": 8,
    "start_time": "2024-11-21T06:42:47.774Z"
   },
   {
    "duration": 9,
    "start_time": "2024-11-21T06:42:47.784Z"
   },
   {
    "duration": 46,
    "start_time": "2024-11-21T06:42:47.795Z"
   },
   {
    "duration": 14,
    "start_time": "2024-11-21T06:42:47.843Z"
   },
   {
    "duration": 20,
    "start_time": "2024-11-21T06:42:47.859Z"
   },
   {
    "duration": 12,
    "start_time": "2024-11-21T07:30:01.645Z"
   },
   {
    "duration": 165,
    "start_time": "2024-11-21T07:46:02.312Z"
   },
   {
    "duration": 3006,
    "start_time": "2024-11-21T07:47:51.824Z"
   },
   {
    "duration": 9,
    "start_time": "2024-11-21T07:48:37.496Z"
   },
   {
    "duration": 17,
    "start_time": "2024-11-21T08:00:29.615Z"
   },
   {
    "duration": 10,
    "start_time": "2024-11-21T08:01:06.304Z"
   },
   {
    "duration": 7082,
    "start_time": "2024-11-21T08:03:20.560Z"
   },
   {
    "duration": 43,
    "start_time": "2024-11-21T08:03:27.645Z"
   },
   {
    "duration": 1577,
    "start_time": "2024-11-21T08:03:27.690Z"
   },
   {
    "duration": 7,
    "start_time": "2024-11-21T08:03:29.269Z"
   },
   {
    "duration": 1160,
    "start_time": "2024-11-21T08:03:29.278Z"
   },
   {
    "duration": 13,
    "start_time": "2024-11-21T08:03:30.440Z"
   },
   {
    "duration": 424,
    "start_time": "2024-11-21T08:03:30.455Z"
   },
   {
    "duration": 18163,
    "start_time": "2024-11-21T08:03:30.881Z"
   },
   {
    "duration": 24,
    "start_time": "2024-11-21T08:03:49.046Z"
   },
   {
    "duration": 11,
    "start_time": "2024-11-21T08:03:49.071Z"
   },
   {
    "duration": 28,
    "start_time": "2024-11-21T08:03:49.118Z"
   },
   {
    "duration": 4,
    "start_time": "2024-11-21T08:03:49.148Z"
   },
   {
    "duration": 16,
    "start_time": "2024-11-21T08:03:49.153Z"
   },
   {
    "duration": 21,
    "start_time": "2024-11-21T08:03:49.171Z"
   },
   {
    "duration": 6,
    "start_time": "2024-11-21T08:03:49.194Z"
   },
   {
    "duration": 23,
    "start_time": "2024-11-21T08:03:49.202Z"
   },
   {
    "duration": 17,
    "start_time": "2024-11-21T08:03:49.229Z"
   },
   {
    "duration": 34,
    "start_time": "2024-11-21T08:03:49.247Z"
   },
   {
    "duration": 13,
    "start_time": "2024-11-21T08:03:49.283Z"
   },
   {
    "duration": 26,
    "start_time": "2024-11-21T08:03:49.298Z"
   },
   {
    "duration": 9,
    "start_time": "2024-11-21T08:03:49.326Z"
   },
   {
    "duration": 4881,
    "start_time": "2024-11-21T08:03:49.337Z"
   },
   {
    "duration": 15,
    "start_time": "2024-11-21T08:07:29.510Z"
   },
   {
    "duration": 6798,
    "start_time": "2024-11-21T08:13:55.285Z"
   },
   {
    "duration": 49,
    "start_time": "2024-11-21T08:14:02.085Z"
   },
   {
    "duration": 1625,
    "start_time": "2024-11-21T08:14:02.136Z"
   },
   {
    "duration": 8,
    "start_time": "2024-11-21T08:14:03.763Z"
   },
   {
    "duration": 1147,
    "start_time": "2024-11-21T08:14:03.774Z"
   },
   {
    "duration": 14,
    "start_time": "2024-11-21T08:14:04.923Z"
   },
   {
    "duration": 372,
    "start_time": "2024-11-21T08:14:04.939Z"
   },
   {
    "duration": 17666,
    "start_time": "2024-11-21T08:14:05.312Z"
   },
   {
    "duration": 18,
    "start_time": "2024-11-21T08:14:22.980Z"
   },
   {
    "duration": 38,
    "start_time": "2024-11-21T08:14:22.999Z"
   },
   {
    "duration": 27,
    "start_time": "2024-11-21T08:14:23.042Z"
   },
   {
    "duration": 4,
    "start_time": "2024-11-21T08:14:23.072Z"
   },
   {
    "duration": 47,
    "start_time": "2024-11-21T08:14:23.078Z"
   },
   {
    "duration": 5,
    "start_time": "2024-11-21T08:14:23.132Z"
   },
   {
    "duration": 48,
    "start_time": "2024-11-21T08:14:23.138Z"
   },
   {
    "duration": 10,
    "start_time": "2024-11-21T08:14:23.188Z"
   },
   {
    "duration": 6,
    "start_time": "2024-11-21T08:14:23.200Z"
   },
   {
    "duration": 36,
    "start_time": "2024-11-21T08:14:23.207Z"
   },
   {
    "duration": 12,
    "start_time": "2024-11-21T08:14:23.245Z"
   },
   {
    "duration": 20,
    "start_time": "2024-11-21T08:14:23.259Z"
   },
   {
    "duration": 8,
    "start_time": "2024-11-21T08:14:23.280Z"
   },
   {
    "duration": 7231,
    "start_time": "2024-11-21T08:14:23.290Z"
   },
   {
    "duration": 16,
    "start_time": "2024-11-21T08:14:30.523Z"
   },
   {
    "duration": 6775,
    "start_time": "2024-11-21T08:15:07.049Z"
   },
   {
    "duration": 9,
    "start_time": "2024-11-21T08:15:16.060Z"
   },
   {
    "duration": 6442,
    "start_time": "2024-11-21T08:17:07.491Z"
   },
   {
    "duration": 8,
    "start_time": "2024-11-21T08:17:16.483Z"
   },
   {
    "duration": 6718,
    "start_time": "2024-11-21T08:17:37.358Z"
   },
   {
    "duration": 52,
    "start_time": "2024-11-21T08:17:44.078Z"
   },
   {
    "duration": 1506,
    "start_time": "2024-11-21T08:17:44.132Z"
   },
   {
    "duration": 10,
    "start_time": "2024-11-21T08:17:45.641Z"
   },
   {
    "duration": 1085,
    "start_time": "2024-11-21T08:17:45.653Z"
   },
   {
    "duration": 11,
    "start_time": "2024-11-21T08:17:46.740Z"
   },
   {
    "duration": 386,
    "start_time": "2024-11-21T08:17:46.753Z"
   },
   {
    "duration": 17826,
    "start_time": "2024-11-21T08:17:47.141Z"
   },
   {
    "duration": 64,
    "start_time": "2024-11-21T08:18:04.969Z"
   },
   {
    "duration": 10,
    "start_time": "2024-11-21T08:18:05.036Z"
   },
   {
    "duration": 38,
    "start_time": "2024-11-21T08:18:05.048Z"
   },
   {
    "duration": 4,
    "start_time": "2024-11-21T08:18:05.088Z"
   },
   {
    "duration": 27,
    "start_time": "2024-11-21T08:18:05.093Z"
   },
   {
    "duration": 12,
    "start_time": "2024-11-21T08:18:05.124Z"
   },
   {
    "duration": 72,
    "start_time": "2024-11-21T08:18:05.138Z"
   },
   {
    "duration": 55,
    "start_time": "2024-11-21T08:18:05.212Z"
   },
   {
    "duration": 25,
    "start_time": "2024-11-21T08:18:05.269Z"
   },
   {
    "duration": 40,
    "start_time": "2024-11-21T08:18:05.295Z"
   },
   {
    "duration": 12,
    "start_time": "2024-11-21T08:18:05.337Z"
   },
   {
    "duration": 48,
    "start_time": "2024-11-21T08:18:05.350Z"
   },
   {
    "duration": 10,
    "start_time": "2024-11-21T08:18:05.399Z"
   },
   {
    "duration": 4419,
    "start_time": "2024-11-21T08:18:05.410Z"
   },
   {
    "duration": 94,
    "start_time": "2024-11-21T08:18:09.831Z"
   },
   {
    "duration": 480,
    "start_time": "2024-11-21T08:25:44.449Z"
   },
   {
    "duration": 9,
    "start_time": "2024-11-21T08:25:47.332Z"
   },
   {
    "duration": 12,
    "start_time": "2024-11-21T08:25:51.050Z"
   },
   {
    "duration": 13,
    "start_time": "2024-11-21T08:26:08.667Z"
   },
   {
    "duration": 18,
    "start_time": "2024-11-21T08:26:44.442Z"
   },
   {
    "duration": 7099,
    "start_time": "2024-11-21T08:30:36.481Z"
   },
   {
    "duration": 51,
    "start_time": "2024-11-21T08:30:43.582Z"
   },
   {
    "duration": 1469,
    "start_time": "2024-11-21T08:30:43.634Z"
   },
   {
    "duration": 27,
    "start_time": "2024-11-21T08:30:45.105Z"
   },
   {
    "duration": 1102,
    "start_time": "2024-11-21T08:30:45.134Z"
   },
   {
    "duration": 12,
    "start_time": "2024-11-21T08:30:46.238Z"
   },
   {
    "duration": 398,
    "start_time": "2024-11-21T08:30:46.251Z"
   },
   {
    "duration": 18205,
    "start_time": "2024-11-21T08:30:46.651Z"
   },
   {
    "duration": 19,
    "start_time": "2024-11-21T08:31:04.858Z"
   },
   {
    "duration": 45,
    "start_time": "2024-11-21T08:31:04.879Z"
   },
   {
    "duration": 24,
    "start_time": "2024-11-21T08:31:04.931Z"
   },
   {
    "duration": 5,
    "start_time": "2024-11-21T08:31:04.957Z"
   },
   {
    "duration": 35,
    "start_time": "2024-11-21T08:31:04.964Z"
   },
   {
    "duration": 27,
    "start_time": "2024-11-21T08:31:05.001Z"
   },
   {
    "duration": 5,
    "start_time": "2024-11-21T08:31:05.031Z"
   },
   {
    "duration": 16,
    "start_time": "2024-11-21T08:31:05.038Z"
   },
   {
    "duration": 9,
    "start_time": "2024-11-21T08:31:05.055Z"
   },
   {
    "duration": 42,
    "start_time": "2024-11-21T08:31:05.066Z"
   },
   {
    "duration": 14,
    "start_time": "2024-11-21T08:31:05.109Z"
   },
   {
    "duration": 19,
    "start_time": "2024-11-21T08:31:05.131Z"
   },
   {
    "duration": 11,
    "start_time": "2024-11-21T08:31:05.152Z"
   },
   {
    "duration": 263,
    "start_time": "2024-11-21T08:31:05.165Z"
   },
   {
    "duration": 95,
    "start_time": "2024-11-21T08:31:05.430Z"
   },
   {
    "duration": 93,
    "start_time": "2024-11-21T08:31:05.527Z"
   },
   {
    "duration": 4,
    "start_time": "2024-11-21T08:31:05.623Z"
   },
   {
    "duration": 136,
    "start_time": "2024-11-21T08:34:49.111Z"
   },
   {
    "duration": 16,
    "start_time": "2024-11-21T08:55:13.798Z"
   },
   {
    "duration": 13,
    "start_time": "2024-11-21T08:55:22.445Z"
   },
   {
    "duration": 16,
    "start_time": "2024-11-21T08:56:11.819Z"
   },
   {
    "duration": 13,
    "start_time": "2024-11-21T09:03:12.054Z"
   },
   {
    "duration": 392,
    "start_time": "2024-11-21T09:03:54.333Z"
   },
   {
    "duration": 13,
    "start_time": "2024-11-21T09:03:56.416Z"
   },
   {
    "duration": 462,
    "start_time": "2024-11-21T09:07:30.675Z"
   },
   {
    "duration": 11,
    "start_time": "2024-11-21T09:07:32.539Z"
   },
   {
    "duration": 624,
    "start_time": "2024-11-21T09:07:53.104Z"
   },
   {
    "duration": 10,
    "start_time": "2024-11-21T09:07:55.364Z"
   },
   {
    "duration": 789,
    "start_time": "2024-11-21T09:10:42.036Z"
   },
   {
    "duration": 9,
    "start_time": "2024-11-21T09:11:36.940Z"
   },
   {
    "duration": 5,
    "start_time": "2024-11-21T09:11:50.657Z"
   },
   {
    "duration": 18,
    "start_time": "2024-11-21T09:12:08.958Z"
   },
   {
    "duration": 6,
    "start_time": "2024-11-21T09:12:15.100Z"
   },
   {
    "duration": 13,
    "start_time": "2024-11-21T09:15:07.872Z"
   },
   {
    "duration": 4,
    "start_time": "2024-11-21T09:16:42.495Z"
   },
   {
    "duration": 11,
    "start_time": "2024-11-21T09:16:43.635Z"
   },
   {
    "duration": 16,
    "start_time": "2024-11-21T09:25:15.133Z"
   },
   {
    "duration": 10,
    "start_time": "2024-11-21T09:25:25.297Z"
   },
   {
    "duration": 4,
    "start_time": "2024-11-21T09:25:45.781Z"
   },
   {
    "duration": 16,
    "start_time": "2024-11-21T09:25:46.913Z"
   },
   {
    "duration": 4,
    "start_time": "2024-11-21T09:27:48.726Z"
   },
   {
    "duration": 3,
    "start_time": "2024-11-21T09:28:42.761Z"
   },
   {
    "duration": 442,
    "start_time": "2024-11-21T09:31:22.579Z"
   },
   {
    "duration": 15,
    "start_time": "2024-11-21T09:31:31.315Z"
   },
   {
    "duration": 4,
    "start_time": "2024-11-21T09:31:33.388Z"
   },
   {
    "duration": 12,
    "start_time": "2024-11-21T09:32:22.832Z"
   },
   {
    "duration": 53,
    "start_time": "2024-11-22T18:22:31.131Z"
   },
   {
    "duration": 8508,
    "start_time": "2024-11-22T18:22:37.595Z"
   },
   {
    "duration": 97,
    "start_time": "2024-11-22T18:22:46.105Z"
   },
   {
    "duration": 1535,
    "start_time": "2024-11-22T18:22:46.204Z"
   },
   {
    "duration": 12,
    "start_time": "2024-11-22T18:22:47.740Z"
   },
   {
    "duration": 1073,
    "start_time": "2024-11-22T18:22:47.754Z"
   },
   {
    "duration": 12,
    "start_time": "2024-11-22T18:22:48.828Z"
   },
   {
    "duration": 340,
    "start_time": "2024-11-22T18:22:48.853Z"
   },
   {
    "duration": 16826,
    "start_time": "2024-11-22T18:22:49.195Z"
   },
   {
    "duration": 35,
    "start_time": "2024-11-22T18:23:06.022Z"
   },
   {
    "duration": 11,
    "start_time": "2024-11-22T18:23:06.059Z"
   },
   {
    "duration": 48,
    "start_time": "2024-11-22T18:23:06.072Z"
   },
   {
    "duration": 4,
    "start_time": "2024-11-22T18:23:06.122Z"
   },
   {
    "duration": 18,
    "start_time": "2024-11-22T18:23:06.128Z"
   },
   {
    "duration": 6,
    "start_time": "2024-11-22T18:23:06.154Z"
   },
   {
    "duration": 11,
    "start_time": "2024-11-22T18:23:06.161Z"
   },
   {
    "duration": 11,
    "start_time": "2024-11-22T18:23:06.174Z"
   },
   {
    "duration": 21,
    "start_time": "2024-11-22T18:23:06.187Z"
   },
   {
    "duration": 46,
    "start_time": "2024-11-22T18:23:06.210Z"
   },
   {
    "duration": 46,
    "start_time": "2024-11-22T18:23:06.258Z"
   },
   {
    "duration": 22,
    "start_time": "2024-11-22T18:23:06.305Z"
   },
   {
    "duration": 425,
    "start_time": "2024-11-22T18:23:06.329Z"
   },
   {
    "duration": 4,
    "start_time": "2024-11-22T18:23:06.756Z"
   },
   {
    "duration": 113,
    "start_time": "2024-11-22T18:23:06.762Z"
   },
   {
    "duration": 117,
    "start_time": "2024-11-22T18:23:06.876Z"
   },
   {
    "duration": 20,
    "start_time": "2024-11-22T18:23:17.156Z"
   },
   {
    "duration": 24,
    "start_time": "2024-11-22T20:50:31.712Z"
   },
   {
    "duration": 28,
    "start_time": "2024-11-22T20:50:38.435Z"
   },
   {
    "duration": 29,
    "start_time": "2024-11-22T21:46:41.939Z"
   },
   {
    "duration": 52,
    "start_time": "2024-11-22T21:52:30.072Z"
   },
   {
    "duration": 29,
    "start_time": "2024-11-22T22:01:49.787Z"
   },
   {
    "duration": 27,
    "start_time": "2024-11-22T22:08:31.768Z"
   },
   {
    "duration": 25,
    "start_time": "2024-11-22T22:13:44.072Z"
   },
   {
    "duration": 31,
    "start_time": "2024-11-22T23:34:32.480Z"
   },
   {
    "duration": 34,
    "start_time": "2024-11-22T23:39:29.666Z"
   },
   {
    "duration": 44,
    "start_time": "2024-11-22T23:39:43.941Z"
   },
   {
    "duration": 33,
    "start_time": "2024-11-22T23:39:58.402Z"
   },
   {
    "duration": 35,
    "start_time": "2024-11-22T23:41:29.128Z"
   },
   {
    "duration": 43,
    "start_time": "2024-11-22T23:59:33.926Z"
   },
   {
    "duration": 795,
    "start_time": "2024-11-23T00:03:21.344Z"
   },
   {
    "duration": 8,
    "start_time": "2024-11-23T00:04:03.096Z"
   },
   {
    "duration": 755,
    "start_time": "2024-11-23T00:04:29.031Z"
   },
   {
    "duration": 36,
    "start_time": "2024-11-23T00:07:22.153Z"
   },
   {
    "duration": 36,
    "start_time": "2024-11-23T00:07:38.610Z"
   },
   {
    "duration": 67,
    "start_time": "2024-11-23T00:08:32.007Z"
   },
   {
    "duration": 403,
    "start_time": "2024-11-23T00:09:52.174Z"
   },
   {
    "duration": 46,
    "start_time": "2024-11-23T00:10:23.950Z"
   },
   {
    "duration": 38,
    "start_time": "2024-11-23T00:10:40.504Z"
   },
   {
    "duration": 40,
    "start_time": "2024-11-23T00:15:52.253Z"
   },
   {
    "duration": 56,
    "start_time": "2024-11-23T00:16:05.872Z"
   },
   {
    "duration": 128,
    "start_time": "2024-11-23T00:16:23.193Z"
   },
   {
    "duration": 40,
    "start_time": "2024-11-23T00:37:49.279Z"
   },
   {
    "duration": 39,
    "start_time": "2024-11-23T00:38:47.805Z"
   },
   {
    "duration": 26,
    "start_time": "2024-11-23T00:42:03.171Z"
   },
   {
    "duration": 37,
    "start_time": "2024-11-23T00:42:13.602Z"
   },
   {
    "duration": 38,
    "start_time": "2024-11-23T01:45:40.597Z"
   },
   {
    "duration": 4,
    "start_time": "2024-11-23T02:13:48.288Z"
   },
   {
    "duration": 5,
    "start_time": "2024-11-23T02:15:16.141Z"
   },
   {
    "duration": 4,
    "start_time": "2024-11-23T02:15:54.662Z"
   },
   {
    "duration": 4,
    "start_time": "2024-11-23T02:17:09.257Z"
   },
   {
    "duration": 3,
    "start_time": "2024-11-23T02:18:32.547Z"
   },
   {
    "duration": 4,
    "start_time": "2024-11-23T03:00:06.551Z"
   },
   {
    "duration": 4,
    "start_time": "2024-11-23T03:01:51.153Z"
   },
   {
    "duration": 3,
    "start_time": "2024-11-23T03:02:09.676Z"
   },
   {
    "duration": 3,
    "start_time": "2024-11-23T03:02:13.623Z"
   },
   {
    "duration": 4,
    "start_time": "2024-11-23T03:02:25.357Z"
   },
   {
    "duration": 4,
    "start_time": "2024-11-23T03:02:35.310Z"
   },
   {
    "duration": 4,
    "start_time": "2024-11-23T03:02:40.828Z"
   },
   {
    "duration": 12,
    "start_time": "2024-11-23T03:46:19.830Z"
   },
   {
    "duration": 15,
    "start_time": "2024-11-23T03:46:29.742Z"
   },
   {
    "duration": 16,
    "start_time": "2024-11-23T03:48:30.423Z"
   },
   {
    "duration": 720,
    "start_time": "2024-11-23T03:49:35.386Z"
   },
   {
    "duration": 14,
    "start_time": "2024-11-23T03:50:28.243Z"
   },
   {
    "duration": 320,
    "start_time": "2024-11-23T03:51:16.280Z"
   },
   {
    "duration": 488,
    "start_time": "2024-11-23T03:55:06.710Z"
   },
   {
    "duration": 492,
    "start_time": "2024-11-23T03:55:19.785Z"
   },
   {
    "duration": 455,
    "start_time": "2024-11-23T03:55:30.255Z"
   },
   {
    "duration": 516,
    "start_time": "2024-11-23T03:55:47.897Z"
   },
   {
    "duration": 570,
    "start_time": "2024-11-23T03:57:54.176Z"
   },
   {
    "duration": 479,
    "start_time": "2024-11-23T03:58:11.072Z"
   },
   {
    "duration": 471,
    "start_time": "2024-11-23T03:58:34.729Z"
   },
   {
    "duration": 483,
    "start_time": "2024-11-23T03:58:38.928Z"
   },
   {
    "duration": 58,
    "start_time": "2024-11-23T16:58:37.238Z"
   },
   {
    "duration": 9096,
    "start_time": "2024-11-23T16:58:48.149Z"
   },
   {
    "duration": 162,
    "start_time": "2024-11-23T16:58:57.247Z"
   },
   {
    "duration": 1668,
    "start_time": "2024-11-23T16:58:57.411Z"
   },
   {
    "duration": 7,
    "start_time": "2024-11-23T16:58:59.081Z"
   },
   {
    "duration": 1218,
    "start_time": "2024-11-23T16:58:59.091Z"
   },
   {
    "duration": 29,
    "start_time": "2024-11-23T16:59:00.311Z"
   },
   {
    "duration": 469,
    "start_time": "2024-11-23T16:59:00.342Z"
   },
   {
    "duration": 19468,
    "start_time": "2024-11-23T16:59:00.812Z"
   },
   {
    "duration": 51,
    "start_time": "2024-11-23T16:59:20.282Z"
   },
   {
    "duration": 15,
    "start_time": "2024-11-23T16:59:20.336Z"
   },
   {
    "duration": 41,
    "start_time": "2024-11-23T16:59:20.353Z"
   },
   {
    "duration": 3,
    "start_time": "2024-11-23T16:59:20.396Z"
   },
   {
    "duration": 26,
    "start_time": "2024-11-23T16:59:20.401Z"
   },
   {
    "duration": 44,
    "start_time": "2024-11-23T16:59:20.430Z"
   },
   {
    "duration": 45,
    "start_time": "2024-11-23T16:59:20.476Z"
   },
   {
    "duration": 37,
    "start_time": "2024-11-23T16:59:20.524Z"
   },
   {
    "duration": 20,
    "start_time": "2024-11-23T16:59:20.563Z"
   },
   {
    "duration": 40,
    "start_time": "2024-11-23T16:59:20.585Z"
   },
   {
    "duration": 28,
    "start_time": "2024-11-23T16:59:20.627Z"
   },
   {
    "duration": 21,
    "start_time": "2024-11-23T16:59:20.657Z"
   },
   {
    "duration": 854,
    "start_time": "2024-11-23T16:59:20.680Z"
   },
   {
    "duration": 7,
    "start_time": "2024-11-23T16:59:21.537Z"
   },
   {
    "duration": 17,
    "start_time": "2024-11-23T16:59:21.627Z"
   },
   {
    "duration": 161,
    "start_time": "2024-11-23T16:59:21.645Z"
   },
   {
    "duration": 0,
    "start_time": "2024-11-23T16:59:21.808Z"
   },
   {
    "duration": 0,
    "start_time": "2024-11-23T16:59:21.810Z"
   },
   {
    "duration": 35,
    "start_time": "2024-11-23T16:59:58.471Z"
   },
   {
    "duration": 7392,
    "start_time": "2024-11-23T17:00:06.393Z"
   },
   {
    "duration": 51,
    "start_time": "2024-11-23T17:00:13.787Z"
   },
   {
    "duration": 1681,
    "start_time": "2024-11-23T17:00:13.839Z"
   },
   {
    "duration": 12,
    "start_time": "2024-11-23T17:00:15.524Z"
   },
   {
    "duration": 1385,
    "start_time": "2024-11-23T17:00:15.540Z"
   },
   {
    "duration": 17,
    "start_time": "2024-11-23T17:00:16.929Z"
   },
   {
    "duration": 398,
    "start_time": "2024-11-23T17:00:16.948Z"
   },
   {
    "duration": 18848,
    "start_time": "2024-11-23T17:00:17.348Z"
   },
   {
    "duration": 43,
    "start_time": "2024-11-23T17:00:36.198Z"
   },
   {
    "duration": 27,
    "start_time": "2024-11-23T17:00:36.243Z"
   },
   {
    "duration": 63,
    "start_time": "2024-11-23T17:00:36.272Z"
   },
   {
    "duration": 25,
    "start_time": "2024-11-23T17:00:36.337Z"
   },
   {
    "duration": 42,
    "start_time": "2024-11-23T17:00:36.364Z"
   },
   {
    "duration": 28,
    "start_time": "2024-11-23T17:00:36.408Z"
   },
   {
    "duration": 116,
    "start_time": "2024-11-23T17:00:36.438Z"
   },
   {
    "duration": 16,
    "start_time": "2024-11-23T17:00:36.556Z"
   },
   {
    "duration": 33,
    "start_time": "2024-11-23T17:00:36.574Z"
   },
   {
    "duration": 48,
    "start_time": "2024-11-23T17:00:36.608Z"
   },
   {
    "duration": 21,
    "start_time": "2024-11-23T17:00:36.658Z"
   },
   {
    "duration": 21,
    "start_time": "2024-11-23T17:00:36.681Z"
   },
   {
    "duration": 439,
    "start_time": "2024-11-23T17:00:36.704Z"
   },
   {
    "duration": 4,
    "start_time": "2024-11-23T17:00:37.222Z"
   },
   {
    "duration": 132,
    "start_time": "2024-11-23T17:00:37.228Z"
   },
   {
    "duration": 67,
    "start_time": "2024-11-23T17:00:37.362Z"
   },
   {
    "duration": 5,
    "start_time": "2024-11-23T17:00:37.433Z"
   },
   {
    "duration": 577,
    "start_time": "2024-11-23T17:00:37.439Z"
   },
   {
    "duration": 9371,
    "start_time": "2024-11-23T17:00:48.028Z"
   },
   {
    "duration": 10025,
    "start_time": "2024-11-23T17:06:32.469Z"
   },
   {
    "duration": 9101,
    "start_time": "2024-11-23T17:11:41.721Z"
   },
   {
    "duration": 9239,
    "start_time": "2024-11-23T17:14:57.832Z"
   },
   {
    "duration": 9261,
    "start_time": "2024-11-23T17:19:34.521Z"
   },
   {
    "duration": 9601,
    "start_time": "2024-11-23T17:20:10.964Z"
   },
   {
    "duration": 8475,
    "start_time": "2024-11-23T17:20:49.944Z"
   },
   {
    "duration": 8488,
    "start_time": "2024-11-23T17:21:13.564Z"
   },
   {
    "duration": 8719,
    "start_time": "2024-11-23T17:21:34.658Z"
   },
   {
    "duration": 1437,
    "start_time": "2024-11-23T17:31:56.815Z"
   },
   {
    "duration": 959,
    "start_time": "2024-11-23T17:32:58.440Z"
   },
   {
    "duration": 1048,
    "start_time": "2024-11-23T17:33:10.048Z"
   },
   {
    "duration": 926,
    "start_time": "2024-11-23T17:33:23.480Z"
   },
   {
    "duration": 1100,
    "start_time": "2024-11-23T17:33:30.301Z"
   },
   {
    "duration": 929,
    "start_time": "2024-11-23T17:33:58.662Z"
   },
   {
    "duration": 1012,
    "start_time": "2024-11-23T17:35:55.518Z"
   },
   {
    "duration": 954,
    "start_time": "2024-11-23T17:36:22.534Z"
   },
   {
    "duration": 1102,
    "start_time": "2024-11-23T17:37:10.854Z"
   },
   {
    "duration": 8867,
    "start_time": "2024-11-23T18:25:29.385Z"
   },
   {
    "duration": 1498,
    "start_time": "2024-11-23T18:25:47.256Z"
   },
   {
    "duration": 579,
    "start_time": "2024-11-23T18:26:11.775Z"
   },
   {
    "duration": 549,
    "start_time": "2024-11-23T18:26:31.197Z"
   },
   {
    "duration": 417,
    "start_time": "2024-11-23T18:26:41.030Z"
   },
   {
    "duration": 546,
    "start_time": "2024-11-23T18:27:49.336Z"
   },
   {
    "duration": 8932,
    "start_time": "2024-11-23T18:28:26.971Z"
   },
   {
    "duration": 1037,
    "start_time": "2024-11-23T18:28:50.499Z"
   },
   {
    "duration": 546,
    "start_time": "2024-11-23T18:31:29.396Z"
   },
   {
    "duration": 521,
    "start_time": "2024-11-23T18:32:00.914Z"
   },
   {
    "duration": 61,
    "start_time": "2024-11-24T11:33:38.775Z"
   },
   {
    "duration": 8243,
    "start_time": "2024-11-24T11:33:48.291Z"
   },
   {
    "duration": 153,
    "start_time": "2024-11-24T11:33:56.536Z"
   },
   {
    "duration": 1501,
    "start_time": "2024-11-24T11:33:56.691Z"
   },
   {
    "duration": 8,
    "start_time": "2024-11-24T11:33:58.194Z"
   },
   {
    "duration": 1096,
    "start_time": "2024-11-24T11:33:58.203Z"
   },
   {
    "duration": 22,
    "start_time": "2024-11-24T11:33:59.301Z"
   },
   {
    "duration": 359,
    "start_time": "2024-11-24T11:33:59.325Z"
   },
   {
    "duration": 16401,
    "start_time": "2024-11-24T11:33:59.686Z"
   },
   {
    "duration": 35,
    "start_time": "2024-11-24T11:34:16.089Z"
   },
   {
    "duration": 12,
    "start_time": "2024-11-24T11:34:16.126Z"
   },
   {
    "duration": 24,
    "start_time": "2024-11-24T11:34:16.139Z"
   },
   {
    "duration": 4,
    "start_time": "2024-11-24T11:34:16.164Z"
   },
   {
    "duration": 17,
    "start_time": "2024-11-24T11:34:16.170Z"
   },
   {
    "duration": 5,
    "start_time": "2024-11-24T11:34:16.218Z"
   },
   {
    "duration": 6,
    "start_time": "2024-11-24T11:34:16.224Z"
   },
   {
    "duration": 6,
    "start_time": "2024-11-24T11:34:16.232Z"
   },
   {
    "duration": 10,
    "start_time": "2024-11-24T11:34:16.239Z"
   },
   {
    "duration": 33,
    "start_time": "2024-11-24T11:34:16.250Z"
   },
   {
    "duration": 49,
    "start_time": "2024-11-24T11:34:16.285Z"
   },
   {
    "duration": 8,
    "start_time": "2024-11-24T11:34:16.335Z"
   },
   {
    "duration": 374,
    "start_time": "2024-11-24T11:34:16.345Z"
   },
   {
    "duration": 4,
    "start_time": "2024-11-24T11:34:16.721Z"
   },
   {
    "duration": 102,
    "start_time": "2024-11-24T11:34:16.727Z"
   },
   {
    "duration": 34,
    "start_time": "2024-11-24T11:34:16.831Z"
   },
   {
    "duration": 4,
    "start_time": "2024-11-24T11:34:16.867Z"
   },
   {
    "duration": 7940,
    "start_time": "2024-11-24T11:34:16.872Z"
   },
   {
    "duration": 5,
    "start_time": "2024-11-24T11:34:24.817Z"
   },
   {
    "duration": 1346,
    "start_time": "2024-11-24T11:34:24.824Z"
   },
   {
    "duration": 524,
    "start_time": "2024-11-24T11:34:26.172Z"
   },
   {
    "duration": 81,
    "start_time": "2024-11-24T11:35:24.266Z"
   },
   {
    "duration": 7,
    "start_time": "2024-11-24T11:36:54.769Z"
   },
   {
    "duration": 415,
    "start_time": "2024-11-24T11:53:19.908Z"
   },
   {
    "duration": 7,
    "start_time": "2024-11-24T11:53:48.615Z"
   },
   {
    "duration": 6,
    "start_time": "2024-11-24T11:57:11.370Z"
   },
   {
    "duration": 8,
    "start_time": "2024-11-24T11:58:58.110Z"
   },
   {
    "duration": 7,
    "start_time": "2024-11-24T11:59:25.815Z"
   },
   {
    "duration": 416,
    "start_time": "2024-11-24T12:01:50.622Z"
   },
   {
    "duration": 499,
    "start_time": "2024-11-24T12:06:37.418Z"
   },
   {
    "duration": 617,
    "start_time": "2024-11-24T12:06:54.525Z"
   },
   {
    "duration": 539,
    "start_time": "2024-11-24T12:07:01.608Z"
   },
   {
    "duration": 522,
    "start_time": "2024-11-24T12:07:07.217Z"
   },
   {
    "duration": 7,
    "start_time": "2024-11-24T12:08:02.896Z"
   },
   {
    "duration": 49,
    "start_time": "2024-11-24T22:16:09.586Z"
   },
   {
    "duration": 8500,
    "start_time": "2024-11-24T22:16:16.097Z"
   },
   {
    "duration": 166,
    "start_time": "2024-11-24T22:16:24.600Z"
   },
   {
    "duration": 1564,
    "start_time": "2024-11-24T22:16:24.767Z"
   },
   {
    "duration": 7,
    "start_time": "2024-11-24T22:16:26.333Z"
   },
   {
    "duration": 1097,
    "start_time": "2024-11-24T22:16:26.342Z"
   },
   {
    "duration": 13,
    "start_time": "2024-11-24T22:16:27.440Z"
   },
   {
    "duration": 417,
    "start_time": "2024-11-24T22:16:27.455Z"
   },
   {
    "duration": 17509,
    "start_time": "2024-11-24T22:16:27.873Z"
   },
   {
    "duration": 48,
    "start_time": "2024-11-24T22:16:45.384Z"
   },
   {
    "duration": 11,
    "start_time": "2024-11-24T22:16:45.436Z"
   },
   {
    "duration": 24,
    "start_time": "2024-11-24T22:16:45.449Z"
   },
   {
    "duration": 12,
    "start_time": "2024-11-24T22:16:45.475Z"
   },
   {
    "duration": 41,
    "start_time": "2024-11-24T22:16:45.489Z"
   },
   {
    "duration": 5,
    "start_time": "2024-11-24T22:16:45.532Z"
   },
   {
    "duration": 11,
    "start_time": "2024-11-24T22:16:45.538Z"
   },
   {
    "duration": 8,
    "start_time": "2024-11-24T22:16:45.550Z"
   },
   {
    "duration": 10,
    "start_time": "2024-11-24T22:16:45.560Z"
   },
   {
    "duration": 49,
    "start_time": "2024-11-24T22:16:45.572Z"
   },
   {
    "duration": 20,
    "start_time": "2024-11-24T22:16:45.623Z"
   },
   {
    "duration": 10,
    "start_time": "2024-11-24T22:16:45.644Z"
   },
   {
    "duration": 666,
    "start_time": "2024-11-24T22:16:45.655Z"
   },
   {
    "duration": 2,
    "start_time": "2024-11-24T22:16:46.323Z"
   },
   {
    "duration": 18,
    "start_time": "2024-11-24T22:16:46.327Z"
   },
   {
    "duration": 35,
    "start_time": "2024-11-24T22:16:46.347Z"
   },
   {
    "duration": 3,
    "start_time": "2024-11-24T22:16:46.384Z"
   },
   {
    "duration": 7995,
    "start_time": "2024-11-24T22:16:46.388Z"
   },
   {
    "duration": 6,
    "start_time": "2024-11-24T22:16:54.385Z"
   },
   {
    "duration": 1390,
    "start_time": "2024-11-24T22:16:54.394Z"
   },
   {
    "duration": 6,
    "start_time": "2024-11-24T22:16:55.786Z"
   },
   {
    "duration": 517,
    "start_time": "2024-11-24T22:16:55.794Z"
   },
   {
    "duration": 11,
    "start_time": "2024-11-24T22:16:56.313Z"
   },
   {
    "duration": 503,
    "start_time": "2024-11-24T22:16:56.325Z"
   },
   {
    "duration": 6,
    "start_time": "2024-11-24T22:16:56.830Z"
   },
   {
    "duration": 6,
    "start_time": "2024-11-24T22:16:56.838Z"
   },
   {
    "duration": 141,
    "start_time": "2024-11-24T22:42:38.524Z"
   },
   {
    "duration": 18,
    "start_time": "2024-11-24T22:42:46.560Z"
   },
   {
    "duration": 21,
    "start_time": "2024-11-24T22:42:52.060Z"
   },
   {
    "duration": 16,
    "start_time": "2024-11-24T22:43:40.151Z"
   },
   {
    "duration": 22,
    "start_time": "2024-11-24T22:44:01.742Z"
   },
   {
    "duration": 24,
    "start_time": "2024-11-24T22:45:10.743Z"
   },
   {
    "duration": 23,
    "start_time": "2024-11-24T22:46:59.392Z"
   },
   {
    "duration": 24,
    "start_time": "2024-11-24T22:47:55.612Z"
   },
   {
    "duration": 25,
    "start_time": "2024-11-24T22:48:19.440Z"
   },
   {
    "duration": 16,
    "start_time": "2024-11-24T23:03:48.818Z"
   },
   {
    "duration": 19,
    "start_time": "2024-11-24T23:03:55.695Z"
   },
   {
    "duration": 264,
    "start_time": "2024-11-24T23:34:23.888Z"
   },
   {
    "duration": 246,
    "start_time": "2024-11-24T23:40:29.529Z"
   },
   {
    "duration": 245,
    "start_time": "2024-11-24T23:40:39.405Z"
   },
   {
    "duration": 262,
    "start_time": "2024-11-24T23:40:56.683Z"
   },
   {
    "duration": 364,
    "start_time": "2024-11-24T23:41:56.667Z"
   },
   {
    "duration": 360,
    "start_time": "2024-11-24T23:46:19.620Z"
   },
   {
    "duration": 257,
    "start_time": "2024-11-24T23:46:56.100Z"
   },
   {
    "duration": 277,
    "start_time": "2024-11-24T23:48:06.968Z"
   },
   {
    "duration": 6712,
    "start_time": "2024-11-24T23:55:42.035Z"
   },
   {
    "duration": 43,
    "start_time": "2024-11-24T23:55:48.750Z"
   },
   {
    "duration": 1473,
    "start_time": "2024-11-24T23:55:48.795Z"
   },
   {
    "duration": 7,
    "start_time": "2024-11-24T23:55:50.269Z"
   },
   {
    "duration": 1029,
    "start_time": "2024-11-24T23:55:50.278Z"
   },
   {
    "duration": 21,
    "start_time": "2024-11-24T23:55:51.308Z"
   },
   {
    "duration": 345,
    "start_time": "2024-11-24T23:55:51.331Z"
   },
   {
    "duration": 17186,
    "start_time": "2024-11-24T23:55:51.678Z"
   },
   {
    "duration": 19,
    "start_time": "2024-11-24T23:56:08.866Z"
   },
   {
    "duration": 42,
    "start_time": "2024-11-24T23:56:08.887Z"
   },
   {
    "duration": 25,
    "start_time": "2024-11-24T23:56:08.930Z"
   },
   {
    "duration": 4,
    "start_time": "2024-11-24T23:56:08.957Z"
   },
   {
    "duration": 14,
    "start_time": "2024-11-24T23:56:08.962Z"
   },
   {
    "duration": 17,
    "start_time": "2024-11-24T23:56:08.979Z"
   },
   {
    "duration": 22,
    "start_time": "2024-11-24T23:56:08.998Z"
   },
   {
    "duration": 5,
    "start_time": "2024-11-24T23:56:09.022Z"
   },
   {
    "duration": 22,
    "start_time": "2024-11-24T23:56:09.028Z"
   },
   {
    "duration": 49,
    "start_time": "2024-11-24T23:56:09.052Z"
   },
   {
    "duration": 20,
    "start_time": "2024-11-24T23:56:09.103Z"
   },
   {
    "duration": 9,
    "start_time": "2024-11-24T23:56:09.125Z"
   },
   {
    "duration": 493,
    "start_time": "2024-11-24T23:56:09.135Z"
   },
   {
    "duration": 92,
    "start_time": "2024-11-24T23:56:09.630Z"
   },
   {
    "duration": 24,
    "start_time": "2024-11-24T23:56:09.724Z"
   },
   {
    "duration": 50,
    "start_time": "2024-11-24T23:56:09.750Z"
   },
   {
    "duration": 16,
    "start_time": "2024-11-24T23:56:09.803Z"
   },
   {
    "duration": 8043,
    "start_time": "2024-11-24T23:56:09.822Z"
   },
   {
    "duration": 5,
    "start_time": "2024-11-24T23:56:17.867Z"
   },
   {
    "duration": 1350,
    "start_time": "2024-11-24T23:56:17.874Z"
   },
   {
    "duration": 6,
    "start_time": "2024-11-24T23:56:19.226Z"
   },
   {
    "duration": 527,
    "start_time": "2024-11-24T23:56:19.234Z"
   },
   {
    "duration": 7,
    "start_time": "2024-11-24T23:56:19.763Z"
   },
   {
    "duration": 575,
    "start_time": "2024-11-24T23:56:19.772Z"
   },
   {
    "duration": 8,
    "start_time": "2024-11-24T23:56:20.349Z"
   },
   {
    "duration": 71,
    "start_time": "2024-11-24T23:56:20.359Z"
   },
   {
    "duration": 324,
    "start_time": "2024-11-24T23:56:20.432Z"
   },
   {
    "duration": 284,
    "start_time": "2024-11-25T00:00:46.351Z"
   },
   {
    "duration": 265,
    "start_time": "2024-11-25T00:01:54.822Z"
   },
   {
    "duration": 505,
    "start_time": "2024-11-25T00:10:46.913Z"
   },
   {
    "duration": 285,
    "start_time": "2024-11-25T00:11:17.678Z"
   },
   {
    "duration": 353,
    "start_time": "2024-11-25T00:12:05.208Z"
   },
   {
    "duration": 460,
    "start_time": "2024-11-25T00:30:42.370Z"
   },
   {
    "duration": 36,
    "start_time": "2024-11-25T00:31:11.400Z"
   },
   {
    "duration": 31,
    "start_time": "2024-11-25T00:32:18.289Z"
   },
   {
    "duration": 34,
    "start_time": "2024-11-25T00:32:24.328Z"
   },
   {
    "duration": 31,
    "start_time": "2024-11-25T00:33:23.182Z"
   },
   {
    "duration": 25,
    "start_time": "2024-11-25T00:33:55.038Z"
   },
   {
    "duration": 33,
    "start_time": "2024-11-25T00:34:01.991Z"
   },
   {
    "duration": 301,
    "start_time": "2024-11-25T00:34:25.178Z"
   },
   {
    "duration": 27,
    "start_time": "2024-11-25T00:35:19.545Z"
   },
   {
    "duration": 282,
    "start_time": "2024-11-25T00:37:49.989Z"
   },
   {
    "duration": 29,
    "start_time": "2024-11-25T00:39:26.731Z"
   },
   {
    "duration": 240,
    "start_time": "2024-11-25T00:39:31.435Z"
   },
   {
    "duration": 31,
    "start_time": "2024-11-25T00:40:00.315Z"
   },
   {
    "duration": 336,
    "start_time": "2024-11-25T00:40:01.445Z"
   },
   {
    "duration": 29,
    "start_time": "2024-11-25T00:40:05.576Z"
   },
   {
    "duration": 336,
    "start_time": "2024-11-25T00:40:07.824Z"
   },
   {
    "duration": 333,
    "start_time": "2024-11-25T01:33:28.414Z"
   },
   {
    "duration": 31,
    "start_time": "2024-11-25T01:37:55.801Z"
   },
   {
    "duration": 379,
    "start_time": "2024-11-25T01:38:31.341Z"
   },
   {
    "duration": 378,
    "start_time": "2024-11-25T01:38:37.150Z"
   },
   {
    "duration": 449,
    "start_time": "2024-11-25T01:39:48.102Z"
   },
   {
    "duration": 31,
    "start_time": "2024-11-25T01:42:25.245Z"
   },
   {
    "duration": 524,
    "start_time": "2024-11-25T01:45:06.762Z"
   },
   {
    "duration": 28,
    "start_time": "2024-11-25T01:53:04.924Z"
   },
   {
    "duration": 319,
    "start_time": "2024-11-25T02:02:12.007Z"
   },
   {
    "duration": 31,
    "start_time": "2024-11-25T02:17:50.337Z"
   },
   {
    "duration": 298,
    "start_time": "2024-11-25T02:19:43.574Z"
   },
   {
    "duration": 52,
    "start_time": "2024-11-25T02:46:42.479Z"
   },
   {
    "duration": 6773,
    "start_time": "2024-11-25T02:46:49.040Z"
   },
   {
    "duration": 165,
    "start_time": "2024-11-25T02:46:55.815Z"
   },
   {
    "duration": 1526,
    "start_time": "2024-11-25T02:46:55.981Z"
   },
   {
    "duration": 13,
    "start_time": "2024-11-25T02:46:57.510Z"
   },
   {
    "duration": 1073,
    "start_time": "2024-11-25T02:46:57.526Z"
   },
   {
    "duration": 22,
    "start_time": "2024-11-25T02:46:58.600Z"
   },
   {
    "duration": 348,
    "start_time": "2024-11-25T02:46:58.624Z"
   },
   {
    "duration": 16981,
    "start_time": "2024-11-25T02:46:58.973Z"
   },
   {
    "duration": 24,
    "start_time": "2024-11-25T02:47:15.956Z"
   },
   {
    "duration": 41,
    "start_time": "2024-11-25T02:47:15.982Z"
   },
   {
    "duration": 23,
    "start_time": "2024-11-25T02:47:16.025Z"
   },
   {
    "duration": 5,
    "start_time": "2024-11-25T02:47:16.049Z"
   },
   {
    "duration": 14,
    "start_time": "2024-11-25T02:47:16.055Z"
   },
   {
    "duration": 10,
    "start_time": "2024-11-25T02:47:16.072Z"
   },
   {
    "duration": 17,
    "start_time": "2024-11-25T02:47:16.084Z"
   },
   {
    "duration": 18,
    "start_time": "2024-11-25T02:47:16.103Z"
   },
   {
    "duration": 5,
    "start_time": "2024-11-25T02:47:16.123Z"
   },
   {
    "duration": 25,
    "start_time": "2024-11-25T02:47:16.130Z"
   },
   {
    "duration": 20,
    "start_time": "2024-11-25T02:47:16.157Z"
   },
   {
    "duration": 42,
    "start_time": "2024-11-25T02:47:16.179Z"
   },
   {
    "duration": 506,
    "start_time": "2024-11-25T02:47:16.223Z"
   },
   {
    "duration": 92,
    "start_time": "2024-11-25T02:47:16.730Z"
   },
   {
    "duration": 13,
    "start_time": "2024-11-25T02:47:16.823Z"
   },
   {
    "duration": 35,
    "start_time": "2024-11-25T02:47:16.837Z"
   },
   {
    "duration": 67,
    "start_time": "2024-11-25T02:47:16.874Z"
   },
   {
    "duration": 8164,
    "start_time": "2024-11-25T02:47:16.943Z"
   },
   {
    "duration": 13,
    "start_time": "2024-11-25T02:47:25.110Z"
   },
   {
    "duration": 1396,
    "start_time": "2024-11-25T02:47:25.124Z"
   },
   {
    "duration": 6,
    "start_time": "2024-11-25T02:47:26.522Z"
   },
   {
    "duration": 522,
    "start_time": "2024-11-25T02:47:26.529Z"
   },
   {
    "duration": 7,
    "start_time": "2024-11-25T02:47:27.052Z"
   },
   {
    "duration": 592,
    "start_time": "2024-11-25T02:47:27.061Z"
   },
   {
    "duration": 6,
    "start_time": "2024-11-25T02:47:27.655Z"
   },
   {
    "duration": 40,
    "start_time": "2024-11-25T02:47:27.663Z"
   },
   {
    "duration": 385,
    "start_time": "2024-11-25T02:47:27.705Z"
   },
   {
    "duration": 40,
    "start_time": "2024-11-25T02:47:28.092Z"
   },
   {
    "duration": 323,
    "start_time": "2024-11-25T02:47:28.134Z"
   },
   {
    "duration": 28,
    "start_time": "2024-11-25T02:47:28.458Z"
   },
   {
    "duration": 435,
    "start_time": "2024-11-25T02:47:28.488Z"
   },
   {
    "duration": 27,
    "start_time": "2024-11-25T02:47:28.925Z"
   },
   {
    "duration": 546,
    "start_time": "2024-11-25T02:47:28.957Z"
   },
   {
    "duration": 40,
    "start_time": "2024-11-25T02:47:29.505Z"
   },
   {
    "duration": 350,
    "start_time": "2024-11-25T02:47:29.547Z"
   },
   {
    "duration": 45,
    "start_time": "2024-11-25T02:47:29.899Z"
   },
   {
    "duration": 326,
    "start_time": "2024-11-25T02:47:29.945Z"
   },
   {
    "duration": 6787,
    "start_time": "2024-11-25T02:53:58.346Z"
   },
   {
    "duration": 173,
    "start_time": "2024-11-25T02:54:05.136Z"
   },
   {
    "duration": 1526,
    "start_time": "2024-11-25T02:54:05.310Z"
   },
   {
    "duration": 8,
    "start_time": "2024-11-25T02:54:06.838Z"
   },
   {
    "duration": 1082,
    "start_time": "2024-11-25T02:54:06.849Z"
   },
   {
    "duration": 12,
    "start_time": "2024-11-25T02:54:07.933Z"
   },
   {
    "duration": 406,
    "start_time": "2024-11-25T02:54:07.947Z"
   },
   {
    "duration": 16925,
    "start_time": "2024-11-25T02:54:08.355Z"
   },
   {
    "duration": 49,
    "start_time": "2024-11-25T02:54:25.283Z"
   },
   {
    "duration": 11,
    "start_time": "2024-11-25T02:54:25.334Z"
   },
   {
    "duration": 24,
    "start_time": "2024-11-25T02:54:25.346Z"
   },
   {
    "duration": 4,
    "start_time": "2024-11-25T02:54:25.371Z"
   },
   {
    "duration": 54,
    "start_time": "2024-11-25T02:54:25.377Z"
   },
   {
    "duration": 5,
    "start_time": "2024-11-25T02:54:25.434Z"
   },
   {
    "duration": 23,
    "start_time": "2024-11-25T02:54:25.440Z"
   },
   {
    "duration": 5,
    "start_time": "2024-11-25T02:54:25.464Z"
   },
   {
    "duration": 11,
    "start_time": "2024-11-25T02:54:25.470Z"
   },
   {
    "duration": 25,
    "start_time": "2024-11-25T02:54:25.483Z"
   },
   {
    "duration": 28,
    "start_time": "2024-11-25T02:54:25.509Z"
   },
   {
    "duration": 40,
    "start_time": "2024-11-25T02:54:25.538Z"
   },
   {
    "duration": 545,
    "start_time": "2024-11-25T02:54:25.580Z"
   },
   {
    "duration": 93,
    "start_time": "2024-11-25T02:54:26.127Z"
   },
   {
    "duration": 17,
    "start_time": "2024-11-25T02:54:26.222Z"
   },
   {
    "duration": 37,
    "start_time": "2024-11-25T02:54:26.241Z"
   },
   {
    "duration": 4,
    "start_time": "2024-11-25T02:54:26.279Z"
   },
   {
    "duration": 8116,
    "start_time": "2024-11-25T02:54:26.285Z"
   },
   {
    "duration": 20,
    "start_time": "2024-11-25T02:54:34.402Z"
   },
   {
    "duration": 1407,
    "start_time": "2024-11-25T02:54:34.424Z"
   },
   {
    "duration": 6,
    "start_time": "2024-11-25T02:54:35.833Z"
   },
   {
    "duration": 592,
    "start_time": "2024-11-25T02:54:35.841Z"
   },
   {
    "duration": 7,
    "start_time": "2024-11-25T02:54:36.435Z"
   },
   {
    "duration": 554,
    "start_time": "2024-11-25T02:54:36.443Z"
   },
   {
    "duration": 7,
    "start_time": "2024-11-25T02:54:36.998Z"
   },
   {
    "duration": 54,
    "start_time": "2024-11-25T02:54:37.007Z"
   },
   {
    "duration": 327,
    "start_time": "2024-11-25T02:54:37.063Z"
   },
   {
    "duration": 39,
    "start_time": "2024-11-25T02:54:37.392Z"
   },
   {
    "duration": 315,
    "start_time": "2024-11-25T02:54:37.433Z"
   },
   {
    "duration": 31,
    "start_time": "2024-11-25T02:54:37.749Z"
   },
   {
    "duration": 430,
    "start_time": "2024-11-25T02:54:37.782Z"
   },
   {
    "duration": 25,
    "start_time": "2024-11-25T02:54:38.220Z"
   },
   {
    "duration": 532,
    "start_time": "2024-11-25T02:54:38.249Z"
   },
   {
    "duration": 45,
    "start_time": "2024-11-25T02:54:38.782Z"
   },
   {
    "duration": 338,
    "start_time": "2024-11-25T02:54:38.829Z"
   },
   {
    "duration": 29,
    "start_time": "2024-11-25T02:54:39.168Z"
   },
   {
    "duration": 290,
    "start_time": "2024-11-25T02:54:39.198Z"
   },
   {
    "duration": 87,
    "start_time": "2024-11-25T02:54:39.490Z"
   },
   {
    "duration": 99,
    "start_time": "2024-11-25T02:58:32.930Z"
   },
   {
    "duration": 82,
    "start_time": "2024-11-25T02:58:52.284Z"
   },
   {
    "duration": 93,
    "start_time": "2024-11-25T03:00:23.413Z"
   },
   {
    "duration": 78,
    "start_time": "2024-11-25T03:00:48.242Z"
   },
   {
    "duration": 6850,
    "start_time": "2024-11-25T03:01:46.064Z"
   },
   {
    "duration": 165,
    "start_time": "2024-11-25T03:01:52.916Z"
   },
   {
    "duration": 1509,
    "start_time": "2024-11-25T03:01:53.083Z"
   },
   {
    "duration": 8,
    "start_time": "2024-11-25T03:01:54.595Z"
   },
   {
    "duration": 1120,
    "start_time": "2024-11-25T03:01:54.605Z"
   },
   {
    "duration": 15,
    "start_time": "2024-11-25T03:01:55.730Z"
   },
   {
    "duration": 363,
    "start_time": "2024-11-25T03:01:55.746Z"
   },
   {
    "duration": 17461,
    "start_time": "2024-11-25T03:01:56.111Z"
   },
   {
    "duration": 48,
    "start_time": "2024-11-25T03:02:13.574Z"
   },
   {
    "duration": 22,
    "start_time": "2024-11-25T03:02:13.625Z"
   },
   {
    "duration": 23,
    "start_time": "2024-11-25T03:02:13.649Z"
   },
   {
    "duration": 3,
    "start_time": "2024-11-25T03:02:13.674Z"
   },
   {
    "duration": 15,
    "start_time": "2024-11-25T03:02:13.679Z"
   },
   {
    "duration": 29,
    "start_time": "2024-11-25T03:02:13.696Z"
   },
   {
    "duration": 8,
    "start_time": "2024-11-25T03:02:13.727Z"
   },
   {
    "duration": 11,
    "start_time": "2024-11-25T03:02:13.736Z"
   },
   {
    "duration": 21,
    "start_time": "2024-11-25T03:02:13.748Z"
   },
   {
    "duration": 26,
    "start_time": "2024-11-25T03:02:13.772Z"
   },
   {
    "duration": 30,
    "start_time": "2024-11-25T03:02:13.800Z"
   },
   {
    "duration": 9,
    "start_time": "2024-11-25T03:02:13.832Z"
   },
   {
    "duration": 480,
    "start_time": "2024-11-25T03:02:13.842Z"
   },
   {
    "duration": 3,
    "start_time": "2024-11-25T03:02:14.324Z"
   },
   {
    "duration": 13,
    "start_time": "2024-11-25T03:02:14.328Z"
   },
   {
    "duration": 41,
    "start_time": "2024-11-25T03:02:14.343Z"
   },
   {
    "duration": 4,
    "start_time": "2024-11-25T03:02:14.386Z"
   },
   {
    "duration": 7905,
    "start_time": "2024-11-25T03:02:14.421Z"
   },
   {
    "duration": 6,
    "start_time": "2024-11-25T03:02:22.327Z"
   },
   {
    "duration": 1340,
    "start_time": "2024-11-25T03:02:22.337Z"
   },
   {
    "duration": 6,
    "start_time": "2024-11-25T03:02:23.679Z"
   },
   {
    "duration": 571,
    "start_time": "2024-11-25T03:02:23.686Z"
   },
   {
    "duration": 7,
    "start_time": "2024-11-25T03:02:24.259Z"
   },
   {
    "duration": 565,
    "start_time": "2024-11-25T03:02:24.268Z"
   },
   {
    "duration": 6,
    "start_time": "2024-11-25T03:02:24.835Z"
   },
   {
    "duration": 47,
    "start_time": "2024-11-25T03:02:24.843Z"
   },
   {
    "duration": 399,
    "start_time": "2024-11-25T03:02:24.892Z"
   },
   {
    "duration": 45,
    "start_time": "2024-11-25T03:02:25.292Z"
   },
   {
    "duration": 328,
    "start_time": "2024-11-25T03:02:25.338Z"
   },
   {
    "duration": 28,
    "start_time": "2024-11-25T03:02:25.668Z"
   },
   {
    "duration": 425,
    "start_time": "2024-11-25T03:02:25.698Z"
   },
   {
    "duration": 30,
    "start_time": "2024-11-25T03:02:26.125Z"
   },
   {
    "duration": 523,
    "start_time": "2024-11-25T03:02:26.156Z"
   },
   {
    "duration": 41,
    "start_time": "2024-11-25T03:02:26.681Z"
   },
   {
    "duration": 341,
    "start_time": "2024-11-25T03:02:26.723Z"
   },
   {
    "duration": 30,
    "start_time": "2024-11-25T03:02:27.067Z"
   },
   {
    "duration": 367,
    "start_time": "2024-11-25T03:02:27.099Z"
   },
   {
    "duration": 50,
    "start_time": "2024-11-25T03:04:37.027Z"
   },
   {
    "duration": 6831,
    "start_time": "2024-11-25T03:08:34.370Z"
   },
   {
    "duration": 166,
    "start_time": "2024-11-25T03:08:41.203Z"
   },
   {
    "duration": 1520,
    "start_time": "2024-11-25T03:08:41.371Z"
   },
   {
    "duration": 7,
    "start_time": "2024-11-25T03:08:42.893Z"
   },
   {
    "duration": 1088,
    "start_time": "2024-11-25T03:08:42.902Z"
   },
   {
    "duration": 29,
    "start_time": "2024-11-25T03:08:43.992Z"
   },
   {
    "duration": 366,
    "start_time": "2024-11-25T03:08:44.023Z"
   },
   {
    "duration": 17360,
    "start_time": "2024-11-25T03:08:44.391Z"
   },
   {
    "duration": 21,
    "start_time": "2024-11-25T03:09:01.753Z"
   },
   {
    "duration": 22,
    "start_time": "2024-11-25T03:09:01.775Z"
   },
   {
    "duration": 57,
    "start_time": "2024-11-25T03:09:01.799Z"
   },
   {
    "duration": 3,
    "start_time": "2024-11-25T03:09:01.858Z"
   },
   {
    "duration": 41,
    "start_time": "2024-11-25T03:09:01.863Z"
   },
   {
    "duration": 38,
    "start_time": "2024-11-25T03:09:01.908Z"
   },
   {
    "duration": 52,
    "start_time": "2024-11-25T03:09:01.948Z"
   },
   {
    "duration": 30,
    "start_time": "2024-11-25T03:09:02.002Z"
   },
   {
    "duration": 18,
    "start_time": "2024-11-25T03:09:02.034Z"
   },
   {
    "duration": 26,
    "start_time": "2024-11-25T03:09:02.054Z"
   },
   {
    "duration": 21,
    "start_time": "2024-11-25T03:09:02.081Z"
   },
   {
    "duration": 31,
    "start_time": "2024-11-25T03:09:02.104Z"
   },
   {
    "duration": 589,
    "start_time": "2024-11-25T03:09:02.136Z"
   },
   {
    "duration": 87,
    "start_time": "2024-11-25T03:09:02.734Z"
   },
   {
    "duration": 50,
    "start_time": "2024-11-25T03:09:02.823Z"
   },
   {
    "duration": 50,
    "start_time": "2024-11-25T03:09:02.874Z"
   },
   {
    "duration": 4,
    "start_time": "2024-11-25T03:09:02.925Z"
   },
   {
    "duration": 8118,
    "start_time": "2024-11-25T03:09:02.931Z"
   },
   {
    "duration": 5,
    "start_time": "2024-11-25T03:09:11.051Z"
   },
   {
    "duration": 1364,
    "start_time": "2024-11-25T03:09:11.058Z"
   },
   {
    "duration": 7,
    "start_time": "2024-11-25T03:09:12.424Z"
   },
   {
    "duration": 520,
    "start_time": "2024-11-25T03:09:12.433Z"
   },
   {
    "duration": 8,
    "start_time": "2024-11-25T03:09:12.955Z"
   },
   {
    "duration": 586,
    "start_time": "2024-11-25T03:09:12.965Z"
   },
   {
    "duration": 6,
    "start_time": "2024-11-25T03:09:13.553Z"
   },
   {
    "duration": 135,
    "start_time": "2024-11-25T03:09:13.560Z"
   },
   {
    "duration": 371,
    "start_time": "2024-11-25T03:09:13.696Z"
   },
   {
    "duration": 30,
    "start_time": "2024-11-25T03:09:14.069Z"
   },
   {
    "duration": 321,
    "start_time": "2024-11-25T03:09:14.100Z"
   },
   {
    "duration": 30,
    "start_time": "2024-11-25T03:09:14.422Z"
   },
   {
    "duration": 459,
    "start_time": "2024-11-25T03:09:14.453Z"
   },
   {
    "duration": 29,
    "start_time": "2024-11-25T03:09:14.914Z"
   },
   {
    "duration": 540,
    "start_time": "2024-11-25T03:09:14.947Z"
   },
   {
    "duration": 44,
    "start_time": "2024-11-25T03:09:15.489Z"
   },
   {
    "duration": 336,
    "start_time": "2024-11-25T03:09:15.535Z"
   },
   {
    "duration": 46,
    "start_time": "2024-11-25T03:09:15.874Z"
   },
   {
    "duration": 357,
    "start_time": "2024-11-25T03:09:15.922Z"
   },
   {
    "duration": 58,
    "start_time": "2024-11-25T03:13:22.291Z"
   },
   {
    "duration": 6732,
    "start_time": "2024-11-25T03:14:55.160Z"
   },
   {
    "duration": 165,
    "start_time": "2024-11-25T03:15:01.895Z"
   },
   {
    "duration": 1537,
    "start_time": "2024-11-25T03:15:02.062Z"
   },
   {
    "duration": 7,
    "start_time": "2024-11-25T03:15:03.601Z"
   },
   {
    "duration": 1106,
    "start_time": "2024-11-25T03:15:03.620Z"
   },
   {
    "duration": 13,
    "start_time": "2024-11-25T03:15:04.727Z"
   },
   {
    "duration": 362,
    "start_time": "2024-11-25T03:15:04.741Z"
   },
   {
    "duration": 16810,
    "start_time": "2024-11-25T03:15:05.105Z"
   },
   {
    "duration": 23,
    "start_time": "2024-11-25T03:15:21.916Z"
   },
   {
    "duration": 13,
    "start_time": "2024-11-25T03:15:21.940Z"
   },
   {
    "duration": 67,
    "start_time": "2024-11-25T03:15:21.955Z"
   },
   {
    "duration": 4,
    "start_time": "2024-11-25T03:15:22.024Z"
   },
   {
    "duration": 29,
    "start_time": "2024-11-25T03:15:22.030Z"
   },
   {
    "duration": 10,
    "start_time": "2024-11-25T03:15:22.062Z"
   },
   {
    "duration": 10,
    "start_time": "2024-11-25T03:15:22.074Z"
   },
   {
    "duration": 12,
    "start_time": "2024-11-25T03:15:22.086Z"
   },
   {
    "duration": 5,
    "start_time": "2024-11-25T03:15:22.100Z"
   },
   {
    "duration": 31,
    "start_time": "2024-11-25T03:15:22.107Z"
   },
   {
    "duration": 20,
    "start_time": "2024-11-25T03:15:22.140Z"
   },
   {
    "duration": 9,
    "start_time": "2024-11-25T03:15:22.162Z"
   },
   {
    "duration": 552,
    "start_time": "2024-11-25T03:15:22.173Z"
   },
   {
    "duration": 94,
    "start_time": "2024-11-25T03:15:22.727Z"
   },
   {
    "duration": 23,
    "start_time": "2024-11-25T03:15:22.822Z"
   },
   {
    "duration": 34,
    "start_time": "2024-11-25T03:15:22.846Z"
   },
   {
    "duration": 4,
    "start_time": "2024-11-25T03:15:22.881Z"
   },
   {
    "duration": 7908,
    "start_time": "2024-11-25T03:15:22.887Z"
   },
   {
    "duration": 5,
    "start_time": "2024-11-25T03:15:30.797Z"
   },
   {
    "duration": 1375,
    "start_time": "2024-11-25T03:15:30.804Z"
   },
   {
    "duration": 6,
    "start_time": "2024-11-25T03:15:32.181Z"
   },
   {
    "duration": 544,
    "start_time": "2024-11-25T03:15:32.189Z"
   },
   {
    "duration": 7,
    "start_time": "2024-11-25T03:15:32.734Z"
   },
   {
    "duration": 546,
    "start_time": "2024-11-25T03:15:32.743Z"
   },
   {
    "duration": 6,
    "start_time": "2024-11-25T03:15:33.291Z"
   },
   {
    "duration": 44,
    "start_time": "2024-11-25T03:15:33.298Z"
   },
   {
    "duration": 338,
    "start_time": "2024-11-25T03:15:33.343Z"
   },
   {
    "duration": 42,
    "start_time": "2024-11-25T03:15:33.683Z"
   },
   {
    "duration": 329,
    "start_time": "2024-11-25T03:15:33.727Z"
   },
   {
    "duration": 28,
    "start_time": "2024-11-25T03:15:34.058Z"
   },
   {
    "duration": 442,
    "start_time": "2024-11-25T03:15:34.087Z"
   },
   {
    "duration": 35,
    "start_time": "2024-11-25T03:15:34.531Z"
   },
   {
    "duration": 529,
    "start_time": "2024-11-25T03:15:34.571Z"
   },
   {
    "duration": 43,
    "start_time": "2024-11-25T03:15:35.102Z"
   },
   {
    "duration": 317,
    "start_time": "2024-11-25T03:15:35.146Z"
   },
   {
    "duration": 29,
    "start_time": "2024-11-25T03:15:35.465Z"
   },
   {
    "duration": 368,
    "start_time": "2024-11-25T03:15:35.495Z"
   },
   {
    "duration": 21733,
    "start_time": "2024-11-25T03:15:35.865Z"
   },
   {
    "duration": 21746,
    "start_time": "2024-11-25T03:19:04.779Z"
   },
   {
    "duration": 2028,
    "start_time": "2024-11-25T03:21:01.127Z"
   },
   {
    "duration": 2152,
    "start_time": "2024-11-25T03:24:34.658Z"
   },
   {
    "duration": 2060,
    "start_time": "2024-11-25T03:24:45.877Z"
   },
   {
    "duration": 2142,
    "start_time": "2024-11-25T03:26:09.394Z"
   },
   {
    "duration": 14695,
    "start_time": "2024-11-25T03:27:53.806Z"
   },
   {
    "duration": 6707,
    "start_time": "2024-11-25T03:28:13.460Z"
   },
   {
    "duration": 43,
    "start_time": "2024-11-25T03:28:20.170Z"
   },
   {
    "duration": 1497,
    "start_time": "2024-11-25T03:28:20.215Z"
   },
   {
    "duration": 12,
    "start_time": "2024-11-25T03:28:21.713Z"
   },
   {
    "duration": 1066,
    "start_time": "2024-11-25T03:28:21.727Z"
   },
   {
    "duration": 11,
    "start_time": "2024-11-25T03:28:22.795Z"
   },
   {
    "duration": 348,
    "start_time": "2024-11-25T03:28:22.821Z"
   },
   {
    "duration": 16875,
    "start_time": "2024-11-25T03:28:23.170Z"
   },
   {
    "duration": 21,
    "start_time": "2024-11-25T03:28:40.047Z"
   },
   {
    "duration": 52,
    "start_time": "2024-11-25T03:28:40.069Z"
   },
   {
    "duration": 24,
    "start_time": "2024-11-25T03:28:40.123Z"
   },
   {
    "duration": 4,
    "start_time": "2024-11-25T03:28:40.149Z"
   },
   {
    "duration": 13,
    "start_time": "2024-11-25T03:28:40.155Z"
   },
   {
    "duration": 25,
    "start_time": "2024-11-25T03:28:40.173Z"
   },
   {
    "duration": 20,
    "start_time": "2024-11-25T03:28:40.200Z"
   },
   {
    "duration": 6,
    "start_time": "2024-11-25T03:28:40.222Z"
   },
   {
    "duration": 27,
    "start_time": "2024-11-25T03:28:40.229Z"
   },
   {
    "duration": 29,
    "start_time": "2024-11-25T03:28:40.258Z"
   },
   {
    "duration": 22,
    "start_time": "2024-11-25T03:28:40.290Z"
   },
   {
    "duration": 9,
    "start_time": "2024-11-25T03:28:40.321Z"
   },
   {
    "duration": 495,
    "start_time": "2024-11-25T03:28:40.332Z"
   },
   {
    "duration": 92,
    "start_time": "2024-11-25T03:28:40.829Z"
   },
   {
    "duration": 16,
    "start_time": "2024-11-25T03:28:40.923Z"
   },
   {
    "duration": 36,
    "start_time": "2024-11-25T03:28:40.941Z"
   },
   {
    "duration": 4,
    "start_time": "2024-11-25T03:28:40.979Z"
   },
   {
    "duration": 7937,
    "start_time": "2024-11-25T03:28:40.985Z"
   },
   {
    "duration": 6,
    "start_time": "2024-11-25T03:28:48.923Z"
   },
   {
    "duration": 1347,
    "start_time": "2024-11-25T03:28:48.931Z"
   },
   {
    "duration": 7,
    "start_time": "2024-11-25T03:28:50.280Z"
   },
   {
    "duration": 557,
    "start_time": "2024-11-25T03:28:50.288Z"
   },
   {
    "duration": 7,
    "start_time": "2024-11-25T03:28:50.847Z"
   },
   {
    "duration": 532,
    "start_time": "2024-11-25T03:28:50.856Z"
   },
   {
    "duration": 6,
    "start_time": "2024-11-25T03:28:51.390Z"
   },
   {
    "duration": 43,
    "start_time": "2024-11-25T03:28:51.398Z"
   },
   {
    "duration": 356,
    "start_time": "2024-11-25T03:28:51.443Z"
   },
   {
    "duration": 44,
    "start_time": "2024-11-25T03:28:51.802Z"
   },
   {
    "duration": 320,
    "start_time": "2024-11-25T03:28:51.848Z"
   },
   {
    "duration": 29,
    "start_time": "2024-11-25T03:28:52.170Z"
   },
   {
    "duration": 496,
    "start_time": "2024-11-25T03:28:52.201Z"
   },
   {
    "duration": 37,
    "start_time": "2024-11-25T03:28:52.699Z"
   },
   {
    "duration": 453,
    "start_time": "2024-11-25T03:28:52.740Z"
   },
   {
    "duration": 40,
    "start_time": "2024-11-25T03:28:53.194Z"
   },
   {
    "duration": 330,
    "start_time": "2024-11-25T03:28:53.236Z"
   },
   {
    "duration": 30,
    "start_time": "2024-11-25T03:28:53.567Z"
   },
   {
    "duration": 367,
    "start_time": "2024-11-25T03:28:53.598Z"
   },
   {
    "duration": 2085,
    "start_time": "2024-11-25T03:28:53.967Z"
   },
   {
    "duration": 3907,
    "start_time": "2024-11-25T03:30:05.706Z"
   },
   {
    "duration": 6947,
    "start_time": "2024-11-25T03:30:29.611Z"
   },
   {
    "duration": 43,
    "start_time": "2024-11-25T03:30:36.560Z"
   },
   {
    "duration": 1488,
    "start_time": "2024-11-25T03:30:36.605Z"
   },
   {
    "duration": 8,
    "start_time": "2024-11-25T03:30:38.096Z"
   },
   {
    "duration": 1118,
    "start_time": "2024-11-25T03:30:38.106Z"
   },
   {
    "duration": 12,
    "start_time": "2024-11-25T03:30:39.226Z"
   },
   {
    "duration": 360,
    "start_time": "2024-11-25T03:30:39.239Z"
   },
   {
    "duration": 954,
    "start_time": "2024-11-25T03:31:14.076Z"
   },
   {
    "duration": 309,
    "start_time": "2024-11-25T03:31:28.814Z"
   },
   {
    "duration": 17296,
    "start_time": "2024-11-25T03:31:34.531Z"
   },
   {
    "duration": 1381,
    "start_time": "2024-11-25T03:32:21.363Z"
   },
   {
    "duration": 6772,
    "start_time": "2024-11-25T03:32:47.961Z"
   },
   {
    "duration": 43,
    "start_time": "2024-11-25T03:32:54.736Z"
   },
   {
    "duration": 1388,
    "start_time": "2024-11-25T03:32:54.780Z"
   },
   {
    "duration": 6658,
    "start_time": "2024-11-25T03:33:25.979Z"
   },
   {
    "duration": 44,
    "start_time": "2024-11-25T03:33:32.639Z"
   },
   {
    "duration": 1477,
    "start_time": "2024-11-25T03:33:32.685Z"
   },
   {
    "duration": 7,
    "start_time": "2024-11-25T03:33:34.164Z"
   },
   {
    "duration": 966,
    "start_time": "2024-11-25T03:33:34.173Z"
   },
   {
    "duration": 12,
    "start_time": "2024-11-25T03:33:35.141Z"
   },
   {
    "duration": 329,
    "start_time": "2024-11-25T03:33:35.155Z"
   },
   {
    "duration": 16907,
    "start_time": "2024-11-25T03:33:35.486Z"
   },
   {
    "duration": 39,
    "start_time": "2024-11-25T03:33:52.395Z"
   },
   {
    "duration": 10,
    "start_time": "2024-11-25T03:33:52.435Z"
   },
   {
    "duration": 67,
    "start_time": "2024-11-25T03:33:52.447Z"
   },
   {
    "duration": 5,
    "start_time": "2024-11-25T03:33:52.515Z"
   },
   {
    "duration": 30,
    "start_time": "2024-11-25T03:33:52.521Z"
   },
   {
    "duration": 6,
    "start_time": "2024-11-25T03:33:52.554Z"
   },
   {
    "duration": 27,
    "start_time": "2024-11-25T03:33:52.561Z"
   },
   {
    "duration": 61,
    "start_time": "2024-11-25T03:33:52.589Z"
   },
   {
    "duration": 12,
    "start_time": "2024-11-25T03:33:52.651Z"
   },
   {
    "duration": 27,
    "start_time": "2024-11-25T03:33:52.665Z"
   },
   {
    "duration": 19,
    "start_time": "2024-11-25T03:33:52.693Z"
   },
   {
    "duration": 7,
    "start_time": "2024-11-25T03:33:52.714Z"
   },
   {
    "duration": 599,
    "start_time": "2024-11-25T03:33:52.723Z"
   },
   {
    "duration": 3,
    "start_time": "2024-11-25T03:33:53.323Z"
   },
   {
    "duration": 32,
    "start_time": "2024-11-25T03:33:53.327Z"
   },
   {
    "duration": 35,
    "start_time": "2024-11-25T03:33:53.361Z"
   },
   {
    "duration": 4,
    "start_time": "2024-11-25T03:33:53.398Z"
   },
   {
    "duration": 8073,
    "start_time": "2024-11-25T03:33:53.404Z"
   },
   {
    "duration": 5,
    "start_time": "2024-11-25T03:34:01.480Z"
   },
   {
    "duration": 1404,
    "start_time": "2024-11-25T03:34:01.487Z"
   },
   {
    "duration": 8,
    "start_time": "2024-11-25T03:34:02.893Z"
   },
   {
    "duration": 533,
    "start_time": "2024-11-25T03:34:02.902Z"
   },
   {
    "duration": 7,
    "start_time": "2024-11-25T03:34:03.437Z"
   },
   {
    "duration": 535,
    "start_time": "2024-11-25T03:34:03.446Z"
   },
   {
    "duration": 7,
    "start_time": "2024-11-25T03:34:03.983Z"
   },
   {
    "duration": 59,
    "start_time": "2024-11-25T03:34:03.992Z"
   },
   {
    "duration": 331,
    "start_time": "2024-11-25T03:34:04.053Z"
   },
   {
    "duration": 50,
    "start_time": "2024-11-25T03:34:04.387Z"
   },
   {
    "duration": 314,
    "start_time": "2024-11-25T03:34:04.439Z"
   },
   {
    "duration": 29,
    "start_time": "2024-11-25T03:34:04.754Z"
   },
   {
    "duration": 448,
    "start_time": "2024-11-25T03:34:04.785Z"
   },
   {
    "duration": 27,
    "start_time": "2024-11-25T03:34:05.235Z"
   },
   {
    "duration": 567,
    "start_time": "2024-11-25T03:34:05.266Z"
   },
   {
    "duration": 29,
    "start_time": "2024-11-25T03:34:05.835Z"
   },
   {
    "duration": 404,
    "start_time": "2024-11-25T03:34:05.865Z"
   },
   {
    "duration": 31,
    "start_time": "2024-11-25T03:34:06.271Z"
   },
   {
    "duration": 357,
    "start_time": "2024-11-25T03:34:06.304Z"
   },
   {
    "duration": 2070,
    "start_time": "2024-11-25T03:34:06.663Z"
   },
   {
    "duration": 55,
    "start_time": "2024-11-25T23:03:49.380Z"
   },
   {
    "duration": 8389,
    "start_time": "2024-11-25T23:03:59.976Z"
   },
   {
    "duration": 106,
    "start_time": "2024-11-25T23:04:08.367Z"
   },
   {
    "duration": 1516,
    "start_time": "2024-11-25T23:04:08.475Z"
   },
   {
    "duration": 6,
    "start_time": "2024-11-25T23:04:09.992Z"
   },
   {
    "duration": 884,
    "start_time": "2024-11-25T23:04:10.000Z"
   },
   {
    "duration": 75,
    "start_time": "2024-11-25T23:04:10.886Z"
   },
   {
    "duration": 289,
    "start_time": "2024-11-25T23:04:10.963Z"
   },
   {
    "duration": 16459,
    "start_time": "2024-11-25T23:04:11.254Z"
   },
   {
    "duration": 39,
    "start_time": "2024-11-25T23:04:27.714Z"
   },
   {
    "duration": 10,
    "start_time": "2024-11-25T23:04:27.755Z"
   },
   {
    "duration": 25,
    "start_time": "2024-11-25T23:04:27.766Z"
   },
   {
    "duration": 4,
    "start_time": "2024-11-25T23:04:27.792Z"
   },
   {
    "duration": 16,
    "start_time": "2024-11-25T23:04:27.797Z"
   },
   {
    "duration": 5,
    "start_time": "2024-11-25T23:04:27.816Z"
   },
   {
    "duration": 31,
    "start_time": "2024-11-25T23:04:27.823Z"
   },
   {
    "duration": 11,
    "start_time": "2024-11-25T23:04:27.856Z"
   },
   {
    "duration": 8,
    "start_time": "2024-11-25T23:04:27.869Z"
   },
   {
    "duration": 25,
    "start_time": "2024-11-25T23:04:27.878Z"
   },
   {
    "duration": 19,
    "start_time": "2024-11-25T23:04:27.904Z"
   },
   {
    "duration": 34,
    "start_time": "2024-11-25T23:04:27.925Z"
   },
   {
    "duration": 492,
    "start_time": "2024-11-25T23:04:27.961Z"
   },
   {
    "duration": 3,
    "start_time": "2024-11-25T23:04:28.456Z"
   },
   {
    "duration": 105,
    "start_time": "2024-11-25T23:04:28.461Z"
   },
   {
    "duration": 35,
    "start_time": "2024-11-25T23:04:28.568Z"
   },
   {
    "duration": 5,
    "start_time": "2024-11-25T23:04:28.604Z"
   },
   {
    "duration": 7958,
    "start_time": "2024-11-25T23:04:28.610Z"
   },
   {
    "duration": 6,
    "start_time": "2024-11-25T23:04:36.570Z"
   },
   {
    "duration": 1327,
    "start_time": "2024-11-25T23:04:36.577Z"
   },
   {
    "duration": 6,
    "start_time": "2024-11-25T23:04:37.906Z"
   },
   {
    "duration": 549,
    "start_time": "2024-11-25T23:04:37.914Z"
   },
   {
    "duration": 7,
    "start_time": "2024-11-25T23:04:38.464Z"
   },
   {
    "duration": 514,
    "start_time": "2024-11-25T23:04:38.473Z"
   },
   {
    "duration": 6,
    "start_time": "2024-11-25T23:04:38.989Z"
   },
   {
    "duration": 30,
    "start_time": "2024-11-25T23:04:38.996Z"
   },
   {
    "duration": 364,
    "start_time": "2024-11-25T23:04:39.028Z"
   },
   {
    "duration": 28,
    "start_time": "2024-11-25T23:04:39.394Z"
   },
   {
    "duration": 279,
    "start_time": "2024-11-25T23:04:39.423Z"
   },
   {
    "duration": 28,
    "start_time": "2024-11-25T23:04:39.704Z"
   },
   {
    "duration": 420,
    "start_time": "2024-11-25T23:04:39.734Z"
   },
   {
    "duration": 26,
    "start_time": "2024-11-25T23:04:40.156Z"
   },
   {
    "duration": 450,
    "start_time": "2024-11-25T23:04:40.185Z"
   },
   {
    "duration": 39,
    "start_time": "2024-11-25T23:04:40.636Z"
   },
   {
    "duration": 313,
    "start_time": "2024-11-25T23:04:40.677Z"
   },
   {
    "duration": 28,
    "start_time": "2024-11-25T23:04:40.992Z"
   },
   {
    "duration": 330,
    "start_time": "2024-11-25T23:04:41.022Z"
   },
   {
    "duration": 2022,
    "start_time": "2024-11-25T23:04:41.354Z"
   },
   {
    "duration": 135,
    "start_time": "2024-11-25T23:04:43.378Z"
   },
   {
    "duration": 15,
    "start_time": "2024-11-25T23:06:29.547Z"
   },
   {
    "duration": 8,
    "start_time": "2024-11-25T23:33:43.820Z"
   },
   {
    "duration": 6654,
    "start_time": "2024-11-26T02:52:53.500Z"
   },
   {
    "duration": 48,
    "start_time": "2024-11-26T02:53:00.156Z"
   },
   {
    "duration": 1460,
    "start_time": "2024-11-26T02:53:00.205Z"
   },
   {
    "duration": 6,
    "start_time": "2024-11-26T02:53:01.667Z"
   },
   {
    "duration": 997,
    "start_time": "2024-11-26T02:53:01.675Z"
   },
   {
    "duration": 11,
    "start_time": "2024-11-26T02:53:02.674Z"
   },
   {
    "duration": 287,
    "start_time": "2024-11-26T02:53:02.687Z"
   },
   {
    "duration": 16411,
    "start_time": "2024-11-26T02:53:02.976Z"
   },
   {
    "duration": 18,
    "start_time": "2024-11-26T02:53:19.389Z"
   },
   {
    "duration": 43,
    "start_time": "2024-11-26T02:53:19.409Z"
   },
   {
    "duration": 25,
    "start_time": "2024-11-26T02:53:19.454Z"
   },
   {
    "duration": 4,
    "start_time": "2024-11-26T02:53:19.481Z"
   },
   {
    "duration": 15,
    "start_time": "2024-11-26T02:53:19.487Z"
   },
   {
    "duration": 4,
    "start_time": "2024-11-26T02:53:19.504Z"
   },
   {
    "duration": 21,
    "start_time": "2024-11-26T02:53:19.509Z"
   },
   {
    "duration": 22,
    "start_time": "2024-11-26T02:53:19.531Z"
   },
   {
    "duration": 17,
    "start_time": "2024-11-26T02:53:19.555Z"
   },
   {
    "duration": 33,
    "start_time": "2024-11-26T02:53:19.574Z"
   },
   {
    "duration": 20,
    "start_time": "2024-11-26T02:53:19.608Z"
   },
   {
    "duration": 8,
    "start_time": "2024-11-26T02:53:19.629Z"
   },
   {
    "duration": 300,
    "start_time": "2024-11-26T02:53:19.653Z"
   },
   {
    "duration": 7,
    "start_time": "2024-11-26T02:53:19.955Z"
   },
   {
    "duration": 11,
    "start_time": "2024-11-26T02:53:20.053Z"
   },
   {
    "duration": 36,
    "start_time": "2024-11-26T02:53:20.066Z"
   },
   {
    "duration": 4,
    "start_time": "2024-11-26T02:53:20.104Z"
   },
   {
    "duration": 7719,
    "start_time": "2024-11-26T02:53:20.110Z"
   },
   {
    "duration": 6,
    "start_time": "2024-11-26T02:53:27.830Z"
   },
   {
    "duration": 1248,
    "start_time": "2024-11-26T02:53:27.852Z"
   },
   {
    "duration": 6,
    "start_time": "2024-11-26T02:53:29.101Z"
   },
   {
    "duration": 529,
    "start_time": "2024-11-26T02:53:29.108Z"
   },
   {
    "duration": 14,
    "start_time": "2024-11-26T02:53:29.639Z"
   },
   {
    "duration": 536,
    "start_time": "2024-11-26T02:53:29.654Z"
   },
   {
    "duration": 7,
    "start_time": "2024-11-26T02:53:30.191Z"
   },
   {
    "duration": 55,
    "start_time": "2024-11-26T02:53:30.199Z"
   },
   {
    "duration": 375,
    "start_time": "2024-11-26T02:53:30.256Z"
   },
   {
    "duration": 42,
    "start_time": "2024-11-26T02:53:30.632Z"
   },
   {
    "duration": 309,
    "start_time": "2024-11-26T02:53:30.676Z"
   },
   {
    "duration": 27,
    "start_time": "2024-11-26T02:53:30.986Z"
   },
   {
    "duration": 429,
    "start_time": "2024-11-26T02:53:31.014Z"
   },
   {
    "duration": 32,
    "start_time": "2024-11-26T02:53:31.445Z"
   },
   {
    "duration": 526,
    "start_time": "2024-11-26T02:53:31.479Z"
   },
   {
    "duration": 30,
    "start_time": "2024-11-26T02:53:32.006Z"
   },
   {
    "duration": 347,
    "start_time": "2024-11-26T02:53:32.038Z"
   },
   {
    "duration": 30,
    "start_time": "2024-11-26T02:53:32.387Z"
   },
   {
    "duration": 298,
    "start_time": "2024-11-26T02:53:32.419Z"
   },
   {
    "duration": 2097,
    "start_time": "2024-11-26T02:53:32.719Z"
   },
   {
    "duration": 16,
    "start_time": "2024-11-26T02:53:34.818Z"
   },
   {
    "duration": 20,
    "start_time": "2024-11-26T02:53:34.836Z"
   },
   {
    "duration": 7,
    "start_time": "2024-11-26T03:00:13.760Z"
   },
   {
    "duration": 6,
    "start_time": "2024-11-26T03:00:30.834Z"
   },
   {
    "duration": 6,
    "start_time": "2024-11-26T03:03:31.994Z"
   },
   {
    "duration": 7,
    "start_time": "2024-11-26T03:03:42.896Z"
   },
   {
    "duration": 12,
    "start_time": "2024-11-26T03:14:28.817Z"
   },
   {
    "duration": 12,
    "start_time": "2024-11-26T03:14:51.775Z"
   },
   {
    "duration": 12,
    "start_time": "2024-11-26T03:17:16.756Z"
   },
   {
    "duration": 28,
    "start_time": "2024-11-26T04:10:23.863Z"
   },
   {
    "duration": 15,
    "start_time": "2024-11-26T04:12:42.887Z"
   },
   {
    "duration": 62,
    "start_time": "2024-11-26T22:43:58.727Z"
   },
   {
    "duration": 8781,
    "start_time": "2024-11-26T22:44:03.725Z"
   },
   {
    "duration": 105,
    "start_time": "2024-11-26T22:44:12.509Z"
   },
   {
    "duration": 1572,
    "start_time": "2024-11-26T22:44:12.616Z"
   },
   {
    "duration": 7,
    "start_time": "2024-11-26T22:44:14.189Z"
   },
   {
    "duration": 1096,
    "start_time": "2024-11-26T22:44:14.198Z"
   },
   {
    "duration": 13,
    "start_time": "2024-11-26T22:44:15.295Z"
   },
   {
    "duration": 360,
    "start_time": "2024-11-26T22:44:15.309Z"
   },
   {
    "duration": 17864,
    "start_time": "2024-11-26T22:44:15.671Z"
   },
   {
    "duration": 44,
    "start_time": "2024-11-26T22:44:33.537Z"
   },
   {
    "duration": 16,
    "start_time": "2024-11-26T22:44:33.583Z"
   },
   {
    "duration": 68,
    "start_time": "2024-11-26T22:44:33.601Z"
   },
   {
    "duration": 5,
    "start_time": "2024-11-26T22:44:33.672Z"
   },
   {
    "duration": 15,
    "start_time": "2024-11-26T22:44:33.679Z"
   },
   {
    "duration": 27,
    "start_time": "2024-11-26T22:44:33.699Z"
   },
   {
    "duration": 21,
    "start_time": "2024-11-26T22:44:33.728Z"
   },
   {
    "duration": 18,
    "start_time": "2024-11-26T22:44:33.750Z"
   },
   {
    "duration": 7,
    "start_time": "2024-11-26T22:44:33.771Z"
   },
   {
    "duration": 28,
    "start_time": "2024-11-26T22:44:33.779Z"
   },
   {
    "duration": 22,
    "start_time": "2024-11-26T22:44:33.809Z"
   },
   {
    "duration": 13,
    "start_time": "2024-11-26T22:44:33.865Z"
   },
   {
    "duration": 779,
    "start_time": "2024-11-26T22:44:33.880Z"
   },
   {
    "duration": 11,
    "start_time": "2024-11-26T22:44:34.661Z"
   },
   {
    "duration": 156,
    "start_time": "2024-11-26T22:44:34.674Z"
   },
   {
    "duration": 41,
    "start_time": "2024-11-26T22:44:34.832Z"
   },
   {
    "duration": 5,
    "start_time": "2024-11-26T22:44:34.874Z"
   },
   {
    "duration": 8338,
    "start_time": "2024-11-26T22:44:34.880Z"
   },
   {
    "duration": 5,
    "start_time": "2024-11-26T22:44:43.220Z"
   },
   {
    "duration": 1414,
    "start_time": "2024-11-26T22:44:43.227Z"
   },
   {
    "duration": 25,
    "start_time": "2024-11-26T22:44:44.643Z"
   },
   {
    "duration": 535,
    "start_time": "2024-11-26T22:44:44.670Z"
   },
   {
    "duration": 6,
    "start_time": "2024-11-26T22:44:45.207Z"
   },
   {
    "duration": 600,
    "start_time": "2024-11-26T22:44:45.215Z"
   },
   {
    "duration": 7,
    "start_time": "2024-11-26T22:44:45.817Z"
   },
   {
    "duration": 48,
    "start_time": "2024-11-26T22:44:45.825Z"
   },
   {
    "duration": 461,
    "start_time": "2024-11-26T22:44:45.876Z"
   },
   {
    "duration": 43,
    "start_time": "2024-11-26T22:44:46.339Z"
   },
   {
    "duration": 332,
    "start_time": "2024-11-26T22:44:46.384Z"
   },
   {
    "duration": 47,
    "start_time": "2024-11-26T22:44:46.718Z"
   },
   {
    "duration": 510,
    "start_time": "2024-11-26T22:44:46.769Z"
   },
   {
    "duration": 28,
    "start_time": "2024-11-26T22:44:47.280Z"
   },
   {
    "duration": 536,
    "start_time": "2024-11-26T22:44:47.312Z"
   },
   {
    "duration": 32,
    "start_time": "2024-11-26T22:44:47.860Z"
   },
   {
    "duration": 348,
    "start_time": "2024-11-26T22:44:47.894Z"
   },
   {
    "duration": 35,
    "start_time": "2024-11-26T22:44:48.256Z"
   },
   {
    "duration": 330,
    "start_time": "2024-11-26T22:44:48.292Z"
   },
   {
    "duration": 2269,
    "start_time": "2024-11-26T22:44:48.624Z"
   },
   {
    "duration": 16,
    "start_time": "2024-11-26T22:44:50.895Z"
   },
   {
    "duration": 16,
    "start_time": "2024-11-26T22:44:50.914Z"
   },
   {
    "duration": 35,
    "start_time": "2024-11-26T22:44:50.932Z"
   },
   {
    "duration": 29,
    "start_time": "2024-11-26T22:44:50.969Z"
   },
   {
    "duration": 193,
    "start_time": "2024-11-26T22:44:51.000Z"
   },
   {
    "duration": 21,
    "start_time": "2024-11-26T22:46:17.165Z"
   },
   {
    "duration": 6,
    "start_time": "2024-11-26T22:48:47.586Z"
   },
   {
    "duration": 18,
    "start_time": "2024-11-26T22:48:55.188Z"
   },
   {
    "duration": 17,
    "start_time": "2024-11-26T22:50:03.282Z"
   },
   {
    "duration": 15,
    "start_time": "2024-11-26T22:51:33.478Z"
   },
   {
    "duration": 18,
    "start_time": "2024-11-26T22:57:41.062Z"
   },
   {
    "duration": 14,
    "start_time": "2024-11-26T22:58:00.602Z"
   },
   {
    "duration": 14,
    "start_time": "2024-11-26T22:59:43.773Z"
   },
   {
    "duration": 16,
    "start_time": "2024-11-26T23:02:59.095Z"
   },
   {
    "duration": 17,
    "start_time": "2024-11-26T23:08:12.588Z"
   },
   {
    "duration": 19,
    "start_time": "2024-11-26T23:13:49.116Z"
   },
   {
    "duration": 8,
    "start_time": "2024-11-26T23:14:13.865Z"
   },
   {
    "duration": 16,
    "start_time": "2024-11-26T23:14:16.584Z"
   },
   {
    "duration": 17,
    "start_time": "2024-11-26T23:14:31.694Z"
   },
   {
    "duration": 6,
    "start_time": "2024-11-26T23:14:45.030Z"
   },
   {
    "duration": 16,
    "start_time": "2024-11-26T23:14:55.167Z"
   },
   {
    "duration": 17,
    "start_time": "2024-11-26T23:15:15.473Z"
   },
   {
    "duration": 9,
    "start_time": "2024-11-26T23:32:07.202Z"
   },
   {
    "duration": 17,
    "start_time": "2024-11-26T23:32:34.407Z"
   },
   {
    "duration": 17,
    "start_time": "2024-11-26T23:49:07.805Z"
   },
   {
    "duration": 20,
    "start_time": "2024-11-26T23:49:54.364Z"
   },
   {
    "duration": 19,
    "start_time": "2024-11-26T23:50:24.779Z"
   },
   {
    "duration": 16,
    "start_time": "2024-11-26T23:50:37.520Z"
   },
   {
    "duration": 18,
    "start_time": "2024-11-26T23:50:47.664Z"
   },
   {
    "duration": 16,
    "start_time": "2024-11-27T00:04:10.107Z"
   },
   {
    "duration": 15,
    "start_time": "2024-11-27T00:08:51.901Z"
   },
   {
    "duration": 6869,
    "start_time": "2024-11-27T02:22:11.843Z"
   },
   {
    "duration": 58,
    "start_time": "2024-11-27T02:22:18.715Z"
   },
   {
    "duration": 1562,
    "start_time": "2024-11-27T02:22:18.775Z"
   },
   {
    "duration": 8,
    "start_time": "2024-11-27T02:22:20.339Z"
   },
   {
    "duration": 1018,
    "start_time": "2024-11-27T02:22:20.360Z"
   },
   {
    "duration": 12,
    "start_time": "2024-11-27T02:22:21.379Z"
   },
   {
    "duration": 342,
    "start_time": "2024-11-27T02:22:21.393Z"
   },
   {
    "duration": 17181,
    "start_time": "2024-11-27T02:22:21.736Z"
   },
   {
    "duration": 51,
    "start_time": "2024-11-27T02:22:38.918Z"
   },
   {
    "duration": 11,
    "start_time": "2024-11-27T02:22:38.971Z"
   },
   {
    "duration": 23,
    "start_time": "2024-11-27T02:22:38.983Z"
   },
   {
    "duration": 4,
    "start_time": "2024-11-27T02:22:39.008Z"
   },
   {
    "duration": 24,
    "start_time": "2024-11-27T02:22:39.013Z"
   },
   {
    "duration": 29,
    "start_time": "2024-11-27T02:22:39.039Z"
   },
   {
    "duration": 8,
    "start_time": "2024-11-27T02:22:39.070Z"
   },
   {
    "duration": 6,
    "start_time": "2024-11-27T02:22:39.079Z"
   },
   {
    "duration": 8,
    "start_time": "2024-11-27T02:22:39.086Z"
   },
   {
    "duration": 25,
    "start_time": "2024-11-27T02:22:39.096Z"
   },
   {
    "duration": 46,
    "start_time": "2024-11-27T02:22:39.123Z"
   },
   {
    "duration": 9,
    "start_time": "2024-11-27T02:22:39.171Z"
   },
   {
    "duration": 786,
    "start_time": "2024-11-27T02:22:39.181Z"
   },
   {
    "duration": 4,
    "start_time": "2024-11-27T02:22:39.969Z"
   },
   {
    "duration": 104,
    "start_time": "2024-11-27T02:22:39.975Z"
   },
   {
    "duration": 34,
    "start_time": "2024-11-27T02:22:40.081Z"
   },
   {
    "duration": 4,
    "start_time": "2024-11-27T02:22:40.116Z"
   },
   {
    "duration": 8057,
    "start_time": "2024-11-27T02:22:40.122Z"
   },
   {
    "duration": 6,
    "start_time": "2024-11-27T02:22:48.181Z"
   },
   {
    "duration": 1345,
    "start_time": "2024-11-27T02:22:48.191Z"
   },
   {
    "duration": 20,
    "start_time": "2024-11-27T02:22:49.538Z"
   },
   {
    "duration": 541,
    "start_time": "2024-11-27T02:22:49.560Z"
   },
   {
    "duration": 8,
    "start_time": "2024-11-27T02:22:50.103Z"
   },
   {
    "duration": 586,
    "start_time": "2024-11-27T02:22:50.112Z"
   },
   {
    "duration": 6,
    "start_time": "2024-11-27T02:22:50.699Z"
   },
   {
    "duration": 52,
    "start_time": "2024-11-27T02:22:50.706Z"
   },
   {
    "duration": 360,
    "start_time": "2024-11-27T02:22:50.761Z"
   },
   {
    "duration": 46,
    "start_time": "2024-11-27T02:22:51.123Z"
   },
   {
    "duration": 325,
    "start_time": "2024-11-27T02:22:51.171Z"
   },
   {
    "duration": 28,
    "start_time": "2024-11-27T02:22:51.498Z"
   },
   {
    "duration": 418,
    "start_time": "2024-11-27T02:22:51.528Z"
   },
   {
    "duration": 36,
    "start_time": "2024-11-27T02:22:51.947Z"
   },
   {
    "duration": 440,
    "start_time": "2024-11-27T02:22:51.985Z"
   },
   {
    "duration": 45,
    "start_time": "2024-11-27T02:22:52.427Z"
   },
   {
    "duration": 336,
    "start_time": "2024-11-27T02:22:52.474Z"
   },
   {
    "duration": 28,
    "start_time": "2024-11-27T02:22:52.812Z"
   },
   {
    "duration": 374,
    "start_time": "2024-11-27T02:22:52.842Z"
   },
   {
    "duration": 2063,
    "start_time": "2024-11-27T02:22:53.218Z"
   },
   {
    "duration": 14,
    "start_time": "2024-11-27T02:22:55.283Z"
   },
   {
    "duration": 9,
    "start_time": "2024-11-27T02:22:55.298Z"
   },
   {
    "duration": 11,
    "start_time": "2024-11-27T02:22:55.309Z"
   },
   {
    "duration": 46,
    "start_time": "2024-11-27T02:22:55.322Z"
   },
   {
    "duration": 9,
    "start_time": "2024-11-27T02:22:55.370Z"
   },
   {
    "duration": 17,
    "start_time": "2024-11-27T02:22:55.381Z"
   },
   {
    "duration": 14,
    "start_time": "2024-11-27T02:22:55.400Z"
   },
   {
    "duration": 155,
    "start_time": "2024-11-27T02:22:55.416Z"
   },
   {
    "duration": 6633,
    "start_time": "2024-11-27T02:25:51.918Z"
   },
   {
    "duration": 46,
    "start_time": "2024-11-27T02:25:58.565Z"
   },
   {
    "duration": 1477,
    "start_time": "2024-11-27T02:25:58.613Z"
   },
   {
    "duration": 7,
    "start_time": "2024-11-27T02:26:00.091Z"
   },
   {
    "duration": 974,
    "start_time": "2024-11-27T02:26:00.101Z"
   },
   {
    "duration": 11,
    "start_time": "2024-11-27T02:26:01.077Z"
   },
   {
    "duration": 315,
    "start_time": "2024-11-27T02:26:01.090Z"
   },
   {
    "duration": 16927,
    "start_time": "2024-11-27T02:26:01.408Z"
   },
   {
    "duration": 44,
    "start_time": "2024-11-27T02:26:18.337Z"
   },
   {
    "duration": 10,
    "start_time": "2024-11-27T02:26:18.382Z"
   },
   {
    "duration": 24,
    "start_time": "2024-11-27T02:26:18.394Z"
   },
   {
    "duration": 4,
    "start_time": "2024-11-27T02:26:18.420Z"
   },
   {
    "duration": 45,
    "start_time": "2024-11-27T02:26:18.425Z"
   },
   {
    "duration": 5,
    "start_time": "2024-11-27T02:26:18.475Z"
   },
   {
    "duration": 8,
    "start_time": "2024-11-27T02:26:18.481Z"
   },
   {
    "duration": 6,
    "start_time": "2024-11-27T02:26:18.490Z"
   },
   {
    "duration": 9,
    "start_time": "2024-11-27T02:26:18.498Z"
   },
   {
    "duration": 58,
    "start_time": "2024-11-27T02:26:18.509Z"
   },
   {
    "duration": 20,
    "start_time": "2024-11-27T02:26:18.569Z"
   },
   {
    "duration": 8,
    "start_time": "2024-11-27T02:26:18.591Z"
   },
   {
    "duration": 775,
    "start_time": "2024-11-27T02:26:18.600Z"
   },
   {
    "duration": 3,
    "start_time": "2024-11-27T02:26:19.465Z"
   },
   {
    "duration": 51,
    "start_time": "2024-11-27T02:26:19.470Z"
   },
   {
    "duration": 42,
    "start_time": "2024-11-27T02:26:19.523Z"
   },
   {
    "duration": 37,
    "start_time": "2024-11-27T02:26:19.567Z"
   },
   {
    "duration": 8153,
    "start_time": "2024-11-27T02:26:19.606Z"
   },
   {
    "duration": 6,
    "start_time": "2024-11-27T02:26:27.761Z"
   },
   {
    "duration": 1356,
    "start_time": "2024-11-27T02:26:27.768Z"
   },
   {
    "duration": 6,
    "start_time": "2024-11-27T02:26:29.126Z"
   },
   {
    "duration": 544,
    "start_time": "2024-11-27T02:26:29.133Z"
   },
   {
    "duration": 6,
    "start_time": "2024-11-27T02:26:29.679Z"
   },
   {
    "duration": 523,
    "start_time": "2024-11-27T02:26:29.687Z"
   },
   {
    "duration": 7,
    "start_time": "2024-11-27T02:26:30.212Z"
   },
   {
    "duration": 52,
    "start_time": "2024-11-27T02:26:30.220Z"
   },
   {
    "duration": 338,
    "start_time": "2024-11-27T02:26:30.274Z"
   },
   {
    "duration": 56,
    "start_time": "2024-11-27T02:26:30.614Z"
   },
   {
    "duration": 317,
    "start_time": "2024-11-27T02:26:30.672Z"
   },
   {
    "duration": 28,
    "start_time": "2024-11-27T02:26:30.992Z"
   },
   {
    "duration": 522,
    "start_time": "2024-11-27T02:26:31.023Z"
   },
   {
    "duration": 36,
    "start_time": "2024-11-27T02:26:31.546Z"
   },
   {
    "duration": 345,
    "start_time": "2024-11-27T02:26:31.586Z"
   },
   {
    "duration": 41,
    "start_time": "2024-11-27T02:26:31.932Z"
   },
   {
    "duration": 436,
    "start_time": "2024-11-27T02:26:31.974Z"
   },
   {
    "duration": 55,
    "start_time": "2024-11-27T02:26:32.412Z"
   },
   {
    "duration": 337,
    "start_time": "2024-11-27T02:26:32.469Z"
   },
   {
    "duration": 2290,
    "start_time": "2024-11-27T02:26:32.809Z"
   },
   {
    "duration": 15,
    "start_time": "2024-11-27T02:26:35.101Z"
   },
   {
    "duration": 7,
    "start_time": "2024-11-27T02:26:35.118Z"
   },
   {
    "duration": 38,
    "start_time": "2024-11-27T02:26:35.126Z"
   },
   {
    "duration": 18,
    "start_time": "2024-11-27T02:26:35.166Z"
   },
   {
    "duration": 9,
    "start_time": "2024-11-27T02:26:35.186Z"
   },
   {
    "duration": 40,
    "start_time": "2024-11-27T02:26:35.196Z"
   },
   {
    "duration": 27,
    "start_time": "2024-11-27T02:26:35.238Z"
   },
   {
    "duration": 15,
    "start_time": "2024-11-27T02:26:35.268Z"
   },
   {
    "duration": 6750,
    "start_time": "2024-11-27T02:29:00.677Z"
   },
   {
    "duration": 53,
    "start_time": "2024-11-27T02:29:07.429Z"
   },
   {
    "duration": 1485,
    "start_time": "2024-11-27T02:29:07.483Z"
   },
   {
    "duration": 7,
    "start_time": "2024-11-27T02:29:08.970Z"
   },
   {
    "duration": 990,
    "start_time": "2024-11-27T02:29:08.979Z"
   },
   {
    "duration": 12,
    "start_time": "2024-11-27T02:29:09.970Z"
   },
   {
    "duration": 302,
    "start_time": "2024-11-27T02:29:09.983Z"
   },
   {
    "duration": 16918,
    "start_time": "2024-11-27T02:29:10.286Z"
   },
   {
    "duration": 20,
    "start_time": "2024-11-27T02:29:27.206Z"
   },
   {
    "duration": 43,
    "start_time": "2024-11-27T02:29:27.228Z"
   },
   {
    "duration": 24,
    "start_time": "2024-11-27T02:29:27.273Z"
   },
   {
    "duration": 5,
    "start_time": "2024-11-27T02:29:27.299Z"
   },
   {
    "duration": 19,
    "start_time": "2024-11-27T02:29:27.305Z"
   },
   {
    "duration": 4,
    "start_time": "2024-11-27T02:29:27.327Z"
   },
   {
    "duration": 30,
    "start_time": "2024-11-27T02:29:27.333Z"
   },
   {
    "duration": 5,
    "start_time": "2024-11-27T02:29:27.365Z"
   },
   {
    "duration": 6,
    "start_time": "2024-11-27T02:29:27.371Z"
   },
   {
    "duration": 26,
    "start_time": "2024-11-27T02:29:27.378Z"
   },
   {
    "duration": 18,
    "start_time": "2024-11-27T02:29:27.406Z"
   },
   {
    "duration": 41,
    "start_time": "2024-11-27T02:29:27.425Z"
   },
   {
    "duration": 796,
    "start_time": "2024-11-27T02:29:27.467Z"
   },
   {
    "duration": 3,
    "start_time": "2024-11-27T02:29:28.271Z"
   },
   {
    "duration": 16,
    "start_time": "2024-11-27T02:29:28.357Z"
   },
   {
    "duration": 32,
    "start_time": "2024-11-27T02:29:28.375Z"
   },
   {
    "duration": 4,
    "start_time": "2024-11-27T02:29:28.408Z"
   },
   {
    "duration": 8187,
    "start_time": "2024-11-27T02:29:28.413Z"
   },
   {
    "duration": 6,
    "start_time": "2024-11-27T02:29:36.601Z"
   },
   {
    "duration": 1420,
    "start_time": "2024-11-27T02:29:36.609Z"
   },
   {
    "duration": 7,
    "start_time": "2024-11-27T02:29:38.030Z"
   },
   {
    "duration": 567,
    "start_time": "2024-11-27T02:29:38.038Z"
   },
   {
    "duration": 7,
    "start_time": "2024-11-27T02:29:38.607Z"
   },
   {
    "duration": 578,
    "start_time": "2024-11-27T02:29:38.616Z"
   },
   {
    "duration": 6,
    "start_time": "2024-11-27T02:29:39.196Z"
   },
   {
    "duration": 29,
    "start_time": "2024-11-27T02:29:39.203Z"
   },
   {
    "duration": 378,
    "start_time": "2024-11-27T02:29:39.233Z"
   },
   {
    "duration": 52,
    "start_time": "2024-11-27T02:29:39.613Z"
   },
   {
    "duration": 321,
    "start_time": "2024-11-27T02:29:39.666Z"
   },
   {
    "duration": 27,
    "start_time": "2024-11-27T02:29:39.989Z"
   },
   {
    "duration": 456,
    "start_time": "2024-11-27T02:29:40.018Z"
   },
   {
    "duration": 26,
    "start_time": "2024-11-27T02:29:40.476Z"
   },
   {
    "duration": 419,
    "start_time": "2024-11-27T02:29:40.506Z"
   },
   {
    "duration": 40,
    "start_time": "2024-11-27T02:29:40.927Z"
   },
   {
    "duration": 424,
    "start_time": "2024-11-27T02:29:40.969Z"
   },
   {
    "duration": 27,
    "start_time": "2024-11-27T02:29:41.395Z"
   },
   {
    "duration": 301,
    "start_time": "2024-11-27T02:29:41.424Z"
   },
   {
    "duration": 2075,
    "start_time": "2024-11-27T02:29:41.726Z"
   },
   {
    "duration": 15,
    "start_time": "2024-11-27T02:29:43.803Z"
   },
   {
    "duration": 7,
    "start_time": "2024-11-27T02:29:43.819Z"
   },
   {
    "duration": 28,
    "start_time": "2024-11-27T02:29:43.827Z"
   },
   {
    "duration": 28,
    "start_time": "2024-11-27T02:29:43.865Z"
   },
   {
    "duration": 12,
    "start_time": "2024-11-27T02:29:43.895Z"
   },
   {
    "duration": 29,
    "start_time": "2024-11-27T02:29:43.909Z"
   },
   {
    "duration": 38,
    "start_time": "2024-11-27T02:29:43.939Z"
   },
   {
    "duration": 18,
    "start_time": "2024-11-27T02:29:43.979Z"
   },
   {
    "duration": 9659,
    "start_time": "2024-11-27T09:56:02.932Z"
   },
   {
    "duration": 152,
    "start_time": "2024-11-27T09:56:12.594Z"
   },
   {
    "duration": 1208,
    "start_time": "2024-11-27T09:56:12.748Z"
   },
   {
    "duration": 6,
    "start_time": "2024-11-27T09:56:13.958Z"
   },
   {
    "duration": 810,
    "start_time": "2024-11-27T09:56:13.965Z"
   },
   {
    "duration": 9,
    "start_time": "2024-11-27T09:56:14.776Z"
   },
   {
    "duration": 249,
    "start_time": "2024-11-27T09:56:14.786Z"
   },
   {
    "duration": 14448,
    "start_time": "2024-11-27T09:56:15.036Z"
   },
   {
    "duration": 19,
    "start_time": "2024-11-27T09:56:29.486Z"
   },
   {
    "duration": 9,
    "start_time": "2024-11-27T09:56:29.509Z"
   },
   {
    "duration": 55,
    "start_time": "2024-11-27T09:56:29.520Z"
   },
   {
    "duration": 3,
    "start_time": "2024-11-27T09:56:29.577Z"
   },
   {
    "duration": 12,
    "start_time": "2024-11-27T09:56:29.582Z"
   },
   {
    "duration": 4,
    "start_time": "2024-11-27T09:56:29.596Z"
   },
   {
    "duration": 5,
    "start_time": "2024-11-27T09:56:29.601Z"
   },
   {
    "duration": 5,
    "start_time": "2024-11-27T09:56:29.607Z"
   },
   {
    "duration": 7,
    "start_time": "2024-11-27T09:56:29.613Z"
   },
   {
    "duration": 54,
    "start_time": "2024-11-27T09:56:29.622Z"
   },
   {
    "duration": 16,
    "start_time": "2024-11-27T09:56:29.677Z"
   },
   {
    "duration": 7,
    "start_time": "2024-11-27T09:56:29.694Z"
   },
   {
    "duration": 360,
    "start_time": "2024-11-27T09:56:29.702Z"
   },
   {
    "duration": 3,
    "start_time": "2024-11-27T09:56:30.064Z"
   },
   {
    "duration": 52,
    "start_time": "2024-11-27T09:56:30.158Z"
   },
   {
    "duration": 55,
    "start_time": "2024-11-27T09:56:30.212Z"
   },
   {
    "duration": 3,
    "start_time": "2024-11-27T09:56:30.269Z"
   },
   {
    "duration": 6089,
    "start_time": "2024-11-27T09:56:30.273Z"
   },
   {
    "duration": 4,
    "start_time": "2024-11-27T09:56:36.364Z"
   },
   {
    "duration": 1054,
    "start_time": "2024-11-27T09:56:36.371Z"
   },
   {
    "duration": 6,
    "start_time": "2024-11-27T09:56:37.426Z"
   },
   {
    "duration": 452,
    "start_time": "2024-11-27T09:56:37.433Z"
   },
   {
    "duration": 6,
    "start_time": "2024-11-27T09:56:37.887Z"
   },
   {
    "duration": 449,
    "start_time": "2024-11-27T09:56:37.894Z"
   },
   {
    "duration": 5,
    "start_time": "2024-11-27T09:56:38.344Z"
   },
   {
    "duration": 31,
    "start_time": "2024-11-27T09:56:38.357Z"
   },
   {
    "duration": 318,
    "start_time": "2024-11-27T09:56:38.390Z"
   },
   {
    "duration": 23,
    "start_time": "2024-11-27T09:56:38.709Z"
   },
   {
    "duration": 263,
    "start_time": "2024-11-27T09:56:38.733Z"
   },
   {
    "duration": 23,
    "start_time": "2024-11-27T09:56:38.997Z"
   },
   {
    "duration": 399,
    "start_time": "2024-11-27T09:56:39.022Z"
   },
   {
    "duration": 22,
    "start_time": "2024-11-27T09:56:39.422Z"
   },
   {
    "duration": 343,
    "start_time": "2024-11-27T09:56:39.457Z"
   },
   {
    "duration": 28,
    "start_time": "2024-11-27T09:56:39.801Z"
   },
   {
    "duration": 362,
    "start_time": "2024-11-27T09:56:39.831Z"
   },
   {
    "duration": 24,
    "start_time": "2024-11-27T09:56:40.194Z"
   },
   {
    "duration": 286,
    "start_time": "2024-11-27T09:56:40.219Z"
   },
   {
    "duration": 1629,
    "start_time": "2024-11-27T09:56:40.507Z"
   },
   {
    "duration": 13,
    "start_time": "2024-11-27T09:56:42.138Z"
   },
   {
    "duration": 7,
    "start_time": "2024-11-27T09:56:42.152Z"
   },
   {
    "duration": 12,
    "start_time": "2024-11-27T09:56:42.160Z"
   },
   {
    "duration": 15,
    "start_time": "2024-11-27T09:56:42.173Z"
   },
   {
    "duration": 6,
    "start_time": "2024-11-27T09:56:42.189Z"
   },
   {
    "duration": 15,
    "start_time": "2024-11-27T09:56:42.197Z"
   },
   {
    "duration": 12,
    "start_time": "2024-11-27T09:56:42.213Z"
   },
   {
    "duration": 39,
    "start_time": "2024-11-27T09:56:42.226Z"
   },
   {
    "duration": 7948,
    "start_time": "2024-11-27T10:02:36.016Z"
   },
   {
    "duration": 39,
    "start_time": "2024-11-27T10:02:43.966Z"
   },
   {
    "duration": 1191,
    "start_time": "2024-11-27T10:02:44.006Z"
   },
   {
    "duration": 6,
    "start_time": "2024-11-27T10:02:45.198Z"
   },
   {
    "duration": 860,
    "start_time": "2024-11-27T10:02:45.205Z"
   },
   {
    "duration": 9,
    "start_time": "2024-11-27T10:02:46.067Z"
   },
   {
    "duration": 258,
    "start_time": "2024-11-27T10:02:46.077Z"
   },
   {
    "duration": 14193,
    "start_time": "2024-11-27T10:02:46.336Z"
   },
   {
    "duration": 32,
    "start_time": "2024-11-27T10:03:00.531Z"
   },
   {
    "duration": 9,
    "start_time": "2024-11-27T10:03:00.565Z"
   },
   {
    "duration": 24,
    "start_time": "2024-11-27T10:03:00.576Z"
   },
   {
    "duration": 26,
    "start_time": "2024-11-27T10:03:00.601Z"
   },
   {
    "duration": 25,
    "start_time": "2024-11-27T10:03:00.629Z"
   },
   {
    "duration": 4,
    "start_time": "2024-11-27T10:03:00.656Z"
   },
   {
    "duration": 8,
    "start_time": "2024-11-27T10:03:00.662Z"
   },
   {
    "duration": 23,
    "start_time": "2024-11-27T10:03:00.671Z"
   },
   {
    "duration": 89,
    "start_time": "2024-11-27T10:03:00.695Z"
   },
   {
    "duration": 49,
    "start_time": "2024-11-27T10:03:00.785Z"
   },
   {
    "duration": 16,
    "start_time": "2024-11-27T10:03:00.835Z"
   },
   {
    "duration": 7,
    "start_time": "2024-11-27T10:03:00.852Z"
   },
   {
    "duration": 401,
    "start_time": "2024-11-27T10:03:00.861Z"
   },
   {
    "duration": 2,
    "start_time": "2024-11-27T10:03:01.264Z"
   },
   {
    "duration": 12,
    "start_time": "2024-11-27T10:03:01.358Z"
   },
   {
    "duration": 30,
    "start_time": "2024-11-27T10:03:01.371Z"
   },
   {
    "duration": 13,
    "start_time": "2024-11-27T10:03:01.403Z"
   },
   {
    "duration": 6030,
    "start_time": "2024-11-27T10:03:01.417Z"
   },
   {
    "duration": 8,
    "start_time": "2024-11-27T10:03:07.449Z"
   },
   {
    "duration": 1009,
    "start_time": "2024-11-27T10:03:07.460Z"
   },
   {
    "duration": 6,
    "start_time": "2024-11-27T10:03:08.470Z"
   },
   {
    "duration": 443,
    "start_time": "2024-11-27T10:03:08.477Z"
   },
   {
    "duration": 6,
    "start_time": "2024-11-27T10:03:08.922Z"
   },
   {
    "duration": 462,
    "start_time": "2024-11-27T10:03:08.929Z"
   },
   {
    "duration": 6,
    "start_time": "2024-11-27T10:03:09.393Z"
   },
   {
    "duration": 32,
    "start_time": "2024-11-27T10:03:09.400Z"
   },
   {
    "duration": 336,
    "start_time": "2024-11-27T10:03:09.433Z"
   },
   {
    "duration": 24,
    "start_time": "2024-11-27T10:03:09.771Z"
   },
   {
    "duration": 285,
    "start_time": "2024-11-27T10:03:09.796Z"
   },
   {
    "duration": 24,
    "start_time": "2024-11-27T10:03:10.082Z"
   },
   {
    "duration": 419,
    "start_time": "2024-11-27T10:03:10.108Z"
   },
   {
    "duration": 35,
    "start_time": "2024-11-27T10:03:10.529Z"
   },
   {
    "duration": 338,
    "start_time": "2024-11-27T10:03:10.565Z"
   },
   {
    "duration": 29,
    "start_time": "2024-11-27T10:03:10.905Z"
   },
   {
    "duration": 351,
    "start_time": "2024-11-27T10:03:10.936Z"
   },
   {
    "duration": 24,
    "start_time": "2024-11-27T10:03:11.288Z"
   },
   {
    "duration": 276,
    "start_time": "2024-11-27T10:03:11.313Z"
   },
   {
    "duration": 1650,
    "start_time": "2024-11-27T10:03:11.590Z"
   },
   {
    "duration": 15,
    "start_time": "2024-11-27T10:03:13.242Z"
   },
   {
    "duration": 11,
    "start_time": "2024-11-27T10:03:13.258Z"
   },
   {
    "duration": 13,
    "start_time": "2024-11-27T10:03:13.270Z"
   },
   {
    "duration": 16,
    "start_time": "2024-11-27T10:03:13.284Z"
   },
   {
    "duration": 6,
    "start_time": "2024-11-27T10:03:13.302Z"
   },
   {
    "duration": 16,
    "start_time": "2024-11-27T10:03:13.309Z"
   },
   {
    "duration": 34,
    "start_time": "2024-11-27T10:03:13.326Z"
   },
   {
    "duration": 12,
    "start_time": "2024-11-27T10:03:13.361Z"
   },
   {
    "duration": 60,
    "start_time": "2024-11-27T15:13:39.118Z"
   },
   {
    "duration": 8581,
    "start_time": "2024-11-27T15:13:57.188Z"
   },
   {
    "duration": 170,
    "start_time": "2024-11-27T15:14:05.772Z"
   },
   {
    "duration": 1650,
    "start_time": "2024-11-27T15:14:05.944Z"
   },
   {
    "duration": 9,
    "start_time": "2024-11-27T15:14:07.598Z"
   },
   {
    "duration": 1124,
    "start_time": "2024-11-27T15:14:07.610Z"
   },
   {
    "duration": 12,
    "start_time": "2024-11-27T15:14:08.736Z"
   },
   {
    "duration": 330,
    "start_time": "2024-11-27T15:14:08.750Z"
   },
   {
    "duration": 16376,
    "start_time": "2024-11-27T15:14:09.083Z"
   },
   {
    "duration": 44,
    "start_time": "2024-11-27T15:14:25.461Z"
   },
   {
    "duration": 14,
    "start_time": "2024-11-27T15:14:25.507Z"
   },
   {
    "duration": 44,
    "start_time": "2024-11-27T15:14:25.523Z"
   },
   {
    "duration": 6,
    "start_time": "2024-11-27T15:14:25.569Z"
   },
   {
    "duration": 33,
    "start_time": "2024-11-27T15:14:25.577Z"
   },
   {
    "duration": 9,
    "start_time": "2024-11-27T15:14:25.614Z"
   },
   {
    "duration": 31,
    "start_time": "2024-11-27T15:14:25.625Z"
   },
   {
    "duration": 5,
    "start_time": "2024-11-27T15:14:25.658Z"
   },
   {
    "duration": 14,
    "start_time": "2024-11-27T15:14:25.665Z"
   },
   {
    "duration": 28,
    "start_time": "2024-11-27T15:14:25.681Z"
   },
   {
    "duration": 21,
    "start_time": "2024-11-27T15:14:25.710Z"
   },
   {
    "duration": 14,
    "start_time": "2024-11-27T15:14:25.733Z"
   },
   {
    "duration": 462,
    "start_time": "2024-11-27T15:14:25.749Z"
   },
   {
    "duration": 88,
    "start_time": "2024-11-27T15:14:26.213Z"
   },
   {
    "duration": 30,
    "start_time": "2024-11-27T15:14:26.303Z"
   },
   {
    "duration": 64,
    "start_time": "2024-11-27T15:14:26.335Z"
   },
   {
    "duration": 4,
    "start_time": "2024-11-27T15:14:26.401Z"
   },
   {
    "duration": 7895,
    "start_time": "2024-11-27T15:14:26.406Z"
   },
   {
    "duration": 6,
    "start_time": "2024-11-27T15:14:34.303Z"
   },
   {
    "duration": 1463,
    "start_time": "2024-11-27T15:14:34.311Z"
   },
   {
    "duration": 6,
    "start_time": "2024-11-27T15:14:35.776Z"
   },
   {
    "duration": 559,
    "start_time": "2024-11-27T15:14:35.783Z"
   },
   {
    "duration": 8,
    "start_time": "2024-11-27T15:14:36.345Z"
   },
   {
    "duration": 545,
    "start_time": "2024-11-27T15:14:36.355Z"
   },
   {
    "duration": 7,
    "start_time": "2024-11-27T15:14:36.901Z"
   },
   {
    "duration": 29,
    "start_time": "2024-11-27T15:14:36.910Z"
   },
   {
    "duration": 375,
    "start_time": "2024-11-27T15:14:36.941Z"
   },
   {
    "duration": 30,
    "start_time": "2024-11-27T15:14:37.318Z"
   },
   {
    "duration": 293,
    "start_time": "2024-11-27T15:14:37.350Z"
   },
   {
    "duration": 28,
    "start_time": "2024-11-27T15:14:37.645Z"
   },
   {
    "duration": 409,
    "start_time": "2024-11-27T15:14:37.675Z"
   },
   {
    "duration": 35,
    "start_time": "2024-11-27T15:14:38.085Z"
   },
   {
    "duration": 364,
    "start_time": "2024-11-27T15:14:38.124Z"
   },
   {
    "duration": 37,
    "start_time": "2024-11-27T15:14:38.490Z"
   },
   {
    "duration": 541,
    "start_time": "2024-11-27T15:14:38.528Z"
   },
   {
    "duration": 41,
    "start_time": "2024-11-27T15:14:39.071Z"
   },
   {
    "duration": 332,
    "start_time": "2024-11-27T15:14:39.113Z"
   },
   {
    "duration": 2106,
    "start_time": "2024-11-27T15:14:39.447Z"
   },
   {
    "duration": 4,
    "start_time": "2024-11-27T15:14:45.081Z"
   },
   {
    "duration": 4,
    "start_time": "2024-11-27T15:14:50.886Z"
   },
   {
    "duration": 4,
    "start_time": "2024-11-27T15:15:03.415Z"
   },
   {
    "duration": 5,
    "start_time": "2024-11-27T15:15:10.463Z"
   },
   {
    "duration": 4,
    "start_time": "2024-11-27T15:19:06.450Z"
   },
   {
    "duration": 8,
    "start_time": "2024-11-27T15:19:09.633Z"
   },
   {
    "duration": 93,
    "start_time": "2024-11-27T15:19:48.855Z"
   },
   {
    "duration": 100,
    "start_time": "2024-11-27T15:26:37.410Z"
   },
   {
    "duration": 162,
    "start_time": "2024-11-27T15:27:15.331Z"
   },
   {
    "duration": 12,
    "start_time": "2024-11-27T15:27:24.242Z"
   },
   {
    "duration": 112,
    "start_time": "2024-11-27T15:31:35.398Z"
   },
   {
    "duration": 119,
    "start_time": "2024-11-27T15:32:05.973Z"
   },
   {
    "duration": 223,
    "start_time": "2024-11-27T15:37:20.572Z"
   },
   {
    "duration": 446,
    "start_time": "2024-11-27T15:39:24.990Z"
   },
   {
    "duration": 19,
    "start_time": "2024-11-27T15:39:46.400Z"
   },
   {
    "duration": 25,
    "start_time": "2024-11-27T15:39:59.687Z"
   },
   {
    "duration": 407,
    "start_time": "2024-11-27T15:40:05.060Z"
   },
   {
    "duration": 504,
    "start_time": "2024-11-27T15:40:59.501Z"
   },
   {
    "duration": 26,
    "start_time": "2024-11-27T15:46:18.853Z"
   },
   {
    "duration": 394,
    "start_time": "2024-11-27T15:46:37.915Z"
   },
   {
    "duration": 355,
    "start_time": "2024-11-27T15:47:14.929Z"
   },
   {
    "duration": 445,
    "start_time": "2024-11-27T15:49:09.073Z"
   },
   {
    "duration": 390,
    "start_time": "2024-11-27T15:49:22.288Z"
   },
   {
    "duration": 20,
    "start_time": "2024-11-27T15:54:49.871Z"
   },
   {
    "duration": 20,
    "start_time": "2024-11-27T15:55:39.147Z"
   },
   {
    "duration": 410,
    "start_time": "2024-11-27T15:57:51.587Z"
   },
   {
    "duration": 485,
    "start_time": "2024-11-27T15:58:48.236Z"
   },
   {
    "duration": 411,
    "start_time": "2024-11-27T15:59:20.829Z"
   },
   {
    "duration": 553,
    "start_time": "2024-11-27T16:01:38.382Z"
   },
   {
    "duration": 412,
    "start_time": "2024-11-27T16:02:10.180Z"
   },
   {
    "duration": 455,
    "start_time": "2024-11-27T16:05:15.188Z"
   },
   {
    "duration": 375,
    "start_time": "2024-11-27T16:05:29.322Z"
   },
   {
    "duration": 12,
    "start_time": "2024-11-27T17:06:39.670Z"
   },
   {
    "duration": 5687,
    "start_time": "2024-11-27T17:09:47.725Z"
   },
   {
    "duration": 48,
    "start_time": "2024-11-27T17:09:53.419Z"
   },
   {
    "duration": 1984,
    "start_time": "2024-11-27T17:09:53.468Z"
   },
   {
    "duration": 6,
    "start_time": "2024-11-27T17:09:55.455Z"
   },
   {
    "duration": 1087,
    "start_time": "2024-11-27T17:09:55.463Z"
   },
   {
    "duration": 15,
    "start_time": "2024-11-27T17:09:56.553Z"
   },
   {
    "duration": 586,
    "start_time": "2024-11-27T17:09:56.570Z"
   },
   {
    "duration": 19634,
    "start_time": "2024-11-27T17:09:57.158Z"
   },
   {
    "duration": 42,
    "start_time": "2024-11-27T17:10:16.794Z"
   },
   {
    "duration": 11,
    "start_time": "2024-11-27T17:10:16.837Z"
   },
   {
    "duration": 68,
    "start_time": "2024-11-27T17:10:16.851Z"
   },
   {
    "duration": 7,
    "start_time": "2024-11-27T17:10:16.921Z"
   },
   {
    "duration": 31,
    "start_time": "2024-11-27T17:10:16.929Z"
   },
   {
    "duration": 7,
    "start_time": "2024-11-27T17:10:16.964Z"
   },
   {
    "duration": 5,
    "start_time": "2024-11-27T17:10:16.973Z"
   },
   {
    "duration": 5,
    "start_time": "2024-11-27T17:10:16.979Z"
   },
   {
    "duration": 17,
    "start_time": "2024-11-27T17:10:17.000Z"
   },
   {
    "duration": 28,
    "start_time": "2024-11-27T17:10:17.028Z"
   },
   {
    "duration": 20,
    "start_time": "2024-11-27T17:10:17.057Z"
   },
   {
    "duration": 26,
    "start_time": "2024-11-27T17:10:17.079Z"
   },
   {
    "duration": 1111,
    "start_time": "2024-11-27T17:10:17.107Z"
   },
   {
    "duration": 7,
    "start_time": "2024-11-27T17:10:18.221Z"
   },
   {
    "duration": 26,
    "start_time": "2024-11-27T17:10:18.230Z"
   },
   {
    "duration": 101,
    "start_time": "2024-11-27T17:10:18.261Z"
   },
   {
    "duration": 7,
    "start_time": "2024-11-27T17:10:18.364Z"
   },
   {
    "duration": 9624,
    "start_time": "2024-11-27T17:10:18.373Z"
   },
   {
    "duration": 15,
    "start_time": "2024-11-27T17:10:28.000Z"
   },
   {
    "duration": 1124,
    "start_time": "2024-11-27T17:10:28.017Z"
   },
   {
    "duration": 16,
    "start_time": "2024-11-27T17:10:29.144Z"
   },
   {
    "duration": 692,
    "start_time": "2024-11-27T17:10:29.162Z"
   },
   {
    "duration": 7,
    "start_time": "2024-11-27T17:10:29.856Z"
   },
   {
    "duration": 1318,
    "start_time": "2024-11-27T17:10:29.866Z"
   },
   {
    "duration": 31,
    "start_time": "2024-11-27T17:10:31.186Z"
   },
   {
    "duration": 51,
    "start_time": "2024-11-27T17:10:31.224Z"
   },
   {
    "duration": 412,
    "start_time": "2024-11-27T17:10:31.277Z"
   },
   {
    "duration": 53,
    "start_time": "2024-11-27T17:10:31.691Z"
   },
   {
    "duration": 295,
    "start_time": "2024-11-27T17:10:31.746Z"
   },
   {
    "duration": 30,
    "start_time": "2024-11-27T17:10:32.044Z"
   },
   {
    "duration": 516,
    "start_time": "2024-11-27T17:10:32.076Z"
   },
   {
    "duration": 45,
    "start_time": "2024-11-27T17:10:32.600Z"
   },
   {
    "duration": 486,
    "start_time": "2024-11-27T17:10:32.652Z"
   },
   {
    "duration": 40,
    "start_time": "2024-11-27T17:10:33.140Z"
   },
   {
    "duration": 359,
    "start_time": "2024-11-27T17:10:33.182Z"
   },
   {
    "duration": 113,
    "start_time": "2024-11-27T17:10:33.543Z"
   },
   {
    "duration": 494,
    "start_time": "2024-11-27T17:10:33.658Z"
   },
   {
    "duration": 2815,
    "start_time": "2024-11-27T17:10:34.154Z"
   },
   {
    "duration": 482,
    "start_time": "2024-11-27T17:10:36.970Z"
   },
   {
    "duration": 19,
    "start_time": "2024-11-27T17:10:37.457Z"
   },
   {
    "duration": 26,
    "start_time": "2024-11-27T17:10:37.479Z"
   },
   {
    "duration": 13,
    "start_time": "2024-11-27T17:15:40.315Z"
   },
   {
    "duration": 24,
    "start_time": "2024-11-27T17:31:17.398Z"
   },
   {
    "duration": 9,
    "start_time": "2024-11-27T17:42:16.093Z"
   },
   {
    "duration": 6065,
    "start_time": "2024-11-28T03:29:38.690Z"
   },
   {
    "duration": 43,
    "start_time": "2024-11-28T03:29:44.757Z"
   },
   {
    "duration": 1359,
    "start_time": "2024-11-28T03:29:44.801Z"
   },
   {
    "duration": 6,
    "start_time": "2024-11-28T03:29:46.162Z"
   },
   {
    "duration": 857,
    "start_time": "2024-11-28T03:29:46.171Z"
   },
   {
    "duration": 11,
    "start_time": "2024-11-28T03:29:47.030Z"
   },
   {
    "duration": 331,
    "start_time": "2024-11-28T03:29:47.042Z"
   },
   {
    "duration": 15572,
    "start_time": "2024-11-28T03:29:47.375Z"
   },
   {
    "duration": 19,
    "start_time": "2024-11-28T03:30:02.948Z"
   },
   {
    "duration": 38,
    "start_time": "2024-11-28T03:30:02.969Z"
   },
   {
    "duration": 30,
    "start_time": "2024-11-28T03:30:03.009Z"
   },
   {
    "duration": 15,
    "start_time": "2024-11-28T03:30:03.041Z"
   },
   {
    "duration": 57,
    "start_time": "2024-11-28T03:30:03.057Z"
   },
   {
    "duration": 16,
    "start_time": "2024-11-28T03:30:03.117Z"
   },
   {
    "duration": 28,
    "start_time": "2024-11-28T03:30:03.134Z"
   },
   {
    "duration": 46,
    "start_time": "2024-11-28T03:30:03.164Z"
   },
   {
    "duration": 37,
    "start_time": "2024-11-28T03:30:03.212Z"
   },
   {
    "duration": 32,
    "start_time": "2024-11-28T03:30:03.251Z"
   },
   {
    "duration": 19,
    "start_time": "2024-11-28T03:30:03.284Z"
   },
   {
    "duration": 28,
    "start_time": "2024-11-28T03:30:03.304Z"
   },
   {
    "duration": 371,
    "start_time": "2024-11-28T03:30:03.334Z"
   },
   {
    "duration": 92,
    "start_time": "2024-11-28T03:30:03.710Z"
   },
   {
    "duration": 22,
    "start_time": "2024-11-28T03:30:03.803Z"
   },
   {
    "duration": 31,
    "start_time": "2024-11-28T03:30:03.827Z"
   },
   {
    "duration": 2,
    "start_time": "2024-11-28T03:30:03.860Z"
   },
   {
    "duration": 7443,
    "start_time": "2024-11-28T03:30:03.864Z"
   },
   {
    "duration": 5,
    "start_time": "2024-11-28T03:30:11.309Z"
   },
   {
    "duration": 1325,
    "start_time": "2024-11-28T03:30:11.316Z"
   },
   {
    "duration": 6,
    "start_time": "2024-11-28T03:30:12.642Z"
   },
   {
    "duration": 527,
    "start_time": "2024-11-28T03:30:12.649Z"
   },
   {
    "duration": 7,
    "start_time": "2024-11-28T03:30:13.178Z"
   },
   {
    "duration": 529,
    "start_time": "2024-11-28T03:30:13.186Z"
   },
   {
    "duration": 6,
    "start_time": "2024-11-28T03:30:13.717Z"
   },
   {
    "duration": 31,
    "start_time": "2024-11-28T03:30:13.724Z"
   },
   {
    "duration": 396,
    "start_time": "2024-11-28T03:30:13.756Z"
   },
   {
    "duration": 29,
    "start_time": "2024-11-28T03:30:14.153Z"
   },
   {
    "duration": 247,
    "start_time": "2024-11-28T03:30:14.199Z"
   },
   {
    "duration": 27,
    "start_time": "2024-11-28T03:30:14.448Z"
   },
   {
    "duration": 398,
    "start_time": "2024-11-28T03:30:14.477Z"
   },
   {
    "duration": 37,
    "start_time": "2024-11-28T03:30:14.877Z"
   },
   {
    "duration": 355,
    "start_time": "2024-11-28T03:30:14.917Z"
   },
   {
    "duration": 36,
    "start_time": "2024-11-28T03:30:15.274Z"
   },
   {
    "duration": 426,
    "start_time": "2024-11-28T03:30:15.312Z"
   },
   {
    "duration": 24,
    "start_time": "2024-11-28T03:30:15.740Z"
   },
   {
    "duration": 284,
    "start_time": "2024-11-28T03:30:15.766Z"
   },
   {
    "duration": 1909,
    "start_time": "2024-11-28T03:30:16.052Z"
   },
   {
    "duration": 384,
    "start_time": "2024-11-28T03:30:17.963Z"
   },
   {
    "duration": 15,
    "start_time": "2024-11-28T03:30:18.349Z"
   },
   {
    "duration": 7,
    "start_time": "2024-11-28T03:30:18.365Z"
   },
   {
    "duration": 34,
    "start_time": "2024-11-28T03:30:18.373Z"
   },
   {
    "duration": 11,
    "start_time": "2024-11-28T03:30:18.409Z"
   },
   {
    "duration": 13,
    "start_time": "2024-11-28T03:30:18.422Z"
   },
   {
    "duration": 16,
    "start_time": "2024-11-28T03:30:18.437Z"
   },
   {
    "duration": 11,
    "start_time": "2024-11-28T03:30:18.454Z"
   },
   {
    "duration": 44,
    "start_time": "2024-11-28T03:30:18.466Z"
   },
   {
    "duration": 14,
    "start_time": "2024-11-28T03:30:18.512Z"
   },
   {
    "duration": 18,
    "start_time": "2024-11-28T03:30:18.527Z"
   }
  ],
  "kernelspec": {
   "display_name": "Python 3 (ipykernel)",
   "language": "python",
   "name": "python3"
  },
  "language_info": {
   "codemirror_mode": {
    "name": "ipython",
    "version": 3
   },
   "file_extension": ".py",
   "mimetype": "text/x-python",
   "name": "python",
   "nbconvert_exporter": "python",
   "pygments_lexer": "ipython3",
   "version": "3.11.7"
  },
  "toc": {
   "base_numbering": 1,
   "nav_menu": {},
   "number_sections": false,
   "sideBar": true,
   "skip_h1_title": true,
   "title_cell": "Table of Contents",
   "title_sidebar": "Оглавление",
   "toc_cell": false,
   "toc_position": {
    "height": "calc(100% - 180px)",
    "left": "10px",
    "top": "150px",
    "width": "512px"
   },
   "toc_section_display": true,
   "toc_window_display": false
  }
 },
 "nbformat": 4,
 "nbformat_minor": 4
}
