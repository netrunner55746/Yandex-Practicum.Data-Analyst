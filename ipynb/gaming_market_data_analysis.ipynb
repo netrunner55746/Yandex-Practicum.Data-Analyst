{
 "cells": [
  {
   "cell_type": "markdown",
   "metadata": {},
   "source": [
    "# Анализ данных по рынку игр"
   ]
  },
  {
   "cell_type": "markdown",
   "metadata": {},
   "source": [
    "Необходимо провести анализ рынка видеоигр для интернет-магазина «Стримчик», который занимается продажей компьютерных игр по всему миру, чтобы помочь спланировать рекламную кампанию на 2017 год и сделать ставку на успешный продукт. Из открытых источников нам доступны исторические данные (до 2016 года) о продажах игр, оценки пользователей и экспертов, жанры и платформы (например, Xbox или PlayStation). "
   ]
  },
  {
   "cell_type": "markdown",
   "metadata": {},
   "source": [
    "# Введение"
   ]
  },
  {
   "cell_type": "markdown",
   "metadata": {},
   "source": [
    "**Проект направлен** на исследовательский анализ данных рынка видеоигр и проверку сформулированных гипотез для помощи бизнесу."
   ]
  },
  {
   "cell_type": "markdown",
   "metadata": {},
   "source": [
    "**Цель исследования**\n",
    "\n",
    "Составить портрет пользователя NA, EU, JP:\n",
    "\n",
    "* Определить самые популярные платформы (топ-5);\n",
    "* Определить самые популярные жанры (топ-5);\n",
    "* Выяснить, влияет ли рейтинг ESRB на продажи в отдельном регионе.\n",
    "\n",
    "Проверить 2 гипотезы:\n",
    "\n",
    "* Средние пользовательские рейтинги платформ Xbox One и PC одинаковые;\n",
    "* Средние пользовательские рейтинги жанров Action и Sports разные."
   ]
  },
  {
   "cell_type": "markdown",
   "metadata": {},
   "source": [
    "**Описание исходных данных:**\n",
    "\n",
    "games.csv:\n",
    "    \n",
    "* *Name* — название игры\n",
    "* *Platform* — платформа\n",
    "* *Year_of_Release* — год выпуска\n",
    "* *Genre* — жанр игры\n",
    "* *NA_sales* — продажи в Северной Америке (миллионы проданных копий)\n",
    "* *EU_sales* — продажи в Европе (миллионы проданных копий)\n",
    "* *JP_sales* — продажи в Японии (миллионы проданных копий)\n",
    "* *Other_sales* — продажи в других странах (миллионы проданных копий)\n",
    "* *Critic_Score* — оценка критиков (максимум 100)\n",
    "* *User_Score* — оценка пользователей (максимум 10)\n",
    "* *Rating* — рейтинг от организации ESRB."
   ]
  },
  {
   "cell_type": "markdown",
   "metadata": {},
   "source": [
    "**Исследование пройдет в 5 основных этапов:**\n",
    "\n",
    " * Обзор исходных данных;\n",
    " * Предобработка исходных данных;\n",
    " * Исследовательский анализ данных;\n",
    " * Составление портрета пользователя;\n",
    " * Проверка гипотез."
   ]
  },
  {
   "cell_type": "markdown",
   "metadata": {},
   "source": [
    "<a id='Содержание'></a>\n",
    "# Содержание"
   ]
  },
  {
   "cell_type": "markdown",
   "metadata": {},
   "source": [
    "1. [Обзор исходных данных](#Обзор-исходных-данных)\n",
    "2. [Предобработка данных](#Предобработка-данных)\n",
    "3. [Исследовательский анализ данных](#Исследовательский-анализ-данных)\n",
    "    * [Выпуск игр по годам](#Выпуск_игр_по_годам)\n",
    "    * [Продажи по платформам](#Продажи_по_платформам)\n",
    "    * [Определение актуального периода](#Определение_актуального_периода)\n",
    "    * [Потенциально прибыльные платформы](#Потенциально_прибыльные_платформы)\n",
    "    * [Бокс-плот мировых продаж по платформам](#Бокс-плот_мировых_продаж_по_платформам)\n",
    "    * [Корреляция оценок и продаж](#Корреляция_оценок_и_продаж)\n",
    "    * [Распределение игр по жанрам](#Распределение_игр_по_жанрам)\n",
    "4. [Портрет пользователя](#Портрет-пользователя)\n",
    "    * [Самые популярные платформы (топ-5)](#Самые_популярные_платформы)\n",
    "    * [Самые популярные жанры (топ-5)](#Самые_популярные_жанры)\n",
    "    * [Влияние рейтинга ESRB на продажи в отдельном регионе](#Влияние_ESRB)\n",
    "5. [Проверка гипотез](#Проверка-гипотез)\n",
    "    * [Средние пользовательские рейтинги платформ Xbox One и PC одинаковые](#Гипотеза_1)\n",
    "    * [Средние пользовательские рейтинги жанров Action и Sports разные](#Гипотеза_2)\n",
    "6. [Общий вывод](#Общий-вывод)"
   ]
  },
  {
   "cell_type": "markdown",
   "metadata": {},
   "source": [
    "<a id='Обзор-исходных-данных'></a>\n",
    "## Обзор исходных данных"
   ]
  },
  {
   "cell_type": "code",
   "execution_count": 1,
   "metadata": {},
   "outputs": [],
   "source": [
    "%%capture\n",
    "#устанавливаем инструмент для визуализации пропусков\n",
    "!pip install missingno\n",
    "#импортируем необходимые библиотеки\n",
    "import pandas as pd\n",
    "import matplotlib.pyplot as plt\n",
    "import numpy as np\n",
    "from scipy import stats as st\n",
    "import missingno as msno"
   ]
  },
  {
   "cell_type": "code",
   "execution_count": 2,
   "metadata": {},
   "outputs": [
    {
     "data": {
      "text/html": [
       "<div>\n",
       "<style scoped>\n",
       "    .dataframe tbody tr th:only-of-type {\n",
       "        vertical-align: middle;\n",
       "    }\n",
       "\n",
       "    .dataframe tbody tr th {\n",
       "        vertical-align: top;\n",
       "    }\n",
       "\n",
       "    .dataframe thead th {\n",
       "        text-align: right;\n",
       "    }\n",
       "</style>\n",
       "<table border=\"1\" class=\"dataframe\">\n",
       "  <thead>\n",
       "    <tr style=\"text-align: right;\">\n",
       "      <th></th>\n",
       "      <th>Name</th>\n",
       "      <th>Platform</th>\n",
       "      <th>Year_of_Release</th>\n",
       "      <th>Genre</th>\n",
       "      <th>NA_sales</th>\n",
       "      <th>EU_sales</th>\n",
       "      <th>JP_sales</th>\n",
       "      <th>Other_sales</th>\n",
       "      <th>Critic_Score</th>\n",
       "      <th>User_Score</th>\n",
       "      <th>Rating</th>\n",
       "    </tr>\n",
       "  </thead>\n",
       "  <tbody>\n",
       "    <tr>\n",
       "      <th>0</th>\n",
       "      <td>Wii Sports</td>\n",
       "      <td>Wii</td>\n",
       "      <td>2006.0</td>\n",
       "      <td>Sports</td>\n",
       "      <td>41.36</td>\n",
       "      <td>28.96</td>\n",
       "      <td>3.77</td>\n",
       "      <td>8.45</td>\n",
       "      <td>76.0</td>\n",
       "      <td>8</td>\n",
       "      <td>E</td>\n",
       "    </tr>\n",
       "    <tr>\n",
       "      <th>1</th>\n",
       "      <td>Super Mario Bros.</td>\n",
       "      <td>NES</td>\n",
       "      <td>1985.0</td>\n",
       "      <td>Platform</td>\n",
       "      <td>29.08</td>\n",
       "      <td>3.58</td>\n",
       "      <td>6.81</td>\n",
       "      <td>0.77</td>\n",
       "      <td>NaN</td>\n",
       "      <td>NaN</td>\n",
       "      <td>NaN</td>\n",
       "    </tr>\n",
       "    <tr>\n",
       "      <th>2</th>\n",
       "      <td>Mario Kart Wii</td>\n",
       "      <td>Wii</td>\n",
       "      <td>2008.0</td>\n",
       "      <td>Racing</td>\n",
       "      <td>15.68</td>\n",
       "      <td>12.76</td>\n",
       "      <td>3.79</td>\n",
       "      <td>3.29</td>\n",
       "      <td>82.0</td>\n",
       "      <td>8.3</td>\n",
       "      <td>E</td>\n",
       "    </tr>\n",
       "    <tr>\n",
       "      <th>3</th>\n",
       "      <td>Wii Sports Resort</td>\n",
       "      <td>Wii</td>\n",
       "      <td>2009.0</td>\n",
       "      <td>Sports</td>\n",
       "      <td>15.61</td>\n",
       "      <td>10.93</td>\n",
       "      <td>3.28</td>\n",
       "      <td>2.95</td>\n",
       "      <td>80.0</td>\n",
       "      <td>8</td>\n",
       "      <td>E</td>\n",
       "    </tr>\n",
       "    <tr>\n",
       "      <th>4</th>\n",
       "      <td>Pokemon Red/Pokemon Blue</td>\n",
       "      <td>GB</td>\n",
       "      <td>1996.0</td>\n",
       "      <td>Role-Playing</td>\n",
       "      <td>11.27</td>\n",
       "      <td>8.89</td>\n",
       "      <td>10.22</td>\n",
       "      <td>1.00</td>\n",
       "      <td>NaN</td>\n",
       "      <td>NaN</td>\n",
       "      <td>NaN</td>\n",
       "    </tr>\n",
       "    <tr>\n",
       "      <th>5</th>\n",
       "      <td>Tetris</td>\n",
       "      <td>GB</td>\n",
       "      <td>1989.0</td>\n",
       "      <td>Puzzle</td>\n",
       "      <td>23.20</td>\n",
       "      <td>2.26</td>\n",
       "      <td>4.22</td>\n",
       "      <td>0.58</td>\n",
       "      <td>NaN</td>\n",
       "      <td>NaN</td>\n",
       "      <td>NaN</td>\n",
       "    </tr>\n",
       "    <tr>\n",
       "      <th>6</th>\n",
       "      <td>New Super Mario Bros.</td>\n",
       "      <td>DS</td>\n",
       "      <td>2006.0</td>\n",
       "      <td>Platform</td>\n",
       "      <td>11.28</td>\n",
       "      <td>9.14</td>\n",
       "      <td>6.50</td>\n",
       "      <td>2.88</td>\n",
       "      <td>89.0</td>\n",
       "      <td>8.5</td>\n",
       "      <td>E</td>\n",
       "    </tr>\n",
       "    <tr>\n",
       "      <th>7</th>\n",
       "      <td>Wii Play</td>\n",
       "      <td>Wii</td>\n",
       "      <td>2006.0</td>\n",
       "      <td>Misc</td>\n",
       "      <td>13.96</td>\n",
       "      <td>9.18</td>\n",
       "      <td>2.93</td>\n",
       "      <td>2.84</td>\n",
       "      <td>58.0</td>\n",
       "      <td>6.6</td>\n",
       "      <td>E</td>\n",
       "    </tr>\n",
       "    <tr>\n",
       "      <th>8</th>\n",
       "      <td>New Super Mario Bros. Wii</td>\n",
       "      <td>Wii</td>\n",
       "      <td>2009.0</td>\n",
       "      <td>Platform</td>\n",
       "      <td>14.44</td>\n",
       "      <td>6.94</td>\n",
       "      <td>4.70</td>\n",
       "      <td>2.24</td>\n",
       "      <td>87.0</td>\n",
       "      <td>8.4</td>\n",
       "      <td>E</td>\n",
       "    </tr>\n",
       "    <tr>\n",
       "      <th>9</th>\n",
       "      <td>Duck Hunt</td>\n",
       "      <td>NES</td>\n",
       "      <td>1984.0</td>\n",
       "      <td>Shooter</td>\n",
       "      <td>26.93</td>\n",
       "      <td>0.63</td>\n",
       "      <td>0.28</td>\n",
       "      <td>0.47</td>\n",
       "      <td>NaN</td>\n",
       "      <td>NaN</td>\n",
       "      <td>NaN</td>\n",
       "    </tr>\n",
       "    <tr>\n",
       "      <th>10</th>\n",
       "      <td>Nintendogs</td>\n",
       "      <td>DS</td>\n",
       "      <td>2005.0</td>\n",
       "      <td>Simulation</td>\n",
       "      <td>9.05</td>\n",
       "      <td>10.95</td>\n",
       "      <td>1.93</td>\n",
       "      <td>2.74</td>\n",
       "      <td>NaN</td>\n",
       "      <td>NaN</td>\n",
       "      <td>NaN</td>\n",
       "    </tr>\n",
       "    <tr>\n",
       "      <th>11</th>\n",
       "      <td>Mario Kart DS</td>\n",
       "      <td>DS</td>\n",
       "      <td>2005.0</td>\n",
       "      <td>Racing</td>\n",
       "      <td>9.71</td>\n",
       "      <td>7.47</td>\n",
       "      <td>4.13</td>\n",
       "      <td>1.90</td>\n",
       "      <td>91.0</td>\n",
       "      <td>8.6</td>\n",
       "      <td>E</td>\n",
       "    </tr>\n",
       "    <tr>\n",
       "      <th>12</th>\n",
       "      <td>Pokemon Gold/Pokemon Silver</td>\n",
       "      <td>GB</td>\n",
       "      <td>1999.0</td>\n",
       "      <td>Role-Playing</td>\n",
       "      <td>9.00</td>\n",
       "      <td>6.18</td>\n",
       "      <td>7.20</td>\n",
       "      <td>0.71</td>\n",
       "      <td>NaN</td>\n",
       "      <td>NaN</td>\n",
       "      <td>NaN</td>\n",
       "    </tr>\n",
       "    <tr>\n",
       "      <th>13</th>\n",
       "      <td>Wii Fit</td>\n",
       "      <td>Wii</td>\n",
       "      <td>2007.0</td>\n",
       "      <td>Sports</td>\n",
       "      <td>8.92</td>\n",
       "      <td>8.03</td>\n",
       "      <td>3.60</td>\n",
       "      <td>2.15</td>\n",
       "      <td>80.0</td>\n",
       "      <td>7.7</td>\n",
       "      <td>E</td>\n",
       "    </tr>\n",
       "    <tr>\n",
       "      <th>14</th>\n",
       "      <td>Kinect Adventures!</td>\n",
       "      <td>X360</td>\n",
       "      <td>2010.0</td>\n",
       "      <td>Misc</td>\n",
       "      <td>15.00</td>\n",
       "      <td>4.89</td>\n",
       "      <td>0.24</td>\n",
       "      <td>1.69</td>\n",
       "      <td>61.0</td>\n",
       "      <td>6.3</td>\n",
       "      <td>E</td>\n",
       "    </tr>\n",
       "  </tbody>\n",
       "</table>\n",
       "</div>"
      ],
      "text/plain": [
       "                           Name Platform  Year_of_Release         Genre  \\\n",
       "0                    Wii Sports      Wii           2006.0        Sports   \n",
       "1             Super Mario Bros.      NES           1985.0      Platform   \n",
       "2                Mario Kart Wii      Wii           2008.0        Racing   \n",
       "3             Wii Sports Resort      Wii           2009.0        Sports   \n",
       "4      Pokemon Red/Pokemon Blue       GB           1996.0  Role-Playing   \n",
       "5                        Tetris       GB           1989.0        Puzzle   \n",
       "6         New Super Mario Bros.       DS           2006.0      Platform   \n",
       "7                      Wii Play      Wii           2006.0          Misc   \n",
       "8     New Super Mario Bros. Wii      Wii           2009.0      Platform   \n",
       "9                     Duck Hunt      NES           1984.0       Shooter   \n",
       "10                   Nintendogs       DS           2005.0    Simulation   \n",
       "11                Mario Kart DS       DS           2005.0        Racing   \n",
       "12  Pokemon Gold/Pokemon Silver       GB           1999.0  Role-Playing   \n",
       "13                      Wii Fit      Wii           2007.0        Sports   \n",
       "14           Kinect Adventures!     X360           2010.0          Misc   \n",
       "\n",
       "    NA_sales  EU_sales  JP_sales  Other_sales  Critic_Score User_Score Rating  \n",
       "0      41.36     28.96      3.77         8.45          76.0          8      E  \n",
       "1      29.08      3.58      6.81         0.77           NaN        NaN    NaN  \n",
       "2      15.68     12.76      3.79         3.29          82.0        8.3      E  \n",
       "3      15.61     10.93      3.28         2.95          80.0          8      E  \n",
       "4      11.27      8.89     10.22         1.00           NaN        NaN    NaN  \n",
       "5      23.20      2.26      4.22         0.58           NaN        NaN    NaN  \n",
       "6      11.28      9.14      6.50         2.88          89.0        8.5      E  \n",
       "7      13.96      9.18      2.93         2.84          58.0        6.6      E  \n",
       "8      14.44      6.94      4.70         2.24          87.0        8.4      E  \n",
       "9      26.93      0.63      0.28         0.47           NaN        NaN    NaN  \n",
       "10      9.05     10.95      1.93         2.74           NaN        NaN    NaN  \n",
       "11      9.71      7.47      4.13         1.90          91.0        8.6      E  \n",
       "12      9.00      6.18      7.20         0.71           NaN        NaN    NaN  \n",
       "13      8.92      8.03      3.60         2.15          80.0        7.7      E  \n",
       "14     15.00      4.89      0.24         1.69          61.0        6.3      E  "
      ]
     },
     "execution_count": 2,
     "metadata": {},
     "output_type": "execute_result"
    }
   ],
   "source": [
    "#читаем датасет\n",
    "df = pd.read_csv('/datasets/games.csv')\n",
    "#выводим информацию по нему\n",
    "df.head(15)"
   ]
  },
  {
   "cell_type": "markdown",
   "metadata": {},
   "source": [
    "Перед нами первые строки нашего датафрейма. Сразу отметим наличие пропусков в различных рейтингах, названия столбцов с заглавной буквы.\n",
    "\n",
    "Посмотрим более детально:"
   ]
  },
  {
   "cell_type": "code",
   "execution_count": 3,
   "metadata": {},
   "outputs": [
    {
     "name": "stdout",
     "output_type": "stream",
     "text": [
      "<class 'pandas.core.frame.DataFrame'>\n",
      "RangeIndex: 16715 entries, 0 to 16714\n",
      "Data columns (total 11 columns):\n",
      " #   Column           Non-Null Count  Dtype  \n",
      "---  ------           --------------  -----  \n",
      " 0   Name             16713 non-null  object \n",
      " 1   Platform         16715 non-null  object \n",
      " 2   Year_of_Release  16446 non-null  float64\n",
      " 3   Genre            16713 non-null  object \n",
      " 4   NA_sales         16715 non-null  float64\n",
      " 5   EU_sales         16715 non-null  float64\n",
      " 6   JP_sales         16715 non-null  float64\n",
      " 7   Other_sales      16715 non-null  float64\n",
      " 8   Critic_Score     8137 non-null   float64\n",
      " 9   User_Score       10014 non-null  object \n",
      " 10  Rating           9949 non-null   object \n",
      "dtypes: float64(6), object(5)\n",
      "memory usage: 1.4+ MB\n"
     ]
    }
   ],
   "source": [
    "df.info()"
   ]
  },
  {
   "cell_type": "markdown",
   "metadata": {},
   "source": [
    "Видим пропуски не только по рейтингам, но и в *Year_of_Release*, *Genre*, *Name*. Также необходимо изменить тип данных в *Year_of_Release* с float на int (так будет логичнее для года издания), в *User_Score* с object на float.\n",
    "\n",
    "Визуализируем пропуски для наглядности: "
   ]
  },
  {
   "cell_type": "code",
   "execution_count": 4,
   "metadata": {},
   "outputs": [
    {
     "data": {
      "image/png": "[encoded data removed]",
      "text/plain": [
       "<Figure size 1800x720 with 3 Axes>"
      ]
     },
     "metadata": {
      "needs_background": "light"
     },
     "output_type": "display_data"
    }
   ],
   "source": [
    "msno.bar(df)\n",
    "plt.show()"
   ]
  },
  {
   "cell_type": "markdown",
   "metadata": {},
   "source": [
    "Пропуски в рейтингах ощущаются больше всего: около 50% строк."
   ]
  },
  {
   "cell_type": "code",
   "execution_count": 5,
   "metadata": {},
   "outputs": [
    {
     "data": {
      "image/png": "[encoded data removed]",
      "text/plain": [
       "<Figure size 1080x360 with 6 Axes>"
      ]
     },
     "metadata": {
      "needs_background": "light"
     },
     "output_type": "display_data"
    }
   ],
   "source": [
    "df.hist(figsize=(15, 5))\n",
    "plt.subplots_adjust(hspace=1, wspace=0.5)\n",
    "plt.show()"
   ]
  },
  {
   "cell_type": "code",
   "execution_count": 6,
   "metadata": {},
   "outputs": [
    {
     "data": {
      "text/html": [
       "<div>\n",
       "<style scoped>\n",
       "    .dataframe tbody tr th:only-of-type {\n",
       "        vertical-align: middle;\n",
       "    }\n",
       "\n",
       "    .dataframe tbody tr th {\n",
       "        vertical-align: top;\n",
       "    }\n",
       "\n",
       "    .dataframe thead th {\n",
       "        text-align: right;\n",
       "    }\n",
       "</style>\n",
       "<table border=\"1\" class=\"dataframe\">\n",
       "  <thead>\n",
       "    <tr style=\"text-align: right;\">\n",
       "      <th></th>\n",
       "      <th>Year_of_Release</th>\n",
       "      <th>NA_sales</th>\n",
       "      <th>EU_sales</th>\n",
       "      <th>JP_sales</th>\n",
       "      <th>Other_sales</th>\n",
       "      <th>Critic_Score</th>\n",
       "    </tr>\n",
       "  </thead>\n",
       "  <tbody>\n",
       "    <tr>\n",
       "      <th>count</th>\n",
       "      <td>16446.000000</td>\n",
       "      <td>16715.000000</td>\n",
       "      <td>16715.000000</td>\n",
       "      <td>16715.000000</td>\n",
       "      <td>16715.000000</td>\n",
       "      <td>8137.000000</td>\n",
       "    </tr>\n",
       "    <tr>\n",
       "      <th>mean</th>\n",
       "      <td>2006.484616</td>\n",
       "      <td>0.263377</td>\n",
       "      <td>0.145060</td>\n",
       "      <td>0.077617</td>\n",
       "      <td>0.047342</td>\n",
       "      <td>68.967679</td>\n",
       "    </tr>\n",
       "    <tr>\n",
       "      <th>std</th>\n",
       "      <td>5.877050</td>\n",
       "      <td>0.813604</td>\n",
       "      <td>0.503339</td>\n",
       "      <td>0.308853</td>\n",
       "      <td>0.186731</td>\n",
       "      <td>13.938165</td>\n",
       "    </tr>\n",
       "    <tr>\n",
       "      <th>min</th>\n",
       "      <td>1980.000000</td>\n",
       "      <td>0.000000</td>\n",
       "      <td>0.000000</td>\n",
       "      <td>0.000000</td>\n",
       "      <td>0.000000</td>\n",
       "      <td>13.000000</td>\n",
       "    </tr>\n",
       "    <tr>\n",
       "      <th>25%</th>\n",
       "      <td>2003.000000</td>\n",
       "      <td>0.000000</td>\n",
       "      <td>0.000000</td>\n",
       "      <td>0.000000</td>\n",
       "      <td>0.000000</td>\n",
       "      <td>60.000000</td>\n",
       "    </tr>\n",
       "    <tr>\n",
       "      <th>50%</th>\n",
       "      <td>2007.000000</td>\n",
       "      <td>0.080000</td>\n",
       "      <td>0.020000</td>\n",
       "      <td>0.000000</td>\n",
       "      <td>0.010000</td>\n",
       "      <td>71.000000</td>\n",
       "    </tr>\n",
       "    <tr>\n",
       "      <th>75%</th>\n",
       "      <td>2010.000000</td>\n",
       "      <td>0.240000</td>\n",
       "      <td>0.110000</td>\n",
       "      <td>0.040000</td>\n",
       "      <td>0.030000</td>\n",
       "      <td>79.000000</td>\n",
       "    </tr>\n",
       "    <tr>\n",
       "      <th>max</th>\n",
       "      <td>2016.000000</td>\n",
       "      <td>41.360000</td>\n",
       "      <td>28.960000</td>\n",
       "      <td>10.220000</td>\n",
       "      <td>10.570000</td>\n",
       "      <td>98.000000</td>\n",
       "    </tr>\n",
       "  </tbody>\n",
       "</table>\n",
       "</div>"
      ],
      "text/plain": [
       "       Year_of_Release      NA_sales      EU_sales      JP_sales  \\\n",
       "count     16446.000000  16715.000000  16715.000000  16715.000000   \n",
       "mean       2006.484616      0.263377      0.145060      0.077617   \n",
       "std           5.877050      0.813604      0.503339      0.308853   \n",
       "min        1980.000000      0.000000      0.000000      0.000000   \n",
       "25%        2003.000000      0.000000      0.000000      0.000000   \n",
       "50%        2007.000000      0.080000      0.020000      0.000000   \n",
       "75%        2010.000000      0.240000      0.110000      0.040000   \n",
       "max        2016.000000     41.360000     28.960000     10.220000   \n",
       "\n",
       "        Other_sales  Critic_Score  \n",
       "count  16715.000000   8137.000000  \n",
       "mean       0.047342     68.967679  \n",
       "std        0.186731     13.938165  \n",
       "min        0.000000     13.000000  \n",
       "25%        0.000000     60.000000  \n",
       "50%        0.010000     71.000000  \n",
       "75%        0.030000     79.000000  \n",
       "max       10.570000     98.000000  "
      ]
     },
     "execution_count": 6,
     "metadata": {},
     "output_type": "execute_result"
    }
   ],
   "source": [
    "df.describe()"
   ]
  },
  {
   "cell_type": "markdown",
   "metadata": {},
   "source": [
    "Никаких аномалий, на первый взгляд, в числовых значениях нет, отметим наличие игр 80х годов в датасете."
   ]
  },
  {
   "cell_type": "markdown",
   "metadata": {},
   "source": [
    "**Вывод:**\n",
    "\n",
    "Мы провели первичный обзор данных и выявили необходимость предобратки, которая обязательно будет включать в себя преобразование типа данных и устранение пропусков.\n",
    "\n",
    "[Вернуться к содержанию](#Содержание)"
   ]
  },
  {
   "cell_type": "markdown",
   "metadata": {},
   "source": [
    "<a id='Предобработка-данных'></a>\n",
    "## Предобработка данных"
   ]
  },
  {
   "cell_type": "markdown",
   "metadata": {},
   "source": [
    "Сначала исправим недостатки датасета, которые уже нашли."
   ]
  },
  {
   "cell_type": "code",
   "execution_count": 7,
   "metadata": {},
   "outputs": [
    {
     "data": {
      "text/plain": [
       "Index(['name', 'platform', 'year_of_release', 'genre', 'na_sales', 'eu_sales',\n",
       "       'jp_sales', 'other_sales', 'critic_score', 'user_score', 'rating'],\n",
       "      dtype='object')"
      ]
     },
     "execution_count": 7,
     "metadata": {},
     "output_type": "execute_result"
    }
   ],
   "source": [
    "#приведем названия столбцов к нижнему регистру\n",
    "df.columns = df.columns.str.lower()\n",
    "df.columns"
   ]
  },
  {
   "cell_type": "markdown",
   "metadata": {},
   "source": [
    "Решим, что делать с пропусками:"
   ]
  },
  {
   "cell_type": "markdown",
   "metadata": {},
   "source": [
    "Считаю, что допустимо избавиться от строк с пропусками в столбцах *name*, *year_of_release*, *genre* - их сравнительно немного, также их невозможно восполнить без значительной потери качества данных."
   ]
  },
  {
   "cell_type": "code",
   "execution_count": 8,
   "metadata": {},
   "outputs": [
    {
     "name": "stdout",
     "output_type": "stream",
     "text": [
      "<class 'pandas.core.frame.DataFrame'>\n",
      "RangeIndex: 16444 entries, 0 to 16443\n",
      "Data columns (total 11 columns):\n",
      " #   Column           Non-Null Count  Dtype  \n",
      "---  ------           --------------  -----  \n",
      " 0   name             16444 non-null  object \n",
      " 1   platform         16444 non-null  object \n",
      " 2   year_of_release  16444 non-null  float64\n",
      " 3   genre            16444 non-null  object \n",
      " 4   na_sales         16444 non-null  float64\n",
      " 5   eu_sales         16444 non-null  float64\n",
      " 6   jp_sales         16444 non-null  float64\n",
      " 7   other_sales      16444 non-null  float64\n",
      " 8   critic_score     7983 non-null   float64\n",
      " 9   user_score       9839 non-null   object \n",
      " 10  rating           9768 non-null   object \n",
      "dtypes: float64(6), object(5)\n",
      "memory usage: 1.4+ MB\n"
     ]
    }
   ],
   "source": [
    "#удалим строки с пропусками в нужных столбцах\n",
    "df = df.dropna(subset=['name', 'year_of_release', 'genre']).reset_index(drop=True)\n",
    "df.info()"
   ]
  },
  {
   "cell_type": "markdown",
   "metadata": {},
   "source": [
    "С пропусками в рейтингах сложнее, рассмотрим значения столбцов детальнее:"
   ]
  },
  {
   "cell_type": "code",
   "execution_count": 9,
   "metadata": {},
   "outputs": [
    {
     "name": "stdout",
     "output_type": "stream",
     "text": [
      "Уникальные значения critic_score: [13. 17. 19. 20. 21. 23. 24. 25. 26. 27. 28. 29. 30. 31. 32. 33. 34. 35.\n",
      " 36. 37. 38. 39. 40. 41. 42. 43. 44. 45. 46. 47. 48. 49. 50. 51. 52. 53.\n",
      " 54. 55. 56. 57. 58. 59. 60. 61. 62. 63. 64. 65. 66. 67. 68. 69. 70. 71.\n",
      " 72. 73. 74. 75. 76. 77. 78. 79. 80. 81. 82. 83. 84. 85. 86. 87. 88. 89.\n",
      " 90. 91. 92. 93. 94. 95. 96. 97. 98. nan]\n",
      "Уникальные значения user_score: ['0' '0.2' '0.3' '0.5' '0.6' '0.7' '0.9' '1' '1.1' '1.2' '1.3' '1.4' '1.5'\n",
      " '1.6' '1.7' '1.8' '1.9' '2' '2.1' '2.2' '2.3' '2.4' '2.5' '2.6' '2.7'\n",
      " '2.8' '2.9' '3' '3.1' '3.2' '3.3' '3.4' '3.5' '3.6' '3.7' '3.8' '3.9' '4'\n",
      " '4.1' '4.2' '4.3' '4.4' '4.5' '4.6' '4.7' '4.8' '4.9' '5' '5.1' '5.2'\n",
      " '5.3' '5.4' '5.5' '5.6' '5.7' '5.8' '5.9' '6' '6.1' '6.2' '6.3' '6.4'\n",
      " '6.5' '6.6' '6.7' '6.8' '6.9' '7' '7.1' '7.2' '7.3' '7.4' '7.5' '7.6'\n",
      " '7.7' '7.8' '7.9' '8' '8.1' '8.2' '8.3' '8.4' '8.5' '8.6' '8.7' '8.8'\n",
      " '8.9' '9' '9.1' '9.2' '9.3' '9.4' '9.5' '9.6' '9.7' 'tbd' nan]\n",
      "Уникальные значения rating: ['AO' 'E' 'E10+' 'EC' 'K-A' 'M' 'RP' 'T' nan]\n"
     ]
    }
   ],
   "source": [
    "#выведем уникальные значения столбцов critic_score, user_score, rating\n",
    "col_list = ['critic_score', 'user_score', 'rating']\n",
    "for k in col_list:\n",
    "    print(f'Уникальные значения {k}:', df[k].sort_values().unique())"
   ]
  },
  {
   "cell_type": "markdown",
   "metadata": {},
   "source": [
    "Видим, что в *user_score* есть значения tbd (to be defined/to be described, те же NAN для нас, только object типом), которые также мешают преобразованию типа данных столбца. В *rating*, тип данных которого object, как раз пропущенные значения можно заменить на tbd."
   ]
  },
  {
   "cell_type": "code",
   "execution_count": 10,
   "metadata": {},
   "outputs": [
    {
     "name": "stdout",
     "output_type": "stream",
     "text": [
      "Уникальные значения user_score: ['0' '0.2' '0.3' '0.5' '0.6' '0.7' '0.9' '1' '1.1' '1.2' '1.3' '1.4' '1.5'\n",
      " '1.6' '1.7' '1.8' '1.9' '2' '2.1' '2.2' '2.3' '2.4' '2.5' '2.6' '2.7'\n",
      " '2.8' '2.9' '3' '3.1' '3.2' '3.3' '3.4' '3.5' '3.6' '3.7' '3.8' '3.9' '4'\n",
      " '4.1' '4.2' '4.3' '4.4' '4.5' '4.6' '4.7' '4.8' '4.9' '5' '5.1' '5.2'\n",
      " '5.3' '5.4' '5.5' '5.6' '5.7' '5.8' '5.9' '6' '6.1' '6.2' '6.3' '6.4'\n",
      " '6.5' '6.6' '6.7' '6.8' '6.9' '7' '7.1' '7.2' '7.3' '7.4' '7.5' '7.6'\n",
      " '7.7' '7.8' '7.9' '8' '8.1' '8.2' '8.3' '8.4' '8.5' '8.6' '8.7' '8.8'\n",
      " '8.9' '9' '9.1' '9.2' '9.3' '9.4' '9.5' '9.6' '9.7' nan]\n",
      "Уникальные значения rating: ['AO' 'E' 'E10+' 'EC' 'K-A' 'M' 'RP' 'T' 'tbd']\n"
     ]
    }
   ],
   "source": [
    "#работаем со значением tbd в столбцах\n",
    "df.loc[df['user_score']=='tbd', 'user_score'] = np.nan\n",
    "df['rating'] = df['rating'].fillna('tbd')\n",
    "col_list = ['user_score', 'rating']\n",
    "for k in col_list:\n",
    "    print(f'Уникальные значения {k}:', df[k].sort_values().unique())"
   ]
  },
  {
   "cell_type": "markdown",
   "metadata": {},
   "source": [
    "Сами пропуски в рейтингах могли возникнуть по причине недостаточного количества оценок на соответствующих ресурсах или возможного остуствия внимания со стороны определенного типа сообщества, и заполнить их объективными значениями не представляется возможным, поэтому оставим их как есть. "
   ]
  },
  {
   "cell_type": "markdown",
   "metadata": {},
   "source": [
    "После исправления значений можем изменить тип данных в столобцах *user_score* и *year_of_release*:"
   ]
  },
  {
   "cell_type": "code",
   "execution_count": 11,
   "metadata": {},
   "outputs": [
    {
     "name": "stdout",
     "output_type": "stream",
     "text": [
      "Тип данных user_score: float64\n",
      "Тип данных year_of_release: int64\n"
     ]
    }
   ],
   "source": [
    "df['user_score'] = df['user_score'].astype(float)\n",
    "df['year_of_release'] = df['year_of_release'].astype(int)\n",
    "print('Тип данных user_score:', df['user_score'].dtype)\n",
    "print('Тип данных year_of_release:', df['year_of_release'].dtype)"
   ]
  },
  {
   "cell_type": "markdown",
   "metadata": {},
   "source": [
    "Проверим датафрейм на явные дубликаты:"
   ]
  },
  {
   "cell_type": "code",
   "execution_count": 12,
   "metadata": {},
   "outputs": [
    {
     "name": "stdout",
     "output_type": "stream",
     "text": [
      "Количество явных дубликатов: 0\n"
     ]
    }
   ],
   "source": [
    "print('Количество явных дубликатов:', sum(df.duplicated()))"
   ]
  },
  {
   "cell_type": "markdown",
   "metadata": {},
   "source": [
    "И отдельно по совпадениям сразу в трех столбцах: *name*, *platform*, *year_of_release*"
   ]
  },
  {
   "cell_type": "code",
   "execution_count": 13,
   "metadata": {},
   "outputs": [
    {
     "data": {
      "text/html": [
       "<div>\n",
       "<style scoped>\n",
       "    .dataframe tbody tr th:only-of-type {\n",
       "        vertical-align: middle;\n",
       "    }\n",
       "\n",
       "    .dataframe tbody tr th {\n",
       "        vertical-align: top;\n",
       "    }\n",
       "\n",
       "    .dataframe thead th {\n",
       "        text-align: right;\n",
       "    }\n",
       "</style>\n",
       "<table border=\"1\" class=\"dataframe\">\n",
       "  <thead>\n",
       "    <tr style=\"text-align: right;\">\n",
       "      <th></th>\n",
       "      <th>name</th>\n",
       "      <th>platform</th>\n",
       "      <th>year_of_release</th>\n",
       "      <th>genre</th>\n",
       "      <th>na_sales</th>\n",
       "      <th>eu_sales</th>\n",
       "      <th>jp_sales</th>\n",
       "      <th>other_sales</th>\n",
       "      <th>critic_score</th>\n",
       "      <th>user_score</th>\n",
       "      <th>rating</th>\n",
       "    </tr>\n",
       "  </thead>\n",
       "  <tbody>\n",
       "    <tr>\n",
       "      <th>600</th>\n",
       "      <td>Madden NFL 13</td>\n",
       "      <td>PS3</td>\n",
       "      <td>2012</td>\n",
       "      <td>Sports</td>\n",
       "      <td>2.11</td>\n",
       "      <td>0.22</td>\n",
       "      <td>0.0</td>\n",
       "      <td>0.23</td>\n",
       "      <td>83.0</td>\n",
       "      <td>5.5</td>\n",
       "      <td>E</td>\n",
       "    </tr>\n",
       "    <tr>\n",
       "      <th>15969</th>\n",
       "      <td>Madden NFL 13</td>\n",
       "      <td>PS3</td>\n",
       "      <td>2012</td>\n",
       "      <td>Sports</td>\n",
       "      <td>0.00</td>\n",
       "      <td>0.01</td>\n",
       "      <td>0.0</td>\n",
       "      <td>0.00</td>\n",
       "      <td>83.0</td>\n",
       "      <td>5.5</td>\n",
       "      <td>E</td>\n",
       "    </tr>\n",
       "  </tbody>\n",
       "</table>\n",
       "</div>"
      ],
      "text/plain": [
       "                name platform  year_of_release   genre  na_sales  eu_sales  \\\n",
       "600    Madden NFL 13      PS3             2012  Sports      2.11      0.22   \n",
       "15969  Madden NFL 13      PS3             2012  Sports      0.00      0.01   \n",
       "\n",
       "       jp_sales  other_sales  critic_score  user_score rating  \n",
       "600         0.0         0.23          83.0         5.5      E  \n",
       "15969       0.0         0.00          83.0         5.5      E  "
      ]
     },
     "execution_count": 13,
     "metadata": {},
     "output_type": "execute_result"
    }
   ],
   "source": [
    "df[df[['name', 'platform', 'year_of_release']].duplicated(keep=False)]"
   ]
  },
  {
   "cell_type": "markdown",
   "metadata": {},
   "source": [
    "Видим, что есть 1 совпадающая строка по 3м столбцам - удалим вторую, так как она содержит меньше данных о продукте."
   ]
  },
  {
   "cell_type": "code",
   "execution_count": 14,
   "metadata": {},
   "outputs": [
    {
     "data": {
      "text/plain": [
       "name               0\n",
       "platform           0\n",
       "year_of_release    0\n",
       "genre              0\n",
       "na_sales           0\n",
       "eu_sales           0\n",
       "jp_sales           0\n",
       "other_sales        0\n",
       "critic_score       0\n",
       "user_score         0\n",
       "rating             0\n",
       "dtype: int64"
      ]
     },
     "execution_count": 14,
     "metadata": {},
     "output_type": "execute_result"
    }
   ],
   "source": [
    "df = df.drop_duplicates(subset=['name', 'platform', 'year_of_release'], keep='first').reset_index(drop=True)\n",
    "df[df[['name', 'platform', 'year_of_release']].duplicated(keep=False)].count()"
   ]
  },
  {
   "cell_type": "markdown",
   "metadata": {},
   "source": [
    "Явных дубликатов теперь нет, неявные дубликаты у нас еще могут быть в столбцах *name* и *platform*, однако, исходя из природы данных и количества строк, нецелесообразно тратить время на их поиск, учитывая, что имена игр могут также дублироваться для разных платформ, у которых, в свою очередь несколько версий. "
   ]
  },
  {
   "cell_type": "markdown",
   "metadata": {},
   "source": [
    "Для дальнейшего анализа добавим в датафрейм столбец с суммой продаж во всех регионах:"
   ]
  },
  {
   "cell_type": "code",
   "execution_count": 15,
   "metadata": {},
   "outputs": [
    {
     "data": {
      "text/html": [
       "<div>\n",
       "<style scoped>\n",
       "    .dataframe tbody tr th:only-of-type {\n",
       "        vertical-align: middle;\n",
       "    }\n",
       "\n",
       "    .dataframe tbody tr th {\n",
       "        vertical-align: top;\n",
       "    }\n",
       "\n",
       "    .dataframe thead th {\n",
       "        text-align: right;\n",
       "    }\n",
       "</style>\n",
       "<table border=\"1\" class=\"dataframe\">\n",
       "  <thead>\n",
       "    <tr style=\"text-align: right;\">\n",
       "      <th></th>\n",
       "      <th>name</th>\n",
       "      <th>platform</th>\n",
       "      <th>year_of_release</th>\n",
       "      <th>genre</th>\n",
       "      <th>na_sales</th>\n",
       "      <th>eu_sales</th>\n",
       "      <th>jp_sales</th>\n",
       "      <th>other_sales</th>\n",
       "      <th>critic_score</th>\n",
       "      <th>user_score</th>\n",
       "      <th>rating</th>\n",
       "      <th>total_sales</th>\n",
       "    </tr>\n",
       "  </thead>\n",
       "  <tbody>\n",
       "    <tr>\n",
       "      <th>0</th>\n",
       "      <td>Wii Sports</td>\n",
       "      <td>Wii</td>\n",
       "      <td>2006</td>\n",
       "      <td>Sports</td>\n",
       "      <td>41.36</td>\n",
       "      <td>28.96</td>\n",
       "      <td>3.77</td>\n",
       "      <td>8.45</td>\n",
       "      <td>76.0</td>\n",
       "      <td>8.0</td>\n",
       "      <td>E</td>\n",
       "      <td>82.54</td>\n",
       "    </tr>\n",
       "    <tr>\n",
       "      <th>1</th>\n",
       "      <td>Super Mario Bros.</td>\n",
       "      <td>NES</td>\n",
       "      <td>1985</td>\n",
       "      <td>Platform</td>\n",
       "      <td>29.08</td>\n",
       "      <td>3.58</td>\n",
       "      <td>6.81</td>\n",
       "      <td>0.77</td>\n",
       "      <td>NaN</td>\n",
       "      <td>NaN</td>\n",
       "      <td>tbd</td>\n",
       "      <td>40.24</td>\n",
       "    </tr>\n",
       "    <tr>\n",
       "      <th>2</th>\n",
       "      <td>Mario Kart Wii</td>\n",
       "      <td>Wii</td>\n",
       "      <td>2008</td>\n",
       "      <td>Racing</td>\n",
       "      <td>15.68</td>\n",
       "      <td>12.76</td>\n",
       "      <td>3.79</td>\n",
       "      <td>3.29</td>\n",
       "      <td>82.0</td>\n",
       "      <td>8.3</td>\n",
       "      <td>E</td>\n",
       "      <td>35.52</td>\n",
       "    </tr>\n",
       "    <tr>\n",
       "      <th>3</th>\n",
       "      <td>Wii Sports Resort</td>\n",
       "      <td>Wii</td>\n",
       "      <td>2009</td>\n",
       "      <td>Sports</td>\n",
       "      <td>15.61</td>\n",
       "      <td>10.93</td>\n",
       "      <td>3.28</td>\n",
       "      <td>2.95</td>\n",
       "      <td>80.0</td>\n",
       "      <td>8.0</td>\n",
       "      <td>E</td>\n",
       "      <td>32.77</td>\n",
       "    </tr>\n",
       "    <tr>\n",
       "      <th>4</th>\n",
       "      <td>Pokemon Red/Pokemon Blue</td>\n",
       "      <td>GB</td>\n",
       "      <td>1996</td>\n",
       "      <td>Role-Playing</td>\n",
       "      <td>11.27</td>\n",
       "      <td>8.89</td>\n",
       "      <td>10.22</td>\n",
       "      <td>1.00</td>\n",
       "      <td>NaN</td>\n",
       "      <td>NaN</td>\n",
       "      <td>tbd</td>\n",
       "      <td>31.38</td>\n",
       "    </tr>\n",
       "  </tbody>\n",
       "</table>\n",
       "</div>"
      ],
      "text/plain": [
       "                       name platform  year_of_release         genre  na_sales  \\\n",
       "0                Wii Sports      Wii             2006        Sports     41.36   \n",
       "1         Super Mario Bros.      NES             1985      Platform     29.08   \n",
       "2            Mario Kart Wii      Wii             2008        Racing     15.68   \n",
       "3         Wii Sports Resort      Wii             2009        Sports     15.61   \n",
       "4  Pokemon Red/Pokemon Blue       GB             1996  Role-Playing     11.27   \n",
       "\n",
       "   eu_sales  jp_sales  other_sales  critic_score  user_score rating  \\\n",
       "0     28.96      3.77         8.45          76.0         8.0      E   \n",
       "1      3.58      6.81         0.77           NaN         NaN    tbd   \n",
       "2     12.76      3.79         3.29          82.0         8.3      E   \n",
       "3     10.93      3.28         2.95          80.0         8.0      E   \n",
       "4      8.89     10.22         1.00           NaN         NaN    tbd   \n",
       "\n",
       "   total_sales  \n",
       "0        82.54  \n",
       "1        40.24  \n",
       "2        35.52  \n",
       "3        32.77  \n",
       "4        31.38  "
      ]
     },
     "execution_count": 15,
     "metadata": {},
     "output_type": "execute_result"
    }
   ],
   "source": [
    "df['total_sales'] = df['na_sales'] + df['eu_sales'] + df['jp_sales'] + df['other_sales']\n",
    "df.head()"
   ]
  },
  {
   "cell_type": "markdown",
   "metadata": {},
   "source": [
    "Проверим, как преобразился датафрейм после предобработки:"
   ]
  },
  {
   "cell_type": "code",
   "execution_count": 16,
   "metadata": {},
   "outputs": [
    {
     "name": "stdout",
     "output_type": "stream",
     "text": [
      "<class 'pandas.core.frame.DataFrame'>\n",
      "RangeIndex: 16443 entries, 0 to 16442\n",
      "Data columns (total 12 columns):\n",
      " #   Column           Non-Null Count  Dtype  \n",
      "---  ------           --------------  -----  \n",
      " 0   name             16443 non-null  object \n",
      " 1   platform         16443 non-null  object \n",
      " 2   year_of_release  16443 non-null  int64  \n",
      " 3   genre            16443 non-null  object \n",
      " 4   na_sales         16443 non-null  float64\n",
      " 5   eu_sales         16443 non-null  float64\n",
      " 6   jp_sales         16443 non-null  float64\n",
      " 7   other_sales      16443 non-null  float64\n",
      " 8   critic_score     7982 non-null   float64\n",
      " 9   user_score       7462 non-null   float64\n",
      " 10  rating           16443 non-null  object \n",
      " 11  total_sales      16443 non-null  float64\n",
      "dtypes: float64(7), int64(1), object(4)\n",
      "memory usage: 1.5+ MB\n"
     ]
    }
   ],
   "source": [
    "df.info()"
   ]
  },
  {
   "cell_type": "markdown",
   "metadata": {},
   "source": [
    "Типы данных в порядке."
   ]
  },
  {
   "cell_type": "code",
   "execution_count": 17,
   "metadata": {},
   "outputs": [
    {
     "data": {
      "image/png": "[encoded data removed]",
      "text/plain": [
       "<Figure size 1800x720 with 3 Axes>"
      ]
     },
     "metadata": {
      "needs_background": "light"
     },
     "output_type": "display_data"
    }
   ],
   "source": [
    "msno.bar(df)\n",
    "plt.show()"
   ]
  },
  {
   "cell_type": "markdown",
   "metadata": {},
   "source": [
    "Наглядно: пропуски остались только в оценках критиков и игроков. "
   ]
  },
  {
   "cell_type": "markdown",
   "metadata": {},
   "source": [
    "**Вывод:**\n",
    "\n",
    "Мы провели предобработку данных:\n",
    "\n",
    "* Названия столбцов приведены к нижнему регистру;\n",
    "* Удалены пропуски в столбцах *name*, *year_of_release*, *genre*;\n",
    "* Значения \"tbd\" в *user_score* изменены на NAN для преобразования типа данных столбца в float;\n",
    "* Значения NAN в *rating* изменены на \"tbd\" для категоризации в столбце и устранения пропущенных значений;\n",
    "* Типы данных датафрейма приведены в норму;\n",
    "* Устранены дубликаты;\n",
    "* Создан столбец *total_sales* - сумма продаж по всем регионам по продукту.\n",
    "\n",
    "[Вернуться к содержанию](#Содержание)"
   ]
  },
  {
   "cell_type": "markdown",
   "metadata": {},
   "source": [
    "<a id='Исследовательский-анализ-данных'></a>\n",
    "## Исследовательский анализ данных"
   ]
  },
  {
   "cell_type": "markdown",
   "metadata": {},
   "source": [
    "<a id='Выпуск_игр_по_годам'></a>\n",
    "Посмотрим сколько игр выпускалось в разные годы:"
   ]
  },
  {
   "cell_type": "code",
   "execution_count": 18,
   "metadata": {},
   "outputs": [
    {
     "data": {
      "text/html": [
       "<div>\n",
       "<style scoped>\n",
       "    .dataframe tbody tr th:only-of-type {\n",
       "        vertical-align: middle;\n",
       "    }\n",
       "\n",
       "    .dataframe tbody tr th {\n",
       "        vertical-align: top;\n",
       "    }\n",
       "\n",
       "    .dataframe thead th {\n",
       "        text-align: right;\n",
       "    }\n",
       "</style>\n",
       "<table border=\"1\" class=\"dataframe\">\n",
       "  <thead>\n",
       "    <tr style=\"text-align: right;\">\n",
       "      <th></th>\n",
       "      <th>num</th>\n",
       "      <th>part_all_games</th>\n",
       "    </tr>\n",
       "    <tr>\n",
       "      <th>year_of_release</th>\n",
       "      <th></th>\n",
       "      <th></th>\n",
       "    </tr>\n",
       "  </thead>\n",
       "  <tbody>\n",
       "    <tr>\n",
       "      <th>1980</th>\n",
       "      <td>9</td>\n",
       "      <td>0.05</td>\n",
       "    </tr>\n",
       "    <tr>\n",
       "      <th>1981</th>\n",
       "      <td>46</td>\n",
       "      <td>0.28</td>\n",
       "    </tr>\n",
       "    <tr>\n",
       "      <th>1982</th>\n",
       "      <td>36</td>\n",
       "      <td>0.22</td>\n",
       "    </tr>\n",
       "    <tr>\n",
       "      <th>1983</th>\n",
       "      <td>17</td>\n",
       "      <td>0.10</td>\n",
       "    </tr>\n",
       "    <tr>\n",
       "      <th>1984</th>\n",
       "      <td>14</td>\n",
       "      <td>0.09</td>\n",
       "    </tr>\n",
       "    <tr>\n",
       "      <th>1985</th>\n",
       "      <td>14</td>\n",
       "      <td>0.09</td>\n",
       "    </tr>\n",
       "    <tr>\n",
       "      <th>1986</th>\n",
       "      <td>21</td>\n",
       "      <td>0.13</td>\n",
       "    </tr>\n",
       "    <tr>\n",
       "      <th>1987</th>\n",
       "      <td>16</td>\n",
       "      <td>0.10</td>\n",
       "    </tr>\n",
       "    <tr>\n",
       "      <th>1988</th>\n",
       "      <td>15</td>\n",
       "      <td>0.09</td>\n",
       "    </tr>\n",
       "    <tr>\n",
       "      <th>1989</th>\n",
       "      <td>17</td>\n",
       "      <td>0.10</td>\n",
       "    </tr>\n",
       "    <tr>\n",
       "      <th>1990</th>\n",
       "      <td>16</td>\n",
       "      <td>0.10</td>\n",
       "    </tr>\n",
       "    <tr>\n",
       "      <th>1991</th>\n",
       "      <td>41</td>\n",
       "      <td>0.25</td>\n",
       "    </tr>\n",
       "    <tr>\n",
       "      <th>1992</th>\n",
       "      <td>43</td>\n",
       "      <td>0.26</td>\n",
       "    </tr>\n",
       "    <tr>\n",
       "      <th>1993</th>\n",
       "      <td>60</td>\n",
       "      <td>0.36</td>\n",
       "    </tr>\n",
       "    <tr>\n",
       "      <th>1994</th>\n",
       "      <td>121</td>\n",
       "      <td>0.74</td>\n",
       "    </tr>\n",
       "    <tr>\n",
       "      <th>1995</th>\n",
       "      <td>219</td>\n",
       "      <td>1.33</td>\n",
       "    </tr>\n",
       "    <tr>\n",
       "      <th>1996</th>\n",
       "      <td>263</td>\n",
       "      <td>1.60</td>\n",
       "    </tr>\n",
       "    <tr>\n",
       "      <th>1997</th>\n",
       "      <td>289</td>\n",
       "      <td>1.76</td>\n",
       "    </tr>\n",
       "    <tr>\n",
       "      <th>1998</th>\n",
       "      <td>379</td>\n",
       "      <td>2.30</td>\n",
       "    </tr>\n",
       "    <tr>\n",
       "      <th>1999</th>\n",
       "      <td>338</td>\n",
       "      <td>2.06</td>\n",
       "    </tr>\n",
       "    <tr>\n",
       "      <th>2000</th>\n",
       "      <td>350</td>\n",
       "      <td>2.13</td>\n",
       "    </tr>\n",
       "    <tr>\n",
       "      <th>2001</th>\n",
       "      <td>482</td>\n",
       "      <td>2.93</td>\n",
       "    </tr>\n",
       "    <tr>\n",
       "      <th>2002</th>\n",
       "      <td>829</td>\n",
       "      <td>5.04</td>\n",
       "    </tr>\n",
       "    <tr>\n",
       "      <th>2003</th>\n",
       "      <td>775</td>\n",
       "      <td>4.71</td>\n",
       "    </tr>\n",
       "    <tr>\n",
       "      <th>2004</th>\n",
       "      <td>762</td>\n",
       "      <td>4.63</td>\n",
       "    </tr>\n",
       "    <tr>\n",
       "      <th>2005</th>\n",
       "      <td>939</td>\n",
       "      <td>5.71</td>\n",
       "    </tr>\n",
       "    <tr>\n",
       "      <th>2006</th>\n",
       "      <td>1006</td>\n",
       "      <td>6.12</td>\n",
       "    </tr>\n",
       "    <tr>\n",
       "      <th>2007</th>\n",
       "      <td>1197</td>\n",
       "      <td>7.28</td>\n",
       "    </tr>\n",
       "    <tr>\n",
       "      <th>2008</th>\n",
       "      <td>1427</td>\n",
       "      <td>8.68</td>\n",
       "    </tr>\n",
       "    <tr>\n",
       "      <th>2009</th>\n",
       "      <td>1426</td>\n",
       "      <td>8.67</td>\n",
       "    </tr>\n",
       "    <tr>\n",
       "      <th>2010</th>\n",
       "      <td>1255</td>\n",
       "      <td>7.63</td>\n",
       "    </tr>\n",
       "    <tr>\n",
       "      <th>2011</th>\n",
       "      <td>1136</td>\n",
       "      <td>6.91</td>\n",
       "    </tr>\n",
       "    <tr>\n",
       "      <th>2012</th>\n",
       "      <td>652</td>\n",
       "      <td>3.97</td>\n",
       "    </tr>\n",
       "    <tr>\n",
       "      <th>2013</th>\n",
       "      <td>544</td>\n",
       "      <td>3.31</td>\n",
       "    </tr>\n",
       "    <tr>\n",
       "      <th>2014</th>\n",
       "      <td>581</td>\n",
       "      <td>3.53</td>\n",
       "    </tr>\n",
       "    <tr>\n",
       "      <th>2015</th>\n",
       "      <td>606</td>\n",
       "      <td>3.69</td>\n",
       "    </tr>\n",
       "    <tr>\n",
       "      <th>2016</th>\n",
       "      <td>502</td>\n",
       "      <td>3.05</td>\n",
       "    </tr>\n",
       "  </tbody>\n",
       "</table>\n",
       "</div>"
      ],
      "text/plain": [
       "                  num  part_all_games\n",
       "year_of_release                      \n",
       "1980                9            0.05\n",
       "1981               46            0.28\n",
       "1982               36            0.22\n",
       "1983               17            0.10\n",
       "1984               14            0.09\n",
       "1985               14            0.09\n",
       "1986               21            0.13\n",
       "1987               16            0.10\n",
       "1988               15            0.09\n",
       "1989               17            0.10\n",
       "1990               16            0.10\n",
       "1991               41            0.25\n",
       "1992               43            0.26\n",
       "1993               60            0.36\n",
       "1994              121            0.74\n",
       "1995              219            1.33\n",
       "1996              263            1.60\n",
       "1997              289            1.76\n",
       "1998              379            2.30\n",
       "1999              338            2.06\n",
       "2000              350            2.13\n",
       "2001              482            2.93\n",
       "2002              829            5.04\n",
       "2003              775            4.71\n",
       "2004              762            4.63\n",
       "2005              939            5.71\n",
       "2006             1006            6.12\n",
       "2007             1197            7.28\n",
       "2008             1427            8.68\n",
       "2009             1426            8.67\n",
       "2010             1255            7.63\n",
       "2011             1136            6.91\n",
       "2012              652            3.97\n",
       "2013              544            3.31\n",
       "2014              581            3.53\n",
       "2015              606            3.69\n",
       "2016              502            3.05"
      ]
     },
     "execution_count": 18,
     "metadata": {},
     "output_type": "execute_result"
    }
   ],
   "source": [
    "#формируем сводную таблицу: количество релизов по годам\n",
    "df_games_per_year = df.pivot_table(index='year_of_release', values='name', aggfunc='count')\n",
    "df_games_per_year = df_games_per_year.rename(columns={'name':'num'})\n",
    "#добавим столбец с долей в процентах от общего количества игр в нашем датасете\n",
    "df_games_per_year['part_all_games'] = (df_games_per_year['num']/df_games_per_year['num'].sum()*100).round(2)\n",
    "df_games_per_year"
   ]
  },
  {
   "cell_type": "code",
   "execution_count": 19,
   "metadata": {},
   "outputs": [
    {
     "data": {
      "image/png": "[encoded data removed]",
      "text/plain": [
       "<Figure size 1080x360 with 1 Axes>"
      ]
     },
     "metadata": {
      "needs_background": "light"
     },
     "output_type": "display_data"
    }
   ],
   "source": [
    "#построим график выпуска игр по годам\n",
    "df_games_per_year['num'].plot(kind='bar', figsize=(15,5))\n",
    "plt.title('Количество выпущенных игр за год')\n",
    "plt.ylabel('Количество игр')\n",
    "plt.xlabel('Год выпуска')\n",
    "plt.show()"
   ]
  },
  {
   "cell_type": "markdown",
   "metadata": {},
   "source": [
    "Видим правостороннее распределение с хвостом слева, пик количества выпущенных игр приходится на 2008-2009 года, рост количества игр начинается с 1994, а после 2011 количество заметно падает и держится практически равномерно.\n",
    "\n",
    "Рост в 1994 связан, на первый взгляд, с развитием индустрии и инвестиций в нее, распростанением ПК, консолей и других платформ, в 2012 количество релизов заметно снизилось из-за подорожания разработки и, возможно, смещению класса игр ближе к ААА, а также внедрения сервисного элемента в игры, благодаря которому игры приносят доход издателю в течение более продолжительного времени. \n",
    "\n",
    "Считаю, что данные по играм до 2000 года представляют для нас меньшую ценность, так как индустрия тогда была построена скорее на энтузиазме разработчиков, коммерческий успех часто не являлся самым важным фактором, кроме того, размах исследования в 36 лет - слишком большой, а аудитория, как и ее предпочтения, меняются практически каждые 10 лет. "
   ]
  },
  {
   "cell_type": "markdown",
   "metadata": {},
   "source": [
    "<a id='Продажи_по_платформам'></a>\n",
    "Выясним, как менялись продажи по платформам спустя года:"
   ]
  },
  {
   "cell_type": "code",
   "execution_count": 20,
   "metadata": {},
   "outputs": [
    {
     "data": {
      "text/html": [
       "<div>\n",
       "<style scoped>\n",
       "    .dataframe tbody tr th:only-of-type {\n",
       "        vertical-align: middle;\n",
       "    }\n",
       "\n",
       "    .dataframe tbody tr th {\n",
       "        vertical-align: top;\n",
       "    }\n",
       "\n",
       "    .dataframe thead th {\n",
       "        text-align: right;\n",
       "    }\n",
       "</style>\n",
       "<table border=\"1\" class=\"dataframe\">\n",
       "  <thead>\n",
       "    <tr style=\"text-align: right;\">\n",
       "      <th></th>\n",
       "      <th>platform</th>\n",
       "      <th>total_sales</th>\n",
       "    </tr>\n",
       "  </thead>\n",
       "  <tbody>\n",
       "    <tr>\n",
       "      <th>0</th>\n",
       "      <td>PS2</td>\n",
       "      <td>1233.56</td>\n",
       "    </tr>\n",
       "    <tr>\n",
       "      <th>1</th>\n",
       "      <td>X360</td>\n",
       "      <td>961.24</td>\n",
       "    </tr>\n",
       "    <tr>\n",
       "      <th>2</th>\n",
       "      <td>PS3</td>\n",
       "      <td>931.33</td>\n",
       "    </tr>\n",
       "    <tr>\n",
       "      <th>3</th>\n",
       "      <td>Wii</td>\n",
       "      <td>891.18</td>\n",
       "    </tr>\n",
       "    <tr>\n",
       "      <th>4</th>\n",
       "      <td>DS</td>\n",
       "      <td>802.78</td>\n",
       "    </tr>\n",
       "    <tr>\n",
       "      <th>5</th>\n",
       "      <td>PS</td>\n",
       "      <td>727.58</td>\n",
       "    </tr>\n",
       "    <tr>\n",
       "      <th>6</th>\n",
       "      <td>PS4</td>\n",
       "      <td>314.14</td>\n",
       "    </tr>\n",
       "    <tr>\n",
       "      <th>7</th>\n",
       "      <td>GBA</td>\n",
       "      <td>312.88</td>\n",
       "    </tr>\n",
       "    <tr>\n",
       "      <th>8</th>\n",
       "      <td>PSP</td>\n",
       "      <td>289.53</td>\n",
       "    </tr>\n",
       "    <tr>\n",
       "      <th>9</th>\n",
       "      <td>3DS</td>\n",
       "      <td>257.81</td>\n",
       "    </tr>\n",
       "    <tr>\n",
       "      <th>10</th>\n",
       "      <td>PC</td>\n",
       "      <td>255.76</td>\n",
       "    </tr>\n",
       "    <tr>\n",
       "      <th>11</th>\n",
       "      <td>GB</td>\n",
       "      <td>254.43</td>\n",
       "    </tr>\n",
       "    <tr>\n",
       "      <th>12</th>\n",
       "      <td>XB</td>\n",
       "      <td>251.57</td>\n",
       "    </tr>\n",
       "    <tr>\n",
       "      <th>13</th>\n",
       "      <td>NES</td>\n",
       "      <td>251.05</td>\n",
       "    </tr>\n",
       "    <tr>\n",
       "      <th>14</th>\n",
       "      <td>N64</td>\n",
       "      <td>218.01</td>\n",
       "    </tr>\n",
       "    <tr>\n",
       "      <th>15</th>\n",
       "      <td>SNES</td>\n",
       "      <td>200.04</td>\n",
       "    </tr>\n",
       "    <tr>\n",
       "      <th>16</th>\n",
       "      <td>GC</td>\n",
       "      <td>196.73</td>\n",
       "    </tr>\n",
       "    <tr>\n",
       "      <th>17</th>\n",
       "      <td>XOne</td>\n",
       "      <td>159.32</td>\n",
       "    </tr>\n",
       "    <tr>\n",
       "      <th>18</th>\n",
       "      <td>2600</td>\n",
       "      <td>86.48</td>\n",
       "    </tr>\n",
       "    <tr>\n",
       "      <th>19</th>\n",
       "      <td>WiiU</td>\n",
       "      <td>82.19</td>\n",
       "    </tr>\n",
       "    <tr>\n",
       "      <th>20</th>\n",
       "      <td>PSV</td>\n",
       "      <td>53.81</td>\n",
       "    </tr>\n",
       "    <tr>\n",
       "      <th>21</th>\n",
       "      <td>SAT</td>\n",
       "      <td>33.59</td>\n",
       "    </tr>\n",
       "    <tr>\n",
       "      <th>22</th>\n",
       "      <td>GEN</td>\n",
       "      <td>28.35</td>\n",
       "    </tr>\n",
       "    <tr>\n",
       "      <th>23</th>\n",
       "      <td>DC</td>\n",
       "      <td>15.95</td>\n",
       "    </tr>\n",
       "    <tr>\n",
       "      <th>24</th>\n",
       "      <td>SCD</td>\n",
       "      <td>1.86</td>\n",
       "    </tr>\n",
       "    <tr>\n",
       "      <th>25</th>\n",
       "      <td>NG</td>\n",
       "      <td>1.44</td>\n",
       "    </tr>\n",
       "    <tr>\n",
       "      <th>26</th>\n",
       "      <td>WS</td>\n",
       "      <td>1.42</td>\n",
       "    </tr>\n",
       "    <tr>\n",
       "      <th>27</th>\n",
       "      <td>TG16</td>\n",
       "      <td>0.16</td>\n",
       "    </tr>\n",
       "    <tr>\n",
       "      <th>28</th>\n",
       "      <td>3DO</td>\n",
       "      <td>0.10</td>\n",
       "    </tr>\n",
       "    <tr>\n",
       "      <th>29</th>\n",
       "      <td>GG</td>\n",
       "      <td>0.04</td>\n",
       "    </tr>\n",
       "    <tr>\n",
       "      <th>30</th>\n",
       "      <td>PCFX</td>\n",
       "      <td>0.03</td>\n",
       "    </tr>\n",
       "  </tbody>\n",
       "</table>\n",
       "</div>"
      ],
      "text/plain": [
       "   platform  total_sales\n",
       "0       PS2      1233.56\n",
       "1      X360       961.24\n",
       "2       PS3       931.33\n",
       "3       Wii       891.18\n",
       "4        DS       802.78\n",
       "5        PS       727.58\n",
       "6       PS4       314.14\n",
       "7       GBA       312.88\n",
       "8       PSP       289.53\n",
       "9       3DS       257.81\n",
       "10       PC       255.76\n",
       "11       GB       254.43\n",
       "12       XB       251.57\n",
       "13      NES       251.05\n",
       "14      N64       218.01\n",
       "15     SNES       200.04\n",
       "16       GC       196.73\n",
       "17     XOne       159.32\n",
       "18     2600        86.48\n",
       "19     WiiU        82.19\n",
       "20      PSV        53.81\n",
       "21      SAT        33.59\n",
       "22      GEN        28.35\n",
       "23       DC        15.95\n",
       "24      SCD         1.86\n",
       "25       NG         1.44\n",
       "26       WS         1.42\n",
       "27     TG16         0.16\n",
       "28      3DO         0.10\n",
       "29       GG         0.04\n",
       "30     PCFX         0.03"
      ]
     },
     "execution_count": 20,
     "metadata": {},
     "output_type": "execute_result"
    }
   ],
   "source": [
    "#выявим платформы с наибольшими суммарными продажами\n",
    "df_platforms_total_sales = df.groupby('platform')['total_sales'].sum().sort_values(ascending=False).reset_index()\n",
    "df_platforms_total_sales"
   ]
  },
  {
   "cell_type": "markdown",
   "metadata": {},
   "source": [
    "Возьмем первые 5 платформ по суммарным продажам и построим распределение по годам:"
   ]
  },
  {
   "cell_type": "code",
   "execution_count": 21,
   "metadata": {},
   "outputs": [
    {
     "data": {
      "text/plain": [
       "['PS2', 'X360', 'PS3', 'Wii', 'DS']"
      ]
     },
     "execution_count": 21,
     "metadata": {},
     "output_type": "execute_result"
    }
   ],
   "source": [
    "#сделаем срез необходимых платформ\n",
    "plat_list = df_platforms_total_sales.loc[0:4, 'platform'].tolist()\n",
    "plat_list"
   ]
  },
  {
   "cell_type": "code",
   "execution_count": 22,
   "metadata": {},
   "outputs": [
    {
     "data": {
      "image/png": "[encoded data removed]",
      "text/plain": [
       "<Figure size 1080x648 with 1 Axes>"
      ]
     },
     "metadata": {
      "needs_background": "light"
     },
     "output_type": "display_data"
    }
   ],
   "source": [
    "#отфильтруем датафрейм по платформам\n",
    "df_plat_filtered = df[df['platform'].isin(plat_list)]\n",
    "#создаем сводную таблицу на основе этих платформ для графика\n",
    "df_plat_games_year = df_plat_filtered.pivot_table(index='year_of_release', columns='platform', values='total_sales',\\\n",
    "                                                  aggfunc='sum')\n",
    "#строим график распределения продаж по годам\n",
    "df_plat_games_year.plot(style='-o', grid=True, figsize=(15,9), alpha=0.7)\n",
    "plt.xlim(1999, 2017) #устанавливаем границы для лучшей читаемости\n",
    "plt.title('График изменения количества продаж по годам для платформ с наибольшими суммарными продажами')\n",
    "plt.ylabel('Количество продаж')\n",
    "plt.xlabel('Год')\n",
    "plt.legend(loc='upper left')\n",
    "plt.show()"
   ]
  },
  {
   "cell_type": "markdown",
   "metadata": {},
   "source": [
    "По графику видно, что \"срок жизни\" успешной платформы составляет около 10 лет."
   ]
  },
  {
   "cell_type": "markdown",
   "metadata": {},
   "source": [
    "<a id='Определение_актуального_периода'></a>\n",
    "Определим данные за какой период мы можем считать актуальными для прогноза на 2017 год:\n",
    "\n",
    "Исходя из вывода по количеству выпущенных игр на платформе и по графику популярности платформ, самый логичный вариант - это взять период в 10 лет, 2006-2016, однако, для точности исследования в текущих реалиях возьмем период в 3 года: 2013-2016, таким образом, мы можем быть уверены, что:\n",
    "\n",
    "* Самые популярные платформы входят в наш \"актуальный период\";\n",
    "* Учитывается современная аудитория и ее предпочтения.\n",
    "\n",
    "**Далее мы будем использовать только актуальный для нас период: 2013-2016** "
   ]
  },
  {
   "cell_type": "code",
   "execution_count": 23,
   "metadata": {},
   "outputs": [],
   "source": [
    "#объявим переменную с отсортированными значениями по году\n",
    "df_actual = df[df['year_of_release']>=2013]"
   ]
  },
  {
   "cell_type": "code",
   "execution_count": 24,
   "metadata": {},
   "outputs": [
    {
     "data": {
      "image/png": "[encoded data removed]",
      "text/plain": [
       "<Figure size 1080x648 with 1 Axes>"
      ]
     },
     "metadata": {
      "needs_background": "light"
     },
     "output_type": "display_data"
    }
   ],
   "source": [
    "#выведем график по платформам за выбранный период\n",
    "df_plat_year_filtered = df_actual.pivot_table(index='year_of_release', columns='platform', values='total_sales', aggfunc='sum')\n",
    "df_plat_year_filtered.plot(style='-o', grid=True, figsize=(15,9), alpha=0.7)\n",
    "plt.xlim(2004, 2017) #устанавливаем границы для лучшей читаемости\n",
    "plt.title('График изменения количества продаж за актуальный период для платформ')\n",
    "plt.ylabel('Количество продаж')\n",
    "plt.xlabel('Год')\n",
    "plt.legend(loc='upper left')\n",
    "plt.show()"
   ]
  },
  {
   "cell_type": "markdown",
   "metadata": {},
   "source": [
    "На графике представлены продажи для каждой из платформ, которая соответствует нашему актуальному периоду. "
   ]
  },
  {
   "cell_type": "markdown",
   "metadata": {},
   "source": [
    "<a id='Потенциально_прибыльные_платформы'></a>\n",
    "Определим потенциально прибыльные платформы."
   ]
  },
  {
   "cell_type": "markdown",
   "metadata": {},
   "source": [
    "Для этого обратимся к нашему графику изменения количества продаж по годам для платформ за актуальный период. Можно заметить, что есть только 3 высходящих платформы: PC, PS4 и Xbox One, в их пользу говорит несколько факторов:\n",
    "\n",
    "* Ранее мы выявили средний \"срок жизни\" платформы - 10 лет, Xbox One и PS4 были запущены в 2013 году, в связи с чем их пик еще не пройден - можно ожидать дальнейшего увеличения продаж на этих платформах;\n",
    "* PC на протяжении многих лет является стабильной платформой для игр, количество продаж которых на ней будет только расти;\n",
    "* Количество продаж растет с 2013 по текущую дату исследования. "
   ]
  },
  {
   "cell_type": "markdown",
   "metadata": {},
   "source": [
    "<a id='Бокс-плот_мировых_продаж_по_платформам'></a>\n",
    "Посмотрим на разброс значений мировых продаж по платформам за актуальный для нас период:"
   ]
  },
  {
   "cell_type": "code",
   "execution_count": 25,
   "metadata": {},
   "outputs": [
    {
     "data": {
      "image/png": "[encoded data removed]",
      "text/plain": [
       "<Figure size 1080x648 with 1 Axes>"
      ]
     },
     "metadata": {
      "needs_background": "light"
     },
     "output_type": "display_data"
    }
   ],
   "source": [
    "#строим боксплот\n",
    "df_actual.boxplot(column='total_sales', by='platform', figsize=(15,9))\n",
    "plt.ylim(0, 3) #ограничим Y для лучшей читаемости\n",
    "plt.title('Бокс-плот мировых продаж по платформам')\n",
    "plt.ylabel('Сумма проданных копий игры, млн.')\n",
    "plt.xlabel('Платформа')\n",
    "plt.show()"
   ]
  },
  {
   "cell_type": "markdown",
   "metadata": {},
   "source": [
    "Благодаря бокс-плоту мы можем наглядно отметить распределение продаж по платформам:\n",
    "\n",
    "* В абсолютном выражении по продажам лидерами являются: *PS3*, *PS4*, *X360* и *XOne* - их медиана продаж находится около 250 тыс., а верхний предел разброса около 1.75 млн. копий. \n",
    "* *DC* имеет крайне низкие продажи - ранее мы могли это заметить по графику продаж, есть смысл исключить платформу из анализа; \n",
    "* У каждой платформы, за исключением *DC*, есть \"тайтлы\", которые были крайне успешными относительно основной массы игр и сумма проданных копий которых выходит за верхний предел;\n",
    "* Несмотря на рост продаж в последние годы, *PC* далек от лидеров, что может быть связано с большим количеством \"тайтлов\" на этой платформе, нацеленных на узкую аудиторию."
   ]
  },
  {
   "cell_type": "markdown",
   "metadata": {},
   "source": [
    "<a id='Корреляция_оценок_и_продаж'></a>\n",
    "Рассмотрим, как влияют отзывы и оценки на продажи игр."
   ]
  },
  {
   "cell_type": "markdown",
   "metadata": {},
   "source": [
    "Для рассчетов возьмем *PS4*, как лидирующую платформу на момент исследования. "
   ]
  },
  {
   "cell_type": "code",
   "execution_count": 26,
   "metadata": {},
   "outputs": [
    {
     "data": {
      "text/html": [
       "<div>\n",
       "<style scoped>\n",
       "    .dataframe tbody tr th:only-of-type {\n",
       "        vertical-align: middle;\n",
       "    }\n",
       "\n",
       "    .dataframe tbody tr th {\n",
       "        vertical-align: top;\n",
       "    }\n",
       "\n",
       "    .dataframe thead th {\n",
       "        text-align: right;\n",
       "    }\n",
       "</style>\n",
       "<table border=\"1\" class=\"dataframe\">\n",
       "  <thead>\n",
       "    <tr style=\"text-align: right;\">\n",
       "      <th></th>\n",
       "      <th>total_sales</th>\n",
       "      <th>critic_score</th>\n",
       "      <th>user_score</th>\n",
       "    </tr>\n",
       "  </thead>\n",
       "  <tbody>\n",
       "    <tr>\n",
       "      <th>0</th>\n",
       "      <td>12.62</td>\n",
       "      <td>97.0</td>\n",
       "      <td>8.3</td>\n",
       "    </tr>\n",
       "    <tr>\n",
       "      <th>1</th>\n",
       "      <td>8.58</td>\n",
       "      <td>82.0</td>\n",
       "      <td>4.3</td>\n",
       "    </tr>\n",
       "    <tr>\n",
       "      <th>2</th>\n",
       "      <td>7.66</td>\n",
       "      <td>83.0</td>\n",
       "      <td>5.7</td>\n",
       "    </tr>\n",
       "    <tr>\n",
       "      <th>3</th>\n",
       "      <td>7.60</td>\n",
       "      <td>85.0</td>\n",
       "      <td>5.0</td>\n",
       "    </tr>\n",
       "    <tr>\n",
       "      <th>4</th>\n",
       "      <td>7.17</td>\n",
       "      <td>87.0</td>\n",
       "      <td>6.5</td>\n",
       "    </tr>\n",
       "  </tbody>\n",
       "</table>\n",
       "</div>"
      ],
      "text/plain": [
       "   total_sales  critic_score  user_score\n",
       "0        12.62          97.0         8.3\n",
       "1         8.58          82.0         4.3\n",
       "2         7.66          83.0         5.7\n",
       "3         7.60          85.0         5.0\n",
       "4         7.17          87.0         6.5"
      ]
     },
     "execution_count": 26,
     "metadata": {},
     "output_type": "execute_result"
    }
   ],
   "source": [
    "#создадим отдельный датафрейм для PS4: продажи и оценки\n",
    "df_ps4 = df_actual[df_actual['platform']=='PS4'][['total_sales', 'critic_score', 'user_score']].dropna().reset_index(drop=True)\n",
    "df_ps4.head()"
   ]
  },
  {
   "cell_type": "code",
   "execution_count": 27,
   "metadata": {},
   "outputs": [
    {
     "data": {
      "text/html": [
       "<div>\n",
       "<style scoped>\n",
       "    .dataframe tbody tr th:only-of-type {\n",
       "        vertical-align: middle;\n",
       "    }\n",
       "\n",
       "    .dataframe tbody tr th {\n",
       "        vertical-align: top;\n",
       "    }\n",
       "\n",
       "    .dataframe thead th {\n",
       "        text-align: right;\n",
       "    }\n",
       "</style>\n",
       "<table border=\"1\" class=\"dataframe\">\n",
       "  <thead>\n",
       "    <tr style=\"text-align: right;\">\n",
       "      <th></th>\n",
       "      <th>total_sales</th>\n",
       "      <th>critic_score</th>\n",
       "      <th>user_score</th>\n",
       "    </tr>\n",
       "  </thead>\n",
       "  <tbody>\n",
       "    <tr>\n",
       "      <th>total_sales</th>\n",
       "      <td>1.000000</td>\n",
       "      <td>0.405895</td>\n",
       "      <td>-0.033625</td>\n",
       "    </tr>\n",
       "    <tr>\n",
       "      <th>critic_score</th>\n",
       "      <td>0.405895</td>\n",
       "      <td>1.000000</td>\n",
       "      <td>0.557654</td>\n",
       "    </tr>\n",
       "    <tr>\n",
       "      <th>user_score</th>\n",
       "      <td>-0.033625</td>\n",
       "      <td>0.557654</td>\n",
       "      <td>1.000000</td>\n",
       "    </tr>\n",
       "  </tbody>\n",
       "</table>\n",
       "</div>"
      ],
      "text/plain": [
       "              total_sales  critic_score  user_score\n",
       "total_sales      1.000000      0.405895   -0.033625\n",
       "critic_score     0.405895      1.000000    0.557654\n",
       "user_score      -0.033625      0.557654    1.000000"
      ]
     },
     "execution_count": 27,
     "metadata": {},
     "output_type": "execute_result"
    }
   ],
   "source": [
    "#посчитаем корреляцию\n",
    "df_ps4.corr()"
   ]
  },
  {
   "cell_type": "markdown",
   "metadata": {},
   "source": [
    "Судя по коэффициенту корреляции:\n",
    "\n",
    "* Оценка критиков имеет слабое влияние на продажи;\n",
    "* Оценка пользователей не имеет влияния на продажи.\n",
    "\n",
    "Визуализируем зависимость для наглядности: "
   ]
  },
  {
   "cell_type": "code",
   "execution_count": 28,
   "metadata": {},
   "outputs": [
    {
     "data": {
      "image/png": "[encoded data removed]",
      "text/plain": [
       "<Figure size 504x360 with 1 Axes>"
      ]
     },
     "metadata": {
      "needs_background": "light"
     },
     "output_type": "display_data"
    }
   ],
   "source": [
    "#построим график рассеяния по оценке критиков\n",
    "df_ps4.plot(kind='scatter', x='critic_score', y='total_sales', figsize=(7, 5))\n",
    "plt.title('Зависимость продаж и оценок критиков по платформе \"PS4\"')\n",
    "plt.ylabel('Продажи')\n",
    "plt.xlabel('Оценка критиков')\n",
    "plt.show()"
   ]
  },
  {
   "cell_type": "code",
   "execution_count": 29,
   "metadata": {},
   "outputs": [
    {
     "data": {
      "image/png": "[encoded data removed]",
      "text/plain": [
       "<Figure size 504x360 with 1 Axes>"
      ]
     },
     "metadata": {
      "needs_background": "light"
     },
     "output_type": "display_data"
    }
   ],
   "source": [
    "#построим график рассеяния по оценке пользователей\n",
    "df_ps4.plot(kind='scatter', x='user_score', y='total_sales', figsize=(7, 5))\n",
    "plt.title('Зависимость продаж и оценок пользователей по платформе \"PS4\"')\n",
    "plt.ylabel('Продажи')\n",
    "plt.xlabel('Оценка пользователей')\n",
    "plt.show()"
   ]
  },
  {
   "cell_type": "markdown",
   "metadata": {},
   "source": [
    "Соотнесем полученные выводы с корреляцией по другим платформам:"
   ]
  },
  {
   "cell_type": "code",
   "execution_count": 30,
   "metadata": {},
   "outputs": [
    {
     "data": {
      "text/plain": [
       "['PS3', 'X360', '3DS', 'XOne', 'WiiU', 'Wii', 'PC', 'PSV', 'DS', 'PSP']"
      ]
     },
     "execution_count": 30,
     "metadata": {},
     "output_type": "execute_result"
    }
   ],
   "source": [
    "#создаем список нужных платформ\n",
    "plat_list = df_actual['platform'].unique().tolist()\n",
    "if 'PS4' in plat_list:\n",
    "    plat_list.remove('PS4')\n",
    "plat_list"
   ]
  },
  {
   "cell_type": "code",
   "execution_count": 31,
   "metadata": {},
   "outputs": [
    {
     "name": "stderr",
     "output_type": "stream",
     "text": [
      "/opt/conda/lib/python3.9/site-packages/numpy/lib/function_base.py:2683: RuntimeWarning: Degrees of freedom <= 0 for slice\n",
      "  c = cov(x, y, rowvar, dtype=dtype)\n",
      "/opt/conda/lib/python3.9/site-packages/numpy/lib/function_base.py:2542: RuntimeWarning: divide by zero encountered in true_divide\n",
      "  c *= np.true_divide(1, fact)\n"
     ]
    },
    {
     "data": {
      "text/html": [
       "<div>\n",
       "<style scoped>\n",
       "    .dataframe tbody tr th:only-of-type {\n",
       "        vertical-align: middle;\n",
       "    }\n",
       "\n",
       "    .dataframe tbody tr th {\n",
       "        vertical-align: top;\n",
       "    }\n",
       "\n",
       "    .dataframe thead th {\n",
       "        text-align: right;\n",
       "    }\n",
       "</style>\n",
       "<table border=\"1\" class=\"dataframe\">\n",
       "  <thead>\n",
       "    <tr style=\"text-align: right;\">\n",
       "      <th></th>\n",
       "      <th>platform</th>\n",
       "      <th>critic_corr</th>\n",
       "      <th>user_corr</th>\n",
       "    </tr>\n",
       "  </thead>\n",
       "  <tbody>\n",
       "    <tr>\n",
       "      <th>3</th>\n",
       "      <td>XOne</td>\n",
       "      <td>0.410422</td>\n",
       "      <td>-0.094003</td>\n",
       "    </tr>\n",
       "    <tr>\n",
       "      <th>4</th>\n",
       "      <td>WiiU</td>\n",
       "      <td>0.379504</td>\n",
       "      <td>0.408692</td>\n",
       "    </tr>\n",
       "    <tr>\n",
       "      <th>1</th>\n",
       "      <td>X360</td>\n",
       "      <td>0.350345</td>\n",
       "      <td>-0.006238</td>\n",
       "    </tr>\n",
       "    <tr>\n",
       "      <th>2</th>\n",
       "      <td>3DS</td>\n",
       "      <td>0.339235</td>\n",
       "      <td>0.272990</td>\n",
       "    </tr>\n",
       "    <tr>\n",
       "      <th>0</th>\n",
       "      <td>PS3</td>\n",
       "      <td>0.333807</td>\n",
       "      <td>0.022691</td>\n",
       "    </tr>\n",
       "    <tr>\n",
       "      <th>7</th>\n",
       "      <td>PSV</td>\n",
       "      <td>0.254100</td>\n",
       "      <td>0.265478</td>\n",
       "    </tr>\n",
       "    <tr>\n",
       "      <th>6</th>\n",
       "      <td>PC</td>\n",
       "      <td>0.194124</td>\n",
       "      <td>-0.109235</td>\n",
       "    </tr>\n",
       "    <tr>\n",
       "      <th>5</th>\n",
       "      <td>Wii</td>\n",
       "      <td>NaN</td>\n",
       "      <td>NaN</td>\n",
       "    </tr>\n",
       "    <tr>\n",
       "      <th>8</th>\n",
       "      <td>DS</td>\n",
       "      <td>NaN</td>\n",
       "      <td>NaN</td>\n",
       "    </tr>\n",
       "    <tr>\n",
       "      <th>9</th>\n",
       "      <td>PSP</td>\n",
       "      <td>NaN</td>\n",
       "      <td>NaN</td>\n",
       "    </tr>\n",
       "  </tbody>\n",
       "</table>\n",
       "</div>"
      ],
      "text/plain": [
       "  platform  critic_corr  user_corr\n",
       "3     XOne     0.410422  -0.094003\n",
       "4     WiiU     0.379504   0.408692\n",
       "1     X360     0.350345  -0.006238\n",
       "2      3DS     0.339235   0.272990\n",
       "0      PS3     0.333807   0.022691\n",
       "7      PSV     0.254100   0.265478\n",
       "6       PC     0.194124  -0.109235\n",
       "5      Wii          NaN        NaN\n",
       "8       DS          NaN        NaN\n",
       "9      PSP          NaN        NaN"
      ]
     },
     "metadata": {},
     "output_type": "display_data"
    }
   ],
   "source": [
    "#выведем коэффициент корреляции продаж и оценок для каждой платформы за актуальный период таблицей\n",
    "critic_corrs = []\n",
    "user_corrs = []\n",
    "for i in plat_list:\n",
    "    #берем необходимы нам данные по каждой платформе из списка\n",
    "    df_corr = df_actual[df_actual['platform'] == i][['total_sales', 'critic_score', 'user_score']]\\\n",
    "    .dropna().reset_index(drop=True)\n",
    "    #вычисляем значения корреляции\n",
    "    critic_corr = df_corr['total_sales'].corr(df_corr['critic_score'])\n",
    "    user_corr = df_corr['total_sales'].corr(df_corr['user_score'])\n",
    "    #записываем их в созданные списки\n",
    "    critic_corrs.append(critic_corr)\n",
    "    user_corrs.append(user_corr)\n",
    "#формируем дф с полученными значениями\n",
    "df_corrs = pd.DataFrame({'platform': plat_list, 'critic_corr': critic_corrs, 'user_corr': user_corrs})\n",
    "display(df_corrs.sort_values(by='critic_corr', ascending=False))"
   ]
  },
  {
   "cell_type": "markdown",
   "metadata": {},
   "source": [
    "Отметим следующее по таблице:\n",
    "\n",
    "* Корреляция оценок и продаж у *XOne*, *X360* и *PS3* схожа с *PS4*;\n",
    "* *Wii*, *DS*, *PSP* не имеют корреляции в таблице, что может быть связано с низкой популярностью этих платформ в последние годы и отсутствием оценок;\n",
    "* *3DS*, *PSV*, *WiiU* имеют одинаковое влияние на продажи как от критиков, так и от пользователей;\n",
    "* У *PC* самая слабая зависимость продаж от оценок среди всех платформ."
   ]
  },
  {
   "cell_type": "markdown",
   "metadata": {},
   "source": [
    "<a id='Распределение_игр_по_жанрам'></a>\n",
    "Обратим внимание на распределение игр по жанрам. "
   ]
  },
  {
   "cell_type": "code",
   "execution_count": 32,
   "metadata": {},
   "outputs": [
    {
     "data": {
      "text/html": [
       "<div>\n",
       "<style scoped>\n",
       "    .dataframe tbody tr th:only-of-type {\n",
       "        vertical-align: middle;\n",
       "    }\n",
       "\n",
       "    .dataframe tbody tr th {\n",
       "        vertical-align: top;\n",
       "    }\n",
       "\n",
       "    .dataframe thead th {\n",
       "        text-align: right;\n",
       "    }\n",
       "</style>\n",
       "<table border=\"1\" class=\"dataframe\">\n",
       "  <thead>\n",
       "    <tr style=\"text-align: right;\">\n",
       "      <th></th>\n",
       "      <th>genre</th>\n",
       "      <th>num</th>\n",
       "    </tr>\n",
       "  </thead>\n",
       "  <tbody>\n",
       "    <tr>\n",
       "      <th>0</th>\n",
       "      <td>Action</td>\n",
       "      <td>766</td>\n",
       "    </tr>\n",
       "    <tr>\n",
       "      <th>7</th>\n",
       "      <td>Role-Playing</td>\n",
       "      <td>292</td>\n",
       "    </tr>\n",
       "    <tr>\n",
       "      <th>1</th>\n",
       "      <td>Adventure</td>\n",
       "      <td>245</td>\n",
       "    </tr>\n",
       "    <tr>\n",
       "      <th>10</th>\n",
       "      <td>Sports</td>\n",
       "      <td>214</td>\n",
       "    </tr>\n",
       "    <tr>\n",
       "      <th>8</th>\n",
       "      <td>Shooter</td>\n",
       "      <td>187</td>\n",
       "    </tr>\n",
       "    <tr>\n",
       "      <th>3</th>\n",
       "      <td>Misc</td>\n",
       "      <td>155</td>\n",
       "    </tr>\n",
       "    <tr>\n",
       "      <th>6</th>\n",
       "      <td>Racing</td>\n",
       "      <td>85</td>\n",
       "    </tr>\n",
       "    <tr>\n",
       "      <th>2</th>\n",
       "      <td>Fighting</td>\n",
       "      <td>80</td>\n",
       "    </tr>\n",
       "    <tr>\n",
       "      <th>4</th>\n",
       "      <td>Platform</td>\n",
       "      <td>74</td>\n",
       "    </tr>\n",
       "    <tr>\n",
       "      <th>9</th>\n",
       "      <td>Simulation</td>\n",
       "      <td>62</td>\n",
       "    </tr>\n",
       "    <tr>\n",
       "      <th>11</th>\n",
       "      <td>Strategy</td>\n",
       "      <td>56</td>\n",
       "    </tr>\n",
       "    <tr>\n",
       "      <th>5</th>\n",
       "      <td>Puzzle</td>\n",
       "      <td>17</td>\n",
       "    </tr>\n",
       "  </tbody>\n",
       "</table>\n",
       "</div>"
      ],
      "text/plain": [
       "           genre  num\n",
       "0         Action  766\n",
       "7   Role-Playing  292\n",
       "1      Adventure  245\n",
       "10        Sports  214\n",
       "8        Shooter  187\n",
       "3           Misc  155\n",
       "6         Racing   85\n",
       "2       Fighting   80\n",
       "4       Platform   74\n",
       "9     Simulation   62\n",
       "11      Strategy   56\n",
       "5         Puzzle   17"
      ]
     },
     "metadata": {},
     "output_type": "display_data"
    }
   ],
   "source": [
    "#создадим дф с количеством игр на каждый жанр\n",
    "df_genres = df_actual.groupby('genre')['name'].count().reset_index(name='num')\n",
    "display(df_genres.sort_values(by='num', ascending=False))"
   ]
  },
  {
   "cell_type": "code",
   "execution_count": 33,
   "metadata": {},
   "outputs": [
    {
     "data": {
      "image/png": "[encoded data removed]",
      "text/plain": [
       "<Figure size 1080x360 with 1 Axes>"
      ]
     },
     "metadata": {
      "needs_background": "light"
     },
     "output_type": "display_data"
    }
   ],
   "source": [
    "#визуализируем количество игр на жанр\n",
    "ax = df_genres.plot(kind='barh', y='num', x='genre', grid=True, figsize=(15,5)) #основной график на оси\n",
    "plt.title('Количество игр по жанрам')\n",
    "plt.ylabel('Жанр')\n",
    "plt.xlabel('Количество игр')\n",
    "#добавим среднее и медиану на график\n",
    "df_genres_median = df_genres['num'].median()\n",
    "df_genres_mean = df_genres['num'].mean()\n",
    "#добавляем вертикальные линии на ось\n",
    "plt.axvline(df_genres_median, color='r', linestyle='--', label=f'Медиана: {df_genres_median}')\n",
    "plt.axvline(df_genres_mean, color='g', linestyle='-', label=f'Среднее: {df_genres_mean:.1f}')\n",
    "plt.legend()\n",
    "plt.show()"
   ]
  },
  {
   "cell_type": "markdown",
   "metadata": {},
   "source": [
    "Судя по полученным результатам и графику:\n",
    "\n",
    "* Жанрами-лидерами по количеству выпущенных игр являются: *Action* (у которого абсолютное преимущество по рассматриваемому показателю), *Role-Playing*, *Adventure*, *Sports* ;\n",
    "* Жанры, представленные сравнительно низким количеством игр: *Racing*, *Fighting*, *Platform*, *Simulation*, *Strategy*, *Puzzle*;\n",
    "* Жанры, которые располагаются посередине - *Shooter*, *Misc* (стоит отметить, что в нашем случае *Misc* - это обозначение для жанров, которые не вошли в остальные группы)."
   ]
  },
  {
   "cell_type": "markdown",
   "metadata": {},
   "source": [
    "Посмотрим на количество продаж по жанрам. "
   ]
  },
  {
   "cell_type": "code",
   "execution_count": 34,
   "metadata": {},
   "outputs": [
    {
     "data": {
      "text/html": [
       "<div>\n",
       "<style scoped>\n",
       "    .dataframe tbody tr th:only-of-type {\n",
       "        vertical-align: middle;\n",
       "    }\n",
       "\n",
       "    .dataframe tbody tr th {\n",
       "        vertical-align: top;\n",
       "    }\n",
       "\n",
       "    .dataframe thead th {\n",
       "        text-align: right;\n",
       "    }\n",
       "</style>\n",
       "<table border=\"1\" class=\"dataframe\">\n",
       "  <thead>\n",
       "    <tr style=\"text-align: right;\">\n",
       "      <th></th>\n",
       "      <th>genre</th>\n",
       "      <th>sum_sales</th>\n",
       "    </tr>\n",
       "  </thead>\n",
       "  <tbody>\n",
       "    <tr>\n",
       "      <th>0</th>\n",
       "      <td>Action</td>\n",
       "      <td>321.87</td>\n",
       "    </tr>\n",
       "    <tr>\n",
       "      <th>8</th>\n",
       "      <td>Shooter</td>\n",
       "      <td>232.98</td>\n",
       "    </tr>\n",
       "    <tr>\n",
       "      <th>10</th>\n",
       "      <td>Sports</td>\n",
       "      <td>150.65</td>\n",
       "    </tr>\n",
       "    <tr>\n",
       "      <th>7</th>\n",
       "      <td>Role-Playing</td>\n",
       "      <td>145.89</td>\n",
       "    </tr>\n",
       "    <tr>\n",
       "      <th>3</th>\n",
       "      <td>Misc</td>\n",
       "      <td>62.82</td>\n",
       "    </tr>\n",
       "    <tr>\n",
       "      <th>4</th>\n",
       "      <td>Platform</td>\n",
       "      <td>42.63</td>\n",
       "    </tr>\n",
       "    <tr>\n",
       "      <th>6</th>\n",
       "      <td>Racing</td>\n",
       "      <td>39.89</td>\n",
       "    </tr>\n",
       "    <tr>\n",
       "      <th>2</th>\n",
       "      <td>Fighting</td>\n",
       "      <td>35.31</td>\n",
       "    </tr>\n",
       "    <tr>\n",
       "      <th>1</th>\n",
       "      <td>Adventure</td>\n",
       "      <td>23.64</td>\n",
       "    </tr>\n",
       "    <tr>\n",
       "      <th>9</th>\n",
       "      <td>Simulation</td>\n",
       "      <td>21.76</td>\n",
       "    </tr>\n",
       "    <tr>\n",
       "      <th>11</th>\n",
       "      <td>Strategy</td>\n",
       "      <td>10.08</td>\n",
       "    </tr>\n",
       "    <tr>\n",
       "      <th>5</th>\n",
       "      <td>Puzzle</td>\n",
       "      <td>3.17</td>\n",
       "    </tr>\n",
       "  </tbody>\n",
       "</table>\n",
       "</div>"
      ],
      "text/plain": [
       "           genre  sum_sales\n",
       "0         Action     321.87\n",
       "8        Shooter     232.98\n",
       "10        Sports     150.65\n",
       "7   Role-Playing     145.89\n",
       "3           Misc      62.82\n",
       "4       Platform      42.63\n",
       "6         Racing      39.89\n",
       "2       Fighting      35.31\n",
       "1      Adventure      23.64\n",
       "9     Simulation      21.76\n",
       "11      Strategy      10.08\n",
       "5         Puzzle       3.17"
      ]
     },
     "metadata": {},
     "output_type": "display_data"
    }
   ],
   "source": [
    "df_genres_sales = df_actual.groupby('genre')['total_sales'].sum().reset_index(name='sum_sales')\n",
    "display(df_genres_sales.sort_values(by='sum_sales', ascending=False))"
   ]
  },
  {
   "cell_type": "code",
   "execution_count": 35,
   "metadata": {},
   "outputs": [
    {
     "data": {
      "image/png": "[encoded data removed]",
      "text/plain": [
       "<Figure size 1080x360 with 1 Axes>"
      ]
     },
     "metadata": {
      "needs_background": "light"
     },
     "output_type": "display_data"
    }
   ],
   "source": [
    "#визуализируем количество проданных копий на жанр\n",
    "ax = df_genres_sales.plot(kind='barh', y='sum_sales', x='genre', grid=True, figsize=(15,5)) #основной график на оси\n",
    "plt.title('Количество проданных копий по жанрам')\n",
    "plt.ylabel('Жанр')\n",
    "plt.xlabel('Количество проданных копий, млн.')\n",
    "#добавим среднее и медиану на график\n",
    "df_genres_sales_median = df_genres_sales['sum_sales'].median()\n",
    "df_genres_sales_mean = df_genres_sales['sum_sales'].mean()\n",
    "#добавляем вертикальные линии на ось\n",
    "plt.axvline(df_genres_sales_median, color='r', linestyle='--', label=f'Медиана: {df_genres_sales_median:.1f}')\n",
    "plt.axvline(df_genres_sales_mean, color='g', linestyle='-', label=f'Среднее: {df_genres_sales_mean:.1f}')\n",
    "plt.legend()\n",
    "plt.show()"
   ]
  },
  {
   "cell_type": "markdown",
   "metadata": {},
   "source": [
    "Видим немного иную ситуацию:\n",
    "\n",
    "* Жанры-лидеры по проданным копиям: *Action*, *Shooter*, *Sports*, *Role-Playing*;\n",
    "* Жанры, представленные сравнительно низкими продажами: *Racing*, *Fighting*, *Adventure*, *Simulation*, *Strategy*, *Puzzle*;\n",
    "* Жанры, которые располагаются посередине - *Misc*, *Platform*."
   ]
  },
  {
   "cell_type": "markdown",
   "metadata": {},
   "source": [
    "Выделим самые привлекательные жанры для продажи:"
   ]
  },
  {
   "cell_type": "code",
   "execution_count": 36,
   "metadata": {},
   "outputs": [
    {
     "data": {
      "text/html": [
       "<div>\n",
       "<style scoped>\n",
       "    .dataframe tbody tr th:only-of-type {\n",
       "        vertical-align: middle;\n",
       "    }\n",
       "\n",
       "    .dataframe tbody tr th {\n",
       "        vertical-align: top;\n",
       "    }\n",
       "\n",
       "    .dataframe thead th {\n",
       "        text-align: right;\n",
       "    }\n",
       "</style>\n",
       "<table border=\"1\" class=\"dataframe\">\n",
       "  <thead>\n",
       "    <tr style=\"text-align: right;\">\n",
       "      <th></th>\n",
       "      <th>genre</th>\n",
       "      <th>sum_sales</th>\n",
       "      <th>num</th>\n",
       "      <th>sales_per_game</th>\n",
       "    </tr>\n",
       "  </thead>\n",
       "  <tbody>\n",
       "    <tr>\n",
       "      <th>8</th>\n",
       "      <td>Shooter</td>\n",
       "      <td>232.98</td>\n",
       "      <td>187</td>\n",
       "      <td>1245882.35</td>\n",
       "    </tr>\n",
       "    <tr>\n",
       "      <th>10</th>\n",
       "      <td>Sports</td>\n",
       "      <td>150.65</td>\n",
       "      <td>214</td>\n",
       "      <td>703971.96</td>\n",
       "    </tr>\n",
       "    <tr>\n",
       "      <th>4</th>\n",
       "      <td>Platform</td>\n",
       "      <td>42.63</td>\n",
       "      <td>74</td>\n",
       "      <td>576081.08</td>\n",
       "    </tr>\n",
       "    <tr>\n",
       "      <th>7</th>\n",
       "      <td>Role-Playing</td>\n",
       "      <td>145.89</td>\n",
       "      <td>292</td>\n",
       "      <td>499623.29</td>\n",
       "    </tr>\n",
       "    <tr>\n",
       "      <th>6</th>\n",
       "      <td>Racing</td>\n",
       "      <td>39.89</td>\n",
       "      <td>85</td>\n",
       "      <td>469294.12</td>\n",
       "    </tr>\n",
       "    <tr>\n",
       "      <th>2</th>\n",
       "      <td>Fighting</td>\n",
       "      <td>35.31</td>\n",
       "      <td>80</td>\n",
       "      <td>441375.00</td>\n",
       "    </tr>\n",
       "    <tr>\n",
       "      <th>0</th>\n",
       "      <td>Action</td>\n",
       "      <td>321.87</td>\n",
       "      <td>766</td>\n",
       "      <td>420195.82</td>\n",
       "    </tr>\n",
       "    <tr>\n",
       "      <th>3</th>\n",
       "      <td>Misc</td>\n",
       "      <td>62.82</td>\n",
       "      <td>155</td>\n",
       "      <td>405290.32</td>\n",
       "    </tr>\n",
       "    <tr>\n",
       "      <th>9</th>\n",
       "      <td>Simulation</td>\n",
       "      <td>21.76</td>\n",
       "      <td>62</td>\n",
       "      <td>350967.74</td>\n",
       "    </tr>\n",
       "    <tr>\n",
       "      <th>5</th>\n",
       "      <td>Puzzle</td>\n",
       "      <td>3.17</td>\n",
       "      <td>17</td>\n",
       "      <td>186470.59</td>\n",
       "    </tr>\n",
       "    <tr>\n",
       "      <th>11</th>\n",
       "      <td>Strategy</td>\n",
       "      <td>10.08</td>\n",
       "      <td>56</td>\n",
       "      <td>180000.00</td>\n",
       "    </tr>\n",
       "    <tr>\n",
       "      <th>1</th>\n",
       "      <td>Adventure</td>\n",
       "      <td>23.64</td>\n",
       "      <td>245</td>\n",
       "      <td>96489.80</td>\n",
       "    </tr>\n",
       "  </tbody>\n",
       "</table>\n",
       "</div>"
      ],
      "text/plain": [
       "           genre  sum_sales  num  sales_per_game\n",
       "8        Shooter     232.98  187      1245882.35\n",
       "10        Sports     150.65  214       703971.96\n",
       "4       Platform      42.63   74       576081.08\n",
       "7   Role-Playing     145.89  292       499623.29\n",
       "6         Racing      39.89   85       469294.12\n",
       "2       Fighting      35.31   80       441375.00\n",
       "0         Action     321.87  766       420195.82\n",
       "3           Misc      62.82  155       405290.32\n",
       "9     Simulation      21.76   62       350967.74\n",
       "5         Puzzle       3.17   17       186470.59\n",
       "11      Strategy      10.08   56       180000.00\n",
       "1      Adventure      23.64  245        96489.80"
      ]
     },
     "metadata": {},
     "output_type": "display_data"
    }
   ],
   "source": [
    "#для удобства добавим в дф с продажами столбец с количеством игр\n",
    "df_genres_sales = df_genres_sales.merge(df_genres, on='genre')\n",
    "#посчитаем количество продаж на игру\n",
    "df_genres_sales['sales_per_game'] = ((df_genres_sales['sum_sales']/df_genres_sales['num']*1000000)).round(2)\n",
    "display(df_genres_sales.sort_values(by='sales_per_game', ascending=False))"
   ]
  },
  {
   "cell_type": "markdown",
   "metadata": {},
   "source": [
    "Таким образом, чаще всего пользователи предпочитают шутеры, а *Action*, который был на вершине по количеству как игр, так и проданных копий, располагается в середине списка. "
   ]
  },
  {
   "cell_type": "markdown",
   "metadata": {},
   "source": [
    "**Вывод:**\n",
    "\n",
    "Проведено исследование данных:\n",
    "\n",
    "* Количество выпущенных игр растет с 1994 года и более равномерно распределяется после 2011 года;\n",
    "* Для анализа выбран период с 2013 по 2016, так как он охватывает современные платформы, аудиторию и ее интересы; \n",
    "* Самые потенциально прибыльные платформы: PC, PS4 и Xbox One - показывают рост последние 3 года; \n",
    "* PS3, PS4, X360 и XOne имеют самый большой разброс по проданным копиям;\n",
    "* В основном оценки критиков положительно слабо влияют на продажи, оценки пользователей чаще всего не влияют на продажи, исключениями являются *3DS*, *PSV*, *WiiU*, где оценки как критиков, так и пользователей имеют одинаковое влияние;\n",
    "* Жанр-лидер по количеству игр и проданных копий - *Action*, однако жанр с самым большим количеством проданных копий на игру - *Shooter*. \n",
    "\n",
    "[Вернуться к содержанию](#Содержание)"
   ]
  },
  {
   "cell_type": "markdown",
   "metadata": {},
   "source": [
    "<a id='Портрет-пользователя'></a>\n",
    "## Портрет пользователя"
   ]
  },
  {
   "cell_type": "markdown",
   "metadata": {},
   "source": [
    "<a id='Самые_популярные_платформы'></a>\n",
    "Выделим топ-5 платформ для каждого региона."
   ]
  },
  {
   "cell_type": "code",
   "execution_count": 37,
   "metadata": {},
   "outputs": [
    {
     "data": {
      "text/html": [
       "<div>\n",
       "<style scoped>\n",
       "    .dataframe tbody tr th:only-of-type {\n",
       "        vertical-align: middle;\n",
       "    }\n",
       "\n",
       "    .dataframe tbody tr th {\n",
       "        vertical-align: top;\n",
       "    }\n",
       "\n",
       "    .dataframe thead th {\n",
       "        text-align: right;\n",
       "    }\n",
       "</style>\n",
       "<table border=\"1\" class=\"dataframe\">\n",
       "  <thead>\n",
       "    <tr style=\"text-align: right;\">\n",
       "      <th></th>\n",
       "      <th>platform</th>\n",
       "      <th>na_sales</th>\n",
       "      <th>eu_sales</th>\n",
       "      <th>jp_sales</th>\n",
       "    </tr>\n",
       "  </thead>\n",
       "  <tbody>\n",
       "    <tr>\n",
       "      <th>0</th>\n",
       "      <td>3DS</td>\n",
       "      <td>38.20</td>\n",
       "      <td>30.96</td>\n",
       "      <td>67.81</td>\n",
       "    </tr>\n",
       "    <tr>\n",
       "      <th>1</th>\n",
       "      <td>DS</td>\n",
       "      <td>0.57</td>\n",
       "      <td>0.85</td>\n",
       "      <td>0.00</td>\n",
       "    </tr>\n",
       "    <tr>\n",
       "      <th>2</th>\n",
       "      <td>PC</td>\n",
       "      <td>11.11</td>\n",
       "      <td>25.36</td>\n",
       "      <td>0.00</td>\n",
       "    </tr>\n",
       "    <tr>\n",
       "      <th>3</th>\n",
       "      <td>PS3</td>\n",
       "      <td>63.50</td>\n",
       "      <td>67.81</td>\n",
       "      <td>23.35</td>\n",
       "    </tr>\n",
       "    <tr>\n",
       "      <th>4</th>\n",
       "      <td>PS4</td>\n",
       "      <td>108.74</td>\n",
       "      <td>141.09</td>\n",
       "      <td>15.96</td>\n",
       "    </tr>\n",
       "    <tr>\n",
       "      <th>5</th>\n",
       "      <td>PSP</td>\n",
       "      <td>0.00</td>\n",
       "      <td>0.17</td>\n",
       "      <td>3.29</td>\n",
       "    </tr>\n",
       "    <tr>\n",
       "      <th>6</th>\n",
       "      <td>PSV</td>\n",
       "      <td>5.04</td>\n",
       "      <td>6.10</td>\n",
       "      <td>18.59</td>\n",
       "    </tr>\n",
       "    <tr>\n",
       "      <th>7</th>\n",
       "      <td>Wii</td>\n",
       "      <td>6.56</td>\n",
       "      <td>5.93</td>\n",
       "      <td>0.05</td>\n",
       "    </tr>\n",
       "    <tr>\n",
       "      <th>8</th>\n",
       "      <td>WiiU</td>\n",
       "      <td>29.21</td>\n",
       "      <td>19.85</td>\n",
       "      <td>10.88</td>\n",
       "    </tr>\n",
       "    <tr>\n",
       "      <th>9</th>\n",
       "      <td>X360</td>\n",
       "      <td>81.66</td>\n",
       "      <td>42.52</td>\n",
       "      <td>0.51</td>\n",
       "    </tr>\n",
       "    <tr>\n",
       "      <th>10</th>\n",
       "      <td>XOne</td>\n",
       "      <td>93.12</td>\n",
       "      <td>51.59</td>\n",
       "      <td>0.34</td>\n",
       "    </tr>\n",
       "  </tbody>\n",
       "</table>\n",
       "</div>"
      ],
      "text/plain": [
       "   platform  na_sales  eu_sales  jp_sales\n",
       "0       3DS     38.20     30.96     67.81\n",
       "1        DS      0.57      0.85      0.00\n",
       "2        PC     11.11     25.36      0.00\n",
       "3       PS3     63.50     67.81     23.35\n",
       "4       PS4    108.74    141.09     15.96\n",
       "5       PSP      0.00      0.17      3.29\n",
       "6       PSV      5.04      6.10     18.59\n",
       "7       Wii      6.56      5.93      0.05\n",
       "8      WiiU     29.21     19.85     10.88\n",
       "9      X360     81.66     42.52      0.51\n",
       "10     XOne     93.12     51.59      0.34"
      ]
     },
     "execution_count": 37,
     "metadata": {},
     "output_type": "execute_result"
    }
   ],
   "source": [
    "#создадим общий дф с продажами по платформам для каждого региона\n",
    "df_top_plat_dict = {}\n",
    "#цикл на каждый регион\n",
    "for i in ['na_sales', 'eu_sales', 'jp_sales']:\n",
    "    #считаем сумму продаж по платформам на регион\n",
    "    df_top_plat = df_actual.groupby('platform')[i].sum().reset_index()\n",
    "    df_top_plat_dict[i] = df_top_plat.set_index('platform')\n",
    "#объединяем 3 региона в 1 дф по горизонтали\n",
    "df_top_plat_dict = pd.concat(df_top_plat_dict, axis=1)\n",
    "#сбрасываем индекс, чтобы платформы были столбцом\n",
    "df_top_plat_dict.reset_index(inplace=True)\n",
    "#избавляемся от мультииндексации в столбцах посредством смены имени столбцов\n",
    "df_top_plat_dict.columns = ['platform', 'na_sales', 'eu_sales', 'jp_sales']\n",
    "df_top_plat_dict"
   ]
  },
  {
   "cell_type": "markdown",
   "metadata": {},
   "source": [
    "У нас есть таблица с продажами по платформам для каждого региона, визуализируем ее:"
   ]
  },
  {
   "cell_type": "code",
   "execution_count": 38,
   "metadata": {},
   "outputs": [
    {
     "data": {
      "image/png": "[encoded data removed]",
      "text/plain": [
       "<Figure size 1080x648 with 1 Axes>"
      ]
     },
     "metadata": {
      "needs_background": "light"
     },
     "output_type": "display_data"
    }
   ],
   "source": [
    "#построим один график на 3 региона\n",
    "#обозначим ось и фигуру\n",
    "fig, ax = plt.subplots(figsize=(15, 9))\n",
    "#обозначим ширину для корректного отображения столбцов на графике\n",
    "width = 0.2\n",
    "#рассчитаем показатели для добавления долей на график\n",
    "df_top_plat_dict['total_plat_sales'] = df_top_plat_dict['na_sales'] + df_top_plat_dict['eu_sales']\\\n",
    "+ df_top_plat_dict['jp_sales']\n",
    "df_top_plat_dict['plat_part_na_sales'] = (df_top_plat_dict['na_sales'] / df_top_plat_dict['total_plat_sales']) * 100\n",
    "df_top_plat_dict['plat_part_eu_sales'] = (df_top_plat_dict['eu_sales'] / df_top_plat_dict['total_plat_sales']) * 100\n",
    "df_top_plat_dict['plat_part_jp_sales'] = (df_top_plat_dict['jp_sales'] / df_top_plat_dict['total_plat_sales']) * 100\n",
    "#получаем список координат по оси Х для функции bar\n",
    "x = range(len(df_top_plat_dict))\n",
    "#используем enumerate для числа (будем корректировать ширину для каждой итерации) и самого обозначения региона\n",
    "for i, region in enumerate(['na_sales', 'eu_sales', 'jp_sales']):\n",
    "    #задаем координаты для столбцов\n",
    "    bars = ax.bar([p + width*i for p in x], df_top_plat_dict[region], width=0.2, label=region)\n",
    "    #добавляем подписи процентов\n",
    "    for bar, percentage in zip(bars, df_top_plat_dict[f'plat_part_{region[:2]}_sales']):\n",
    "        ax.annotate(f'{percentage:.1f}%',\n",
    "                    xy=(bar.get_x() + bar.get_width() / 2, bar.get_height()),\n",
    "                    xytext=(0, i*5.5), \n",
    "                    textcoords=\"offset points\",\n",
    "                    ha='center', va='bottom')\n",
    "plt.title('Сумма продаж по платформам для каждого региона')\n",
    "plt.ylabel('Сумма продаж')\n",
    "plt.xlabel('Платформа')\n",
    "#задаем расположение подписей на оси Х, чтобы они соответствовали расположению столбцов\n",
    "ax.set_xticks([p + width for p in x])\n",
    "ax.set_xticklabels(df_top_plat_dict['platform'])\n",
    "plt.legend(title='Region')\n",
    "plt.grid()\n",
    "plt.show()"
   ]
  },
  {
   "cell_type": "markdown",
   "metadata": {},
   "source": [
    "Для *NA* топ-5 платформами будут: 1.*PS4* (40,9%), 2.*XOne* (64,2%), 3.*X360* (65,5%), 4.*PS3* (41,1%), 5.*3DS* (27,9%).\n",
    "\n",
    "Для *EU* топ-5 платформами будут: 1.*PS4* (53,1%), 2.*PS3* (43,8%), 3.*XOne* (35,6%), 4.*X360* (34,1%), 5.*3DS* (22,6%).\n",
    "\n",
    "Для *JP* топ-5 платформами будут: 1.*3DS* (49,5%), 2.*PS3* (15,1%), 3.*PSV* (62,5%), 4.*PS4* (6%), 5.*WiiU* (18,2%).\n",
    "\n",
    "В скобках: доля количества проданных копий игр по платформе для региона от всего количества проданных копий по платформе.\n",
    "\n",
    "Таким образом, в *NA* доля проданных копий по топ-5 платформам самая высокая среди всех регионов. Доля японского рынка ниже американского и европейского по большей части платформ, а играми на *PC*, *DS*, *X360* и *XOne* там, судя по всему, совсем не интересуются. \n",
    "\n",
    "Также можно отметить, что за последние 3 года одним из лидеров во всех регионах остается *PS3*."
   ]
  },
  {
   "cell_type": "markdown",
   "metadata": {},
   "source": [
    "<a id='Самые_популярные_жанры'></a>\n",
    "Определим топ-5 жанров для каждого региона."
   ]
  },
  {
   "cell_type": "code",
   "execution_count": 39,
   "metadata": {},
   "outputs": [
    {
     "data": {
      "text/html": [
       "<div>\n",
       "<style scoped>\n",
       "    .dataframe tbody tr th:only-of-type {\n",
       "        vertical-align: middle;\n",
       "    }\n",
       "\n",
       "    .dataframe tbody tr th {\n",
       "        vertical-align: top;\n",
       "    }\n",
       "\n",
       "    .dataframe thead th {\n",
       "        text-align: right;\n",
       "    }\n",
       "</style>\n",
       "<table border=\"1\" class=\"dataframe\">\n",
       "  <thead>\n",
       "    <tr style=\"text-align: right;\">\n",
       "      <th></th>\n",
       "      <th>genre</th>\n",
       "      <th>na_sales</th>\n",
       "      <th>eu_sales</th>\n",
       "      <th>jp_sales</th>\n",
       "    </tr>\n",
       "  </thead>\n",
       "  <tbody>\n",
       "    <tr>\n",
       "      <th>0</th>\n",
       "      <td>Action</td>\n",
       "      <td>126.05</td>\n",
       "      <td>118.13</td>\n",
       "      <td>40.49</td>\n",
       "    </tr>\n",
       "    <tr>\n",
       "      <th>1</th>\n",
       "      <td>Adventure</td>\n",
       "      <td>7.14</td>\n",
       "      <td>8.25</td>\n",
       "      <td>5.82</td>\n",
       "    </tr>\n",
       "    <tr>\n",
       "      <th>2</th>\n",
       "      <td>Fighting</td>\n",
       "      <td>15.55</td>\n",
       "      <td>8.55</td>\n",
       "      <td>7.65</td>\n",
       "    </tr>\n",
       "    <tr>\n",
       "      <th>3</th>\n",
       "      <td>Misc</td>\n",
       "      <td>27.49</td>\n",
       "      <td>20.04</td>\n",
       "      <td>9.20</td>\n",
       "    </tr>\n",
       "    <tr>\n",
       "      <th>4</th>\n",
       "      <td>Platform</td>\n",
       "      <td>18.14</td>\n",
       "      <td>15.58</td>\n",
       "      <td>4.79</td>\n",
       "    </tr>\n",
       "    <tr>\n",
       "      <th>5</th>\n",
       "      <td>Puzzle</td>\n",
       "      <td>0.83</td>\n",
       "      <td>1.00</td>\n",
       "      <td>1.18</td>\n",
       "    </tr>\n",
       "    <tr>\n",
       "      <th>6</th>\n",
       "      <td>Racing</td>\n",
       "      <td>12.96</td>\n",
       "      <td>20.19</td>\n",
       "      <td>2.30</td>\n",
       "    </tr>\n",
       "    <tr>\n",
       "      <th>7</th>\n",
       "      <td>Role-Playing</td>\n",
       "      <td>46.40</td>\n",
       "      <td>36.97</td>\n",
       "      <td>51.04</td>\n",
       "    </tr>\n",
       "    <tr>\n",
       "      <th>8</th>\n",
       "      <td>Shooter</td>\n",
       "      <td>109.74</td>\n",
       "      <td>87.86</td>\n",
       "      <td>6.61</td>\n",
       "    </tr>\n",
       "    <tr>\n",
       "      <th>9</th>\n",
       "      <td>Simulation</td>\n",
       "      <td>4.86</td>\n",
       "      <td>10.92</td>\n",
       "      <td>4.52</td>\n",
       "    </tr>\n",
       "    <tr>\n",
       "      <th>10</th>\n",
       "      <td>Sports</td>\n",
       "      <td>65.27</td>\n",
       "      <td>60.52</td>\n",
       "      <td>5.41</td>\n",
       "    </tr>\n",
       "    <tr>\n",
       "      <th>11</th>\n",
       "      <td>Strategy</td>\n",
       "      <td>3.28</td>\n",
       "      <td>4.22</td>\n",
       "      <td>1.77</td>\n",
       "    </tr>\n",
       "  </tbody>\n",
       "</table>\n",
       "</div>"
      ],
      "text/plain": [
       "           genre  na_sales  eu_sales  jp_sales\n",
       "0         Action    126.05    118.13     40.49\n",
       "1      Adventure      7.14      8.25      5.82\n",
       "2       Fighting     15.55      8.55      7.65\n",
       "3           Misc     27.49     20.04      9.20\n",
       "4       Platform     18.14     15.58      4.79\n",
       "5         Puzzle      0.83      1.00      1.18\n",
       "6         Racing     12.96     20.19      2.30\n",
       "7   Role-Playing     46.40     36.97     51.04\n",
       "8        Shooter    109.74     87.86      6.61\n",
       "9     Simulation      4.86     10.92      4.52\n",
       "10        Sports     65.27     60.52      5.41\n",
       "11      Strategy      3.28      4.22      1.77"
      ]
     },
     "execution_count": 39,
     "metadata": {},
     "output_type": "execute_result"
    }
   ],
   "source": [
    "#создадим общий дф с продажами по жанрам для каждого региона\n",
    "df_top_genre_dict = {}\n",
    "#цикл на каждый регион\n",
    "for i in ['na_sales', 'eu_sales', 'jp_sales']:\n",
    "    #считаем сумму продаж по платформам на регион\n",
    "    df_top_genre = df_actual.groupby('genre')[i].sum().reset_index()\n",
    "    df_top_genre_dict[i] = df_top_genre.set_index('genre')\n",
    "#объединяем 3 региона в 1 дф по горизонтали\n",
    "df_top_genre_dict = pd.concat(df_top_genre_dict, axis=1)\n",
    "#сбрасываем индекс, чтобы жанры были столбцом\n",
    "df_top_genre_dict.reset_index(inplace=True)\n",
    "#избавляемся от мультииндексации в столбцах посредством смены имени столбцов\n",
    "df_top_genre_dict.columns = ['genre', 'na_sales', 'eu_sales', 'jp_sales']\n",
    "df_top_genre_dict"
   ]
  },
  {
   "cell_type": "markdown",
   "metadata": {},
   "source": [
    "Представим данные наглядно: "
   ]
  },
  {
   "cell_type": "code",
   "execution_count": 40,
   "metadata": {},
   "outputs": [
    {
     "data": {
      "image/png": "[encoded data removed]",
      "text/plain": [
       "<Figure size 1080x648 with 1 Axes>"
      ]
     },
     "metadata": {
      "needs_background": "light"
     },
     "output_type": "display_data"
    }
   ],
   "source": [
    "#построим один график на 3 региона\n",
    "#обозначим ось и фигуру\n",
    "fig, ax = plt.subplots(figsize=(15, 9))\n",
    "#обозначим ширину для корректного отображения столбцов на графике\n",
    "width = 0.2\n",
    "#рассчитаем показатели для добавления долей на график\n",
    "df_top_genre_dict['total_genre_sales'] = df_top_genre_dict['na_sales'] + df_top_genre_dict['eu_sales']\\\n",
    "+ df_top_genre_dict['jp_sales']\n",
    "df_top_genre_dict['genre_part_na_sales'] = (df_top_genre_dict['na_sales'] / df_top_genre_dict['total_genre_sales']) * 100\n",
    "df_top_genre_dict['genre_part_eu_sales'] = (df_top_genre_dict['eu_sales'] / df_top_genre_dict['total_genre_sales']) * 100\n",
    "df_top_genre_dict['genre_part_jp_sales'] = (df_top_genre_dict['jp_sales'] / df_top_genre_dict['total_genre_sales']) * 100\n",
    "#получаем список координат по оси Х для функции bar\n",
    "x = range(len(df_top_genre_dict))\n",
    "#используем enumerate для числа (будем корректировать ширину для каждой итерации) и самого обозначения региона\n",
    "for i, region in enumerate(['na_sales', 'eu_sales', 'jp_sales']):\n",
    "    #задаем координаты для столбцов\n",
    "    bars = ax.bar([p + width*i for p in x], df_top_genre_dict[region], width=0.2, label=region)\n",
    "    #добавляем подписи процентов\n",
    "    for bar, percentage in zip(bars, df_top_genre_dict[f'genre_part_{region[:2]}_sales']):\n",
    "        ax.annotate(f'{percentage:.1f}%',\n",
    "                    xy=(bar.get_x() + bar.get_width() / 2, bar.get_height()),\n",
    "                    xytext=(0, i*5.5), \n",
    "                    textcoords=\"offset points\",\n",
    "                    ha='center', va='bottom')\n",
    "plt.title('Сумма продаж по жанрам для каждого региона')\n",
    "plt.ylabel('Сумма продаж')\n",
    "plt.xlabel('Жанр')\n",
    "#задаем расположение подписей на оси Х, чтобы они соответствовали расположению столбцов\n",
    "ax.set_xticks([p + width for p in x])\n",
    "ax.set_xticklabels(df_top_genre_dict['genre'])\n",
    "plt.legend(title='region')\n",
    "plt.grid()\n",
    "plt.show()"
   ]
  },
  {
   "cell_type": "markdown",
   "metadata": {},
   "source": [
    "Для *NA* топ-5 жанрами будут: 1.*Action* (44,3%), 2.*Shooter* (53,7%), 3.*Sports* (49,7%), 4.*Role-Playing* (34,5%), 5.*Misc* (48,5%).\n",
    "\n",
    "Для *EU* топ-5 жанрами будут: 1.*Action* (41,5%), 2.*Shooter* (43%), 3.*Sports* (46,1%), 4.*Role-Playing* (27,5%), 5.*Racing* (57%).\n",
    "\n",
    "Для *JP* топ-5 жанрами будут: 1.*Role-Playing* (38%), 2.*Action* (14,2%), 3.*Misc* (16,2%), 4.*Fighting* (24,1%), 5.*Shooter* (3,2%).\n",
    "\n",
    "В скобках: доля количества проданных копий игр по жанру для региона от всего количества проданных копий по жанру.\n",
    "\n",
    "В *NA* самая высокая доля продаж копий игр по большей части жанров - в *JP* самая низкая, за исключением РПГ и пазлов. Можно попытаться определить предпочтения пользователей по тому или иному региону, но надо понимать, что доля продаж по жанрам сильно зависит от количества пользователей - очевидно, что в регионе *JP* пользователей значительно меньше, чем в *NA* и *EU*, значит и доля будет меньше. \n",
    "\n",
    "Возвращаясь к предпочтениям, лидирующим жанром по части суммарных продаж является *Action*, что мы уже выяснили при исследовании данных. "
   ]
  },
  {
   "cell_type": "markdown",
   "metadata": {},
   "source": [
    "<a id='Влияние_ESRB'></a>\n",
    "Отдельно выясним, влияет ли рейтинг ESRB на продажи в каждом регионе. "
   ]
  },
  {
   "cell_type": "code",
   "execution_count": 41,
   "metadata": {},
   "outputs": [
    {
     "data": {
      "text/html": [
       "<div>\n",
       "<style scoped>\n",
       "    .dataframe tbody tr th:only-of-type {\n",
       "        vertical-align: middle;\n",
       "    }\n",
       "\n",
       "    .dataframe tbody tr th {\n",
       "        vertical-align: top;\n",
       "    }\n",
       "\n",
       "    .dataframe thead th {\n",
       "        text-align: right;\n",
       "    }\n",
       "</style>\n",
       "<table border=\"1\" class=\"dataframe\">\n",
       "  <thead>\n",
       "    <tr style=\"text-align: right;\">\n",
       "      <th></th>\n",
       "      <th>rating</th>\n",
       "      <th>na_sales</th>\n",
       "      <th>eu_sales</th>\n",
       "      <th>jp_sales</th>\n",
       "    </tr>\n",
       "  </thead>\n",
       "  <tbody>\n",
       "    <tr>\n",
       "      <th>0</th>\n",
       "      <td>E</td>\n",
       "      <td>79.05</td>\n",
       "      <td>83.36</td>\n",
       "      <td>15.14</td>\n",
       "    </tr>\n",
       "    <tr>\n",
       "      <th>1</th>\n",
       "      <td>E10+</td>\n",
       "      <td>54.24</td>\n",
       "      <td>42.69</td>\n",
       "      <td>5.89</td>\n",
       "    </tr>\n",
       "    <tr>\n",
       "      <th>2</th>\n",
       "      <td>M</td>\n",
       "      <td>165.21</td>\n",
       "      <td>145.32</td>\n",
       "      <td>14.11</td>\n",
       "    </tr>\n",
       "    <tr>\n",
       "      <th>3</th>\n",
       "      <td>T</td>\n",
       "      <td>49.79</td>\n",
       "      <td>41.95</td>\n",
       "      <td>20.59</td>\n",
       "    </tr>\n",
       "    <tr>\n",
       "      <th>4</th>\n",
       "      <td>tbd</td>\n",
       "      <td>89.42</td>\n",
       "      <td>78.91</td>\n",
       "      <td>85.05</td>\n",
       "    </tr>\n",
       "  </tbody>\n",
       "</table>\n",
       "</div>"
      ],
      "text/plain": [
       "  rating  na_sales  eu_sales  jp_sales\n",
       "0      E     79.05     83.36     15.14\n",
       "1   E10+     54.24     42.69      5.89\n",
       "2      M    165.21    145.32     14.11\n",
       "3      T     49.79     41.95     20.59\n",
       "4    tbd     89.42     78.91     85.05"
      ]
     },
     "execution_count": 41,
     "metadata": {},
     "output_type": "execute_result"
    }
   ],
   "source": [
    "#создадим общий дф с продажами по играм с разным рейтингом ESRB для каждого региона\n",
    "df_esrb_dict = {}\n",
    "#цикл на каждый регион\n",
    "for i in ['na_sales', 'eu_sales', 'jp_sales']:\n",
    "    #считаем сумму продаж по платформам на регион\n",
    "    df_esrb = df_actual.groupby('rating')[i].sum().reset_index()\n",
    "    df_esrb_dict[i] = df_esrb.set_index('rating')\n",
    "#объединяем 3 региона в 1 дф по горизонтали\n",
    "df_esrb_dict = pd.concat(df_esrb_dict, axis=1)\n",
    "#сбрасываем индекс, чтобы жанры были столбцом\n",
    "df_esrb_dict.reset_index(inplace=True)\n",
    "#избавляемся от мультииндексации в столбцах посредством смены имени столбцов\n",
    "df_esrb_dict.columns = ['rating', 'na_sales', 'eu_sales', 'jp_sales']\n",
    "df_esrb_dict"
   ]
  },
  {
   "cell_type": "code",
   "execution_count": 42,
   "metadata": {},
   "outputs": [
    {
     "data": {
      "image/png": "[encoded data removed]",
      "text/plain": [
       "<Figure size 1080x648 with 1 Axes>"
      ]
     },
     "metadata": {
      "needs_background": "light"
     },
     "output_type": "display_data"
    }
   ],
   "source": [
    "#построим один график на 3 региона\n",
    "#обозначим ось и фигуру\n",
    "fig, ax = plt.subplots(figsize=(15, 9))\n",
    "#обозначим ширину для корректного отображения столбцов на графике\n",
    "width = 0.2\n",
    "#рассчитаем показатели для добавления долей на график\n",
    "df_esrb_dict['total_esrb_sales'] = df_esrb_dict['na_sales'] + df_esrb_dict['eu_sales']\\\n",
    "+ df_esrb_dict['jp_sales']\n",
    "df_esrb_dict['esrb_part_na_sales'] = (df_esrb_dict['na_sales'] / df_esrb_dict['total_esrb_sales']) * 100\n",
    "df_esrb_dict['esrb_part_eu_sales'] = (df_esrb_dict['eu_sales'] / df_esrb_dict['total_esrb_sales']) * 100\n",
    "df_esrb_dict['esrb_part_jp_sales'] = (df_esrb_dict['jp_sales'] / df_esrb_dict['total_esrb_sales']) * 100\n",
    "#получаем список координат по оси Х для функции bar\n",
    "x = range(len(df_esrb_dict))\n",
    "#используем enumerate для числа (будем корректировать ширину для каждой итерации) и самого обозначения региона\n",
    "for i, region in enumerate(['na_sales', 'eu_sales', 'jp_sales']):\n",
    "    #задаем координаты для столбцов\n",
    "    bars = ax.bar([p + width*i for p in x], df_esrb_dict[region], width=0.2, label=region)\n",
    "    #добавляем подписи процентов\n",
    "    for bar, percentage in zip(bars, df_esrb_dict[f'esrb_part_{region[:2]}_sales']):\n",
    "        ax.annotate(f'{percentage:.1f}%',\n",
    "                    xy=(bar.get_x() + bar.get_width() / 2, bar.get_height()),\n",
    "                    xytext=(0, i*5.5), \n",
    "                    textcoords=\"offset points\",\n",
    "                    ha='center', va='bottom')\n",
    "plt.title('Сумма продаж по рейтингу ESRB для каждого региона')\n",
    "plt.ylabel('Сумма продаж')\n",
    "plt.xlabel('Рейтинг ESRB')\n",
    "#задаем расположение подписей на оси Х, чтобы они соответствовали расположению столбцов\n",
    "ax.set_xticks([p + width for p in x])\n",
    "ax.set_xticklabels(df_esrb_dict['rating'])\n",
    "plt.legend(title='region')\n",
    "plt.grid()\n",
    "plt.show()"
   ]
  },
  {
   "cell_type": "markdown",
   "metadata": {},
   "source": [
    "Сначала проверим, что обозначает каждая аббревиатура рейтинга ESRB:\n",
    "\n",
    "* *AO* - Adults Only, для пользователей старше 18 лет;\n",
    "* *EC* - Early Childhood, для пользователей до 3х лет;\n",
    "* *RP* - Rating Pending, означает, что продукту еще не присвоен рейтинг, а сама аббревиатура используется для игр, которые еще официально не поступили в продажу;\n",
    "* *E* - Everyone, для всех;\n",
    "* *E10+* - Everyone 10 and older, для всех пользователей старше 10 лет;\n",
    "* *M* - Mature, для пользователей старше 17 лет;\n",
    "* *T* - Teen, для пользователей старше 13 лет.\n",
    "\n",
    "Также нужно иметь в виду, что к каждому рейтингу причисляются дополнительные параметры отличные от минимального возраста пользователя, которые его характеризуют - это, например, наличие крови, сексуальные сцены, чрезмерное насилие и т.д.. \n",
    "\n",
    "После ознакомления со значениями аббревиатур рейтинга посмотрим на распределение продаж: 1.*M* - пользователи старше 17 лет, 2.*E*, который предназначен для всех групп пользователей, 3.*T* - пользователи старше 13, 4.*E10+* - пользователи старше 10. \n",
    "\n",
    "На первый взгляд, кажется нелогичным, что значения рейтинга идут в порядке уменьшения ограничения возраста, а не наоборот, ведь охват аудитории у них разный - но сомнения отпадают, если взять в расчет то, как проверяется дистрибуция игр с установленными рейтингами и возрастными ограничениями. \n",
    "\n",
    "Значения \"tbd\" представлены на графике, чтобы иметь представление о том, насколько искажен может быть окончательный вывод. \n",
    "\n",
    "Теперь выделим рейтинги по каждому региону отдельно: \n",
    "\n",
    "*NA*: 1.M (50,9%), 2.E (44,5%), 3.E10+ (52,8%), 4.T (44,3%).\n",
    "\n",
    "*EU*: 1.M (44,8%), 2.E (47%), 3.E10+ (41,5%), 4.T (37,3%).\n",
    "\n",
    "*JP*: 1.T (18,3%), 2.E (8,5%), 3.M (4,3%), 4.E10+ (5,7%). \n",
    "\n",
    "В скобках: доля количества проданных копий игр по рейтингу ESRB для региона от всего количества проданных копий по конкретному рейтингу.\n",
    "\n",
    "Исходя из всего вышеописанного, сложно понять, влияет ли рейтинг ESRB на продажи. \n",
    "\n",
    "Будем считать, что рейтинг ESRB косвенно влияет на продажи, так как, скорее всего, есть люди, которые на него ориентируются при покупке или обязаны ориентироваться. "
   ]
  },
  {
   "cell_type": "markdown",
   "metadata": {},
   "source": [
    "**Вывод:**\n",
    "\n",
    "Составлен портрет пользователя для каждого региона:\n",
    "\n",
    "*NA*:\n",
    "\n",
    "* Топ-5 платформ: 1.PS4 (40,9%), 2.XOne (64,2%), 3.X360 (65,5%), 4.PS3 (41,1%), 5.3DS (27,9%);\n",
    "* Топ-5 жанров: 1.Action (44,3%), 2.Shooter (53,7%), 3.Sports (49,7%), 4.Role-Playing (34,5%), 5.Misc (48,5%);\n",
    "* Распределение суммы проданных в регионе копий игр по рейтингам: 1.M (50,9%), 2.E (44,5%), 3.E10+ (52,8%), 4.T (44,3%).\n",
    "\n",
    "*EU*:\n",
    "\n",
    "* Топ-5 платформ: 1.PS4 (53,1%), 2.PS3 (43,8%), 3.XOne (35,6%), 4.X360 (34,1%), 5.3DS (22,6%);\n",
    "* Топ-5 жанров: 1.Action (41,5%), 2.Shooter (43%), 3.Sports (46,1%), 4.Role-Playing (27,5%), 5.Racing (57%);\n",
    "* Распределение суммы проданных в регионе копий игр по рейтингам: 1.M (44,8%), 2.E (47%), 3.E10+ (41,5%), 4.T (37,3%).\n",
    "\n",
    "*JP*:\n",
    "\n",
    "* Топ-5 платформ: 1.3DS (49,5%), 2.PS3 (15,1%), 3.PSV (62,5%), 4.PS4 (6%), 5.WiiU (18,2%);\n",
    "* Топ-5 жанров: 1.Role-Playing (38%), 2.Action (14,2%), 3.Misc (16,2%), 4.Fighting (24,1%), 5.Shooter (3,2%);\n",
    "* Распределение суммы проданных в регионе копий игр по рейтингам: 1.T (18,3%), 2.E (8,5%), 3.M (4,3%), 4.E10+ (5,7%).\n",
    "\n",
    "[Вернуться к содержанию](#Содержание)"
   ]
  },
  {
   "cell_type": "markdown",
   "metadata": {},
   "source": [
    "<a id='Проверка-гипотез'></a>\n",
    "## Проверка гипотез"
   ]
  },
  {
   "cell_type": "markdown",
   "metadata": {},
   "source": [
    "Приступим к проверке гипотез.\n",
    "\n",
    "<a id='Гипотеза_1'></a>\n",
    "Выясним, одинаковые ли средние пользовательские рейтинги платформ Xbox One и PC:"
   ]
  },
  {
   "cell_type": "markdown",
   "metadata": {},
   "source": [
    "Сформулируем гипотезы (необходимо помнить, что H0 формулируется со знаком равенства, а H1 - наоборот):\n",
    "\n",
    "H0: средние пользовательские рейтинги платформ Xbox One и PC равны;\n",
    "\n",
    "H1: средние пользовательские рейтинги платформ Xbox One и PC не равны."
   ]
  },
  {
   "cell_type": "code",
   "execution_count": 43,
   "metadata": {},
   "outputs": [
    {
     "name": "stdout",
     "output_type": "stream",
     "text": [
      "p-значение: 0.14012658403611503\n",
      "Не получилось отвергнуть нулевую гипотезу: средние пользовательские рейтинги достигают запланированных показателей\n"
     ]
    }
   ],
   "source": [
    "#для проверки гипотезы будем использовать двухсторонний двухвыборочный Т-тест для независимых выборок\n",
    "\n",
    "alpha = 0.05 #возьмем порог в 5%, т.к. это один из стандартных уровней и у нас нет необходимости в 1% для точности\n",
    "#или, наоборот, в 10%\n",
    "\n",
    "results = st.ttest_ind(df_actual[df_actual['platform']=='XOne']['user_score'],\\\n",
    "                       df_actual[df_actual['platform']=='PC']['user_score'], nan_policy='omit')\n",
    "\n",
    "print('p-значение:', results.pvalue)\n",
    "\n",
    "if results.pvalue < alpha:\n",
    "    print('Отвергаем нулевую гипотезу: средние пользовательские рейтинги выбранных платформ значимо различаются')\n",
    "else:\n",
    "    print('Не получилось отвергнуть нулевую гипотезу: средние пользовательские рейтинги достигают запланированных показателей')"
   ]
  },
  {
   "cell_type": "markdown",
   "metadata": {},
   "source": [
    "Посмотрим на средние значения в нашей выборке:"
   ]
  },
  {
   "cell_type": "code",
   "execution_count": 44,
   "metadata": {},
   "outputs": [
    {
     "name": "stdout",
     "output_type": "stream",
     "text": [
      "Средний пользовательский рейтинг на платформе XOne: 6.521428571428572\n",
      "Средний пользовательский рейтинг на платформе PC: 6.2696774193548395\n"
     ]
    }
   ],
   "source": [
    "print('Средний пользовательский рейтинг на платформе XOne:',\\\n",
    "      df_actual[df_actual['platform']=='XOne']['user_score'].dropna().mean())\n",
    "print('Средний пользовательский рейтинг на платформе PC:',\\\n",
    "      df_actual[df_actual['platform']=='PC']['user_score'].dropna().mean())"
   ]
  },
  {
   "cell_type": "markdown",
   "metadata": {},
   "source": [
    "В наших данных среднее по этим платформам не сильно различается, в связи с чем нулевая гипотеза не была отвергнута. "
   ]
  },
  {
   "cell_type": "markdown",
   "metadata": {},
   "source": [
    "<a id='Гипотеза_2'></a>\n",
    "Проверим, разные ли средние пользовательские рейтинги жанров Action и Sports:"
   ]
  },
  {
   "cell_type": "markdown",
   "metadata": {},
   "source": [
    "H0: cредние пользовательские рейтинги жанров Action и Sports равны;\n",
    "\n",
    "H1: средние пользовательские рейтинги жанров Action и Sports не равны."
   ]
  },
  {
   "cell_type": "code",
   "execution_count": 45,
   "metadata": {},
   "outputs": [
    {
     "name": "stdout",
     "output_type": "stream",
     "text": [
      "p-значение: 1.0517832389139422e-27\n",
      "Отвергаем нулевую гипотезу: средние пользовательские рейтинги выбранных жанров значимо различаются\n"
     ]
    }
   ],
   "source": [
    "#для проверки гипотезы будем использовать двухсторонний двухвыборочный Т-тест для независимых выборок\n",
    "\n",
    "alpha = 0.05 #возьмем порог в 5%, т.к. это один из стандартных уровней и у нас нет необходимости в 1% для точности\n",
    "#или, наоборот, в 10%\n",
    "\n",
    "results = st.ttest_ind(df_actual[df_actual['genre']=='Action']['user_score'],\\\n",
    "                       df_actual[df_actual['genre']=='Sports']['user_score'], nan_policy='omit')\n",
    "\n",
    "print('p-значение:', results.pvalue)\n",
    "\n",
    "if results.pvalue < alpha:\n",
    "    print('Отвергаем нулевую гипотезу: средние пользовательские рейтинги выбранных жанров значимо различаются')\n",
    "else:\n",
    "    print('Не получилось отвергнуть нулевую гипотезу: средние пользовательские рейтинги достигают запланированных показателей')"
   ]
  },
  {
   "cell_type": "markdown",
   "metadata": {},
   "source": [
    "Альтернативная гипотеза оказалась более правдоподобной, посмотрим на средние значения в нашей выборке:"
   ]
  },
  {
   "cell_type": "code",
   "execution_count": 46,
   "metadata": {},
   "outputs": [
    {
     "name": "stdout",
     "output_type": "stream",
     "text": [
      "Средний пользовательский рейтинг по жанру Action: 6.837532133676092\n",
      "Средний пользовательский рейтинг по жанру Sports: 5.238124999999999\n"
     ]
    }
   ],
   "source": [
    "print('Средний пользовательский рейтинг по жанру Action:',\\\n",
    "      df_actual[df_actual['genre']=='Action']['user_score'].dropna().mean())\n",
    "print('Средний пользовательский рейтинг по жанру Sports:',\\\n",
    "      df_actual[df_actual['genre']=='Sports']['user_score'].dropna().mean())"
   ]
  },
  {
   "cell_type": "markdown",
   "metadata": {},
   "source": [
    "В нашей выборке средние значения оценок действительно не равны. "
   ]
  },
  {
   "cell_type": "markdown",
   "metadata": {},
   "source": [
    "**Вывод:**\n",
    "\n",
    "Проверены 2 гипотезы:\n",
    "\n",
    "* Cредние пользовательские рейтинги платформ Xbox One и PC расположены близко или могут быть равны, H0 не отвергнута;\n",
    "* Вероятно, средние пользовательские рейтинги жанров Action и Sports не равны, H0 отвергнута.\n",
    "\n",
    "[Вернуться к содержанию](#Содержание)"
   ]
  },
  {
   "cell_type": "markdown",
   "metadata": {},
   "source": [
    "## Общий вывод"
   ]
  },
  {
   "cell_type": "markdown",
   "metadata": {},
   "source": [
    "На основе предоставленных данных было исследовано:\n",
    "\n",
    "* Рост количества выпускаемых игр начинается с 1994, а после 2011 количество заметно падает и держится практически равномерно;\n",
    "* Для дальнейшего анализа выбран период с 2013 по 2016, так как он охватывает современные платформы, аудиторию и их предпочтения;\n",
    "* Самые потенциально прибыльные платформы: PC, PS4 и Xbox One - показывают рост последние 3 года;\n",
    "* PS3, PS4, X360 и XOne имеют самый большой разброс по количеству проданных копий на \"тайтл\";\n",
    "* В основном оценки критиков положительно слабо влияют на продажи, оценки пользователей чаще всего не влияют на продажи, за исключением 3DS, PSV, WiiU - имеют одинаковое влияние на продажи как от критиков, так и от пользователей;\n",
    "* Жанр-лидер по количеству игр и проданных копий - *Action*, однако жанр с самым большим количеством проданных копий на игру - *Shooter*.\n",
    "\n",
    "Составлен портрет пользователя по каждому региону:\n",
    "\n",
    "* *NA*: самая востребованная платформа - PS4 (108,74 млн. проданных копий игр в регионе), самый востребованный жанр - Action (580.04 млн. проданных копий игр в регионе), распределение продаж в регионе по рейтингам ESRB: 1.M , 2.E , 3.E10+ , 4.T;\n",
    "\n",
    "* *EU*: самая востребованная платформа - PS4 (141,09 млн. проданных копий игр в регионе), самый востребованный жанр - Action (372.58 млн. проданных копий игр в регионе), распределение продаж в регионе по рейтингам ESRB: 1.M, 2.E, 3.E10+, 4.T;\n",
    "\n",
    "* *JP*: самая востребованная платформа - 3DS (67,81 млн. проданных копий игр в регионе), самый востребованный жанр - Role-Playing, распределение продаж в регионе по рейтингам ESRB: 1.T, 2.E, 3.M, 4.E10+;\n",
    "\n",
    "Также проверены 2 гипотезы:\n",
    "\n",
    "* Вероятно, средние пользовательские рейтинги платформ Xbox One и PC могут быть равны, H0 не отвергнута;\n",
    "* Вероятно, средние пользовательские рейтинги жанров Action и Sports не равны, H0 отвергнута - отдельно от других факторов выбор жанра в пользу Action для продажи выглядит приоритетнее.\n",
    "\n",
    "Рекомендуемая стартегия продаж на 2017 год: \n",
    "\n",
    "* Приоритетные регионы: *NA*, *EU* - *JP* представляет собой меньший рынок, а также имеет альтернативный пик платформ и жанров;\n",
    "* Платформа: *PC*, *XOne*, *PS4* - растущие по продажам платформы;\n",
    "* Жанр: *Action*, *Shooter* - самые продаваемые жанры;\n",
    "* Рейтинг ESRB: *M*, *E* - занимают первые места по продажам.\n",
    "\n",
    "[Вернуться к содержанию](#Содержание)"
   ]
  }
 ],
 "metadata": {
  "ExecuteTimeLog": [
   {
    "duration": 68,
    "start_time": "2024-06-21T17:12:59.526Z"
   },
   {
    "duration": 85,
    "start_time": "2024-06-21T17:32:25.954Z"
   },
   {
    "duration": 1020,
    "start_time": "2024-06-21T17:36:40.046Z"
   },
   {
    "duration": 3,
    "start_time": "2024-06-21T17:37:31.181Z"
   },
   {
    "duration": 84,
    "start_time": "2024-06-21T17:38:22.206Z"
   },
   {
    "duration": 106,
    "start_time": "2024-06-21T17:38:38.071Z"
   },
   {
    "duration": 41,
    "start_time": "2024-06-23T06:25:28.224Z"
   },
   {
    "duration": 1159,
    "start_time": "2024-06-23T06:25:31.612Z"
   },
   {
    "duration": 979,
    "start_time": "2024-06-23T06:25:34.422Z"
   },
   {
    "duration": 505,
    "start_time": "2024-06-23T06:26:47.788Z"
   },
   {
    "duration": 855,
    "start_time": "2024-06-23T06:26:58.102Z"
   },
   {
    "duration": 745,
    "start_time": "2024-06-23T06:26:58.958Z"
   },
   {
    "duration": 943,
    "start_time": "2024-06-23T06:29:32.848Z"
   },
   {
    "duration": 506,
    "start_time": "2024-06-23T06:29:33.792Z"
   },
   {
    "duration": 486,
    "start_time": "2024-06-23T06:30:28.635Z"
   },
   {
    "duration": 479,
    "start_time": "2024-06-23T06:30:42.602Z"
   },
   {
    "duration": 528,
    "start_time": "2024-06-23T06:30:57.103Z"
   },
   {
    "duration": 58,
    "start_time": "2024-06-23T06:38:25.714Z"
   },
   {
    "duration": 17,
    "start_time": "2024-06-23T06:40:47.556Z"
   },
   {
    "duration": 59,
    "start_time": "2024-06-23T06:43:53.702Z"
   },
   {
    "duration": 82,
    "start_time": "2024-06-23T06:45:33.976Z"
   },
   {
    "duration": 4273,
    "start_time": "2024-06-23T06:45:39.254Z"
   },
   {
    "duration": 65,
    "start_time": "2024-06-23T06:45:43.528Z"
   },
   {
    "duration": 66,
    "start_time": "2024-06-23T06:45:43.595Z"
   },
   {
    "duration": 88,
    "start_time": "2024-06-23T06:45:43.663Z"
   },
   {
    "duration": 0,
    "start_time": "2024-06-23T06:45:43.752Z"
   },
   {
    "duration": 853,
    "start_time": "2024-06-23T06:45:55.828Z"
   },
   {
    "duration": 871,
    "start_time": "2024-06-23T06:48:21.204Z"
   },
   {
    "duration": 883,
    "start_time": "2024-06-23T06:49:27.395Z"
   },
   {
    "duration": 894,
    "start_time": "2024-06-23T06:49:44.400Z"
   },
   {
    "duration": 924,
    "start_time": "2024-06-23T06:49:53.552Z"
   },
   {
    "duration": 566,
    "start_time": "2024-06-23T06:51:37.955Z"
   },
   {
    "duration": 856,
    "start_time": "2024-06-23T06:51:56.407Z"
   },
   {
    "duration": 469,
    "start_time": "2024-06-23T06:55:10.275Z"
   },
   {
    "duration": 9,
    "start_time": "2024-06-23T07:26:07.109Z"
   },
   {
    "duration": 3,
    "start_time": "2024-06-23T07:26:32.826Z"
   },
   {
    "duration": 8,
    "start_time": "2024-06-23T08:26:02.647Z"
   },
   {
    "duration": 8,
    "start_time": "2024-06-23T08:26:20.315Z"
   },
   {
    "duration": 13,
    "start_time": "2024-06-23T08:26:40.758Z"
   },
   {
    "duration": 3,
    "start_time": "2024-06-23T08:33:06.007Z"
   },
   {
    "duration": 12,
    "start_time": "2024-06-23T08:42:11.271Z"
   },
   {
    "duration": 8,
    "start_time": "2024-06-23T08:42:33.765Z"
   },
   {
    "duration": 9,
    "start_time": "2024-06-23T08:43:24.688Z"
   },
   {
    "duration": 6,
    "start_time": "2024-06-23T08:45:41.216Z"
   },
   {
    "duration": 14,
    "start_time": "2024-06-23T08:46:20.120Z"
   },
   {
    "duration": 16,
    "start_time": "2024-06-23T08:49:22.512Z"
   },
   {
    "duration": 13,
    "start_time": "2024-06-23T08:52:13.945Z"
   },
   {
    "duration": 23,
    "start_time": "2024-06-23T08:53:26.061Z"
   },
   {
    "duration": 16,
    "start_time": "2024-06-23T08:53:55.009Z"
   },
   {
    "duration": 3521,
    "start_time": "2024-06-23T08:54:02.220Z"
   },
   {
    "duration": 69,
    "start_time": "2024-06-23T08:54:05.743Z"
   },
   {
    "duration": 13,
    "start_time": "2024-06-23T08:54:05.814Z"
   },
   {
    "duration": 953,
    "start_time": "2024-06-23T08:54:05.829Z"
   },
   {
    "duration": 451,
    "start_time": "2024-06-23T08:54:06.783Z"
   },
   {
    "duration": 3,
    "start_time": "2024-06-23T08:54:07.236Z"
   },
   {
    "duration": 18,
    "start_time": "2024-06-23T08:54:07.240Z"
   },
   {
    "duration": 23,
    "start_time": "2024-06-23T08:55:15.413Z"
   },
   {
    "duration": 23,
    "start_time": "2024-06-23T08:56:01.586Z"
   },
   {
    "duration": 2415,
    "start_time": "2024-06-23T08:57:03.388Z"
   },
   {
    "duration": 3501,
    "start_time": "2024-06-23T08:57:15.851Z"
   },
   {
    "duration": 66,
    "start_time": "2024-06-23T08:57:19.354Z"
   },
   {
    "duration": 11,
    "start_time": "2024-06-23T08:57:19.422Z"
   },
   {
    "duration": 983,
    "start_time": "2024-06-23T08:57:19.434Z"
   },
   {
    "duration": 467,
    "start_time": "2024-06-23T08:57:20.421Z"
   },
   {
    "duration": 36,
    "start_time": "2024-06-23T08:57:20.889Z"
   },
   {
    "duration": 49,
    "start_time": "2024-06-23T08:57:20.926Z"
   },
   {
    "duration": 83,
    "start_time": "2024-06-23T08:57:20.977Z"
   },
   {
    "duration": 4,
    "start_time": "2024-06-23T08:59:03.502Z"
   },
   {
    "duration": 17,
    "start_time": "2024-06-23T09:22:46.525Z"
   },
   {
    "duration": 15,
    "start_time": "2024-06-23T09:23:27.866Z"
   },
   {
    "duration": 45,
    "start_time": "2024-06-25T10:42:20.952Z"
   },
   {
    "duration": 9,
    "start_time": "2024-06-25T10:42:27.472Z"
   },
   {
    "duration": 0,
    "start_time": "2024-06-25T10:42:27.482Z"
   },
   {
    "duration": 0,
    "start_time": "2024-06-25T10:42:27.483Z"
   },
   {
    "duration": 0,
    "start_time": "2024-06-25T10:42:27.484Z"
   },
   {
    "duration": 0,
    "start_time": "2024-06-25T10:42:27.485Z"
   },
   {
    "duration": 0,
    "start_time": "2024-06-25T10:42:27.486Z"
   },
   {
    "duration": 0,
    "start_time": "2024-06-25T10:42:27.487Z"
   },
   {
    "duration": 0,
    "start_time": "2024-06-25T10:42:27.488Z"
   },
   {
    "duration": 0,
    "start_time": "2024-06-25T10:42:27.489Z"
   },
   {
    "duration": 0,
    "start_time": "2024-06-25T10:42:27.490Z"
   },
   {
    "duration": 10,
    "start_time": "2024-06-25T10:42:43.131Z"
   },
   {
    "duration": 0,
    "start_time": "2024-06-25T10:42:43.143Z"
   },
   {
    "duration": 0,
    "start_time": "2024-06-25T10:42:43.144Z"
   },
   {
    "duration": 0,
    "start_time": "2024-06-25T10:42:43.145Z"
   },
   {
    "duration": 0,
    "start_time": "2024-06-25T10:42:43.146Z"
   },
   {
    "duration": 0,
    "start_time": "2024-06-25T10:42:43.147Z"
   },
   {
    "duration": 0,
    "start_time": "2024-06-25T10:42:43.148Z"
   },
   {
    "duration": 0,
    "start_time": "2024-06-25T10:42:43.150Z"
   },
   {
    "duration": 0,
    "start_time": "2024-06-25T10:42:43.151Z"
   },
   {
    "duration": 0,
    "start_time": "2024-06-25T10:42:43.152Z"
   },
   {
    "duration": 9,
    "start_time": "2024-06-25T10:43:20.521Z"
   },
   {
    "duration": 0,
    "start_time": "2024-06-25T10:43:20.531Z"
   },
   {
    "duration": 0,
    "start_time": "2024-06-25T10:43:20.532Z"
   },
   {
    "duration": 0,
    "start_time": "2024-06-25T10:43:20.533Z"
   },
   {
    "duration": 0,
    "start_time": "2024-06-25T10:43:20.534Z"
   },
   {
    "duration": 0,
    "start_time": "2024-06-25T10:43:20.535Z"
   },
   {
    "duration": 0,
    "start_time": "2024-06-25T10:43:20.536Z"
   },
   {
    "duration": 0,
    "start_time": "2024-06-25T10:43:20.537Z"
   },
   {
    "duration": 0,
    "start_time": "2024-06-25T10:43:20.538Z"
   },
   {
    "duration": 0,
    "start_time": "2024-06-25T10:43:20.539Z"
   },
   {
    "duration": 9,
    "start_time": "2024-06-25T10:44:07.795Z"
   },
   {
    "duration": 0,
    "start_time": "2024-06-25T10:44:07.806Z"
   },
   {
    "duration": 0,
    "start_time": "2024-06-25T10:44:07.807Z"
   },
   {
    "duration": 0,
    "start_time": "2024-06-25T10:44:07.808Z"
   },
   {
    "duration": 0,
    "start_time": "2024-06-25T10:44:07.809Z"
   },
   {
    "duration": 0,
    "start_time": "2024-06-25T10:44:07.810Z"
   },
   {
    "duration": 0,
    "start_time": "2024-06-25T10:44:07.811Z"
   },
   {
    "duration": 0,
    "start_time": "2024-06-25T10:44:07.812Z"
   },
   {
    "duration": 0,
    "start_time": "2024-06-25T10:44:07.813Z"
   },
   {
    "duration": 0,
    "start_time": "2024-06-25T10:44:07.814Z"
   },
   {
    "duration": 3,
    "start_time": "2024-06-25T10:44:14.627Z"
   },
   {
    "duration": 4947,
    "start_time": "2024-06-25T10:44:27.880Z"
   },
   {
    "duration": 3724,
    "start_time": "2024-06-25T10:44:38.859Z"
   },
   {
    "duration": 117,
    "start_time": "2024-06-25T10:44:42.585Z"
   },
   {
    "duration": 12,
    "start_time": "2024-06-25T10:44:42.704Z"
   },
   {
    "duration": 918,
    "start_time": "2024-06-25T10:44:42.717Z"
   },
   {
    "duration": 510,
    "start_time": "2024-06-25T10:44:43.637Z"
   },
   {
    "duration": 24,
    "start_time": "2024-06-25T10:44:44.149Z"
   },
   {
    "duration": 4,
    "start_time": "2024-06-25T10:44:44.174Z"
   },
   {
    "duration": 33,
    "start_time": "2024-06-25T10:44:44.180Z"
   },
   {
    "duration": 19,
    "start_time": "2024-06-25T10:44:44.214Z"
   },
   {
    "duration": 122,
    "start_time": "2024-06-25T10:44:44.234Z"
   },
   {
    "duration": 6,
    "start_time": "2024-06-25T10:45:05.110Z"
   },
   {
    "duration": 9,
    "start_time": "2024-06-25T10:46:09.923Z"
   },
   {
    "duration": 8,
    "start_time": "2024-06-25T10:46:37.625Z"
   },
   {
    "duration": 3731,
    "start_time": "2024-06-25T10:48:05.061Z"
   },
   {
    "duration": 70,
    "start_time": "2024-06-25T10:48:08.793Z"
   },
   {
    "duration": 12,
    "start_time": "2024-06-25T10:48:08.865Z"
   },
   {
    "duration": 933,
    "start_time": "2024-06-25T10:48:08.879Z"
   },
   {
    "duration": 483,
    "start_time": "2024-06-25T10:48:09.814Z"
   },
   {
    "duration": 28,
    "start_time": "2024-06-25T10:48:10.299Z"
   },
   {
    "duration": 4,
    "start_time": "2024-06-25T10:48:10.328Z"
   },
   {
    "duration": 25,
    "start_time": "2024-06-25T10:48:10.334Z"
   },
   {
    "duration": 20,
    "start_time": "2024-06-25T10:48:10.361Z"
   },
   {
    "duration": 6,
    "start_time": "2024-06-25T10:48:10.383Z"
   },
   {
    "duration": 29,
    "start_time": "2024-06-25T10:49:54.104Z"
   },
   {
    "duration": 5,
    "start_time": "2024-06-25T10:51:22.387Z"
   },
   {
    "duration": 100,
    "start_time": "2024-06-25T10:51:40.200Z"
   },
   {
    "duration": 6,
    "start_time": "2024-06-25T10:56:23.898Z"
   },
   {
    "duration": 4,
    "start_time": "2024-06-25T10:57:02.577Z"
   },
   {
    "duration": 14,
    "start_time": "2024-06-25T11:00:25.291Z"
   },
   {
    "duration": 65,
    "start_time": "2024-06-25T11:01:02.921Z"
   },
   {
    "duration": 12,
    "start_time": "2024-06-25T11:01:24.303Z"
   },
   {
    "duration": 13,
    "start_time": "2024-06-25T11:01:35.876Z"
   },
   {
    "duration": 19,
    "start_time": "2024-06-25T11:03:35.050Z"
   },
   {
    "duration": 9,
    "start_time": "2024-06-25T12:20:27.866Z"
   },
   {
    "duration": 6,
    "start_time": "2024-06-25T12:20:39.661Z"
   },
   {
    "duration": 16,
    "start_time": "2024-06-25T12:32:38.099Z"
   },
   {
    "duration": 4,
    "start_time": "2024-06-25T12:33:56.710Z"
   },
   {
    "duration": 11,
    "start_time": "2024-06-25T12:35:27.187Z"
   },
   {
    "duration": 4,
    "start_time": "2024-06-25T12:36:49.541Z"
   },
   {
    "duration": 13,
    "start_time": "2024-06-25T12:36:50.932Z"
   },
   {
    "duration": 3753,
    "start_time": "2024-06-25T12:39:30.080Z"
   },
   {
    "duration": 80,
    "start_time": "2024-06-25T12:39:33.835Z"
   },
   {
    "duration": 12,
    "start_time": "2024-06-25T12:39:33.917Z"
   },
   {
    "duration": 976,
    "start_time": "2024-06-25T12:39:33.931Z"
   },
   {
    "duration": 492,
    "start_time": "2024-06-25T12:39:34.912Z"
   },
   {
    "duration": 32,
    "start_time": "2024-06-25T12:39:35.411Z"
   },
   {
    "duration": 5,
    "start_time": "2024-06-25T12:39:35.445Z"
   },
   {
    "duration": 44,
    "start_time": "2024-06-25T12:39:35.452Z"
   },
   {
    "duration": 30,
    "start_time": "2024-06-25T12:39:35.497Z"
   },
   {
    "duration": 23,
    "start_time": "2024-06-25T12:39:35.536Z"
   },
   {
    "duration": 7,
    "start_time": "2024-06-25T12:39:35.561Z"
   },
   {
    "duration": 91,
    "start_time": "2024-06-25T12:39:35.570Z"
   },
   {
    "duration": 14,
    "start_time": "2024-06-25T12:39:35.662Z"
   },
   {
    "duration": 13,
    "start_time": "2024-06-25T12:42:02.868Z"
   },
   {
    "duration": 977,
    "start_time": "2024-06-25T12:43:42.083Z"
   },
   {
    "duration": 123,
    "start_time": "2024-06-25T13:02:28.429Z"
   },
   {
    "duration": 1164,
    "start_time": "2024-06-25T13:06:03.595Z"
   },
   {
    "duration": 265,
    "start_time": "2024-06-25T13:07:17.182Z"
   },
   {
    "duration": 334,
    "start_time": "2024-06-25T13:07:29.694Z"
   },
   {
    "duration": 269,
    "start_time": "2024-06-25T13:08:11.760Z"
   },
   {
    "duration": 13,
    "start_time": "2024-06-25T13:09:53.004Z"
   },
   {
    "duration": 14,
    "start_time": "2024-06-25T13:11:06.422Z"
   },
   {
    "duration": 15,
    "start_time": "2024-06-25T13:11:14.731Z"
   },
   {
    "duration": 16,
    "start_time": "2024-06-25T13:11:31.788Z"
   },
   {
    "duration": 62,
    "start_time": "2024-06-25T13:12:31.749Z"
   },
   {
    "duration": 56,
    "start_time": "2024-06-25T13:12:46.811Z"
   },
   {
    "duration": 63,
    "start_time": "2024-06-25T13:13:50.067Z"
   },
   {
    "duration": 15,
    "start_time": "2024-06-25T13:13:59.580Z"
   },
   {
    "duration": 17,
    "start_time": "2024-06-25T13:14:25.603Z"
   },
   {
    "duration": 1074,
    "start_time": "2024-06-25T13:19:05.975Z"
   },
   {
    "duration": 8,
    "start_time": "2024-06-25T13:19:52.415Z"
   },
   {
    "duration": 306,
    "start_time": "2024-06-25T13:20:24.196Z"
   },
   {
    "duration": 337,
    "start_time": "2024-06-25T13:20:56.301Z"
   },
   {
    "duration": 309,
    "start_time": "2024-06-25T13:21:03.355Z"
   },
   {
    "duration": 267,
    "start_time": "2024-06-25T13:21:16.430Z"
   },
   {
    "duration": 287,
    "start_time": "2024-06-25T13:21:49.209Z"
   },
   {
    "duration": 287,
    "start_time": "2024-06-25T13:22:27.077Z"
   },
   {
    "duration": 14,
    "start_time": "2024-06-25T14:41:18.942Z"
   },
   {
    "duration": 55,
    "start_time": "2024-06-25T14:41:33.666Z"
   },
   {
    "duration": 60,
    "start_time": "2024-06-25T14:42:18.580Z"
   },
   {
    "duration": 106,
    "start_time": "2024-06-25T14:42:28.994Z"
   },
   {
    "duration": 8,
    "start_time": "2024-06-25T14:45:17.045Z"
   },
   {
    "duration": 5,
    "start_time": "2024-06-25T14:46:28.714Z"
   },
   {
    "duration": 11,
    "start_time": "2024-06-25T14:46:39.212Z"
   },
   {
    "duration": 5,
    "start_time": "2024-06-25T14:54:48.653Z"
   },
   {
    "duration": 3,
    "start_time": "2024-06-25T14:56:37.947Z"
   },
   {
    "duration": 631,
    "start_time": "2024-06-25T15:05:57.353Z"
   },
   {
    "duration": 342,
    "start_time": "2024-06-25T15:07:05.353Z"
   },
   {
    "duration": 431,
    "start_time": "2024-06-25T15:07:26.803Z"
   },
   {
    "duration": 317,
    "start_time": "2024-06-25T15:08:38.911Z"
   },
   {
    "duration": 259,
    "start_time": "2024-06-25T15:09:22.342Z"
   },
   {
    "duration": 255,
    "start_time": "2024-06-25T15:09:58.753Z"
   },
   {
    "duration": 337,
    "start_time": "2024-06-25T15:10:16.450Z"
   },
   {
    "duration": 268,
    "start_time": "2024-06-25T15:14:00.107Z"
   },
   {
    "duration": 266,
    "start_time": "2024-06-25T15:14:34.119Z"
   },
   {
    "duration": 291,
    "start_time": "2024-06-25T15:15:05.617Z"
   },
   {
    "duration": 278,
    "start_time": "2024-06-25T15:15:22.551Z"
   },
   {
    "duration": 270,
    "start_time": "2024-06-25T15:16:36.184Z"
   },
   {
    "duration": 272,
    "start_time": "2024-06-25T15:16:46.682Z"
   },
   {
    "duration": 283,
    "start_time": "2024-06-25T15:17:33.677Z"
   },
   {
    "duration": 3830,
    "start_time": "2024-06-25T15:18:32.962Z"
   },
   {
    "duration": 78,
    "start_time": "2024-06-25T15:18:36.794Z"
   },
   {
    "duration": 15,
    "start_time": "2024-06-25T15:18:36.874Z"
   },
   {
    "duration": 938,
    "start_time": "2024-06-25T15:18:36.891Z"
   },
   {
    "duration": 501,
    "start_time": "2024-06-25T15:18:37.831Z"
   },
   {
    "duration": 36,
    "start_time": "2024-06-25T15:18:38.333Z"
   },
   {
    "duration": 4,
    "start_time": "2024-06-25T15:18:38.371Z"
   },
   {
    "duration": 36,
    "start_time": "2024-06-25T15:18:38.376Z"
   },
   {
    "duration": 19,
    "start_time": "2024-06-25T15:18:38.413Z"
   },
   {
    "duration": 21,
    "start_time": "2024-06-25T15:18:38.433Z"
   },
   {
    "duration": 7,
    "start_time": "2024-06-25T15:18:38.455Z"
   },
   {
    "duration": 15,
    "start_time": "2024-06-25T15:18:38.464Z"
   },
   {
    "duration": 15,
    "start_time": "2024-06-25T15:18:38.511Z"
   },
   {
    "duration": 12,
    "start_time": "2024-06-25T15:18:38.529Z"
   },
   {
    "duration": 1051,
    "start_time": "2024-06-25T15:18:38.542Z"
   },
   {
    "duration": 28,
    "start_time": "2024-06-25T15:18:39.594Z"
   },
   {
    "duration": 342,
    "start_time": "2024-06-25T15:18:39.624Z"
   },
   {
    "duration": 12,
    "start_time": "2024-06-25T15:18:39.968Z"
   },
   {
    "duration": 16,
    "start_time": "2024-06-25T15:18:39.981Z"
   },
   {
    "duration": 281,
    "start_time": "2024-06-25T15:18:39.999Z"
   },
   {
    "duration": 65,
    "start_time": "2024-06-25T15:18:40.281Z"
   },
   {
    "duration": 251,
    "start_time": "2024-06-25T15:18:48.079Z"
   },
   {
    "duration": 258,
    "start_time": "2024-06-25T15:19:09.790Z"
   },
   {
    "duration": 3802,
    "start_time": "2024-06-25T15:20:04.593Z"
   },
   {
    "duration": 72,
    "start_time": "2024-06-25T15:20:08.397Z"
   },
   {
    "duration": 13,
    "start_time": "2024-06-25T15:20:08.470Z"
   },
   {
    "duration": 920,
    "start_time": "2024-06-25T15:20:08.485Z"
   },
   {
    "duration": 480,
    "start_time": "2024-06-25T15:20:09.411Z"
   },
   {
    "duration": 32,
    "start_time": "2024-06-25T15:20:09.892Z"
   },
   {
    "duration": 4,
    "start_time": "2024-06-25T15:20:09.926Z"
   },
   {
    "duration": 27,
    "start_time": "2024-06-25T15:20:09.931Z"
   },
   {
    "duration": 22,
    "start_time": "2024-06-25T15:20:09.959Z"
   },
   {
    "duration": 32,
    "start_time": "2024-06-25T15:20:09.983Z"
   },
   {
    "duration": 7,
    "start_time": "2024-06-25T15:20:10.016Z"
   },
   {
    "duration": 26,
    "start_time": "2024-06-25T15:20:10.024Z"
   },
   {
    "duration": 46,
    "start_time": "2024-06-25T15:20:10.051Z"
   },
   {
    "duration": 16,
    "start_time": "2024-06-25T15:20:10.099Z"
   },
   {
    "duration": 910,
    "start_time": "2024-06-25T15:20:10.117Z"
   },
   {
    "duration": 18,
    "start_time": "2024-06-25T15:20:11.028Z"
   },
   {
    "duration": 371,
    "start_time": "2024-06-25T15:20:11.047Z"
   },
   {
    "duration": 13,
    "start_time": "2024-06-25T15:20:11.419Z"
   },
   {
    "duration": 6,
    "start_time": "2024-06-25T15:20:11.433Z"
   },
   {
    "duration": 227,
    "start_time": "2024-06-25T15:20:11.440Z"
   },
   {
    "duration": 61,
    "start_time": "2024-06-25T15:20:11.668Z"
   },
   {
    "duration": 228,
    "start_time": "2024-06-25T15:21:59.123Z"
   },
   {
    "duration": 238,
    "start_time": "2024-06-25T15:23:08.268Z"
   },
   {
    "duration": 240,
    "start_time": "2024-06-25T15:23:50.353Z"
   },
   {
    "duration": 114,
    "start_time": "2024-06-25T18:10:40.691Z"
   },
   {
    "duration": 13,
    "start_time": "2024-06-25T18:11:00.000Z"
   },
   {
    "duration": 33,
    "start_time": "2024-06-25T18:11:27.989Z"
   },
   {
    "duration": 333,
    "start_time": "2024-06-25T18:12:41.536Z"
   },
   {
    "duration": 393,
    "start_time": "2024-06-25T18:12:59.896Z"
   },
   {
    "duration": 23,
    "start_time": "2024-06-25T19:25:38.535Z"
   },
   {
    "duration": 8,
    "start_time": "2024-06-25T19:30:00.683Z"
   },
   {
    "duration": 8,
    "start_time": "2024-06-25T19:30:41.703Z"
   },
   {
    "duration": 248,
    "start_time": "2024-06-25T19:31:04.183Z"
   },
   {
    "duration": 297,
    "start_time": "2024-06-25T19:31:35.408Z"
   },
   {
    "duration": 311,
    "start_time": "2024-06-25T19:34:12.540Z"
   },
   {
    "duration": 316,
    "start_time": "2024-06-25T19:34:56.018Z"
   },
   {
    "duration": 390,
    "start_time": "2024-06-25T19:36:12.089Z"
   },
   {
    "duration": 325,
    "start_time": "2024-06-25T19:40:05.127Z"
   },
   {
    "duration": 321,
    "start_time": "2024-06-25T19:40:12.260Z"
   },
   {
    "duration": 309,
    "start_time": "2024-06-25T19:41:54.851Z"
   },
   {
    "duration": 339,
    "start_time": "2024-06-25T19:41:59.896Z"
   },
   {
    "duration": 336,
    "start_time": "2024-06-25T19:46:37.818Z"
   },
   {
    "duration": 411,
    "start_time": "2024-06-25T19:51:09.748Z"
   },
   {
    "duration": 988,
    "start_time": "2024-06-25T20:28:56.261Z"
   },
   {
    "duration": 7,
    "start_time": "2024-06-25T20:30:06.620Z"
   },
   {
    "duration": 14,
    "start_time": "2024-06-25T20:30:14.337Z"
   },
   {
    "duration": 11,
    "start_time": "2024-06-25T20:30:34.804Z"
   },
   {
    "duration": 8,
    "start_time": "2024-06-25T20:37:21.230Z"
   },
   {
    "duration": 1023,
    "start_time": "2024-06-25T20:43:14.425Z"
   },
   {
    "duration": 1028,
    "start_time": "2024-06-25T20:43:34.388Z"
   },
   {
    "duration": 103,
    "start_time": "2024-06-25T20:45:48.043Z"
   },
   {
    "duration": 132,
    "start_time": "2024-06-25T20:46:00.439Z"
   },
   {
    "duration": 166,
    "start_time": "2024-06-25T20:46:38.870Z"
   },
   {
    "duration": 182,
    "start_time": "2024-06-25T20:48:07.009Z"
   },
   {
    "duration": 176,
    "start_time": "2024-06-25T20:49:27.835Z"
   },
   {
    "duration": 135,
    "start_time": "2024-06-25T20:49:44.830Z"
   },
   {
    "duration": 137,
    "start_time": "2024-06-25T20:49:47.066Z"
   },
   {
    "duration": 141,
    "start_time": "2024-06-25T20:50:00.440Z"
   },
   {
    "duration": 135,
    "start_time": "2024-06-25T20:50:05.976Z"
   },
   {
    "duration": 131,
    "start_time": "2024-06-25T20:50:15.470Z"
   },
   {
    "duration": 12,
    "start_time": "2024-06-25T21:14:31.310Z"
   },
   {
    "duration": 11,
    "start_time": "2024-06-25T21:15:05.657Z"
   },
   {
    "duration": 5,
    "start_time": "2024-06-25T21:15:45.834Z"
   },
   {
    "duration": 7,
    "start_time": "2024-06-25T21:15:56.062Z"
   },
   {
    "duration": 10,
    "start_time": "2024-06-25T21:16:43.386Z"
   },
   {
    "duration": 10,
    "start_time": "2024-06-25T21:18:28.593Z"
   },
   {
    "duration": 10,
    "start_time": "2024-06-25T21:18:50.899Z"
   },
   {
    "duration": 6,
    "start_time": "2024-06-25T21:18:58.011Z"
   },
   {
    "duration": 7,
    "start_time": "2024-06-25T21:19:05.732Z"
   },
   {
    "duration": 3701,
    "start_time": "2024-06-25T21:19:17.386Z"
   },
   {
    "duration": 70,
    "start_time": "2024-06-25T21:19:21.089Z"
   },
   {
    "duration": 12,
    "start_time": "2024-06-25T21:19:21.160Z"
   },
   {
    "duration": 951,
    "start_time": "2024-06-25T21:19:21.174Z"
   },
   {
    "duration": 473,
    "start_time": "2024-06-25T21:19:22.127Z"
   },
   {
    "duration": 28,
    "start_time": "2024-06-25T21:19:22.602Z"
   },
   {
    "duration": 4,
    "start_time": "2024-06-25T21:19:22.631Z"
   },
   {
    "duration": 23,
    "start_time": "2024-06-25T21:19:22.637Z"
   },
   {
    "duration": 17,
    "start_time": "2024-06-25T21:19:22.661Z"
   },
   {
    "duration": 39,
    "start_time": "2024-06-25T21:19:22.681Z"
   },
   {
    "duration": 7,
    "start_time": "2024-06-25T21:19:22.722Z"
   },
   {
    "duration": 30,
    "start_time": "2024-06-25T21:19:22.731Z"
   },
   {
    "duration": 15,
    "start_time": "2024-06-25T21:19:22.762Z"
   },
   {
    "duration": 12,
    "start_time": "2024-06-25T21:19:22.779Z"
   },
   {
    "duration": 1005,
    "start_time": "2024-06-25T21:19:22.793Z"
   },
   {
    "duration": 22,
    "start_time": "2024-06-25T21:19:23.800Z"
   },
   {
    "duration": 364,
    "start_time": "2024-06-25T21:19:23.823Z"
   },
   {
    "duration": 13,
    "start_time": "2024-06-25T21:19:24.189Z"
   },
   {
    "duration": 5,
    "start_time": "2024-06-25T21:19:24.212Z"
   },
   {
    "duration": 286,
    "start_time": "2024-06-25T21:19:24.219Z"
   },
   {
    "duration": 327,
    "start_time": "2024-06-25T21:19:24.507Z"
   },
   {
    "duration": 341,
    "start_time": "2024-06-25T21:19:24.836Z"
   },
   {
    "duration": 13,
    "start_time": "2024-06-25T21:19:25.179Z"
   },
   {
    "duration": 23,
    "start_time": "2024-06-25T21:19:25.194Z"
   },
   {
    "duration": 142,
    "start_time": "2024-06-25T21:19:25.218Z"
   },
   {
    "duration": 145,
    "start_time": "2024-06-25T21:19:25.362Z"
   },
   {
    "duration": 6,
    "start_time": "2024-06-25T21:19:25.511Z"
   },
   {
    "duration": 7,
    "start_time": "2024-06-25T21:19:48.066Z"
   },
   {
    "duration": 5,
    "start_time": "2024-06-25T21:20:22.053Z"
   },
   {
    "duration": 9,
    "start_time": "2024-06-25T21:20:53.581Z"
   },
   {
    "duration": 6,
    "start_time": "2024-06-25T21:21:05.150Z"
   },
   {
    "duration": 101,
    "start_time": "2024-06-25T21:21:34.004Z"
   },
   {
    "duration": 11,
    "start_time": "2024-06-25T21:22:09.624Z"
   },
   {
    "duration": 7,
    "start_time": "2024-06-25T21:22:14.883Z"
   },
   {
    "duration": 19,
    "start_time": "2024-06-25T21:30:17.164Z"
   },
   {
    "duration": 68,
    "start_time": "2024-06-25T21:32:20.537Z"
   },
   {
    "duration": 69,
    "start_time": "2024-06-25T21:32:57.732Z"
   },
   {
    "duration": 8,
    "start_time": "2024-06-25T21:35:16.757Z"
   },
   {
    "duration": 7,
    "start_time": "2024-06-25T21:35:21.488Z"
   },
   {
    "duration": 7,
    "start_time": "2024-06-25T21:35:27.007Z"
   },
   {
    "duration": 3730,
    "start_time": "2024-06-25T21:35:41.869Z"
   },
   {
    "duration": 72,
    "start_time": "2024-06-25T21:35:45.601Z"
   },
   {
    "duration": 14,
    "start_time": "2024-06-25T21:35:45.676Z"
   },
   {
    "duration": 920,
    "start_time": "2024-06-25T21:35:45.692Z"
   },
   {
    "duration": 490,
    "start_time": "2024-06-25T21:35:46.613Z"
   },
   {
    "duration": 32,
    "start_time": "2024-06-25T21:35:47.104Z"
   },
   {
    "duration": 7,
    "start_time": "2024-06-25T21:35:47.138Z"
   },
   {
    "duration": 19,
    "start_time": "2024-06-25T21:35:47.146Z"
   },
   {
    "duration": 17,
    "start_time": "2024-06-25T21:35:47.166Z"
   },
   {
    "duration": 44,
    "start_time": "2024-06-25T21:35:47.185Z"
   },
   {
    "duration": 6,
    "start_time": "2024-06-25T21:35:47.231Z"
   },
   {
    "duration": 17,
    "start_time": "2024-06-25T21:35:47.238Z"
   },
   {
    "duration": 14,
    "start_time": "2024-06-25T21:35:47.257Z"
   },
   {
    "duration": 40,
    "start_time": "2024-06-25T21:35:47.273Z"
   },
   {
    "duration": 1003,
    "start_time": "2024-06-25T21:35:47.314Z"
   },
   {
    "duration": 16,
    "start_time": "2024-06-25T21:35:48.319Z"
   },
   {
    "duration": 351,
    "start_time": "2024-06-25T21:35:48.337Z"
   },
   {
    "duration": 11,
    "start_time": "2024-06-25T21:35:48.690Z"
   },
   {
    "duration": 10,
    "start_time": "2024-06-25T21:35:48.703Z"
   },
   {
    "duration": 252,
    "start_time": "2024-06-25T21:35:48.714Z"
   },
   {
    "duration": 345,
    "start_time": "2024-06-25T21:35:48.967Z"
   },
   {
    "duration": 341,
    "start_time": "2024-06-25T21:35:49.313Z"
   },
   {
    "duration": 11,
    "start_time": "2024-06-25T21:35:49.655Z"
   },
   {
    "duration": 20,
    "start_time": "2024-06-25T21:35:49.667Z"
   },
   {
    "duration": 146,
    "start_time": "2024-06-25T21:35:49.688Z"
   },
   {
    "duration": 136,
    "start_time": "2024-06-25T21:35:49.836Z"
   },
   {
    "duration": 6,
    "start_time": "2024-06-25T21:35:49.974Z"
   },
   {
    "duration": 82,
    "start_time": "2024-06-25T21:35:49.981Z"
   },
   {
    "duration": 106,
    "start_time": "2024-06-25T21:48:20.870Z"
   },
   {
    "duration": 14,
    "start_time": "2024-06-25T21:48:42.453Z"
   },
   {
    "duration": 14,
    "start_time": "2024-06-25T21:48:59.580Z"
   },
   {
    "duration": 55,
    "start_time": "2024-06-25T21:49:54.999Z"
   },
   {
    "duration": 61,
    "start_time": "2024-06-25T21:50:00.798Z"
   },
   {
    "duration": 61,
    "start_time": "2024-06-25T21:52:03.483Z"
   },
   {
    "duration": 58,
    "start_time": "2024-06-25T21:52:14.849Z"
   },
   {
    "duration": 9,
    "start_time": "2024-06-25T22:18:02.722Z"
   },
   {
    "duration": 9,
    "start_time": "2024-06-25T22:18:56.735Z"
   },
   {
    "duration": 189,
    "start_time": "2024-06-25T22:25:04.058Z"
   },
   {
    "duration": 185,
    "start_time": "2024-06-25T22:25:33.294Z"
   },
   {
    "duration": 171,
    "start_time": "2024-06-25T22:26:00.527Z"
   },
   {
    "duration": 223,
    "start_time": "2024-06-25T22:26:24.708Z"
   },
   {
    "duration": 11,
    "start_time": "2024-06-25T22:29:19.133Z"
   },
   {
    "duration": 9,
    "start_time": "2024-06-25T22:29:25.507Z"
   },
   {
    "duration": 12,
    "start_time": "2024-06-25T22:33:02.066Z"
   },
   {
    "duration": 11,
    "start_time": "2024-06-25T22:33:24.439Z"
   },
   {
    "duration": 180,
    "start_time": "2024-06-25T22:38:03.002Z"
   },
   {
    "duration": 334,
    "start_time": "2024-06-25T22:38:33.308Z"
   },
   {
    "duration": 286,
    "start_time": "2024-06-25T22:39:03.038Z"
   },
   {
    "duration": 4,
    "start_time": "2024-06-25T22:39:29.388Z"
   },
   {
    "duration": 4,
    "start_time": "2024-06-25T22:39:33.439Z"
   },
   {
    "duration": 305,
    "start_time": "2024-06-25T22:39:46.609Z"
   },
   {
    "duration": 324,
    "start_time": "2024-06-25T22:40:01.876Z"
   },
   {
    "duration": 311,
    "start_time": "2024-06-25T22:40:07.903Z"
   },
   {
    "duration": 3721,
    "start_time": "2024-06-25T22:41:01.674Z"
   },
   {
    "duration": 73,
    "start_time": "2024-06-25T22:41:05.396Z"
   },
   {
    "duration": 13,
    "start_time": "2024-06-25T22:41:05.470Z"
   },
   {
    "duration": 932,
    "start_time": "2024-06-25T22:41:05.485Z"
   },
   {
    "duration": 490,
    "start_time": "2024-06-25T22:41:06.419Z"
   },
   {
    "duration": 24,
    "start_time": "2024-06-25T22:41:06.911Z"
   },
   {
    "duration": 5,
    "start_time": "2024-06-25T22:41:06.937Z"
   },
   {
    "duration": 28,
    "start_time": "2024-06-25T22:41:06.943Z"
   },
   {
    "duration": 18,
    "start_time": "2024-06-25T22:41:06.973Z"
   },
   {
    "duration": 38,
    "start_time": "2024-06-25T22:41:06.992Z"
   },
   {
    "duration": 8,
    "start_time": "2024-06-25T22:41:07.032Z"
   },
   {
    "duration": 13,
    "start_time": "2024-06-25T22:41:07.042Z"
   },
   {
    "duration": 14,
    "start_time": "2024-06-25T22:41:07.056Z"
   },
   {
    "duration": 39,
    "start_time": "2024-06-25T22:41:07.073Z"
   },
   {
    "duration": 1000,
    "start_time": "2024-06-25T22:41:07.114Z"
   },
   {
    "duration": 19,
    "start_time": "2024-06-25T22:41:08.116Z"
   },
   {
    "duration": 364,
    "start_time": "2024-06-25T22:41:08.137Z"
   },
   {
    "duration": 18,
    "start_time": "2024-06-25T22:41:08.503Z"
   },
   {
    "duration": 4,
    "start_time": "2024-06-25T22:41:08.523Z"
   },
   {
    "duration": 254,
    "start_time": "2024-06-25T22:41:08.528Z"
   },
   {
    "duration": 317,
    "start_time": "2024-06-25T22:41:08.784Z"
   },
   {
    "duration": 349,
    "start_time": "2024-06-25T22:41:09.103Z"
   },
   {
    "duration": 13,
    "start_time": "2024-06-25T22:41:09.454Z"
   },
   {
    "duration": 33,
    "start_time": "2024-06-25T22:41:09.468Z"
   },
   {
    "duration": 197,
    "start_time": "2024-06-25T22:41:09.503Z"
   },
   {
    "duration": 138,
    "start_time": "2024-06-25T22:41:09.702Z"
   },
   {
    "duration": 6,
    "start_time": "2024-06-25T22:41:09.842Z"
   },
   {
    "duration": 76,
    "start_time": "2024-06-25T22:41:09.849Z"
   },
   {
    "duration": 12,
    "start_time": "2024-06-25T22:41:09.927Z"
   },
   {
    "duration": 300,
    "start_time": "2024-06-25T22:41:09.941Z"
   },
   {
    "duration": 108,
    "start_time": "2024-06-25T22:42:59.718Z"
   },
   {
    "duration": 325,
    "start_time": "2024-06-25T22:43:18.403Z"
   },
   {
    "duration": 13,
    "start_time": "2024-06-25T22:54:50.810Z"
   },
   {
    "duration": 61,
    "start_time": "2024-06-25T22:58:11.994Z"
   },
   {
    "duration": 304,
    "start_time": "2024-06-25T22:58:21.441Z"
   },
   {
    "duration": 380,
    "start_time": "2024-06-25T22:58:34.059Z"
   },
   {
    "duration": 8,
    "start_time": "2024-06-25T23:09:20.168Z"
   },
   {
    "duration": 10,
    "start_time": "2024-06-25T23:09:48.562Z"
   },
   {
    "duration": 3839,
    "start_time": "2024-06-25T23:10:33.198Z"
   },
   {
    "duration": 73,
    "start_time": "2024-06-25T23:10:37.039Z"
   },
   {
    "duration": 14,
    "start_time": "2024-06-25T23:10:37.114Z"
   },
   {
    "duration": 885,
    "start_time": "2024-06-25T23:10:37.129Z"
   },
   {
    "duration": 480,
    "start_time": "2024-06-25T23:10:38.017Z"
   },
   {
    "duration": 32,
    "start_time": "2024-06-25T23:10:38.499Z"
   },
   {
    "duration": 9,
    "start_time": "2024-06-25T23:10:38.533Z"
   },
   {
    "duration": 30,
    "start_time": "2024-06-25T23:10:38.543Z"
   },
   {
    "duration": 18,
    "start_time": "2024-06-25T23:10:38.574Z"
   },
   {
    "duration": 31,
    "start_time": "2024-06-25T23:10:38.594Z"
   },
   {
    "duration": 6,
    "start_time": "2024-06-25T23:10:38.627Z"
   },
   {
    "duration": 15,
    "start_time": "2024-06-25T23:10:38.634Z"
   },
   {
    "duration": 14,
    "start_time": "2024-06-25T23:10:38.651Z"
   },
   {
    "duration": 19,
    "start_time": "2024-06-25T23:10:38.667Z"
   },
   {
    "duration": 933,
    "start_time": "2024-06-25T23:10:38.687Z"
   },
   {
    "duration": 18,
    "start_time": "2024-06-25T23:10:39.621Z"
   },
   {
    "duration": 352,
    "start_time": "2024-06-25T23:10:39.640Z"
   },
   {
    "duration": 20,
    "start_time": "2024-06-25T23:10:39.994Z"
   },
   {
    "duration": 4,
    "start_time": "2024-06-25T23:10:40.016Z"
   },
   {
    "duration": 264,
    "start_time": "2024-06-25T23:10:40.022Z"
   },
   {
    "duration": 319,
    "start_time": "2024-06-25T23:10:40.288Z"
   },
   {
    "duration": 338,
    "start_time": "2024-06-25T23:10:40.608Z"
   },
   {
    "duration": 12,
    "start_time": "2024-06-25T23:10:40.947Z"
   },
   {
    "duration": 9,
    "start_time": "2024-06-25T23:10:40.961Z"
   },
   {
    "duration": 151,
    "start_time": "2024-06-25T23:10:40.972Z"
   },
   {
    "duration": 137,
    "start_time": "2024-06-25T23:10:41.125Z"
   },
   {
    "duration": 7,
    "start_time": "2024-06-25T23:10:41.264Z"
   },
   {
    "duration": 70,
    "start_time": "2024-06-25T23:10:41.272Z"
   },
   {
    "duration": 10,
    "start_time": "2024-06-25T23:10:41.344Z"
   },
   {
    "duration": 321,
    "start_time": "2024-06-25T23:10:41.356Z"
   },
   {
    "duration": 12,
    "start_time": "2024-06-25T23:10:41.678Z"
   },
   {
    "duration": 341,
    "start_time": "2024-06-25T23:10:41.691Z"
   },
   {
    "duration": 10,
    "start_time": "2024-06-25T23:10:42.033Z"
   },
   {
    "duration": 10,
    "start_time": "2024-06-25T23:12:20.937Z"
   },
   {
    "duration": 1095,
    "start_time": "2024-06-25T23:13:22.975Z"
   },
   {
    "duration": 15,
    "start_time": "2024-06-25T23:14:03.442Z"
   },
   {
    "duration": 1519,
    "start_time": "2024-06-25T23:15:12.162Z"
   },
   {
    "duration": 17,
    "start_time": "2024-06-25T23:15:16.186Z"
   },
   {
    "duration": 3725,
    "start_time": "2024-06-25T23:15:29.468Z"
   },
   {
    "duration": 70,
    "start_time": "2024-06-25T23:15:33.195Z"
   },
   {
    "duration": 12,
    "start_time": "2024-06-25T23:15:33.267Z"
   },
   {
    "duration": 942,
    "start_time": "2024-06-25T23:15:33.280Z"
   },
   {
    "duration": 487,
    "start_time": "2024-06-25T23:15:34.225Z"
   },
   {
    "duration": 25,
    "start_time": "2024-06-25T23:15:34.713Z"
   },
   {
    "duration": 4,
    "start_time": "2024-06-25T23:15:34.740Z"
   },
   {
    "duration": 18,
    "start_time": "2024-06-25T23:15:34.745Z"
   },
   {
    "duration": 18,
    "start_time": "2024-06-25T23:15:34.764Z"
   },
   {
    "duration": 46,
    "start_time": "2024-06-25T23:15:34.783Z"
   },
   {
    "duration": 6,
    "start_time": "2024-06-25T23:15:34.831Z"
   },
   {
    "duration": 17,
    "start_time": "2024-06-25T23:15:34.838Z"
   },
   {
    "duration": 13,
    "start_time": "2024-06-25T23:15:34.857Z"
   },
   {
    "duration": 15,
    "start_time": "2024-06-25T23:15:34.873Z"
   },
   {
    "duration": 912,
    "start_time": "2024-06-25T23:15:34.911Z"
   },
   {
    "duration": 18,
    "start_time": "2024-06-25T23:15:35.824Z"
   },
   {
    "duration": 360,
    "start_time": "2024-06-25T23:15:35.844Z"
   },
   {
    "duration": 12,
    "start_time": "2024-06-25T23:15:36.212Z"
   },
   {
    "duration": 9,
    "start_time": "2024-06-25T23:15:36.226Z"
   },
   {
    "duration": 254,
    "start_time": "2024-06-25T23:15:36.236Z"
   },
   {
    "duration": 326,
    "start_time": "2024-06-25T23:15:36.492Z"
   },
   {
    "duration": 348,
    "start_time": "2024-06-25T23:15:36.820Z"
   },
   {
    "duration": 13,
    "start_time": "2024-06-25T23:15:37.170Z"
   },
   {
    "duration": 12,
    "start_time": "2024-06-25T23:15:37.184Z"
   },
   {
    "duration": 157,
    "start_time": "2024-06-25T23:15:37.198Z"
   },
   {
    "duration": 142,
    "start_time": "2024-06-25T23:15:37.357Z"
   },
   {
    "duration": 16,
    "start_time": "2024-06-25T23:15:37.501Z"
   },
   {
    "duration": 64,
    "start_time": "2024-06-25T23:15:37.519Z"
   },
   {
    "duration": 12,
    "start_time": "2024-06-25T23:15:37.585Z"
   },
   {
    "duration": 312,
    "start_time": "2024-06-25T23:15:37.612Z"
   },
   {
    "duration": 13,
    "start_time": "2024-06-25T23:15:37.926Z"
   },
   {
    "duration": 317,
    "start_time": "2024-06-25T23:15:37.941Z"
   },
   {
    "duration": 14,
    "start_time": "2024-06-25T23:15:38.260Z"
   },
   {
    "duration": 3740,
    "start_time": "2024-06-25T23:16:03.056Z"
   },
   {
    "duration": 70,
    "start_time": "2024-06-25T23:16:06.798Z"
   },
   {
    "duration": 13,
    "start_time": "2024-06-25T23:16:06.870Z"
   },
   {
    "duration": 928,
    "start_time": "2024-06-25T23:16:06.884Z"
   },
   {
    "duration": 504,
    "start_time": "2024-06-25T23:16:07.813Z"
   },
   {
    "duration": 26,
    "start_time": "2024-06-25T23:16:08.319Z"
   },
   {
    "duration": 4,
    "start_time": "2024-06-25T23:16:08.347Z"
   },
   {
    "duration": 18,
    "start_time": "2024-06-25T23:16:08.352Z"
   },
   {
    "duration": 42,
    "start_time": "2024-06-25T23:16:08.371Z"
   },
   {
    "duration": 21,
    "start_time": "2024-06-25T23:16:08.415Z"
   },
   {
    "duration": 7,
    "start_time": "2024-06-25T23:16:08.437Z"
   },
   {
    "duration": 21,
    "start_time": "2024-06-25T23:16:08.445Z"
   },
   {
    "duration": 13,
    "start_time": "2024-06-25T23:16:08.468Z"
   },
   {
    "duration": 31,
    "start_time": "2024-06-25T23:16:08.482Z"
   },
   {
    "duration": 902,
    "start_time": "2024-06-25T23:16:08.514Z"
   },
   {
    "duration": 16,
    "start_time": "2024-06-25T23:16:09.417Z"
   },
   {
    "duration": 395,
    "start_time": "2024-06-25T23:16:09.435Z"
   },
   {
    "duration": 11,
    "start_time": "2024-06-25T23:16:09.831Z"
   },
   {
    "duration": 9,
    "start_time": "2024-06-25T23:16:09.843Z"
   },
   {
    "duration": 244,
    "start_time": "2024-06-25T23:16:09.854Z"
   },
   {
    "duration": 317,
    "start_time": "2024-06-25T23:16:10.099Z"
   },
   {
    "duration": 343,
    "start_time": "2024-06-25T23:16:10.418Z"
   },
   {
    "duration": 12,
    "start_time": "2024-06-25T23:16:10.762Z"
   },
   {
    "duration": 12,
    "start_time": "2024-06-25T23:16:10.775Z"
   },
   {
    "duration": 151,
    "start_time": "2024-06-25T23:16:10.788Z"
   },
   {
    "duration": 138,
    "start_time": "2024-06-25T23:16:10.941Z"
   },
   {
    "duration": 7,
    "start_time": "2024-06-25T23:16:11.080Z"
   },
   {
    "duration": 74,
    "start_time": "2024-06-25T23:16:11.090Z"
   },
   {
    "duration": 11,
    "start_time": "2024-06-25T23:16:11.166Z"
   },
   {
    "duration": 346,
    "start_time": "2024-06-25T23:16:11.178Z"
   },
   {
    "duration": 12,
    "start_time": "2024-06-25T23:16:11.525Z"
   },
   {
    "duration": 312,
    "start_time": "2024-06-25T23:16:11.539Z"
   },
   {
    "duration": 77,
    "start_time": "2024-06-25T23:16:11.853Z"
   },
   {
    "duration": 63,
    "start_time": "2024-06-25T23:16:25.269Z"
   },
   {
    "duration": 85,
    "start_time": "2024-06-25T23:17:18.464Z"
   },
   {
    "duration": 13,
    "start_time": "2024-06-25T23:17:27.324Z"
   },
   {
    "duration": 46,
    "start_time": "2024-06-26T10:57:34.005Z"
   },
   {
    "duration": 4553,
    "start_time": "2024-06-26T10:57:48.837Z"
   },
   {
    "duration": 219,
    "start_time": "2024-06-26T10:57:53.392Z"
   },
   {
    "duration": 12,
    "start_time": "2024-06-26T10:57:53.613Z"
   },
   {
    "duration": 1175,
    "start_time": "2024-06-26T10:57:53.627Z"
   },
   {
    "duration": 448,
    "start_time": "2024-06-26T10:57:54.808Z"
   },
   {
    "duration": 25,
    "start_time": "2024-06-26T10:57:55.258Z"
   },
   {
    "duration": 5,
    "start_time": "2024-06-26T10:57:55.284Z"
   },
   {
    "duration": 34,
    "start_time": "2024-06-26T10:57:55.290Z"
   },
   {
    "duration": 17,
    "start_time": "2024-06-26T10:57:55.326Z"
   },
   {
    "duration": 20,
    "start_time": "2024-06-26T10:57:55.344Z"
   },
   {
    "duration": 7,
    "start_time": "2024-06-26T10:57:55.366Z"
   },
   {
    "duration": 41,
    "start_time": "2024-06-26T10:57:55.374Z"
   },
   {
    "duration": 17,
    "start_time": "2024-06-26T10:57:55.416Z"
   },
   {
    "duration": 18,
    "start_time": "2024-06-26T10:57:55.436Z"
   },
   {
    "duration": 937,
    "start_time": "2024-06-26T10:57:55.456Z"
   },
   {
    "duration": 27,
    "start_time": "2024-06-26T10:57:56.394Z"
   },
   {
    "duration": 318,
    "start_time": "2024-06-26T10:57:56.423Z"
   },
   {
    "duration": 11,
    "start_time": "2024-06-26T10:57:56.743Z"
   },
   {
    "duration": 4,
    "start_time": "2024-06-26T10:57:56.755Z"
   },
   {
    "duration": 266,
    "start_time": "2024-06-26T10:57:56.760Z"
   },
   {
    "duration": 297,
    "start_time": "2024-06-26T10:57:57.027Z"
   },
   {
    "duration": 335,
    "start_time": "2024-06-26T10:57:57.325Z"
   },
   {
    "duration": 10,
    "start_time": "2024-06-26T10:57:57.662Z"
   },
   {
    "duration": 9,
    "start_time": "2024-06-26T10:57:57.674Z"
   },
   {
    "duration": 138,
    "start_time": "2024-06-26T10:57:57.684Z"
   },
   {
    "duration": 127,
    "start_time": "2024-06-26T10:57:57.824Z"
   },
   {
    "duration": 7,
    "start_time": "2024-06-26T10:57:57.952Z"
   },
   {
    "duration": 61,
    "start_time": "2024-06-26T10:57:57.960Z"
   },
   {
    "duration": 12,
    "start_time": "2024-06-26T10:57:58.023Z"
   },
   {
    "duration": 292,
    "start_time": "2024-06-26T10:57:58.036Z"
   },
   {
    "duration": 12,
    "start_time": "2024-06-26T10:57:58.329Z"
   },
   {
    "duration": 314,
    "start_time": "2024-06-26T10:57:58.343Z"
   },
   {
    "duration": 14,
    "start_time": "2024-06-26T10:57:58.659Z"
   },
   {
    "duration": 31,
    "start_time": "2024-06-26T10:57:58.675Z"
   },
   {
    "duration": 3,
    "start_time": "2024-06-26T10:57:58.707Z"
   },
   {
    "duration": 121,
    "start_time": "2024-06-26T10:58:29.442Z"
   },
   {
    "duration": 19,
    "start_time": "2024-06-26T10:58:35.413Z"
   },
   {
    "duration": 21,
    "start_time": "2024-06-26T10:58:45.996Z"
   },
   {
    "duration": 22,
    "start_time": "2024-06-26T10:58:55.621Z"
   },
   {
    "duration": 21,
    "start_time": "2024-06-26T10:59:52.510Z"
   },
   {
    "duration": 14,
    "start_time": "2024-06-26T11:06:06.121Z"
   },
   {
    "duration": 19,
    "start_time": "2024-06-26T11:06:27.180Z"
   },
   {
    "duration": 18,
    "start_time": "2024-06-26T11:07:36.190Z"
   },
   {
    "duration": 79,
    "start_time": "2024-06-26T11:07:53.584Z"
   },
   {
    "duration": 24,
    "start_time": "2024-06-26T11:07:59.503Z"
   },
   {
    "duration": 22,
    "start_time": "2024-06-26T11:09:08.598Z"
   },
   {
    "duration": 23,
    "start_time": "2024-06-26T11:09:19.876Z"
   },
   {
    "duration": 31,
    "start_time": "2024-06-26T11:10:26.335Z"
   },
   {
    "duration": 26,
    "start_time": "2024-06-26T11:11:30.575Z"
   },
   {
    "duration": 25,
    "start_time": "2024-06-26T11:12:03.636Z"
   },
   {
    "duration": 13,
    "start_time": "2024-06-26T11:12:14.737Z"
   },
   {
    "duration": 24,
    "start_time": "2024-06-26T11:12:25.141Z"
   },
   {
    "duration": 221,
    "start_time": "2024-06-26T11:15:33.553Z"
   },
   {
    "duration": 36,
    "start_time": "2024-06-26T11:15:55.110Z"
   },
   {
    "duration": 22,
    "start_time": "2024-06-26T11:16:20.639Z"
   },
   {
    "duration": 235,
    "start_time": "2024-06-26T11:16:26.862Z"
   },
   {
    "duration": 213,
    "start_time": "2024-06-26T11:19:05.411Z"
   },
   {
    "duration": 197,
    "start_time": "2024-06-26T11:20:23.452Z"
   },
   {
    "duration": 26,
    "start_time": "2024-06-26T11:20:36.398Z"
   },
   {
    "duration": 24,
    "start_time": "2024-06-26T11:20:57.574Z"
   },
   {
    "duration": 24,
    "start_time": "2024-06-26T11:21:44.071Z"
   },
   {
    "duration": 24,
    "start_time": "2024-06-26T11:39:20.509Z"
   },
   {
    "duration": 704,
    "start_time": "2024-06-26T11:40:05.846Z"
   },
   {
    "duration": 13,
    "start_time": "2024-06-26T11:40:13.203Z"
   },
   {
    "duration": 8,
    "start_time": "2024-06-26T11:46:35.350Z"
   },
   {
    "duration": 29,
    "start_time": "2024-06-26T11:48:13.186Z"
   },
   {
    "duration": 21,
    "start_time": "2024-06-26T11:48:17.742Z"
   },
   {
    "duration": 23,
    "start_time": "2024-06-26T11:49:20.327Z"
   },
   {
    "duration": 3579,
    "start_time": "2024-06-26T11:49:27.897Z"
   },
   {
    "duration": 68,
    "start_time": "2024-06-26T11:49:31.478Z"
   },
   {
    "duration": 14,
    "start_time": "2024-06-26T11:49:31.547Z"
   },
   {
    "duration": 1048,
    "start_time": "2024-06-26T11:49:31.563Z"
   },
   {
    "duration": 468,
    "start_time": "2024-06-26T11:49:32.612Z"
   },
   {
    "duration": 28,
    "start_time": "2024-06-26T11:49:33.082Z"
   },
   {
    "duration": 4,
    "start_time": "2024-06-26T11:49:33.111Z"
   },
   {
    "duration": 19,
    "start_time": "2024-06-26T11:49:33.116Z"
   },
   {
    "duration": 17,
    "start_time": "2024-06-26T11:49:33.137Z"
   },
   {
    "duration": 20,
    "start_time": "2024-06-26T11:49:33.156Z"
   },
   {
    "duration": 6,
    "start_time": "2024-06-26T11:49:33.177Z"
   },
   {
    "duration": 37,
    "start_time": "2024-06-26T11:49:33.184Z"
   },
   {
    "duration": 14,
    "start_time": "2024-06-26T11:49:33.222Z"
   },
   {
    "duration": 11,
    "start_time": "2024-06-26T11:49:33.237Z"
   },
   {
    "duration": 945,
    "start_time": "2024-06-26T11:49:33.249Z"
   },
   {
    "duration": 24,
    "start_time": "2024-06-26T11:49:34.195Z"
   },
   {
    "duration": 325,
    "start_time": "2024-06-26T11:49:34.220Z"
   },
   {
    "duration": 10,
    "start_time": "2024-06-26T11:49:34.547Z"
   },
   {
    "duration": 4,
    "start_time": "2024-06-26T11:49:34.558Z"
   },
   {
    "duration": 267,
    "start_time": "2024-06-26T11:49:34.563Z"
   },
   {
    "duration": 297,
    "start_time": "2024-06-26T11:49:34.831Z"
   },
   {
    "duration": 327,
    "start_time": "2024-06-26T11:49:35.130Z"
   },
   {
    "duration": 10,
    "start_time": "2024-06-26T11:49:35.459Z"
   },
   {
    "duration": 15,
    "start_time": "2024-06-26T11:49:35.471Z"
   },
   {
    "duration": 155,
    "start_time": "2024-06-26T11:49:35.488Z"
   },
   {
    "duration": 132,
    "start_time": "2024-06-26T11:49:35.644Z"
   },
   {
    "duration": 7,
    "start_time": "2024-06-26T11:49:35.777Z"
   },
   {
    "duration": 71,
    "start_time": "2024-06-26T11:49:35.787Z"
   },
   {
    "duration": 10,
    "start_time": "2024-06-26T11:49:35.860Z"
   },
   {
    "duration": 345,
    "start_time": "2024-06-26T11:49:35.871Z"
   },
   {
    "duration": 11,
    "start_time": "2024-06-26T11:49:36.217Z"
   },
   {
    "duration": 298,
    "start_time": "2024-06-26T11:49:36.230Z"
   },
   {
    "duration": 12,
    "start_time": "2024-06-26T11:49:36.529Z"
   },
   {
    "duration": 23,
    "start_time": "2024-06-26T11:49:36.542Z"
   },
   {
    "duration": 22,
    "start_time": "2024-06-26T11:49:36.566Z"
   },
   {
    "duration": 81,
    "start_time": "2024-06-26T11:54:17.153Z"
   },
   {
    "duration": 22,
    "start_time": "2024-06-26T11:54:28.577Z"
   },
   {
    "duration": 192,
    "start_time": "2024-06-26T12:00:36.003Z"
   },
   {
    "duration": 213,
    "start_time": "2024-06-26T12:00:49.913Z"
   },
   {
    "duration": 181,
    "start_time": "2024-06-26T12:01:32.709Z"
   },
   {
    "duration": 177,
    "start_time": "2024-06-26T12:02:06.118Z"
   },
   {
    "duration": 58,
    "start_time": "2024-06-26T12:02:40.621Z"
   },
   {
    "duration": 184,
    "start_time": "2024-06-26T12:02:45.417Z"
   },
   {
    "duration": 220,
    "start_time": "2024-06-26T12:06:24.726Z"
   },
   {
    "duration": 260,
    "start_time": "2024-06-26T12:07:01.359Z"
   },
   {
    "duration": 133,
    "start_time": "2024-06-26T12:07:15.186Z"
   },
   {
    "duration": 358,
    "start_time": "2024-06-26T12:07:25.337Z"
   },
   {
    "duration": 238,
    "start_time": "2024-06-26T12:07:43.758Z"
   },
   {
    "duration": 250,
    "start_time": "2024-06-26T12:07:53.137Z"
   },
   {
    "duration": 28,
    "start_time": "2024-06-26T12:09:46.284Z"
   },
   {
    "duration": 252,
    "start_time": "2024-06-26T12:09:50.192Z"
   },
   {
    "duration": 270,
    "start_time": "2024-06-26T12:15:23.298Z"
   },
   {
    "duration": 3633,
    "start_time": "2024-06-26T12:34:49.251Z"
   },
   {
    "duration": 67,
    "start_time": "2024-06-26T12:34:52.885Z"
   },
   {
    "duration": 13,
    "start_time": "2024-06-26T12:34:52.953Z"
   },
   {
    "duration": 1030,
    "start_time": "2024-06-26T12:34:52.968Z"
   },
   {
    "duration": 460,
    "start_time": "2024-06-26T12:34:54.000Z"
   },
   {
    "duration": 25,
    "start_time": "2024-06-26T12:34:54.462Z"
   },
   {
    "duration": 20,
    "start_time": "2024-06-26T12:34:54.489Z"
   },
   {
    "duration": 18,
    "start_time": "2024-06-26T12:34:54.511Z"
   },
   {
    "duration": 18,
    "start_time": "2024-06-26T12:34:54.531Z"
   },
   {
    "duration": 20,
    "start_time": "2024-06-26T12:34:54.551Z"
   },
   {
    "duration": 7,
    "start_time": "2024-06-26T12:34:54.573Z"
   },
   {
    "duration": 14,
    "start_time": "2024-06-26T12:34:54.609Z"
   },
   {
    "duration": 14,
    "start_time": "2024-06-26T12:34:54.625Z"
   },
   {
    "duration": 11,
    "start_time": "2024-06-26T12:34:54.643Z"
   },
   {
    "duration": 958,
    "start_time": "2024-06-26T12:34:54.656Z"
   },
   {
    "duration": 17,
    "start_time": "2024-06-26T12:34:55.616Z"
   },
   {
    "duration": 332,
    "start_time": "2024-06-26T12:34:55.634Z"
   },
   {
    "duration": 11,
    "start_time": "2024-06-26T12:34:55.967Z"
   },
   {
    "duration": 4,
    "start_time": "2024-06-26T12:34:55.980Z"
   },
   {
    "duration": 265,
    "start_time": "2024-06-26T12:34:55.985Z"
   },
   {
    "duration": 303,
    "start_time": "2024-06-26T12:34:56.252Z"
   },
   {
    "duration": 328,
    "start_time": "2024-06-26T12:34:56.556Z"
   },
   {
    "duration": 11,
    "start_time": "2024-06-26T12:34:56.886Z"
   },
   {
    "duration": 20,
    "start_time": "2024-06-26T12:34:56.898Z"
   },
   {
    "duration": 138,
    "start_time": "2024-06-26T12:34:56.919Z"
   },
   {
    "duration": 134,
    "start_time": "2024-06-26T12:34:57.059Z"
   },
   {
    "duration": 15,
    "start_time": "2024-06-26T12:34:57.195Z"
   },
   {
    "duration": 66,
    "start_time": "2024-06-26T12:34:57.211Z"
   },
   {
    "duration": 13,
    "start_time": "2024-06-26T12:34:57.279Z"
   },
   {
    "duration": 324,
    "start_time": "2024-06-26T12:34:57.309Z"
   },
   {
    "duration": 12,
    "start_time": "2024-06-26T12:34:57.634Z"
   },
   {
    "duration": 317,
    "start_time": "2024-06-26T12:34:57.647Z"
   },
   {
    "duration": 13,
    "start_time": "2024-06-26T12:34:57.965Z"
   },
   {
    "duration": 40,
    "start_time": "2024-06-26T12:34:57.980Z"
   },
   {
    "duration": 344,
    "start_time": "2024-06-26T12:34:58.021Z"
   },
   {
    "duration": 1008,
    "start_time": "2024-06-26T12:43:34.743Z"
   },
   {
    "duration": 1001,
    "start_time": "2024-06-26T12:46:40.091Z"
   },
   {
    "duration": 268,
    "start_time": "2024-06-26T12:47:16.685Z"
   },
   {
    "duration": 155,
    "start_time": "2024-06-26T12:50:48.226Z"
   },
   {
    "duration": 289,
    "start_time": "2024-06-26T12:51:51.268Z"
   },
   {
    "duration": 274,
    "start_time": "2024-06-26T12:52:01.231Z"
   },
   {
    "duration": 324,
    "start_time": "2024-06-26T12:53:28.629Z"
   },
   {
    "duration": 151,
    "start_time": "2024-06-26T12:56:12.265Z"
   },
   {
    "duration": 483,
    "start_time": "2024-06-26T12:58:03.691Z"
   },
   {
    "duration": 466,
    "start_time": "2024-06-26T13:03:58.037Z"
   },
   {
    "duration": 502,
    "start_time": "2024-06-26T13:04:05.701Z"
   },
   {
    "duration": 499,
    "start_time": "2024-06-26T13:04:25.952Z"
   },
   {
    "duration": 521,
    "start_time": "2024-06-26T13:05:23.838Z"
   },
   {
    "duration": 486,
    "start_time": "2024-06-26T13:05:57.841Z"
   },
   {
    "duration": 468,
    "start_time": "2024-06-26T13:06:40.780Z"
   },
   {
    "duration": 483,
    "start_time": "2024-06-26T13:07:03.626Z"
   },
   {
    "duration": 470,
    "start_time": "2024-06-26T13:07:36.665Z"
   },
   {
    "duration": 559,
    "start_time": "2024-06-26T13:07:45.504Z"
   },
   {
    "duration": 67,
    "start_time": "2024-06-26T13:08:13.912Z"
   },
   {
    "duration": 489,
    "start_time": "2024-06-26T13:08:34.238Z"
   },
   {
    "duration": 156,
    "start_time": "2024-06-26T13:09:06.870Z"
   },
   {
    "duration": 470,
    "start_time": "2024-06-26T13:09:13.972Z"
   },
   {
    "duration": 520,
    "start_time": "2024-06-26T13:09:32.704Z"
   },
   {
    "duration": 472,
    "start_time": "2024-06-26T13:30:17.908Z"
   },
   {
    "duration": 27,
    "start_time": "2024-06-26T13:59:29.366Z"
   },
   {
    "duration": 11,
    "start_time": "2024-06-26T14:05:41.893Z"
   },
   {
    "duration": 5,
    "start_time": "2024-06-26T14:06:09.453Z"
   },
   {
    "duration": 903,
    "start_time": "2024-06-26T14:09:48.992Z"
   },
   {
    "duration": 485,
    "start_time": "2024-06-26T14:10:36.332Z"
   },
   {
    "duration": 38,
    "start_time": "2024-06-26T15:51:12.484Z"
   },
   {
    "duration": 27,
    "start_time": "2024-06-26T15:51:34.132Z"
   },
   {
    "duration": 37,
    "start_time": "2024-06-26T15:51:57.718Z"
   },
   {
    "duration": 309,
    "start_time": "2024-06-26T15:58:46.141Z"
   },
   {
    "duration": 64,
    "start_time": "2024-06-26T17:09:05.475Z"
   },
   {
    "duration": 734,
    "start_time": "2024-06-26T17:19:27.376Z"
   },
   {
    "duration": 14,
    "start_time": "2024-06-26T17:19:58.523Z"
   },
   {
    "duration": 11,
    "start_time": "2024-06-26T17:20:45.454Z"
   },
   {
    "duration": 10,
    "start_time": "2024-06-26T17:23:03.592Z"
   },
   {
    "duration": 4,
    "start_time": "2024-06-26T18:12:21.103Z"
   },
   {
    "duration": 73,
    "start_time": "2024-06-26T18:12:57.074Z"
   },
   {
    "duration": 13,
    "start_time": "2024-06-26T18:13:08.640Z"
   },
   {
    "duration": 13,
    "start_time": "2024-06-26T18:15:30.400Z"
   },
   {
    "duration": 8,
    "start_time": "2024-06-26T18:16:48.172Z"
   },
   {
    "duration": 9,
    "start_time": "2024-06-26T18:17:17.253Z"
   },
   {
    "duration": 9,
    "start_time": "2024-06-26T18:17:27.554Z"
   },
   {
    "duration": 10,
    "start_time": "2024-06-26T18:27:54.064Z"
   },
   {
    "duration": 13,
    "start_time": "2024-06-26T18:33:55.115Z"
   },
   {
    "duration": 3639,
    "start_time": "2024-06-26T18:34:55.950Z"
   },
   {
    "duration": 74,
    "start_time": "2024-06-26T18:34:59.592Z"
   },
   {
    "duration": 13,
    "start_time": "2024-06-26T18:34:59.668Z"
   },
   {
    "duration": 918,
    "start_time": "2024-06-26T18:34:59.682Z"
   },
   {
    "duration": 464,
    "start_time": "2024-06-26T18:35:00.608Z"
   },
   {
    "duration": 35,
    "start_time": "2024-06-26T18:35:01.074Z"
   },
   {
    "duration": 128,
    "start_time": "2024-06-26T18:35:01.110Z"
   },
   {
    "duration": 86,
    "start_time": "2024-06-26T18:35:01.239Z"
   },
   {
    "duration": 108,
    "start_time": "2024-06-26T18:35:01.327Z"
   },
   {
    "duration": 37,
    "start_time": "2024-06-26T18:35:01.439Z"
   },
   {
    "duration": 38,
    "start_time": "2024-06-26T18:35:01.478Z"
   },
   {
    "duration": 62,
    "start_time": "2024-06-26T18:35:01.517Z"
   },
   {
    "duration": 63,
    "start_time": "2024-06-26T18:35:01.580Z"
   },
   {
    "duration": 42,
    "start_time": "2024-06-26T18:35:01.645Z"
   },
   {
    "duration": 1021,
    "start_time": "2024-06-26T18:35:01.688Z"
   },
   {
    "duration": 16,
    "start_time": "2024-06-26T18:35:02.710Z"
   },
   {
    "duration": 382,
    "start_time": "2024-06-26T18:35:02.728Z"
   },
   {
    "duration": 12,
    "start_time": "2024-06-26T18:35:03.112Z"
   },
   {
    "duration": 15,
    "start_time": "2024-06-26T18:35:03.125Z"
   },
   {
    "duration": 257,
    "start_time": "2024-06-26T18:35:03.141Z"
   },
   {
    "duration": 334,
    "start_time": "2024-06-26T18:35:03.400Z"
   },
   {
    "duration": 323,
    "start_time": "2024-06-26T18:35:03.735Z"
   },
   {
    "duration": 11,
    "start_time": "2024-06-26T18:35:04.060Z"
   },
   {
    "duration": 38,
    "start_time": "2024-06-26T18:35:04.073Z"
   },
   {
    "duration": 142,
    "start_time": "2024-06-26T18:35:04.112Z"
   },
   {
    "duration": 131,
    "start_time": "2024-06-26T18:35:04.255Z"
   },
   {
    "duration": 7,
    "start_time": "2024-06-26T18:35:04.387Z"
   },
   {
    "duration": 64,
    "start_time": "2024-06-26T18:35:04.397Z"
   },
   {
    "duration": 11,
    "start_time": "2024-06-26T18:35:04.462Z"
   },
   {
    "duration": 342,
    "start_time": "2024-06-26T18:35:04.474Z"
   },
   {
    "duration": 12,
    "start_time": "2024-06-26T18:35:04.817Z"
   },
   {
    "duration": 364,
    "start_time": "2024-06-26T18:35:04.830Z"
   },
   {
    "duration": 22,
    "start_time": "2024-06-26T18:35:05.195Z"
   },
   {
    "duration": 62,
    "start_time": "2024-06-26T18:35:05.218Z"
   },
   {
    "duration": 581,
    "start_time": "2024-06-26T18:35:05.282Z"
   },
   {
    "duration": 26,
    "start_time": "2024-06-26T18:35:05.865Z"
   },
   {
    "duration": 487,
    "start_time": "2024-06-26T18:35:05.892Z"
   },
   {
    "duration": 35,
    "start_time": "2024-06-26T18:35:06.380Z"
   },
   {
    "duration": 285,
    "start_time": "2024-06-26T18:35:06.416Z"
   },
   {
    "duration": 12,
    "start_time": "2024-06-26T18:35:06.708Z"
   },
   {
    "duration": 14,
    "start_time": "2024-06-26T18:35:06.722Z"
   },
   {
    "duration": 13,
    "start_time": "2024-06-26T18:35:06.737Z"
   },
   {
    "duration": 9,
    "start_time": "2024-06-26T18:35:06.752Z"
   },
   {
    "duration": 10,
    "start_time": "2024-06-26T18:54:37.862Z"
   },
   {
    "duration": 4129,
    "start_time": "2024-06-27T00:29:02.288Z"
   },
   {
    "duration": 189,
    "start_time": "2024-06-27T00:29:06.419Z"
   },
   {
    "duration": 11,
    "start_time": "2024-06-27T00:29:06.611Z"
   },
   {
    "duration": 934,
    "start_time": "2024-06-27T00:29:06.623Z"
   },
   {
    "duration": 408,
    "start_time": "2024-06-27T00:29:07.558Z"
   },
   {
    "duration": 34,
    "start_time": "2024-06-27T00:29:07.967Z"
   },
   {
    "duration": 4,
    "start_time": "2024-06-27T00:29:08.002Z"
   },
   {
    "duration": 20,
    "start_time": "2024-06-27T00:29:08.008Z"
   },
   {
    "duration": 15,
    "start_time": "2024-06-27T00:29:08.029Z"
   },
   {
    "duration": 18,
    "start_time": "2024-06-27T00:29:08.045Z"
   },
   {
    "duration": 5,
    "start_time": "2024-06-27T00:29:08.089Z"
   },
   {
    "duration": 13,
    "start_time": "2024-06-27T00:29:08.095Z"
   },
   {
    "duration": 11,
    "start_time": "2024-06-27T00:29:08.110Z"
   },
   {
    "duration": 11,
    "start_time": "2024-06-27T00:29:08.122Z"
   },
   {
    "duration": 807,
    "start_time": "2024-06-27T00:29:08.134Z"
   },
   {
    "duration": 14,
    "start_time": "2024-06-27T00:29:08.943Z"
   },
   {
    "duration": 288,
    "start_time": "2024-06-27T00:29:08.959Z"
   },
   {
    "duration": 10,
    "start_time": "2024-06-27T00:29:09.248Z"
   },
   {
    "duration": 3,
    "start_time": "2024-06-27T00:29:09.259Z"
   },
   {
    "duration": 263,
    "start_time": "2024-06-27T00:29:09.263Z"
   },
   {
    "duration": 264,
    "start_time": "2024-06-27T00:29:09.527Z"
   },
   {
    "duration": 277,
    "start_time": "2024-06-27T00:29:09.793Z"
   },
   {
    "duration": 11,
    "start_time": "2024-06-27T00:29:10.071Z"
   },
   {
    "duration": 6,
    "start_time": "2024-06-27T00:29:10.090Z"
   },
   {
    "duration": 126,
    "start_time": "2024-06-27T00:29:10.097Z"
   },
   {
    "duration": 112,
    "start_time": "2024-06-27T00:29:10.225Z"
   },
   {
    "duration": 6,
    "start_time": "2024-06-27T00:29:10.339Z"
   },
   {
    "duration": 94,
    "start_time": "2024-06-27T00:29:10.346Z"
   },
   {
    "duration": 9,
    "start_time": "2024-06-27T00:29:10.441Z"
   },
   {
    "duration": 311,
    "start_time": "2024-06-27T00:29:10.451Z"
   },
   {
    "duration": 11,
    "start_time": "2024-06-27T00:29:10.764Z"
   },
   {
    "duration": 316,
    "start_time": "2024-06-27T00:29:10.776Z"
   },
   {
    "duration": 16,
    "start_time": "2024-06-27T00:29:11.094Z"
   },
   {
    "duration": 81,
    "start_time": "2024-06-27T00:29:11.111Z"
   },
   {
    "duration": 408,
    "start_time": "2024-06-27T00:29:11.194Z"
   },
   {
    "duration": 23,
    "start_time": "2024-06-27T00:29:11.604Z"
   },
   {
    "duration": 379,
    "start_time": "2024-06-27T00:29:11.629Z"
   },
   {
    "duration": 21,
    "start_time": "2024-06-27T00:29:12.009Z"
   },
   {
    "duration": 262,
    "start_time": "2024-06-27T00:29:12.032Z"
   },
   {
    "duration": 8,
    "start_time": "2024-06-27T00:29:12.295Z"
   },
   {
    "duration": 104,
    "start_time": "2024-06-27T00:29:12.304Z"
   },
   {
    "duration": 9,
    "start_time": "2024-06-27T00:29:12.409Z"
   },
   {
    "duration": 9,
    "start_time": "2024-06-27T00:29:12.419Z"
   },
   {
    "duration": 3173,
    "start_time": "2024-06-27T00:49:32.436Z"
   },
   {
    "duration": 64,
    "start_time": "2024-06-27T00:49:35.610Z"
   },
   {
    "duration": 10,
    "start_time": "2024-06-27T00:49:35.675Z"
   },
   {
    "duration": 777,
    "start_time": "2024-06-27T00:49:35.687Z"
   },
   {
    "duration": 406,
    "start_time": "2024-06-27T00:49:36.465Z"
   },
   {
    "duration": 25,
    "start_time": "2024-06-27T00:49:36.873Z"
   },
   {
    "duration": 3,
    "start_time": "2024-06-27T00:49:36.899Z"
   },
   {
    "duration": 22,
    "start_time": "2024-06-27T00:49:36.903Z"
   },
   {
    "duration": 14,
    "start_time": "2024-06-27T00:49:36.926Z"
   },
   {
    "duration": 16,
    "start_time": "2024-06-27T00:49:36.942Z"
   },
   {
    "duration": 5,
    "start_time": "2024-06-27T00:49:36.959Z"
   },
   {
    "duration": 28,
    "start_time": "2024-06-27T00:49:36.965Z"
   },
   {
    "duration": 11,
    "start_time": "2024-06-27T00:49:36.995Z"
   },
   {
    "duration": 14,
    "start_time": "2024-06-27T00:49:37.007Z"
   },
   {
    "duration": 834,
    "start_time": "2024-06-27T00:49:37.022Z"
   },
   {
    "duration": 15,
    "start_time": "2024-06-27T00:49:37.858Z"
   },
   {
    "duration": 279,
    "start_time": "2024-06-27T00:49:37.874Z"
   },
   {
    "duration": 11,
    "start_time": "2024-06-27T00:49:38.155Z"
   },
   {
    "duration": 3,
    "start_time": "2024-06-27T00:49:38.167Z"
   },
   {
    "duration": 230,
    "start_time": "2024-06-27T00:49:38.172Z"
   },
   {
    "duration": 275,
    "start_time": "2024-06-27T00:49:38.403Z"
   },
   {
    "duration": 283,
    "start_time": "2024-06-27T00:49:38.679Z"
   },
   {
    "duration": 10,
    "start_time": "2024-06-27T00:49:38.963Z"
   },
   {
    "duration": 16,
    "start_time": "2024-06-27T00:49:38.974Z"
   },
   {
    "duration": 113,
    "start_time": "2024-06-27T00:49:38.992Z"
   },
   {
    "duration": 110,
    "start_time": "2024-06-27T00:49:39.107Z"
   },
   {
    "duration": 6,
    "start_time": "2024-06-27T00:49:39.218Z"
   },
   {
    "duration": 126,
    "start_time": "2024-06-27T00:49:39.227Z"
   },
   {
    "duration": 9,
    "start_time": "2024-06-27T00:49:39.354Z"
   },
   {
    "duration": 289,
    "start_time": "2024-06-27T00:49:39.364Z"
   },
   {
    "duration": 10,
    "start_time": "2024-06-27T00:49:39.654Z"
   },
   {
    "duration": 304,
    "start_time": "2024-06-27T00:49:39.665Z"
   },
   {
    "duration": 20,
    "start_time": "2024-06-27T00:49:39.970Z"
   },
   {
    "duration": 22,
    "start_time": "2024-06-27T00:49:39.991Z"
   },
   {
    "duration": 515,
    "start_time": "2024-06-27T00:49:40.015Z"
   },
   {
    "duration": 23,
    "start_time": "2024-06-27T00:49:40.531Z"
   },
   {
    "duration": 373,
    "start_time": "2024-06-27T00:49:40.555Z"
   },
   {
    "duration": 22,
    "start_time": "2024-06-27T00:49:40.929Z"
   },
   {
    "duration": 239,
    "start_time": "2024-06-27T00:49:40.952Z"
   },
   {
    "duration": 7,
    "start_time": "2024-06-27T00:49:41.192Z"
   },
   {
    "duration": 14,
    "start_time": "2024-06-27T00:49:41.201Z"
   },
   {
    "duration": 8,
    "start_time": "2024-06-27T00:49:41.216Z"
   },
   {
    "duration": 68,
    "start_time": "2024-06-27T00:49:41.225Z"
   },
   {
    "duration": 62,
    "start_time": "2024-06-27T07:09:14.421Z"
   },
   {
    "duration": 50,
    "start_time": "2024-06-27T07:09:22.686Z"
   },
   {
    "duration": 4833,
    "start_time": "2024-06-27T07:09:45.791Z"
   },
   {
    "duration": 213,
    "start_time": "2024-06-27T07:09:50.626Z"
   },
   {
    "duration": 12,
    "start_time": "2024-06-27T07:09:50.841Z"
   },
   {
    "duration": 1156,
    "start_time": "2024-06-27T07:09:50.855Z"
   },
   {
    "duration": 537,
    "start_time": "2024-06-27T07:09:52.013Z"
   },
   {
    "duration": 28,
    "start_time": "2024-06-27T07:09:52.553Z"
   },
   {
    "duration": 10,
    "start_time": "2024-06-27T07:09:52.583Z"
   },
   {
    "duration": 58,
    "start_time": "2024-06-27T07:09:52.595Z"
   },
   {
    "duration": 31,
    "start_time": "2024-06-27T07:09:52.655Z"
   },
   {
    "duration": 73,
    "start_time": "2024-06-27T07:09:52.689Z"
   },
   {
    "duration": 21,
    "start_time": "2024-06-27T07:10:17.498Z"
   },
   {
    "duration": 13,
    "start_time": "2024-06-27T07:27:59.197Z"
   },
   {
    "duration": 9,
    "start_time": "2024-06-27T07:28:06.562Z"
   },
   {
    "duration": 14,
    "start_time": "2024-06-27T07:50:10.104Z"
   },
   {
    "duration": 18,
    "start_time": "2024-06-27T07:54:30.632Z"
   },
   {
    "duration": 2694,
    "start_time": "2024-06-27T08:01:44.181Z"
   },
   {
    "duration": 68,
    "start_time": "2024-06-27T08:01:46.877Z"
   },
   {
    "duration": 14,
    "start_time": "2024-06-27T08:01:46.946Z"
   },
   {
    "duration": 1104,
    "start_time": "2024-06-27T08:01:46.962Z"
   },
   {
    "duration": 584,
    "start_time": "2024-06-27T08:01:48.067Z"
   },
   {
    "duration": 36,
    "start_time": "2024-06-27T08:01:48.653Z"
   },
   {
    "duration": 4,
    "start_time": "2024-06-27T08:01:48.691Z"
   },
   {
    "duration": 40,
    "start_time": "2024-06-27T08:01:48.697Z"
   },
   {
    "duration": 29,
    "start_time": "2024-06-27T08:01:48.738Z"
   },
   {
    "duration": 54,
    "start_time": "2024-06-27T08:01:48.769Z"
   },
   {
    "duration": 9,
    "start_time": "2024-06-27T08:01:48.825Z"
   },
   {
    "duration": 31,
    "start_time": "2024-06-27T08:01:48.836Z"
   },
   {
    "duration": 41,
    "start_time": "2024-06-27T08:01:48.869Z"
   },
   {
    "duration": 15,
    "start_time": "2024-06-27T08:05:25.327Z"
   },
   {
    "duration": 11,
    "start_time": "2024-06-27T08:05:35.008Z"
   },
   {
    "duration": 24,
    "start_time": "2024-06-27T08:06:38.664Z"
   },
   {
    "duration": 21,
    "start_time": "2024-06-27T08:07:09.927Z"
   },
   {
    "duration": 24,
    "start_time": "2024-06-27T08:08:13.055Z"
   },
   {
    "duration": 17,
    "start_time": "2024-06-27T08:10:12.049Z"
   },
   {
    "duration": 16,
    "start_time": "2024-06-27T08:12:30.519Z"
   },
   {
    "duration": 73,
    "start_time": "2024-06-27T08:16:26.215Z"
   },
   {
    "duration": 9,
    "start_time": "2024-06-27T08:18:09.827Z"
   },
   {
    "duration": 21,
    "start_time": "2024-06-27T08:18:21.295Z"
   },
   {
    "duration": 19,
    "start_time": "2024-06-27T08:18:37.139Z"
   },
   {
    "duration": 3900,
    "start_time": "2024-06-27T08:20:52.237Z"
   },
   {
    "duration": 71,
    "start_time": "2024-06-27T08:20:56.139Z"
   },
   {
    "duration": 14,
    "start_time": "2024-06-27T08:20:56.212Z"
   },
   {
    "duration": 1009,
    "start_time": "2024-06-27T08:20:56.228Z"
   },
   {
    "duration": 501,
    "start_time": "2024-06-27T08:20:57.239Z"
   },
   {
    "duration": 26,
    "start_time": "2024-06-27T08:20:57.741Z"
   },
   {
    "duration": 5,
    "start_time": "2024-06-27T08:20:57.769Z"
   },
   {
    "duration": 48,
    "start_time": "2024-06-27T08:20:57.776Z"
   },
   {
    "duration": 30,
    "start_time": "2024-06-27T08:20:57.825Z"
   },
   {
    "duration": 26,
    "start_time": "2024-06-27T08:20:57.858Z"
   },
   {
    "duration": 9,
    "start_time": "2024-06-27T08:20:57.886Z"
   },
   {
    "duration": 13,
    "start_time": "2024-06-27T08:20:57.896Z"
   },
   {
    "duration": 20,
    "start_time": "2024-06-27T08:20:57.910Z"
   },
   {
    "duration": 20,
    "start_time": "2024-06-27T08:20:57.931Z"
   },
   {
    "duration": 14,
    "start_time": "2024-06-27T08:20:57.953Z"
   },
   {
    "duration": 13,
    "start_time": "2024-06-27T08:20:57.969Z"
   },
   {
    "duration": 998,
    "start_time": "2024-06-27T08:20:57.984Z"
   },
   {
    "duration": 18,
    "start_time": "2024-06-27T08:20:58.983Z"
   },
   {
    "duration": 377,
    "start_time": "2024-06-27T08:20:59.003Z"
   },
   {
    "duration": 12,
    "start_time": "2024-06-27T08:20:59.381Z"
   },
   {
    "duration": 6,
    "start_time": "2024-06-27T08:20:59.394Z"
   },
   {
    "duration": 300,
    "start_time": "2024-06-27T08:20:59.402Z"
   },
   {
    "duration": 350,
    "start_time": "2024-06-27T08:20:59.705Z"
   },
   {
    "duration": 433,
    "start_time": "2024-06-27T08:21:00.057Z"
   },
   {
    "duration": 13,
    "start_time": "2024-06-27T08:21:00.492Z"
   },
   {
    "duration": 98,
    "start_time": "2024-06-27T08:21:00.506Z"
   },
   {
    "duration": 188,
    "start_time": "2024-06-27T08:21:00.605Z"
   },
   {
    "duration": 156,
    "start_time": "2024-06-27T08:21:00.796Z"
   },
   {
    "duration": 7,
    "start_time": "2024-06-27T08:21:00.953Z"
   },
   {
    "duration": 131,
    "start_time": "2024-06-27T08:21:00.961Z"
   },
   {
    "duration": 61,
    "start_time": "2024-06-27T08:21:01.094Z"
   },
   {
    "duration": 390,
    "start_time": "2024-06-27T08:21:01.157Z"
   },
   {
    "duration": 14,
    "start_time": "2024-06-27T08:21:01.548Z"
   },
   {
    "duration": 378,
    "start_time": "2024-06-27T08:21:01.565Z"
   },
   {
    "duration": 15,
    "start_time": "2024-06-27T08:21:01.945Z"
   },
   {
    "duration": 343,
    "start_time": "2024-06-27T08:21:01.961Z"
   },
   {
    "duration": 591,
    "start_time": "2024-06-27T08:21:02.306Z"
   },
   {
    "duration": 43,
    "start_time": "2024-06-27T08:21:02.898Z"
   },
   {
    "duration": 460,
    "start_time": "2024-06-27T08:21:02.942Z"
   },
   {
    "duration": 33,
    "start_time": "2024-06-27T08:21:03.404Z"
   },
   {
    "duration": 312,
    "start_time": "2024-06-27T08:21:03.439Z"
   },
   {
    "duration": 10,
    "start_time": "2024-06-27T08:21:03.752Z"
   },
   {
    "duration": 24,
    "start_time": "2024-06-27T08:21:03.764Z"
   },
   {
    "duration": 15,
    "start_time": "2024-06-27T08:21:03.789Z"
   },
   {
    "duration": 45,
    "start_time": "2024-06-27T08:21:03.806Z"
   },
   {
    "duration": 343,
    "start_time": "2024-06-27T12:45:21.943Z"
   },
   {
    "duration": 297,
    "start_time": "2024-06-27T12:46:24.796Z"
   },
   {
    "duration": 318,
    "start_time": "2024-06-27T12:48:18.059Z"
   },
   {
    "duration": 3867,
    "start_time": "2024-06-27T12:48:27.567Z"
   },
   {
    "duration": 71,
    "start_time": "2024-06-27T12:48:31.436Z"
   },
   {
    "duration": 138,
    "start_time": "2024-06-27T12:48:31.509Z"
   },
   {
    "duration": 1022,
    "start_time": "2024-06-27T12:48:31.649Z"
   },
   {
    "duration": 476,
    "start_time": "2024-06-27T12:48:32.673Z"
   },
   {
    "duration": 24,
    "start_time": "2024-06-27T12:48:33.150Z"
   },
   {
    "duration": 4,
    "start_time": "2024-06-27T12:48:33.176Z"
   },
   {
    "duration": 29,
    "start_time": "2024-06-27T12:48:33.181Z"
   },
   {
    "duration": 23,
    "start_time": "2024-06-27T12:48:33.212Z"
   },
   {
    "duration": 74,
    "start_time": "2024-06-27T12:48:33.237Z"
   },
   {
    "duration": 12,
    "start_time": "2024-06-27T12:48:33.313Z"
   },
   {
    "duration": 36,
    "start_time": "2024-06-27T12:48:33.326Z"
   },
   {
    "duration": 16,
    "start_time": "2024-06-27T12:48:33.364Z"
   },
   {
    "duration": 16,
    "start_time": "2024-06-27T12:48:33.383Z"
   },
   {
    "duration": 14,
    "start_time": "2024-06-27T12:48:33.401Z"
   },
   {
    "duration": 12,
    "start_time": "2024-06-27T12:48:33.420Z"
   },
   {
    "duration": 939,
    "start_time": "2024-06-27T12:48:33.434Z"
   },
   {
    "duration": 18,
    "start_time": "2024-06-27T12:48:34.375Z"
   },
   {
    "duration": 361,
    "start_time": "2024-06-27T12:48:34.395Z"
   },
   {
    "duration": 12,
    "start_time": "2024-06-27T12:48:34.757Z"
   },
   {
    "duration": 5,
    "start_time": "2024-06-27T12:48:34.770Z"
   },
   {
    "duration": 295,
    "start_time": "2024-06-27T12:48:34.776Z"
   },
   {
    "duration": 310,
    "start_time": "2024-06-27T12:48:35.073Z"
   },
   {
    "duration": 396,
    "start_time": "2024-06-27T12:48:35.384Z"
   },
   {
    "duration": 11,
    "start_time": "2024-06-27T12:48:35.782Z"
   },
   {
    "duration": 19,
    "start_time": "2024-06-27T12:48:35.795Z"
   },
   {
    "duration": 158,
    "start_time": "2024-06-27T12:48:35.820Z"
   },
   {
    "duration": 148,
    "start_time": "2024-06-27T12:48:35.980Z"
   },
   {
    "duration": 7,
    "start_time": "2024-06-27T12:48:36.130Z"
   },
   {
    "duration": 85,
    "start_time": "2024-06-27T12:48:36.138Z"
   },
   {
    "duration": 12,
    "start_time": "2024-06-27T12:48:36.225Z"
   },
   {
    "duration": 326,
    "start_time": "2024-06-27T12:48:36.239Z"
   },
   {
    "duration": 13,
    "start_time": "2024-06-27T12:48:36.566Z"
   },
   {
    "duration": 355,
    "start_time": "2024-06-27T12:48:36.580Z"
   },
   {
    "duration": 15,
    "start_time": "2024-06-27T12:48:36.936Z"
   },
   {
    "duration": 43,
    "start_time": "2024-06-27T12:48:36.952Z"
   },
   {
    "duration": 624,
    "start_time": "2024-06-27T12:48:36.997Z"
   },
   {
    "duration": 29,
    "start_time": "2024-06-27T12:48:37.622Z"
   },
   {
    "duration": 481,
    "start_time": "2024-06-27T12:48:37.653Z"
   },
   {
    "duration": 28,
    "start_time": "2024-06-27T12:48:38.136Z"
   },
   {
    "duration": 321,
    "start_time": "2024-06-27T12:48:38.167Z"
   },
   {
    "duration": 11,
    "start_time": "2024-06-27T12:48:38.490Z"
   },
   {
    "duration": 27,
    "start_time": "2024-06-27T12:48:38.502Z"
   },
   {
    "duration": 12,
    "start_time": "2024-06-27T12:48:38.530Z"
   },
   {
    "duration": 28,
    "start_time": "2024-06-27T12:48:38.543Z"
   },
   {
    "duration": 12,
    "start_time": "2024-06-27T12:51:37.422Z"
   },
   {
    "duration": 20,
    "start_time": "2024-06-27T12:51:51.277Z"
   },
   {
    "duration": 26,
    "start_time": "2024-06-27T12:52:49.481Z"
   },
   {
    "duration": 341,
    "start_time": "2024-06-27T13:07:06.965Z"
   },
   {
    "duration": 3852,
    "start_time": "2024-06-27T13:07:26.954Z"
   },
   {
    "duration": 71,
    "start_time": "2024-06-27T13:07:30.808Z"
   },
   {
    "duration": 138,
    "start_time": "2024-06-27T13:07:30.881Z"
   },
   {
    "duration": 1114,
    "start_time": "2024-06-27T13:07:31.022Z"
   },
   {
    "duration": 524,
    "start_time": "2024-06-27T13:07:32.138Z"
   },
   {
    "duration": 27,
    "start_time": "2024-06-27T13:07:32.664Z"
   },
   {
    "duration": 4,
    "start_time": "2024-06-27T13:07:32.693Z"
   },
   {
    "duration": 41,
    "start_time": "2024-06-27T13:07:32.699Z"
   },
   {
    "duration": 19,
    "start_time": "2024-06-27T13:07:32.741Z"
   },
   {
    "duration": 43,
    "start_time": "2024-06-27T13:07:32.763Z"
   },
   {
    "duration": 7,
    "start_time": "2024-06-27T13:07:32.808Z"
   },
   {
    "duration": 18,
    "start_time": "2024-06-27T13:07:32.816Z"
   },
   {
    "duration": 18,
    "start_time": "2024-06-27T13:07:32.836Z"
   },
   {
    "duration": 19,
    "start_time": "2024-06-27T13:07:32.855Z"
   },
   {
    "duration": 45,
    "start_time": "2024-06-27T13:07:32.875Z"
   },
   {
    "duration": 13,
    "start_time": "2024-06-27T13:07:32.922Z"
   },
   {
    "duration": 963,
    "start_time": "2024-06-27T13:07:32.937Z"
   },
   {
    "duration": 29,
    "start_time": "2024-06-27T13:07:33.902Z"
   },
   {
    "duration": 390,
    "start_time": "2024-06-27T13:07:33.932Z"
   },
   {
    "duration": 17,
    "start_time": "2024-06-27T13:07:34.324Z"
   },
   {
    "duration": 5,
    "start_time": "2024-06-27T13:07:34.344Z"
   },
   {
    "duration": 304,
    "start_time": "2024-06-27T13:07:34.351Z"
   },
   {
    "duration": 318,
    "start_time": "2024-06-27T13:07:34.657Z"
   },
   {
    "duration": 339,
    "start_time": "2024-06-27T13:07:34.977Z"
   },
   {
    "duration": 13,
    "start_time": "2024-06-27T13:07:35.318Z"
   },
   {
    "duration": 9,
    "start_time": "2024-06-27T13:07:35.333Z"
   },
   {
    "duration": 189,
    "start_time": "2024-06-27T13:07:35.344Z"
   },
   {
    "duration": 148,
    "start_time": "2024-06-27T13:07:35.536Z"
   },
   {
    "duration": 8,
    "start_time": "2024-06-27T13:07:35.686Z"
   },
   {
    "duration": 92,
    "start_time": "2024-06-27T13:07:35.696Z"
   },
   {
    "duration": 12,
    "start_time": "2024-06-27T13:07:35.789Z"
   },
   {
    "duration": 334,
    "start_time": "2024-06-27T13:07:35.803Z"
   },
   {
    "duration": 13,
    "start_time": "2024-06-27T13:07:36.139Z"
   },
   {
    "duration": 310,
    "start_time": "2024-06-27T13:07:36.153Z"
   },
   {
    "duration": 14,
    "start_time": "2024-06-27T13:07:36.465Z"
   },
   {
    "duration": 48,
    "start_time": "2024-06-27T13:07:36.480Z"
   },
   {
    "duration": 586,
    "start_time": "2024-06-27T13:07:36.530Z"
   },
   {
    "duration": 30,
    "start_time": "2024-06-27T13:07:37.117Z"
   },
   {
    "duration": 486,
    "start_time": "2024-06-27T13:07:37.149Z"
   },
   {
    "duration": 26,
    "start_time": "2024-06-27T13:07:37.636Z"
   },
   {
    "duration": 348,
    "start_time": "2024-06-27T13:07:37.664Z"
   },
   {
    "duration": 12,
    "start_time": "2024-06-27T13:07:38.014Z"
   },
   {
    "duration": 32,
    "start_time": "2024-06-27T13:07:38.027Z"
   },
   {
    "duration": 10,
    "start_time": "2024-06-27T13:07:38.061Z"
   },
   {
    "duration": 21,
    "start_time": "2024-06-27T13:07:38.073Z"
   },
   {
    "duration": 3817,
    "start_time": "2024-06-27T13:11:13.731Z"
   },
   {
    "duration": 72,
    "start_time": "2024-06-27T13:11:17.550Z"
   },
   {
    "duration": 13,
    "start_time": "2024-06-27T13:11:17.623Z"
   },
   {
    "duration": 904,
    "start_time": "2024-06-27T13:11:17.637Z"
   },
   {
    "duration": 494,
    "start_time": "2024-06-27T13:11:18.544Z"
   },
   {
    "duration": 25,
    "start_time": "2024-06-27T13:11:19.040Z"
   },
   {
    "duration": 4,
    "start_time": "2024-06-27T13:11:19.067Z"
   },
   {
    "duration": 52,
    "start_time": "2024-06-27T13:11:19.073Z"
   },
   {
    "duration": 21,
    "start_time": "2024-06-27T13:11:19.126Z"
   },
   {
    "duration": 21,
    "start_time": "2024-06-27T13:11:19.149Z"
   },
   {
    "duration": 7,
    "start_time": "2024-06-27T13:11:19.171Z"
   },
   {
    "duration": 31,
    "start_time": "2024-06-27T13:11:19.179Z"
   },
   {
    "duration": 42,
    "start_time": "2024-06-27T13:11:19.212Z"
   },
   {
    "duration": 18,
    "start_time": "2024-06-27T13:11:19.257Z"
   },
   {
    "duration": 16,
    "start_time": "2024-06-27T13:11:19.277Z"
   },
   {
    "duration": 12,
    "start_time": "2024-06-27T13:11:19.294Z"
   },
   {
    "duration": 1019,
    "start_time": "2024-06-27T13:11:19.308Z"
   },
   {
    "duration": 24,
    "start_time": "2024-06-27T13:11:20.329Z"
   },
   {
    "duration": 360,
    "start_time": "2024-06-27T13:11:20.355Z"
   },
   {
    "duration": 12,
    "start_time": "2024-06-27T13:11:20.720Z"
   },
   {
    "duration": 26,
    "start_time": "2024-06-27T13:11:20.733Z"
   },
   {
    "duration": 283,
    "start_time": "2024-06-27T13:11:20.760Z"
   },
   {
    "duration": 4,
    "start_time": "2024-06-27T13:11:21.045Z"
   },
   {
    "duration": 308,
    "start_time": "2024-06-27T13:11:21.051Z"
   },
   {
    "duration": 348,
    "start_time": "2024-06-27T13:11:21.361Z"
   },
   {
    "duration": 15,
    "start_time": "2024-06-27T13:11:21.710Z"
   },
   {
    "duration": 10,
    "start_time": "2024-06-27T13:11:21.726Z"
   },
   {
    "duration": 145,
    "start_time": "2024-06-27T13:11:21.738Z"
   },
   {
    "duration": 140,
    "start_time": "2024-06-27T13:11:21.885Z"
   },
   {
    "duration": 8,
    "start_time": "2024-06-27T13:11:22.027Z"
   },
   {
    "duration": 67,
    "start_time": "2024-06-27T13:11:22.036Z"
   },
   {
    "duration": 27,
    "start_time": "2024-06-27T13:11:22.105Z"
   },
   {
    "duration": 304,
    "start_time": "2024-06-27T13:11:22.134Z"
   },
   {
    "duration": 13,
    "start_time": "2024-06-27T13:11:22.440Z"
   },
   {
    "duration": 317,
    "start_time": "2024-06-27T13:11:22.454Z"
   },
   {
    "duration": 14,
    "start_time": "2024-06-27T13:11:22.773Z"
   },
   {
    "duration": 49,
    "start_time": "2024-06-27T13:11:22.789Z"
   },
   {
    "duration": 576,
    "start_time": "2024-06-27T13:11:22.840Z"
   },
   {
    "duration": 28,
    "start_time": "2024-06-27T13:11:23.418Z"
   },
   {
    "duration": 455,
    "start_time": "2024-06-27T13:11:23.448Z"
   },
   {
    "duration": 36,
    "start_time": "2024-06-27T13:11:23.907Z"
   },
   {
    "duration": 307,
    "start_time": "2024-06-27T13:11:23.945Z"
   },
   {
    "duration": 11,
    "start_time": "2024-06-27T13:11:24.254Z"
   },
   {
    "duration": 96,
    "start_time": "2024-06-27T13:11:24.267Z"
   },
   {
    "duration": 17,
    "start_time": "2024-06-27T13:11:24.365Z"
   },
   {
    "duration": 13,
    "start_time": "2024-06-27T13:11:24.384Z"
   },
   {
    "duration": 275,
    "start_time": "2024-06-27T13:18:27.482Z"
   },
   {
    "duration": 11,
    "start_time": "2024-06-27T13:27:21.751Z"
   },
   {
    "duration": 16,
    "start_time": "2024-06-27T13:27:28.317Z"
   },
   {
    "duration": 9,
    "start_time": "2024-06-27T13:27:45.733Z"
   },
   {
    "duration": 8,
    "start_time": "2024-06-27T13:28:35.570Z"
   },
   {
    "duration": 10,
    "start_time": "2024-06-27T13:29:19.328Z"
   },
   {
    "duration": 3955,
    "start_time": "2024-06-27T13:29:40.448Z"
   },
   {
    "duration": 70,
    "start_time": "2024-06-27T13:29:44.405Z"
   },
   {
    "duration": 14,
    "start_time": "2024-06-27T13:29:44.476Z"
   },
   {
    "duration": 936,
    "start_time": "2024-06-27T13:29:44.492Z"
   },
   {
    "duration": 576,
    "start_time": "2024-06-27T13:29:45.430Z"
   },
   {
    "duration": 41,
    "start_time": "2024-06-27T13:29:46.008Z"
   },
   {
    "duration": 4,
    "start_time": "2024-06-27T13:29:46.051Z"
   },
   {
    "duration": 20,
    "start_time": "2024-06-27T13:29:46.056Z"
   },
   {
    "duration": 19,
    "start_time": "2024-06-27T13:29:46.078Z"
   },
   {
    "duration": 21,
    "start_time": "2024-06-27T13:29:46.121Z"
   },
   {
    "duration": 7,
    "start_time": "2024-06-27T13:29:46.143Z"
   },
   {
    "duration": 15,
    "start_time": "2024-06-27T13:29:46.152Z"
   },
   {
    "duration": 17,
    "start_time": "2024-06-27T13:29:46.168Z"
   },
   {
    "duration": 43,
    "start_time": "2024-06-27T13:29:46.186Z"
   },
   {
    "duration": 14,
    "start_time": "2024-06-27T13:29:46.230Z"
   },
   {
    "duration": 15,
    "start_time": "2024-06-27T13:29:46.246Z"
   },
   {
    "duration": 964,
    "start_time": "2024-06-27T13:29:46.262Z"
   },
   {
    "duration": 17,
    "start_time": "2024-06-27T13:29:47.228Z"
   },
   {
    "duration": 360,
    "start_time": "2024-06-27T13:29:47.247Z"
   },
   {
    "duration": 21,
    "start_time": "2024-06-27T13:29:47.608Z"
   },
   {
    "duration": 4,
    "start_time": "2024-06-27T13:29:47.630Z"
   },
   {
    "duration": 272,
    "start_time": "2024-06-27T13:29:47.635Z"
   },
   {
    "duration": 3,
    "start_time": "2024-06-27T13:29:47.909Z"
   },
   {
    "duration": 308,
    "start_time": "2024-06-27T13:29:47.914Z"
   },
   {
    "duration": 300,
    "start_time": "2024-06-27T13:29:48.224Z"
   },
   {
    "duration": 12,
    "start_time": "2024-06-27T13:29:48.525Z"
   },
   {
    "duration": 48,
    "start_time": "2024-06-27T13:29:48.538Z"
   },
   {
    "duration": 139,
    "start_time": "2024-06-27T13:29:48.589Z"
   },
   {
    "duration": 134,
    "start_time": "2024-06-27T13:29:48.730Z"
   },
   {
    "duration": 6,
    "start_time": "2024-06-27T13:29:48.866Z"
   },
   {
    "duration": 72,
    "start_time": "2024-06-27T13:29:48.874Z"
   },
   {
    "duration": 11,
    "start_time": "2024-06-27T13:29:48.947Z"
   },
   {
    "duration": 354,
    "start_time": "2024-06-27T13:29:48.960Z"
   },
   {
    "duration": 16,
    "start_time": "2024-06-27T13:29:49.315Z"
   },
   {
    "duration": 329,
    "start_time": "2024-06-27T13:29:49.333Z"
   },
   {
    "duration": 14,
    "start_time": "2024-06-27T13:29:49.664Z"
   },
   {
    "duration": 45,
    "start_time": "2024-06-27T13:29:49.680Z"
   },
   {
    "duration": 578,
    "start_time": "2024-06-27T13:29:49.727Z"
   },
   {
    "duration": 34,
    "start_time": "2024-06-27T13:29:50.307Z"
   },
   {
    "duration": 470,
    "start_time": "2024-06-27T13:29:50.343Z"
   },
   {
    "duration": 26,
    "start_time": "2024-06-27T13:29:50.814Z"
   },
   {
    "duration": 312,
    "start_time": "2024-06-27T13:29:50.842Z"
   },
   {
    "duration": 14,
    "start_time": "2024-06-27T13:29:51.156Z"
   },
   {
    "duration": 34,
    "start_time": "2024-06-27T13:29:51.172Z"
   },
   {
    "duration": 46,
    "start_time": "2024-06-27T13:29:51.208Z"
   },
   {
    "duration": 39,
    "start_time": "2024-06-27T13:29:51.256Z"
   },
   {
    "duration": 137,
    "start_time": "2024-06-27T13:30:46.938Z"
   },
   {
    "duration": 151,
    "start_time": "2024-06-27T13:31:28.608Z"
   },
   {
    "duration": 5,
    "start_time": "2024-06-27T13:33:24.737Z"
   },
   {
    "duration": 48,
    "start_time": "2024-06-27T13:34:27.896Z"
   },
   {
    "duration": 3735,
    "start_time": "2024-06-27T13:34:55.678Z"
   },
   {
    "duration": 70,
    "start_time": "2024-06-27T13:34:59.415Z"
   },
   {
    "duration": 13,
    "start_time": "2024-06-27T13:34:59.486Z"
   },
   {
    "duration": 923,
    "start_time": "2024-06-27T13:34:59.500Z"
   },
   {
    "duration": 502,
    "start_time": "2024-06-27T13:35:00.425Z"
   },
   {
    "duration": 26,
    "start_time": "2024-06-27T13:35:00.928Z"
   },
   {
    "duration": 178,
    "start_time": "2024-06-27T13:35:00.956Z"
   },
   {
    "duration": 189,
    "start_time": "2024-06-27T13:35:01.136Z"
   },
   {
    "duration": 95,
    "start_time": "2024-06-27T13:35:01.327Z"
   },
   {
    "duration": 357,
    "start_time": "2024-06-27T13:35:01.424Z"
   },
   {
    "duration": 89,
    "start_time": "2024-06-27T13:35:01.782Z"
   },
   {
    "duration": 184,
    "start_time": "2024-06-27T13:35:01.873Z"
   },
   {
    "duration": 231,
    "start_time": "2024-06-27T13:35:02.058Z"
   },
   {
    "duration": 159,
    "start_time": "2024-06-27T13:35:02.293Z"
   },
   {
    "duration": 367,
    "start_time": "2024-06-27T13:35:02.454Z"
   },
   {
    "duration": 12,
    "start_time": "2024-06-27T13:35:02.822Z"
   },
   {
    "duration": 995,
    "start_time": "2024-06-27T13:35:02.836Z"
   },
   {
    "duration": 16,
    "start_time": "2024-06-27T13:35:03.833Z"
   },
   {
    "duration": 357,
    "start_time": "2024-06-27T13:35:03.851Z"
   },
   {
    "duration": 17,
    "start_time": "2024-06-27T13:35:04.209Z"
   },
   {
    "duration": 4,
    "start_time": "2024-06-27T13:35:04.227Z"
   },
   {
    "duration": 311,
    "start_time": "2024-06-27T13:35:04.232Z"
   },
   {
    "duration": 4,
    "start_time": "2024-06-27T13:35:04.545Z"
   },
   {
    "duration": 270,
    "start_time": "2024-06-27T13:35:04.551Z"
   },
   {
    "duration": 291,
    "start_time": "2024-06-27T13:35:04.822Z"
   },
   {
    "duration": 12,
    "start_time": "2024-06-27T13:35:05.114Z"
   },
   {
    "duration": 39,
    "start_time": "2024-06-27T13:35:05.127Z"
   },
   {
    "duration": 159,
    "start_time": "2024-06-27T13:35:05.168Z"
   },
   {
    "duration": 153,
    "start_time": "2024-06-27T13:35:05.328Z"
   },
   {
    "duration": 5,
    "start_time": "2024-06-27T13:35:05.482Z"
   },
   {
    "duration": 57,
    "start_time": "2024-06-27T13:35:05.488Z"
   },
   {
    "duration": 11,
    "start_time": "2024-06-27T13:35:05.547Z"
   },
   {
    "duration": 316,
    "start_time": "2024-06-27T13:35:05.559Z"
   },
   {
    "duration": 13,
    "start_time": "2024-06-27T13:35:05.876Z"
   },
   {
    "duration": 346,
    "start_time": "2024-06-27T13:35:05.890Z"
   },
   {
    "duration": 13,
    "start_time": "2024-06-27T13:35:06.238Z"
   },
   {
    "duration": 50,
    "start_time": "2024-06-27T13:35:06.253Z"
   },
   {
    "duration": 590,
    "start_time": "2024-06-27T13:35:06.305Z"
   },
   {
    "duration": 38,
    "start_time": "2024-06-27T13:35:06.896Z"
   },
   {
    "duration": 459,
    "start_time": "2024-06-27T13:35:06.936Z"
   },
   {
    "duration": 34,
    "start_time": "2024-06-27T13:35:07.399Z"
   },
   {
    "duration": 331,
    "start_time": "2024-06-27T13:35:07.435Z"
   },
   {
    "duration": 9,
    "start_time": "2024-06-27T13:35:07.768Z"
   },
   {
    "duration": 22,
    "start_time": "2024-06-27T13:35:07.778Z"
   },
   {
    "duration": 10,
    "start_time": "2024-06-27T13:35:07.801Z"
   },
   {
    "duration": 31,
    "start_time": "2024-06-27T13:35:07.812Z"
   },
   {
    "duration": 36,
    "start_time": "2024-06-27T13:35:29.006Z"
   },
   {
    "duration": 4618,
    "start_time": "2024-06-27T13:39:57.302Z"
   },
   {
    "duration": 71,
    "start_time": "2024-06-27T13:40:01.922Z"
   },
   {
    "duration": 278,
    "start_time": "2024-06-27T13:40:01.995Z"
   },
   {
    "duration": 947,
    "start_time": "2024-06-27T13:40:02.275Z"
   },
   {
    "duration": 480,
    "start_time": "2024-06-27T13:40:03.224Z"
   },
   {
    "duration": 32,
    "start_time": "2024-06-27T13:40:03.705Z"
   },
   {
    "duration": 3,
    "start_time": "2024-06-27T13:40:03.739Z"
   },
   {
    "duration": 21,
    "start_time": "2024-06-27T13:40:03.744Z"
   },
   {
    "duration": 31,
    "start_time": "2024-06-27T13:40:03.766Z"
   },
   {
    "duration": 28,
    "start_time": "2024-06-27T13:40:03.799Z"
   },
   {
    "duration": 36,
    "start_time": "2024-06-27T13:40:03.829Z"
   },
   {
    "duration": 45,
    "start_time": "2024-06-27T13:40:03.866Z"
   },
   {
    "duration": 17,
    "start_time": "2024-06-27T13:40:03.913Z"
   },
   {
    "duration": 22,
    "start_time": "2024-06-27T13:40:03.932Z"
   },
   {
    "duration": 14,
    "start_time": "2024-06-27T13:40:03.955Z"
   },
   {
    "duration": 29,
    "start_time": "2024-06-27T13:40:03.971Z"
   },
   {
    "duration": 922,
    "start_time": "2024-06-27T13:40:04.002Z"
   },
   {
    "duration": 17,
    "start_time": "2024-06-27T13:40:04.925Z"
   },
   {
    "duration": 388,
    "start_time": "2024-06-27T13:40:04.944Z"
   },
   {
    "duration": 11,
    "start_time": "2024-06-27T13:40:05.333Z"
   },
   {
    "duration": 13,
    "start_time": "2024-06-27T13:40:05.346Z"
   },
   {
    "duration": 286,
    "start_time": "2024-06-27T13:40:05.361Z"
   },
   {
    "duration": 4,
    "start_time": "2024-06-27T13:40:05.649Z"
   },
   {
    "duration": 290,
    "start_time": "2024-06-27T13:40:05.654Z"
   },
   {
    "duration": 280,
    "start_time": "2024-06-27T13:40:05.945Z"
   },
   {
    "duration": 11,
    "start_time": "2024-06-27T13:40:06.226Z"
   },
   {
    "duration": 24,
    "start_time": "2024-06-27T13:40:06.239Z"
   },
   {
    "duration": 188,
    "start_time": "2024-06-27T13:40:06.267Z"
   },
   {
    "duration": 151,
    "start_time": "2024-06-27T13:40:06.457Z"
   },
   {
    "duration": 5,
    "start_time": "2024-06-27T13:40:06.609Z"
   },
   {
    "duration": 54,
    "start_time": "2024-06-27T13:40:06.615Z"
   },
   {
    "duration": 11,
    "start_time": "2024-06-27T13:40:06.670Z"
   },
   {
    "duration": 348,
    "start_time": "2024-06-27T13:40:06.682Z"
   },
   {
    "duration": 12,
    "start_time": "2024-06-27T13:40:07.031Z"
   },
   {
    "duration": 305,
    "start_time": "2024-06-27T13:40:07.044Z"
   },
   {
    "duration": 12,
    "start_time": "2024-06-27T13:40:07.351Z"
   },
   {
    "duration": 28,
    "start_time": "2024-06-27T13:40:07.365Z"
   },
   {
    "duration": 617,
    "start_time": "2024-06-27T13:40:07.394Z"
   },
   {
    "duration": 34,
    "start_time": "2024-06-27T13:40:08.012Z"
   },
   {
    "duration": 467,
    "start_time": "2024-06-27T13:40:08.047Z"
   },
   {
    "duration": 29,
    "start_time": "2024-06-27T13:40:08.516Z"
   },
   {
    "duration": 294,
    "start_time": "2024-06-27T13:40:08.546Z"
   },
   {
    "duration": 10,
    "start_time": "2024-06-27T13:40:08.842Z"
   },
   {
    "duration": 13,
    "start_time": "2024-06-27T13:40:08.853Z"
   },
   {
    "duration": 30,
    "start_time": "2024-06-27T13:40:08.867Z"
   },
   {
    "duration": 11,
    "start_time": "2024-06-27T13:40:08.898Z"
   },
   {
    "duration": 10,
    "start_time": "2024-06-27T13:50:35.473Z"
   },
   {
    "duration": 332,
    "start_time": "2024-06-27T13:51:35.108Z"
   },
   {
    "duration": 10,
    "start_time": "2024-06-27T13:57:16.153Z"
   },
   {
    "duration": 329,
    "start_time": "2024-06-27T13:57:28.782Z"
   },
   {
    "duration": 317,
    "start_time": "2024-06-27T13:57:35.153Z"
   },
   {
    "duration": 13,
    "start_time": "2024-06-27T14:02:20.560Z"
   },
   {
    "duration": 258,
    "start_time": "2024-06-27T14:06:52.864Z"
   },
   {
    "duration": 268,
    "start_time": "2024-06-27T14:07:05.789Z"
   },
   {
    "duration": 328,
    "start_time": "2024-06-27T14:07:20.028Z"
   },
   {
    "duration": 5,
    "start_time": "2024-06-27T14:15:16.274Z"
   },
   {
    "duration": 3821,
    "start_time": "2024-06-27T14:15:28.531Z"
   },
   {
    "duration": 73,
    "start_time": "2024-06-27T14:15:32.354Z"
   },
   {
    "duration": 12,
    "start_time": "2024-06-27T14:15:32.429Z"
   },
   {
    "duration": 1021,
    "start_time": "2024-06-27T14:15:32.443Z"
   },
   {
    "duration": 490,
    "start_time": "2024-06-27T14:15:33.466Z"
   },
   {
    "duration": 25,
    "start_time": "2024-06-27T14:15:33.958Z"
   },
   {
    "duration": 4,
    "start_time": "2024-06-27T14:15:33.985Z"
   },
   {
    "duration": 38,
    "start_time": "2024-06-27T14:15:33.990Z"
   },
   {
    "duration": 21,
    "start_time": "2024-06-27T14:15:34.029Z"
   },
   {
    "duration": 23,
    "start_time": "2024-06-27T14:15:34.052Z"
   },
   {
    "duration": 7,
    "start_time": "2024-06-27T14:15:34.076Z"
   },
   {
    "duration": 42,
    "start_time": "2024-06-27T14:15:34.084Z"
   },
   {
    "duration": 17,
    "start_time": "2024-06-27T14:15:34.127Z"
   },
   {
    "duration": 32,
    "start_time": "2024-06-27T14:15:34.146Z"
   },
   {
    "duration": 14,
    "start_time": "2024-06-27T14:15:34.179Z"
   },
   {
    "duration": 32,
    "start_time": "2024-06-27T14:15:34.195Z"
   },
   {
    "duration": 995,
    "start_time": "2024-06-27T14:15:34.228Z"
   },
   {
    "duration": 18,
    "start_time": "2024-06-27T14:15:35.224Z"
   },
   {
    "duration": 376,
    "start_time": "2024-06-27T14:15:35.244Z"
   },
   {
    "duration": 14,
    "start_time": "2024-06-27T14:15:35.621Z"
   },
   {
    "duration": 14,
    "start_time": "2024-06-27T14:15:35.636Z"
   },
   {
    "duration": 296,
    "start_time": "2024-06-27T14:15:35.652Z"
   },
   {
    "duration": 4,
    "start_time": "2024-06-27T14:15:35.950Z"
   },
   {
    "duration": 372,
    "start_time": "2024-06-27T14:15:35.956Z"
   },
   {
    "duration": 283,
    "start_time": "2024-06-27T14:15:36.330Z"
   },
   {
    "duration": 12,
    "start_time": "2024-06-27T14:15:36.615Z"
   },
   {
    "duration": 23,
    "start_time": "2024-06-27T14:15:36.629Z"
   },
   {
    "duration": 144,
    "start_time": "2024-06-27T14:15:36.655Z"
   },
   {
    "duration": 149,
    "start_time": "2024-06-27T14:15:36.801Z"
   },
   {
    "duration": 6,
    "start_time": "2024-06-27T14:15:36.951Z"
   },
   {
    "duration": 47,
    "start_time": "2024-06-27T14:15:36.958Z"
   },
   {
    "duration": 22,
    "start_time": "2024-06-27T14:15:37.007Z"
   },
   {
    "duration": 334,
    "start_time": "2024-06-27T14:15:37.031Z"
   },
   {
    "duration": 11,
    "start_time": "2024-06-27T14:15:37.366Z"
   },
   {
    "duration": 358,
    "start_time": "2024-06-27T14:15:37.378Z"
   },
   {
    "duration": 14,
    "start_time": "2024-06-27T14:15:37.737Z"
   },
   {
    "duration": 34,
    "start_time": "2024-06-27T14:15:37.752Z"
   },
   {
    "duration": 612,
    "start_time": "2024-06-27T14:15:37.788Z"
   },
   {
    "duration": 40,
    "start_time": "2024-06-27T14:15:38.401Z"
   },
   {
    "duration": 479,
    "start_time": "2024-06-27T14:15:38.442Z"
   },
   {
    "duration": 28,
    "start_time": "2024-06-27T14:15:38.922Z"
   },
   {
    "duration": 304,
    "start_time": "2024-06-27T14:15:38.951Z"
   },
   {
    "duration": 10,
    "start_time": "2024-06-27T14:15:39.257Z"
   },
   {
    "duration": 20,
    "start_time": "2024-06-27T14:15:39.269Z"
   },
   {
    "duration": 11,
    "start_time": "2024-06-27T14:15:39.291Z"
   },
   {
    "duration": 25,
    "start_time": "2024-06-27T14:15:39.303Z"
   },
   {
    "duration": 24,
    "start_time": "2024-06-27T14:17:02.344Z"
   },
   {
    "duration": 423,
    "start_time": "2024-06-27T14:17:21.150Z"
   },
   {
    "duration": 436,
    "start_time": "2024-06-27T14:18:11.737Z"
   },
   {
    "duration": 419,
    "start_time": "2024-06-27T14:18:35.950Z"
   },
   {
    "duration": 424,
    "start_time": "2024-06-27T14:19:19.563Z"
   },
   {
    "duration": 10,
    "start_time": "2024-06-27T14:22:48.708Z"
   },
   {
    "duration": 52,
    "start_time": "2024-06-27T14:23:16.052Z"
   },
   {
    "duration": 10,
    "start_time": "2024-06-27T14:23:19.384Z"
   },
   {
    "duration": 14,
    "start_time": "2024-06-27T14:23:42.595Z"
   },
   {
    "duration": 23,
    "start_time": "2024-06-27T14:25:12.089Z"
   },
   {
    "duration": 506,
    "start_time": "2024-06-27T14:25:26.468Z"
   },
   {
    "duration": 20,
    "start_time": "2024-06-27T14:25:53.768Z"
   },
   {
    "duration": 252,
    "start_time": "2024-06-27T14:25:58.785Z"
   },
   {
    "duration": 477,
    "start_time": "2024-06-27T14:28:44.933Z"
   },
   {
    "duration": 20,
    "start_time": "2024-06-27T14:36:51.370Z"
   },
   {
    "duration": 450,
    "start_time": "2024-06-27T14:36:54.378Z"
   },
   {
    "duration": 19,
    "start_time": "2024-06-27T14:50:17.307Z"
   },
   {
    "duration": 452,
    "start_time": "2024-06-27T14:50:19.149Z"
   },
   {
    "duration": 18,
    "start_time": "2024-06-27T14:50:28.488Z"
   },
   {
    "duration": 290,
    "start_time": "2024-06-27T14:50:32.124Z"
   },
   {
    "duration": 13,
    "start_time": "2024-06-27T15:45:04.618Z"
   },
   {
    "duration": 3804,
    "start_time": "2024-06-27T15:48:03.212Z"
   },
   {
    "duration": 73,
    "start_time": "2024-06-27T15:48:07.018Z"
   },
   {
    "duration": 14,
    "start_time": "2024-06-27T15:48:07.093Z"
   },
   {
    "duration": 1016,
    "start_time": "2024-06-27T15:48:07.109Z"
   },
   {
    "duration": 496,
    "start_time": "2024-06-27T15:48:08.128Z"
   },
   {
    "duration": 25,
    "start_time": "2024-06-27T15:48:08.626Z"
   },
   {
    "duration": 7,
    "start_time": "2024-06-27T15:48:08.653Z"
   },
   {
    "duration": 41,
    "start_time": "2024-06-27T15:48:08.662Z"
   },
   {
    "duration": 37,
    "start_time": "2024-06-27T15:48:08.705Z"
   },
   {
    "duration": 40,
    "start_time": "2024-06-27T15:48:08.743Z"
   },
   {
    "duration": 28,
    "start_time": "2024-06-27T15:48:08.785Z"
   },
   {
    "duration": 82,
    "start_time": "2024-06-27T15:48:08.815Z"
   },
   {
    "duration": 25,
    "start_time": "2024-06-27T15:48:08.899Z"
   },
   {
    "duration": 21,
    "start_time": "2024-06-27T15:48:08.928Z"
   },
   {
    "duration": 15,
    "start_time": "2024-06-27T15:48:08.950Z"
   },
   {
    "duration": 80,
    "start_time": "2024-06-27T15:48:08.966Z"
   },
   {
    "duration": 1072,
    "start_time": "2024-06-27T15:48:09.048Z"
   },
   {
    "duration": 19,
    "start_time": "2024-06-27T15:48:10.122Z"
   },
   {
    "duration": 374,
    "start_time": "2024-06-27T15:48:10.143Z"
   },
   {
    "duration": 17,
    "start_time": "2024-06-27T15:48:10.519Z"
   },
   {
    "duration": 5,
    "start_time": "2024-06-27T15:48:10.538Z"
   },
   {
    "duration": 303,
    "start_time": "2024-06-27T15:48:10.544Z"
   },
   {
    "duration": 5,
    "start_time": "2024-06-27T15:48:10.849Z"
   },
   {
    "duration": 283,
    "start_time": "2024-06-27T15:48:10.863Z"
   },
   {
    "duration": 275,
    "start_time": "2024-06-27T15:48:11.148Z"
   },
   {
    "duration": 10,
    "start_time": "2024-06-27T15:48:11.425Z"
   },
   {
    "duration": 14,
    "start_time": "2024-06-27T15:48:11.437Z"
   },
   {
    "duration": 150,
    "start_time": "2024-06-27T15:48:11.453Z"
   },
   {
    "duration": 140,
    "start_time": "2024-06-27T15:48:11.605Z"
   },
   {
    "duration": 5,
    "start_time": "2024-06-27T15:48:11.746Z"
   },
   {
    "duration": 37,
    "start_time": "2024-06-27T15:48:11.752Z"
   },
   {
    "duration": 31,
    "start_time": "2024-06-27T15:48:11.790Z"
   },
   {
    "duration": 438,
    "start_time": "2024-06-27T15:48:11.823Z"
   },
   {
    "duration": 10,
    "start_time": "2024-06-27T15:48:12.263Z"
   },
   {
    "duration": 466,
    "start_time": "2024-06-27T15:48:12.275Z"
   },
   {
    "duration": 14,
    "start_time": "2024-06-27T15:48:12.743Z"
   },
   {
    "duration": 27,
    "start_time": "2024-06-27T15:48:12.758Z"
   },
   {
    "duration": 496,
    "start_time": "2024-06-27T15:48:12.786Z"
   },
   {
    "duration": 19,
    "start_time": "2024-06-27T15:48:13.283Z"
   },
   {
    "duration": 483,
    "start_time": "2024-06-27T15:48:13.303Z"
   },
   {
    "duration": 20,
    "start_time": "2024-06-27T15:48:13.791Z"
   },
   {
    "duration": 268,
    "start_time": "2024-06-27T15:48:13.813Z"
   },
   {
    "duration": 13,
    "start_time": "2024-06-27T15:48:14.082Z"
   },
   {
    "duration": 27,
    "start_time": "2024-06-27T15:48:14.096Z"
   },
   {
    "duration": 19,
    "start_time": "2024-06-27T15:48:14.124Z"
   },
   {
    "duration": 17,
    "start_time": "2024-06-27T15:48:14.145Z"
   },
   {
    "duration": 10,
    "start_time": "2024-06-27T15:52:54.360Z"
   },
   {
    "duration": 10,
    "start_time": "2024-06-27T15:55:18.713Z"
   },
   {
    "duration": 11,
    "start_time": "2024-06-27T15:55:22.027Z"
   },
   {
    "duration": 10,
    "start_time": "2024-06-27T15:55:52.597Z"
   },
   {
    "duration": 8,
    "start_time": "2024-06-27T15:57:00.558Z"
   },
   {
    "duration": 7,
    "start_time": "2024-06-27T16:02:26.432Z"
   },
   {
    "duration": 9,
    "start_time": "2024-06-27T16:06:04.716Z"
   },
   {
    "duration": 3837,
    "start_time": "2024-06-27T16:09:19.267Z"
   },
   {
    "duration": 76,
    "start_time": "2024-06-27T16:09:23.106Z"
   },
   {
    "duration": 13,
    "start_time": "2024-06-27T16:09:23.184Z"
   },
   {
    "duration": 1049,
    "start_time": "2024-06-27T16:09:23.199Z"
   },
   {
    "duration": 501,
    "start_time": "2024-06-27T16:09:24.250Z"
   },
   {
    "duration": 25,
    "start_time": "2024-06-27T16:09:24.752Z"
   },
   {
    "duration": 5,
    "start_time": "2024-06-27T16:09:24.778Z"
   },
   {
    "duration": 37,
    "start_time": "2024-06-27T16:09:24.784Z"
   },
   {
    "duration": 19,
    "start_time": "2024-06-27T16:09:24.822Z"
   },
   {
    "duration": 21,
    "start_time": "2024-06-27T16:09:24.844Z"
   },
   {
    "duration": 25,
    "start_time": "2024-06-27T16:09:24.866Z"
   },
   {
    "duration": 15,
    "start_time": "2024-06-27T16:09:24.892Z"
   },
   {
    "duration": 17,
    "start_time": "2024-06-27T16:09:24.919Z"
   },
   {
    "duration": 18,
    "start_time": "2024-06-27T16:09:24.938Z"
   },
   {
    "duration": 15,
    "start_time": "2024-06-27T16:09:24.957Z"
   },
   {
    "duration": 19,
    "start_time": "2024-06-27T16:09:24.973Z"
   },
   {
    "duration": 934,
    "start_time": "2024-06-27T16:09:24.994Z"
   },
   {
    "duration": 16,
    "start_time": "2024-06-27T16:09:25.930Z"
   },
   {
    "duration": 375,
    "start_time": "2024-06-27T16:09:25.948Z"
   },
   {
    "duration": 14,
    "start_time": "2024-06-27T16:09:26.325Z"
   },
   {
    "duration": 4,
    "start_time": "2024-06-27T16:09:26.340Z"
   },
   {
    "duration": 274,
    "start_time": "2024-06-27T16:09:26.345Z"
   },
   {
    "duration": 3,
    "start_time": "2024-06-27T16:09:26.621Z"
   },
   {
    "duration": 273,
    "start_time": "2024-06-27T16:09:26.626Z"
   },
   {
    "duration": 274,
    "start_time": "2024-06-27T16:09:26.901Z"
   },
   {
    "duration": 15,
    "start_time": "2024-06-27T16:09:27.177Z"
   },
   {
    "duration": 15,
    "start_time": "2024-06-27T16:09:27.193Z"
   },
   {
    "duration": 148,
    "start_time": "2024-06-27T16:09:27.221Z"
   },
   {
    "duration": 146,
    "start_time": "2024-06-27T16:09:27.371Z"
   },
   {
    "duration": 5,
    "start_time": "2024-06-27T16:09:27.518Z"
   },
   {
    "duration": 37,
    "start_time": "2024-06-27T16:09:27.525Z"
   },
   {
    "duration": 10,
    "start_time": "2024-06-27T16:09:27.564Z"
   },
   {
    "duration": 362,
    "start_time": "2024-06-27T16:09:27.576Z"
   },
   {
    "duration": 10,
    "start_time": "2024-06-27T16:09:27.940Z"
   },
   {
    "duration": 404,
    "start_time": "2024-06-27T16:09:27.952Z"
   },
   {
    "duration": 18,
    "start_time": "2024-06-27T16:09:28.358Z"
   },
   {
    "duration": 40,
    "start_time": "2024-06-27T16:09:28.378Z"
   },
   {
    "duration": 509,
    "start_time": "2024-06-27T16:09:28.420Z"
   },
   {
    "duration": 19,
    "start_time": "2024-06-27T16:09:28.931Z"
   },
   {
    "duration": 469,
    "start_time": "2024-06-27T16:09:28.952Z"
   },
   {
    "duration": 19,
    "start_time": "2024-06-27T16:09:29.423Z"
   },
   {
    "duration": 266,
    "start_time": "2024-06-27T16:09:29.444Z"
   },
   {
    "duration": 12,
    "start_time": "2024-06-27T16:09:29.711Z"
   },
   {
    "duration": 10,
    "start_time": "2024-06-27T16:09:29.724Z"
   },
   {
    "duration": 16,
    "start_time": "2024-06-27T16:09:29.736Z"
   },
   {
    "duration": 15,
    "start_time": "2024-06-27T16:09:29.753Z"
   },
   {
    "duration": 4671,
    "start_time": "2024-06-27T16:45:05.128Z"
   },
   {
    "duration": 79,
    "start_time": "2024-06-27T16:45:09.801Z"
   },
   {
    "duration": 16,
    "start_time": "2024-06-27T16:45:09.882Z"
   },
   {
    "duration": 1268,
    "start_time": "2024-06-27T16:45:09.900Z"
   },
   {
    "duration": 565,
    "start_time": "2024-06-27T16:45:11.169Z"
   },
   {
    "duration": 39,
    "start_time": "2024-06-27T16:45:11.736Z"
   },
   {
    "duration": 17,
    "start_time": "2024-06-27T16:45:11.776Z"
   },
   {
    "duration": 24,
    "start_time": "2024-06-27T16:45:11.795Z"
   },
   {
    "duration": 21,
    "start_time": "2024-06-27T16:45:11.821Z"
   },
   {
    "duration": 32,
    "start_time": "2024-06-27T16:45:11.844Z"
   },
   {
    "duration": 8,
    "start_time": "2024-06-27T16:45:11.877Z"
   },
   {
    "duration": 19,
    "start_time": "2024-06-27T16:45:11.887Z"
   },
   {
    "duration": 19,
    "start_time": "2024-06-27T16:45:11.908Z"
   },
   {
    "duration": 52,
    "start_time": "2024-06-27T16:45:11.928Z"
   },
   {
    "duration": 19,
    "start_time": "2024-06-27T16:45:11.982Z"
   },
   {
    "duration": 14,
    "start_time": "2024-06-27T16:45:12.003Z"
   },
   {
    "duration": 1126,
    "start_time": "2024-06-27T16:45:12.019Z"
   },
   {
    "duration": 26,
    "start_time": "2024-06-27T16:45:13.146Z"
   },
   {
    "duration": 417,
    "start_time": "2024-06-27T16:45:13.173Z"
   },
   {
    "duration": 15,
    "start_time": "2024-06-27T16:45:13.591Z"
   },
   {
    "duration": 5,
    "start_time": "2024-06-27T16:45:13.607Z"
   },
   {
    "duration": 304,
    "start_time": "2024-06-27T16:45:13.613Z"
   },
   {
    "duration": 4,
    "start_time": "2024-06-27T16:45:13.919Z"
   },
   {
    "duration": 340,
    "start_time": "2024-06-27T16:45:13.925Z"
   },
   {
    "duration": 309,
    "start_time": "2024-06-27T16:45:14.267Z"
   },
   {
    "duration": 14,
    "start_time": "2024-06-27T16:45:14.577Z"
   },
   {
    "duration": 13,
    "start_time": "2024-06-27T16:45:14.593Z"
   },
   {
    "duration": 178,
    "start_time": "2024-06-27T16:45:14.609Z"
   },
   {
    "duration": 173,
    "start_time": "2024-06-27T16:45:14.788Z"
   },
   {
    "duration": 5,
    "start_time": "2024-06-27T16:45:14.963Z"
   },
   {
    "duration": 44,
    "start_time": "2024-06-27T16:45:14.969Z"
   },
   {
    "duration": 11,
    "start_time": "2024-06-27T16:45:15.015Z"
   },
   {
    "duration": 447,
    "start_time": "2024-06-27T16:45:15.028Z"
   },
   {
    "duration": 11,
    "start_time": "2024-06-27T16:45:15.477Z"
   },
   {
    "duration": 403,
    "start_time": "2024-06-27T16:45:15.490Z"
   },
   {
    "duration": 16,
    "start_time": "2024-06-27T16:45:15.895Z"
   },
   {
    "duration": 29,
    "start_time": "2024-06-27T16:45:15.912Z"
   },
   {
    "duration": 588,
    "start_time": "2024-06-27T16:45:15.942Z"
   },
   {
    "duration": 29,
    "start_time": "2024-06-27T16:45:16.532Z"
   },
   {
    "duration": 542,
    "start_time": "2024-06-27T16:45:16.563Z"
   },
   {
    "duration": 21,
    "start_time": "2024-06-27T16:45:17.106Z"
   },
   {
    "duration": 315,
    "start_time": "2024-06-27T16:45:17.129Z"
   },
   {
    "duration": 13,
    "start_time": "2024-06-27T16:45:17.447Z"
   },
   {
    "duration": 107,
    "start_time": "2024-06-27T16:45:17.462Z"
   },
   {
    "duration": 10,
    "start_time": "2024-06-27T16:45:17.570Z"
   },
   {
    "duration": 8,
    "start_time": "2024-06-27T16:45:17.581Z"
   }
  ],
  "kernelspec": {
   "display_name": "Python 3 (ipykernel)",
   "language": "python",
   "name": "python3"
  },
  "language_info": {
   "codemirror_mode": {
    "name": "ipython",
    "version": 3
   },
   "file_extension": ".py",
   "mimetype": "text/x-python",
   "name": "python",
   "nbconvert_exporter": "python",
   "pygments_lexer": "ipython3",
   "version": "3.11.7"
  },
  "toc": {
   "base_numbering": 1,
   "nav_menu": {},
   "number_sections": true,
   "sideBar": true,
   "skip_h1_title": true,
   "title_cell": "Table of Contents",
   "title_sidebar": "Contents",
   "toc_cell": false,
   "toc_position": {},
   "toc_section_display": true,
   "toc_window_display": false
  }
 },
 "nbformat": 4,
 "nbformat_minor": 4
}
